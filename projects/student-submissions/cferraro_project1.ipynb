{
 "cells": [
  {
   "cell_type": "code",
   "execution_count": 1,
   "metadata": {},
   "outputs": [],
   "source": [
    "#Creating two complete list of 3 Digit Numbers \n",
    "numbers_1 = list(range(100,1000))\n",
    "numbers_2 = list(range(100,1000))\n",
    "numbers_products = []\n",
    "palindromes = []\n",
    "def palindromer():\n",
    "#This function returns the largest palindrome from the product of 2 three digit numbers\n",
    "        for i in numbers_1:\n",
    "            for j in numbers_2: \n",
    "                product = i * j\n",
    "                numbers_products.append(product)  #creating list of all product combinations of three digit numbers\n",
    "        for k in numbers_products:\n",
    "            if str(k) == str(k)[::-1]:          #creating list of all palindromes from those combinations\n",
    "                palindromes.append(k)\n",
    "        print(palindromes[-1])                 #printing the largest number in that list"
   ]
  },
  {
   "cell_type": "code",
   "execution_count": 2,
   "metadata": {},
   "outputs": [
    {
     "name": "stdout",
     "output_type": "stream",
     "text": [
      "580085\n"
     ]
    }
   ],
   "source": [
    "palindromer()"
   ]
  },
  {
   "cell_type": "code",
   "execution_count": 3,
   "metadata": {},
   "outputs": [],
   "source": [
    "#function that sums all the primes below 2000\n",
    "def primer(x):\n",
    "    start = 2\n",
    "    end = x\n",
    "    primes = []\n",
    "    for n in range(start, end + 1):  \n",
    "        for k in range(2, n): \n",
    "            if (n % k) == 0: \n",
    "                break\n",
    "        else: \n",
    "            primes.append(n)\n",
    "    print(sum(primes))"
   ]
  },
  {
   "cell_type": "code",
   "execution_count": 4,
   "metadata": {},
   "outputs": [
    {
     "name": "stdout",
     "output_type": "stream",
     "text": [
      "277050\n"
     ]
    }
   ],
   "source": [
    "primer(2000)"
   ]
  },
  {
   "cell_type": "code",
   "execution_count": 5,
   "metadata": {},
   "outputs": [
    {
     "data": {
      "text/plain": [
       "233168"
      ]
     },
     "execution_count": 5,
     "metadata": {},
     "output_type": "execute_result"
    }
   ],
   "source": [
    "#create list of numbers from 3-1000\n",
    "numbers = list(range(3,1001))\n",
    "#use loop to create a list of numbers that are divisible by 3\n",
    "threes = []\n",
    "for i in numbers:\n",
    "    if i % 3 == 0:\n",
    "        threes.append(i)\n",
    "#do same procedure for multiples of five\n",
    "fives = []\n",
    "for i in numbers:\n",
    "    if i % 5 == 0:\n",
    "        fives.append(i)\n",
    "#remove 1000 since we are looking for numbers below 1000\n",
    "fives.remove(1000)\n",
    "#create a new list by adding any elements of threes that are not in fives\n",
    "combo = fives\n",
    "for i in threes:\n",
    "    if i % 5 != 0:\n",
    "        combo.append(i)\n",
    "#take sum of new list\n",
    "sum(combo)"
   ]
  },
  {
   "cell_type": "code",
   "execution_count": 6,
   "metadata": {},
   "outputs": [],
   "source": [
    "#Creating a Compressor to convert all strings into new format compressed strings\n",
    "def compressor(word):\n",
    "#Converting the string to all lowercase first, so we can make the compressor case insensitive\n",
    "    string_1 = word\n",
    "    string_2 = string_1.lower()\n",
    "#Now we have string_2 in all lower,case which we can now convert:\n",
    "    string_3 = ''\n",
    "    counter = 1\n",
    "#The first letter of the word will always be the same, compressed or not\n",
    "    string_3 += string_2[0]\n",
    "    for i in range(len(string_2)-1):  #looking at all characters in the word before the very last character  \n",
    "        if(string_2[i] == string_2[i+1]):  #if character is same as next one, you add to the counter until it stops counter\n",
    "            counter += 1\n",
    "        else:\n",
    "            if (counter > 1):       #at which point, if counter is greater than 1, it prints the counter, if it isn't then\n",
    "                string_3 += str(counter)\n",
    "            string_3 += string_2[i+1]  #you print the next letter instead, and then reset counter back to 1\n",
    "            counter = 1\n",
    "    if (counter > 1):            #for the very last letter, if the previous letter is a repeat, then you print the counter\n",
    "        string_3 += str(counter)  #otherwise you just print the last latter\n",
    "        \n",
    "    if len(string_3) < len(string_2):   #checking if compressed string is less smaller than original string\n",
    "        print(string_3)\n",
    "    else:\n",
    "        print(string_2)"
   ]
  },
  {
   "cell_type": "code",
   "execution_count": 7,
   "metadata": {},
   "outputs": [
    {
     "name": "stdout",
     "output_type": "stream",
     "text": [
      "a5b3c4i4s4a2d3\n"
     ]
    }
   ],
   "source": [
    "compressor('aaaaabbbcccciiiissssaaddd')"
   ]
  },
  {
   "cell_type": "code",
   "execution_count": null,
   "metadata": {},
   "outputs": [],
   "source": []
  }
 ],
 "metadata": {
  "kernelspec": {
   "display_name": "Python 3",
   "language": "python",
   "name": "python3"
  },
  "language_info": {
   "codemirror_mode": {
    "name": "ipython",
    "version": 3
   },
   "file_extension": ".py",
   "mimetype": "text/x-python",
   "name": "python",
   "nbconvert_exporter": "python",
   "pygments_lexer": "ipython3",
   "version": "3.7.4"
  }
 },
 "nbformat": 4,
 "nbformat_minor": 2
}
