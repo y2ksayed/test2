{
 "cells": [
  {
   "cell_type": "code",
   "execution_count": null,
   "metadata": {},
   "outputs": [],
   "source": [
    "Colleen McGroarty Upload "
   ]
  },
  {
   "cell_type": "code",
   "execution_count": 38,
   "metadata": {},
   "outputs": [
    {
     "name": "stdout",
     "output_type": "stream",
     "text": [
      "906609\n"
     ]
    }
   ],
   "source": [
    "## Question 1: Palindromes \n",
    "def three_palin(n):\n",
    "    n_is_str = str(n)\n",
    "    n_is_rev_str = n_is_str[::-1]\n",
    "    n_is_rev_num = int(n_is_rev_str)\n",
    "    \n",
    "    if n_is_rev_num == n:\n",
    "        return True\n",
    "    else:\n",
    "        return False\n",
    "        \n",
    "three_digit_nums = []\n",
    "for x in range(100,1000):\n",
    "    for y in range(100,1000):\n",
    "        three_digit_nums.append(x*y)\n",
    "\n",
    "palin_nums = []\n",
    "for num in three_digit_nums:\n",
    "    if three_palin(num) == True:\n",
    "        palin_nums.append(num)\n",
    "        \n",
    "print(max(palin_nums))\n",
    "    \n",
    "\n",
    "##I start by creating a function with the argument (n). I next created strings for the different string number types needed.\n",
    "##THe second string in the function uses the ::-1 to reverse back through the string every character/number \n",
    "##The third string uses the int() to return an integer \n",
    "##The If statement will run through to check is the string equals n\n",
    "##I create an empty list using []\n",
    "##I then create a for statement to check both the variables x and y in range 100 to 1000 (keeping it to a 3 digit number)and append the list with the product of the two variables\n",
    "##In the final section I create a new empty list and use a new for statement to match the previous two code sections together. This part checks whehter it is a palindrome and also makes sure it is the product of 2 thre digit numbers\n",
    "##The final line of code calculates the highest product using max() to get 906609"
   ]
  },
  {
   "cell_type": "code",
   "execution_count": 41,
   "metadata": {},
   "outputs": [
    {
     "name": "stdout",
     "output_type": "stream",
     "text": [
      "277050\n"
     ]
    }
   ],
   "source": [
    "## Question 2: Summation of Primes -- Find the sum of all the primes below 2,000\n",
    "\n",
    "def prime_sum(p):\n",
    "    prime_list = []\n",
    "    \n",
    "    for x in range(1,p+1):\n",
    "        if p % x == 0:\n",
    "            prime_list.append(x)\n",
    "            \n",
    "    if prime_list == [1,x]:\n",
    "        return True\n",
    "    else:\n",
    "        return False\n",
    "    \n",
    "primes_sum = 0 \n",
    "for x in range (2,2001):\n",
    "    if prime_sum(x) == True:\n",
    "        primes_sum = primes_sum + x\n",
    "        \n",
    "print(primes_sum)\n",
    "\n",
    "\n",
    "##I start by creating a function to test whether a number is prime\n",
    "##I create an empty list \n",
    "##I use a for statement to check the list of numbers if p is divisible by x and equals 0\n",
    "##then that number will be appended to the empty list if true \n",
    "##I create another if statement to check whether the divisable numbers are only 1 and itself making it a prime number \n",
    "## the final block of code, i tell it to check all numbers between 2 and 2000 for primes and then add them all together\n",
    "##the final print will print the sum of numbers which was 277050"
   ]
  },
  {
   "cell_type": "code",
   "execution_count": 34,
   "metadata": {},
   "outputs": [
    {
     "name": "stdout",
     "output_type": "stream",
     "text": [
      "233168\n"
     ]
    }
   ],
   "source": [
    "## Question 3: Multiples of 3 and 5 \n",
    "\n",
    "list_1 = []\n",
    "for num in range(1,1000):\n",
    "    if (num % 3 == 0) or (num % 5 == 0):\n",
    "        list_1.append(num)\n",
    "\n",
    "print(sum(list_1))\n",
    "\n",
    "##I created an empty list        \n",
    "##I created the statement to run all numbers between 1 and 1000. \n",
    "##I used the % to find the numbers divisible by 3 or 5. \n",
    "##I added those numbers to my original list using append \n",
    "##I printed the sum of the numbers in that list \n",
    "\n",
    "   "
   ]
  },
  {
   "cell_type": "code",
   "execution_count": 48,
   "metadata": {},
   "outputs": [
    {
     "name": "stdout",
     "output_type": "stream",
     "text": [
      "a2b4c2d1X1x3\n"
     ]
    }
   ],
   "source": [
    "## Question 4: String Compressor \n",
    "\n",
    "def string_compressor(string):\n",
    "    list=\"\"\n",
    "    word = 1\n",
    "    for a in range(1, len(string)):\n",
    "        if string[a] == string[a-1]:\n",
    "            word +=1\n",
    "        else:\n",
    "            list += (string[a-1]+str(word))\n",
    "            word = 1\n",
    "    list += (string[a]+str(word))\n",
    "    \n",
    "    return print(list)\n",
    "\n",
    "string_compressor(\"aabbbbccdXxxx\")\n",
    "\n",
    "\n",
    "#first I define the string and make an empty list using \"\"\n",
    "##I assign the value 1 to word so that each letter counts as 1 to start\n",
    "##I use a for statement in range to go through the length of the string \n",
    "##the if and else statements are used to check each letter in the string and depending on how many of the letters, replace with a number\n",
    "##the list then gets the numbers or letters aded to it depending on the for statement \n",
    "##the final line tests the string \n",
    "##This is case sensitive. to make it case insensitive, i think i'd have to add in a line of code for that to first transfer the line of code to be tested into all one case \n"
   ]
  },
  {
   "cell_type": "code",
   "execution_count": 11,
   "metadata": {
    "collapsed": true
   },
   "outputs": [
    {
     "name": "stdout",
     "output_type": "stream",
     "text": [
      "1\n",
      "2\n",
      "Fizz\n",
      "4\n",
      "Buzz\n",
      "Fizz\n",
      "7\n",
      "8\n",
      "Fizz\n",
      "Buzz\n",
      "11\n",
      "Fizz\n",
      "13\n",
      "14\n",
      "Fizzbuzz\n",
      "16\n",
      "17\n",
      "Fizz\n",
      "19\n",
      "Buzz\n",
      "Fizz\n",
      "22\n",
      "23\n",
      "Fizz\n",
      "Buzz\n",
      "26\n",
      "Fizz\n",
      "28\n",
      "29\n",
      "Fizzbuzz\n",
      "31\n",
      "32\n",
      "Fizz\n",
      "34\n",
      "Buzz\n",
      "Fizz\n",
      "37\n",
      "38\n",
      "Fizz\n",
      "Buzz\n",
      "41\n",
      "Fizz\n",
      "43\n",
      "44\n",
      "Fizzbuzz\n",
      "46\n",
      "47\n",
      "Fizz\n",
      "49\n",
      "Buzz\n",
      "Fizz\n",
      "52\n",
      "53\n",
      "Fizz\n",
      "Buzz\n",
      "56\n",
      "Fizz\n",
      "58\n",
      "59\n",
      "Fizzbuzz\n",
      "61\n",
      "62\n",
      "Fizz\n",
      "64\n",
      "Buzz\n",
      "Fizz\n",
      "67\n",
      "68\n",
      "Fizz\n",
      "Buzz\n",
      "71\n",
      "Fizz\n",
      "73\n",
      "74\n",
      "Fizzbuzz\n",
      "76\n",
      "77\n",
      "Fizz\n",
      "79\n",
      "Buzz\n",
      "Fizz\n",
      "82\n",
      "83\n",
      "Fizz\n",
      "Buzz\n",
      "86\n",
      "Fizz\n",
      "88\n",
      "89\n",
      "Fizzbuzz\n",
      "91\n",
      "92\n",
      "Fizz\n",
      "94\n",
      "Buzz\n",
      "Fizz\n",
      "97\n",
      "98\n",
      "Fizz\n",
      "Buzz\n"
     ]
    }
   ],
   "source": [
    "##Bonus Question \n",
    "\n",
    "for num in range(1, 101):\n",
    "    if num % 15 == 0:\n",
    "        print('Fizzbuzz')\n",
    "    elif num % 3 == 0:\n",
    "        print('Fizz')\n",
    "    elif num % 5 == 0:\n",
    "        print('Buzz')\n",
    "    else:\n",
    "        print(num)\n",
    "        \n",
    "##Explanation: I use a range of 1 to 101 because the range will include the number up to the one listed.\n",
    "## I do the % 15 first to make sure those that are divisable by 3 and 5 get the Fizzbuzz label.\n",
    "##Next I have %3 line and %5 lines separately to print different things depending on whether the number is divisble by 3 or 5. \n"
   ]
  },
  {
   "cell_type": "code",
   "execution_count": null,
   "metadata": {},
   "outputs": [],
   "source": []
  }
 ],
 "metadata": {
  "kernelspec": {
   "display_name": "Python 3",
   "language": "python",
   "name": "python3"
  },
  "language_info": {
   "codemirror_mode": {
    "name": "ipython",
    "version": 3
   },
   "file_extension": ".py",
   "mimetype": "text/x-python",
   "name": "python",
   "nbconvert_exporter": "python",
   "pygments_lexer": "ipython3",
   "version": "3.7.4"
  }
 },
 "nbformat": 4,
 "nbformat_minor": 2
}
