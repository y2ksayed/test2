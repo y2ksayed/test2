{
 "cells": [
  {
   "cell_type": "markdown",
   "metadata": {},
   "source": [
    "<img src=\"http://imgur.com/1ZcRyrc.png\" style=\"float: left; margin: 20px; height: 55px\">\n",
    "\n",
    "## Introduction to Neural Networks\n",
    "\n",
    "_Authors: Justin Pounders (SF), Justin Pounders\n",
    "\n",
    "---\n",
    "\n",
    "In this lesson we will get an overview of basic feed-forward neural networks.  The emphasis will be on terminology and and the fundamental building blocks of these powerful networks.  Later today you will learn how to use Keras, a powerful and (relatively) user-friendly library for building your own networks."
   ]
  },
  {
   "cell_type": "code",
   "execution_count": 1,
   "metadata": {},
   "outputs": [],
   "source": [
    "import math\n",
    "import numpy as np\n",
    "import sklearn\n",
    "import sklearn.datasets\n",
    "import sklearn.linear_model\n",
    "import matplotlib.pyplot as plt\n",
    "\n",
    "%matplotlib inline"
   ]
  },
  {
   "cell_type": "markdown",
   "metadata": {},
   "source": [
    "## Lesson Objectives\n",
    "\n",
    "- Define the main components of a neural network\n",
    "  - Input, output and hidden layers\n",
    "  - Activation functions\n",
    "  - Network topology\n",
    "- Describe how neural networks are trained from a high level, including the following terms\n",
    "  - Feed forward\n",
    "  - Backpropogation\n",
    "  - Loss function\n",
    "  - Learning rate\n",
    "  - Epoch\n",
    "  - Regularization and drop-out"
   ]
  },
  {
   "cell_type": "markdown",
   "metadata": {},
   "source": [
    "# What are Neural Networks?\n",
    "\n",
    "Neural networks, in a single line, attempt to iteratively train a set (or sets) of weights that, when used together, return the most accurate predictions for a set of inputs. Just like many of our past models, the model is trained using a loss function, which our model will attempt to minimize over iterations. Remember that a loss function is some function that takes in our predictions and the actual values and returns some sort of aggregate value that shows how accurate (or not) we were.\n",
    "\n",
    "Neural networks do this by establishing sets of neurons (known as hidden layers) that take in some sort of input(s), apply a weight, and pass that output onward. As we feed more data into the network, it adjusts those weights based on the output of the loss function, until we have highly trained and specific weights.\n",
    "\n",
    "Why does one neuron turn out one way and a second neuron another? That's not generally something we can understand (though attempts have been made, such as Google's [Deep Dream](https://deepdreamgenerator.com/)). You can understand this as a kind of (very advanced) mathematic optimization.\n",
    "\n",
    "![](./images/neuralnet.png)\n",
    "\n",
    "Today, we're going to discuss some of the theory behind Neural Networks, particularly around the topology (the shape) of the network and how we iteratively fit the weights in the network to the data we've seen. We'll also write and investigate a (very small) neural network written using Python and Numpy. The next few days will take us through different types of networks and how we can create them using popular libraries like Keras and Tensorflow."
   ]
  },
  {
   "cell_type": "markdown",
   "metadata": {},
   "source": [
    "## Mapping out a Network"
   ]
  },
  {
   "cell_type": "markdown",
   "metadata": {},
   "source": [
    "There are a lot of moving parts with Neural Networks. We'll be playing along with the very well known [Tensorflow Playground](http://playground.tensorflow.org/) as we talk about the structure of this neural networks. This website simulates a fairly small network in your browser and lets you tweak values and immediately realize their effects."
   ]
  },
  {
   "cell_type": "markdown",
   "metadata": {},
   "source": [
    "### What we know already"
   ]
  },
  {
   "cell_type": "markdown",
   "metadata": {},
   "source": [
    "#### Features\n",
    "\n",
    "Much like our other machine learning techniques, we do need to feed data into the network. For these smaller examples, we won't worry too much about the shape of our data, but typically having data normalized to be on scale between 0 and 1 (or -1 and 1) can help the network find a solution faster than when it would otherwise.\n",
    "\n",
    "#### Outputs\n",
    "\n",
    "Much like other supervised techniques, we need an output at the end as well. In most cases:\n",
    "\n",
    "- for a regression style technique, one output is usually fine\n",
    "- for a classification technique, one output per class is a good idea"
   ]
  },
  {
   "cell_type": "markdown",
   "metadata": {},
   "source": [
    "### New Concepts\n",
    "\n",
    "#### Neurons\n",
    "\n",
    "A neural network (at its core) is built up of different neurons that are linked together. Each takes in either the original input features or some transformed version of them and puts out a value (or set of values). One neuron looks something akin to this:\n",
    "\n",
    "![](./images/perceptron.jpg)"
   ]
  },
  {
   "cell_type": "markdown",
   "metadata": {},
   "source": [
    "Each neuron is going to be the combination of the following:\n",
    "\n",
    "- A **bias** term (akin to a constant or $B_0$ term in a linear regression)\n",
    "- The input terms they've received, each multiplied by a **weight**\n",
    "\n",
    "If our model has one neuron, this looks suspiciously similar to a linear regression:\n",
    "\n",
    "1. take each term\n",
    "2. multiply it by a weight\n",
    "3. sum those new values together \n",
    "4. add an additional bias term\n",
    "\n",
    "That output should, as we train our neural network, get closer and closer to what the output is for that specific set of inputs ($x_1...x_n$). As we'll see, the way we train the network and the way we transform our outputs (plus the number of neurons) distinguishes neural networks from linear regression quite strongly."
   ]
  },
  {
   "cell_type": "markdown",
   "metadata": {},
   "source": [
    "### Hidden Layers\n",
    "\n",
    "What makes neural networks tick is the idea of hidden layers. Hidden does not mean anything particularly devious here, just that it is not the input or the output layer.\n",
    "\n",
    "Hidden layers can have:\n",
    "- any number of neurons per layer \n",
    "- can be of any number in your model**\n",
    "\n",
    "At each layer each neuron in that layer receives the same weight. However, each neuron is going to transform the data in a different way, based on how we assign or change the weights and bias in that neuron. \n",
    "\n",
    "![](./images/neuralnet.png)"
   ]
  },
  {
   "cell_type": "markdown",
   "metadata": {},
   "source": [
    "For the network above, we have two hidden layers and one output layer.\n",
    "\n",
    "- Hidden Layer 1\n",
    "    - 4 Neurons\n",
    "    - Each Neuron has 6 weights and 1 bias term\n",
    "    - Inputs: the original data\n",
    "    - Outputs: one number each\n",
    "- Hidden Layer 2\n",
    "    - 3 Neurons \n",
    "    - Each Neuron has 4 weights and 1 bias term\n",
    "    - Inputs: the four outputs from each Neuron in Hidden Layer 1\n",
    "    - Outputs: one number each\n",
    "- Output Layer\n",
    "    - 1 Neuron\n",
    "    - The one nNuron has 3 weights and 1 bias term\n",
    "    - Inputs: the three outputs from each Neuron in Hidden Layer 2\n",
    "    - Outputs: the final prediction"
   ]
  },
  {
   "cell_type": "markdown",
   "metadata": {},
   "source": [
    "### Check for Understanding 1 (3 Minutes)\n",
    "\n",
    "With a partner, answer the following about the network below:\n",
    "\n",
    "![](./images/percept.png)"
   ]
  },
  {
   "cell_type": "markdown",
   "metadata": {},
   "source": [
    "1. How many layers are in this network? Are they an input, output, or hidden layer? How many neurons are in each layer?\n",
    "2. For your hidden and output layers:\n",
    "    1. How many inputs does each neuron have?\n",
    "    2. How many outputs does each neuron have?"
   ]
  },
  {
   "cell_type": "code",
   "execution_count": null,
   "metadata": {
    "collapsed": true
   },
   "outputs": [],
   "source": []
  },
  {
   "cell_type": "markdown",
   "metadata": {},
   "source": [
    "### Activation\n",
    "\n",
    "So how exactly does information/data propogate through the network?\n",
    "\n",
    "We can write the equation for the activation of the $j$th neuron in the $i$th layer as:\n",
    "\n",
    "### $$ a_j^i = \\sigma \\left( \\sum_k w_{jk}^i a_k^{i-1} + b_j^i \\right)$$\n",
    "\n",
    "There is a decent amount going on in this equation. We will examine the pieces.\n",
    "\n",
    "- $a_j^i$ represents the activation of the $j$th neuron in the $i$th layer. Note that the superscript corresponds to the layer number and the subscript corresponds to the neuron number within the layer.\n",
    "\n",
    "- $a_k^{i-1}$ is the activation of the $k$th neuron in the $i-1$th layer.\n",
    "\n",
    "- $\\sigma$ represents an \"activation function\". More on this later, but it is a function that can transform the activation of neurons. The simplest activation function is the linear activation, $f(x) = x$.\n",
    "\n",
    "- $w_{jk}^i$ represents the weight of the activation in the $k$th neuron in the $i-1$ layer to the $j$th neuron in the $i$th layer. So, $j$ is the destination neuron in the $i$ layer. $k$ is the departure neuron in the previous layer.\n",
    "\n",
    "- $b_j^i$ is the \"bias\" of the $j$th neuron in the $i$th layer. The bias adds a constant to the value of the activation.\n",
    "\n",
    "The gist of the equation is that each neuron is a sum of the weighted activations of neurons that feed into it plus a \"bias\" value, all fed through a final activation function.\n",
    "\n",
    "The formula becomes cleaner in matrix notation. Here is the vectorized version of the formula above:\n",
    "\n",
    "### $$ a^i = f(W^i a^{i-1} + b^i) $$\n",
    "\n",
    "Now there is a weight matrix $W^i$ for each layer $i$. The weight matrix defines the weightings on the previous layer neuron activations to the neurons of the current layer. \n",
    "\n",
    "![](./images/activation.png)\n",
    "\n",
    "Neurons also have an activation function that transforms the output in a certain way. Some common examples are:\n",
    "\n",
    "- [ReLU](https://en.wikipedia.org/wiki/Rectifier_(neural_networks): Also known as a Rectified Linear Unit, this turns the output to 0 if the output would be less than 0 (i.e., take the output and feed it through $f(y) = max(0, y)$). This means that the neuron is activated when its output is positive and not activated otherwise. This has the intuitive effect of turning a neuron \"on\" in certain cases and off in other cases.\n",
    "- [Softmax](https://en.wikipedia.org/wiki/Softmax_function): Used frequently at the output layer, this essentially \"squishes\" a bunch of inputs into a normalized scale of 0-1, which is great for creating something akin to a probability of falling into a given class. \n",
    "- [Sigmoid or Logistic](https://en.wikipedia.org/wiki/Logistic_function): Much like how we transformed the linear regression model to change the output to a zero or one through the use of a logistic or sigmoid function, we can do the same as an activation to squash the output to a scale between 0 and 1. \n",
    "\n",
    "There's a wealth of information on different types of activation functions within [this article](https://en.wikipedia.org/wiki/Activation_function) -- different activation functions, hidden layers, and neurons per layer can change how effective your neural network will be!\n",
    "\n",
    "Typically, we'll apply the weights in our neurons, add the bias and sum all terms, then pass that one value through the activation function, like this:"
   ]
  },
  {
   "cell_type": "code",
   "execution_count": 2,
   "metadata": {},
   "outputs": [],
   "source": [
    "def linear(x):\n",
    "    return x"
   ]
  },
  {
   "cell_type": "code",
   "execution_count": 3,
   "metadata": {},
   "outputs": [],
   "source": [
    "def forward_one_layer(input_layer, weights, biases, activation_function = linear):\n",
    "      \n",
    "    # calculate output layer activations\n",
    "    output_activations = activation_function(np.dot(weights, input_layer) + biases)\n",
    "    \n",
    "    return output_activations"
   ]
  },
  {
   "cell_type": "code",
   "execution_count": 4,
   "metadata": {},
   "outputs": [],
   "source": [
    "input_act = np.random.uniform(-1, 1, size=2)\n",
    "input_to_hidden_weights = np.random.randn(3, 2)\n",
    "hidden_biases = np.ones(3)\n",
    "\n",
    "hidden_act = forward_one_layer(input_act, input_to_hidden_weights, hidden_biases)"
   ]
  },
  {
   "cell_type": "code",
   "execution_count": 7,
   "metadata": {},
   "outputs": [
    {
     "data": {
      "text/plain": [
       "array([1., 1., 1.])"
      ]
     },
     "execution_count": 7,
     "metadata": {},
     "output_type": "execute_result"
    }
   ],
   "source": [
    "hidden_biases"
   ]
  },
  {
   "cell_type": "code",
   "execution_count": 10,
   "metadata": {},
   "outputs": [
    {
     "name": "stdout",
     "output_type": "stream",
     "text": [
      "Input layer =  [ 0.74620829 -0.51044455]\n",
      "Weight matrix = \n",
      "[[-0.89797006 -0.73892793]\n",
      " [-1.00148177  0.90570177]\n",
      " [ 1.03498656 -1.41994916]]\n",
      "Hidden layer =  [ 0.70710903 -0.20962453  2.49712085]\n"
     ]
    }
   ],
   "source": [
    "print('Input layer = ', input_act)\n",
    "print('Weight matrix = ')\n",
    "print(input_to_hidden_weights)\n",
    "print('Hidden layer = ', hidden_act)"
   ]
  },
  {
   "cell_type": "code",
   "execution_count": 11,
   "metadata": {},
   "outputs": [],
   "source": [
    "hidden_to_output_weights = np.random.randn(1,3)\n",
    "output_bias = np.array([-1])"
   ]
  },
  {
   "cell_type": "code",
   "execution_count": 13,
   "metadata": {},
   "outputs": [
    {
     "name": "stdout",
     "output_type": "stream",
     "text": [
      "Output weight matrix =  [[-0.33017916 -0.19678295  0.09236871]]\n",
      "[-1]\n"
     ]
    }
   ],
   "source": [
    "print('Output weight matrix = ', hidden_to_output_weights)\n",
    "print(output_bias)"
   ]
  },
  {
   "cell_type": "code",
   "execution_count": 14,
   "metadata": {},
   "outputs": [
    {
     "data": {
      "text/plain": [
       "array([-0.9615663])"
      ]
     },
     "execution_count": 14,
     "metadata": {},
     "output_type": "execute_result"
    }
   ],
   "source": [
    "hidden_act = forward_one_layer(input_act, input_to_hidden_weights, hidden_biases)\n",
    "output_act = forward_one_layer(hidden_act, hidden_to_output_weights, output_bias)\n",
    "output_act"
   ]
  },
  {
   "cell_type": "markdown",
   "metadata": {},
   "source": [
    "### Picking a Topology for your Network\n",
    "\n",
    "There's no hard and fast rule for how to pick a topology for your neural network. Much like hyperparameters in other machine learning models, we're going to use a combination of experience, research, and exploration to come up with a topology that best suits our unique problem. One good place to start out is to (if you have a smaller set of input features) is a network with:\n",
    "\n",
    "1. The input layer\n",
    "2. One hidden layer with a number of neurons equal to the number of inputs\n",
    "3. One output layer with the appropriate activation function (softmax if you have a classification problem, no activation (or what's known as the identity function ($f(x) = x$) if you have a regression problem\n",
    "\n",
    "See also: [the \"zoo\" neural nets](http://www.asimovinstitute.org/neural-network-zoo/)\n",
    "\n",
    "### Single Layer and Multilayer Perceptrons (SLP and MLP)\n",
    "\n",
    "The types of neural networks that we have discussed so far are known as perceptrons. A single layer perceptron **has no hidden layers** and is just a function of the inputs, weights, a bias term, and an activation function:\n",
    "\n",
    "![](./images/slp.png)\n",
    "\n",
    "Multilayer perceptrons (MLP) have 1 or more hidden layers in addition to their input and output layers. While SLPs are easiest to consider in an abstract sense, MLPs tend to be much more accurate and useful in practice. "
   ]
  },
  {
   "cell_type": "markdown",
   "metadata": {},
   "source": [
    "### Check for Understanding 2 (5 Minutes plus Over Break)\n",
    "\n",
    "Independently or with a partner (your choice) -- pick two of the following activation functions:\n",
    "\n",
    "- Binary Step\n",
    "    - If $x \\le 0$: $f(x) = 0$; else $f(x) = 1$ \n",
    "- ReLU\n",
    "    - If $x \\le 0$: $f(x) = 0$; else $f(x) = x$\n",
    "- Logistic / Sigmoid\n",
    "    - $f(x) = \\frac{1}{1 + e^{-x}}$\n",
    "- TanH\n",
    "    - $f(x) = \\tanh(x) = \\frac{2}{1 + e^{-2x}} - 1$\n",
    "- Softsign\n",
    "    - $f(x)={\\frac {x}{1+|x|}}$\n",
    "    \n",
    "Write a function in Python for each. Your functions should take in one value ($x$) and output the transformed version of $x$. \n",
    "\n",
    "> Note: $e^x$ can be evaluated using `np.exp(x)`."
   ]
  },
  {
   "cell_type": "code",
   "execution_count": 15,
   "metadata": {},
   "outputs": [],
   "source": [
    "# Activation plot\n",
    "def activation_plotter(activation_function):\n",
    "    x = list(range(-10, 11))\n",
    "    y = [activation_function(val) for val in x]\n",
    "    plt.plot(x, y)\n",
    "    plt.ylabel('Activated value for X')\n",
    "    plt.xlabel('X')"
   ]
  },
  {
   "cell_type": "code",
   "execution_count": 16,
   "metadata": {},
   "outputs": [
    {
     "data": {
      "image/png": "[encoded data removed]",
      "text/plain": [
       "<Figure size 432x288 with 1 Axes>"
      ]
     },
     "metadata": {
      "needs_background": "light"
     },
     "output_type": "display_data"
    }
   ],
   "source": [
    "# Binary step\n",
    "def binary_step(x):\n",
    "    if x <= 0:\n",
    "        return 0\n",
    "    else:\n",
    "        return 1\n",
    "\n",
    "activation_plotter(binary_step)"
   ]
  },
  {
   "cell_type": "code",
   "execution_count": null,
   "metadata": {},
   "outputs": [],
   "source": [
    "# ReLU\n"
   ]
  },
  {
   "cell_type": "code",
   "execution_count": 17,
   "metadata": {},
   "outputs": [
    {
     "data": {
      "image/png": "[encoded data removed]",
      "text/plain": [
       "<Figure size 432x288 with 1 Axes>"
      ]
     },
     "metadata": {
      "needs_background": "light"
     },
     "output_type": "display_data"
    }
   ],
   "source": [
    "# Logistic / Sigmoid\n",
    "def logistic(x):\n",
    "    return 1 / (1 + np.exp(-x))\n",
    "\n",
    "activation_plotter(logistic)"
   ]
  },
  {
   "cell_type": "code",
   "execution_count": null,
   "metadata": {},
   "outputs": [],
   "source": [
    "# TanH\n"
   ]
  },
  {
   "cell_type": "code",
   "execution_count": null,
   "metadata": {},
   "outputs": [],
   "source": [
    "# Softsign\n"
   ]
  },
  {
   "cell_type": "markdown",
   "metadata": {},
   "source": [
    "## Training your network\n",
    "\n",
    "So far, we haven't discussed how a neural network assigns the \"right\" weights to each of its neurons. You could imagine a neural network with very bad weights that predicted poorly or, in some cases, completely counter to what it should. How do we train our network to have the right weights?\n",
    "\n",
    "Training our network to have the right weights relies on a couple of topics:\n",
    "\n",
    "1. A loss function that we are trying to optimize the values for\n",
    "2. The concept of forward and backward propogation \n",
    "3. Gradient Descent and a Learning Rate to make iterative changes to the weights"
   ]
  },
  {
   "cell_type": "markdown",
   "metadata": {},
   "source": [
    "### Loss Functions\n",
    "\n",
    "We have encountered [loss functions](https://en.wikipedia.org/wiki/Loss_function) many times before -- they are functions that take in the actual values for the output and what our model predicts those values to be and gives us a value that we are trying to minimize with our model. Examples include:\n",
    "\n",
    "##### Regression: Sum of Squared Errors\n",
    "\n",
    "$$\\sum(y_i - \\hat{y}_i)^2$$\n",
    "\n",
    "##### Classification: Cross entropy, hinge loss\n",
    "\n",
    "We're going to use loss functions in this context to tell us how well or how poorly our Neural Network is doing at assigning correct labels.\n",
    "\n",
    "> Here is a cool [cheat sheet of loss functions](http://ml-cheatsheet.readthedocs.io/en/latest/loss_functions.html)."
   ]
  },
  {
   "cell_type": "markdown",
   "metadata": {},
   "source": [
    "### Forward and Backpropagation \n",
    "\n",
    "When we train our neural network, **we send our data multiple times through the network and tweak the weights each time**. This is an iterative process using forward and backpropagation."
   ]
  },
  {
   "cell_type": "markdown",
   "metadata": {},
   "source": [
    "#### Forward Propagation\n",
    "\n",
    "Forward Propagation is straightforward -- either in batches or as individual observations, pass the training data through the network, applying all the weights, biases, and activation functions as usual. At this point, you should have actual and predicted values.\n",
    "\n",
    "#### Backpropagation\n",
    "\n",
    "What we want to do here is:\n",
    "\n",
    "1. See how far off we were from the truth using the loss function\n",
    "2. Identify which weights in our network are most responsible for how far we are off\n",
    "3. Change all of the weights to make our model more accurate, changing the weights that are \"the worst\" the most\n",
    "\n",
    "This is known as **Backpropagation** -- we are taking the errors we see in our model (as it stands currently) and are distributing them backwards to the rest of the layers. \n",
    "\n",
    "What we'll do is train our data in a number of full passes known as **epochs**. As modelers, we'll choose a number of epochs to train our model, essentially choosing a value to stop where we see no additional change in the accuracy of our models. "
   ]
  },
  {
   "cell_type": "markdown",
   "metadata": {},
   "source": [
    "#### Changing Weights (the Curse of Dimensionality) \n",
    "\n",
    "One question that you may have is \"Why don't we just try all of the weights and decisively find the best one?\" The problem here (which is often known as the curse of dimensionality) is that we have _so many different weights_ to try out (and so many different sets of values to exhaustively attempt) that it's impractical to try all of them. More than being impractical, for larger models with many weights and many possible values, we may still be estimating the \"best\" weights long past the [heat death of the universe](https://en.wikipedia.org/wiki/Heat_death_of_the_universe). \n",
    "\n",
    "#### **Estimating** the Weights \n",
    "\n",
    "What we'll do instead is use gradient descent to help us figure out what direction to tweak our weights. We've discussed gradient descent before, but as a quick primer: \n",
    "\n",
    "> Gradient Descent is an optimization technique to help us find the lowest point (global minima) of a function. The derivative (the rate of change in the function for a small change in the inputs) of a function at a given point tells which direction we would like to change our weights. We'll make changes of a certain size in the right direction until we hit a place where the derivative is zero (i.e., either direction will increase the output of the function) and will consider that our \"best\" place. \n",
    "\n",
    "- **Learning Rate**: The size of the change we make on each pass -- bigger learning rates mean we'll move faster, but may skip over places where there is actually a global minima\n",
    "- **Epoch**: The number of times we pass our data through the fitting process\n",
    "\n",
    "![](./images/gradient.png)\n",
    "\n",
    "For our purposes, the function we're trying to optimize is the loss function from above -- we want the value of that function to be as low as possible. Our loss function is a function of all of the weights in our network. What we'll do in an abstract sense is:\n",
    "\n",
    "1. Take the partial derivative (in other words, changing one weight and not all) of our loss function with respect to each weight in our model\n",
    "2. Based on that derivative, change the weights up or down\n",
    "\n",
    "The actual process is somewhat more complicated than that (see below), but the takeaway is backpropagation **looks at how badly we did on each pass, moves those errors back up the model, and then uses gradient descent to change the weight over a series of iterations**.\n",
    "\n",
    "![](./images/backprop.jpg)\n",
    "\n",
    "##### The Vanishing Gradient Problem\n",
    "\n",
    "One thing to keep in mind (and a good reason to not create networks that are very, very deep) is a phenomenon known as the Vanishing Gradient Problem. For networks with lots of hidden layers, earlier layers train at a much slower rate than layers closer to the output (the gradient \"vanishes\" as it gets deeper into the network, so the weights cannot change as much). That means that it can take a much longer time to train a deeper network without much increase in accuracy. "
   ]
  },
  {
   "cell_type": "markdown",
   "metadata": {},
   "source": [
    "### Tackling Overfitting\n",
    "\n",
    "Do neural networks overfit? Yes, very much so. There are many weights to optimize and we can very quickly reach a point where the weights in each neuron are overfit to our training data (and therefore are limited in how well they predict new data).\n",
    "\n",
    "#### Regularization\n",
    "\n",
    "Just like with linear models earlier in this course, we can also do regularization to make sure our weights are more generalizable. Because we're using our loss function to determine how we should change our weights, if we penalize the loss function to avoid larger weights, we will see the same behavior as we did with linear models -- weights will be large or impactful only if they contribute sufficiently to how well the model fits as a whole. \n",
    "\n",
    "#### Dropout\n",
    "\n",
    "We can also use something known as dropout to tackle overfitting. Dropout will turn off a random percentage of neurons in each pass (user-defined). This prevents each layer from fitting too strongly to a given input and therefore wards off overfitting. \n",
    "\n",
    "![](./images/dropout.png)"
   ]
  },
  {
   "cell_type": "markdown",
   "metadata": {},
   "source": [
    "### Check for Understanding 3 (10 Minutes)\n",
    "\n",
    "In pairs, use the [Tensorflow Playground](http://playground.tensorflow.org/) with the following settings:\n",
    "\n",
    "![](./images/settings.png)\n",
    "\n",
    "> make sure that you're using a classification problem (upper right corner as well!)\n",
    "\n",
    "1. In your own words, define the following and forecast what changing each of them will do to your model?\n",
    "    1. Learning Rate\n",
    "    2. Activation Function\n",
    "    3. Regularization and Regularization Rate\n",
    "2. Work together with the settings established above to create a (mini!) neural network that best predicts test data. Feel free to try any (or all!) of the inputs, any number of neurons, hidden layers, learning rates, regularization parameters, and activation functions. A good place to start is the following:\n",
    "\n",
    "![](./images/starting.png)\n",
    "\n",
    "We'll share our results in Slack after 10 minutes. Include your test loss on the thread. We'll ask the pair with the best score to share their settings for the best possible network. "
   ]
  },
  {
   "cell_type": "code",
   "execution_count": null,
   "metadata": {},
   "outputs": [],
   "source": [
    "# Learning Rate\n"
   ]
  },
  {
   "cell_type": "code",
   "execution_count": null,
   "metadata": {},
   "outputs": [],
   "source": [
    "# Activation Function\n"
   ]
  },
  {
   "cell_type": "code",
   "execution_count": null,
   "metadata": {},
   "outputs": [],
   "source": [
    "# Regularization and Regularization Rate\n"
   ]
  },
  {
   "cell_type": "markdown",
   "metadata": {},
   "source": [
    "### Some of My Previous NN Code "
   ]
  },
  {
   "cell_type": "code",
   "execution_count": 17,
   "metadata": {},
   "outputs": [],
   "source": [
    "import h5py"
   ]
  },
  {
   "cell_type": "code",
   "execution_count": 2,
   "metadata": {},
   "outputs": [],
   "source": [
    "# Activation functions\n",
    "def sigmoid(Z):\n",
    "    A = 1/(1+np.exp(-Z))\n",
    "    cache = Z\n",
    "    \n",
    "    return A, cache\n",
    "\n",
    "def relu(Z):\n",
    "    A = np.maximum(0,Z)\n",
    "    # Assert shape\n",
    "    assert(A.shape == Z.shape)\n",
    "    \n",
    "    cache = Z\n",
    "    return A, cache\n",
    "\n",
    "def relu_backward(dA, cache):\n",
    "    Z = cache\n",
    "    dZ = np.array(dA, copy=True) # just converting dz to a correct object.\n",
    "    # When z <= 0, you should set dz to 0 as well. \n",
    "    dZ[Z <= 0] = 0\n",
    "    # Assert shape\n",
    "    assert (dZ.shape == Z.shape)\n",
    "    \n",
    "    return dZ\n",
    "\n",
    "def sigmoid_backward(dA, cache):\n",
    "    Z = cache\n",
    "    s = 1/(1+np.exp(-Z))\n",
    "    dZ = dA * s * (1-s)\n",
    "    # Assert shape \n",
    "    assert (dZ.shape == Z.shape)\n",
    "    \n",
    "    return dZ"
   ]
  },
  {
   "cell_type": "markdown",
   "metadata": {},
   "source": [
    "#### Manual Neural Network"
   ]
  },
  {
   "cell_type": "code",
   "execution_count": 16,
   "metadata": {},
   "outputs": [],
   "source": [
    "# Load your data in\n",
    "def load_data():\n",
    "    train_dataset = h5py.File('datasets/train_data.h5', \"r\")\n",
    "    # Your training set features\n",
    "    train_set_x_orig = np.array(train_dataset[\"train_set_x\"][:])\n",
    "    # Your training set labels\n",
    "    train_set_y_orig = np.array(train_dataset[\"train_set_y\"][:])\n",
    "    \n",
    "    dev_dataset = h5py.File('datasets/dev_data.h5', \"r\")\n",
    "    # Your development set features\n",
    "    dev_set_x_orig = np.array(dev_dataset[\"dev_set_x\"][:])\n",
    "    # Your development set labels\n",
    "    dev_set_y_orig = np.array(dev_dataset[\"dev_set_y\"][:])\n",
    "    \n",
    "    test_dataset = h5py.File('datasets/test_data.h5', \"r\")\n",
    "    # Your test set features\n",
    "    test_set_x_orig = np.array(test_dataset[\"test_set_x\"][:])\n",
    "    # Your test set labels\n",
    "    test_set_y_orig = np.array(test_dataset[\"test_set_y\"][:])\n",
    "    \n",
    "    train_set_y_orig = train_set_y_orig.reshape((1, train_set_y_orig.shape[0]))\n",
    "    dev_set_y_orig = dev_set_y_orig.reshape((1, dev_set_y_orig.shape[0]))\n",
    "    test_set_y_orig = test_set_y_orig.reshape((1, test_set_y_orig.shape[0]))\n",
    "    \n",
    "    return train_set_x_orig, train_set_y_orig, dev_set_x_orig, dev_set_y_orig, test_set_x_orig, test_set_y_orig"
   ]
  },
  {
   "cell_type": "code",
   "execution_count": 41,
   "metadata": {},
   "outputs": [],
   "source": [
    "# Define NN structure\n",
    "def layer_sizes(train_set_x_orig, train_set_y_orig):\n",
    "    # Size of input layer\n",
    "    n_x = train_set_x_orig.shape[0] \n",
    "    # Size of hidden layer\n",
    "    n_h = 4 \n",
    "    # Size of output layer\n",
    "    n_y = train_set_y_orig.shape[0] \n",
    "    \n",
    "    return(n_x, n_h, n_y)"
   ]
  },
  {
   "cell_type": "code",
   "execution_count": null,
   "metadata": {},
   "outputs": [],
   "source": [
    "# Initialize parameters\n",
    "def initialize_parameters(n_x, n_h, n_y):\n",
    "    W1 = np.random.randn(n_h, n_x)*0.01\n",
    "    b1 = np.zeros((n_h, 1))\n",
    "    W2 = np.random.randn(n_y, n_h)*0.01\n",
    "    b2 = np.zeros((n_y, 1))\n",
    "    \n",
    "    # Assert shape\n",
    "    assert(W1.shape == (n_h, n_x))\n",
    "    assert(b1.shape == (n_h, 1))\n",
    "    assert(W2.shape == (n_y, n_h))\n",
    "    assert(b2.shape == (n_y, 1))\n",
    "    \n",
    "    parameters = {\"W1\": W1, \"b1\": b1, \"W2\": W2, \"b2\": b2}\n",
    "    return parameters "
   ]
  },
  {
   "cell_type": "code",
   "execution_count": null,
   "metadata": {},
   "outputs": [],
   "source": [
    "# Check parameters initialization\n",
    "parameters = initialize_parameters(n_x, n_h, n_y)\n",
    "print(\"W1 = \" + str(parameters[\"W1\"]))\n",
    "print(\"b1 = \" + str(parameters[\"b1\"]))\n",
    "print(\"W2 = \" + str(parameters[\"W2\"]))\n",
    "print(\"b2 = \" + str(parameters[\"b2\"]))"
   ]
  },
  {
   "cell_type": "code",
   "execution_count": 11,
   "metadata": {},
   "outputs": [],
   "source": [
    "# Forward propagation\n",
    "def forward_propagation(X, parameters):\n",
    "    W1 = parameters['W1']\n",
    "    b1 = parameters['b1']\n",
    "    W2 = parameters['W2']\n",
    "    b2 = parameters['b2']\n",
    "    \n",
    "    # Implement forward prop to calculate probabilities\n",
    "    Z1 = np.dot(W1, X) + b1\n",
    "    A1 = np.tanh(Z1)\n",
    "    Z2 = np.dot(W2, A1) + b2\n",
    "    A2 = np.sigmoid(Z2)\n",
    "    \n",
    "    # Assert shape of output, A2\n",
    "    assert(A2.shape == (1, X.shape[1]))\n",
    "    \n",
    "    # Save calculated probabilities to cache\n",
    "    cache = {\"Z1\": Z1, \"A1\": A1, \"Z2\": Z2, \"A2\": A2}\n",
    "    return A2, cache"
   ]
  },
  {
   "cell_type": "code",
   "execution_count": 12,
   "metadata": {},
   "outputs": [],
   "source": [
    "# Check forward calculations\n",
    "A2, cache = forward_propagation(train_set_x_orig, parameters)\n",
    "print(cache['Z1'], cache['A1'], cache['Z2'], cache['A2'])"
   ]
  },
  {
   "cell_type": "code",
   "execution_count": 13,
   "metadata": {},
   "outputs": [],
   "source": [
    "# Compute loss function\n",
    "def compute_cost(A2, Y, parameters):\n",
    "    # Number of examples\n",
    "    m = Y.shape[1]\n",
    "    \n",
    "    # Call from parameters\n",
    "    W1 = parameters['W1']\n",
    "    W2 = parameters['W2']\n",
    "    \n",
    "    # Compute cross-entropy cost\n",
    "    logprobs = np.multiply(np.log(A2),Y) + np.multiply((1 - Y), np.log(1 - A2))\n",
    "    cost = -(1/m) * np.sum(logprobs)\n",
    "    \n",
    "    # Assert cost dimension\n",
    "    cost = np.squeeze(cost)\n",
    "    assert(isinstance(cost, float))\n",
    "    \n",
    "    return cost"
   ]
  },
  {
   "cell_type": "code",
   "execution_count": 14,
   "metadata": {},
   "outputs": [],
   "source": [
    "# Check loss calculation\n",
    "print(\"cost = \" + str(compute_cost(A2, Y, parameters)))"
   ]
  },
  {
   "cell_type": "code",
   "execution_count": null,
   "metadata": {},
   "outputs": [],
   "source": [
    "# Backwards propagation\n",
    "def backward_propagation(parameters, cache, X, Y):\n",
    "    # Call number of examples\n",
    "    m = X.shape[1]\n",
    "    \n",
    "    # Call from parameters\n",
    "    W1 = parameters['W1']\n",
    "    W2 = parameters['W2']\n",
    "    \n",
    "    # Call from cache\n",
    "    A1 = cache['A1']\n",
    "    A2 = cache['A2']\n",
    "    \n",
    "    # Implement backwards prop to calculate gradients\n",
    "    dZ2 = A2 - Y\n",
    "    dW2 = (1/m) * np.dot(dZ2, A1.T)\n",
    "    db2 = (1/m) * np.sum(dZ2, axis = 1, keepdims = True)\n",
    "    dZ1 = np.multiply(np.dot(W2.T, dZ2), 1 - np.power(A1, 2))\n",
    "    dW1 = (1/m) * np.dot(dZ1, X.T)\n",
    "    db1 = (1/m) * np.sum(dZ1, axis = 1, keepdims = True)\n",
    "    \n",
    "    # Save calculated gradients\n",
    "    grads = {\"dW1\": dW1, \"db1\": db1, \"dW2\": dW2, \"db2\": db2}\n",
    "    return grads"
   ]
  },
  {
   "cell_type": "code",
   "execution_count": 10,
   "metadata": {},
   "outputs": [],
   "source": [
    "# Check gradients calculations\n",
    "grads = backward_propagation(parameters, cache, X, Y)\n",
    "print (\"dW1 = \"+ str(grads[\"dW1\"]))\n",
    "print (\"db1 = \"+ str(grads[\"db1\"]))\n",
    "print (\"dW2 = \"+ str(grads[\"dW2\"]))\n",
    "print (\"db2 = \"+ str(grads[\"db2\"]))"
   ]
  },
  {
   "cell_type": "code",
   "execution_count": null,
   "metadata": {},
   "outputs": [],
   "source": [
    "# Update parameters using gradient descent\n",
    "def update_parameters(parameters, grads, learning_rate = 1.2):\n",
    "    # Call from parameters\n",
    "    W1 = parameters['W1']\n",
    "    b1 = parameters['b1']\n",
    "    W2 = parameters['W2']\n",
    "    b2 = parameters['b2']\n",
    "    \n",
    "    # Call from grads\n",
    "    dW1 = grads['dW1']\n",
    "    db1 = grads['db1']\n",
    "    dW2 = grads['dW2']\n",
    "    db2 = grads['db2']\n",
    "    \n",
    "    # Update rule for each parameter\n",
    "    W1 = W1 - learning_rate * dW1\n",
    "    b1 = b1 - learning_rate * db1\n",
    "    W2 = W2 - learning_rate * dW2\n",
    "    b2 = b2 - learning_rate * db2\n",
    "    \n",
    "    # Save new calculated parameters\n",
    "    parameters = {\"W1\": W1, \"b1\": b1, \"W2\": W2, \"b2\": b2}\n",
    "    return parameters"
   ]
  },
  {
   "cell_type": "code",
   "execution_count": null,
   "metadata": {},
   "outputs": [],
   "source": [
    "# Check updated parameters calculations\n",
    "parameters = update_parameters(parameters, grads)\n",
    "print(\"W1 = \" + str(parameters[\"W1\"]))\n",
    "print(\"b1 = \" + str(parameters[\"b1\"]))\n",
    "print(\"W2 = \" + str(parameters[\"W2\"]))\n",
    "print(\"b2 = \" + str(parameters[\"b2\"]))"
   ]
  },
  {
   "cell_type": "code",
   "execution_count": null,
   "metadata": {},
   "outputs": [],
   "source": [
    "# Model neural network\n",
    "def nn_model(X, Y, n_h, num_iterations = 10000, print_cost = False):\n",
    "    # Call layer_sizes function\n",
    "    n_x = layer_sizes(X, Y)[0]\n",
    "    n_y = layer_sizes(X, Y)[2]\n",
    "    \n",
    "    # Call initialize_parameters function\n",
    "    parameters = initialize_parameters(n_x, n_h, n_y)\n",
    "    W1 = parameters['W1']\n",
    "    b1 = parameters['b1']\n",
    "    W2 = parameters['W2']\n",
    "    b2 = parameters['b2']\n",
    "    \n",
    "    # Loop forward, loss, backward, update functions through iterations\n",
    "    for i in range(0, num_iterations):\n",
    "        # Forward propagation\n",
    "        A2, cache = forward_propagation(X, parameters)\n",
    "        \n",
    "        # Loss\n",
    "        cost = compute_cost(A2, Y, parameters)\n",
    "        \n",
    "        # Backwards propagation\n",
    "        grads = backward_propagation(parameters, cache, X, Y)\n",
    "        \n",
    "        # Update parameters\n",
    "        parameters = update_parameters(parameters, grads)\n",
    "        \n",
    "        # Print the loss every 1000 iterations\n",
    "        if print_cost and i % 1000 == 0:\n",
    "            print (\"Cost after iteration %i: %f\" % (i, cost))\n",
    "    \n",
    "    return parameters"
   ]
  },
  {
   "cell_type": "code",
   "execution_count": null,
   "metadata": {},
   "outputs": [],
   "source": [
    "# Predict results\n",
    "def predict(parameters, X):\n",
    "    A2, cache = forward_propagation(X, parameters)\n",
    "    predictions = np.round(A2)\n",
    "    \n",
    "    return predictions"
   ]
  },
  {
   "cell_type": "code",
   "execution_count": null,
   "metadata": {},
   "outputs": [],
   "source": [
    "# Train model\n",
    "parameters = nn_model(train_set_x_orig, train_set_y_orig, n_h = 4, num_iterations = 10000, print_cost = True)"
   ]
  },
  {
   "cell_type": "code",
   "execution_count": null,
   "metadata": {},
   "outputs": [],
   "source": [
    "# Print accuracy\n",
    "predictions = predict(parameters, test_set_x_orig)\n",
    "print ('Accuracy: %d' % float((np.dot(test_set_y_orig, predictions.T) + \n",
    "                               np.dot(1 - test_set_x_orig, 1 - predictions.T)) / float(test_set_x_orig.size) * 100)\n",
    "                               + '%')"
   ]
  },
  {
   "cell_type": "code",
   "execution_count": null,
   "metadata": {},
   "outputs": [],
   "source": [
    "# Tune hidden layer size (if accuracy is too low)\n",
    "plt.figure(figsize=(16, 32))\n",
    "hidden_layer_sizes = [1, 2, 3, 4, 5, 20, 50]\n",
    "\n",
    "for i, n_h in enumerate(hidden_layer_sizes):\n",
    "    plt.subplot(5, 2, i + 1)\n",
    "    plt.title('Hidden Layer of size %d' % n_h)\n",
    "    parameters = nn_model(dev_set_x_orig, dev_set_y_orig, n_h, num_iterations=5000)\n",
    "    predictions = predict(parameters, test_set_x_orig)\n",
    "    accuracy = float((np.dot(test_set_y_orig, predictions.T) + \n",
    "                      np.dot(1 - test_set_y_orig, 1 - predictions.T)) / float(test_set_y_orig.size) * 100)\n",
    "    print (\"Accuracy for {} hidden units: {} %\".format(n_h, accuracy))"
   ]
  }
 ],
 "metadata": {
  "kernelspec": {
   "display_name": "Python 3",
   "language": "python",
   "name": "python3"
  },
  "language_info": {
   "codemirror_mode": {
    "name": "ipython",
    "version": 3
   },
   "file_extension": ".py",
   "mimetype": "text/x-python",
   "name": "python",
   "nbconvert_exporter": "python",
   "pygments_lexer": "ipython3",
   "version": "3.7.4"
  }
 },
 "nbformat": 4,
 "nbformat_minor": 2
}
