{
 "cells": [
  {
   "cell_type": "markdown",
   "metadata": {
    "collapsed": true
   },
   "source": [
    "<img src=\"http://imgur.com/1ZcRyrc.png\" style=\"float: left; margin: 20px; height: 55px\">\n",
    "\n",
    "\n",
    "# Telecomm EDA Challenge Lab\n",
    "\n",
    "_Author: Alex Combs (NYC) _\n",
    "\n",
    "---"
   ]
  },
  {
   "cell_type": "markdown",
   "metadata": {},
   "source": [
    "Let's do some Exploratory Data Analysis (EDA)! As a data scientist, you often may find yourself given a data set you've never seen before, and asked to do a rapid analysis. This is today's goal.\n",
    "\n",
    "# Prompt\n",
    "\n",
    "You work for a telecommunications company. The company has been storing metadata about customer phone usage, as part of the regular course of business. Currently, this data is sitting in an unsecured database. The company doesn't want to pay to increase their database security, because they don't think there's really anything to be learned from the metadata.\n",
    "\n",
    "They are under pressure from \"right to privacy\" organizations to beef up the database security. These organizations argue that you can learn a lot about a person from their cell phone metadata.\n",
    "\n",
    "The telecom company wants to understand if this is true, and they want your help. They will give you one person's metadata for 2014 and want to see what you can learn from it.\n",
    "\n",
    "Working in teams, create a report revealing everything you can about the person. Prepare a presentation, with slides, showcasing your findings.\n",
    "\n",
    "\n",
    "# The Data\n",
    "\n",
    "The [person's metadata](./datasets/metadata.csv) has the following fields:\n",
    "\n",
    "| Field Name          | Description\n",
    "| ---                 | ---\n",
    "| **Cell Cgi**        | cell phone tower identifier\n",
    "| **Cell Tower**      | cell phone tower location\n",
    "| **Comm Identifier** |\tde-identified recipient of communication\n",
    "| **Comm Timedate String** | time of communication\n",
    "| **Comm Type\tId**  | type of communication\n",
    "| **Latitude**        | latitude of communication\n",
    "| **Longitude**       | longitude of communication\n"
   ]
  },
  {
   "cell_type": "markdown",
   "metadata": {},
   "source": [
    "# Hints\n",
    "\n",
    "This is totally open-ended! If you're totally stumped -- and only if stumped -- should you look below for prompts. As a starting point, given that you have geo-locations, consider investigating ways to display this type of information (i.e. mapping functionality).\n",
    "\n",
    "<font color='white'>\n",
    "Well for starters, he's in Australia!\n",
    "\n",
    "Ideas for things to look into:\n",
    "- where does he work?\n",
    "- where does he live?\n",
    "- who does he contact most often?\n",
    "- what hours does he work?\n",
    "- did he move?\n",
    "- did he go on holiday?  If so, where did he go?\n",
    "- did he get a new phone?\n",
    "\n",
    "Challenges:\n",
    "- how does he get to work?\n",
    "- where does his family live?\n",
    "- if he went on holiday, can you find which flights he took?\n",
    "- can you guess who some of his contacts are, based on the frequency, location, time and mode (phone/text) of communications?\n",
    "\n",
    "\n",
    "If you're stuck on how to map the data, you can try \"basemap\" or \"gmplot\", or anything else you find online.\n",
    "</font>"
   ]
  },
  {
   "cell_type": "code",
   "execution_count": 1,
   "metadata": {},
   "outputs": [],
   "source": [
    "# Telecomm EDA Challenge Lab\n",
    "\n",
    "# EXECUTIVE SUMMARY \n",
    "# The data contains personal information that needs to be proected and secured. \n",
    "# Investment must be made quickly to secure this data.\n",
    "\n",
    "# SUMMARY OVERVIEW OF THE DATA\n",
    "# Records from the individual account taken at 6,382 unique time stamps over the course of the year\n",
    "# Records taken from at 70 different locations in over this time \n",
    "\n",
    "# EXAMPLES OF LOCATIONS \n",
    "\n",
    "# MELBORNE INTERNATIONAL AIRPORT\n",
    "# Only one record from here\n",
    "# Call made from the location at 2014-08-30 10:32:00  \n",
    "\n",
    "# TASMANIA\n",
    "# 149B Macquarie Street, Hobart, Tasmania, 7000\n",
    "\n",
    "# 4 HAYES ST, SYDNEY\n",
    "# Location had the most records\n",
    "# 4118 records from 4 Hayes Street, Sydney, New South Wales, 2093\n",
    "# Records from between 2014-09-24 and 2015-03-25 only \n",
    "# Was only at this location location for a 6 month period \n",
    "# 2740 different time stamps from early morning to late at night\n",
    "# Only used the phone here twice\n",
    "\n",
    "# REGENT STREET, SYDNEY \n",
    "# 998 records from this location \n",
    "# Records across the whole year \n",
    "# 606 different time stamps from early morning \n",
    "# Used the phone 15 times\n",
    "\n",
    "# 103-109 GEORGE ST, SYDNEY \n",
    "# 334 reords over the course of the year from from 103-109 George Street, Sydney\n",
    "# records include phone, internet and SMS from this location \n",
    "\n",
    "# MORE SUMMARY DATA\n",
    "# 10476 records over the course of a year\n",
    "# Full data except for the identifier column which has 9102 nulls\n",
    "# 131 Cell Cgi IDs across 71 towers \n",
    "# 130 identifiers \n",
    "# 87% internet of records track internet, 7% phone and 6% SMS "
   ]
  },
  {
   "cell_type": "code",
   "execution_count": 2,
   "metadata": {},
   "outputs": [],
   "source": [
    "import matplotlib.pyplot as plt\n",
    "import numpy as np\n",
    "import pandas as pd\n",
    "import seaborn as sns\n",
    "import scipy.stats as stats\n",
    "import os\n",
    "\n",
    "plt.style.use('fivethirtyeight')\n",
    "\n",
    "%matplotlib inline\n",
    "%config InlineBackend.figure_format = 'retina'\n",
    "\n",
    "# Billboard data CSV:\n",
    "metadata_csv = './metadata.csv'\n",
    "\n",
    "# We need to use encoding='latin-1' to deal with non-ASCII characters.\n",
    "df = pd.read_csv(metadata_csv, encoding='latin-1')"
   ]
  },
  {
   "cell_type": "code",
   "execution_count": 3,
   "metadata": {},
   "outputs": [
    {
     "data": {
      "text/html": [
       "<div>\n",
       "<style scoped>\n",
       "    .dataframe tbody tr th:only-of-type {\n",
       "        vertical-align: middle;\n",
       "    }\n",
       "\n",
       "    .dataframe tbody tr th {\n",
       "        vertical-align: top;\n",
       "    }\n",
       "\n",
       "    .dataframe thead th {\n",
       "        text-align: right;\n",
       "    }\n",
       "</style>\n",
       "<table border=\"1\" class=\"dataframe\">\n",
       "  <thead>\n",
       "    <tr style=\"text-align: right;\">\n",
       "      <th></th>\n",
       "      <th>Cell Cgi</th>\n",
       "      <th>Cell Tower Location</th>\n",
       "      <th>Comm Identifier</th>\n",
       "      <th>Comm Timedate String</th>\n",
       "      <th>Comm Type</th>\n",
       "      <th>Latitude</th>\n",
       "      <th>Longitude</th>\n",
       "    </tr>\n",
       "  </thead>\n",
       "  <tbody>\n",
       "    <tr>\n",
       "      <td>0</td>\n",
       "      <td>50501015388B9</td>\n",
       "      <td>REDFERN TE</td>\n",
       "      <td>f1a6836c0b7a3415a19a90fdd6f0ae18484d6d1e</td>\n",
       "      <td>4/1/14 9:40</td>\n",
       "      <td>Phone</td>\n",
       "      <td>-33.892933</td>\n",
       "      <td>151.202296</td>\n",
       "    </tr>\n",
       "  </tbody>\n",
       "</table>\n",
       "</div>"
      ],
      "text/plain": [
       "        Cell Cgi Cell Tower Location  \\\n",
       "0  50501015388B9          REDFERN TE   \n",
       "\n",
       "                            Comm Identifier Comm Timedate String Comm Type  \\\n",
       "0  f1a6836c0b7a3415a19a90fdd6f0ae18484d6d1e          4/1/14 9:40     Phone   \n",
       "\n",
       "    Latitude   Longitude  \n",
       "0 -33.892933  151.202296  "
      ]
     },
     "execution_count": 3,
     "metadata": {},
     "output_type": "execute_result"
    }
   ],
   "source": [
    "df.head(1)"
   ]
  },
  {
   "cell_type": "code",
   "execution_count": 4,
   "metadata": {},
   "outputs": [
    {
     "data": {
      "text/html": [
       "<div>\n",
       "<style scoped>\n",
       "    .dataframe tbody tr th:only-of-type {\n",
       "        vertical-align: middle;\n",
       "    }\n",
       "\n",
       "    .dataframe tbody tr th {\n",
       "        vertical-align: top;\n",
       "    }\n",
       "\n",
       "    .dataframe thead th {\n",
       "        text-align: right;\n",
       "    }\n",
       "</style>\n",
       "<table border=\"1\" class=\"dataframe\">\n",
       "  <thead>\n",
       "    <tr style=\"text-align: right;\">\n",
       "      <th></th>\n",
       "      <th>cgi</th>\n",
       "      <th>tower</th>\n",
       "      <th>identifier</th>\n",
       "      <th>time</th>\n",
       "      <th>type</th>\n",
       "      <th>lat</th>\n",
       "      <th>lon</th>\n",
       "    </tr>\n",
       "  </thead>\n",
       "  <tbody>\n",
       "    <tr>\n",
       "      <td>0</td>\n",
       "      <td>50501015388B9</td>\n",
       "      <td>REDFERN TE</td>\n",
       "      <td>f1a6836c0b7a3415a19a90fdd6f0ae18484d6d1e</td>\n",
       "      <td>4/1/14 9:40</td>\n",
       "      <td>Phone</td>\n",
       "      <td>-33.892933</td>\n",
       "      <td>151.202296</td>\n",
       "    </tr>\n",
       "  </tbody>\n",
       "</table>\n",
       "</div>"
      ],
      "text/plain": [
       "             cgi       tower                                identifier  \\\n",
       "0  50501015388B9  REDFERN TE  f1a6836c0b7a3415a19a90fdd6f0ae18484d6d1e   \n",
       "\n",
       "          time   type        lat         lon  \n",
       "0  4/1/14 9:40  Phone -33.892933  151.202296  "
      ]
     },
     "execution_count": 4,
     "metadata": {},
     "output_type": "execute_result"
    }
   ],
   "source": [
    "df.rename(columns={'Cell Cgi':'cgi','Cell Tower Location':'tower', 'Comm Identifier':'identifier', 'Comm Timedate String':'time','Comm Type':'type', 'Latitude':'lat', 'Longitude':'lon'}, inplace=True)\n",
    "df.head(1)"
   ]
  },
  {
   "cell_type": "code",
   "execution_count": 5,
   "metadata": {},
   "outputs": [
    {
     "data": {
      "text/html": [
       "<div>\n",
       "<style scoped>\n",
       "    .dataframe tbody tr th:only-of-type {\n",
       "        vertical-align: middle;\n",
       "    }\n",
       "\n",
       "    .dataframe tbody tr th {\n",
       "        vertical-align: top;\n",
       "    }\n",
       "\n",
       "    .dataframe thead th {\n",
       "        text-align: right;\n",
       "    }\n",
       "</style>\n",
       "<table border=\"1\" class=\"dataframe\">\n",
       "  <thead>\n",
       "    <tr style=\"text-align: right;\">\n",
       "      <th></th>\n",
       "      <th>cgi</th>\n",
       "      <th>tower</th>\n",
       "      <th>identifier</th>\n",
       "      <th>time</th>\n",
       "      <th>type</th>\n",
       "      <th>lat</th>\n",
       "      <th>lon</th>\n",
       "      <th>time_stamp</th>\n",
       "    </tr>\n",
       "  </thead>\n",
       "  <tbody>\n",
       "    <tr>\n",
       "      <td>0</td>\n",
       "      <td>50501015388B9</td>\n",
       "      <td>REDFERN TE</td>\n",
       "      <td>f1a6836c0b7a3415a19a90fdd6f0ae18484d6d1e</td>\n",
       "      <td>4/1/14 9:40</td>\n",
       "      <td>Phone</td>\n",
       "      <td>-33.892933</td>\n",
       "      <td>151.202296</td>\n",
       "      <td>2014-04-01 09:40:00</td>\n",
       "    </tr>\n",
       "  </tbody>\n",
       "</table>\n",
       "</div>"
      ],
      "text/plain": [
       "             cgi       tower                                identifier  \\\n",
       "0  50501015388B9  REDFERN TE  f1a6836c0b7a3415a19a90fdd6f0ae18484d6d1e   \n",
       "\n",
       "          time   type        lat         lon          time_stamp  \n",
       "0  4/1/14 9:40  Phone -33.892933  151.202296 2014-04-01 09:40:00  "
      ]
     },
     "execution_count": 5,
     "metadata": {},
     "output_type": "execute_result"
    }
   ],
   "source": [
    "df['time_stamp'] = pd.to_datetime(df['time'])\n",
    "df.head(1)"
   ]
  },
  {
   "cell_type": "code",
   "execution_count": 6,
   "metadata": {},
   "outputs": [
    {
     "data": {
      "text/plain": [
       "(10476, 8)"
      ]
     },
     "execution_count": 6,
     "metadata": {},
     "output_type": "execute_result"
    }
   ],
   "source": [
    "df.shape"
   ]
  },
  {
   "cell_type": "code",
   "execution_count": 7,
   "metadata": {},
   "outputs": [
    {
     "data": {
      "text/plain": [
       "<bound method NDFrame.head of cgi                   object\n",
       "tower                 object\n",
       "identifier            object\n",
       "time                  object\n",
       "type                  object\n",
       "lat                  float64\n",
       "lon                  float64\n",
       "time_stamp    datetime64[ns]\n",
       "dtype: object>"
      ]
     },
     "execution_count": 7,
     "metadata": {},
     "output_type": "execute_result"
    }
   ],
   "source": [
    "df.dtypes.head"
   ]
  },
  {
   "cell_type": "code",
   "execution_count": 8,
   "metadata": {},
   "outputs": [
    {
     "name": "stdout",
     "output_type": "stream",
     "text": [
      "cgi              0\n",
      "tower            0\n",
      "identifier    9102\n",
      "time             0\n",
      "type             0\n",
      "lat              0\n",
      "lon              0\n",
      "time_stamp       0\n",
      "dtype: int64\n"
     ]
    }
   ],
   "source": [
    "print((df.isnull().sum().head(15)))"
   ]
  },
  {
   "cell_type": "code",
   "execution_count": 9,
   "metadata": {},
   "outputs": [
    {
     "data": {
      "text/plain": [
       "505012056EF02    4118\n",
       "5.05E+12         1627\n",
       "5050101532B23     998\n",
       "505012950037C     711\n",
       "5050129505A15     491\n",
       "                 ... \n",
       "5050120576A03       1\n",
       "505010152046C       1\n",
       "5050101530DB8       1\n",
       "5050101536A43       1\n",
       "50501202B6D03       1\n",
       "Name: cgi, Length: 131, dtype: int64"
      ]
     },
     "execution_count": 9,
     "metadata": {},
     "output_type": "execute_result"
    }
   ],
   "source": [
    "df['cgi'].value_counts()"
   ]
  },
  {
   "cell_type": "code",
   "execution_count": 10,
   "metadata": {},
   "outputs": [
    {
     "data": {
      "text/plain": [
       "BALGOWLAH HAYES ST           4301\n",
       "CHIPPENDALE                  1084\n",
       "SUNDERLAND ST                 723\n",
       "REDFERN TE                    712\n",
       "HAYMARKET #                   563\n",
       "                             ... \n",
       "NEWTOWN TE                      1\n",
       "MASCOT 201 COWARD ST            1\n",
       "MELB AIRPORT TERM               1\n",
       "REDFERN; 495 CLEVELAND ST       1\n",
       "CARLTON COLLEGE SQ              1\n",
       "Name: tower, Length: 71, dtype: int64"
      ]
     },
     "execution_count": 10,
     "metadata": {},
     "output_type": "execute_result"
    }
   ],
   "source": [
    "df['tower'].value_counts()"
   ]
  },
  {
   "cell_type": "code",
   "execution_count": 11,
   "metadata": {},
   "outputs": [
    {
     "data": {
      "text/plain": [
       "bc0b01860486b0f0a240ce8419d3d7553fe404ab    219\n",
       "12e3d1b0c95aa32b6890c4455918dfc10e09fb51    146\n",
       "91aba4a11359ff3af7902428d20cfa7e676c36e7    144\n",
       "a24a4646d074a779b45b34b943a47bf33168f791    133\n",
       "6bbc17070aa91e2dab7909b96c6eecbd6109ba56     83\n",
       "                                           ... \n",
       "caca077c49aa8bc43ed6a93fb15e37027d116161      1\n",
       "55c9fbf7495f31d631bf0f26a00e4494f1c5715e      1\n",
       "4b12e682d816d603ca3820581e31fe1ce71d3e7f      1\n",
       "3274802c767c077c0ce3f6c2f76fabe35129f696      1\n",
       "506f74c16a228ac966a2c785cc5cdb32946c769d      1\n",
       "Name: identifier, Length: 130, dtype: int64"
      ]
     },
     "execution_count": 11,
     "metadata": {},
     "output_type": "execute_result"
    }
   ],
   "source": [
    "df['identifier'].value_counts()"
   ]
  },
  {
   "cell_type": "code",
   "execution_count": 12,
   "metadata": {},
   "outputs": [
    {
     "data": {
      "text/plain": [
       "Internet    9102\n",
       "Phone        717\n",
       "SMS          657\n",
       "Name: type, dtype: int64"
      ]
     },
     "execution_count": 12,
     "metadata": {},
     "output_type": "execute_result"
    }
   ],
   "source": [
    "df['type'].value_counts()"
   ]
  },
  {
   "cell_type": "code",
   "execution_count": 13,
   "metadata": {},
   "outputs": [
    {
     "data": {
      "text/plain": [
       "Internet    0.868843\n",
       "Phone       0.068442\n",
       "SMS         0.062715\n",
       "Name: type, dtype: float64"
      ]
     },
     "execution_count": 13,
     "metadata": {},
     "output_type": "execute_result"
    }
   ],
   "source": [
    "df['type'].value_counts() /df['type'].value_counts().sum()"
   ]
  },
  {
   "cell_type": "code",
   "execution_count": 14,
   "metadata": {},
   "outputs": [
    {
     "data": {
      "text/plain": [
       "3/31/15 18:59     26\n",
       "12/11/14 16:08    11\n",
       "1/24/15 20:35     11\n",
       "2/3/15 8:44       10\n",
       "1/30/15 20:39      9\n",
       "                  ..\n",
       "1/31/15 10:25      1\n",
       "12/23/14 10:58     1\n",
       "3/26/15 13:35      1\n",
       "9/5/14 16:41       1\n",
       "10/24/14 13:27     1\n",
       "Name: time, Length: 6382, dtype: int64"
      ]
     },
     "execution_count": 14,
     "metadata": {},
     "output_type": "execute_result"
    }
   ],
   "source": [
    "df['time'].value_counts()"
   ]
  },
  {
   "cell_type": "code",
   "execution_count": 15,
   "metadata": {},
   "outputs": [
    {
     "data": {
      "text/plain": [
       "count                   10476\n",
       "unique                   6382\n",
       "top       2015-03-31 18:59:00\n",
       "freq                       26\n",
       "first     2014-04-01 09:40:00\n",
       "last      2015-04-01 23:49:00\n",
       "Name: time_stamp, dtype: object"
      ]
     },
     "execution_count": 15,
     "metadata": {},
     "output_type": "execute_result"
    }
   ],
   "source": [
    "df['time_stamp'].describe()"
   ]
  },
  {
   "cell_type": "code",
   "execution_count": 16,
   "metadata": {},
   "outputs": [
    {
     "data": {
      "text/plain": [
       "-33.788150    4301\n",
       "-33.884171    1084\n",
       "-42.843380     723\n",
       "-33.892933     712\n",
       "-33.880329     563\n",
       "              ... \n",
       "-37.777800       1\n",
       "-37.670418       1\n",
       "-33.892330       1\n",
       "-33.557310       1\n",
       "-37.792900       1\n",
       "Name: lat, Length: 70, dtype: int64"
      ]
     },
     "execution_count": 16,
     "metadata": {},
     "output_type": "execute_result"
    }
   ],
   "source": [
    "df['lat'].value_counts()"
   ]
  },
  {
   "cell_type": "code",
   "execution_count": 17,
   "metadata": {},
   "outputs": [
    {
     "data": {
      "text/plain": [
       "151.266540    4301\n",
       "151.202350    1084\n",
       "147.295690     723\n",
       "151.202296     712\n",
       "151.205690     563\n",
       "              ... \n",
       "151.210100       1\n",
       "151.188043       1\n",
       "144.848243       1\n",
       "151.216530       1\n",
       "151.238020       1\n",
       "Name: lon, Length: 70, dtype: int64"
      ]
     },
     "execution_count": 17,
     "metadata": {},
     "output_type": "execute_result"
    }
   ],
   "source": [
    "df['lon'].value_counts()"
   ]
  },
  {
   "cell_type": "code",
   "execution_count": 18,
   "metadata": {},
   "outputs": [
    {
     "data": {
      "text/plain": [
       "count    10476.000000\n",
       "mean       150.612841\n",
       "std          1.470169\n",
       "min        144.848243\n",
       "25%        151.202296\n",
       "50%        151.266540\n",
       "75%        151.266540\n",
       "max        151.289340\n",
       "Name: lon, dtype: float64"
      ]
     },
     "execution_count": 18,
     "metadata": {},
     "output_type": "execute_result"
    }
   ],
   "source": [
    "df['lon'].describe()"
   ]
  },
  {
   "cell_type": "code",
   "execution_count": 19,
   "metadata": {},
   "outputs": [
    {
     "data": {
      "text/html": [
       "<div>\n",
       "<style scoped>\n",
       "    .dataframe tbody tr th:only-of-type {\n",
       "        vertical-align: middle;\n",
       "    }\n",
       "\n",
       "    .dataframe tbody tr th {\n",
       "        vertical-align: top;\n",
       "    }\n",
       "\n",
       "    .dataframe thead th {\n",
       "        text-align: right;\n",
       "    }\n",
       "</style>\n",
       "<table border=\"1\" class=\"dataframe\">\n",
       "  <thead>\n",
       "    <tr style=\"text-align: right;\">\n",
       "      <th></th>\n",
       "      <th>cgi</th>\n",
       "      <th>tower</th>\n",
       "      <th>identifier</th>\n",
       "      <th>time</th>\n",
       "      <th>type</th>\n",
       "      <th>lat</th>\n",
       "      <th>lon</th>\n",
       "      <th>time_stamp</th>\n",
       "    </tr>\n",
       "  </thead>\n",
       "  <tbody>\n",
       "    <tr>\n",
       "      <td>577</td>\n",
       "      <td>5050122513CAB</td>\n",
       "      <td>MELB AIRPORT TERM</td>\n",
       "      <td>6bbc17070aa91e2dab7909b96c6eecbd6109ba56</td>\n",
       "      <td>8/30/14 10:32</td>\n",
       "      <td>Phone</td>\n",
       "      <td>-37.670418</td>\n",
       "      <td>144.848243</td>\n",
       "      <td>2014-08-30 10:32:00</td>\n",
       "    </tr>\n",
       "  </tbody>\n",
       "</table>\n",
       "</div>"
      ],
      "text/plain": [
       "               cgi              tower  \\\n",
       "577  5050122513CAB  MELB AIRPORT TERM   \n",
       "\n",
       "                                   identifier           time   type  \\\n",
       "577  6bbc17070aa91e2dab7909b96c6eecbd6109ba56  8/30/14 10:32  Phone   \n",
       "\n",
       "           lat         lon          time_stamp  \n",
       "577 -37.670418  144.848243 2014-08-30 10:32:00  "
      ]
     },
     "execution_count": 19,
     "metadata": {},
     "output_type": "execute_result"
    }
   ],
   "source": [
    "# Lon Describe \n",
    "df.loc[df['lon'] == 144.848243]\n"
   ]
  },
  {
   "cell_type": "code",
   "execution_count": 20,
   "metadata": {},
   "outputs": [
    {
     "data": {
      "text/plain": [
       "count    10476.000000\n",
       "mean       -35.136188\n",
       "std          3.141723\n",
       "min        -42.884810\n",
       "25%        -33.884603\n",
       "50%        -33.796610\n",
       "75%        -33.788150\n",
       "max        -33.557310\n",
       "Name: lat, dtype: float64"
      ]
     },
     "execution_count": 20,
     "metadata": {},
     "output_type": "execute_result"
    }
   ],
   "source": [
    "df['lat'].describe()"
   ]
  },
  {
   "cell_type": "code",
   "execution_count": 21,
   "metadata": {},
   "outputs": [
    {
     "data": {
      "text/html": [
       "<div>\n",
       "<style scoped>\n",
       "    .dataframe tbody tr th:only-of-type {\n",
       "        vertical-align: middle;\n",
       "    }\n",
       "\n",
       "    .dataframe tbody tr th {\n",
       "        vertical-align: top;\n",
       "    }\n",
       "\n",
       "    .dataframe thead th {\n",
       "        text-align: right;\n",
       "    }\n",
       "</style>\n",
       "<table border=\"1\" class=\"dataframe\">\n",
       "  <thead>\n",
       "    <tr style=\"text-align: right;\">\n",
       "      <th></th>\n",
       "      <th>cgi</th>\n",
       "      <th>tower</th>\n",
       "      <th>identifier</th>\n",
       "      <th>time</th>\n",
       "      <th>type</th>\n",
       "      <th>lat</th>\n",
       "      <th>lon</th>\n",
       "      <th>time_stamp</th>\n",
       "    </tr>\n",
       "  </thead>\n",
       "  <tbody>\n",
       "  </tbody>\n",
       "</table>\n",
       "</div>"
      ],
      "text/plain": [
       "Empty DataFrame\n",
       "Columns: [cgi, tower, identifier, time, type, lat, lon, time_stamp]\n",
       "Index: []"
      ]
     },
     "execution_count": 21,
     "metadata": {},
     "output_type": "execute_result"
    }
   ],
   "source": [
    "# Lat Describe  \n",
    "df.loc[df['lat'] == -33.884603]"
   ]
  },
  {
   "cell_type": "code",
   "execution_count": null,
   "metadata": {},
   "outputs": [],
   "source": []
  },
  {
   "cell_type": "code",
   "execution_count": 22,
   "metadata": {},
   "outputs": [
    {
     "data": {
      "text/html": [
       "<div>\n",
       "<style scoped>\n",
       "    .dataframe tbody tr th:only-of-type {\n",
       "        vertical-align: middle;\n",
       "    }\n",
       "\n",
       "    .dataframe tbody tr th {\n",
       "        vertical-align: top;\n",
       "    }\n",
       "\n",
       "    .dataframe thead th {\n",
       "        text-align: right;\n",
       "    }\n",
       "</style>\n",
       "<table border=\"1\" class=\"dataframe\">\n",
       "  <thead>\n",
       "    <tr style=\"text-align: right;\">\n",
       "      <th></th>\n",
       "      <th>cgi</th>\n",
       "      <th>tower</th>\n",
       "      <th>identifier</th>\n",
       "      <th>time</th>\n",
       "      <th>type</th>\n",
       "      <th>lat</th>\n",
       "      <th>lon</th>\n",
       "      <th>time_stamp</th>\n",
       "      <th>lat_lon</th>\n",
       "    </tr>\n",
       "  </thead>\n",
       "  <tbody>\n",
       "    <tr>\n",
       "      <td>0</td>\n",
       "      <td>50501015388B9</td>\n",
       "      <td>REDFERN TE</td>\n",
       "      <td>f1a6836c0b7a3415a19a90fdd6f0ae18484d6d1e</td>\n",
       "      <td>4/1/14 9:40</td>\n",
       "      <td>Phone</td>\n",
       "      <td>-33.892933</td>\n",
       "      <td>151.202296</td>\n",
       "      <td>2014-04-01 09:40:00</td>\n",
       "      <td>-33.89293336151.20229619999998</td>\n",
       "    </tr>\n",
       "  </tbody>\n",
       "</table>\n",
       "</div>"
      ],
      "text/plain": [
       "             cgi       tower                                identifier  \\\n",
       "0  50501015388B9  REDFERN TE  f1a6836c0b7a3415a19a90fdd6f0ae18484d6d1e   \n",
       "\n",
       "          time   type        lat         lon          time_stamp  \\\n",
       "0  4/1/14 9:40  Phone -33.892933  151.202296 2014-04-01 09:40:00   \n",
       "\n",
       "                          lat_lon  \n",
       "0  -33.89293336151.20229619999998  "
      ]
     },
     "execution_count": 22,
     "metadata": {},
     "output_type": "execute_result"
    }
   ],
   "source": [
    "# concatenate to find max and min \n",
    "df['lat_lon'] = df['lat'].astype(str) + df['lon'].astype(str)\n",
    "df.head(1)\n",
    "df.head(1)"
   ]
  },
  {
   "cell_type": "code",
   "execution_count": 23,
   "metadata": {},
   "outputs": [
    {
     "data": {
      "text/plain": [
       "'-42.884809999999995147.32748'"
      ]
     },
     "execution_count": 23,
     "metadata": {},
     "output_type": "execute_result"
    }
   ],
   "source": [
    "df['lat_lon'].max()"
   ]
  },
  {
   "cell_type": "code",
   "execution_count": 24,
   "metadata": {},
   "outputs": [
    {
     "data": {
      "text/html": [
       "<div>\n",
       "<style scoped>\n",
       "    .dataframe tbody tr th:only-of-type {\n",
       "        vertical-align: middle;\n",
       "    }\n",
       "\n",
       "    .dataframe tbody tr th {\n",
       "        vertical-align: top;\n",
       "    }\n",
       "\n",
       "    .dataframe thead th {\n",
       "        text-align: right;\n",
       "    }\n",
       "</style>\n",
       "<table border=\"1\" class=\"dataframe\">\n",
       "  <thead>\n",
       "    <tr style=\"text-align: right;\">\n",
       "      <th></th>\n",
       "      <th>cgi</th>\n",
       "      <th>tower</th>\n",
       "      <th>identifier</th>\n",
       "      <th>time</th>\n",
       "      <th>type</th>\n",
       "      <th>lat</th>\n",
       "      <th>lon</th>\n",
       "      <th>time_stamp</th>\n",
       "      <th>lat_lon</th>\n",
       "      <th>lon_lat</th>\n",
       "    </tr>\n",
       "  </thead>\n",
       "  <tbody>\n",
       "    <tr>\n",
       "      <td>0</td>\n",
       "      <td>50501015388B9</td>\n",
       "      <td>REDFERN TE</td>\n",
       "      <td>f1a6836c0b7a3415a19a90fdd6f0ae18484d6d1e</td>\n",
       "      <td>4/1/14 9:40</td>\n",
       "      <td>Phone</td>\n",
       "      <td>-33.892933</td>\n",
       "      <td>151.202296</td>\n",
       "      <td>2014-04-01 09:40:00</td>\n",
       "      <td>-33.89293336151.20229619999998</td>\n",
       "      <td>151.20229619999998-33.89293336</td>\n",
       "    </tr>\n",
       "  </tbody>\n",
       "</table>\n",
       "</div>"
      ],
      "text/plain": [
       "             cgi       tower                                identifier  \\\n",
       "0  50501015388B9  REDFERN TE  f1a6836c0b7a3415a19a90fdd6f0ae18484d6d1e   \n",
       "\n",
       "          time   type        lat         lon          time_stamp  \\\n",
       "0  4/1/14 9:40  Phone -33.892933  151.202296 2014-04-01 09:40:00   \n",
       "\n",
       "                          lat_lon                         lon_lat  \n",
       "0  -33.89293336151.20229619999998  151.20229619999998-33.89293336  "
      ]
     },
     "execution_count": 24,
     "metadata": {},
     "output_type": "execute_result"
    }
   ],
   "source": [
    "df['lon_lat'] = df['lon'].astype(str) + df['lat'].astype(str)\n",
    "df.head(1)"
   ]
  },
  {
   "cell_type": "code",
   "execution_count": 25,
   "metadata": {},
   "outputs": [
    {
     "data": {
      "text/plain": [
       "count                  10476\n",
       "unique                    70\n",
       "top       -33.78815151.26654\n",
       "freq                    4301\n",
       "Name: lat_lon, dtype: object"
      ]
     },
     "execution_count": 25,
     "metadata": {},
     "output_type": "execute_result"
    }
   ],
   "source": [
    "df['lat_lon'].describe()"
   ]
  },
  {
   "cell_type": "code",
   "execution_count": null,
   "metadata": {},
   "outputs": [],
   "source": []
  },
  {
   "cell_type": "code",
   "execution_count": 26,
   "metadata": {},
   "outputs": [
    {
     "data": {
      "text/html": [
       "<div>\n",
       "<style scoped>\n",
       "    .dataframe tbody tr th:only-of-type {\n",
       "        vertical-align: middle;\n",
       "    }\n",
       "\n",
       "    .dataframe tbody tr th {\n",
       "        vertical-align: top;\n",
       "    }\n",
       "\n",
       "    .dataframe thead th {\n",
       "        text-align: right;\n",
       "    }\n",
       "</style>\n",
       "<table border=\"1\" class=\"dataframe\">\n",
       "  <thead>\n",
       "    <tr style=\"text-align: right;\">\n",
       "      <th></th>\n",
       "      <th>cgi</th>\n",
       "      <th>tower</th>\n",
       "      <th>identifier</th>\n",
       "      <th>time</th>\n",
       "      <th>type</th>\n",
       "      <th>lat</th>\n",
       "      <th>lon</th>\n",
       "      <th>time_stamp</th>\n",
       "      <th>lat_lon</th>\n",
       "      <th>lon_lat</th>\n",
       "    </tr>\n",
       "  </thead>\n",
       "  <tbody>\n",
       "    <tr>\n",
       "      <td>0</td>\n",
       "      <td>50501015388B9</td>\n",
       "      <td>REDFERN TE</td>\n",
       "      <td>f1a6836c0b7a3415a19a90fdd6f0ae18484d6d1e</td>\n",
       "      <td>4/1/14 9:40</td>\n",
       "      <td>Phone</td>\n",
       "      <td>-33.892933</td>\n",
       "      <td>151.202296</td>\n",
       "      <td>2014-04-01 09:40:00</td>\n",
       "      <td>-33.89293336151.20229619999998</td>\n",
       "      <td>151.20229619999998-33.89293336</td>\n",
       "    </tr>\n",
       "    <tr>\n",
       "      <td>1</td>\n",
       "      <td>50501015388B9</td>\n",
       "      <td>REDFERN TE</td>\n",
       "      <td>62157ccf2910019ffd915b11fa037243b75c1624</td>\n",
       "      <td>4/1/14 9:42</td>\n",
       "      <td>Phone</td>\n",
       "      <td>-33.892933</td>\n",
       "      <td>151.202296</td>\n",
       "      <td>2014-04-01 09:42:00</td>\n",
       "      <td>-33.89293336151.20229619999998</td>\n",
       "      <td>151.20229619999998-33.89293336</td>\n",
       "    </tr>\n",
       "    <tr>\n",
       "      <td>52</td>\n",
       "      <td>50501015388B9</td>\n",
       "      <td>REDFERN TE</td>\n",
       "      <td>6bbc17070aa91e2dab7909b96c6eecbd6109ba56</td>\n",
       "      <td>4/13/14 10:58</td>\n",
       "      <td>Phone</td>\n",
       "      <td>-33.892933</td>\n",
       "      <td>151.202296</td>\n",
       "      <td>2014-04-13 10:58:00</td>\n",
       "      <td>-33.89293336151.20229619999998</td>\n",
       "      <td>151.20229619999998-33.89293336</td>\n",
       "    </tr>\n",
       "    <tr>\n",
       "      <td>71</td>\n",
       "      <td>50501015388B9</td>\n",
       "      <td>REDFERN TE</td>\n",
       "      <td>bc0b01860486b0f0a240ce8419d3d7553fe404ab</td>\n",
       "      <td>4/14/14 21:11</td>\n",
       "      <td>SMS</td>\n",
       "      <td>-33.892933</td>\n",
       "      <td>151.202296</td>\n",
       "      <td>2014-04-14 21:11:00</td>\n",
       "      <td>-33.89293336151.20229619999998</td>\n",
       "      <td>151.20229619999998-33.89293336</td>\n",
       "    </tr>\n",
       "    <tr>\n",
       "      <td>140</td>\n",
       "      <td>50501015388B9</td>\n",
       "      <td>REDFERN TE</td>\n",
       "      <td>cd3b39466869088df4904451c626591cc500e4ba</td>\n",
       "      <td>4/26/14 11:57</td>\n",
       "      <td>SMS</td>\n",
       "      <td>-33.892933</td>\n",
       "      <td>151.202296</td>\n",
       "      <td>2014-04-26 11:57:00</td>\n",
       "      <td>-33.89293336151.20229619999998</td>\n",
       "      <td>151.20229619999998-33.89293336</td>\n",
       "    </tr>\n",
       "    <tr>\n",
       "      <td>...</td>\n",
       "      <td>...</td>\n",
       "      <td>...</td>\n",
       "      <td>...</td>\n",
       "      <td>...</td>\n",
       "      <td>...</td>\n",
       "      <td>...</td>\n",
       "      <td>...</td>\n",
       "      <td>...</td>\n",
       "      <td>...</td>\n",
       "      <td>...</td>\n",
       "    </tr>\n",
       "    <tr>\n",
       "      <td>10471</td>\n",
       "      <td>50501015388B9</td>\n",
       "      <td>REDFERN TE</td>\n",
       "      <td>NaN</td>\n",
       "      <td>4/1/15 22:40</td>\n",
       "      <td>Internet</td>\n",
       "      <td>-33.892933</td>\n",
       "      <td>151.202296</td>\n",
       "      <td>2015-04-01 22:40:00</td>\n",
       "      <td>-33.89293336151.20229619999998</td>\n",
       "      <td>151.20229619999998-33.89293336</td>\n",
       "    </tr>\n",
       "    <tr>\n",
       "      <td>10472</td>\n",
       "      <td>50501015388B9</td>\n",
       "      <td>REDFERN TE</td>\n",
       "      <td>NaN</td>\n",
       "      <td>4/1/15 22:41</td>\n",
       "      <td>Internet</td>\n",
       "      <td>-33.892933</td>\n",
       "      <td>151.202296</td>\n",
       "      <td>2015-04-01 22:41:00</td>\n",
       "      <td>-33.89293336151.20229619999998</td>\n",
       "      <td>151.20229619999998-33.89293336</td>\n",
       "    </tr>\n",
       "    <tr>\n",
       "      <td>10473</td>\n",
       "      <td>50501015388B9</td>\n",
       "      <td>REDFERN TE</td>\n",
       "      <td>NaN</td>\n",
       "      <td>4/1/15 22:44</td>\n",
       "      <td>Internet</td>\n",
       "      <td>-33.892933</td>\n",
       "      <td>151.202296</td>\n",
       "      <td>2015-04-01 22:44:00</td>\n",
       "      <td>-33.89293336151.20229619999998</td>\n",
       "      <td>151.20229619999998-33.89293336</td>\n",
       "    </tr>\n",
       "    <tr>\n",
       "      <td>10474</td>\n",
       "      <td>50501015388B9</td>\n",
       "      <td>REDFERN TE</td>\n",
       "      <td>NaN</td>\n",
       "      <td>4/1/15 22:45</td>\n",
       "      <td>Internet</td>\n",
       "      <td>-33.892933</td>\n",
       "      <td>151.202296</td>\n",
       "      <td>2015-04-01 22:45:00</td>\n",
       "      <td>-33.89293336151.20229619999998</td>\n",
       "      <td>151.20229619999998-33.89293336</td>\n",
       "    </tr>\n",
       "    <tr>\n",
       "      <td>10475</td>\n",
       "      <td>50501015388B9</td>\n",
       "      <td>REDFERN TE</td>\n",
       "      <td>NaN</td>\n",
       "      <td>4/1/15 23:49</td>\n",
       "      <td>Internet</td>\n",
       "      <td>-33.892933</td>\n",
       "      <td>151.202296</td>\n",
       "      <td>2015-04-01 23:49:00</td>\n",
       "      <td>-33.89293336151.20229619999998</td>\n",
       "      <td>151.20229619999998-33.89293336</td>\n",
       "    </tr>\n",
       "  </tbody>\n",
       "</table>\n",
       "<p>334 rows × 10 columns</p>\n",
       "</div>"
      ],
      "text/plain": [
       "                 cgi       tower                                identifier  \\\n",
       "0      50501015388B9  REDFERN TE  f1a6836c0b7a3415a19a90fdd6f0ae18484d6d1e   \n",
       "1      50501015388B9  REDFERN TE  62157ccf2910019ffd915b11fa037243b75c1624   \n",
       "52     50501015388B9  REDFERN TE  6bbc17070aa91e2dab7909b96c6eecbd6109ba56   \n",
       "71     50501015388B9  REDFERN TE  bc0b01860486b0f0a240ce8419d3d7553fe404ab   \n",
       "140    50501015388B9  REDFERN TE  cd3b39466869088df4904451c626591cc500e4ba   \n",
       "...              ...         ...                                       ...   \n",
       "10471  50501015388B9  REDFERN TE                                       NaN   \n",
       "10472  50501015388B9  REDFERN TE                                       NaN   \n",
       "10473  50501015388B9  REDFERN TE                                       NaN   \n",
       "10474  50501015388B9  REDFERN TE                                       NaN   \n",
       "10475  50501015388B9  REDFERN TE                                       NaN   \n",
       "\n",
       "                time      type        lat         lon          time_stamp  \\\n",
       "0        4/1/14 9:40     Phone -33.892933  151.202296 2014-04-01 09:40:00   \n",
       "1        4/1/14 9:42     Phone -33.892933  151.202296 2014-04-01 09:42:00   \n",
       "52     4/13/14 10:58     Phone -33.892933  151.202296 2014-04-13 10:58:00   \n",
       "71     4/14/14 21:11       SMS -33.892933  151.202296 2014-04-14 21:11:00   \n",
       "140    4/26/14 11:57       SMS -33.892933  151.202296 2014-04-26 11:57:00   \n",
       "...              ...       ...        ...         ...                 ...   \n",
       "10471   4/1/15 22:40  Internet -33.892933  151.202296 2015-04-01 22:40:00   \n",
       "10472   4/1/15 22:41  Internet -33.892933  151.202296 2015-04-01 22:41:00   \n",
       "10473   4/1/15 22:44  Internet -33.892933  151.202296 2015-04-01 22:44:00   \n",
       "10474   4/1/15 22:45  Internet -33.892933  151.202296 2015-04-01 22:45:00   \n",
       "10475   4/1/15 23:49  Internet -33.892933  151.202296 2015-04-01 23:49:00   \n",
       "\n",
       "                              lat_lon                         lon_lat  \n",
       "0      -33.89293336151.20229619999998  151.20229619999998-33.89293336  \n",
       "1      -33.89293336151.20229619999998  151.20229619999998-33.89293336  \n",
       "52     -33.89293336151.20229619999998  151.20229619999998-33.89293336  \n",
       "71     -33.89293336151.20229619999998  151.20229619999998-33.89293336  \n",
       "140    -33.89293336151.20229619999998  151.20229619999998-33.89293336  \n",
       "...                               ...                             ...  \n",
       "10471  -33.89293336151.20229619999998  151.20229619999998-33.89293336  \n",
       "10472  -33.89293336151.20229619999998  151.20229619999998-33.89293336  \n",
       "10473  -33.89293336151.20229619999998  151.20229619999998-33.89293336  \n",
       "10474  -33.89293336151.20229619999998  151.20229619999998-33.89293336  \n",
       "10475  -33.89293336151.20229619999998  151.20229619999998-33.89293336  \n",
       "\n",
       "[334 rows x 10 columns]"
      ]
     },
     "execution_count": 26,
     "metadata": {},
     "output_type": "execute_result"
    }
   ],
   "source": [
    "# Looking up a location in REDFERN \n",
    "df.loc[df['cgi'] == '50501015388B9']"
   ]
  },
  {
   "cell_type": "code",
   "execution_count": 27,
   "metadata": {},
   "outputs": [
    {
     "data": {
      "text/html": [
       "<div>\n",
       "<style scoped>\n",
       "    .dataframe tbody tr th:only-of-type {\n",
       "        vertical-align: middle;\n",
       "    }\n",
       "\n",
       "    .dataframe tbody tr th {\n",
       "        vertical-align: top;\n",
       "    }\n",
       "\n",
       "    .dataframe thead th {\n",
       "        text-align: right;\n",
       "    }\n",
       "</style>\n",
       "<table border=\"1\" class=\"dataframe\">\n",
       "  <thead>\n",
       "    <tr style=\"text-align: right;\">\n",
       "      <th></th>\n",
       "      <th>cgi</th>\n",
       "      <th>tower</th>\n",
       "      <th>identifier</th>\n",
       "      <th>time</th>\n",
       "      <th>type</th>\n",
       "      <th>lat</th>\n",
       "      <th>lon</th>\n",
       "      <th>time_stamp</th>\n",
       "      <th>lat_lon</th>\n",
       "      <th>lon_lat</th>\n",
       "    </tr>\n",
       "  </thead>\n",
       "  <tbody>\n",
       "    <tr>\n",
       "      <td>0</td>\n",
       "      <td>50501015388B9</td>\n",
       "      <td>REDFERN TE</td>\n",
       "      <td>f1a6836c0b7a3415a19a90fdd6f0ae18484d6d1e</td>\n",
       "      <td>4/1/14 9:40</td>\n",
       "      <td>Phone</td>\n",
       "      <td>-33.892933</td>\n",
       "      <td>151.202296</td>\n",
       "      <td>2014-04-01 09:40:00</td>\n",
       "      <td>-33.89293336151.20229619999998</td>\n",
       "      <td>151.20229619999998-33.89293336</td>\n",
       "    </tr>\n",
       "    <tr>\n",
       "      <td>1</td>\n",
       "      <td>50501015388B9</td>\n",
       "      <td>REDFERN TE</td>\n",
       "      <td>62157ccf2910019ffd915b11fa037243b75c1624</td>\n",
       "      <td>4/1/14 9:42</td>\n",
       "      <td>Phone</td>\n",
       "      <td>-33.892933</td>\n",
       "      <td>151.202296</td>\n",
       "      <td>2014-04-01 09:42:00</td>\n",
       "      <td>-33.89293336151.20229619999998</td>\n",
       "      <td>151.20229619999998-33.89293336</td>\n",
       "    </tr>\n",
       "    <tr>\n",
       "      <td>52</td>\n",
       "      <td>50501015388B9</td>\n",
       "      <td>REDFERN TE</td>\n",
       "      <td>6bbc17070aa91e2dab7909b96c6eecbd6109ba56</td>\n",
       "      <td>4/13/14 10:58</td>\n",
       "      <td>Phone</td>\n",
       "      <td>-33.892933</td>\n",
       "      <td>151.202296</td>\n",
       "      <td>2014-04-13 10:58:00</td>\n",
       "      <td>-33.89293336151.20229619999998</td>\n",
       "      <td>151.20229619999998-33.89293336</td>\n",
       "    </tr>\n",
       "    <tr>\n",
       "      <td>71</td>\n",
       "      <td>50501015388B9</td>\n",
       "      <td>REDFERN TE</td>\n",
       "      <td>bc0b01860486b0f0a240ce8419d3d7553fe404ab</td>\n",
       "      <td>4/14/14 21:11</td>\n",
       "      <td>SMS</td>\n",
       "      <td>-33.892933</td>\n",
       "      <td>151.202296</td>\n",
       "      <td>2014-04-14 21:11:00</td>\n",
       "      <td>-33.89293336151.20229619999998</td>\n",
       "      <td>151.20229619999998-33.89293336</td>\n",
       "    </tr>\n",
       "    <tr>\n",
       "      <td>140</td>\n",
       "      <td>50501015388B9</td>\n",
       "      <td>REDFERN TE</td>\n",
       "      <td>cd3b39466869088df4904451c626591cc500e4ba</td>\n",
       "      <td>4/26/14 11:57</td>\n",
       "      <td>SMS</td>\n",
       "      <td>-33.892933</td>\n",
       "      <td>151.202296</td>\n",
       "      <td>2014-04-26 11:57:00</td>\n",
       "      <td>-33.89293336151.20229619999998</td>\n",
       "      <td>151.20229619999998-33.89293336</td>\n",
       "    </tr>\n",
       "    <tr>\n",
       "      <td>...</td>\n",
       "      <td>...</td>\n",
       "      <td>...</td>\n",
       "      <td>...</td>\n",
       "      <td>...</td>\n",
       "      <td>...</td>\n",
       "      <td>...</td>\n",
       "      <td>...</td>\n",
       "      <td>...</td>\n",
       "      <td>...</td>\n",
       "      <td>...</td>\n",
       "    </tr>\n",
       "    <tr>\n",
       "      <td>10471</td>\n",
       "      <td>50501015388B9</td>\n",
       "      <td>REDFERN TE</td>\n",
       "      <td>NaN</td>\n",
       "      <td>4/1/15 22:40</td>\n",
       "      <td>Internet</td>\n",
       "      <td>-33.892933</td>\n",
       "      <td>151.202296</td>\n",
       "      <td>2015-04-01 22:40:00</td>\n",
       "      <td>-33.89293336151.20229619999998</td>\n",
       "      <td>151.20229619999998-33.89293336</td>\n",
       "    </tr>\n",
       "    <tr>\n",
       "      <td>10472</td>\n",
       "      <td>50501015388B9</td>\n",
       "      <td>REDFERN TE</td>\n",
       "      <td>NaN</td>\n",
       "      <td>4/1/15 22:41</td>\n",
       "      <td>Internet</td>\n",
       "      <td>-33.892933</td>\n",
       "      <td>151.202296</td>\n",
       "      <td>2015-04-01 22:41:00</td>\n",
       "      <td>-33.89293336151.20229619999998</td>\n",
       "      <td>151.20229619999998-33.89293336</td>\n",
       "    </tr>\n",
       "    <tr>\n",
       "      <td>10473</td>\n",
       "      <td>50501015388B9</td>\n",
       "      <td>REDFERN TE</td>\n",
       "      <td>NaN</td>\n",
       "      <td>4/1/15 22:44</td>\n",
       "      <td>Internet</td>\n",
       "      <td>-33.892933</td>\n",
       "      <td>151.202296</td>\n",
       "      <td>2015-04-01 22:44:00</td>\n",
       "      <td>-33.89293336151.20229619999998</td>\n",
       "      <td>151.20229619999998-33.89293336</td>\n",
       "    </tr>\n",
       "    <tr>\n",
       "      <td>10474</td>\n",
       "      <td>50501015388B9</td>\n",
       "      <td>REDFERN TE</td>\n",
       "      <td>NaN</td>\n",
       "      <td>4/1/15 22:45</td>\n",
       "      <td>Internet</td>\n",
       "      <td>-33.892933</td>\n",
       "      <td>151.202296</td>\n",
       "      <td>2015-04-01 22:45:00</td>\n",
       "      <td>-33.89293336151.20229619999998</td>\n",
       "      <td>151.20229619999998-33.89293336</td>\n",
       "    </tr>\n",
       "    <tr>\n",
       "      <td>10475</td>\n",
       "      <td>50501015388B9</td>\n",
       "      <td>REDFERN TE</td>\n",
       "      <td>NaN</td>\n",
       "      <td>4/1/15 23:49</td>\n",
       "      <td>Internet</td>\n",
       "      <td>-33.892933</td>\n",
       "      <td>151.202296</td>\n",
       "      <td>2015-04-01 23:49:00</td>\n",
       "      <td>-33.89293336151.20229619999998</td>\n",
       "      <td>151.20229619999998-33.89293336</td>\n",
       "    </tr>\n",
       "  </tbody>\n",
       "</table>\n",
       "<p>334 rows × 10 columns</p>\n",
       "</div>"
      ],
      "text/plain": [
       "                 cgi       tower                                identifier  \\\n",
       "0      50501015388B9  REDFERN TE  f1a6836c0b7a3415a19a90fdd6f0ae18484d6d1e   \n",
       "1      50501015388B9  REDFERN TE  62157ccf2910019ffd915b11fa037243b75c1624   \n",
       "52     50501015388B9  REDFERN TE  6bbc17070aa91e2dab7909b96c6eecbd6109ba56   \n",
       "71     50501015388B9  REDFERN TE  bc0b01860486b0f0a240ce8419d3d7553fe404ab   \n",
       "140    50501015388B9  REDFERN TE  cd3b39466869088df4904451c626591cc500e4ba   \n",
       "...              ...         ...                                       ...   \n",
       "10471  50501015388B9  REDFERN TE                                       NaN   \n",
       "10472  50501015388B9  REDFERN TE                                       NaN   \n",
       "10473  50501015388B9  REDFERN TE                                       NaN   \n",
       "10474  50501015388B9  REDFERN TE                                       NaN   \n",
       "10475  50501015388B9  REDFERN TE                                       NaN   \n",
       "\n",
       "                time      type        lat         lon          time_stamp  \\\n",
       "0        4/1/14 9:40     Phone -33.892933  151.202296 2014-04-01 09:40:00   \n",
       "1        4/1/14 9:42     Phone -33.892933  151.202296 2014-04-01 09:42:00   \n",
       "52     4/13/14 10:58     Phone -33.892933  151.202296 2014-04-13 10:58:00   \n",
       "71     4/14/14 21:11       SMS -33.892933  151.202296 2014-04-14 21:11:00   \n",
       "140    4/26/14 11:57       SMS -33.892933  151.202296 2014-04-26 11:57:00   \n",
       "...              ...       ...        ...         ...                 ...   \n",
       "10471   4/1/15 22:40  Internet -33.892933  151.202296 2015-04-01 22:40:00   \n",
       "10472   4/1/15 22:41  Internet -33.892933  151.202296 2015-04-01 22:41:00   \n",
       "10473   4/1/15 22:44  Internet -33.892933  151.202296 2015-04-01 22:44:00   \n",
       "10474   4/1/15 22:45  Internet -33.892933  151.202296 2015-04-01 22:45:00   \n",
       "10475   4/1/15 23:49  Internet -33.892933  151.202296 2015-04-01 23:49:00   \n",
       "\n",
       "                              lat_lon                         lon_lat  \n",
       "0      -33.89293336151.20229619999998  151.20229619999998-33.89293336  \n",
       "1      -33.89293336151.20229619999998  151.20229619999998-33.89293336  \n",
       "52     -33.89293336151.20229619999998  151.20229619999998-33.89293336  \n",
       "71     -33.89293336151.20229619999998  151.20229619999998-33.89293336  \n",
       "140    -33.89293336151.20229619999998  151.20229619999998-33.89293336  \n",
       "...                               ...                             ...  \n",
       "10471  -33.89293336151.20229619999998  151.20229619999998-33.89293336  \n",
       "10472  -33.89293336151.20229619999998  151.20229619999998-33.89293336  \n",
       "10473  -33.89293336151.20229619999998  151.20229619999998-33.89293336  \n",
       "10474  -33.89293336151.20229619999998  151.20229619999998-33.89293336  \n",
       "10475  -33.89293336151.20229619999998  151.20229619999998-33.89293336  \n",
       "\n",
       "[334 rows x 10 columns]"
      ]
     },
     "execution_count": 27,
     "metadata": {},
     "output_type": "execute_result"
    }
   ],
   "source": [
    "df.loc[df['cgi'] == '50501015388B9']"
   ]
  },
  {
   "cell_type": "code",
   "execution_count": null,
   "metadata": {},
   "outputs": [],
   "source": []
  },
  {
   "cell_type": "code",
   "execution_count": 28,
   "metadata": {},
   "outputs": [],
   "source": [
    "# HAYES LOCATION \n",
    "df_4_hayes_st = df.loc[df['cgi'] == '505012056EF02']"
   ]
  },
  {
   "cell_type": "code",
   "execution_count": 29,
   "metadata": {},
   "outputs": [
    {
     "data": {
      "text/plain": [
       "count                    4118\n",
       "unique                   2740\n",
       "top       2015-02-03 08:44:00\n",
       "freq                       10\n",
       "first     2014-09-24 17:17:00\n",
       "last      2015-03-25 16:36:00\n",
       "Name: time_stamp, dtype: object"
      ]
     },
     "execution_count": 29,
     "metadata": {},
     "output_type": "execute_result"
    }
   ],
   "source": [
    "df_4_hayes_st['time_stamp'].describe()"
   ]
  },
  {
   "cell_type": "code",
   "execution_count": 30,
   "metadata": {},
   "outputs": [
    {
     "data": {
      "text/plain": [
       "2015-02-03 08:44:00    10\n",
       "2014-12-04 06:52:00     9\n",
       "2015-01-24 20:53:00     8\n",
       "2014-11-09 13:49:00     7\n",
       "2014-11-09 13:28:00     7\n",
       "                       ..\n",
       "2015-01-02 13:09:00     1\n",
       "2015-02-08 09:40:00     1\n",
       "2014-10-31 20:05:00     1\n",
       "2014-11-16 07:29:00     1\n",
       "2015-01-14 16:11:00     1\n",
       "Name: time_stamp, Length: 2740, dtype: int64"
      ]
     },
     "execution_count": 30,
     "metadata": {},
     "output_type": "execute_result"
    }
   ],
   "source": [
    "df_4_hayes_st['time_stamp'].value_counts()"
   ]
  },
  {
   "cell_type": "code",
   "execution_count": 31,
   "metadata": {},
   "outputs": [
    {
     "data": {
      "text/plain": [
       "Internet    3929\n",
       "SMS          187\n",
       "Phone          2\n",
       "Name: type, dtype: int64"
      ]
     },
     "execution_count": 31,
     "metadata": {},
     "output_type": "execute_result"
    }
   ],
   "source": [
    "df_4_hayes_st['type'].value_counts()"
   ]
  },
  {
   "cell_type": "code",
   "execution_count": null,
   "metadata": {},
   "outputs": [],
   "source": []
  },
  {
   "cell_type": "code",
   "execution_count": 32,
   "metadata": {},
   "outputs": [],
   "source": [
    "# Regent Street, Sydney Chippendale, New South Wales, 2008\n",
    "# Chippendale Sydney Australia\n",
    "df_regent_st = df.loc[df['cgi'] == '5050101532B23']"
   ]
  },
  {
   "cell_type": "code",
   "execution_count": 33,
   "metadata": {},
   "outputs": [
    {
     "data": {
      "text/plain": [
       "count                     998\n",
       "unique                    606\n",
       "top       2015-01-30 16:01:00\n",
       "freq                        6\n",
       "first     2014-04-01 17:36:00\n",
       "last      2015-04-01 17:29:00\n",
       "Name: time_stamp, dtype: object"
      ]
     },
     "execution_count": 33,
     "metadata": {},
     "output_type": "execute_result"
    }
   ],
   "source": [
    "df_regent_st['time_stamp'].describe()"
   ]
  },
  {
   "cell_type": "code",
   "execution_count": 34,
   "metadata": {},
   "outputs": [
    {
     "data": {
      "text/plain": [
       "2015-01-30 16:01:00    6\n",
       "2014-12-15 07:01:00    5\n",
       "2014-11-11 15:14:00    5\n",
       "2015-01-28 12:50:00    5\n",
       "2014-11-17 15:20:00    5\n",
       "                      ..\n",
       "2014-11-27 12:11:00    1\n",
       "2015-03-18 09:03:00    1\n",
       "2014-12-17 06:15:00    1\n",
       "2015-01-07 10:30:00    1\n",
       "2015-03-19 06:59:00    1\n",
       "Name: time_stamp, Length: 606, dtype: int64"
      ]
     },
     "execution_count": 34,
     "metadata": {},
     "output_type": "execute_result"
    }
   ],
   "source": [
    "df_regent_st['time_stamp'].value_counts()"
   ]
  },
  {
   "cell_type": "code",
   "execution_count": 35,
   "metadata": {},
   "outputs": [
    {
     "data": {
      "text/plain": [
       "Internet    981\n",
       "Phone        15\n",
       "SMS           2\n",
       "Name: type, dtype: int64"
      ]
     },
     "execution_count": 35,
     "metadata": {},
     "output_type": "execute_result"
    }
   ],
   "source": [
    "df_regent_st['type'].value_counts()"
   ]
  },
  {
   "cell_type": "code",
   "execution_count": null,
   "metadata": {},
   "outputs": [],
   "source": []
  },
  {
   "cell_type": "code",
   "execution_count": 210,
   "metadata": {},
   "outputs": [],
   "source": [
    "# MAPPING\n",
    "import gmplot\n",
    "# also: pip install gmplot\n",
    "# also tried: conda install -c mlgill gmplot\n",
    "# conda install -c mlgill gmplot\n",
    "# I am not sure which one worked!!!!"
   ]
  },
  {
   "cell_type": "code",
   "execution_count": 38,
   "metadata": {},
   "outputs": [
    {
     "name": "stdout",
     "output_type": "stream",
     "text": [
      "Requirement already satisfied: gmplot in /Users/hanhuang/opt/anaconda3/lib/python3.7/site-packages (1.2.0)\n",
      "Requirement already satisfied: requests in /Users/hanhuang/opt/anaconda3/lib/python3.7/site-packages (from gmplot) (2.22.0)\n",
      "Requirement already satisfied: urllib3!=1.25.0,!=1.25.1,<1.26,>=1.21.1 in /Users/hanhuang/opt/anaconda3/lib/python3.7/site-packages (from requests->gmplot) (1.24.2)\n",
      "Requirement already satisfied: chardet<3.1.0,>=3.0.2 in /Users/hanhuang/opt/anaconda3/lib/python3.7/site-packages (from requests->gmplot) (3.0.4)\n",
      "Requirement already satisfied: certifi>=2017.4.17 in /Users/hanhuang/opt/anaconda3/lib/python3.7/site-packages (from requests->gmplot) (2019.9.11)\n",
      "Requirement already satisfied: idna<2.9,>=2.5 in /Users/hanhuang/opt/anaconda3/lib/python3.7/site-packages (from requests->gmplot) (2.8)\n",
      "Note: you may need to restart the kernel to use updated packages.\n"
     ]
    }
   ],
   "source": [
    "pip install gmplot"
   ]
  },
  {
   "cell_type": "code",
   "execution_count": 225,
   "metadata": {},
   "outputs": [
    {
     "name": "stdout",
     "output_type": "stream",
     "text": [
      "Collecting package metadata (current_repodata.json): done\n",
      "Solving environment: failed with initial frozen solve. Retrying with flexible solve.\n",
      "Solving environment: failed with repodata from current_repodata.json, will retry with next repodata source.\n",
      "Collecting package metadata (repodata.json): done\n",
      "Solving environment: failed with initial frozen solve. Retrying with flexible solve.\n",
      "Solving environment: \\ \n",
      "Found conflicts! Looking for incompatible packages.\n",
      "This can take several minutes.  Press CTRL-C to abort.\n",
      "Examining wheel:   6%|█▌                      | 2/32 [00:00<00:00, 18517.90it/s]\n",
      "Comparing specs that have this dependency:   0%|          | 0/2 [00:00<?, ?it/s]\u001b[A\n",
      "\n",
      "Finding conflict paths:   0%|                             | 0/1 [00:00<?, ?it/s]\u001b[A\u001b[A\n",
      "\n",
      "Finding shortest conflict path for wheel:   0%|           | 0/1 [00:00<?, ?it/s]\u001b[A\u001b| \n",
      "\n",
      "                                                                                \u001b[A\u001b[A\n",
      "\n",
      "Finding conflict paths:   0%|                             | 0/1 [00:00<?, ?it/s]\u001b[A\u001b[A\n",
      "\n",
      "Finding shortest conflict path for wheel:   0%|           | 0/1 [00:00<?, ?it/s]\u001b[A\u001b[A\n",
      "\n",
      "                                                                                \u001b[A\u001b[A\n",
      "Examining python:  44%|██████████▌             | 14/32 [00:00<00:00, 204.60it/s]\u001b[A\n",
      "Comparing specs that have this dependency:   0%|          | 0/2 [00:00<?, ?it/s]\u001b[A\n",
      "\n",
      "Finding conflict paths:   0%|                             | 0/7 [00:00<?, ?it/s]\u001b[A\u001b[A\n",
      "\n",
      "Finding shortest conflict path for python[version='>=3.5,<3.6.0a0']:   0%| | 0/7 [00:00<?, ?it/s]\u001b[A\u001b[A\n",
      "\n",
      "Finding shortest conflict path for python=2.7:  14%|▏| 1/7 [00:00<00:00, 256.88it/s]             \u001b[A\u001b[A\n",
      "\n",
      "Finding shortest conflict path for python[version='>=2.7,<2.8.0a0']:  29%|▎| 2/7 [00:00<00:00, 496.90it/s]\u001b[A\u001b[A\n",
      "\n",
      "Finding shortest conflict path for python[version='<=3.3']:  43%|▍| 3/7 [00:00<00:00, 629.74it/s]         \u001b[A\u001b[A\n",
      "\n",
      "Finding shortest conflict path for python=3.5:  57%|▌| 4/7 [00:00<00:00, 105.47it/s]             \u001b[A\u001b[A\n",
      "\n",
      "Finding shortest conflict path for python:  71%|▋| 5/7 [00:00<00:00, 130.15it/s]    \u001b[A\u001b/ \n",
      "\n",
      "Finding shortest conflict path for python=3.7:  86%|▊| 6/7 [00:00<00:00, 35.63it/s]\u001b[A\u001b[A\n",
      "\n",
      "Finding shortest conflict path for python=3.7: 100%|█| 7/7 [00:00<00:00, 41.56it/s]\u001b[A\u001b- \n",
      "\n",
      "                                                                                   \u001b[A\u001b[A\n",
      "Comparing specs that have this dependency:  50%|█ | 1/2 [00:00<00:00,  3.35it/s]\u001b[A\n",
      "\n",
      "Finding conflict paths:   0%|                             | 0/2 [00:00<?, ?it/s]\u001b[A\u001b[A\n",
      "\n",
      "Finding shortest conflict path for python[version='>=3.7,<3.8.0a0']:   0%| | 0/2 [00:00<?, ?it/s]\u001b[A\u001b[A\n",
      "\n",
      "Finding shortest conflict path for python=3.7:  50%|▌| 1/2 [00:00<00:00, 15420.24it/s]           \u001b[A\u001b[A\n",
      "\n",
      "                                                                                      \u001b[A\u001b[A\n",
      "Examining pip:  59%|████████████████▋           | 19/32 [00:00<00:00, 43.44it/s]\u001b[A\n",
      "Comparing specs that have this dependency:   0%|          | 0/2 [00:00<?, ?it/s]\u001b[A\n",
      "\n",
      "Finding conflict paths:   0%|                             | 0/1 [00:00<?, ?it/s]\u001b[A\u001b[A\n",
      "\n",
      "Finding shortest conflict path for pip:   0%|             | 0/1 [00:00<?, ?it/s]\u001b[A\u001b[A\n",
      "\n",
      "                                                                                \u001b[A\u001b[A\n",
      "\n",
      "Finding conflict paths:   0%|                             | 0/1 [00:00<?, ?it/s]\u001b[A\u001b[A\n",
      "\n",
      "Finding shortest conflict path for pip:   0%|             | 0/1 [00:00<?, ?it/s]\u001b[A\u001b[A\n",
      "\n",
      "                                                                                \u001b[A\u001b[A\n",
      "Examining setuptools:  81%|█████████████████    | 26/32 [00:00<00:00, 43.44it/s]\u001b[A\n",
      "Comparing specs that have this dependency:   0%|          | 0/2 [00:00<?, ?it/s]\u001b[A\n",
      "\n",
      "Finding conflict paths:   0%|                             | 0/1 [00:00<?, ?it/s]\u001b[A\u001b[A\n",
      "\n",
      "Finding shortest conflict path for setuptools:   0%|      | 0/1 [00:00<?, ?it/s]\u001b[A\u001b\\ \n",
      "\n",
      "                                                                                \u001b[A\u001b[A\n",
      "\n",
      "Finding conflict paths:   0%|                             | 0/1 [00:00<?, ?it/s]\u001b[A\u001b[A\n",
      "\n",
      "Finding shortest conflict path for setuptools:   0%|      | 0/1 [00:00<?, ?it/s]\u001b[A\u001b[A\n",
      "\n",
      "                                                                                \u001b[A\u001b[A\n",
      "Examining certifi:  94%|██████████████████████▌ | 30/32 [00:00<00:00, 43.44it/s]\u001b[A\n",
      "Comparing specs that have this dependency:   0%|          | 0/2 [00:00<?, ?it/s]\u001b[A\n",
      "\n",
      "Finding conflict paths:   0%|                             | 0/5 [00:00<?, ?it/s]\u001b[A\u001b[A\n",
      "\n",
      "Finding shortest conflict path for certifi[version='>=2016.9.26']:   0%| | 0/5 [00:00<?, ?it/s]\u001b[A\u001b/ \n",
      "\n",
      "Finding shortest conflict path for certifi[version='>=2017.4.17']:  20%|▏| 1/5 [00:00<00:00,  5.18it/s]\u001b[A\u001b[A\n",
      "\n",
      "Finding shortest conflict path for certifi[version='>=2017.4.17']:  40%|▍| 2/5 [00:00<00:00, 10.37it/s]\u001b[A\u001b[A\n",
      "\n",
      "Finding shortest conflict path for certifi:  40%|▍| 2/5 [00:00<00:00, 10.37it/s]                       \u001b[A\u001b- \n",
      "\n",
      "Finding shortest conflict path for ca-certificates:  60%|▌| 3/5 [00:00<00:00, 10.37it/s]\u001b[A\u001b[A\n",
      "\n",
      "Finding shortest conflict path for ca-certificates:  80%|▊| 4/5 [00:00<00:00, 11.24it/s]\u001b[A\u001b[A\n",
      "\n",
      "Finding shortest conflict path for certifi[version='>=2016.09']:  80%|▊| 4/5 [00:00<00:00, 11.24it/s]\u001b[A\u001b| \n",
      "\n",
      "                                                                                                     \u001b[A\u001b[A\n",
      "Comparing specs that have this dependency:  50%|█ | 1/2 [00:00<00:00,  1.88it/s]\u001b[A\n",
      "\n",
      "Finding conflict paths:   0%|                             | 0/3 [00:00<?, ?it/s]\u001b[A\u001b[A\n",
      "\n",
      "Finding shortest conflict path for certifi[version='>=2016.09']:   0%| | 0/3 [00:00<?, ?it/s]\u001b[A\u001b[A\n",
      "\n",
      "Finding shortest conflict path for ca-certificates:  33%|▎| 1/3 [00:00<00:00, 38.92it/s]     \u001b[A\u001b[A\n",
      "\n",
      "Finding shortest conflict path for certifi[version='>=2016.9.26']:  67%|▋| 2/3 [00:00<00:00, 65.22it/s]\u001b[A\u001b[A\n",
      "\n",
      "                                                                                                       \u001b[A\u001b[A\n",
      "                                                                               failed\n",
      "\n",
      "UnsatisfiableError: The following specifications were found\n",
      "to be incompatible with the existing python installation in your environment:\n",
      "\n",
      "Specifications:\n",
      "\n",
      "  - gmplot -> python[version='2.7.*|3.5.*']\n",
      "  - gmplot -> python[version='<=3.3']\n",
      "  - gmplot -> python[version='>=2.7,<2.8.0a0|>=3.5,<3.6.0a0']\n",
      "\n",
      "Your python: python=3.7\n",
      "\n",
      "If python is on the left-most side of the chain, that's the version you've asked for.\n",
      "When python appears to the right, that indicates that the thing on the left is somehow\n",
      "not available for the python version you are constrained to. Note that conda will not\n",
      "change your python version to a different minor version unless you explicitly specify\n",
      "that.\n",
      "\n",
      "The following specifications were found to be incompatible with each other:\n",
      "\n",
      "\n",
      "\n",
      "Package ca-certificates conflicts for:\n",
      "python=3.7 -> openssl[version='>=1.1.1c,<1.1.2a'] -> ca-certificates\n",
      "gmplot -> requests -> ca-certificates\n",
      "Package certifi conflicts for:\n",
      "gmplot -> python=2.7 -> pip -> setuptools -> certifi[version='>=2016.09|>=2016.9.26']\n",
      "gmplot -> requests -> urllib3[version='>=1.21.1,<1.23'] -> certifi\n",
      "python=3.7 -> pip -> setuptools -> certifi[version='>=2016.09|>=2016.9.26']\n",
      "Package pip conflicts for:\n",
      "gmplot -> python=2.7 -> pip\n",
      "python=3.7 -> pip\n",
      "Package setuptools conflicts for:\n",
      "gmplot -> python=2.7 -> pip -> setuptools\n",
      "python=3.7 -> pip -> setuptools\n",
      "Package wheel conflicts for:\n",
      "python=3.7 -> pip -> wheel\n",
      "gmplot -> python=2.7 -> pip -> wheel\n",
      "\n",
      "\n",
      "Note: you may need to restart the kernel to use updated packages.\n"
     ]
    }
   ],
   "source": [
    "conda install -c mlgill gmplot"
   ]
  },
  {
   "cell_type": "code",
   "execution_count": 46,
   "metadata": {},
   "outputs": [],
   "source": [
    "import gmplot"
   ]
  },
  {
   "cell_type": "code",
   "execution_count": null,
   "metadata": {},
   "outputs": [],
   "source": []
  },
  {
   "cell_type": "code",
   "execution_count": 53,
   "metadata": {},
   "outputs": [],
   "source": [
    "# AN EXAMPLE I FOUND TO BUILD OFF \n",
    "# NEW DATA FRAME FOR THE FILE BELOW \n",
    "data = pd.read_csv('./llatest.csv', sep=',')"
   ]
  },
  {
   "cell_type": "code",
   "execution_count": 50,
   "metadata": {},
   "outputs": [],
   "source": [
    "# THIS IS TAKEN FROM THIS URL AND IT WORKS!!!!\n",
    "# https://medium.com/@stevenvandorpe/gmplot-in-jupyter-installation-guide-and-package-exploration-338756e8f26\n",
    "\n",
    "min_lat, max_lat, min_lon, max_lon = \\\n",
    "min(data['lat']), max(data['lat']), \\\n",
    "min(data['lon']), max(data['lon'])\n",
    "## Create empty map with zoom level 16\n",
    "mymap = gmplot.GoogleMapPlotter(\n",
    "    min_lat + (max_lat - min_lat) / 2, \n",
    "    min_lon + (max_lon - min_lon) / 2, \n",
    "    16)"
   ]
  },
  {
   "cell_type": "code",
   "execution_count": 54,
   "metadata": {},
   "outputs": [
    {
     "data": {
      "text/plain": [
       "32512"
      ]
     },
     "execution_count": 54,
     "metadata": {},
     "output_type": "execute_result"
    }
   ],
   "source": [
    "mymap.plot(data['lat'], data['lon'], 'blue', edge_width=1)\n",
    "mymap.draw('my_gm_plot2.html')\n",
    "os.system('my_gm_plot2.html')\n",
    "# THIS CREATES A FILE IN THE FOLDER"
   ]
  },
  {
   "cell_type": "code",
   "execution_count": null,
   "metadata": {},
   "outputs": [],
   "source": []
  },
  {
   "cell_type": "code",
   "execution_count": 57,
   "metadata": {},
   "outputs": [
    {
     "data": {
      "text/plain": [
       "32512"
      ]
     },
     "execution_count": 57,
     "metadata": {},
     "output_type": "execute_result"
    }
   ],
   "source": [
    "# TEST & APPLY TO TELECOMM DF\n",
    "min_lat, max_lat, min_lon, max_lon = \\\n",
    "min(df['lat']), max(df['lat']), \\\n",
    "min(df['lon']), max(df['lon'])\n",
    "## Create empty map with zoom level 16\n",
    "mymap2 = gmplot.GoogleMapPlotter(\n",
    "    min_lat + (max_lat - min_lat) / 2, \n",
    "    min_lon + (max_lon - min_lon) / 2, \n",
    "    16)\n",
    "mymap2.plot(df['lat'], df['lon'], 'blue', edge_width=1)\n",
    "mymap2.draw('telecoms_map.html')\n",
    "os.system('telecoms_map.html')"
   ]
  },
  {
   "cell_type": "code",
   "execution_count": 47,
   "metadata": {},
   "outputs": [],
   "source": []
  }
 ],
 "metadata": {
  "kernelspec": {
   "display_name": "Python 3",
   "language": "python",
   "name": "python3"
  },
  "language_info": {
   "codemirror_mode": {
    "name": "ipython",
    "version": 3
   },
   "file_extension": ".py",
   "mimetype": "text/x-python",
   "name": "python",
   "nbconvert_exporter": "python",
   "pygments_lexer": "ipython3",
   "version": "3.7.4"
  }
 },
 "nbformat": 4,
 "nbformat_minor": 2
}
