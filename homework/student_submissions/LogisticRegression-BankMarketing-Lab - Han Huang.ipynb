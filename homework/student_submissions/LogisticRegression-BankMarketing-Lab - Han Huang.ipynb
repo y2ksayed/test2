{
 "cells": [
  {
   "cell_type": "markdown",
   "metadata": {},
   "source": [
    "\n",
    "<img src=\"http://imgur.com/1ZcRyrc.png\" style=\"float: left; margin: 20px; height: 55px\">\n",
    "\n",
    "\n",
    "# Logistic Regresion Lab\n",
    "## Exercise with bank marketing data\n",
    "\n",
    "_Authors: Sam Stack(DC)_"
   ]
  },
  {
   "cell_type": "markdown",
   "metadata": {},
   "source": [
    "## Introduction\n",
    "- Data from the UCI Machine Learning Repository: data, [data dictionary](https://archive.ics.uci.edu/ml/datasets/Bank+Marketing)\n",
    "- **Goal**: Predict whether a customer will purchase a bank product marketed over the phone\n",
    "- `bank-additional.csv` is already in our repo, so there is no need to download the data from the UCI website\n",
    "\n",
    "## Step 1: Read the data into Pandas"
   ]
  },
  {
   "cell_type": "code",
   "execution_count": 1,
   "metadata": {},
   "outputs": [
    {
     "data": {
      "text/html": [
       "<div>\n",
       "<style scoped>\n",
       "    .dataframe tbody tr th:only-of-type {\n",
       "        vertical-align: middle;\n",
       "    }\n",
       "\n",
       "    .dataframe tbody tr th {\n",
       "        vertical-align: top;\n",
       "    }\n",
       "\n",
       "    .dataframe thead th {\n",
       "        text-align: right;\n",
       "    }\n",
       "</style>\n",
       "<table border=\"1\" class=\"dataframe\">\n",
       "  <thead>\n",
       "    <tr style=\"text-align: right;\">\n",
       "      <th></th>\n",
       "      <th>age</th>\n",
       "      <th>job</th>\n",
       "      <th>marital</th>\n",
       "      <th>education</th>\n",
       "      <th>default</th>\n",
       "      <th>housing</th>\n",
       "      <th>loan</th>\n",
       "      <th>contact</th>\n",
       "      <th>month</th>\n",
       "      <th>day_of_week</th>\n",
       "      <th>...</th>\n",
       "      <th>campaign</th>\n",
       "      <th>pdays</th>\n",
       "      <th>previous</th>\n",
       "      <th>poutcome</th>\n",
       "      <th>emp.var.rate</th>\n",
       "      <th>cons.price.idx</th>\n",
       "      <th>cons.conf.idx</th>\n",
       "      <th>euribor3m</th>\n",
       "      <th>nr.employed</th>\n",
       "      <th>y</th>\n",
       "    </tr>\n",
       "  </thead>\n",
       "  <tbody>\n",
       "    <tr>\n",
       "      <td>0</td>\n",
       "      <td>30</td>\n",
       "      <td>blue-collar</td>\n",
       "      <td>married</td>\n",
       "      <td>basic.9y</td>\n",
       "      <td>no</td>\n",
       "      <td>yes</td>\n",
       "      <td>no</td>\n",
       "      <td>cellular</td>\n",
       "      <td>may</td>\n",
       "      <td>fri</td>\n",
       "      <td>...</td>\n",
       "      <td>2</td>\n",
       "      <td>999</td>\n",
       "      <td>0</td>\n",
       "      <td>nonexistent</td>\n",
       "      <td>-1.8</td>\n",
       "      <td>92.893</td>\n",
       "      <td>-46.2</td>\n",
       "      <td>1.313</td>\n",
       "      <td>5099.1</td>\n",
       "      <td>0</td>\n",
       "    </tr>\n",
       "    <tr>\n",
       "      <td>1</td>\n",
       "      <td>39</td>\n",
       "      <td>services</td>\n",
       "      <td>single</td>\n",
       "      <td>high.school</td>\n",
       "      <td>no</td>\n",
       "      <td>no</td>\n",
       "      <td>no</td>\n",
       "      <td>telephone</td>\n",
       "      <td>may</td>\n",
       "      <td>fri</td>\n",
       "      <td>...</td>\n",
       "      <td>4</td>\n",
       "      <td>999</td>\n",
       "      <td>0</td>\n",
       "      <td>nonexistent</td>\n",
       "      <td>1.1</td>\n",
       "      <td>93.994</td>\n",
       "      <td>-36.4</td>\n",
       "      <td>4.855</td>\n",
       "      <td>5191.0</td>\n",
       "      <td>0</td>\n",
       "    </tr>\n",
       "    <tr>\n",
       "      <td>2</td>\n",
       "      <td>25</td>\n",
       "      <td>services</td>\n",
       "      <td>married</td>\n",
       "      <td>high.school</td>\n",
       "      <td>no</td>\n",
       "      <td>yes</td>\n",
       "      <td>no</td>\n",
       "      <td>telephone</td>\n",
       "      <td>jun</td>\n",
       "      <td>wed</td>\n",
       "      <td>...</td>\n",
       "      <td>1</td>\n",
       "      <td>999</td>\n",
       "      <td>0</td>\n",
       "      <td>nonexistent</td>\n",
       "      <td>1.4</td>\n",
       "      <td>94.465</td>\n",
       "      <td>-41.8</td>\n",
       "      <td>4.962</td>\n",
       "      <td>5228.1</td>\n",
       "      <td>0</td>\n",
       "    </tr>\n",
       "    <tr>\n",
       "      <td>3</td>\n",
       "      <td>38</td>\n",
       "      <td>services</td>\n",
       "      <td>married</td>\n",
       "      <td>basic.9y</td>\n",
       "      <td>no</td>\n",
       "      <td>unknown</td>\n",
       "      <td>unknown</td>\n",
       "      <td>telephone</td>\n",
       "      <td>jun</td>\n",
       "      <td>fri</td>\n",
       "      <td>...</td>\n",
       "      <td>3</td>\n",
       "      <td>999</td>\n",
       "      <td>0</td>\n",
       "      <td>nonexistent</td>\n",
       "      <td>1.4</td>\n",
       "      <td>94.465</td>\n",
       "      <td>-41.8</td>\n",
       "      <td>4.959</td>\n",
       "      <td>5228.1</td>\n",
       "      <td>0</td>\n",
       "    </tr>\n",
       "    <tr>\n",
       "      <td>4</td>\n",
       "      <td>47</td>\n",
       "      <td>admin.</td>\n",
       "      <td>married</td>\n",
       "      <td>university.degree</td>\n",
       "      <td>no</td>\n",
       "      <td>yes</td>\n",
       "      <td>no</td>\n",
       "      <td>cellular</td>\n",
       "      <td>nov</td>\n",
       "      <td>mon</td>\n",
       "      <td>...</td>\n",
       "      <td>1</td>\n",
       "      <td>999</td>\n",
       "      <td>0</td>\n",
       "      <td>nonexistent</td>\n",
       "      <td>-0.1</td>\n",
       "      <td>93.200</td>\n",
       "      <td>-42.0</td>\n",
       "      <td>4.191</td>\n",
       "      <td>5195.8</td>\n",
       "      <td>0</td>\n",
       "    </tr>\n",
       "  </tbody>\n",
       "</table>\n",
       "<p>5 rows × 21 columns</p>\n",
       "</div>"
      ],
      "text/plain": [
       "   age          job  marital          education default  housing     loan  \\\n",
       "0   30  blue-collar  married           basic.9y      no      yes       no   \n",
       "1   39     services   single        high.school      no       no       no   \n",
       "2   25     services  married        high.school      no      yes       no   \n",
       "3   38     services  married           basic.9y      no  unknown  unknown   \n",
       "4   47       admin.  married  university.degree      no      yes       no   \n",
       "\n",
       "     contact month day_of_week  ...  campaign  pdays  previous     poutcome  \\\n",
       "0   cellular   may         fri  ...         2    999         0  nonexistent   \n",
       "1  telephone   may         fri  ...         4    999         0  nonexistent   \n",
       "2  telephone   jun         wed  ...         1    999         0  nonexistent   \n",
       "3  telephone   jun         fri  ...         3    999         0  nonexistent   \n",
       "4   cellular   nov         mon  ...         1    999         0  nonexistent   \n",
       "\n",
       "  emp.var.rate  cons.price.idx  cons.conf.idx  euribor3m  nr.employed  y  \n",
       "0         -1.8          92.893          -46.2      1.313       5099.1  0  \n",
       "1          1.1          93.994          -36.4      4.855       5191.0  0  \n",
       "2          1.4          94.465          -41.8      4.962       5228.1  0  \n",
       "3          1.4          94.465          -41.8      4.959       5228.1  0  \n",
       "4         -0.1          93.200          -42.0      4.191       5195.8  0  \n",
       "\n",
       "[5 rows x 21 columns]"
      ]
     },
     "execution_count": 1,
     "metadata": {},
     "output_type": "execute_result"
    }
   ],
   "source": [
    "import pandas as pd\n",
    "bank = pd.read_csv('./bank.csv')\n",
    "bank.head()"
   ]
  },
  {
   "cell_type": "code",
   "execution_count": 2,
   "metadata": {},
   "outputs": [],
   "source": [
    "# info on features https://www.kaggle.com/janiobachmann/bank-marketing-dataset"
   ]
  },
  {
   "cell_type": "markdown",
   "metadata": {},
   "source": [
    "**  Target '`y`' represented as such**\n",
    "    - No : 0\n",
    "    - Yes : 1\n",
    "    \n"
   ]
  },
  {
   "cell_type": "code",
   "execution_count": 3,
   "metadata": {},
   "outputs": [],
   "source": [
    "# Perform what ever steps you need to familiarize yourself with the data:"
   ]
  },
  {
   "cell_type": "code",
   "execution_count": 4,
   "metadata": {},
   "outputs": [
    {
     "data": {
      "text/plain": [
       "(4119, 21)"
      ]
     },
     "execution_count": 4,
     "metadata": {},
     "output_type": "execute_result"
    }
   ],
   "source": [
    "bank.shape"
   ]
  },
  {
   "cell_type": "code",
   "execution_count": 5,
   "metadata": {},
   "outputs": [
    {
     "data": {
      "text/plain": [
       "age                 int64\n",
       "job                object\n",
       "marital            object\n",
       "education          object\n",
       "default            object\n",
       "housing            object\n",
       "loan               object\n",
       "contact            object\n",
       "month              object\n",
       "day_of_week        object\n",
       "duration            int64\n",
       "campaign            int64\n",
       "pdays               int64\n",
       "previous            int64\n",
       "poutcome           object\n",
       "emp.var.rate      float64\n",
       "cons.price.idx    float64\n",
       "cons.conf.idx     float64\n",
       "euribor3m         float64\n",
       "nr.employed       float64\n",
       "y                   int64\n",
       "dtype: object"
      ]
     },
     "execution_count": 5,
     "metadata": {},
     "output_type": "execute_result"
    }
   ],
   "source": [
    "bank.dtypes"
   ]
  },
  {
   "cell_type": "code",
   "execution_count": 6,
   "metadata": {},
   "outputs": [
    {
     "data": {
      "text/plain": [
       "age               0\n",
       "job               0\n",
       "marital           0\n",
       "education         0\n",
       "default           0\n",
       "housing           0\n",
       "loan              0\n",
       "contact           0\n",
       "month             0\n",
       "day_of_week       0\n",
       "duration          0\n",
       "campaign          0\n",
       "pdays             0\n",
       "previous          0\n",
       "poutcome          0\n",
       "emp.var.rate      0\n",
       "cons.price.idx    0\n",
       "cons.conf.idx     0\n",
       "euribor3m         0\n",
       "nr.employed       0\n",
       "y                 0\n",
       "dtype: int64"
      ]
     },
     "execution_count": 6,
     "metadata": {},
     "output_type": "execute_result"
    }
   ],
   "source": [
    "bank.isnull().sum()"
   ]
  },
  {
   "cell_type": "markdown",
   "metadata": {},
   "source": [
    "\n",
    "## Step 2: Prepare at least three features\n",
    "- Include both numeric and categorical features\n",
    "- Choose features that you think might be related to the response (based on intuition or exploration)\n",
    "- Think about how to handle missing values (encoded as \"unknown\")"
   ]
  },
  {
   "cell_type": "code",
   "execution_count": 7,
   "metadata": {},
   "outputs": [
    {
     "data": {
      "text/plain": [
       "y                 1.000000\n",
       "duration          0.418565\n",
       "nr.employed       0.349241\n",
       "pdays             0.332012\n",
       "euribor3m         0.298565\n",
       "emp.var.rate      0.283216\n",
       "previous          0.255697\n",
       "cons.price.idx    0.098326\n",
       "campaign          0.076091\n",
       "age               0.060374\n",
       "cons.conf.idx     0.054393\n",
       "Name: y, dtype: float64"
      ]
     },
     "execution_count": 7,
     "metadata": {},
     "output_type": "execute_result"
    }
   ],
   "source": [
    "# Check for correlation against y\n",
    "# From this list choose duration as it is the most correlated of all numeric features to Y\n",
    "abs(bank.corr()['y']).sort_values(ascending=False)"
   ]
  },
  {
   "cell_type": "code",
   "execution_count": 8,
   "metadata": {},
   "outputs": [],
   "source": [
    "# y indicates a consumer successfully signing up to make a term deposit in direct response to the marketing program\n",
    "# Select housing and marital as the other two features to test \n",
    "# Assumes consumers with home loans are more likely to be savers\n",
    "# Assumes the ype of job a person does is correlated to income and this in turn effects this persons ability to save"
   ]
  },
  {
   "cell_type": "code",
   "execution_count": 9,
   "metadata": {},
   "outputs": [
    {
     "data": {
      "text/plain": [
       "yes        2175\n",
       "no         1839\n",
       "unknown     105\n",
       "Name: housing, dtype: int64"
      ]
     },
     "execution_count": 9,
     "metadata": {},
     "output_type": "execute_result"
    }
   ],
   "source": [
    "# Check for the quantity of unknown values for housing column\n",
    "bank.housing.value_counts()"
   ]
  },
  {
   "cell_type": "code",
   "execution_count": 10,
   "metadata": {},
   "outputs": [
    {
     "name": "stdout",
     "output_type": "stream",
     "text": [
      "0.08571428571428572\n",
      "0.11011459890383657\n",
      "0.025491624180626365\n"
     ]
    }
   ],
   "source": [
    "# check the baseline accuracy for the feature jobs for those rows that have the value 'Unknown'\n",
    "print(bank[bank.housing == 'unknown'].y.mean())\n",
    "# Compare this to the baseline accuracy of those that are not \n",
    "print(bank[bank.housing != 'unknown'].y.mean())\n",
    "# The unknowns for housing makes up such a small % of total (less that 3% of total)\n",
    "print(len(bank[bank.housing == 'unknown']) / len(bank))\n",
    "# Therefore I am going to eliminate these rows from further analysis "
   ]
  },
  {
   "cell_type": "code",
   "execution_count": 11,
   "metadata": {},
   "outputs": [
    {
     "name": "stdout",
     "output_type": "stream",
     "text": [
      "0.10256410256410256\n",
      "0.10955882352941176\n",
      "0.009468317552804079\n"
     ]
    }
   ],
   "source": [
    "# check the baseline accuracy for the feature jobs for those rows that have the value 'Unknown' \n",
    "print(bank[bank.job == 'unknown'].y.mean())\n",
    "# Compare this to the baseline accuracy of those that are not \n",
    "print(bank[bank.job != 'unknown'].y.mean())\n",
    "# The unknowns for job makes up less a 1/10th of a percent of total rows\n",
    "print(len(bank[bank.job == 'unknown']) / len(bank))\n",
    "# Therefore I am going to eliminate these rows from further analysis "
   ]
  },
  {
   "cell_type": "code",
   "execution_count": 12,
   "metadata": {},
   "outputs": [
    {
     "data": {
      "text/html": [
       "<div>\n",
       "<style scoped>\n",
       "    .dataframe tbody tr th:only-of-type {\n",
       "        vertical-align: middle;\n",
       "    }\n",
       "\n",
       "    .dataframe tbody tr th {\n",
       "        vertical-align: top;\n",
       "    }\n",
       "\n",
       "    .dataframe thead th {\n",
       "        text-align: right;\n",
       "    }\n",
       "</style>\n",
       "<table border=\"1\" class=\"dataframe\">\n",
       "  <thead>\n",
       "    <tr style=\"text-align: right;\">\n",
       "      <th></th>\n",
       "      <th>age</th>\n",
       "      <th>job</th>\n",
       "      <th>marital</th>\n",
       "      <th>education</th>\n",
       "      <th>default</th>\n",
       "      <th>housing</th>\n",
       "      <th>loan</th>\n",
       "      <th>contact</th>\n",
       "      <th>month</th>\n",
       "      <th>day_of_week</th>\n",
       "      <th>...</th>\n",
       "      <th>campaign</th>\n",
       "      <th>pdays</th>\n",
       "      <th>previous</th>\n",
       "      <th>poutcome</th>\n",
       "      <th>emp.var.rate</th>\n",
       "      <th>cons.price.idx</th>\n",
       "      <th>cons.conf.idx</th>\n",
       "      <th>euribor3m</th>\n",
       "      <th>nr.employed</th>\n",
       "      <th>y</th>\n",
       "    </tr>\n",
       "  </thead>\n",
       "  <tbody>\n",
       "  </tbody>\n",
       "</table>\n",
       "<p>0 rows × 21 columns</p>\n",
       "</div>"
      ],
      "text/plain": [
       "Empty DataFrame\n",
       "Columns: [age, job, marital, education, default, housing, loan, contact, month, day_of_week, duration, campaign, pdays, previous, poutcome, emp.var.rate, cons.price.idx, cons.conf.idx, euribor3m, nr.employed, y]\n",
       "Index: []\n",
       "\n",
       "[0 rows x 21 columns]"
      ]
     },
     "execution_count": 12,
     "metadata": {},
     "output_type": "execute_result"
    }
   ],
   "source": [
    "# rows for housing and job that have the value 'unknown' eliminated from the dataframe\n",
    "bank_no_h_uk = bank[bank.housing != 'unknown']\n",
    "bank_no_h_j_uk = bank_no_h_uk[bank_no_h_uk.job != 'unknown']\n",
    "bank_no_h_j_uk[bank_no_h_j_uk.housing == 'unknown']\n",
    "bank_no_h_j_uk[bank_no_h_j_uk.job == 'unknown']"
   ]
  },
  {
   "cell_type": "code",
   "execution_count": 13,
   "metadata": {},
   "outputs": [
    {
     "name": "stderr",
     "output_type": "stream",
     "text": [
      "/Users/hanhuang/opt/anaconda3/lib/python3.7/site-packages/ipykernel_launcher.py:2: SettingWithCopyWarning: \n",
      "A value is trying to be set on a copy of a slice from a DataFrame.\n",
      "Try using .loc[row_indexer,col_indexer] = value instead\n",
      "\n",
      "See the caveats in the documentation: http://pandas.pydata.org/pandas-docs/stable/user_guide/indexing.html#returning-a-view-versus-a-copy\n",
      "  \n"
     ]
    }
   ],
   "source": [
    "# Covert housing 'yes' and 'no' values into 1s and 0s\n",
    "bank_no_h_j_uk['housing_num'] = bank_no_h_j_uk.housing.map({'yes':1, 'no':0})"
   ]
  },
  {
   "cell_type": "markdown",
   "metadata": {},
   "source": [
    "\n",
    "## Step 3: Model building\n",
    "- Use cross-validation to evaluate the logistic regression model with your chosen features.  \n",
    "    You can use any (combination) of the following metrics to evaluate.\n",
    "    - [Classification/Accuracy Error](http://scikit-learn.org/stable/modules/generated/sklearn.metrics.accuracy_score.html)\n",
    "    - [Confusion Matrix](http://scikit-learn.org/stable/modules/generated/sklearn.metrics.confusion_matrix.html)\n",
    "    - [ROC curves and area under a curve (AUC)](http://scikit-learn.org/stable/modules/generated/sklearn.metrics.roc_auc_score.html#sklearn.metrics.roc_auc_score)\n",
    "    - [Log loss](http://scikit-learn.org/stable/modules/generated/sklearn.metrics.log_loss.html)\n",
    "- Try to increase the metrics by selecting different sets of features\n",
    "    - *Bonus*: Experiment with hyper parameters such are regularization."
   ]
  },
  {
   "cell_type": "code",
   "execution_count": 14,
   "metadata": {},
   "outputs": [],
   "source": [
    "from sklearn.linear_model import LogisticRegression\n",
    "from sklearn.model_selection import train_test_split\n",
    "from sklearn import metrics"
   ]
  },
  {
   "cell_type": "markdown",
   "metadata": {},
   "source": [
    "**Build a Model**  "
   ]
  },
  {
   "cell_type": "code",
   "execution_count": 15,
   "metadata": {},
   "outputs": [],
   "source": [
    "# convert selected features do dummies\n",
    "\n",
    "# set the model\n",
    "\n",
    "# set x and y\n",
    "\n",
    "# train test splot\n",
    "\n",
    "# fit model"
   ]
  },
  {
   "cell_type": "code",
   "execution_count": 16,
   "metadata": {},
   "outputs": [
    {
     "data": {
      "text/html": [
       "<div>\n",
       "<style scoped>\n",
       "    .dataframe tbody tr th:only-of-type {\n",
       "        vertical-align: middle;\n",
       "    }\n",
       "\n",
       "    .dataframe tbody tr th {\n",
       "        vertical-align: top;\n",
       "    }\n",
       "\n",
       "    .dataframe thead th {\n",
       "        text-align: right;\n",
       "    }\n",
       "</style>\n",
       "<table border=\"1\" class=\"dataframe\">\n",
       "  <thead>\n",
       "    <tr style=\"text-align: right;\">\n",
       "      <th></th>\n",
       "      <th>age</th>\n",
       "      <th>job</th>\n",
       "      <th>marital</th>\n",
       "      <th>education</th>\n",
       "      <th>default</th>\n",
       "      <th>housing</th>\n",
       "      <th>loan</th>\n",
       "      <th>contact</th>\n",
       "      <th>month</th>\n",
       "      <th>day_of_week</th>\n",
       "      <th>...</th>\n",
       "      <th>job_blue-collar</th>\n",
       "      <th>job_entrepreneur</th>\n",
       "      <th>job_housemaid</th>\n",
       "      <th>job_management</th>\n",
       "      <th>job_retired</th>\n",
       "      <th>job_self-employed</th>\n",
       "      <th>job_services</th>\n",
       "      <th>job_student</th>\n",
       "      <th>job_technician</th>\n",
       "      <th>job_unemployed</th>\n",
       "    </tr>\n",
       "  </thead>\n",
       "  <tbody>\n",
       "    <tr>\n",
       "      <td>0</td>\n",
       "      <td>30</td>\n",
       "      <td>blue-collar</td>\n",
       "      <td>married</td>\n",
       "      <td>basic.9y</td>\n",
       "      <td>no</td>\n",
       "      <td>yes</td>\n",
       "      <td>no</td>\n",
       "      <td>cellular</td>\n",
       "      <td>may</td>\n",
       "      <td>fri</td>\n",
       "      <td>...</td>\n",
       "      <td>1</td>\n",
       "      <td>0</td>\n",
       "      <td>0</td>\n",
       "      <td>0</td>\n",
       "      <td>0</td>\n",
       "      <td>0</td>\n",
       "      <td>0</td>\n",
       "      <td>0</td>\n",
       "      <td>0</td>\n",
       "      <td>0</td>\n",
       "    </tr>\n",
       "    <tr>\n",
       "      <td>1</td>\n",
       "      <td>39</td>\n",
       "      <td>services</td>\n",
       "      <td>single</td>\n",
       "      <td>high.school</td>\n",
       "      <td>no</td>\n",
       "      <td>no</td>\n",
       "      <td>no</td>\n",
       "      <td>telephone</td>\n",
       "      <td>may</td>\n",
       "      <td>fri</td>\n",
       "      <td>...</td>\n",
       "      <td>0</td>\n",
       "      <td>0</td>\n",
       "      <td>0</td>\n",
       "      <td>0</td>\n",
       "      <td>0</td>\n",
       "      <td>0</td>\n",
       "      <td>1</td>\n",
       "      <td>0</td>\n",
       "      <td>0</td>\n",
       "      <td>0</td>\n",
       "    </tr>\n",
       "  </tbody>\n",
       "</table>\n",
       "<p>2 rows × 32 columns</p>\n",
       "</div>"
      ],
      "text/plain": [
       "   age          job  marital    education default housing loan    contact  \\\n",
       "0   30  blue-collar  married     basic.9y      no     yes   no   cellular   \n",
       "1   39     services   single  high.school      no      no   no  telephone   \n",
       "\n",
       "  month day_of_week  ...  job_blue-collar  job_entrepreneur  job_housemaid  \\\n",
       "0   may         fri  ...                1                 0              0   \n",
       "1   may         fri  ...                0                 0              0   \n",
       "\n",
       "   job_management job_retired  job_self-employed  job_services  job_student  \\\n",
       "0               0           0                  0             0            0   \n",
       "1               0           0                  0             1            0   \n",
       "\n",
       "   job_technician  job_unemployed  \n",
       "0               0               0  \n",
       "1               0               0  \n",
       "\n",
       "[2 rows x 32 columns]"
      ]
     },
     "execution_count": 16,
     "metadata": {},
     "output_type": "execute_result"
    }
   ],
   "source": [
    "# Create dummy variables using `get_dummies` from Pandas.\n",
    "job_dummies = pd.get_dummies(bank_no_h_j_uk.job, prefix='job')\n",
    "# Drop first column \n",
    "job_dummies.drop(job_dummies.columns[0], axis=1, inplace=True)\n",
    "# Concatenate the job dummies with the latest version of the dataframe and rename \n",
    "bank_no_h_j_uk_dummies = pd.concat([bank_no_h_j_uk, job_dummies], axis=1)\n",
    "# Check the head \n",
    "bank_no_h_j_uk_dummies.head(2)"
   ]
  },
  {
   "cell_type": "code",
   "execution_count": 17,
   "metadata": {},
   "outputs": [],
   "source": [
    "# set the model (using logistical Regression)\n",
    "LR = LogisticRegression()"
   ]
  },
  {
   "cell_type": "code",
   "execution_count": 18,
   "metadata": {},
   "outputs": [
    {
     "data": {
      "text/plain": [
       "Index(['age', 'job', 'marital', 'education', 'default', 'housing', 'loan',\n",
       "       'contact', 'month', 'day_of_week', 'duration', 'campaign', 'pdays',\n",
       "       'previous', 'poutcome', 'emp.var.rate', 'cons.price.idx',\n",
       "       'cons.conf.idx', 'euribor3m', 'nr.employed', 'y', 'housing_num',\n",
       "       'job_blue-collar', 'job_entrepreneur', 'job_housemaid',\n",
       "       'job_management', 'job_retired', 'job_self-employed', 'job_services',\n",
       "       'job_student', 'job_technician', 'job_unemployed'],\n",
       "      dtype='object')"
      ]
     },
     "execution_count": 18,
     "metadata": {},
     "output_type": "execute_result"
    }
   ],
   "source": [
    "# To set X\n",
    "# Extract column names\n",
    "columns_df = bank_no_h_j_uk_dummies.columns\n",
    "columns_df"
   ]
  },
  {
   "cell_type": "code",
   "execution_count": 19,
   "metadata": {},
   "outputs": [
    {
     "data": {
      "text/plain": [
       "['duration',\n",
       " 'housing_num',\n",
       " 'job_blue-collar',\n",
       " 'job_entrepreneur',\n",
       " 'job_housemaid',\n",
       " 'job_management',\n",
       " 'job_retired',\n",
       " 'job_self-employed',\n",
       " 'job_services',\n",
       " 'job_student',\n",
       " 'job_technician',\n",
       " 'job_unemployed']"
      ]
     },
     "execution_count": 19,
     "metadata": {},
     "output_type": "execute_result"
    }
   ],
   "source": [
    "# Select the features that I want for model\n",
    "feature_cols = ['duration', 'housing_num',\n",
    "       'job_blue-collar', 'job_entrepreneur', 'job_housemaid',\n",
    "       'job_management', 'job_retired', 'job_self-employed', 'job_services',\n",
    "       'job_student', 'job_technician', 'job_unemployed']\n",
    "feature_cols"
   ]
  },
  {
   "cell_type": "code",
   "execution_count": 20,
   "metadata": {},
   "outputs": [],
   "source": [
    "# Set feature matrix and response\n",
    "X = bank_no_h_j_uk_dummies[feature_cols]\n",
    "y = bank_no_h_j_uk_dummies.y"
   ]
  },
  {
   "cell_type": "code",
   "execution_count": 21,
   "metadata": {},
   "outputs": [],
   "source": [
    "# Set train test split\n",
    "X_train, X_test, y_train, y_test = train_test_split(X, y)"
   ]
  },
  {
   "cell_type": "code",
   "execution_count": 22,
   "metadata": {},
   "outputs": [
    {
     "name": "stderr",
     "output_type": "stream",
     "text": [
      "/Users/hanhuang/opt/anaconda3/lib/python3.7/site-packages/sklearn/linear_model/logistic.py:432: FutureWarning: Default solver will be changed to 'lbfgs' in 0.22. Specify a solver to silence this warning.\n",
      "  FutureWarning)\n"
     ]
    },
    {
     "data": {
      "text/plain": [
       "LogisticRegression(C=1.0, class_weight=None, dual=False, fit_intercept=True,\n",
       "                   intercept_scaling=1, l1_ratio=None, max_iter=100,\n",
       "                   multi_class='warn', n_jobs=None, penalty='l2',\n",
       "                   random_state=None, solver='warn', tol=0.0001, verbose=0,\n",
       "                   warm_start=False)"
      ]
     },
     "execution_count": 22,
     "metadata": {},
     "output_type": "execute_result"
    }
   ],
   "source": [
    "# Set the model with the training data\n",
    "LR.fit(X_train, y_train)"
   ]
  },
  {
   "cell_type": "markdown",
   "metadata": {},
   "source": [
    "**Get the Coefficient for each feature.**\n",
    "- Be sure to make note of interesting findings.\n",
    "\n"
   ]
  },
  {
   "cell_type": "code",
   "execution_count": 23,
   "metadata": {},
   "outputs": [
    {
     "data": {
      "text/plain": [
       "{'duration': 0.0039449714602377214,\n",
       " 'housing_num': 0.11880725845548135,\n",
       " 'job_blue-collar': -0.8190533862671558,\n",
       " 'job_entrepreneur': -0.9814983645840256,\n",
       " 'job_housemaid': -0.21525733410769995,\n",
       " 'job_management': -0.3752632116230169,\n",
       " 'job_retired': 0.4181830880620825,\n",
       " 'job_self-employed': -0.5187879022137063,\n",
       " 'job_services': -0.36099415495192744,\n",
       " 'job_student': 0.8137803730957259,\n",
       " 'job_technician': -0.19601167455270377,\n",
       " 'job_unemployed': 0.658507503809957}"
      ]
     },
     "execution_count": 23,
     "metadata": {},
     "output_type": "execute_result"
    }
   ],
   "source": [
    "# Extract the coefficients\n",
    "LR.coef_\n",
    "# convert numpy array to a list\n",
    "LR.coef_.tolist()\n",
    "# Get rid of the additional brackets\n",
    "[num for elem in LR.coef_.tolist() for num in elem]\n",
    "# put the feature names and coefficients into a dictionary\n",
    "dict(zip(feature_cols,[num for elem in LR.coef_.tolist() for num in elem]))\n"
   ]
  },
  {
   "cell_type": "markdown",
   "metadata": {},
   "source": [
    "**Use the Model to predict on x_test and evaluate the model using metric(s) of Choice.**"
   ]
  },
  {
   "cell_type": "code",
   "execution_count": 24,
   "metadata": {},
   "outputs": [
    {
     "data": {
      "text/plain": [
       "0.8933601609657947"
      ]
     },
     "execution_count": 24,
     "metadata": {},
     "output_type": "execute_result"
    }
   ],
   "source": [
    "# Get the score\n",
    "y_pred = LR.predict(X_test)\n",
    "LR.score(X_test, y_test)"
   ]
  },
  {
   "cell_type": "code",
   "execution_count": 25,
   "metadata": {},
   "outputs": [
    {
     "data": {
      "text/plain": [
       "0.889811320754717"
      ]
     },
     "execution_count": 25,
     "metadata": {},
     "output_type": "execute_result"
    }
   ],
   "source": [
    "# compare to baseline accuracy \n",
    "1 - bank_no_h_j_uk_dummies.y.mean()"
   ]
  },
  {
   "cell_type": "code",
   "execution_count": 26,
   "metadata": {},
   "outputs": [],
   "source": [
    "# prediction is lower than baseline accuracy"
   ]
  },
  {
   "cell_type": "markdown",
   "metadata": {},
   "source": [
    "### Model 2: Use a different combination of features.\n",
    "- Evaluate the model and interpret your choosen metrics."
   ]
  },
  {
   "cell_type": "code",
   "execution_count": 27,
   "metadata": {},
   "outputs": [],
   "source": [
    "# set the model (using logistical Regression)\n",
    "logreg = LogisticRegression()"
   ]
  },
  {
   "cell_type": "code",
   "execution_count": 28,
   "metadata": {},
   "outputs": [
    {
     "data": {
      "text/plain": [
       "['job_blue-collar',\n",
       " 'job_entrepreneur',\n",
       " 'job_housemaid',\n",
       " 'job_management',\n",
       " 'job_retired',\n",
       " 'job_self-employed',\n",
       " 'job_services',\n",
       " 'job_student',\n",
       " 'job_technician',\n",
       " 'job_unemployed']"
      ]
     },
     "execution_count": 28,
     "metadata": {},
     "output_type": "execute_result"
    }
   ],
   "source": [
    "# Select the features I want for model\n",
    "# I am only using job for this one\n",
    "feature_cols = [\n",
    "       'job_blue-collar', 'job_entrepreneur', 'job_housemaid',\n",
    "       'job_management', 'job_retired', 'job_self-employed', 'job_services',\n",
    "       'job_student', 'job_technician', 'job_unemployed']\n",
    "feature_cols"
   ]
  },
  {
   "cell_type": "code",
   "execution_count": 29,
   "metadata": {},
   "outputs": [],
   "source": [
    "# Set feature matrix and response\n",
    "X = bank_no_h_j_uk_dummies[feature_cols]\n",
    "y = bank_no_h_j_uk_dummies.y"
   ]
  },
  {
   "cell_type": "code",
   "execution_count": 30,
   "metadata": {},
   "outputs": [],
   "source": [
    "# Set train test split\n",
    "X_train, X_test, y_train, y_test = train_test_split(X, y)"
   ]
  },
  {
   "cell_type": "code",
   "execution_count": 31,
   "metadata": {},
   "outputs": [
    {
     "name": "stderr",
     "output_type": "stream",
     "text": [
      "/Users/hanhuang/opt/anaconda3/lib/python3.7/site-packages/sklearn/linear_model/logistic.py:432: FutureWarning: Default solver will be changed to 'lbfgs' in 0.22. Specify a solver to silence this warning.\n",
      "  FutureWarning)\n"
     ]
    },
    {
     "data": {
      "text/plain": [
       "LogisticRegression(C=1.0, class_weight=None, dual=False, fit_intercept=True,\n",
       "                   intercept_scaling=1, l1_ratio=None, max_iter=100,\n",
       "                   multi_class='warn', n_jobs=None, penalty='l2',\n",
       "                   random_state=None, solver='warn', tol=0.0001, verbose=0,\n",
       "                   warm_start=False)"
      ]
     },
     "execution_count": 31,
     "metadata": {},
     "output_type": "execute_result"
    }
   ],
   "source": [
    "logreg.fit(X_train, y_train)"
   ]
  },
  {
   "cell_type": "code",
   "execution_count": 32,
   "metadata": {},
   "outputs": [
    {
     "data": {
      "text/plain": [
       "{'job_blue-collar': -0.7429386767666868,\n",
       " 'job_entrepreneur': -0.9545961164054455,\n",
       " 'job_housemaid': -0.5022393139807977,\n",
       " 'job_management': -0.41887283737172953,\n",
       " 'job_retired': 0.638261696165025,\n",
       " 'job_self-employed': -0.5617295390324037,\n",
       " 'job_services': -0.38260498125255504,\n",
       " 'job_student': 0.7480317899015959,\n",
       " 'job_technician': -0.2396230630685535,\n",
       " 'job_unemployed': 0.3984459564669041}"
      ]
     },
     "execution_count": 32,
     "metadata": {},
     "output_type": "execute_result"
    }
   ],
   "source": [
    "# Extract the coefficients\n",
    "logreg.coef_\n",
    "# convert numpy array to a list\n",
    "logreg.coef_.tolist()\n",
    "# Get rid of the additional brackets\n",
    "[num for elem in logreg.coef_.tolist() for num in elem]\n",
    "# put the feature names and coefficients into a dictionary\n",
    "dict(zip(feature_cols,[num for elem in logreg.coef_.tolist() for num in elem]))\n"
   ]
  },
  {
   "cell_type": "code",
   "execution_count": 33,
   "metadata": {},
   "outputs": [],
   "source": [
    "# I am not sure how to interpret these coefficients. \n",
    "# The spread on these appear to show a high degree of variability. "
   ]
  },
  {
   "cell_type": "code",
   "execution_count": 34,
   "metadata": {},
   "outputs": [
    {
     "data": {
      "text/plain": [
       "0.886317907444668"
      ]
     },
     "execution_count": 34,
     "metadata": {},
     "output_type": "execute_result"
    }
   ],
   "source": [
    "# Get the score\n",
    "# Score is slightly lower than prior score\n",
    "y_pred = logreg.predict(X_test)\n",
    "logreg.score(X_test, y_test)"
   ]
  },
  {
   "cell_type": "code",
   "execution_count": 35,
   "metadata": {},
   "outputs": [],
   "source": [
    "# eliminating the housing and diminishes the accuracy of the test"
   ]
  },
  {
   "cell_type": "markdown",
   "metadata": {},
   "source": [
    "\n",
    "\n",
    "### Is your model not performing very well?\n",
    "\n",
    "Is it not predicting any True Positives?\n",
    "\n",
    "Lets try one more thing before we revert to grabbing more features.  Adjusting the probability threshold.\n",
    "\n",
    "Use the `LogisticRegression.predict_proba()` attribute to get the probabilities.\n",
    "\n",
    "Recall from the lesson the first probability is the for `class 0` and the second is for `class 1`."
   ]
  },
  {
   "cell_type": "code",
   "execution_count": 36,
   "metadata": {},
   "outputs": [],
   "source": [
    "# is it generating any True Positives"
   ]
  },
  {
   "cell_type": "code",
   "execution_count": 37,
   "metadata": {},
   "outputs": [
    {
     "data": {
      "text/plain": [
       "array([0.24625513, 0.06851954, 0.13392198, 0.0923234 , 0.10848206,\n",
       "       0.13392198, 0.08557072, 0.0923234 , 0.06851954, 0.13392198,\n",
       "       0.06851954, 0.13392198, 0.13392198, 0.10848206, 0.05618323,\n",
       "       0.13392198, 0.22645179, 0.10848206, 0.06851954, 0.06851954,\n",
       "       0.05618323, 0.10848206, 0.08557072, 0.0923234 , 0.10848206,\n",
       "       0.08102902, 0.10848206, 0.10848206, 0.22645179, 0.13392198,\n",
       "       0.24625513, 0.0923234 , 0.09540791, 0.08557072, 0.06851954,\n",
       "       0.09540791, 0.09540791, 0.13392198, 0.06851954, 0.06851954,\n",
       "       0.05618323, 0.06851954, 0.18720545, 0.09540791, 0.10848206,\n",
       "       0.24625513, 0.10848206, 0.18720545, 0.22645179, 0.10848206,\n",
       "       0.08102902, 0.09540791, 0.13392198, 0.08102902, 0.08557072,\n",
       "       0.09540791, 0.06851954, 0.18720545, 0.13392198, 0.13392198,\n",
       "       0.13392198, 0.09540791, 0.13392198, 0.10848206, 0.05618323,\n",
       "       0.06851954, 0.13392198, 0.09540791, 0.06851954, 0.22645179,\n",
       "       0.10848206, 0.13392198, 0.06851954, 0.22645179, 0.06851954,\n",
       "       0.05618323, 0.06851954, 0.13392198, 0.0923234 , 0.06851954,\n",
       "       0.13392198, 0.10848206, 0.22645179, 0.05618323, 0.13392198,\n",
       "       0.09540791, 0.08102902, 0.05618323, 0.08102902, 0.13392198,\n",
       "       0.0923234 , 0.10848206, 0.13392198, 0.10848206, 0.10848206,\n",
       "       0.06851954, 0.13392198, 0.0923234 , 0.0923234 , 0.10848206,\n",
       "       0.22645179, 0.06851954, 0.06851954, 0.0923234 , 0.13392198,\n",
       "       0.08557072, 0.13392198, 0.06851954, 0.18720545, 0.13392198,\n",
       "       0.08557072, 0.22645179, 0.06851954, 0.09540791, 0.10848206,\n",
       "       0.06851954, 0.10848206, 0.06851954, 0.06851954, 0.13392198,\n",
       "       0.05618323, 0.0923234 , 0.0923234 , 0.10848206, 0.08557072,\n",
       "       0.0923234 , 0.06851954, 0.10848206, 0.06851954, 0.10848206,\n",
       "       0.13392198, 0.06851954, 0.13392198, 0.10848206, 0.13392198,\n",
       "       0.0923234 , 0.06851954, 0.0923234 , 0.22645179, 0.22645179,\n",
       "       0.18720545, 0.22645179, 0.09540791, 0.13392198, 0.0923234 ,\n",
       "       0.13392198, 0.10848206, 0.09540791, 0.18720545, 0.10848206,\n",
       "       0.10848206, 0.0923234 , 0.0923234 , 0.0923234 , 0.06851954,\n",
       "       0.18720545, 0.10848206, 0.10848206, 0.06851954, 0.0923234 ,\n",
       "       0.08102902, 0.0923234 , 0.06851954, 0.09540791, 0.09540791,\n",
       "       0.13392198, 0.06851954, 0.13392198, 0.08102902, 0.06851954,\n",
       "       0.06851954, 0.0923234 , 0.06851954, 0.10848206, 0.08102902,\n",
       "       0.13392198, 0.13392198, 0.06851954, 0.13392198, 0.18720545,\n",
       "       0.08102902, 0.06851954, 0.22645179, 0.06851954, 0.10848206,\n",
       "       0.13392198, 0.0923234 , 0.09540791, 0.13392198, 0.13392198,\n",
       "       0.06851954, 0.18720545, 0.13392198, 0.10848206, 0.22645179,\n",
       "       0.13392198, 0.06851954, 0.09540791, 0.08557072, 0.22645179,\n",
       "       0.0923234 , 0.13392198, 0.0923234 , 0.24625513, 0.13392198,\n",
       "       0.13392198, 0.24625513, 0.18720545, 0.10848206, 0.05618323,\n",
       "       0.13392198, 0.0923234 , 0.06851954, 0.13392198, 0.09540791,\n",
       "       0.10848206, 0.06851954, 0.0923234 , 0.09540791, 0.10848206,\n",
       "       0.05618323, 0.13392198, 0.10848206, 0.06851954, 0.06851954,\n",
       "       0.13392198, 0.10848206, 0.13392198, 0.10848206, 0.13392198,\n",
       "       0.13392198, 0.22645179, 0.13392198, 0.08102902, 0.13392198,\n",
       "       0.13392198, 0.13392198, 0.06851954, 0.05618323, 0.13392198,\n",
       "       0.22645179, 0.09540791, 0.10848206, 0.13392198, 0.08102902,\n",
       "       0.08102902, 0.06851954, 0.10848206, 0.09540791, 0.05618323,\n",
       "       0.13392198, 0.05618323, 0.0923234 , 0.05618323, 0.13392198,\n",
       "       0.10848206, 0.06851954, 0.06851954, 0.06851954, 0.0923234 ,\n",
       "       0.05618323, 0.24625513, 0.10848206, 0.0923234 , 0.10848206,\n",
       "       0.06851954, 0.0923234 , 0.06851954, 0.06851954, 0.08557072,\n",
       "       0.13392198, 0.09540791, 0.0923234 , 0.06851954, 0.10848206,\n",
       "       0.0923234 , 0.13392198, 0.13392198, 0.05618323, 0.13392198,\n",
       "       0.13392198, 0.13392198, 0.13392198, 0.05618323, 0.10848206,\n",
       "       0.0923234 , 0.10848206, 0.22645179, 0.06851954, 0.09540791,\n",
       "       0.18720545, 0.13392198, 0.06851954, 0.06851954, 0.08102902,\n",
       "       0.06851954, 0.13392198, 0.22645179, 0.08557072, 0.06851954,\n",
       "       0.06851954, 0.09540791, 0.0923234 , 0.13392198, 0.13392198,\n",
       "       0.13392198, 0.08557072, 0.10848206, 0.09540791, 0.13392198,\n",
       "       0.06851954, 0.08557072, 0.10848206, 0.06851954, 0.18720545,\n",
       "       0.13392198, 0.13392198, 0.06851954, 0.06851954, 0.10848206,\n",
       "       0.13392198, 0.24625513, 0.13392198, 0.09540791, 0.13392198,\n",
       "       0.10848206, 0.13392198, 0.18720545, 0.13392198, 0.13392198,\n",
       "       0.10848206, 0.06851954, 0.09540791, 0.18720545, 0.06851954,\n",
       "       0.10848206, 0.13392198, 0.13392198, 0.06851954, 0.06851954,\n",
       "       0.08557072, 0.09540791, 0.0923234 , 0.06851954, 0.09540791,\n",
       "       0.18720545, 0.22645179, 0.0923234 , 0.13392198, 0.08102902,\n",
       "       0.10848206, 0.06851954, 0.13392198, 0.18720545, 0.10848206,\n",
       "       0.13392198, 0.18720545, 0.10848206, 0.10848206, 0.13392198,\n",
       "       0.10848206, 0.10848206, 0.08102902, 0.13392198, 0.05618323,\n",
       "       0.06851954, 0.05618323, 0.06851954, 0.13392198, 0.13392198,\n",
       "       0.06851954, 0.06851954, 0.13392198, 0.0923234 , 0.06851954,\n",
       "       0.13392198, 0.09540791, 0.13392198, 0.0923234 , 0.09540791,\n",
       "       0.13392198, 0.10848206, 0.10848206, 0.05618323, 0.06851954,\n",
       "       0.10848206, 0.13392198, 0.06851954, 0.08557072, 0.06851954,\n",
       "       0.22645179, 0.09540791, 0.10848206, 0.09540791, 0.06851954,\n",
       "       0.10848206, 0.06851954, 0.22645179, 0.22645179, 0.06851954,\n",
       "       0.06851954, 0.13392198, 0.0923234 , 0.05618323, 0.08102902,\n",
       "       0.13392198, 0.13392198, 0.13392198, 0.13392198, 0.13392198,\n",
       "       0.09540791, 0.13392198, 0.10848206, 0.05618323, 0.09540791,\n",
       "       0.08557072, 0.06851954, 0.05618323, 0.0923234 , 0.06851954,\n",
       "       0.06851954, 0.06851954, 0.13392198, 0.10848206, 0.13392198,\n",
       "       0.06851954, 0.13392198, 0.13392198, 0.10848206, 0.13392198,\n",
       "       0.05618323, 0.13392198, 0.10848206, 0.13392198, 0.10848206,\n",
       "       0.13392198, 0.13392198, 0.06851954, 0.10848206, 0.10848206,\n",
       "       0.13392198, 0.09540791, 0.06851954, 0.05618323, 0.13392198,\n",
       "       0.22645179, 0.06851954, 0.10848206, 0.13392198, 0.06851954,\n",
       "       0.13392198, 0.0923234 , 0.10848206, 0.09540791, 0.06851954,\n",
       "       0.0923234 , 0.06851954, 0.13392198, 0.13392198, 0.13392198,\n",
       "       0.06851954, 0.10848206, 0.09540791, 0.10848206, 0.10848206,\n",
       "       0.06851954, 0.24625513, 0.10848206, 0.10848206, 0.13392198,\n",
       "       0.13392198, 0.06851954, 0.06851954, 0.22645179, 0.13392198,\n",
       "       0.18720545, 0.22645179, 0.10848206, 0.24625513, 0.13392198,\n",
       "       0.06851954, 0.0923234 , 0.13392198, 0.09540791, 0.13392198,\n",
       "       0.0923234 , 0.13392198, 0.22645179, 0.13392198, 0.10848206,\n",
       "       0.09540791, 0.10848206, 0.06851954, 0.06851954, 0.06851954,\n",
       "       0.06851954, 0.13392198, 0.0923234 , 0.0923234 , 0.10848206,\n",
       "       0.13392198, 0.22645179, 0.10848206, 0.06851954, 0.06851954,\n",
       "       0.09540791, 0.10848206, 0.09540791, 0.13392198, 0.06851954,\n",
       "       0.06851954, 0.10848206, 0.0923234 , 0.13392198, 0.05618323,\n",
       "       0.0923234 , 0.05618323, 0.0923234 , 0.13392198, 0.13392198,\n",
       "       0.06851954, 0.08102902, 0.10848206, 0.24625513, 0.06851954,\n",
       "       0.13392198, 0.13392198, 0.10848206, 0.0923234 , 0.13392198,\n",
       "       0.13392198, 0.13392198, 0.13392198, 0.18720545, 0.22645179,\n",
       "       0.0923234 , 0.13392198, 0.10848206, 0.09540791, 0.06851954,\n",
       "       0.13392198, 0.06851954, 0.0923234 , 0.10848206, 0.13392198,\n",
       "       0.13392198, 0.06851954, 0.05618323, 0.13392198, 0.06851954,\n",
       "       0.06851954, 0.06851954, 0.09540791, 0.24625513, 0.13392198,\n",
       "       0.10848206, 0.0923234 , 0.13392198, 0.06851954, 0.13392198,\n",
       "       0.10848206, 0.09540791, 0.09540791, 0.13392198, 0.10848206,\n",
       "       0.08557072, 0.06851954, 0.06851954, 0.09540791, 0.10848206,\n",
       "       0.06851954, 0.13392198, 0.08102902, 0.10848206, 0.08102902,\n",
       "       0.13392198, 0.06851954, 0.13392198, 0.0923234 , 0.10848206,\n",
       "       0.0923234 , 0.0923234 , 0.10848206, 0.13392198, 0.13392198,\n",
       "       0.09540791, 0.09540791, 0.24625513, 0.05618323, 0.10848206,\n",
       "       0.13392198, 0.13392198, 0.09540791, 0.06851954, 0.06851954,\n",
       "       0.06851954, 0.08557072, 0.05618323, 0.10848206, 0.10848206,\n",
       "       0.06851954, 0.13392198, 0.08557072, 0.09540791, 0.06851954,\n",
       "       0.22645179, 0.10848206, 0.06851954, 0.06851954, 0.13392198,\n",
       "       0.06851954, 0.13392198, 0.13392198, 0.06851954, 0.13392198,\n",
       "       0.13392198, 0.0923234 , 0.22645179, 0.13392198, 0.10848206,\n",
       "       0.13392198, 0.06851954, 0.22645179, 0.06851954, 0.09540791,\n",
       "       0.06851954, 0.0923234 , 0.06851954, 0.13392198, 0.06851954,\n",
       "       0.13392198, 0.06851954, 0.13392198, 0.08557072, 0.13392198,\n",
       "       0.10848206, 0.10848206, 0.13392198, 0.0923234 , 0.10848206,\n",
       "       0.09540791, 0.06851954, 0.10848206, 0.10848206, 0.06851954,\n",
       "       0.06851954, 0.10848206, 0.10848206, 0.10848206, 0.06851954,\n",
       "       0.18720545, 0.10848206, 0.13392198, 0.22645179, 0.05618323,\n",
       "       0.09540791, 0.10848206, 0.10848206, 0.10848206, 0.22645179,\n",
       "       0.08102902, 0.06851954, 0.22645179, 0.22645179, 0.06851954,\n",
       "       0.13392198, 0.0923234 , 0.08102902, 0.22645179, 0.0923234 ,\n",
       "       0.13392198, 0.05618323, 0.05618323, 0.13392198, 0.09540791,\n",
       "       0.13392198, 0.13392198, 0.13392198, 0.13392198, 0.22645179,\n",
       "       0.0923234 , 0.18720545, 0.09540791, 0.08557072, 0.08102902,\n",
       "       0.13392198, 0.0923234 , 0.13392198, 0.13392198, 0.22645179,\n",
       "       0.10848206, 0.06851954, 0.13392198, 0.10848206, 0.06851954,\n",
       "       0.24625513, 0.13392198, 0.06851954, 0.08557072, 0.06851954,\n",
       "       0.10848206, 0.08557072, 0.0923234 , 0.10848206, 0.06851954,\n",
       "       0.09540791, 0.06851954, 0.0923234 , 0.06851954, 0.13392198,\n",
       "       0.22645179, 0.10848206, 0.13392198, 0.13392198, 0.22645179,\n",
       "       0.0923234 , 0.09540791, 0.0923234 , 0.09540791, 0.18720545,\n",
       "       0.09540791, 0.06851954, 0.06851954, 0.13392198, 0.13392198,\n",
       "       0.06851954, 0.10848206, 0.06851954, 0.06851954, 0.13392198,\n",
       "       0.10848206, 0.22645179, 0.05618323, 0.13392198, 0.09540791,\n",
       "       0.13392198, 0.06851954, 0.22645179, 0.0923234 , 0.09540791,\n",
       "       0.10848206, 0.10848206, 0.05618323, 0.06851954, 0.0923234 ,\n",
       "       0.0923234 , 0.13392198, 0.06851954, 0.10848206, 0.08102902,\n",
       "       0.08102902, 0.13392198, 0.13392198, 0.18720545, 0.22645179,\n",
       "       0.10848206, 0.13392198, 0.13392198, 0.06851954, 0.0923234 ,\n",
       "       0.22645179, 0.09540791, 0.10848206, 0.10848206, 0.06851954,\n",
       "       0.06851954, 0.22645179, 0.09540791, 0.13392198, 0.10848206,\n",
       "       0.09540791, 0.10848206, 0.10848206, 0.10848206, 0.06851954,\n",
       "       0.05618323, 0.0923234 , 0.0923234 , 0.09540791, 0.10848206,\n",
       "       0.10848206, 0.13392198, 0.06851954, 0.08102902, 0.22645179,\n",
       "       0.06851954, 0.10848206, 0.06851954, 0.10848206, 0.18720545,\n",
       "       0.13392198, 0.09540791, 0.09540791, 0.18720545, 0.09540791,\n",
       "       0.08557072, 0.13392198, 0.10848206, 0.06851954, 0.06851954,\n",
       "       0.10848206, 0.13392198, 0.13392198, 0.09540791, 0.09540791,\n",
       "       0.06851954, 0.13392198, 0.18720545, 0.13392198, 0.06851954,\n",
       "       0.10848206, 0.0923234 , 0.06851954, 0.09540791, 0.06851954,\n",
       "       0.22645179, 0.13392198, 0.09540791, 0.13392198, 0.06851954,\n",
       "       0.13392198, 0.13392198, 0.10848206, 0.10848206, 0.08102902,\n",
       "       0.10848206, 0.13392198, 0.13392198, 0.09540791, 0.08102902,\n",
       "       0.13392198, 0.0923234 , 0.13392198, 0.13392198, 0.13392198,\n",
       "       0.06851954, 0.10848206, 0.0923234 , 0.06851954, 0.13392198,\n",
       "       0.24625513, 0.24625513, 0.13392198, 0.06851954, 0.0923234 ,\n",
       "       0.09540791, 0.08102902, 0.10848206, 0.10848206, 0.13392198,\n",
       "       0.10848206, 0.0923234 , 0.24625513, 0.13392198, 0.10848206,\n",
       "       0.13392198, 0.09540791, 0.13392198, 0.13392198, 0.13392198,\n",
       "       0.13392198, 0.09540791, 0.06851954, 0.06851954, 0.06851954,\n",
       "       0.06851954, 0.10848206, 0.13392198, 0.10848206, 0.10848206,\n",
       "       0.06851954, 0.10848206, 0.06851954, 0.09540791, 0.0923234 ,\n",
       "       0.08102902, 0.06851954, 0.13392198, 0.13392198, 0.10848206,\n",
       "       0.09540791, 0.13392198, 0.0923234 , 0.08557072, 0.08557072,\n",
       "       0.10848206, 0.06851954, 0.22645179, 0.10848206, 0.22645179,\n",
       "       0.06851954, 0.13392198, 0.06851954, 0.06851954, 0.06851954,\n",
       "       0.13392198, 0.06851954, 0.05618323, 0.06851954, 0.06851954,\n",
       "       0.06851954, 0.13392198, 0.06851954, 0.08557072, 0.10848206,\n",
       "       0.13392198, 0.0923234 , 0.08557072, 0.06851954, 0.10848206,\n",
       "       0.09540791, 0.08102902, 0.06851954, 0.06851954, 0.08102902,\n",
       "       0.06851954, 0.10848206, 0.09540791, 0.08557072, 0.06851954,\n",
       "       0.13392198, 0.09540791, 0.13392198, 0.06851954, 0.13392198,\n",
       "       0.0923234 , 0.0923234 , 0.06851954, 0.10848206, 0.0923234 ,\n",
       "       0.13392198, 0.10848206, 0.10848206, 0.06851954, 0.0923234 ,\n",
       "       0.0923234 , 0.10848206, 0.06851954, 0.13392198, 0.08557072,\n",
       "       0.10848206, 0.13392198, 0.10848206, 0.10848206, 0.09540791,\n",
       "       0.13392198, 0.06851954, 0.06851954, 0.22645179, 0.0923234 ,\n",
       "       0.13392198, 0.10848206, 0.13392198, 0.13392198, 0.09540791,\n",
       "       0.10848206, 0.13392198, 0.05618323, 0.08557072, 0.08557072,\n",
       "       0.09540791, 0.08102902, 0.13392198, 0.10848206, 0.13392198,\n",
       "       0.06851954, 0.0923234 , 0.13392198, 0.0923234 , 0.13392198,\n",
       "       0.10848206, 0.10848206, 0.08102902, 0.05618323, 0.10848206,\n",
       "       0.08102902, 0.09540791, 0.06851954, 0.10848206, 0.18720545,\n",
       "       0.06851954, 0.13392198, 0.06851954, 0.09540791, 0.10848206,\n",
       "       0.10848206, 0.05618323, 0.09540791, 0.10848206, 0.10848206,\n",
       "       0.10848206, 0.13392198, 0.13392198, 0.10848206])"
      ]
     },
     "execution_count": 37,
     "metadata": {},
     "output_type": "execute_result"
    }
   ],
   "source": [
    "# Get probability predictions.\n",
    "logreg_pred_proba = logreg.predict_proba(X_test)[:,1]\n",
    "logreg_pred_proba\n",
    "#list(zip(admissions.gre,logit_pred_proba))"
   ]
  },
  {
   "cell_type": "code",
   "execution_count": 38,
   "metadata": {},
   "outputs": [
    {
     "data": {
      "text/plain": [
       "array([[881,   0],\n",
       "       [113,   0]])"
      ]
     },
     "execution_count": 38,
     "metadata": {},
     "output_type": "execute_result"
    }
   ],
   "source": [
    "metrics.confusion_matrix(y_true=y_test, y_pred=logreg_pred_proba > .5)\n",
    "#X_test.shape"
   ]
  },
  {
   "cell_type": "code",
   "execution_count": 39,
   "metadata": {},
   "outputs": [
    {
     "data": {
      "text/html": [
       "<div>\n",
       "<style scoped>\n",
       "    .dataframe tbody tr th:only-of-type {\n",
       "        vertical-align: middle;\n",
       "    }\n",
       "\n",
       "    .dataframe tbody tr th {\n",
       "        vertical-align: top;\n",
       "    }\n",
       "\n",
       "    .dataframe thead th {\n",
       "        text-align: right;\n",
       "    }\n",
       "</style>\n",
       "<table border=\"1\" class=\"dataframe\">\n",
       "  <thead>\n",
       "    <tr style=\"text-align: right;\">\n",
       "      <th>pred</th>\n",
       "      <th>False</th>\n",
       "      <th>All</th>\n",
       "    </tr>\n",
       "    <tr>\n",
       "      <th>true</th>\n",
       "      <th></th>\n",
       "      <th></th>\n",
       "    </tr>\n",
       "  </thead>\n",
       "  <tbody>\n",
       "    <tr>\n",
       "      <td>0</td>\n",
       "      <td>881</td>\n",
       "      <td>881</td>\n",
       "    </tr>\n",
       "    <tr>\n",
       "      <td>1</td>\n",
       "      <td>113</td>\n",
       "      <td>113</td>\n",
       "    </tr>\n",
       "    <tr>\n",
       "      <td>All</td>\n",
       "      <td>994</td>\n",
       "      <td>994</td>\n",
       "    </tr>\n",
       "  </tbody>\n",
       "</table>\n",
       "</div>"
      ],
      "text/plain": [
       "pred  False  All\n",
       "true            \n",
       "0       881  881\n",
       "1       113  113\n",
       "All     994  994"
      ]
     },
     "execution_count": 39,
     "metadata": {},
     "output_type": "execute_result"
    }
   ],
   "source": [
    "# For predicted probability greater than .5\n",
    "y_true = y_test\n",
    "y_pred = logreg_pred_proba > .5\n",
    "pd.crosstab(y_true, y_pred, margins=True,\n",
    "           rownames=['true'], colnames=['pred'])"
   ]
  },
  {
   "cell_type": "code",
   "execution_count": 40,
   "metadata": {},
   "outputs": [],
   "source": [
    "# Answer here: 885 true negatives, 0 false positives, 109 false negatives, 0 true positives\n",
    "# Accuracy = (885 + 0) / 994 = .8903\n",
    "# But as no true positives are predicted, this model is not useful"
   ]
  },
  {
   "cell_type": "code",
   "execution_count": 41,
   "metadata": {},
   "outputs": [
    {
     "data": {
      "text/plain": [
       "array([[0.75374487, 0.24625513],\n",
       "       [0.93148046, 0.06851954],\n",
       "       [0.86607802, 0.13392198],\n",
       "       ...,\n",
       "       [0.86607802, 0.13392198],\n",
       "       [0.86607802, 0.13392198],\n",
       "       [0.89151794, 0.10848206]])"
      ]
     },
     "execution_count": 41,
     "metadata": {},
     "output_type": "execute_result"
    }
   ],
   "source": [
    "logreg.predict_proba(X_test)"
   ]
  },
  {
   "cell_type": "markdown",
   "metadata": {},
   "source": [
    "**Visualize the distribution**"
   ]
  },
  {
   "cell_type": "code",
   "execution_count": 42,
   "metadata": {},
   "outputs": [],
   "source": [
    "bank_no_h_j_uk_dummies['y_pred_prob'] = logreg.predict_proba(X)[:, 1]"
   ]
  },
  {
   "cell_type": "code",
   "execution_count": 43,
   "metadata": {},
   "outputs": [
    {
     "data": {
      "text/html": [
       "<div>\n",
       "<style scoped>\n",
       "    .dataframe tbody tr th:only-of-type {\n",
       "        vertical-align: middle;\n",
       "    }\n",
       "\n",
       "    .dataframe tbody tr th {\n",
       "        vertical-align: top;\n",
       "    }\n",
       "\n",
       "    .dataframe thead th {\n",
       "        text-align: right;\n",
       "    }\n",
       "</style>\n",
       "<table border=\"1\" class=\"dataframe\">\n",
       "  <thead>\n",
       "    <tr style=\"text-align: right;\">\n",
       "      <th></th>\n",
       "      <th>age</th>\n",
       "      <th>job</th>\n",
       "      <th>marital</th>\n",
       "      <th>education</th>\n",
       "      <th>default</th>\n",
       "      <th>housing</th>\n",
       "      <th>loan</th>\n",
       "      <th>contact</th>\n",
       "      <th>month</th>\n",
       "      <th>day_of_week</th>\n",
       "      <th>...</th>\n",
       "      <th>job_entrepreneur</th>\n",
       "      <th>job_housemaid</th>\n",
       "      <th>job_management</th>\n",
       "      <th>job_retired</th>\n",
       "      <th>job_self-employed</th>\n",
       "      <th>job_services</th>\n",
       "      <th>job_student</th>\n",
       "      <th>job_technician</th>\n",
       "      <th>job_unemployed</th>\n",
       "      <th>y_pred_prob</th>\n",
       "    </tr>\n",
       "  </thead>\n",
       "  <tbody>\n",
       "    <tr>\n",
       "      <td>0</td>\n",
       "      <td>30</td>\n",
       "      <td>blue-collar</td>\n",
       "      <td>married</td>\n",
       "      <td>basic.9y</td>\n",
       "      <td>no</td>\n",
       "      <td>yes</td>\n",
       "      <td>no</td>\n",
       "      <td>cellular</td>\n",
       "      <td>may</td>\n",
       "      <td>fri</td>\n",
       "      <td>...</td>\n",
       "      <td>0</td>\n",
       "      <td>0</td>\n",
       "      <td>0</td>\n",
       "      <td>0</td>\n",
       "      <td>0</td>\n",
       "      <td>0</td>\n",
       "      <td>0</td>\n",
       "      <td>0</td>\n",
       "      <td>0</td>\n",
       "      <td>0.06852</td>\n",
       "    </tr>\n",
       "  </tbody>\n",
       "</table>\n",
       "<p>1 rows × 33 columns</p>\n",
       "</div>"
      ],
      "text/plain": [
       "   age          job  marital education default housing loan   contact month  \\\n",
       "0   30  blue-collar  married  basic.9y      no     yes   no  cellular   may   \n",
       "\n",
       "  day_of_week  ...  job_entrepreneur  job_housemaid  job_management  \\\n",
       "0         fri  ...                 0              0               0   \n",
       "\n",
       "   job_retired job_self-employed  job_services  job_student  job_technician  \\\n",
       "0            0                 0             0            0               0   \n",
       "\n",
       "   job_unemployed  y_pred_prob  \n",
       "0               0      0.06852  \n",
       "\n",
       "[1 rows x 33 columns]"
      ]
     },
     "execution_count": 43,
     "metadata": {},
     "output_type": "execute_result"
    }
   ],
   "source": [
    "bank_no_h_j_uk_dummies.head(1)"
   ]
  },
  {
   "cell_type": "code",
   "execution_count": 44,
   "metadata": {},
   "outputs": [],
   "source": [
    "import seaborn as sns\n",
    "import matplotlib.pyplot as plt\n",
    "%matplotlib inline\n",
    "sns.set(font_scale=1.5);"
   ]
  },
  {
   "cell_type": "code",
   "execution_count": 45,
   "metadata": {},
   "outputs": [
    {
     "data": {
      "image/png": "[encoded data removed]",
      "text/plain": [
       "<Figure size 432x288 with 1 Axes>"
      ]
     },
     "metadata": {
      "needs_background": "light"
     },
     "output_type": "display_data"
    }
   ],
   "source": [
    "plt.scatter(bank_no_h_j_uk_dummies.y_pred_prob, bank_no_h_j_uk_dummies.y);\n",
    "plt.plot(bank_no_h_j_uk_dummies.y_pred_prob, bank_no_h_j_uk_dummies.y, color='red');\n",
    "plt.xlabel('y_pred_prob');\n",
    "plt.ylabel('y');"
   ]
  },
  {
   "cell_type": "code",
   "execution_count": 46,
   "metadata": {},
   "outputs": [],
   "source": [
    "# The visualization shows that most predictions are for y = 0 \n",
    "# This is what we would expect\n",
    "# The pred prob values reflect this too"
   ]
  },
  {
   "cell_type": "markdown",
   "metadata": {},
   "source": [
    "** Calculate a new threshold and use it to convert predicted probabilities to output classes**\n",
    "\n"
   ]
  },
  {
   "cell_type": "code",
   "execution_count": 47,
   "metadata": {},
   "outputs": [
    {
     "data": {
      "text/html": [
       "<div>\n",
       "<style scoped>\n",
       "    .dataframe tbody tr th:only-of-type {\n",
       "        vertical-align: middle;\n",
       "    }\n",
       "\n",
       "    .dataframe tbody tr th {\n",
       "        vertical-align: top;\n",
       "    }\n",
       "\n",
       "    .dataframe thead th {\n",
       "        text-align: right;\n",
       "    }\n",
       "</style>\n",
       "<table border=\"1\" class=\"dataframe\">\n",
       "  <thead>\n",
       "    <tr style=\"text-align: right;\">\n",
       "      <th>pred</th>\n",
       "      <th>False</th>\n",
       "      <th>All</th>\n",
       "    </tr>\n",
       "    <tr>\n",
       "      <th>true</th>\n",
       "      <th></th>\n",
       "      <th></th>\n",
       "    </tr>\n",
       "  </thead>\n",
       "  <tbody>\n",
       "    <tr>\n",
       "      <td>0</td>\n",
       "      <td>881</td>\n",
       "      <td>881</td>\n",
       "    </tr>\n",
       "    <tr>\n",
       "      <td>1</td>\n",
       "      <td>113</td>\n",
       "      <td>113</td>\n",
       "    </tr>\n",
       "    <tr>\n",
       "      <td>All</td>\n",
       "      <td>994</td>\n",
       "      <td>994</td>\n",
       "    </tr>\n",
       "  </tbody>\n",
       "</table>\n",
       "</div>"
      ],
      "text/plain": [
       "pred  False  All\n",
       "true            \n",
       "0       881  881\n",
       "1       113  113\n",
       "All     994  994"
      ]
     },
     "execution_count": 47,
     "metadata": {},
     "output_type": "execute_result"
    }
   ],
   "source": [
    "# For predicted probability greater than .3\n",
    "y_true = y_test\n",
    "y_pred = logreg_pred_proba > .3\n",
    "pd.crosstab(y_true, y_pred, margins=True,\n",
    "           rownames=['true'], colnames=['pred'])"
   ]
  },
  {
   "cell_type": "markdown",
   "metadata": {},
   "source": [
    "**Evaluate the model metrics now**"
   ]
  },
  {
   "cell_type": "code",
   "execution_count": 48,
   "metadata": {},
   "outputs": [
    {
     "name": "stdout",
     "output_type": "stream",
     "text": [
      "0.9557344064386318\n",
      "0.23958333333333334\n",
      "0.045657015590200446\n"
     ]
    }
   ],
   "source": [
    "print((857 + 93) / 994 )\n",
    "print(23 / 96)\n",
    "print(41 / 898)"
   ]
  },
  {
   "cell_type": "code",
   "execution_count": 49,
   "metadata": {},
   "outputs": [],
   "source": [
    "# Answer here: 857 true negatives, 41 false positives, 73 false negatives, 93 true positives\n",
    "# Accuracy = (857 + 93) / 994 = .9557\n",
    "# TPR = 23 / 96 = .23958\n",
    "# FPR = 41 / 898 = .045657"
   ]
  },
  {
   "cell_type": "markdown",
   "metadata": {},
   "source": [
    "## Step 4: Build a model using all of the features.\n",
    "\n",
    "- Evaluate it using your prefered metrics."
   ]
  },
  {
   "cell_type": "code",
   "execution_count": 50,
   "metadata": {},
   "outputs": [
    {
     "name": "stderr",
     "output_type": "stream",
     "text": [
      "/Users/hanhuang/opt/anaconda3/lib/python3.7/site-packages/pandas/core/ops/__init__.py:1115: FutureWarning: elementwise comparison failed; returning scalar instead, but in the future will perform elementwise comparison\n",
      "  result = method(y)\n"
     ]
    },
    {
     "data": {
      "text/plain": [
       "0.24981791697013833"
      ]
     },
     "execution_count": 50,
     "metadata": {},
     "output_type": "execute_result"
    }
   ],
   "source": [
    "bank_no_unk = bank[(bank != 'unknown').all(1)]\n",
    "1 - len(bank_no_unk)/len(bank)\n",
    "# dropping 25% of the data"
   ]
  },
  {
   "cell_type": "code",
   "execution_count": 51,
   "metadata": {},
   "outputs": [
    {
     "data": {
      "text/plain": [
       "1.093599982778292"
      ]
     },
     "execution_count": 51,
     "metadata": {},
     "output_type": "execute_result"
    }
   ],
   "source": [
    "bank_no_unk.y.mean() / bank.y.mean()\n",
    "# shows that streamlined data set is 9% more likely to have y = 1"
   ]
  },
  {
   "cell_type": "code",
   "execution_count": 52,
   "metadata": {},
   "outputs": [
    {
     "data": {
      "text/html": [
       "<div>\n",
       "<style scoped>\n",
       "    .dataframe tbody tr th:only-of-type {\n",
       "        vertical-align: middle;\n",
       "    }\n",
       "\n",
       "    .dataframe tbody tr th {\n",
       "        vertical-align: top;\n",
       "    }\n",
       "\n",
       "    .dataframe thead th {\n",
       "        text-align: right;\n",
       "    }\n",
       "</style>\n",
       "<table border=\"1\" class=\"dataframe\">\n",
       "  <thead>\n",
       "    <tr style=\"text-align: right;\">\n",
       "      <th></th>\n",
       "      <th>age</th>\n",
       "      <th>job</th>\n",
       "      <th>marital</th>\n",
       "      <th>education</th>\n",
       "      <th>default</th>\n",
       "      <th>housing</th>\n",
       "      <th>loan</th>\n",
       "      <th>contact</th>\n",
       "      <th>month</th>\n",
       "      <th>day_of_week</th>\n",
       "      <th>...</th>\n",
       "      <th>month_may</th>\n",
       "      <th>month_nov</th>\n",
       "      <th>month_oct</th>\n",
       "      <th>month_sep</th>\n",
       "      <th>day_of_week_mon</th>\n",
       "      <th>day_of_week_thu</th>\n",
       "      <th>day_of_week_tue</th>\n",
       "      <th>day_of_week_wed</th>\n",
       "      <th>poutcome_nonexistent</th>\n",
       "      <th>poutcome_success</th>\n",
       "    </tr>\n",
       "  </thead>\n",
       "  <tbody>\n",
       "    <tr>\n",
       "      <td>0</td>\n",
       "      <td>30</td>\n",
       "      <td>blue-collar</td>\n",
       "      <td>married</td>\n",
       "      <td>basic.9y</td>\n",
       "      <td>no</td>\n",
       "      <td>yes</td>\n",
       "      <td>no</td>\n",
       "      <td>cellular</td>\n",
       "      <td>may</td>\n",
       "      <td>fri</td>\n",
       "      <td>...</td>\n",
       "      <td>1</td>\n",
       "      <td>0</td>\n",
       "      <td>0</td>\n",
       "      <td>0</td>\n",
       "      <td>0</td>\n",
       "      <td>0</td>\n",
       "      <td>0</td>\n",
       "      <td>0</td>\n",
       "      <td>1</td>\n",
       "      <td>0</td>\n",
       "    </tr>\n",
       "  </tbody>\n",
       "</table>\n",
       "<p>1 rows × 56 columns</p>\n",
       "</div>"
      ],
      "text/plain": [
       "   age          job  marital education default housing loan   contact month  \\\n",
       "0   30  blue-collar  married  basic.9y      no     yes   no  cellular   may   \n",
       "\n",
       "  day_of_week  ...  month_may  month_nov  month_oct  month_sep  \\\n",
       "0         fri  ...          1          0          0          0   \n",
       "\n",
       "  day_of_week_mon  day_of_week_thu  day_of_week_tue  day_of_week_wed  \\\n",
       "0               0                0                0                0   \n",
       "\n",
       "   poutcome_nonexistent  poutcome_success  \n",
       "0                     1                 0  \n",
       "\n",
       "[1 rows x 56 columns]"
      ]
     },
     "execution_count": 52,
     "metadata": {},
     "output_type": "execute_result"
    }
   ],
   "source": [
    "# Create dummies for features that are objects greater than two unique elements\n",
    "# Create dummy variables using `get_dummies` from Pandas for month.\n",
    "day_of_week_dummies = pd.get_dummies(bank_no_unk.day_of_week, prefix='day_of_week')\n",
    "# Drop first column \n",
    "day_of_week_dummies.drop(day_of_week_dummies.columns[0], axis=1, inplace=True)\n",
    "# Create dummy variables using `get_dummies` from Pandas for month.\n",
    "month_dummies = pd.get_dummies(bank_no_unk.month, prefix='month')\n",
    "# Drop first column \n",
    "month_dummies.drop(month_dummies.columns[0], axis=1, inplace=True)\n",
    "# Create dummy variables using `get_dummies` from Pandas for education.\n",
    "education_dummies = pd.get_dummies(bank_no_unk.education, prefix='education')\n",
    "# Drop first column \n",
    "# Create dummy variables using `get_dummies` from Pandas for marital.\n",
    "marital_dummies = pd.get_dummies(bank_no_unk.marital, prefix='marital')\n",
    "# Drop first column education_dummies.drop(education_dummies.columns[0], axis=1, inplace=True)\n",
    "# Create dummy variables using `get_dummies` from Pandas for job.\n",
    "job_dummies = pd.get_dummies(bank_no_unk.job, prefix='job')\n",
    "# Drop first column \n",
    "job_dummies.drop(job_dummies.columns[0], axis=1, inplace=True)\n",
    "# Create dummy variables using `get_dummies` from Pandas for poutcome.\n",
    "poutcome_dummies = pd.get_dummies(bank_no_unk.poutcome, prefix='poutcome')\n",
    "# Drop first column \n",
    "poutcome_dummies.drop(poutcome_dummies.columns[0], axis=1, inplace=True)\n",
    "\n",
    "\n",
    "# Concatenate the job dummies with the latest version of the dataframe and rename \n",
    "bank_no_unk_dummies = pd.concat([bank_no_unk, job_dummies, marital_dummies, education_dummies,month_dummies, day_of_week_dummies, poutcome_dummies], axis=1)\n",
    "# Check the head \n",
    "bank_no_unk_dummies.head(1)"
   ]
  },
  {
   "cell_type": "code",
   "execution_count": 53,
   "metadata": {},
   "outputs": [
    {
     "data": {
      "text/html": [
       "<div>\n",
       "<style scoped>\n",
       "    .dataframe tbody tr th:only-of-type {\n",
       "        vertical-align: middle;\n",
       "    }\n",
       "\n",
       "    .dataframe tbody tr th {\n",
       "        vertical-align: top;\n",
       "    }\n",
       "\n",
       "    .dataframe thead th {\n",
       "        text-align: right;\n",
       "    }\n",
       "</style>\n",
       "<table border=\"1\" class=\"dataframe\">\n",
       "  <thead>\n",
       "    <tr style=\"text-align: right;\">\n",
       "      <th></th>\n",
       "      <th>age</th>\n",
       "      <th>job</th>\n",
       "      <th>marital</th>\n",
       "      <th>education</th>\n",
       "      <th>default</th>\n",
       "      <th>housing</th>\n",
       "      <th>loan</th>\n",
       "      <th>contact</th>\n",
       "      <th>month</th>\n",
       "      <th>day_of_week</th>\n",
       "      <th>...</th>\n",
       "      <th>day_of_week_mon</th>\n",
       "      <th>day_of_week_thu</th>\n",
       "      <th>day_of_week_tue</th>\n",
       "      <th>day_of_week_wed</th>\n",
       "      <th>poutcome_nonexistent</th>\n",
       "      <th>poutcome_success</th>\n",
       "      <th>default_num</th>\n",
       "      <th>housing_num</th>\n",
       "      <th>loan_num</th>\n",
       "      <th>contact_num</th>\n",
       "    </tr>\n",
       "  </thead>\n",
       "  <tbody>\n",
       "    <tr>\n",
       "      <td>0</td>\n",
       "      <td>30</td>\n",
       "      <td>blue-collar</td>\n",
       "      <td>married</td>\n",
       "      <td>basic.9y</td>\n",
       "      <td>no</td>\n",
       "      <td>yes</td>\n",
       "      <td>no</td>\n",
       "      <td>cellular</td>\n",
       "      <td>may</td>\n",
       "      <td>fri</td>\n",
       "      <td>...</td>\n",
       "      <td>0</td>\n",
       "      <td>0</td>\n",
       "      <td>0</td>\n",
       "      <td>0</td>\n",
       "      <td>1</td>\n",
       "      <td>0</td>\n",
       "      <td>0</td>\n",
       "      <td>1</td>\n",
       "      <td>0</td>\n",
       "      <td>1</td>\n",
       "    </tr>\n",
       "    <tr>\n",
       "      <td>1</td>\n",
       "      <td>39</td>\n",
       "      <td>services</td>\n",
       "      <td>single</td>\n",
       "      <td>high.school</td>\n",
       "      <td>no</td>\n",
       "      <td>no</td>\n",
       "      <td>no</td>\n",
       "      <td>telephone</td>\n",
       "      <td>may</td>\n",
       "      <td>fri</td>\n",
       "      <td>...</td>\n",
       "      <td>0</td>\n",
       "      <td>0</td>\n",
       "      <td>0</td>\n",
       "      <td>0</td>\n",
       "      <td>1</td>\n",
       "      <td>0</td>\n",
       "      <td>0</td>\n",
       "      <td>0</td>\n",
       "      <td>0</td>\n",
       "      <td>0</td>\n",
       "    </tr>\n",
       "    <tr>\n",
       "      <td>2</td>\n",
       "      <td>25</td>\n",
       "      <td>services</td>\n",
       "      <td>married</td>\n",
       "      <td>high.school</td>\n",
       "      <td>no</td>\n",
       "      <td>yes</td>\n",
       "      <td>no</td>\n",
       "      <td>telephone</td>\n",
       "      <td>jun</td>\n",
       "      <td>wed</td>\n",
       "      <td>...</td>\n",
       "      <td>0</td>\n",
       "      <td>0</td>\n",
       "      <td>0</td>\n",
       "      <td>1</td>\n",
       "      <td>1</td>\n",
       "      <td>0</td>\n",
       "      <td>0</td>\n",
       "      <td>1</td>\n",
       "      <td>0</td>\n",
       "      <td>0</td>\n",
       "    </tr>\n",
       "    <tr>\n",
       "      <td>4</td>\n",
       "      <td>47</td>\n",
       "      <td>admin.</td>\n",
       "      <td>married</td>\n",
       "      <td>university.degree</td>\n",
       "      <td>no</td>\n",
       "      <td>yes</td>\n",
       "      <td>no</td>\n",
       "      <td>cellular</td>\n",
       "      <td>nov</td>\n",
       "      <td>mon</td>\n",
       "      <td>...</td>\n",
       "      <td>1</td>\n",
       "      <td>0</td>\n",
       "      <td>0</td>\n",
       "      <td>0</td>\n",
       "      <td>1</td>\n",
       "      <td>0</td>\n",
       "      <td>0</td>\n",
       "      <td>1</td>\n",
       "      <td>0</td>\n",
       "      <td>1</td>\n",
       "    </tr>\n",
       "    <tr>\n",
       "      <td>5</td>\n",
       "      <td>32</td>\n",
       "      <td>services</td>\n",
       "      <td>single</td>\n",
       "      <td>university.degree</td>\n",
       "      <td>no</td>\n",
       "      <td>no</td>\n",
       "      <td>no</td>\n",
       "      <td>cellular</td>\n",
       "      <td>sep</td>\n",
       "      <td>thu</td>\n",
       "      <td>...</td>\n",
       "      <td>0</td>\n",
       "      <td>1</td>\n",
       "      <td>0</td>\n",
       "      <td>0</td>\n",
       "      <td>0</td>\n",
       "      <td>0</td>\n",
       "      <td>0</td>\n",
       "      <td>0</td>\n",
       "      <td>0</td>\n",
       "      <td>1</td>\n",
       "    </tr>\n",
       "    <tr>\n",
       "      <td>...</td>\n",
       "      <td>...</td>\n",
       "      <td>...</td>\n",
       "      <td>...</td>\n",
       "      <td>...</td>\n",
       "      <td>...</td>\n",
       "      <td>...</td>\n",
       "      <td>...</td>\n",
       "      <td>...</td>\n",
       "      <td>...</td>\n",
       "      <td>...</td>\n",
       "      <td>...</td>\n",
       "      <td>...</td>\n",
       "      <td>...</td>\n",
       "      <td>...</td>\n",
       "      <td>...</td>\n",
       "      <td>...</td>\n",
       "      <td>...</td>\n",
       "      <td>...</td>\n",
       "      <td>...</td>\n",
       "      <td>...</td>\n",
       "      <td>...</td>\n",
       "    </tr>\n",
       "    <tr>\n",
       "      <td>4114</td>\n",
       "      <td>30</td>\n",
       "      <td>admin.</td>\n",
       "      <td>married</td>\n",
       "      <td>basic.6y</td>\n",
       "      <td>no</td>\n",
       "      <td>yes</td>\n",
       "      <td>yes</td>\n",
       "      <td>cellular</td>\n",
       "      <td>jul</td>\n",
       "      <td>thu</td>\n",
       "      <td>...</td>\n",
       "      <td>0</td>\n",
       "      <td>1</td>\n",
       "      <td>0</td>\n",
       "      <td>0</td>\n",
       "      <td>1</td>\n",
       "      <td>0</td>\n",
       "      <td>0</td>\n",
       "      <td>1</td>\n",
       "      <td>1</td>\n",
       "      <td>1</td>\n",
       "    </tr>\n",
       "    <tr>\n",
       "      <td>4115</td>\n",
       "      <td>39</td>\n",
       "      <td>admin.</td>\n",
       "      <td>married</td>\n",
       "      <td>high.school</td>\n",
       "      <td>no</td>\n",
       "      <td>yes</td>\n",
       "      <td>no</td>\n",
       "      <td>telephone</td>\n",
       "      <td>jul</td>\n",
       "      <td>fri</td>\n",
       "      <td>...</td>\n",
       "      <td>0</td>\n",
       "      <td>0</td>\n",
       "      <td>0</td>\n",
       "      <td>0</td>\n",
       "      <td>1</td>\n",
       "      <td>0</td>\n",
       "      <td>0</td>\n",
       "      <td>1</td>\n",
       "      <td>0</td>\n",
       "      <td>0</td>\n",
       "    </tr>\n",
       "    <tr>\n",
       "      <td>4116</td>\n",
       "      <td>27</td>\n",
       "      <td>student</td>\n",
       "      <td>single</td>\n",
       "      <td>high.school</td>\n",
       "      <td>no</td>\n",
       "      <td>no</td>\n",
       "      <td>no</td>\n",
       "      <td>cellular</td>\n",
       "      <td>may</td>\n",
       "      <td>mon</td>\n",
       "      <td>...</td>\n",
       "      <td>1</td>\n",
       "      <td>0</td>\n",
       "      <td>0</td>\n",
       "      <td>0</td>\n",
       "      <td>0</td>\n",
       "      <td>0</td>\n",
       "      <td>0</td>\n",
       "      <td>0</td>\n",
       "      <td>0</td>\n",
       "      <td>1</td>\n",
       "    </tr>\n",
       "    <tr>\n",
       "      <td>4117</td>\n",
       "      <td>58</td>\n",
       "      <td>admin.</td>\n",
       "      <td>married</td>\n",
       "      <td>high.school</td>\n",
       "      <td>no</td>\n",
       "      <td>no</td>\n",
       "      <td>no</td>\n",
       "      <td>cellular</td>\n",
       "      <td>aug</td>\n",
       "      <td>fri</td>\n",
       "      <td>...</td>\n",
       "      <td>0</td>\n",
       "      <td>0</td>\n",
       "      <td>0</td>\n",
       "      <td>0</td>\n",
       "      <td>1</td>\n",
       "      <td>0</td>\n",
       "      <td>0</td>\n",
       "      <td>0</td>\n",
       "      <td>0</td>\n",
       "      <td>1</td>\n",
       "    </tr>\n",
       "    <tr>\n",
       "      <td>4118</td>\n",
       "      <td>34</td>\n",
       "      <td>management</td>\n",
       "      <td>single</td>\n",
       "      <td>high.school</td>\n",
       "      <td>no</td>\n",
       "      <td>yes</td>\n",
       "      <td>no</td>\n",
       "      <td>cellular</td>\n",
       "      <td>nov</td>\n",
       "      <td>wed</td>\n",
       "      <td>...</td>\n",
       "      <td>0</td>\n",
       "      <td>0</td>\n",
       "      <td>0</td>\n",
       "      <td>1</td>\n",
       "      <td>1</td>\n",
       "      <td>0</td>\n",
       "      <td>0</td>\n",
       "      <td>1</td>\n",
       "      <td>0</td>\n",
       "      <td>1</td>\n",
       "    </tr>\n",
       "  </tbody>\n",
       "</table>\n",
       "<p>3090 rows × 60 columns</p>\n",
       "</div>"
      ],
      "text/plain": [
       "      age          job  marital          education default housing loan  \\\n",
       "0      30  blue-collar  married           basic.9y      no     yes   no   \n",
       "1      39     services   single        high.school      no      no   no   \n",
       "2      25     services  married        high.school      no     yes   no   \n",
       "4      47       admin.  married  university.degree      no     yes   no   \n",
       "5      32     services   single  university.degree      no      no   no   \n",
       "...   ...          ...      ...                ...     ...     ...  ...   \n",
       "4114   30       admin.  married           basic.6y      no     yes  yes   \n",
       "4115   39       admin.  married        high.school      no     yes   no   \n",
       "4116   27      student   single        high.school      no      no   no   \n",
       "4117   58       admin.  married        high.school      no      no   no   \n",
       "4118   34   management   single        high.school      no     yes   no   \n",
       "\n",
       "        contact month day_of_week  ...  day_of_week_mon  day_of_week_thu  \\\n",
       "0      cellular   may         fri  ...                0                0   \n",
       "1     telephone   may         fri  ...                0                0   \n",
       "2     telephone   jun         wed  ...                0                0   \n",
       "4      cellular   nov         mon  ...                1                0   \n",
       "5      cellular   sep         thu  ...                0                1   \n",
       "...         ...   ...         ...  ...              ...              ...   \n",
       "4114   cellular   jul         thu  ...                0                1   \n",
       "4115  telephone   jul         fri  ...                0                0   \n",
       "4116   cellular   may         mon  ...                1                0   \n",
       "4117   cellular   aug         fri  ...                0                0   \n",
       "4118   cellular   nov         wed  ...                0                0   \n",
       "\n",
       "      day_of_week_tue  day_of_week_wed poutcome_nonexistent  poutcome_success  \\\n",
       "0                   0                0                    1                 0   \n",
       "1                   0                0                    1                 0   \n",
       "2                   0                1                    1                 0   \n",
       "4                   0                0                    1                 0   \n",
       "5                   0                0                    0                 0   \n",
       "...               ...              ...                  ...               ...   \n",
       "4114                0                0                    1                 0   \n",
       "4115                0                0                    1                 0   \n",
       "4116                0                0                    0                 0   \n",
       "4117                0                0                    1                 0   \n",
       "4118                0                1                    1                 0   \n",
       "\n",
       "      default_num  housing_num  loan_num  contact_num  \n",
       "0               0            1         0            1  \n",
       "1               0            0         0            0  \n",
       "2               0            1         0            0  \n",
       "4               0            1         0            1  \n",
       "5               0            0         0            1  \n",
       "...           ...          ...       ...          ...  \n",
       "4114            0            1         1            1  \n",
       "4115            0            1         0            0  \n",
       "4116            0            0         0            1  \n",
       "4117            0            0         0            1  \n",
       "4118            0            1         0            1  \n",
       "\n",
       "[3090 rows x 60 columns]"
      ]
     },
     "execution_count": 53,
     "metadata": {},
     "output_type": "execute_result"
    }
   ],
   "source": [
    "# Covert default 'yes' and 'no' values into 1s and 0s\n",
    "bank_no_unk_dummies['default_num'] = bank_no_unk_dummies.default.map({'yes':1, 'no':0})\n",
    "# Covert housing 'yes' and 'no' values into 1s and 0s\n",
    "bank_no_unk_dummies['housing_num'] = bank_no_unk_dummies.housing.map({'yes':1, 'no':0})\n",
    "# Covert loan 'yes' and 'no' values into 1s and 0s\n",
    "bank_no_unk_dummies['loan_num'] = bank_no_unk_dummies.loan.map({'yes':1, 'no':0})\n",
    "# Covert contact 'yes' and 'no' values into 1s and 0s\n",
    "bank_no_unk_dummies['contact_num'] = bank_no_unk_dummies.contact.map({'cellular':1, 'telephone':0})\n",
    "bank_no_unk_dummies"
   ]
  },
  {
   "cell_type": "code",
   "execution_count": 54,
   "metadata": {},
   "outputs": [
    {
     "data": {
      "text/plain": [
       "Index(['age', 'job', 'marital', 'education', 'default', 'housing', 'loan',\n",
       "       'contact', 'month', 'day_of_week', 'duration', 'campaign', 'pdays',\n",
       "       'previous', 'poutcome', 'emp.var.rate', 'cons.price.idx',\n",
       "       'cons.conf.idx', 'euribor3m', 'nr.employed', 'y', 'job_blue-collar',\n",
       "       'job_entrepreneur', 'job_housemaid', 'job_management', 'job_retired',\n",
       "       'job_self-employed', 'job_services', 'job_student', 'job_technician',\n",
       "       'job_unemployed', 'marital_divorced', 'marital_married',\n",
       "       'marital_single', 'education_basic.4y', 'education_basic.6y',\n",
       "       'education_basic.9y', 'education_high.school', 'education_illiterate',\n",
       "       'education_professional.course', 'education_university.degree',\n",
       "       'month_aug', 'month_dec', 'month_jul', 'month_jun', 'month_mar',\n",
       "       'month_may', 'month_nov', 'month_oct', 'month_sep', 'day_of_week_mon',\n",
       "       'day_of_week_thu', 'day_of_week_tue', 'day_of_week_wed',\n",
       "       'poutcome_nonexistent', 'poutcome_success', 'default_num',\n",
       "       'housing_num', 'loan_num', 'contact_num'],\n",
       "      dtype='object')"
      ]
     },
     "execution_count": 54,
     "metadata": {},
     "output_type": "execute_result"
    }
   ],
   "source": [
    "bank_no_unk_dummies.columns"
   ]
  },
  {
   "cell_type": "code",
   "execution_count": 55,
   "metadata": {},
   "outputs": [],
   "source": [
    "feature_cols = ['duration', 'campaign', 'pdays',\n",
    "       'previous', 'emp.var.rate', 'cons.price.idx',\n",
    "       'cons.conf.idx', 'euribor3m', 'nr.employed', 'job_blue-collar',\n",
    "       'job_entrepreneur', 'job_housemaid', 'job_management', 'job_retired',\n",
    "       'job_self-employed', 'job_services', 'job_student', 'job_technician',\n",
    "       'job_unemployed', 'marital_divorced', 'marital_married',\n",
    "       'marital_single', 'education_basic.4y', 'education_basic.6y',\n",
    "       'education_basic.9y', 'education_high.school', 'education_illiterate',\n",
    "       'education_professional.course', 'education_university.degree',\n",
    "       'month_aug', 'month_dec', 'month_jul', 'month_jun', 'month_mar',\n",
    "       'month_may', 'month_nov', 'month_oct', 'month_sep', 'day_of_week_mon',\n",
    "       'day_of_week_thu', 'day_of_week_tue', 'day_of_week_wed',\n",
    "       'poutcome_nonexistent', 'poutcome_success', 'default_num',\n",
    "       'housing_num', 'loan_num', 'contact_num']"
   ]
  },
  {
   "cell_type": "code",
   "execution_count": 56,
   "metadata": {},
   "outputs": [
    {
     "name": "stderr",
     "output_type": "stream",
     "text": [
      "/Users/hanhuang/opt/anaconda3/lib/python3.7/site-packages/sklearn/linear_model/logistic.py:432: FutureWarning: Default solver will be changed to 'lbfgs' in 0.22. Specify a solver to silence this warning.\n",
      "  FutureWarning)\n"
     ]
    },
    {
     "data": {
      "text/plain": [
       "LogisticRegression(C=1.0, class_weight=None, dual=False, fit_intercept=True,\n",
       "                   intercept_scaling=1, l1_ratio=None, max_iter=100,\n",
       "                   multi_class='warn', n_jobs=None, penalty='l2',\n",
       "                   random_state=None, solver='warn', tol=0.0001, verbose=0,\n",
       "                   warm_start=False)"
      ]
     },
     "execution_count": 56,
     "metadata": {},
     "output_type": "execute_result"
    }
   ],
   "source": [
    "# set the model (using logistical Regression)\n",
    "logregall = LogisticRegression()\n",
    "\n",
    "\n",
    "# Set feature matrix and response\n",
    "X = bank_no_unk_dummies[feature_cols]\n",
    "y = bank_no_unk_dummies.y\n",
    "\n",
    "# Set train test split\n",
    "X_train, X_test, y_train, y_test = train_test_split(X, y)\n",
    "\n",
    "# Set the model with the training data\n",
    "logregall.fit(X_train, y_train)"
   ]
  },
  {
   "cell_type": "code",
   "execution_count": 57,
   "metadata": {},
   "outputs": [
    {
     "data": {
      "text/plain": [
       "0.9236739974126779"
      ]
     },
     "execution_count": 57,
     "metadata": {},
     "output_type": "execute_result"
    }
   ],
   "source": [
    "# Get the score\n",
    "y_pred = logregall.predict(X_test)\n",
    "logregall.score(X_test, y_test)"
   ]
  },
  {
   "cell_type": "code",
   "execution_count": 58,
   "metadata": {},
   "outputs": [
    {
     "data": {
      "text/html": [
       "<div>\n",
       "<style scoped>\n",
       "    .dataframe tbody tr th:only-of-type {\n",
       "        vertical-align: middle;\n",
       "    }\n",
       "\n",
       "    .dataframe tbody tr th {\n",
       "        vertical-align: top;\n",
       "    }\n",
       "\n",
       "    .dataframe thead th {\n",
       "        text-align: right;\n",
       "    }\n",
       "</style>\n",
       "<table border=\"1\" class=\"dataframe\">\n",
       "  <thead>\n",
       "    <tr style=\"text-align: right;\">\n",
       "      <th></th>\n",
       "      <th>age</th>\n",
       "      <th>job</th>\n",
       "      <th>marital</th>\n",
       "      <th>education</th>\n",
       "      <th>default</th>\n",
       "      <th>housing</th>\n",
       "      <th>loan</th>\n",
       "      <th>contact</th>\n",
       "      <th>month</th>\n",
       "      <th>day_of_week</th>\n",
       "      <th>...</th>\n",
       "      <th>day_of_week_thu</th>\n",
       "      <th>day_of_week_tue</th>\n",
       "      <th>day_of_week_wed</th>\n",
       "      <th>poutcome_nonexistent</th>\n",
       "      <th>poutcome_success</th>\n",
       "      <th>default_num</th>\n",
       "      <th>housing_num</th>\n",
       "      <th>loan_num</th>\n",
       "      <th>contact_num</th>\n",
       "      <th>y_all_pred_prob</th>\n",
       "    </tr>\n",
       "  </thead>\n",
       "  <tbody>\n",
       "    <tr>\n",
       "      <td>0</td>\n",
       "      <td>30</td>\n",
       "      <td>blue-collar</td>\n",
       "      <td>married</td>\n",
       "      <td>basic.9y</td>\n",
       "      <td>no</td>\n",
       "      <td>yes</td>\n",
       "      <td>no</td>\n",
       "      <td>cellular</td>\n",
       "      <td>may</td>\n",
       "      <td>fri</td>\n",
       "      <td>...</td>\n",
       "      <td>0</td>\n",
       "      <td>0</td>\n",
       "      <td>0</td>\n",
       "      <td>1</td>\n",
       "      <td>0</td>\n",
       "      <td>0</td>\n",
       "      <td>1</td>\n",
       "      <td>0</td>\n",
       "      <td>1</td>\n",
       "      <td>0.178448</td>\n",
       "    </tr>\n",
       "    <tr>\n",
       "      <td>1</td>\n",
       "      <td>39</td>\n",
       "      <td>services</td>\n",
       "      <td>single</td>\n",
       "      <td>high.school</td>\n",
       "      <td>no</td>\n",
       "      <td>no</td>\n",
       "      <td>no</td>\n",
       "      <td>telephone</td>\n",
       "      <td>may</td>\n",
       "      <td>fri</td>\n",
       "      <td>...</td>\n",
       "      <td>0</td>\n",
       "      <td>0</td>\n",
       "      <td>0</td>\n",
       "      <td>1</td>\n",
       "      <td>0</td>\n",
       "      <td>0</td>\n",
       "      <td>0</td>\n",
       "      <td>0</td>\n",
       "      <td>0</td>\n",
       "      <td>0.021138</td>\n",
       "    </tr>\n",
       "    <tr>\n",
       "      <td>2</td>\n",
       "      <td>25</td>\n",
       "      <td>services</td>\n",
       "      <td>married</td>\n",
       "      <td>high.school</td>\n",
       "      <td>no</td>\n",
       "      <td>yes</td>\n",
       "      <td>no</td>\n",
       "      <td>telephone</td>\n",
       "      <td>jun</td>\n",
       "      <td>wed</td>\n",
       "      <td>...</td>\n",
       "      <td>0</td>\n",
       "      <td>0</td>\n",
       "      <td>1</td>\n",
       "      <td>1</td>\n",
       "      <td>0</td>\n",
       "      <td>0</td>\n",
       "      <td>1</td>\n",
       "      <td>0</td>\n",
       "      <td>0</td>\n",
       "      <td>0.027177</td>\n",
       "    </tr>\n",
       "    <tr>\n",
       "      <td>4</td>\n",
       "      <td>47</td>\n",
       "      <td>admin.</td>\n",
       "      <td>married</td>\n",
       "      <td>university.degree</td>\n",
       "      <td>no</td>\n",
       "      <td>yes</td>\n",
       "      <td>no</td>\n",
       "      <td>cellular</td>\n",
       "      <td>nov</td>\n",
       "      <td>mon</td>\n",
       "      <td>...</td>\n",
       "      <td>0</td>\n",
       "      <td>0</td>\n",
       "      <td>0</td>\n",
       "      <td>1</td>\n",
       "      <td>0</td>\n",
       "      <td>0</td>\n",
       "      <td>1</td>\n",
       "      <td>0</td>\n",
       "      <td>1</td>\n",
       "      <td>0.019363</td>\n",
       "    </tr>\n",
       "    <tr>\n",
       "      <td>5</td>\n",
       "      <td>32</td>\n",
       "      <td>services</td>\n",
       "      <td>single</td>\n",
       "      <td>university.degree</td>\n",
       "      <td>no</td>\n",
       "      <td>no</td>\n",
       "      <td>no</td>\n",
       "      <td>cellular</td>\n",
       "      <td>sep</td>\n",
       "      <td>thu</td>\n",
       "      <td>...</td>\n",
       "      <td>1</td>\n",
       "      <td>0</td>\n",
       "      <td>0</td>\n",
       "      <td>0</td>\n",
       "      <td>0</td>\n",
       "      <td>0</td>\n",
       "      <td>0</td>\n",
       "      <td>0</td>\n",
       "      <td>1</td>\n",
       "      <td>0.199704</td>\n",
       "    </tr>\n",
       "    <tr>\n",
       "      <td>...</td>\n",
       "      <td>...</td>\n",
       "      <td>...</td>\n",
       "      <td>...</td>\n",
       "      <td>...</td>\n",
       "      <td>...</td>\n",
       "      <td>...</td>\n",
       "      <td>...</td>\n",
       "      <td>...</td>\n",
       "      <td>...</td>\n",
       "      <td>...</td>\n",
       "      <td>...</td>\n",
       "      <td>...</td>\n",
       "      <td>...</td>\n",
       "      <td>...</td>\n",
       "      <td>...</td>\n",
       "      <td>...</td>\n",
       "      <td>...</td>\n",
       "      <td>...</td>\n",
       "      <td>...</td>\n",
       "      <td>...</td>\n",
       "      <td>...</td>\n",
       "    </tr>\n",
       "    <tr>\n",
       "      <td>4114</td>\n",
       "      <td>30</td>\n",
       "      <td>admin.</td>\n",
       "      <td>married</td>\n",
       "      <td>basic.6y</td>\n",
       "      <td>no</td>\n",
       "      <td>yes</td>\n",
       "      <td>yes</td>\n",
       "      <td>cellular</td>\n",
       "      <td>jul</td>\n",
       "      <td>thu</td>\n",
       "      <td>...</td>\n",
       "      <td>1</td>\n",
       "      <td>0</td>\n",
       "      <td>0</td>\n",
       "      <td>1</td>\n",
       "      <td>0</td>\n",
       "      <td>0</td>\n",
       "      <td>1</td>\n",
       "      <td>1</td>\n",
       "      <td>1</td>\n",
       "      <td>0.011889</td>\n",
       "    </tr>\n",
       "    <tr>\n",
       "      <td>4115</td>\n",
       "      <td>39</td>\n",
       "      <td>admin.</td>\n",
       "      <td>married</td>\n",
       "      <td>high.school</td>\n",
       "      <td>no</td>\n",
       "      <td>yes</td>\n",
       "      <td>no</td>\n",
       "      <td>telephone</td>\n",
       "      <td>jul</td>\n",
       "      <td>fri</td>\n",
       "      <td>...</td>\n",
       "      <td>0</td>\n",
       "      <td>0</td>\n",
       "      <td>0</td>\n",
       "      <td>1</td>\n",
       "      <td>0</td>\n",
       "      <td>0</td>\n",
       "      <td>1</td>\n",
       "      <td>0</td>\n",
       "      <td>0</td>\n",
       "      <td>0.018315</td>\n",
       "    </tr>\n",
       "    <tr>\n",
       "      <td>4116</td>\n",
       "      <td>27</td>\n",
       "      <td>student</td>\n",
       "      <td>single</td>\n",
       "      <td>high.school</td>\n",
       "      <td>no</td>\n",
       "      <td>no</td>\n",
       "      <td>no</td>\n",
       "      <td>cellular</td>\n",
       "      <td>may</td>\n",
       "      <td>mon</td>\n",
       "      <td>...</td>\n",
       "      <td>0</td>\n",
       "      <td>0</td>\n",
       "      <td>0</td>\n",
       "      <td>0</td>\n",
       "      <td>0</td>\n",
       "      <td>0</td>\n",
       "      <td>0</td>\n",
       "      <td>0</td>\n",
       "      <td>1</td>\n",
       "      <td>0.031277</td>\n",
       "    </tr>\n",
       "    <tr>\n",
       "      <td>4117</td>\n",
       "      <td>58</td>\n",
       "      <td>admin.</td>\n",
       "      <td>married</td>\n",
       "      <td>high.school</td>\n",
       "      <td>no</td>\n",
       "      <td>no</td>\n",
       "      <td>no</td>\n",
       "      <td>cellular</td>\n",
       "      <td>aug</td>\n",
       "      <td>fri</td>\n",
       "      <td>...</td>\n",
       "      <td>0</td>\n",
       "      <td>0</td>\n",
       "      <td>0</td>\n",
       "      <td>1</td>\n",
       "      <td>0</td>\n",
       "      <td>0</td>\n",
       "      <td>0</td>\n",
       "      <td>0</td>\n",
       "      <td>1</td>\n",
       "      <td>0.102997</td>\n",
       "    </tr>\n",
       "    <tr>\n",
       "      <td>4118</td>\n",
       "      <td>34</td>\n",
       "      <td>management</td>\n",
       "      <td>single</td>\n",
       "      <td>high.school</td>\n",
       "      <td>no</td>\n",
       "      <td>yes</td>\n",
       "      <td>no</td>\n",
       "      <td>cellular</td>\n",
       "      <td>nov</td>\n",
       "      <td>wed</td>\n",
       "      <td>...</td>\n",
       "      <td>0</td>\n",
       "      <td>0</td>\n",
       "      <td>1</td>\n",
       "      <td>1</td>\n",
       "      <td>0</td>\n",
       "      <td>0</td>\n",
       "      <td>1</td>\n",
       "      <td>0</td>\n",
       "      <td>1</td>\n",
       "      <td>0.027120</td>\n",
       "    </tr>\n",
       "  </tbody>\n",
       "</table>\n",
       "<p>3090 rows × 61 columns</p>\n",
       "</div>"
      ],
      "text/plain": [
       "      age          job  marital          education default housing loan  \\\n",
       "0      30  blue-collar  married           basic.9y      no     yes   no   \n",
       "1      39     services   single        high.school      no      no   no   \n",
       "2      25     services  married        high.school      no     yes   no   \n",
       "4      47       admin.  married  university.degree      no     yes   no   \n",
       "5      32     services   single  university.degree      no      no   no   \n",
       "...   ...          ...      ...                ...     ...     ...  ...   \n",
       "4114   30       admin.  married           basic.6y      no     yes  yes   \n",
       "4115   39       admin.  married        high.school      no     yes   no   \n",
       "4116   27      student   single        high.school      no      no   no   \n",
       "4117   58       admin.  married        high.school      no      no   no   \n",
       "4118   34   management   single        high.school      no     yes   no   \n",
       "\n",
       "        contact month day_of_week  ...  day_of_week_thu  day_of_week_tue  \\\n",
       "0      cellular   may         fri  ...                0                0   \n",
       "1     telephone   may         fri  ...                0                0   \n",
       "2     telephone   jun         wed  ...                0                0   \n",
       "4      cellular   nov         mon  ...                0                0   \n",
       "5      cellular   sep         thu  ...                1                0   \n",
       "...         ...   ...         ...  ...              ...              ...   \n",
       "4114   cellular   jul         thu  ...                1                0   \n",
       "4115  telephone   jul         fri  ...                0                0   \n",
       "4116   cellular   may         mon  ...                0                0   \n",
       "4117   cellular   aug         fri  ...                0                0   \n",
       "4118   cellular   nov         wed  ...                0                0   \n",
       "\n",
       "      day_of_week_wed  poutcome_nonexistent poutcome_success  default_num  \\\n",
       "0                   0                     1                0            0   \n",
       "1                   0                     1                0            0   \n",
       "2                   1                     1                0            0   \n",
       "4                   0                     1                0            0   \n",
       "5                   0                     0                0            0   \n",
       "...               ...                   ...              ...          ...   \n",
       "4114                0                     1                0            0   \n",
       "4115                0                     1                0            0   \n",
       "4116                0                     0                0            0   \n",
       "4117                0                     1                0            0   \n",
       "4118                1                     1                0            0   \n",
       "\n",
       "      housing_num  loan_num  contact_num  y_all_pred_prob  \n",
       "0               1         0            1         0.178448  \n",
       "1               0         0            0         0.021138  \n",
       "2               1         0            0         0.027177  \n",
       "4               1         0            1         0.019363  \n",
       "5               0         0            1         0.199704  \n",
       "...           ...       ...          ...              ...  \n",
       "4114            1         1            1         0.011889  \n",
       "4115            1         0            0         0.018315  \n",
       "4116            0         0            1         0.031277  \n",
       "4117            0         0            1         0.102997  \n",
       "4118            1         0            1         0.027120  \n",
       "\n",
       "[3090 rows x 61 columns]"
      ]
     },
     "execution_count": 58,
     "metadata": {},
     "output_type": "execute_result"
    }
   ],
   "source": [
    "# Store the predicted probabilities of class 1.\n",
    "bank_no_unk_dummies['y_all_pred_prob'] = logregall.predict_proba(X)[:, 1]\n",
    "bank_no_unk_dummies"
   ]
  },
  {
   "cell_type": "code",
   "execution_count": 59,
   "metadata": {},
   "outputs": [
    {
     "data": {
      "text/plain": [
       "array([7.79625686e-01, 8.30800753e-01, 4.46150231e-03, 1.60013447e-02,\n",
       "       2.34760301e-02, 1.02182467e-01, 1.90690400e-02, 4.76362820e-02,\n",
       "       2.29648667e-01, 1.21387510e-02, 6.38409690e-02, 1.05255369e-01,\n",
       "       9.50059667e-01, 1.49796601e-02, 4.69683671e-03, 8.34164751e-03,\n",
       "       1.18907942e-01, 1.52321605e-02, 2.05204309e-02, 1.48608864e-02,\n",
       "       1.05248819e-02, 2.25937069e-02, 5.81546035e-02, 3.32061519e-01,\n",
       "       1.33457882e-02, 2.45785506e-03, 3.36535775e-02, 1.74890134e-02,\n",
       "       7.80839167e-02, 2.68811985e-02, 1.94058594e-01, 1.84944398e-02,\n",
       "       1.34000674e-02, 6.45292769e-03, 4.83452299e-01, 4.55490238e-02,\n",
       "       4.23799353e-01, 4.03046139e-01, 5.34983257e-02, 5.69109300e-02,\n",
       "       7.04442411e-01, 3.85175339e-02, 7.69931973e-01, 8.28055586e-02,\n",
       "       1.35143861e-02, 9.02056919e-01, 1.09529266e-02, 2.49350311e-02,\n",
       "       1.91402501e-01, 1.27981019e-02, 4.10502004e-02, 5.80081618e-02,\n",
       "       1.95855913e-02, 3.31355525e-01, 2.26766039e-02, 3.03257267e-03,\n",
       "       2.58124397e-02, 1.30739486e-01, 2.80105641e-01, 1.35642921e-02,\n",
       "       1.52630569e-01, 3.34117017e-02, 1.39433019e-01, 1.98864559e-01,\n",
       "       3.13119196e-02, 5.51611015e-02, 2.64331943e-01, 1.41328788e-02,\n",
       "       4.42589368e-02, 2.12467793e-01, 7.13469268e-02, 2.08060801e-02,\n",
       "       2.79920843e-02, 2.27440686e-02, 3.25218726e-01, 3.24607097e-02,\n",
       "       1.27671903e-01, 8.57408934e-02, 1.87847384e-02, 1.15346405e-01,\n",
       "       5.19831477e-02, 2.97649106e-01, 1.37839011e-02, 9.21044117e-03,\n",
       "       2.91621313e-02, 1.67453751e-02, 3.85030358e-02, 1.94344594e-03,\n",
       "       3.01907303e-01, 9.67886742e-02, 6.50385084e-01, 3.28656488e-03,\n",
       "       5.09829682e-01, 8.26925498e-01, 8.85681106e-01, 2.84379774e-01,\n",
       "       1.84578729e-01, 1.57621404e-02, 5.21719346e-03, 6.43351907e-02,\n",
       "       5.78553262e-02, 9.65398809e-01, 1.50739746e-02, 7.01294319e-01,\n",
       "       2.05267333e-02, 2.02828684e-02, 7.93448244e-02, 1.47418480e-02,\n",
       "       2.90385575e-01, 2.04780671e-02, 2.93393154e-02, 3.73453150e-02,\n",
       "       7.31887192e-03, 1.32624777e-02, 1.65452883e-03, 1.40012975e-02,\n",
       "       3.17620710e-02, 7.08431583e-03, 1.33320606e-01, 1.79273635e-02,\n",
       "       1.80890619e-02, 1.67989287e-02, 2.32768113e-02, 1.78238824e-02,\n",
       "       2.17854310e-02, 3.06257871e-02, 2.05997824e-02, 2.67298739e-01,\n",
       "       7.23287868e-02, 2.04378857e-02, 2.21275520e-02, 1.17764930e-02,\n",
       "       1.57614507e-02, 1.38296775e-02, 4.95981943e-02, 1.07090703e-01,\n",
       "       4.14241485e-02, 1.47658254e-02, 9.89066857e-03, 9.99422747e-01,\n",
       "       4.42171796e-02, 1.74701452e-02, 4.14196537e-01, 2.22734109e-02,\n",
       "       7.98572364e-02, 4.95562525e-02, 2.21951944e-01, 6.94078411e-01,\n",
       "       5.14346611e-03, 3.42545136e-02, 3.71845897e-02, 2.14089734e-02,\n",
       "       4.26449082e-02, 3.11402493e-02, 1.40037454e-02, 5.09705266e-01,\n",
       "       6.81509502e-02, 1.58447904e-03, 3.44497853e-02, 8.06011560e-03,\n",
       "       2.90936222e-02, 1.83276508e-01, 1.35916865e-02, 1.80054745e-02,\n",
       "       1.96112439e-02, 2.06454160e-02, 6.33828902e-02, 1.40627672e-02,\n",
       "       1.13014955e-02, 2.03517951e-02, 1.96179628e-01, 1.63579613e-01,\n",
       "       2.62488155e-02, 3.29617069e-03, 9.93393392e-01, 4.76643157e-02,\n",
       "       3.73805853e-03, 1.17294917e-01, 6.29043006e-03, 2.37437978e-02,\n",
       "       1.90634177e-02, 3.42881508e-02, 1.90773713e-02, 6.69713624e-02,\n",
       "       9.96569925e-02, 1.24453978e-01, 1.11598183e-02, 5.12746978e-05,\n",
       "       1.31819324e-01, 1.48657667e-01, 4.48446132e-02, 9.28885850e-01,\n",
       "       1.29086255e-02, 5.31889033e-02, 7.75102617e-01, 1.83149586e-02,\n",
       "       1.87397063e-01, 1.59571768e-02, 4.47192415e-02, 3.47677606e-02,\n",
       "       7.04423922e-03, 4.96378076e-02, 5.94550118e-02, 1.26403856e-01,\n",
       "       1.16828391e-02, 1.39832769e-02, 2.85683591e-02, 5.58171406e-02,\n",
       "       1.20564492e-01, 1.66770030e-02, 1.93957558e-01, 2.39541743e-02,\n",
       "       1.07654000e-02, 2.72069918e-02, 6.48787839e-01, 2.12691603e-02,\n",
       "       3.21291414e-02, 2.05990465e-02, 2.89350872e-02, 1.88176680e-01,\n",
       "       6.40034828e-01, 2.39606525e-02, 7.45202328e-02, 1.83556909e-02,\n",
       "       2.58172065e-01, 3.93162986e-03, 1.90003954e-02, 2.99913159e-02,\n",
       "       9.54690148e-02, 1.30731653e-02, 2.78027459e-02, 1.10447049e-02,\n",
       "       2.63908146e-02, 5.77386709e-01, 9.35705800e-02, 2.04512559e-02,\n",
       "       2.30976579e-02, 1.66255253e-03, 4.26515660e-03, 1.69282253e-01,\n",
       "       1.11581172e-02, 7.28559910e-02, 3.35224204e-01, 3.55076397e-03,\n",
       "       3.92735719e-01, 3.14617617e-02, 1.52751159e-02, 1.99074038e-01,\n",
       "       3.45116540e-02, 1.42992742e-01, 8.23441867e-03, 2.45946725e-02,\n",
       "       5.71061776e-02, 3.09031829e-02, 1.92401561e-02, 1.64860773e-02,\n",
       "       1.21278485e-02, 4.56180378e-03, 3.03518327e-04, 5.74611738e-01,\n",
       "       1.17930173e-02, 1.14572805e-01, 9.70548509e-02, 8.76799791e-01,\n",
       "       6.74133808e-02, 2.01109336e-02, 6.07238079e-02, 8.85645869e-02,\n",
       "       1.06655013e-02, 1.39189234e-02, 2.90679490e-02, 1.37804765e-01,\n",
       "       6.28737243e-02, 3.45535835e-02, 1.98919996e-02, 1.14183774e-02,\n",
       "       1.53888979e-01, 1.53735679e-01, 2.81243887e-02, 1.05403317e-02,\n",
       "       6.85117856e-01, 2.09040533e-02, 4.85563819e-01, 4.29629891e-02,\n",
       "       1.70912476e-02, 2.94514593e-03, 1.84256659e-02, 3.67006624e-02,\n",
       "       2.43689799e-03, 2.22469276e-02, 7.34462775e-03, 5.95276719e-01,\n",
       "       7.84902399e-02, 2.76727125e-02, 1.40647606e-02, 1.35222622e-02,\n",
       "       1.94314197e-01, 1.51510845e-01, 1.27730601e-02, 2.36566858e-02,\n",
       "       3.62287019e-01, 2.22320496e-01, 1.70136633e-02, 1.64049791e-02,\n",
       "       6.01716964e-02, 1.40385904e-02, 1.76256018e-02, 6.77674633e-03,\n",
       "       9.91694494e-02, 7.27499219e-02, 4.80073542e-02, 5.92678998e-02,\n",
       "       1.59942249e-01, 4.84950771e-03, 3.57748914e-02, 1.63000498e-02,\n",
       "       7.34627364e-01, 2.28925699e-01, 1.88295443e-02, 1.55605711e-02,\n",
       "       6.22798035e-02, 1.18893306e-02, 5.87992804e-01, 5.08505306e-01,\n",
       "       1.70672470e-01, 1.51820271e-01, 2.44735254e-02, 5.63343633e-03,\n",
       "       1.04469609e-01, 8.54845253e-01, 2.71634773e-02, 2.21859936e-02,\n",
       "       1.53750637e-01, 2.12010004e-02, 9.18660936e-03, 2.48498865e-02,\n",
       "       1.03158074e-02, 4.22921869e-03, 1.31924940e-02, 3.52636960e-02,\n",
       "       1.54620970e-02, 1.14396840e-02, 3.38492300e-02, 2.96225041e-02,\n",
       "       1.06765786e-01, 1.09964670e-01, 5.67855919e-04, 1.46907996e-02,\n",
       "       1.56345071e-01, 1.15539392e-01, 2.09075362e-02, 3.28126473e-02,\n",
       "       1.73004009e-02, 1.23753016e-02, 1.32716758e-02, 8.71113294e-03,\n",
       "       6.68911656e-02, 8.32872484e-01, 5.99632987e-01, 7.99940990e-03,\n",
       "       1.95519760e-02, 2.04662843e-02, 3.02563663e-02, 3.87007511e-02,\n",
       "       1.64385588e-02, 3.16500051e-01, 5.03374901e-03, 1.23055487e-02,\n",
       "       1.73361436e-01, 7.16403606e-02, 1.54491003e-02, 6.00474094e-02,\n",
       "       1.76578285e-02, 1.52473779e-01, 1.85205404e-01, 4.91705679e-02,\n",
       "       1.01763499e-02, 2.17175391e-02, 4.34218037e-02, 3.93520102e-02,\n",
       "       1.77661996e-02, 9.15227426e-01, 1.35487042e-02, 2.88398711e-03,\n",
       "       1.61885345e-02, 3.34784993e-02, 4.37057721e-01, 1.22000146e-02,\n",
       "       6.81261316e-03, 3.53421859e-02, 5.64568917e-02, 2.01110166e-01,\n",
       "       5.88113517e-02, 6.48608918e-01, 4.66475149e-02, 1.21348008e-02,\n",
       "       1.03845476e-02, 4.95948069e-02, 3.89817803e-02, 7.99087368e-03,\n",
       "       1.42960681e-02, 9.90170607e-02, 9.57077188e-01, 2.07281959e-02,\n",
       "       1.93633571e-02, 3.16795632e-02, 1.90690184e-02, 3.78676236e-02,\n",
       "       1.45512388e-01, 2.03731574e-02, 8.13128332e-03, 1.63209928e-01,\n",
       "       2.50978659e-02, 1.12649828e-02, 2.36003294e-02, 2.03741387e-02,\n",
       "       2.87985292e-01, 1.36164990e-02, 2.78427964e-01, 2.43449616e-02,\n",
       "       3.92422573e-03, 8.84685999e-02, 5.67763669e-02, 1.73127872e-02,\n",
       "       5.12971606e-02, 4.17159621e-02, 3.48336209e-01, 2.94094977e-02,\n",
       "       2.44830118e-02, 2.12321822e-02, 3.33347482e-02, 1.97554488e-02,\n",
       "       2.90824095e-03, 3.93732160e-01, 3.24819474e-01, 2.38996466e-02,\n",
       "       1.14666952e-02, 6.18189503e-02, 1.10672578e-01, 6.67574907e-02,\n",
       "       1.43055870e-01, 1.15491014e-01, 1.39292447e-01, 2.62752288e-02,\n",
       "       5.02532550e-03, 1.82543312e-01, 3.56288241e-02, 8.65321841e-01,\n",
       "       2.87234191e-02, 2.26922452e-02, 5.91173047e-01, 2.44552386e-01,\n",
       "       5.23158428e-04, 2.63173727e-02, 5.67848075e-02, 1.32336848e-01,\n",
       "       3.99162798e-01, 2.69633673e-02, 2.94345787e-01, 2.25254656e-01,\n",
       "       6.13112997e-01, 2.89530935e-02, 2.58922978e-01, 2.50412821e-01,\n",
       "       5.19251588e-04, 1.44112778e-02, 1.67597421e-02, 3.90965828e-02,\n",
       "       8.77376182e-01, 7.56779950e-01, 1.98975761e-02, 5.08939806e-01,\n",
       "       1.70356050e-02, 7.27540744e-02, 2.23862344e-02, 3.89796137e-02,\n",
       "       9.28841290e-02, 6.23425259e-03, 1.20759618e-01, 2.21372273e-02,\n",
       "       2.20069669e-02, 1.13400497e-01, 6.90234551e-02, 2.51136479e-01,\n",
       "       1.02581423e-03, 4.12690404e-03, 2.95911518e-01, 4.99103811e-02,\n",
       "       2.86209280e-03, 1.13106212e-01, 6.24591226e-02, 1.24215009e-01,\n",
       "       9.33923709e-03, 3.32824547e-01, 1.60865490e-02, 4.86590983e-02,\n",
       "       1.31164602e-02, 3.97005773e-03, 1.54755845e-02, 7.92235199e-02,\n",
       "       3.87180758e-02, 1.74385614e-02, 2.39020769e-01, 7.28189250e-03,\n",
       "       1.58625136e-01, 5.95728383e-01, 3.51965637e-02, 4.64703675e-02,\n",
       "       4.28932007e-03, 7.93351402e-02, 9.40800805e-03, 2.91731333e-02,\n",
       "       1.80616811e-02, 8.15097904e-02, 5.50713973e-02, 4.35447791e-03,\n",
       "       2.67690205e-02, 1.13022417e-01, 5.15182955e-03, 8.84696299e-03,\n",
       "       8.70106684e-01, 8.99895526e-03, 9.12473659e-03, 9.15940960e-02,\n",
       "       1.88864985e-02, 4.48602084e-02, 2.55953861e-01, 3.99251837e-04,\n",
       "       2.38063931e-02, 1.94280833e-02, 1.70834546e-01, 5.49721541e-03,\n",
       "       3.15097924e-02, 1.47870355e-01, 4.64989489e-02, 5.09000750e-03,\n",
       "       9.99995280e-01, 1.13509155e-01, 3.08137610e-02, 4.47056144e-02,\n",
       "       9.41034017e-03, 4.27642440e-02, 7.45498538e-01, 2.85000976e-02,\n",
       "       1.50324456e-02, 9.42815856e-01, 4.28976891e-02, 4.65429763e-02,\n",
       "       4.04039023e-02, 5.00773666e-03, 1.74923901e-02, 3.38037443e-01,\n",
       "       2.49858381e-02, 5.99584252e-02, 2.65254881e-02, 1.11486496e-02,\n",
       "       1.26888051e-02, 6.47295014e-02, 9.70547996e-02, 1.94367615e-01,\n",
       "       2.31308030e-02, 3.05825422e-01, 5.90526441e-01, 7.25440319e-01,\n",
       "       3.37524590e-02, 1.16704593e-01, 7.05291420e-02, 2.61037980e-02,\n",
       "       6.40689441e-01, 7.88097281e-02, 3.05142403e-04, 2.57484661e-02,\n",
       "       1.71352394e-02, 1.65188494e-01, 3.59556874e-02, 9.56850198e-02,\n",
       "       1.41194908e-02, 4.05114061e-01, 1.09478700e-01, 8.16855589e-03,\n",
       "       7.89580051e-02, 1.73148079e-02, 3.62818649e-01, 3.00556777e-02,\n",
       "       1.62403166e-02, 1.21880084e-02, 2.85775128e-02, 5.53086727e-02,\n",
       "       1.85094179e-02, 3.79020043e-01, 1.45772552e-02, 8.86392076e-01,\n",
       "       2.24384057e-02, 6.28016400e-02, 6.32993550e-02, 1.34258711e-02,\n",
       "       3.20767718e-02, 1.09633512e-02, 8.77272546e-01, 3.50908028e-02,\n",
       "       5.96523109e-03, 1.01691172e-01, 7.45932437e-03, 1.87152132e-02,\n",
       "       1.39050206e-02, 3.01837743e-01, 8.13981822e-02, 9.61909613e-02,\n",
       "       1.74920200e-02, 1.25201404e-02, 2.78352098e-01, 9.91330771e-01,\n",
       "       2.12971931e-03, 8.52723365e-03, 4.15531917e-01, 5.14529070e-02,\n",
       "       1.45977834e-01, 3.62836589e-02, 1.68512501e-02, 1.37297422e-02,\n",
       "       3.16929749e-02, 1.31064057e-02, 2.39064055e-02, 1.69697181e-02,\n",
       "       1.71559807e-02, 2.82423140e-02, 1.04253162e-02, 6.33961410e-01,\n",
       "       2.45173308e-02, 7.22740470e-02, 9.64594363e-03, 6.44428958e-01,\n",
       "       2.16588423e-02, 1.31346272e-02, 2.02615436e-02, 1.97930981e-02,\n",
       "       2.77256391e-02, 2.73674829e-02, 2.26496266e-02, 1.29214119e-02,\n",
       "       6.40129359e-01, 6.21346777e-06, 1.39001776e-02, 3.33268431e-02,\n",
       "       4.29472941e-04, 2.19793519e-02, 4.57456926e-02, 2.47296152e-02,\n",
       "       1.27302184e-02, 1.69218336e-02, 3.83156158e-02, 2.29435992e-02,\n",
       "       1.99593280e-02, 1.21204616e-01, 2.81818054e-02, 6.89100357e-02,\n",
       "       1.82675260e-01, 3.66691941e-01, 1.33414404e-03, 1.48714790e-02,\n",
       "       1.85115410e-02, 2.45497874e-02, 2.37203000e-02, 7.85574765e-01,\n",
       "       5.21349744e-03, 4.21263410e-02, 1.83665857e-02, 3.81428270e-02,\n",
       "       1.96575753e-02, 4.30659345e-03, 1.84334885e-02, 2.46126080e-01,\n",
       "       1.79420475e-02, 7.10307189e-02, 1.58025980e-01, 5.38061211e-01,\n",
       "       6.98196061e-03, 1.78959262e-02, 4.33873093e-01, 8.65183684e-03,\n",
       "       1.16961556e-02, 4.09098395e-02, 4.72084274e-03, 1.03771658e-01,\n",
       "       1.29416624e-02, 2.20406960e-02, 1.16492900e-02, 5.59620644e-02,\n",
       "       1.35213123e-01, 3.39570769e-02, 9.91530348e-02, 6.57403769e-01,\n",
       "       4.45537092e-01, 8.90439671e-02, 9.94506916e-01, 1.40327900e-01,\n",
       "       1.45036944e-02, 4.72883416e-01, 3.69979963e-02, 2.55329713e-03,\n",
       "       1.05062368e-02, 1.18977460e-01, 2.44907140e-02, 8.41655480e-02,\n",
       "       3.20826938e-02, 2.74557353e-02, 2.20520282e-02, 3.85083642e-02,\n",
       "       1.14754041e-02, 9.00245646e-03, 8.93898286e-03, 1.62562377e-02,\n",
       "       1.13521567e-02, 2.19811646e-02, 3.39034211e-02, 5.76444820e-02,\n",
       "       4.52875695e-03, 6.70779593e-02, 2.03453116e-01, 5.44810017e-02,\n",
       "       3.43309215e-02, 1.59630716e-02, 1.64771996e-02, 4.20094926e-02,\n",
       "       2.70463492e-02, 1.08586558e-02, 2.02491097e-02, 5.14520718e-01,\n",
       "       6.18814582e-02, 1.60322835e-02, 6.56907278e-01, 9.38189654e-03,\n",
       "       2.97318448e-02, 2.00791796e-02, 1.83268613e-02, 2.89243430e-02,\n",
       "       5.01814771e-02, 1.14471463e-02, 1.99954095e-02, 3.15785976e-01,\n",
       "       4.40596314e-02, 1.90525473e-02, 8.98464638e-01, 9.73339699e-01,\n",
       "       1.42998338e-01, 2.32018365e-02, 1.41552148e-01, 1.83787877e-03,\n",
       "       3.10875866e-02, 1.45085010e-01, 2.39622007e-01, 3.64716392e-01,\n",
       "       2.87479983e-02, 1.60472865e-01, 2.51804034e-01, 1.31734645e-02,\n",
       "       1.17358403e-02, 3.42004461e-02, 1.61026748e-02, 1.86004381e-01,\n",
       "       1.83168162e-01, 1.90434068e-01, 1.19787861e-01, 2.80046502e-02,\n",
       "       2.77589052e-02, 3.52669039e-02, 3.35853926e-01, 5.79838796e-03,\n",
       "       1.04549130e-02, 1.51425148e-02, 7.32453112e-01, 2.45894560e-02,\n",
       "       6.45945780e-02])"
      ]
     },
     "execution_count": 59,
     "metadata": {},
     "output_type": "execute_result"
    }
   ],
   "source": [
    "# Get probability predictions.\n",
    "logregall_pred_proba = logregall.predict_proba(X_test)[:,1]\n",
    "logregall_pred_proba\n",
    "#list(zip(admissions.gre,logit_pred_proba))"
   ]
  },
  {
   "cell_type": "code",
   "execution_count": 60,
   "metadata": {},
   "outputs": [
    {
     "data": {
      "text/plain": [
       "array([[0.22037431, 0.77962569],\n",
       "       [0.16919925, 0.83080075],\n",
       "       [0.9955385 , 0.0044615 ],\n",
       "       ...,\n",
       "       [0.26754689, 0.73245311],\n",
       "       [0.97541054, 0.02458946],\n",
       "       [0.93540542, 0.06459458]])"
      ]
     },
     "execution_count": 60,
     "metadata": {},
     "output_type": "execute_result"
    }
   ],
   "source": [
    "logregall.predict_proba(X_test)"
   ]
  },
  {
   "cell_type": "code",
   "execution_count": 61,
   "metadata": {},
   "outputs": [
    {
     "data": {
      "text/html": [
       "<div>\n",
       "<style scoped>\n",
       "    .dataframe tbody tr th:only-of-type {\n",
       "        vertical-align: middle;\n",
       "    }\n",
       "\n",
       "    .dataframe tbody tr th {\n",
       "        vertical-align: top;\n",
       "    }\n",
       "\n",
       "    .dataframe thead th {\n",
       "        text-align: right;\n",
       "    }\n",
       "</style>\n",
       "<table border=\"1\" class=\"dataframe\">\n",
       "  <thead>\n",
       "    <tr style=\"text-align: right;\">\n",
       "      <th>pred</th>\n",
       "      <th>False</th>\n",
       "      <th>True</th>\n",
       "      <th>All</th>\n",
       "    </tr>\n",
       "    <tr>\n",
       "      <th>true</th>\n",
       "      <th></th>\n",
       "      <th></th>\n",
       "      <th></th>\n",
       "    </tr>\n",
       "  </thead>\n",
       "  <tbody>\n",
       "    <tr>\n",
       "      <td>0</td>\n",
       "      <td>666</td>\n",
       "      <td>15</td>\n",
       "      <td>681</td>\n",
       "    </tr>\n",
       "    <tr>\n",
       "      <td>1</td>\n",
       "      <td>44</td>\n",
       "      <td>48</td>\n",
       "      <td>92</td>\n",
       "    </tr>\n",
       "    <tr>\n",
       "      <td>All</td>\n",
       "      <td>710</td>\n",
       "      <td>63</td>\n",
       "      <td>773</td>\n",
       "    </tr>\n",
       "  </tbody>\n",
       "</table>\n",
       "</div>"
      ],
      "text/plain": [
       "pred  False  True  All\n",
       "true                  \n",
       "0       666    15  681\n",
       "1        44    48   92\n",
       "All     710    63  773"
      ]
     },
     "execution_count": 61,
     "metadata": {},
     "output_type": "execute_result"
    }
   ],
   "source": [
    "metrics.confusion_matrix(y_true=y_test, y_pred=logregall_pred_proba > .5)\n",
    "#X_test.shape# For predicted probability greater than .5\n",
    "y_true = y_test\n",
    "y_pred = logregall_pred_proba > .5\n",
    "pd.crosstab(y_true, y_pred, margins=True,\n",
    "           rownames=['true'], colnames=['pred'])"
   ]
  },
  {
   "cell_type": "code",
   "execution_count": 62,
   "metadata": {},
   "outputs": [],
   "source": [
    "# Answer here: 666 true negatives, 15 false positives, 44 false negatives, 48 true positives\n",
    "# Accuracy = (666 + 48) / 773 = .92367\n",
    "# TPR = 48 / 92 = .5217\n",
    "# FPR = 15 / 681 = 0.22026"
   ]
  },
  {
   "cell_type": "markdown",
   "metadata": {},
   "source": [
    "## Bonus: Use Regularization to optimize your model."
   ]
  },
  {
   "cell_type": "code",
   "execution_count": null,
   "metadata": {},
   "outputs": [],
   "source": [
    "# try using a for loop to test various regularization strengths 'C'"
   ]
  }
 ],
 "metadata": {
  "kernelspec": {
   "display_name": "Python 3",
   "language": "python",
   "name": "python3"
  },
  "language_info": {
   "codemirror_mode": {
    "name": "ipython",
    "version": 3
   },
   "file_extension": ".py",
   "mimetype": "text/x-python",
   "name": "python",
   "nbconvert_exporter": "python",
   "pygments_lexer": "ipython3",
   "version": "3.7.4"
  }
 },
 "nbformat": 4,
 "nbformat_minor": 2
}
