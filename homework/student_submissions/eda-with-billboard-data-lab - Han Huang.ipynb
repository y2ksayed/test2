{
 "cells": [
  {
   "cell_type": "markdown",
   "metadata": {},
   "source": [
    "<img src=\"http://imgur.com/1ZcRyrc.png\" style=\"float: left; margin: 20px; height: 55px\">\n",
    "\n",
    "# Data Manipulation, EDA, and Reporting Results\n",
    "\n",
    "_Authors: Joseph Nelson (DC), Sam Stack (DC)_\n",
    "\n",
    "---\n",
    "\n",
    "> **This lab is intentionally open-ended, and you're encouraged to answer your own questions about the dataset!**\n",
    "\n",
    "\n",
    "### What makes a song a hit?\n",
    "\n",
    "On next week's episode of the 'Are You Entertained?' podcast, we're going to be analyzing the latest generation's guilty pleasure- the music of the '00s. \n",
    "\n",
    "Our Data Scientists have poured through Billboard chart data to analyze what made a hit soar to the top of the charts, and how long they stayed there. Tune in next week for an awesome exploration of music and data as we continue to address an omnipresent question in the industry- why do we like what we like?\n",
    "\n",
    "**Provide (at least) a markdown cell explaining your key learnings about top hits: what are they, what common themes are there, is there a trend among artists (type of music)?**\n",
    "\n",
    "---\n",
    "\n",
    "### Minimum Requirements\n",
    "\n",
    "**At a minimum, you must:**\n",
    "\n",
    "- Use Pandas to read in your data\n",
    "- Rename column names where appropriate\n",
    "- Describe your data: check the value counts and descriptive statistics\n",
    "- Make use of groupby statements\n",
    "- Utilize Boolean sorting\n",
    "- Assess the validity of your data (missing data, distributions?)\n",
    "\n",
    "**You should strive to:**\n",
    "\n",
    "- Produce a blog-post ready description of your lab\n",
    "- State your assumptions about the data\n",
    "- Describe limitations\n",
    "- Consider how you can action this from a stakeholder perspective (radio, record label, fan)\n",
    "- Include visualizations"
   ]
  },
  {
   "cell_type": "code",
   "execution_count": 175,
   "metadata": {},
   "outputs": [],
   "source": [
    "# EXECUTIVE SUMMARY \n",
    "# Although Rock still dominates the charts in 2000, Rap is trending upwards. \n",
    "# The artist with the most tracks in the Top 100 was Jay Z (at 5 tracks)\n",
    "# None of Jay Z's tracks got into the Top 10 but his last peaking track reached 11, peaking higher than all his prior tracks.\n",
    "# Given that this track peaked at the last week of 2000, there is a strong probility that this track will peak even higher than #11 \n",
    "# Although none of the the 17 tracks that reached #1 were rap, 5 of the tracks that peaked between #2-#10 were rap.\n",
    "# Record labels should keep an eye on whether rap starts to trend more strongly upwards in the future and if so consider investing more in signing and promoting rap artists\n",
    "# Should consider breaking out components of the 'Rock' genere as it is very broad and includes soem music which could be classified as dance music \n",
    "\n",
    "# GENERAL DESCRIPTION OF THE DATA \n",
    "# All tracks peaked in 2000.\n",
    "# 317 tracks by 228 artists. \n",
    "# The data is unlikely to be the full data set for all tracks that peaked in the charts in 2000.\n",
    "# I am assuming that the data that is included in the data set does not differ greatly from what was excluded.\n",
    "# All tracks peaked in 2000 but 18% of these tracks entered the top 100 in 1999.\n",
    "# 43% had Rock as a genre, 23% were Country, 18% were Rap, 16% were other genres. \n",
    "# Of the17 tracks that peaked at#1s in this data set, 88% had rock for the genre.\n",
    "# 75% of tracks that peaked between  #2-# 10 have Rock as the genre. \n",
    "# Christina Aguilera and Destiny’s Child were the only artists to have more than one #1 (they both had two) and were both classified as Rock.\n",
    "# Tracks that reached #1 were on average in the charts for 30 weeks, whereas tracks that peaked in the top 100 but outside the top 10 were in the charts for an average of 14 weeks.\n",
    "# On average, Top 10 tracks take over twice as long to peak (13 weeks) compared to those tracks that peak between #11 - #100\n",
    "# There is little variability in the average track length between #1s and the rest of the rest of the tracks in the sample.  \n"
   ]
  },
  {
   "cell_type": "code",
   "execution_count": 176,
   "metadata": {},
   "outputs": [],
   "source": [
    "import matplotlib.pyplot as plt\n",
    "import numpy as np\n",
    "import pandas as pd\n",
    "import seaborn as sns\n",
    "import scipy.stats as stats\n",
    "import os\n",
    "\n",
    "plt.style.use('fivethirtyeight')\n",
    "\n",
    "%matplotlib inline\n",
    "%config InlineBackend.figure_format = 'retina'\n",
    "\n",
    "# Billboard data CSV:\n",
    "billboard_csv = './billboard.csv'\n",
    "\n",
    "# We need to use encoding='latin-1' to deal with non-ASCII characters.\n",
    "df = pd.read_csv(billboard_csv, encoding='latin-1')"
   ]
  },
  {
   "cell_type": "code",
   "execution_count": 177,
   "metadata": {},
   "outputs": [
    {
     "data": {
      "text/plain": [
       "'/Users/hanhuang/General Assembly/My Work Projects/Billboard'"
      ]
     },
     "execution_count": 177,
     "metadata": {},
     "output_type": "execute_result"
    }
   ],
   "source": [
    "pwd"
   ]
  },
  {
   "cell_type": "code",
   "execution_count": 178,
   "metadata": {},
   "outputs": [
    {
     "data": {
      "text/plain": [
       "(317, 83)"
      ]
     },
     "execution_count": 178,
     "metadata": {},
     "output_type": "execute_result"
    }
   ],
   "source": [
    "df.shape"
   ]
  },
  {
   "cell_type": "code",
   "execution_count": 179,
   "metadata": {},
   "outputs": [
    {
     "data": {
      "text/plain": [
       "year                 int64\n",
       "artist.inverted     object\n",
       "track               object\n",
       "time                object\n",
       "genre               object\n",
       "date.entered        object\n",
       "date.peaked         object\n",
       "x1st.week            int64\n",
       "x2nd.week          float64\n",
       "x3rd.week          float64\n",
       "x4th.week          float64\n",
       "x5th.week          float64\n",
       "dtype: object"
      ]
     },
     "execution_count": 179,
     "metadata": {},
     "output_type": "execute_result"
    }
   ],
   "source": [
    "# Check Data Types\n",
    "df.dtypes.head(12)"
   ]
  },
  {
   "cell_type": "code",
   "execution_count": 180,
   "metadata": {
    "scrolled": true
   },
   "outputs": [
    {
     "data": {
      "text/html": [
       "<div>\n",
       "<style scoped>\n",
       "    .dataframe tbody tr th:only-of-type {\n",
       "        vertical-align: middle;\n",
       "    }\n",
       "\n",
       "    .dataframe tbody tr th {\n",
       "        vertical-align: top;\n",
       "    }\n",
       "\n",
       "    .dataframe thead th {\n",
       "        text-align: right;\n",
       "    }\n",
       "</style>\n",
       "<table border=\"1\" class=\"dataframe\">\n",
       "  <thead>\n",
       "    <tr style=\"text-align: right;\">\n",
       "      <th></th>\n",
       "      <th>year</th>\n",
       "      <th>artist.inverted</th>\n",
       "      <th>track</th>\n",
       "      <th>time</th>\n",
       "      <th>genre</th>\n",
       "      <th>date.entered</th>\n",
       "      <th>date.peaked</th>\n",
       "      <th>x1st.week</th>\n",
       "      <th>x2nd.week</th>\n",
       "      <th>x3rd.week</th>\n",
       "      <th>...</th>\n",
       "      <th>x67th.week</th>\n",
       "      <th>x68th.week</th>\n",
       "      <th>x69th.week</th>\n",
       "      <th>x70th.week</th>\n",
       "      <th>x71st.week</th>\n",
       "      <th>x72nd.week</th>\n",
       "      <th>x73rd.week</th>\n",
       "      <th>x74th.week</th>\n",
       "      <th>x75th.week</th>\n",
       "      <th>x76th.week</th>\n",
       "    </tr>\n",
       "  </thead>\n",
       "  <tbody>\n",
       "    <tr>\n",
       "      <td>0</td>\n",
       "      <td>2000</td>\n",
       "      <td>Destiny's Child</td>\n",
       "      <td>Independent Women Part I</td>\n",
       "      <td>3:38</td>\n",
       "      <td>Rock</td>\n",
       "      <td>2000-09-23</td>\n",
       "      <td>2000-11-18</td>\n",
       "      <td>78</td>\n",
       "      <td>63.0</td>\n",
       "      <td>49.0</td>\n",
       "      <td>...</td>\n",
       "      <td>NaN</td>\n",
       "      <td>NaN</td>\n",
       "      <td>NaN</td>\n",
       "      <td>NaN</td>\n",
       "      <td>NaN</td>\n",
       "      <td>NaN</td>\n",
       "      <td>NaN</td>\n",
       "      <td>NaN</td>\n",
       "      <td>NaN</td>\n",
       "      <td>NaN</td>\n",
       "    </tr>\n",
       "  </tbody>\n",
       "</table>\n",
       "<p>1 rows × 83 columns</p>\n",
       "</div>"
      ],
      "text/plain": [
       "   year  artist.inverted                     track  time genre date.entered  \\\n",
       "0  2000  Destiny's Child  Independent Women Part I  3:38  Rock   2000-09-23   \n",
       "\n",
       "  date.peaked  x1st.week  x2nd.week  x3rd.week  ...  x67th.week  x68th.week  \\\n",
       "0  2000-11-18         78       63.0       49.0  ...         NaN         NaN   \n",
       "\n",
       "   x69th.week  x70th.week  x71st.week  x72nd.week  x73rd.week  x74th.week  \\\n",
       "0         NaN         NaN         NaN         NaN         NaN         NaN   \n",
       "\n",
       "   x75th.week  x76th.week  \n",
       "0         NaN         NaN  \n",
       "\n",
       "[1 rows x 83 columns]"
      ]
     },
     "execution_count": 180,
     "metadata": {},
     "output_type": "execute_result"
    }
   ],
   "source": [
    "df.head(1)"
   ]
  },
  {
   "cell_type": "code",
   "execution_count": 181,
   "metadata": {},
   "outputs": [
    {
     "data": {
      "text/plain": [
       "year                 int64\n",
       "artist.inverted     object\n",
       "track               object\n",
       "time                object\n",
       "genre               object\n",
       "date.entered        object\n",
       "date.peaked         object\n",
       "x1st.week            int64\n",
       "x2nd.week          float64\n",
       "dtype: object"
      ]
     },
     "execution_count": 181,
     "metadata": {},
     "output_type": "execute_result"
    }
   ],
   "source": [
    "# Check Data Types\n",
    "df.dtypes.head(9)"
   ]
  },
  {
   "cell_type": "code",
   "execution_count": 182,
   "metadata": {},
   "outputs": [
    {
     "name": "stdout",
     "output_type": "stream",
     "text": [
      "year                0\n",
      "artist.inverted     0\n",
      "track               0\n",
      "time                0\n",
      "genre               0\n",
      "date.entered        0\n",
      "date.peaked         0\n",
      "x1st.week           0\n",
      "x2nd.week           5\n",
      "x3rd.week          10\n",
      "x4th.week          17\n",
      "x5th.week          25\n",
      "x6th.week          37\n",
      "x7th.week          48\n",
      "x8th.week          57\n",
      "dtype: int64\n"
     ]
    }
   ],
   "source": [
    "# Check null values \n",
    "print((df.isnull().sum().head(15)))"
   ]
  },
  {
   "cell_type": "code",
   "execution_count": null,
   "metadata": {},
   "outputs": [],
   "source": []
  },
  {
   "cell_type": "code",
   "execution_count": 183,
   "metadata": {},
   "outputs": [],
   "source": [
    "# PART 1: DATA CLEAN UP AND FORMATTING \n",
    "# 1. Remane columns\n",
    "# 2. Create new column - For time to peak \n",
    "# 3. Create new column - Calculate mean position \n",
    "# 4. Create new column - Calculate total weeks in chart\n",
    "# 5. Create new column - Calculate highest postion\n",
    "# 6. Create new column - For three ranges of highest position #1, #2-10, #11-100\n",
    "# 7. Create new columns - Calculates weeks it stayed in the range #1, #1-10\n",
    "# 8. Create a new column - convert 'time' column into seconds"
   ]
  },
  {
   "cell_type": "code",
   "execution_count": 184,
   "metadata": {},
   "outputs": [
    {
     "data": {
      "text/html": [
       "<div>\n",
       "<style scoped>\n",
       "    .dataframe tbody tr th:only-of-type {\n",
       "        vertical-align: middle;\n",
       "    }\n",
       "\n",
       "    .dataframe tbody tr th {\n",
       "        vertical-align: top;\n",
       "    }\n",
       "\n",
       "    .dataframe thead th {\n",
       "        text-align: right;\n",
       "    }\n",
       "</style>\n",
       "<table border=\"1\" class=\"dataframe\">\n",
       "  <thead>\n",
       "    <tr style=\"text-align: right;\">\n",
       "      <th></th>\n",
       "      <th>year</th>\n",
       "      <th>artist</th>\n",
       "      <th>track</th>\n",
       "      <th>time</th>\n",
       "      <th>genre</th>\n",
       "      <th>entered</th>\n",
       "      <th>peaked</th>\n",
       "      <th>x1st.week</th>\n",
       "      <th>x2nd.week</th>\n",
       "      <th>x3rd.week</th>\n",
       "      <th>...</th>\n",
       "      <th>x67th.week</th>\n",
       "      <th>x68th.week</th>\n",
       "      <th>x69th.week</th>\n",
       "      <th>x70th.week</th>\n",
       "      <th>x71st.week</th>\n",
       "      <th>x72nd.week</th>\n",
       "      <th>x73rd.week</th>\n",
       "      <th>x74th.week</th>\n",
       "      <th>x75th.week</th>\n",
       "      <th>x76th.week</th>\n",
       "    </tr>\n",
       "  </thead>\n",
       "  <tbody>\n",
       "    <tr>\n",
       "      <td>0</td>\n",
       "      <td>2000</td>\n",
       "      <td>Destiny's Child</td>\n",
       "      <td>Independent Women Part I</td>\n",
       "      <td>3:38</td>\n",
       "      <td>Rock</td>\n",
       "      <td>2000-09-23</td>\n",
       "      <td>2000-11-18</td>\n",
       "      <td>78</td>\n",
       "      <td>63.0</td>\n",
       "      <td>49.0</td>\n",
       "      <td>...</td>\n",
       "      <td>NaN</td>\n",
       "      <td>NaN</td>\n",
       "      <td>NaN</td>\n",
       "      <td>NaN</td>\n",
       "      <td>NaN</td>\n",
       "      <td>NaN</td>\n",
       "      <td>NaN</td>\n",
       "      <td>NaN</td>\n",
       "      <td>NaN</td>\n",
       "      <td>NaN</td>\n",
       "    </tr>\n",
       "  </tbody>\n",
       "</table>\n",
       "<p>1 rows × 83 columns</p>\n",
       "</div>"
      ],
      "text/plain": [
       "   year           artist                     track  time genre     entered  \\\n",
       "0  2000  Destiny's Child  Independent Women Part I  3:38  Rock  2000-09-23   \n",
       "\n",
       "       peaked  x1st.week  x2nd.week  x3rd.week  ...  x67th.week  x68th.week  \\\n",
       "0  2000-11-18         78       63.0       49.0  ...         NaN         NaN   \n",
       "\n",
       "   x69th.week  x70th.week  x71st.week  x72nd.week  x73rd.week  x74th.week  \\\n",
       "0         NaN         NaN         NaN         NaN         NaN         NaN   \n",
       "\n",
       "   x75th.week  x76th.week  \n",
       "0         NaN         NaN  \n",
       "\n",
       "[1 rows x 83 columns]"
      ]
     },
     "execution_count": 184,
     "metadata": {},
     "output_type": "execute_result"
    }
   ],
   "source": [
    "# 1. Rename columns\n",
    "df.rename(columns={'artist.inverted':'artist','date.entered':'entered', 'date.peaked':'peaked'}, inplace=True)\n",
    "df.head(1)"
   ]
  },
  {
   "cell_type": "code",
   "execution_count": 185,
   "metadata": {},
   "outputs": [
    {
     "data": {
      "text/plain": [
       "0   56 days\n",
       "Name: entry_to_peak, dtype: timedelta64[ns]"
      ]
     },
     "execution_count": 185,
     "metadata": {},
     "output_type": "execute_result"
    }
   ],
   "source": [
    "# 2. Create new column - Calculate time to peak  \n",
    "import datetime\n",
    "from datetime import timedelta\n",
    "df['entry_to_peak'] = pd.to_datetime(df['peaked']) - pd.to_datetime(df['entered'])\n",
    "df['entry_to_peak'].head(1)"
   ]
  },
  {
   "cell_type": "code",
   "execution_count": 186,
   "metadata": {},
   "outputs": [],
   "source": [
    "# 3. Create new column - Calculate mean position \n",
    "a = df.iloc[:,7:83].mean(axis=1)\n",
    "df['mean_position'] = a.round(0).astype(int)"
   ]
  },
  {
   "cell_type": "code",
   "execution_count": 187,
   "metadata": {},
   "outputs": [],
   "source": [
    "# 4. Create new column - Calculate total weeks in chart\n",
    "df['weeks_in_charts'] = 76 - df.iloc[:,7:83].isnull().sum(axis=1)"
   ]
  },
  {
   "cell_type": "code",
   "execution_count": 188,
   "metadata": {},
   "outputs": [],
   "source": [
    "# 5. Create new column - Calculate highest postion\n",
    "df['highest_position'] = df.iloc[:,7:83].min(axis=1).astype(int)"
   ]
  },
  {
   "cell_type": "code",
   "execution_count": 189,
   "metadata": {},
   "outputs": [],
   "source": [
    "# 6. Create new column - For three ranges of highest position #1, #2-10, #11-100\n",
    "df['range_of_high'] = '#11-100'    # Initially set all values to #11-100\n",
    "df.loc[df.highest_position.between(1, 1), 'range_of_high'] = '#1'     \n",
    "df.loc[df.highest_position.between(2, 10), 'range_of_high'] = '#2-10'# "
   ]
  },
  {
   "cell_type": "code",
   "execution_count": 190,
   "metadata": {},
   "outputs": [],
   "source": [
    "# 7. Create new column - For the number of weeks song stays in range\n",
    "df['weeks_at_#1'] = df.iloc[:,7:83].isin([*range(1,2,1)]).sum(1)\n",
    "df['weeks_in_#top10'] = df.iloc[:,7:83].isin([*range(1,11,1)]).sum(1)"
   ]
  },
  {
   "cell_type": "code",
   "execution_count": 191,
   "metadata": {},
   "outputs": [],
   "source": [
    "# 8. Create a new column - convert 'time' column into seconds \n",
    "from datetime import timedelta\n",
    "\n",
    "def seconder(x):\n",
    "    mins, secs = map(float, x.split(':'))\n",
    "    td = timedelta(minutes=mins, seconds=secs)\n",
    "    return td.total_seconds()\n",
    "\n",
    "df['seconds'] = df['time'].apply(seconder).astype(int)"
   ]
  },
  {
   "cell_type": "code",
   "execution_count": 192,
   "metadata": {},
   "outputs": [],
   "source": [
    "# 9. Create a new column to indicate rap or not rap\n",
    "def rap_or_other (z):\n",
    "    if z == 'Rap':\n",
    "        return 'Rap'\n",
    "    else:\n",
    "        return 'Other'\n",
    "df['rap_or_other'] = df['genre'].apply(rap_or_other)"
   ]
  },
  {
   "cell_type": "code",
   "execution_count": 193,
   "metadata": {},
   "outputs": [],
   "source": [
    "# 10 Create a comlumn for timestamp for Peaked\n",
    "df['peaked_timestamp'] = pd.to_datetime(df['peaked'])"
   ]
  },
  {
   "cell_type": "code",
   "execution_count": 194,
   "metadata": {},
   "outputs": [],
   "source": [
    "# 11. Create a new column for seconds of time stamp of peaked\n",
    "df['peaked_seconds'] = df['peaked_timestamp'].astype('int64')//1e9"
   ]
  },
  {
   "cell_type": "code",
   "execution_count": 195,
   "metadata": {},
   "outputs": [],
   "source": [
    "# 12. use this to create two new data frames one for rap and one for not rap\n",
    "df_rap = df.loc[df['rap_or_other'] == 'Rap']\n",
    "df_not_rap = df.loc[df['rap_or_other'] == 'Other']\n",
    "df_jay_z = df.loc[df['artist'] == 'Jay-Z']"
   ]
  },
  {
   "cell_type": "code",
   "execution_count": 196,
   "metadata": {},
   "outputs": [
    {
     "data": {
      "text/html": [
       "<div>\n",
       "<style scoped>\n",
       "    .dataframe tbody tr th:only-of-type {\n",
       "        vertical-align: middle;\n",
       "    }\n",
       "\n",
       "    .dataframe tbody tr th {\n",
       "        vertical-align: top;\n",
       "    }\n",
       "\n",
       "    .dataframe thead th {\n",
       "        text-align: right;\n",
       "    }\n",
       "</style>\n",
       "<table border=\"1\" class=\"dataframe\">\n",
       "  <thead>\n",
       "    <tr style=\"text-align: right;\">\n",
       "      <th></th>\n",
       "      <th>year</th>\n",
       "      <th>artist</th>\n",
       "      <th>track</th>\n",
       "      <th>time</th>\n",
       "      <th>genre</th>\n",
       "      <th>entered</th>\n",
       "      <th>peaked</th>\n",
       "      <th>x1st.week</th>\n",
       "      <th>x2nd.week</th>\n",
       "      <th>x3rd.week</th>\n",
       "      <th>...</th>\n",
       "      <th>mean_position</th>\n",
       "      <th>weeks_in_charts</th>\n",
       "      <th>highest_position</th>\n",
       "      <th>range_of_high</th>\n",
       "      <th>weeks_at_#1</th>\n",
       "      <th>weeks_in_#top10</th>\n",
       "      <th>seconds</th>\n",
       "      <th>rap_or_other</th>\n",
       "      <th>peaked_timestamp</th>\n",
       "      <th>peaked_seconds</th>\n",
       "    </tr>\n",
       "  </thead>\n",
       "  <tbody>\n",
       "    <tr>\n",
       "      <td>0</td>\n",
       "      <td>2000</td>\n",
       "      <td>Destiny's Child</td>\n",
       "      <td>Independent Women Part I</td>\n",
       "      <td>3:38</td>\n",
       "      <td>Rock</td>\n",
       "      <td>2000-09-23</td>\n",
       "      <td>2000-11-18</td>\n",
       "      <td>78</td>\n",
       "      <td>63.0</td>\n",
       "      <td>49.0</td>\n",
       "      <td>...</td>\n",
       "      <td>15</td>\n",
       "      <td>28</td>\n",
       "      <td>1</td>\n",
       "      <td>#1</td>\n",
       "      <td>11</td>\n",
       "      <td>17</td>\n",
       "      <td>218</td>\n",
       "      <td>Other</td>\n",
       "      <td>2000-11-18</td>\n",
       "      <td>974505600.0</td>\n",
       "    </tr>\n",
       "  </tbody>\n",
       "</table>\n",
       "<p>1 rows × 94 columns</p>\n",
       "</div>"
      ],
      "text/plain": [
       "   year           artist                     track  time genre     entered  \\\n",
       "0  2000  Destiny's Child  Independent Women Part I  3:38  Rock  2000-09-23   \n",
       "\n",
       "       peaked  x1st.week  x2nd.week  x3rd.week  ...  mean_position  \\\n",
       "0  2000-11-18         78       63.0       49.0  ...             15   \n",
       "\n",
       "   weeks_in_charts  highest_position  range_of_high  weeks_at_#1  \\\n",
       "0               28                 1             #1           11   \n",
       "\n",
       "   weeks_in_#top10  seconds  rap_or_other  peaked_timestamp  peaked_seconds  \n",
       "0               17      218         Other        2000-11-18     974505600.0  \n",
       "\n",
       "[1 rows x 94 columns]"
      ]
     },
     "execution_count": 196,
     "metadata": {},
     "output_type": "execute_result"
    }
   ],
   "source": [
    "df.head(1)"
   ]
  },
  {
   "cell_type": "code",
   "execution_count": null,
   "metadata": {},
   "outputs": [],
   "source": []
  },
  {
   "cell_type": "code",
   "execution_count": 197,
   "metadata": {},
   "outputs": [],
   "source": [
    "# GENERAL DATA OVERVIEW"
   ]
  },
  {
   "cell_type": "code",
   "execution_count": 198,
   "metadata": {},
   "outputs": [
    {
     "data": {
      "text/plain": [
       "array([2000])"
      ]
     },
     "execution_count": 198,
     "metadata": {},
     "output_type": "execute_result"
    }
   ],
   "source": [
    "# number of unique tracks\n",
    "df['year'].unique()"
   ]
  },
  {
   "cell_type": "code",
   "execution_count": 199,
   "metadata": {},
   "outputs": [
    {
     "data": {
      "text/plain": [
       "count    317.000000\n",
       "mean     242.425868\n",
       "std       42.401618\n",
       "min      156.000000\n",
       "25%      219.000000\n",
       "50%      236.000000\n",
       "75%      257.000000\n",
       "max      470.000000\n",
       "Name: seconds, dtype: float64"
      ]
     },
     "execution_count": 199,
     "metadata": {},
     "output_type": "execute_result"
    }
   ],
   "source": [
    "# length of tracks\n",
    "df['seconds'].describe()"
   ]
  },
  {
   "cell_type": "code",
   "execution_count": 200,
   "metadata": {},
   "outputs": [
    {
     "data": {
      "text/plain": [
       "#11-100    264\n",
       "#2-10       36\n",
       "#1          17\n",
       "Name: range_of_high, dtype: int64"
      ]
     },
     "execution_count": 200,
     "metadata": {},
     "output_type": "execute_result"
    }
   ],
   "source": [
    "df['range_of_high'].value_counts()"
   ]
  },
  {
   "cell_type": "code",
   "execution_count": 201,
   "metadata": {},
   "outputs": [
    {
     "data": {
      "text/plain": [
       "#11-100    53\n",
       "#2-10       5\n",
       "Name: range_of_high, dtype: int64"
      ]
     },
     "execution_count": 201,
     "metadata": {},
     "output_type": "execute_result"
    }
   ],
   "source": [
    "df_rap['range_of_high'].value_counts()"
   ]
  },
  {
   "cell_type": "code",
   "execution_count": 202,
   "metadata": {},
   "outputs": [
    {
     "data": {
      "text/plain": [
       "range_of_high  genre      \n",
       "#1             Rock           15\n",
       "               Country         1\n",
       "               Latin           1\n",
       "#11-100        Rock           95\n",
       "               Country        73\n",
       "               Rap            53\n",
       "               R&B            23\n",
       "               Pop             8\n",
       "               Latin           7\n",
       "               Electronica     3\n",
       "               Gospel          1\n",
       "               Reggae          1\n",
       "#2-10          Rock           27\n",
       "               Rap             5\n",
       "               Electronica     1\n",
       "               Jazz            1\n",
       "               Latin           1\n",
       "               Pop             1\n",
       "Name: genre, dtype: int64"
      ]
     },
     "execution_count": 202,
     "metadata": {},
     "output_type": "execute_result"
    }
   ],
   "source": [
    "df.groupby(['range_of_high'])['genre'].value_counts()"
   ]
  },
  {
   "cell_type": "code",
   "execution_count": 203,
   "metadata": {},
   "outputs": [
    {
     "data": {
      "image/png": "[encoded data removed]",
      "text/plain": [
       "<Figure size 432x288 with 1 Axes>"
      ]
     },
     "metadata": {
      "image/png": {
       "height": 244,
       "width": 413
      },
      "needs_background": "light"
     },
     "output_type": "display_data"
    }
   ],
   "source": [
    "# Historgram by genre\n",
    "df['genre'].hist();"
   ]
  },
  {
   "cell_type": "code",
   "execution_count": 204,
   "metadata": {},
   "outputs": [
    {
     "data": {
      "text/plain": [
       "Rock           0.432177\n",
       "Country        0.233438\n",
       "Rap            0.182965\n",
       "R&B            0.072555\n",
       "Latin          0.028391\n",
       "Pop            0.028391\n",
       "Electronica    0.012618\n",
       "Reggae         0.003155\n",
       "Jazz           0.003155\n",
       "Gospel         0.003155\n",
       "Name: genre, dtype: float64"
      ]
     },
     "execution_count": 204,
     "metadata": {},
     "output_type": "execute_result"
    }
   ],
   "source": [
    "# genre as a percentage of total hits\n",
    "df['genre'].value_counts() / df['genre'].value_counts().sum()"
   ]
  },
  {
   "cell_type": "code",
   "execution_count": 205,
   "metadata": {},
   "outputs": [
    {
     "data": {
      "text/plain": [
       "Rock       0.882353\n",
       "Country    0.058824\n",
       "Latin      0.058824\n",
       "Name: genre, dtype: float64"
      ]
     },
     "execution_count": 205,
     "metadata": {},
     "output_type": "execute_result"
    }
   ],
   "source": [
    "# genre as a percentage of #1s\n",
    "No_1_df = df[df['range_of_high'] =='#1']\n",
    "No_1_df.genre.value_counts() / No_1_df.genre.value_counts().sum()"
   ]
  },
  {
   "cell_type": "code",
   "execution_count": 206,
   "metadata": {},
   "outputs": [
    {
     "data": {
      "text/plain": [
       "Rock           0.750000\n",
       "Rap            0.138889\n",
       "Latin          0.027778\n",
       "Electronica    0.027778\n",
       "Jazz           0.027778\n",
       "Pop            0.027778\n",
       "Name: genre, dtype: float64"
      ]
     },
     "execution_count": 206,
     "metadata": {},
     "output_type": "execute_result"
    }
   ],
   "source": [
    "# genre as a percentage of #2 -#10s\n",
    "No_2_to_10_df = df[df['range_of_high'] =='#2-10']\n",
    "No_2_to_10_df.genre.value_counts() / No_2_to_10_df.genre.value_counts().sum()"
   ]
  },
  {
   "cell_type": "code",
   "execution_count": 207,
   "metadata": {},
   "outputs": [
    {
     "data": {
      "text/plain": [
       "artist               genre  \n",
       "Aaliyah              Rock       1\n",
       "Aguilera, Christina  Rock       2\n",
       "Carey, Mariah        Rock       1\n",
       "Creed                Rock       1\n",
       "Destiny's Child      Rock       2\n",
       "Iglesias, Enrique    Latin      1\n",
       "Janet                Rock       1\n",
       "Lonestar             Country    1\n",
       "Madonna              Rock       1\n",
       "N'Sync               Rock       1\n",
       "Santana              Rock       1\n",
       "Savage Garden        Rock       1\n",
       "Sisqo                Rock       1\n",
       "Vertical Horizon     Rock       1\n",
       "matchbox twenty      Rock       1\n",
       "Name: genre, dtype: int64"
      ]
     },
     "execution_count": 207,
     "metadata": {},
     "output_type": "execute_result"
    }
   ],
   "source": [
    "#artists by genre for #1 tracks only \n",
    "No_1_df.groupby(['artist'])['genre'].value_counts()"
   ]
  },
  {
   "cell_type": "code",
   "execution_count": 208,
   "metadata": {},
   "outputs": [
    {
     "data": {
      "text/plain": [
       "Jay-Z                5\n",
       "Houston, Whitney     4\n",
       "Dixie Chicks, The    4\n",
       "N'Sync               3\n",
       "Thomas, Carl         3\n",
       "                    ..\n",
       "Kid Rock             1\n",
       "Estefan, Gloria      1\n",
       "LL Cool J            1\n",
       "Trick Daddy          1\n",
       "Worley, Darryl       1\n",
       "Name: artist, Length: 228, dtype: int64"
      ]
     },
     "execution_count": 208,
     "metadata": {},
     "output_type": "execute_result"
    }
   ],
   "source": [
    "#artists by genre for all tracks\n",
    "df['artist'].value_counts()"
   ]
  },
  {
   "cell_type": "code",
   "execution_count": 209,
   "metadata": {},
   "outputs": [
    {
     "data": {
      "text/html": [
       "<div>\n",
       "<style scoped>\n",
       "    .dataframe tbody tr th:only-of-type {\n",
       "        vertical-align: middle;\n",
       "    }\n",
       "\n",
       "    .dataframe tbody tr th {\n",
       "        vertical-align: top;\n",
       "    }\n",
       "\n",
       "    .dataframe thead th {\n",
       "        text-align: right;\n",
       "    }\n",
       "</style>\n",
       "<table border=\"1\" class=\"dataframe\">\n",
       "  <thead>\n",
       "    <tr style=\"text-align: right;\">\n",
       "      <th></th>\n",
       "      <th>year</th>\n",
       "      <th>artist</th>\n",
       "      <th>track</th>\n",
       "      <th>time</th>\n",
       "      <th>genre</th>\n",
       "      <th>entered</th>\n",
       "      <th>peaked</th>\n",
       "      <th>x1st.week</th>\n",
       "      <th>x2nd.week</th>\n",
       "      <th>x3rd.week</th>\n",
       "      <th>...</th>\n",
       "      <th>mean_position</th>\n",
       "      <th>weeks_in_charts</th>\n",
       "      <th>highest_position</th>\n",
       "      <th>range_of_high</th>\n",
       "      <th>weeks_at_#1</th>\n",
       "      <th>weeks_in_#top10</th>\n",
       "      <th>seconds</th>\n",
       "      <th>rap_or_other</th>\n",
       "      <th>peaked_timestamp</th>\n",
       "      <th>peaked_seconds</th>\n",
       "    </tr>\n",
       "  </thead>\n",
       "  <tbody>\n",
       "    <tr>\n",
       "      <td>57</td>\n",
       "      <td>2000</td>\n",
       "      <td>Jay-Z</td>\n",
       "      <td>I Just Wanna Love U (Give It 2 Me)</td>\n",
       "      <td>3:50</td>\n",
       "      <td>Rap</td>\n",
       "      <td>2000-10-28</td>\n",
       "      <td>2000-12-30</td>\n",
       "      <td>58</td>\n",
       "      <td>45.0</td>\n",
       "      <td>35.0</td>\n",
       "      <td>...</td>\n",
       "      <td>24</td>\n",
       "      <td>21</td>\n",
       "      <td>11</td>\n",
       "      <td>#11-100</td>\n",
       "      <td>0</td>\n",
       "      <td>0</td>\n",
       "      <td>230</td>\n",
       "      <td>Rap</td>\n",
       "      <td>2000-12-30</td>\n",
       "      <td>978134400.0</td>\n",
       "    </tr>\n",
       "    <tr>\n",
       "      <td>71</td>\n",
       "      <td>2000</td>\n",
       "      <td>Jay-Z</td>\n",
       "      <td>Big Pimpin'</td>\n",
       "      <td>3:55</td>\n",
       "      <td>Rap</td>\n",
       "      <td>2000-04-22</td>\n",
       "      <td>2000-07-08</td>\n",
       "      <td>69</td>\n",
       "      <td>52.0</td>\n",
       "      <td>39.0</td>\n",
       "      <td>...</td>\n",
       "      <td>31</td>\n",
       "      <td>20</td>\n",
       "      <td>18</td>\n",
       "      <td>#11-100</td>\n",
       "      <td>0</td>\n",
       "      <td>0</td>\n",
       "      <td>235</td>\n",
       "      <td>Rap</td>\n",
       "      <td>2000-07-08</td>\n",
       "      <td>963014400.0</td>\n",
       "    </tr>\n",
       "    <tr>\n",
       "      <td>192</td>\n",
       "      <td>2000</td>\n",
       "      <td>Jay-Z</td>\n",
       "      <td>Anything</td>\n",
       "      <td>3:41</td>\n",
       "      <td>Rap</td>\n",
       "      <td>2000-02-26</td>\n",
       "      <td>2000-03-11</td>\n",
       "      <td>72</td>\n",
       "      <td>58.0</td>\n",
       "      <td>55.0</td>\n",
       "      <td>...</td>\n",
       "      <td>69</td>\n",
       "      <td>8</td>\n",
       "      <td>55</td>\n",
       "      <td>#11-100</td>\n",
       "      <td>0</td>\n",
       "      <td>0</td>\n",
       "      <td>221</td>\n",
       "      <td>Rap</td>\n",
       "      <td>2000-03-11</td>\n",
       "      <td>952732800.0</td>\n",
       "    </tr>\n",
       "    <tr>\n",
       "      <td>226</td>\n",
       "      <td>2000</td>\n",
       "      <td>Jay-Z</td>\n",
       "      <td>Do It Again (Put Ya Hands Up)</td>\n",
       "      <td>3:47</td>\n",
       "      <td>Rap</td>\n",
       "      <td>2000-01-15</td>\n",
       "      <td>2000-01-29</td>\n",
       "      <td>95</td>\n",
       "      <td>68.0</td>\n",
       "      <td>65.0</td>\n",
       "      <td>...</td>\n",
       "      <td>82</td>\n",
       "      <td>9</td>\n",
       "      <td>65</td>\n",
       "      <td>#11-100</td>\n",
       "      <td>0</td>\n",
       "      <td>0</td>\n",
       "      <td>227</td>\n",
       "      <td>Rap</td>\n",
       "      <td>2000-01-29</td>\n",
       "      <td>949104000.0</td>\n",
       "    </tr>\n",
       "    <tr>\n",
       "      <td>264</td>\n",
       "      <td>2000</td>\n",
       "      <td>Jay-Z</td>\n",
       "      <td>Hey Papi</td>\n",
       "      <td>3:40</td>\n",
       "      <td>Rap</td>\n",
       "      <td>2000-08-12</td>\n",
       "      <td>2000-10-07</td>\n",
       "      <td>98</td>\n",
       "      <td>100.0</td>\n",
       "      <td>98.0</td>\n",
       "      <td>...</td>\n",
       "      <td>88</td>\n",
       "      <td>15</td>\n",
       "      <td>76</td>\n",
       "      <td>#11-100</td>\n",
       "      <td>0</td>\n",
       "      <td>0</td>\n",
       "      <td>220</td>\n",
       "      <td>Rap</td>\n",
       "      <td>2000-10-07</td>\n",
       "      <td>970876800.0</td>\n",
       "    </tr>\n",
       "  </tbody>\n",
       "</table>\n",
       "<p>5 rows × 94 columns</p>\n",
       "</div>"
      ],
      "text/plain": [
       "     year artist                               track  time genre     entered  \\\n",
       "57   2000  Jay-Z  I Just Wanna Love U (Give It 2 Me)  3:50   Rap  2000-10-28   \n",
       "71   2000  Jay-Z                         Big Pimpin'  3:55   Rap  2000-04-22   \n",
       "192  2000  Jay-Z                            Anything  3:41   Rap  2000-02-26   \n",
       "226  2000  Jay-Z       Do It Again (Put Ya Hands Up)  3:47   Rap  2000-01-15   \n",
       "264  2000  Jay-Z                            Hey Papi  3:40   Rap  2000-08-12   \n",
       "\n",
       "         peaked  x1st.week  x2nd.week  x3rd.week  ...  mean_position  \\\n",
       "57   2000-12-30         58       45.0       35.0  ...             24   \n",
       "71   2000-07-08         69       52.0       39.0  ...             31   \n",
       "192  2000-03-11         72       58.0       55.0  ...             69   \n",
       "226  2000-01-29         95       68.0       65.0  ...             82   \n",
       "264  2000-10-07         98      100.0       98.0  ...             88   \n",
       "\n",
       "     weeks_in_charts  highest_position  range_of_high  weeks_at_#1  \\\n",
       "57                21                11        #11-100            0   \n",
       "71                20                18        #11-100            0   \n",
       "192                8                55        #11-100            0   \n",
       "226                9                65        #11-100            0   \n",
       "264               15                76        #11-100            0   \n",
       "\n",
       "     weeks_in_#top10  seconds  rap_or_other  peaked_timestamp  peaked_seconds  \n",
       "57                 0      230           Rap        2000-12-30     978134400.0  \n",
       "71                 0      235           Rap        2000-07-08     963014400.0  \n",
       "192                0      221           Rap        2000-03-11     952732800.0  \n",
       "226                0      227           Rap        2000-01-29     949104000.0  \n",
       "264                0      220           Rap        2000-10-07     970876800.0  \n",
       "\n",
       "[5 rows x 94 columns]"
      ]
     },
     "execution_count": 209,
     "metadata": {},
     "output_type": "execute_result"
    }
   ],
   "source": [
    "df.loc[df['artist'] == 'Jay-Z']"
   ]
  },
  {
   "cell_type": "code",
   "execution_count": 211,
   "metadata": {},
   "outputs": [
    {
     "data": {
      "text/plain": [
       "True     0.829653\n",
       "False    0.170347\n",
       "Name: entered, dtype: float64"
      ]
     },
     "execution_count": 211,
     "metadata": {},
     "output_type": "execute_result"
    }
   ],
   "source": [
    "# Percentage of tracks that entered the charts in 1999\n",
    "def greater_than (y):\n",
    "    if y > pd.to_datetime('2000-01-01'):\n",
    "        return True\n",
    "    else:\n",
    "        return False\n",
    "pd.to_datetime(df['entered']).apply(greater_than).value_counts() / pd.to_datetime(df['entered']).apply(greater_than).value_counts().sum()"
   ]
  },
  {
   "cell_type": "code",
   "execution_count": 212,
   "metadata": {},
   "outputs": [
    {
     "data": {
      "text/html": [
       "<div>\n",
       "<style scoped>\n",
       "    .dataframe tbody tr th:only-of-type {\n",
       "        vertical-align: middle;\n",
       "    }\n",
       "\n",
       "    .dataframe tbody tr th {\n",
       "        vertical-align: top;\n",
       "    }\n",
       "\n",
       "    .dataframe thead th {\n",
       "        text-align: right;\n",
       "    }\n",
       "</style>\n",
       "<table border=\"1\" class=\"dataframe\">\n",
       "  <thead>\n",
       "    <tr style=\"text-align: right;\">\n",
       "      <th></th>\n",
       "      <th>count</th>\n",
       "      <th>mean</th>\n",
       "      <th>std</th>\n",
       "      <th>min</th>\n",
       "      <th>25%</th>\n",
       "      <th>50%</th>\n",
       "      <th>75%</th>\n",
       "      <th>max</th>\n",
       "    </tr>\n",
       "    <tr>\n",
       "      <th>range_of_high</th>\n",
       "      <th></th>\n",
       "      <th></th>\n",
       "      <th></th>\n",
       "      <th></th>\n",
       "      <th></th>\n",
       "      <th></th>\n",
       "      <th></th>\n",
       "      <th></th>\n",
       "    </tr>\n",
       "  </thead>\n",
       "  <tbody>\n",
       "    <tr>\n",
       "      <td>#1</td>\n",
       "      <td>17.0</td>\n",
       "      <td>30.411765</td>\n",
       "      <td>9.937673</td>\n",
       "      <td>20.0</td>\n",
       "      <td>24.00</td>\n",
       "      <td>26.0</td>\n",
       "      <td>33.0</td>\n",
       "      <td>55.0</td>\n",
       "    </tr>\n",
       "    <tr>\n",
       "      <td>#11-100</td>\n",
       "      <td>264.0</td>\n",
       "      <td>14.303030</td>\n",
       "      <td>6.561716</td>\n",
       "      <td>1.0</td>\n",
       "      <td>9.00</td>\n",
       "      <td>15.0</td>\n",
       "      <td>20.0</td>\n",
       "      <td>31.0</td>\n",
       "    </tr>\n",
       "    <tr>\n",
       "      <td>#2-10</td>\n",
       "      <td>36.0</td>\n",
       "      <td>28.166667</td>\n",
       "      <td>10.316422</td>\n",
       "      <td>5.0</td>\n",
       "      <td>21.75</td>\n",
       "      <td>27.0</td>\n",
       "      <td>32.0</td>\n",
       "      <td>57.0</td>\n",
       "    </tr>\n",
       "  </tbody>\n",
       "</table>\n",
       "</div>"
      ],
      "text/plain": [
       "               count       mean        std   min    25%   50%   75%   max\n",
       "range_of_high                                                            \n",
       "#1              17.0  30.411765   9.937673  20.0  24.00  26.0  33.0  55.0\n",
       "#11-100        264.0  14.303030   6.561716   1.0   9.00  15.0  20.0  31.0\n",
       "#2-10           36.0  28.166667  10.316422   5.0  21.75  27.0  32.0  57.0"
      ]
     },
     "execution_count": 212,
     "metadata": {},
     "output_type": "execute_result"
    }
   ],
   "source": [
    "# weeks in charts\n",
    "df.groupby(['range_of_high'])['weeks_in_charts'].describe()"
   ]
  },
  {
   "cell_type": "code",
   "execution_count": 213,
   "metadata": {},
   "outputs": [
    {
     "data": {
      "text/plain": [
       "range_of_high\n",
       "#1         13.529412\n",
       "#11-100     6.257576\n",
       "#2-10      13.444444\n",
       "Name: entry_to_peak_weeks, dtype: float64"
      ]
     },
     "execution_count": 213,
     "metadata": {},
     "output_type": "execute_result"
    }
   ],
   "source": [
    "#time to peak\n",
    "df['entry_to_peak_weeks'] = (df['entry_to_peak'].dt.total_seconds()/604800)\n",
    "df.groupby(['range_of_high'])['entry_to_peak_weeks'].mean()"
   ]
  },
  {
   "cell_type": "code",
   "execution_count": 214,
   "metadata": {},
   "outputs": [
    {
     "data": {
      "text/html": [
       "<div>\n",
       "<style scoped>\n",
       "    .dataframe tbody tr th:only-of-type {\n",
       "        vertical-align: middle;\n",
       "    }\n",
       "\n",
       "    .dataframe tbody tr th {\n",
       "        vertical-align: top;\n",
       "    }\n",
       "\n",
       "    .dataframe thead th {\n",
       "        text-align: right;\n",
       "    }\n",
       "</style>\n",
       "<table border=\"1\" class=\"dataframe\">\n",
       "  <thead>\n",
       "    <tr style=\"text-align: right;\">\n",
       "      <th></th>\n",
       "      <th>year</th>\n",
       "      <th>artist</th>\n",
       "      <th>track</th>\n",
       "      <th>time</th>\n",
       "      <th>genre</th>\n",
       "      <th>entered</th>\n",
       "      <th>peaked</th>\n",
       "      <th>x1st.week</th>\n",
       "      <th>x2nd.week</th>\n",
       "      <th>x3rd.week</th>\n",
       "      <th>...</th>\n",
       "      <th>weeks_in_charts</th>\n",
       "      <th>highest_position</th>\n",
       "      <th>range_of_high</th>\n",
       "      <th>weeks_at_#1</th>\n",
       "      <th>weeks_in_#top10</th>\n",
       "      <th>seconds</th>\n",
       "      <th>rap_or_other</th>\n",
       "      <th>peaked_timestamp</th>\n",
       "      <th>peaked_seconds</th>\n",
       "      <th>entry_to_peak_weeks</th>\n",
       "    </tr>\n",
       "  </thead>\n",
       "  <tbody>\n",
       "    <tr>\n",
       "      <td>0</td>\n",
       "      <td>2000</td>\n",
       "      <td>Destiny's Child</td>\n",
       "      <td>Independent Women Part I</td>\n",
       "      <td>3:38</td>\n",
       "      <td>Rock</td>\n",
       "      <td>2000-09-23</td>\n",
       "      <td>2000-11-18</td>\n",
       "      <td>78</td>\n",
       "      <td>63.0</td>\n",
       "      <td>49.0</td>\n",
       "      <td>...</td>\n",
       "      <td>28</td>\n",
       "      <td>1</td>\n",
       "      <td>#1</td>\n",
       "      <td>11</td>\n",
       "      <td>17</td>\n",
       "      <td>218</td>\n",
       "      <td>Other</td>\n",
       "      <td>2000-11-18</td>\n",
       "      <td>974505600.0</td>\n",
       "      <td>8.0</td>\n",
       "    </tr>\n",
       "  </tbody>\n",
       "</table>\n",
       "<p>1 rows × 95 columns</p>\n",
       "</div>"
      ],
      "text/plain": [
       "   year           artist                     track  time genre     entered  \\\n",
       "0  2000  Destiny's Child  Independent Women Part I  3:38  Rock  2000-09-23   \n",
       "\n",
       "       peaked  x1st.week  x2nd.week  x3rd.week  ...  weeks_in_charts  \\\n",
       "0  2000-11-18         78       63.0       49.0  ...               28   \n",
       "\n",
       "   highest_position  range_of_high  weeks_at_#1  weeks_in_#top10  seconds  \\\n",
       "0                 1             #1           11               17      218   \n",
       "\n",
       "   rap_or_other  peaked_timestamp  peaked_seconds  entry_to_peak_weeks  \n",
       "0         Other        2000-11-18     974505600.0                  8.0  \n",
       "\n",
       "[1 rows x 95 columns]"
      ]
     },
     "execution_count": 214,
     "metadata": {},
     "output_type": "execute_result"
    }
   ],
   "source": [
    "df.head(1)"
   ]
  },
  {
   "cell_type": "code",
   "execution_count": null,
   "metadata": {},
   "outputs": [],
   "source": []
  },
  {
   "cell_type": "code",
   "execution_count": 215,
   "metadata": {},
   "outputs": [],
   "source": [
    "# CREATE A NEW COLUMN TO INDICATE IF THE GENRE IS RAP OR NOT "
   ]
  },
  {
   "cell_type": "code",
   "execution_count": 216,
   "metadata": {},
   "outputs": [],
   "source": [
    "# 1. Create a new column indicating rap or not rap\n",
    "def rap_or_other (z):\n",
    "    if z == 'Rap':\n",
    "        return 'Rap'\n",
    "    else:\n",
    "        return 'Other'\n",
    "df['rap_or_other'] = df['genre'].apply(rap_or_other)\n"
   ]
  },
  {
   "cell_type": "code",
   "execution_count": 217,
   "metadata": {},
   "outputs": [
    {
     "data": {
      "text/plain": [
       "0       True\n",
       "1       True\n",
       "2       True\n",
       "3       True\n",
       "4       True\n",
       "       ...  \n",
       "312     True\n",
       "313    False\n",
       "314     True\n",
       "315    False\n",
       "316     True\n",
       "Name: rap_or_other, Length: 317, dtype: bool"
      ]
     },
     "execution_count": 217,
     "metadata": {},
     "output_type": "execute_result"
    }
   ],
   "source": [
    "df['rap_or_other'] =='Other'"
   ]
  },
  {
   "cell_type": "code",
   "execution_count": 218,
   "metadata": {},
   "outputs": [],
   "source": [
    "# 2. use this to create two new data frames one for rap and one for not rap\n",
    "df_rap = df.loc[df['rap_or_other'] == 'Rap']\n",
    "df_not_rap = df.loc[df['rap_or_other'] == 'Other']"
   ]
  },
  {
   "cell_type": "code",
   "execution_count": 219,
   "metadata": {},
   "outputs": [
    {
     "data": {
      "text/plain": [
       "count     58.000000\n",
       "mean     243.396552\n",
       "std       29.780448\n",
       "min      158.000000\n",
       "25%      227.250000\n",
       "50%      240.000000\n",
       "75%      257.000000\n",
       "max      333.000000\n",
       "Name: seconds, dtype: float64"
      ]
     },
     "execution_count": 219,
     "metadata": {},
     "output_type": "execute_result"
    }
   ],
   "source": [
    "df_rap['seconds'].describe()"
   ]
  },
  {
   "cell_type": "code",
   "execution_count": 220,
   "metadata": {},
   "outputs": [
    {
     "data": {
      "text/plain": [
       "count    259.000000\n",
       "mean     242.208494\n",
       "std       44.787039\n",
       "min      156.000000\n",
       "25%      216.000000\n",
       "50%      235.000000\n",
       "75%      257.000000\n",
       "max      470.000000\n",
       "Name: seconds, dtype: float64"
      ]
     },
     "execution_count": 220,
     "metadata": {},
     "output_type": "execute_result"
    }
   ],
   "source": [
    "df_not_rap['seconds'].describe()"
   ]
  },
  {
   "cell_type": "code",
   "execution_count": 120,
   "metadata": {},
   "outputs": [],
   "source": [
    "# Do chart of JZ or Rap peaks against date "
   ]
  },
  {
   "cell_type": "code",
   "execution_count": null,
   "metadata": {},
   "outputs": [],
   "source": []
  },
  {
   "cell_type": "code",
   "execution_count": 221,
   "metadata": {},
   "outputs": [],
   "source": [
    "# CHARTING EXAMPLE OF TIME SERIES "
   ]
  },
  {
   "cell_type": "code",
   "execution_count": 222,
   "metadata": {},
   "outputs": [
    {
     "data": {
      "text/plain": [
       "<matplotlib.axes._subplots.AxesSubplot at 0x1a1c04d790>"
      ]
     },
     "execution_count": 222,
     "metadata": {},
     "output_type": "execute_result"
    },
    {
     "data": {
      "image/png": "[encoded data removed]",
      "text/plain": [
       "<Figure size 432x288 with 1 Axes>"
      ]
     },
     "metadata": {
      "image/png": {
       "height": 255,
       "width": 414
      },
      "needs_background": "light"
     },
     "output_type": "display_data"
    }
   ],
   "source": [
    "#EXAMPLE\n",
    "ts = pd.Series(np.random.randn(1000),\n",
    "    index=pd.date_range('1/1/2000', periods=1000)) \n",
    "ts = ts.cumsum()\n",
    "ts.plot()"
   ]
  },
  {
   "cell_type": "code",
   "execution_count": null,
   "metadata": {},
   "outputs": [],
   "source": []
  },
  {
   "cell_type": "code",
   "execution_count": 223,
   "metadata": {},
   "outputs": [
    {
     "ename": "SyntaxError",
     "evalue": "invalid syntax (<ipython-input-223-840946f688e6>, line 4)",
     "output_type": "error",
     "traceback": [
      "\u001b[0;36m  File \u001b[0;32m\"<ipython-input-223-840946f688e6>\"\u001b[0;36m, line \u001b[0;32m4\u001b[0m\n\u001b[0;31m    ts = ts.cumsum()\u001b[0m\n\u001b[0m     ^\u001b[0m\n\u001b[0;31mSyntaxError\u001b[0m\u001b[0;31m:\u001b[0m invalid syntax\n"
     ]
    }
   ],
   "source": [
    "# USING THS MODEL \n",
    "ts = pd.Series(df['highest_position'],\n",
    "    index = pd.date_range(['peaked_seconds'], periods=1000) \n",
    "ts = ts.cumsum()\n",
    "ts.plot()"
   ]
  },
  {
   "cell_type": "code",
   "execution_count": null,
   "metadata": {},
   "outputs": [],
   "source": []
  },
  {
   "cell_type": "code",
   "execution_count": 224,
   "metadata": {},
   "outputs": [
    {
     "data": {
      "image/png": "[encoded data removed]",
      "text/plain": [
       "<Figure size 432x288 with 1 Axes>"
      ]
     },
     "metadata": {
      "image/png": {
       "height": 260,
       "width": 425
      },
      "needs_background": "light"
     },
     "output_type": "display_data"
    }
   ],
   "source": [
    "# SCATTER EXAMPLE\n",
    ">>> df1 = pd.DataFrame([[5.1, 3.5, 0], [4.9, 3.0, 0], [7.0, 3.2, 1],\n",
    "...                    [6.4, 3.2, 1], [5.9, 3.0, 2]],\n",
    "...                   columns=['length', 'width', 'species'])\n",
    ">>> ax1 = df1.plot.scatter(x='length',\n",
    "...                       y='width',\n",
    "...                       c='DarkBlue')"
   ]
  },
  {
   "cell_type": "code",
   "execution_count": 225,
   "metadata": {},
   "outputs": [
    {
     "data": {
      "image/png": "[encoded data removed]",
      "text/plain": [
       "<Figure size 432x288 with 1 Axes>"
      ]
     },
     "metadata": {
      "image/png": {
       "height": 261,
       "width": 423
      },
      "needs_background": "light"
     },
     "output_type": "display_data"
    }
   ],
   "source": [
    "#Jay Z - Peak of track in charts (Time in seconds)\n",
    "ax1 = df_jay_z.plot.scatter(x='peaked_seconds',\n",
    "                       y='highest_position',\n",
    "                       c='DarkBlue')"
   ]
  },
  {
   "cell_type": "code",
   "execution_count": 242,
   "metadata": {},
   "outputs": [
    {
     "data": {
      "text/plain": [
       "year                            int64\n",
       "artist                         object\n",
       "track                          object\n",
       "time                           object\n",
       "genre                          object\n",
       "                            ...      \n",
       "seconds                         int64\n",
       "rap_or_other                   object\n",
       "peaked_timestamp       datetime64[ns]\n",
       "peaked_seconds                float64\n",
       "entry_to_peak_weeks           float64\n",
       "Length: 95, dtype: object"
      ]
     },
     "execution_count": 242,
     "metadata": {},
     "output_type": "execute_result"
    }
   ],
   "source": [
    "df.dtypes"
   ]
  },
  {
   "cell_type": "code",
   "execution_count": 234,
   "metadata": {},
   "outputs": [
    {
     "data": {
      "text/plain": [
       "pandas.core.series.Series"
      ]
     },
     "execution_count": 234,
     "metadata": {},
     "output_type": "execute_result"
    }
   ],
   "source": [
    "type(df.peaked_timestamp)"
   ]
  },
  {
   "cell_type": "code",
   "execution_count": 226,
   "metadata": {},
   "outputs": [
    {
     "data": {
      "image/png": "[encoded data removed]",
      "text/plain": [
       "<Figure size 432x288 with 1 Axes>"
      ]
     },
     "metadata": {
      "image/png": {
       "height": 261,
       "width": 429
      },
      "needs_background": "light"
     },
     "output_type": "display_data"
    }
   ],
   "source": [
    "#Rap - Peak of track in charts (Time in seconds)\n",
    "ax1 = df_rap.plot.scatter(x='peaked_seconds',\n",
    "                       y='highest_position',\n",
    "                       c='DarkBlue')"
   ]
  },
  {
   "cell_type": "code",
   "execution_count": 227,
   "metadata": {},
   "outputs": [
    {
     "data": {
      "text/html": [
       "<div>\n",
       "<style scoped>\n",
       "    .dataframe tbody tr th:only-of-type {\n",
       "        vertical-align: middle;\n",
       "    }\n",
       "\n",
       "    .dataframe tbody tr th {\n",
       "        vertical-align: top;\n",
       "    }\n",
       "\n",
       "    .dataframe thead th {\n",
       "        text-align: right;\n",
       "    }\n",
       "</style>\n",
       "<table border=\"1\" class=\"dataframe\">\n",
       "  <thead>\n",
       "    <tr style=\"text-align: right;\">\n",
       "      <th></th>\n",
       "      <th>mean_position</th>\n",
       "      <th>weeks_in_charts</th>\n",
       "      <th>highest_position</th>\n",
       "      <th>weeks_at_#1</th>\n",
       "      <th>weeks_in_#top10</th>\n",
       "      <th>seconds</th>\n",
       "      <th>peaked_seconds</th>\n",
       "      <th>entry_to_peak_weeks</th>\n",
       "    </tr>\n",
       "  </thead>\n",
       "  <tbody>\n",
       "    <tr>\n",
       "      <td>mean_position</td>\n",
       "      <td>1.000000</td>\n",
       "      <td>-0.765797</td>\n",
       "      <td>0.966857</td>\n",
       "      <td>-0.321579</td>\n",
       "      <td>-0.638580</td>\n",
       "      <td>0.025891</td>\n",
       "      <td>0.003523</td>\n",
       "      <td>-0.585243</td>\n",
       "    </tr>\n",
       "    <tr>\n",
       "      <td>weeks_in_charts</td>\n",
       "      <td>-0.765797</td>\n",
       "      <td>1.000000</td>\n",
       "      <td>-0.774181</td>\n",
       "      <td>0.221171</td>\n",
       "      <td>0.647714</td>\n",
       "      <td>-0.024238</td>\n",
       "      <td>0.072656</td>\n",
       "      <td>0.859446</td>\n",
       "    </tr>\n",
       "    <tr>\n",
       "      <td>highest_position</td>\n",
       "      <td>0.966857</td>\n",
       "      <td>-0.774181</td>\n",
       "      <td>1.000000</td>\n",
       "      <td>-0.260376</td>\n",
       "      <td>-0.558032</td>\n",
       "      <td>-0.006682</td>\n",
       "      <td>0.026137</td>\n",
       "      <td>-0.600789</td>\n",
       "    </tr>\n",
       "    <tr>\n",
       "      <td>weeks_at_#1</td>\n",
       "      <td>-0.321579</td>\n",
       "      <td>0.221171</td>\n",
       "      <td>-0.260376</td>\n",
       "      <td>1.000000</td>\n",
       "      <td>0.519212</td>\n",
       "      <td>-0.028103</td>\n",
       "      <td>0.015974</td>\n",
       "      <td>0.105230</td>\n",
       "    </tr>\n",
       "    <tr>\n",
       "      <td>weeks_in_#top10</td>\n",
       "      <td>-0.638580</td>\n",
       "      <td>0.647714</td>\n",
       "      <td>-0.558032</td>\n",
       "      <td>0.519212</td>\n",
       "      <td>1.000000</td>\n",
       "      <td>-0.025188</td>\n",
       "      <td>0.005508</td>\n",
       "      <td>0.507283</td>\n",
       "    </tr>\n",
       "    <tr>\n",
       "      <td>seconds</td>\n",
       "      <td>0.025891</td>\n",
       "      <td>-0.024238</td>\n",
       "      <td>-0.006682</td>\n",
       "      <td>-0.028103</td>\n",
       "      <td>-0.025188</td>\n",
       "      <td>1.000000</td>\n",
       "      <td>-0.148202</td>\n",
       "      <td>-0.030023</td>\n",
       "    </tr>\n",
       "    <tr>\n",
       "      <td>peaked_seconds</td>\n",
       "      <td>0.003523</td>\n",
       "      <td>0.072656</td>\n",
       "      <td>0.026137</td>\n",
       "      <td>0.015974</td>\n",
       "      <td>0.005508</td>\n",
       "      <td>-0.148202</td>\n",
       "      <td>1.000000</td>\n",
       "      <td>0.047111</td>\n",
       "    </tr>\n",
       "    <tr>\n",
       "      <td>entry_to_peak_weeks</td>\n",
       "      <td>-0.585243</td>\n",
       "      <td>0.859446</td>\n",
       "      <td>-0.600789</td>\n",
       "      <td>0.105230</td>\n",
       "      <td>0.507283</td>\n",
       "      <td>-0.030023</td>\n",
       "      <td>0.047111</td>\n",
       "      <td>1.000000</td>\n",
       "    </tr>\n",
       "  </tbody>\n",
       "</table>\n",
       "</div>"
      ],
      "text/plain": [
       "                     mean_position  weeks_in_charts  highest_position  \\\n",
       "mean_position             1.000000        -0.765797          0.966857   \n",
       "weeks_in_charts          -0.765797         1.000000         -0.774181   \n",
       "highest_position          0.966857        -0.774181          1.000000   \n",
       "weeks_at_#1              -0.321579         0.221171         -0.260376   \n",
       "weeks_in_#top10          -0.638580         0.647714         -0.558032   \n",
       "seconds                   0.025891        -0.024238         -0.006682   \n",
       "peaked_seconds            0.003523         0.072656          0.026137   \n",
       "entry_to_peak_weeks      -0.585243         0.859446         -0.600789   \n",
       "\n",
       "                     weeks_at_#1  weeks_in_#top10   seconds  peaked_seconds  \\\n",
       "mean_position          -0.321579        -0.638580  0.025891        0.003523   \n",
       "weeks_in_charts         0.221171         0.647714 -0.024238        0.072656   \n",
       "highest_position       -0.260376        -0.558032 -0.006682        0.026137   \n",
       "weeks_at_#1             1.000000         0.519212 -0.028103        0.015974   \n",
       "weeks_in_#top10         0.519212         1.000000 -0.025188        0.005508   \n",
       "seconds                -0.028103        -0.025188  1.000000       -0.148202   \n",
       "peaked_seconds          0.015974         0.005508 -0.148202        1.000000   \n",
       "entry_to_peak_weeks     0.105230         0.507283 -0.030023        0.047111   \n",
       "\n",
       "                     entry_to_peak_weeks  \n",
       "mean_position                  -0.585243  \n",
       "weeks_in_charts                 0.859446  \n",
       "highest_position               -0.600789  \n",
       "weeks_at_#1                     0.105230  \n",
       "weeks_in_#top10                 0.507283  \n",
       "seconds                        -0.030023  \n",
       "peaked_seconds                  0.047111  \n",
       "entry_to_peak_weeks             1.000000  "
      ]
     },
     "execution_count": 227,
     "metadata": {},
     "output_type": "execute_result"
    }
   ],
   "source": [
    "df.iloc[:,83:96].corr()"
   ]
  },
  {
   "cell_type": "code",
   "execution_count": 228,
   "metadata": {},
   "outputs": [
    {
     "data": {
      "text/plain": [
       "<matplotlib.axes._subplots.AxesSubplot at 0x1a1b9a0690>"
      ]
     },
     "execution_count": 228,
     "metadata": {},
     "output_type": "execute_result"
    },
    {
     "data": {
      "image/png": "[encoded data removed]",
      "text/plain": [
       "<Figure size 432x288 with 2 Axes>"
      ]
     },
     "metadata": {
      "image/png": {
       "height": 347,
       "width": 484
      },
      "needs_background": "light"
     },
     "output_type": "display_data"
    }
   ],
   "source": [
    "sns.set_palette(\"coolwarm\", 7)\n",
    "sns.heatmap(df.iloc[:,83:96].corr(), vmin=-1, vmax=1)"
   ]
  },
  {
   "cell_type": "code",
   "execution_count": 229,
   "metadata": {},
   "outputs": [
    {
     "data": {
      "text/html": [
       "<div>\n",
       "<style scoped>\n",
       "    .dataframe tbody tr th:only-of-type {\n",
       "        vertical-align: middle;\n",
       "    }\n",
       "\n",
       "    .dataframe tbody tr th {\n",
       "        vertical-align: top;\n",
       "    }\n",
       "\n",
       "    .dataframe thead th {\n",
       "        text-align: right;\n",
       "    }\n",
       "</style>\n",
       "<table border=\"1\" class=\"dataframe\">\n",
       "  <thead>\n",
       "    <tr style=\"text-align: right;\">\n",
       "      <th></th>\n",
       "      <th>mean_position</th>\n",
       "      <th>weeks_in_charts</th>\n",
       "      <th>highest_position</th>\n",
       "      <th>weeks_at_#1</th>\n",
       "      <th>weeks_in_#top10</th>\n",
       "      <th>seconds</th>\n",
       "      <th>peaked_seconds</th>\n",
       "    </tr>\n",
       "  </thead>\n",
       "  <tbody>\n",
       "    <tr>\n",
       "      <td>mean_position</td>\n",
       "      <td>1.000000</td>\n",
       "      <td>-0.785683</td>\n",
       "      <td>0.998020</td>\n",
       "      <td>NaN</td>\n",
       "      <td>NaN</td>\n",
       "      <td>-0.801077</td>\n",
       "      <td>-0.505766</td>\n",
       "    </tr>\n",
       "    <tr>\n",
       "      <td>weeks_in_charts</td>\n",
       "      <td>-0.785683</td>\n",
       "      <td>1.000000</td>\n",
       "      <td>-0.758943</td>\n",
       "      <td>NaN</td>\n",
       "      <td>NaN</td>\n",
       "      <td>0.656602</td>\n",
       "      <td>0.839812</td>\n",
       "    </tr>\n",
       "    <tr>\n",
       "      <td>highest_position</td>\n",
       "      <td>0.998020</td>\n",
       "      <td>-0.758943</td>\n",
       "      <td>1.000000</td>\n",
       "      <td>NaN</td>\n",
       "      <td>NaN</td>\n",
       "      <td>-0.820404</td>\n",
       "      <td>-0.463850</td>\n",
       "    </tr>\n",
       "    <tr>\n",
       "      <td>weeks_at_#1</td>\n",
       "      <td>NaN</td>\n",
       "      <td>NaN</td>\n",
       "      <td>NaN</td>\n",
       "      <td>NaN</td>\n",
       "      <td>NaN</td>\n",
       "      <td>NaN</td>\n",
       "      <td>NaN</td>\n",
       "    </tr>\n",
       "    <tr>\n",
       "      <td>weeks_in_#top10</td>\n",
       "      <td>NaN</td>\n",
       "      <td>NaN</td>\n",
       "      <td>NaN</td>\n",
       "      <td>NaN</td>\n",
       "      <td>NaN</td>\n",
       "      <td>NaN</td>\n",
       "      <td>NaN</td>\n",
       "    </tr>\n",
       "    <tr>\n",
       "      <td>seconds</td>\n",
       "      <td>-0.801077</td>\n",
       "      <td>0.656602</td>\n",
       "      <td>-0.820404</td>\n",
       "      <td>NaN</td>\n",
       "      <td>NaN</td>\n",
       "      <td>1.000000</td>\n",
       "      <td>0.169293</td>\n",
       "    </tr>\n",
       "    <tr>\n",
       "      <td>peaked_seconds</td>\n",
       "      <td>-0.505766</td>\n",
       "      <td>0.839812</td>\n",
       "      <td>-0.463850</td>\n",
       "      <td>NaN</td>\n",
       "      <td>NaN</td>\n",
       "      <td>0.169293</td>\n",
       "      <td>1.000000</td>\n",
       "    </tr>\n",
       "  </tbody>\n",
       "</table>\n",
       "</div>"
      ],
      "text/plain": [
       "                  mean_position  weeks_in_charts  highest_position  \\\n",
       "mean_position          1.000000        -0.785683          0.998020   \n",
       "weeks_in_charts       -0.785683         1.000000         -0.758943   \n",
       "highest_position       0.998020        -0.758943          1.000000   \n",
       "weeks_at_#1                 NaN              NaN               NaN   \n",
       "weeks_in_#top10             NaN              NaN               NaN   \n",
       "seconds               -0.801077         0.656602         -0.820404   \n",
       "peaked_seconds        -0.505766         0.839812         -0.463850   \n",
       "\n",
       "                  weeks_at_#1  weeks_in_#top10   seconds  peaked_seconds  \n",
       "mean_position             NaN              NaN -0.801077       -0.505766  \n",
       "weeks_in_charts           NaN              NaN  0.656602        0.839812  \n",
       "highest_position          NaN              NaN -0.820404       -0.463850  \n",
       "weeks_at_#1               NaN              NaN       NaN             NaN  \n",
       "weeks_in_#top10           NaN              NaN       NaN             NaN  \n",
       "seconds                   NaN              NaN  1.000000        0.169293  \n",
       "peaked_seconds            NaN              NaN  0.169293        1.000000  "
      ]
     },
     "execution_count": 229,
     "metadata": {},
     "output_type": "execute_result"
    }
   ],
   "source": [
    "df_jay_z.iloc[:,83:96].corr()"
   ]
  },
  {
   "cell_type": "code",
   "execution_count": 230,
   "metadata": {},
   "outputs": [
    {
     "data": {
      "text/plain": [
       "<matplotlib.axes._subplots.AxesSubplot at 0x1a1b23c690>"
      ]
     },
     "execution_count": 230,
     "metadata": {},
     "output_type": "execute_result"
    },
    {
     "data": {
      "image/png": "[encoded data removed]",
      "text/plain": [
       "<Figure size 432x288 with 2 Axes>"
      ]
     },
     "metadata": {
      "image/png": {
       "height": 327,
       "width": 464
      },
      "needs_background": "light"
     },
     "output_type": "display_data"
    }
   ],
   "source": [
    "sns.set_palette(\"coolwarm\", 7)\n",
    "sns.heatmap(df_jay_z.iloc[:,83:96].corr(), vmin=-1, vmax=1)"
   ]
  },
  {
   "cell_type": "code",
   "execution_count": 240,
   "metadata": {},
   "outputs": [
    {
     "ename": "ValueError",
     "evalue": "scatter requires x column to be numeric",
     "output_type": "error",
     "traceback": [
      "\u001b[0;31m---------------------------------------------------------------------------\u001b[0m",
      "\u001b[0;31mValueError\u001b[0m                                Traceback (most recent call last)",
      "\u001b[0;32m<ipython-input-240-e459097fe56e>\u001b[0m in \u001b[0;36m<module>\u001b[0;34m\u001b[0m\n\u001b[1;32m      2\u001b[0m ax1 = df_rap.plot.scatter(x='peaked',\n\u001b[1;32m      3\u001b[0m                        \u001b[0my\u001b[0m\u001b[0;34m=\u001b[0m\u001b[0;34m'highest_position'\u001b[0m\u001b[0;34m,\u001b[0m\u001b[0;34m\u001b[0m\u001b[0;34m\u001b[0m\u001b[0m\n\u001b[0;32m----> 4\u001b[0;31m                        c='DarkBlue')\n\u001b[0m",
      "\u001b[0;32m~/opt/anaconda3/lib/python3.7/site-packages/pandas/plotting/_core.py\u001b[0m in \u001b[0;36mscatter\u001b[0;34m(self, x, y, s, c, **kwargs)\u001b[0m\n\u001b[1;32m   1442\u001b[0m             ...                       colormap='viridis')\n\u001b[1;32m   1443\u001b[0m         \"\"\"\n\u001b[0;32m-> 1444\u001b[0;31m         \u001b[0;32mreturn\u001b[0m \u001b[0mself\u001b[0m\u001b[0;34m(\u001b[0m\u001b[0mkind\u001b[0m\u001b[0;34m=\u001b[0m\u001b[0;34m\"scatter\"\u001b[0m\u001b[0;34m,\u001b[0m \u001b[0mx\u001b[0m\u001b[0;34m=\u001b[0m\u001b[0mx\u001b[0m\u001b[0;34m,\u001b[0m \u001b[0my\u001b[0m\u001b[0;34m=\u001b[0m\u001b[0my\u001b[0m\u001b[0;34m,\u001b[0m \u001b[0ms\u001b[0m\u001b[0;34m=\u001b[0m\u001b[0ms\u001b[0m\u001b[0;34m,\u001b[0m \u001b[0mc\u001b[0m\u001b[0;34m=\u001b[0m\u001b[0mc\u001b[0m\u001b[0;34m,\u001b[0m \u001b[0;34m**\u001b[0m\u001b[0mkwargs\u001b[0m\u001b[0;34m)\u001b[0m\u001b[0;34m\u001b[0m\u001b[0;34m\u001b[0m\u001b[0m\n\u001b[0m\u001b[1;32m   1445\u001b[0m \u001b[0;34m\u001b[0m\u001b[0m\n\u001b[1;32m   1446\u001b[0m     \u001b[0;32mdef\u001b[0m \u001b[0mhexbin\u001b[0m\u001b[0;34m(\u001b[0m\u001b[0mself\u001b[0m\u001b[0;34m,\u001b[0m \u001b[0mx\u001b[0m\u001b[0;34m,\u001b[0m \u001b[0my\u001b[0m\u001b[0;34m,\u001b[0m \u001b[0mC\u001b[0m\u001b[0;34m=\u001b[0m\u001b[0;32mNone\u001b[0m\u001b[0;34m,\u001b[0m \u001b[0mreduce_C_function\u001b[0m\u001b[0;34m=\u001b[0m\u001b[0;32mNone\u001b[0m\u001b[0;34m,\u001b[0m \u001b[0mgridsize\u001b[0m\u001b[0;34m=\u001b[0m\u001b[0;32mNone\u001b[0m\u001b[0;34m,\u001b[0m \u001b[0;34m**\u001b[0m\u001b[0mkwargs\u001b[0m\u001b[0;34m)\u001b[0m\u001b[0;34m:\u001b[0m\u001b[0;34m\u001b[0m\u001b[0;34m\u001b[0m\u001b[0m\n",
      "\u001b[0;32m~/opt/anaconda3/lib/python3.7/site-packages/pandas/plotting/_core.py\u001b[0m in \u001b[0;36m__call__\u001b[0;34m(self, *args, **kwargs)\u001b[0m\n\u001b[1;32m    736\u001b[0m         \u001b[0;32mif\u001b[0m \u001b[0mkind\u001b[0m \u001b[0;32min\u001b[0m \u001b[0mself\u001b[0m\u001b[0;34m.\u001b[0m\u001b[0m_dataframe_kinds\u001b[0m\u001b[0;34m:\u001b[0m\u001b[0;34m\u001b[0m\u001b[0;34m\u001b[0m\u001b[0m\n\u001b[1;32m    737\u001b[0m             \u001b[0;32mif\u001b[0m \u001b[0misinstance\u001b[0m\u001b[0;34m(\u001b[0m\u001b[0mdata\u001b[0m\u001b[0;34m,\u001b[0m \u001b[0mABCDataFrame\u001b[0m\u001b[0;34m)\u001b[0m\u001b[0;34m:\u001b[0m\u001b[0;34m\u001b[0m\u001b[0;34m\u001b[0m\u001b[0m\n\u001b[0;32m--> 738\u001b[0;31m                 \u001b[0;32mreturn\u001b[0m \u001b[0mplot_backend\u001b[0m\u001b[0;34m.\u001b[0m\u001b[0mplot\u001b[0m\u001b[0;34m(\u001b[0m\u001b[0mdata\u001b[0m\u001b[0;34m,\u001b[0m \u001b[0mx\u001b[0m\u001b[0;34m=\u001b[0m\u001b[0mx\u001b[0m\u001b[0;34m,\u001b[0m \u001b[0my\u001b[0m\u001b[0;34m=\u001b[0m\u001b[0my\u001b[0m\u001b[0;34m,\u001b[0m \u001b[0mkind\u001b[0m\u001b[0;34m=\u001b[0m\u001b[0mkind\u001b[0m\u001b[0;34m,\u001b[0m \u001b[0;34m**\u001b[0m\u001b[0mkwargs\u001b[0m\u001b[0;34m)\u001b[0m\u001b[0;34m\u001b[0m\u001b[0;34m\u001b[0m\u001b[0m\n\u001b[0m\u001b[1;32m    739\u001b[0m             \u001b[0;32melse\u001b[0m\u001b[0;34m:\u001b[0m\u001b[0;34m\u001b[0m\u001b[0;34m\u001b[0m\u001b[0m\n\u001b[1;32m    740\u001b[0m                 raise ValueError(\n",
      "\u001b[0;32m~/opt/anaconda3/lib/python3.7/site-packages/pandas/plotting/_matplotlib/__init__.py\u001b[0m in \u001b[0;36mplot\u001b[0;34m(data, kind, **kwargs)\u001b[0m\n\u001b[1;32m     59\u001b[0m                 \u001b[0max\u001b[0m \u001b[0;34m=\u001b[0m \u001b[0mplt\u001b[0m\u001b[0;34m.\u001b[0m\u001b[0mgca\u001b[0m\u001b[0;34m(\u001b[0m\u001b[0;34m)\u001b[0m\u001b[0;34m\u001b[0m\u001b[0;34m\u001b[0m\u001b[0m\n\u001b[1;32m     60\u001b[0m             \u001b[0mkwargs\u001b[0m\u001b[0;34m[\u001b[0m\u001b[0;34m\"ax\"\u001b[0m\u001b[0;34m]\u001b[0m \u001b[0;34m=\u001b[0m \u001b[0mgetattr\u001b[0m\u001b[0;34m(\u001b[0m\u001b[0max\u001b[0m\u001b[0;34m,\u001b[0m \u001b[0;34m\"left_ax\"\u001b[0m\u001b[0;34m,\u001b[0m \u001b[0max\u001b[0m\u001b[0;34m)\u001b[0m\u001b[0;34m\u001b[0m\u001b[0;34m\u001b[0m\u001b[0m\n\u001b[0;32m---> 61\u001b[0;31m     \u001b[0mplot_obj\u001b[0m \u001b[0;34m=\u001b[0m \u001b[0mPLOT_CLASSES\u001b[0m\u001b[0;34m[\u001b[0m\u001b[0mkind\u001b[0m\u001b[0;34m]\u001b[0m\u001b[0;34m(\u001b[0m\u001b[0mdata\u001b[0m\u001b[0;34m,\u001b[0m \u001b[0;34m**\u001b[0m\u001b[0mkwargs\u001b[0m\u001b[0;34m)\u001b[0m\u001b[0;34m\u001b[0m\u001b[0;34m\u001b[0m\u001b[0m\n\u001b[0m\u001b[1;32m     62\u001b[0m     \u001b[0mplot_obj\u001b[0m\u001b[0;34m.\u001b[0m\u001b[0mgenerate\u001b[0m\u001b[0;34m(\u001b[0m\u001b[0;34m)\u001b[0m\u001b[0;34m\u001b[0m\u001b[0;34m\u001b[0m\u001b[0m\n\u001b[1;32m     63\u001b[0m     \u001b[0mplot_obj\u001b[0m\u001b[0;34m.\u001b[0m\u001b[0mdraw\u001b[0m\u001b[0;34m(\u001b[0m\u001b[0;34m)\u001b[0m\u001b[0;34m\u001b[0m\u001b[0;34m\u001b[0m\u001b[0m\n",
      "\u001b[0;32m~/opt/anaconda3/lib/python3.7/site-packages/pandas/plotting/_matplotlib/core.py\u001b[0m in \u001b[0;36m__init__\u001b[0;34m(self, data, x, y, s, c, **kwargs)\u001b[0m\n\u001b[1;32m    928\u001b[0m             \u001b[0;31m# the handling of this argument later\u001b[0m\u001b[0;34m\u001b[0m\u001b[0;34m\u001b[0m\u001b[0;34m\u001b[0m\u001b[0m\n\u001b[1;32m    929\u001b[0m             \u001b[0ms\u001b[0m \u001b[0;34m=\u001b[0m \u001b[0;36m20\u001b[0m\u001b[0;34m\u001b[0m\u001b[0;34m\u001b[0m\u001b[0m\n\u001b[0;32m--> 930\u001b[0;31m         \u001b[0msuper\u001b[0m\u001b[0;34m(\u001b[0m\u001b[0;34m)\u001b[0m\u001b[0;34m.\u001b[0m\u001b[0m__init__\u001b[0m\u001b[0;34m(\u001b[0m\u001b[0mdata\u001b[0m\u001b[0;34m,\u001b[0m \u001b[0mx\u001b[0m\u001b[0;34m,\u001b[0m \u001b[0my\u001b[0m\u001b[0;34m,\u001b[0m \u001b[0ms\u001b[0m\u001b[0;34m=\u001b[0m\u001b[0ms\u001b[0m\u001b[0;34m,\u001b[0m \u001b[0;34m**\u001b[0m\u001b[0mkwargs\u001b[0m\u001b[0;34m)\u001b[0m\u001b[0;34m\u001b[0m\u001b[0;34m\u001b[0m\u001b[0m\n\u001b[0m\u001b[1;32m    931\u001b[0m         \u001b[0;32mif\u001b[0m \u001b[0mis_integer\u001b[0m\u001b[0;34m(\u001b[0m\u001b[0mc\u001b[0m\u001b[0;34m)\u001b[0m \u001b[0;32mand\u001b[0m \u001b[0;32mnot\u001b[0m \u001b[0mself\u001b[0m\u001b[0;34m.\u001b[0m\u001b[0mdata\u001b[0m\u001b[0;34m.\u001b[0m\u001b[0mcolumns\u001b[0m\u001b[0;34m.\u001b[0m\u001b[0mholds_integer\u001b[0m\u001b[0;34m(\u001b[0m\u001b[0;34m)\u001b[0m\u001b[0;34m:\u001b[0m\u001b[0;34m\u001b[0m\u001b[0;34m\u001b[0m\u001b[0m\n\u001b[1;32m    932\u001b[0m             \u001b[0mc\u001b[0m \u001b[0;34m=\u001b[0m \u001b[0mself\u001b[0m\u001b[0;34m.\u001b[0m\u001b[0mdata\u001b[0m\u001b[0;34m.\u001b[0m\u001b[0mcolumns\u001b[0m\u001b[0;34m[\u001b[0m\u001b[0mc\u001b[0m\u001b[0;34m]\u001b[0m\u001b[0;34m\u001b[0m\u001b[0;34m\u001b[0m\u001b[0m\n",
      "\u001b[0;32m~/opt/anaconda3/lib/python3.7/site-packages/pandas/plotting/_matplotlib/core.py\u001b[0m in \u001b[0;36m__init__\u001b[0;34m(self, data, x, y, **kwargs)\u001b[0m\n\u001b[1;32m    868\u001b[0m             \u001b[0my\u001b[0m \u001b[0;34m=\u001b[0m \u001b[0mself\u001b[0m\u001b[0;34m.\u001b[0m\u001b[0mdata\u001b[0m\u001b[0;34m.\u001b[0m\u001b[0mcolumns\u001b[0m\u001b[0;34m[\u001b[0m\u001b[0my\u001b[0m\u001b[0;34m]\u001b[0m\u001b[0;34m\u001b[0m\u001b[0;34m\u001b[0m\u001b[0m\n\u001b[1;32m    869\u001b[0m         \u001b[0;32mif\u001b[0m \u001b[0mlen\u001b[0m\u001b[0;34m(\u001b[0m\u001b[0mself\u001b[0m\u001b[0;34m.\u001b[0m\u001b[0mdata\u001b[0m\u001b[0;34m[\u001b[0m\u001b[0mx\u001b[0m\u001b[0;34m]\u001b[0m\u001b[0;34m.\u001b[0m\u001b[0m_get_numeric_data\u001b[0m\u001b[0;34m(\u001b[0m\u001b[0;34m)\u001b[0m\u001b[0;34m)\u001b[0m \u001b[0;34m==\u001b[0m \u001b[0;36m0\u001b[0m\u001b[0;34m:\u001b[0m\u001b[0;34m\u001b[0m\u001b[0;34m\u001b[0m\u001b[0m\n\u001b[0;32m--> 870\u001b[0;31m             \u001b[0;32mraise\u001b[0m \u001b[0mValueError\u001b[0m\u001b[0;34m(\u001b[0m\u001b[0mself\u001b[0m\u001b[0;34m.\u001b[0m\u001b[0m_kind\u001b[0m \u001b[0;34m+\u001b[0m \u001b[0;34m\" requires x column to be numeric\"\u001b[0m\u001b[0;34m)\u001b[0m\u001b[0;34m\u001b[0m\u001b[0;34m\u001b[0m\u001b[0m\n\u001b[0m\u001b[1;32m    871\u001b[0m         \u001b[0;32mif\u001b[0m \u001b[0mlen\u001b[0m\u001b[0;34m(\u001b[0m\u001b[0mself\u001b[0m\u001b[0;34m.\u001b[0m\u001b[0mdata\u001b[0m\u001b[0;34m[\u001b[0m\u001b[0my\u001b[0m\u001b[0;34m]\u001b[0m\u001b[0;34m.\u001b[0m\u001b[0m_get_numeric_data\u001b[0m\u001b[0;34m(\u001b[0m\u001b[0;34m)\u001b[0m\u001b[0;34m)\u001b[0m \u001b[0;34m==\u001b[0m \u001b[0;36m0\u001b[0m\u001b[0;34m:\u001b[0m\u001b[0;34m\u001b[0m\u001b[0;34m\u001b[0m\u001b[0m\n\u001b[1;32m    872\u001b[0m             \u001b[0;32mraise\u001b[0m \u001b[0mValueError\u001b[0m\u001b[0;34m(\u001b[0m\u001b[0mself\u001b[0m\u001b[0;34m.\u001b[0m\u001b[0m_kind\u001b[0m \u001b[0;34m+\u001b[0m \u001b[0;34m\" requires y column to be numeric\"\u001b[0m\u001b[0;34m)\u001b[0m\u001b[0;34m\u001b[0m\u001b[0;34m\u001b[0m\u001b[0m\n",
      "\u001b[0;31mValueError\u001b[0m: scatter requires x column to be numeric"
     ]
    }
   ],
   "source": [
    "#Rap - Peak of track in charts (Time in seconds)\n",
    "ax1 = df_rap.plot.scatter(x='peaked',\n",
    "                       y='highest_position',\n",
    "                       c='DarkBlue')"
   ]
  },
  {
   "cell_type": "code",
   "execution_count": 241,
   "metadata": {},
   "outputs": [
    {
     "data": {
      "text/plain": [
       "dtype('O')"
      ]
     },
     "execution_count": 241,
     "metadata": {},
     "output_type": "execute_result"
    }
   ],
   "source": [
    "df['peaked'].dtypes"
   ]
  },
  {
   "cell_type": "code",
   "execution_count": null,
   "metadata": {},
   "outputs": [],
   "source": []
  }
 ],
 "metadata": {
  "kernelspec": {
   "display_name": "Python 3",
   "language": "python",
   "name": "python3"
  },
  "language_info": {
   "codemirror_mode": {
    "name": "ipython",
    "version": 3
   },
   "file_extension": ".py",
   "mimetype": "text/x-python",
   "name": "python",
   "nbconvert_exporter": "python",
   "pygments_lexer": "ipython3",
   "version": "3.7.4"
  }
 },
 "nbformat": 4,
 "nbformat_minor": 1
}
