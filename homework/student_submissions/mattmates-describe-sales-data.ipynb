{
 "cells": [
  {
   "cell_type": "markdown",
   "metadata": {},
   "source": [
    "<img src=\"http://imgur.com/1ZcRyrc.png\" style=\"float: left; margin: 20px; height: 55px\">\n",
    "\n",
    "## Describing Sales Data with `numpy`\n",
    "\n",
    "_Author: Kiefer Katovich (SF), Joseph Nelson (DC)_\n",
    "\n",
    "---\n",
    "\n",
    "Run the cell below to load the required packages and set up plotting in the notebook!"
   ]
  },
  {
   "cell_type": "code",
   "execution_count": 149,
   "metadata": {},
   "outputs": [],
   "source": [
    "import numpy as np\n",
    "import scipy.stats as stats\n",
    "import csv\n",
    "import seaborn as sns\n",
    "import pandas as pd\n",
    "\n",
    "%matplotlib inline"
   ]
  },
  {
   "cell_type": "markdown",
   "metadata": {},
   "source": [
    "## Loading CSV files with python\n",
    "\n",
    "---\n",
    "\n",
    "For this lab you will be using a truncated version of some sales data.\n",
    "\n",
    "The csv has about 200 rows of data and four columns. The relative path to `sales_info.csv` is provided below.\n",
    "\n",
    "\n",
    "Let's take a look at the `csv` module we imported. The csv module’s reader and writer objects read and write sequences. The following python code demonstrates a process for loading data from a CSV file and (in this case) appending each row to a list.\n",
    "\n",
    "\n",
    "```python\n",
    "import csv\n",
    "print 'Opening File. Data: '\n",
    "csv_rows = []\n",
    "with open('./datasets/sales_info.csv', 'rU') as f:\n",
    "    reader = csv.reader(f)\n",
    "    for row in reader:\n",
    "        csv_rows.append(row)\n",
    "f.close()\n",
    "print 'file closed'   # Always remember to close the file after writing to it!\n",
    "```\n",
    "\n",
    "The first argument to `csv.reader` is the string path to the file. The second argument specifies the \"mode\" for the open file object:\n",
    "- `'r'` - Read (Default)\n",
    "- `'w'` - Write\n",
    "- `'a'` - Append;  Adds additional modifications to the end.  Unable to edit current contents.\n",
    "- `'b'` - Binary (used when working with a binary file, i.e. 'rb', for reading a binary file)\n",
    "- `'U'` - Opens text in Universal Newline mode.  As '\\r', '\\n', and '\\r\\n' all indicate a newline depending on which language the file was written in, Universal Newline Mode will read '\\r', '\\n', and '\\r\\n' as Python's '\\n'."
   ]
  },
  {
   "cell_type": "code",
   "execution_count": 3,
   "metadata": {},
   "outputs": [],
   "source": [
    "sales_csv_path = 'sales_info.csv'"
   ]
  },
  {
   "cell_type": "markdown",
   "metadata": {},
   "source": [
    "### 1. Loading the data\n",
    "\n",
    "Set up an empty list called ```rows```.\n",
    "\n",
    "Using the pattern for loading csvs we learned earlier, add all of the rows in the csv file to the rows list.\n",
    "\n",
    "For your reference, the pattern is:\n",
    "```python\n",
    "with open(my_csv_path, 'r') as f:\n",
    "    reader = csv.reader(f)\n",
    "    ...\n",
    "```\n",
    "\n",
    "Beyond this, adding the rows in the csv file to the ```rows``` variable is up to you."
   ]
  },
  {
   "cell_type": "code",
   "execution_count": 7,
   "metadata": {},
   "outputs": [
    {
     "data": {
      "text/plain": [
       "<function TextIOWrapper.close()>"
      ]
     },
     "execution_count": 7,
     "metadata": {},
     "output_type": "execute_result"
    }
   ],
   "source": [
    "# A:\n",
    "rows = []\n",
    "with open('sales_info.csv', 'r') as f:\n",
    "    reader = csv.reader(f)\n",
    "    for row in reader:\n",
    "        rows.append(row)\n",
    "f.close"
   ]
  },
  {
   "cell_type": "code",
   "execution_count": 8,
   "metadata": {},
   "outputs": [
    {
     "data": {
      "text/plain": [
       "[['volume_sold', '2015_margin', '2015_q1_sales', '2016_q1_sales'],\n",
       " ['18.4207604861', '93.8022814583', '337166.53', '337804.05'],\n",
       " ['4.77650991918', '21.0824246877', '22351.86', '21736.63'],\n",
       " ['16.6024006077', '93.6124943024', '277764.46', '306942.27'],\n",
       " ['4.29611149826', '16.8247038328', '16805.11', '9307.75'],\n",
       " ['8.15602328201', '35.0114570034', '54411.42', '58939.9'],\n",
       " ['5.00512242518', '31.8774372328', '255939.81', '332979.03'],\n",
       " ['14.60675', '76.5189730216', '319020.69', '302592.88'],\n",
       " ['4.45646649485', '19.3373453608', '45340.33', '55315.23'],\n",
       " ['5.04752965097', '26.142470349', '57849.23', '42398.57'],\n",
       " ['5.38807023767', '22.4270237673', '51031.04', '56241.57'],\n",
       " ['9.34734863474', '41.892132964', '68657.91', '3536.14'],\n",
       " ['10.9303977273', '66.4030492424', '4151.93', '137416.93'],\n",
       " ['6.27020860495', '47.8693242069', '121837.56', '158476.55'],\n",
       " ['12.3959191176', '86.7601504011', '146725.31', '125731.51'],\n",
       " ['4.55771189614', '22.9481762576', '119287.76', '21834.49'],\n",
       " ['4.20012242627', '18.7060545353', '20335.03', '39609.55'],\n",
       " ['10.2528698945', '44.0411766297', '110552.94', '204038.87'],\n",
       " ['12.0767847594', '62.1990040107', '204237.78', '15689.8'],\n",
       " ['3.7250952381', '14.2518095238', '16939.15', '48545.69'],\n",
       " ['3.21072662722', '16.0432686391', '55498.12', '16320.74'],\n",
       " ['6.29097142857', '25.1911714286', '15983.98', '53182.55'],\n",
       " ['7.43482131661', '31.7530658307', '71758.66', '30402.43'],\n",
       " ['4.37622478386', '23.1614514016', '62988.17', '47217.4'],\n",
       " ['12.9889127838', '48.8207407407', '29637.75', '6367.76'],\n",
       " ['11.6974557522', '73.2315044248', '48759.71', '329252.09'],\n",
       " ['5.96517512509', '23.4503335716', '89736.7', '332976.05'],\n",
       " ['3.94522273425', '14.1447926267', '5577.61', '234926.02'],\n",
       " ['7.36958530901', '36.4085284899', '310035.66', '151934.45'],\n",
       " ['7.34350882699', '36.1718619066', '310718.21', '314068.92'],\n",
       " ['12.3500273544', '59.8934779211', '258284.84', '61847.52'],\n",
       " ['8.41791967737', '37.1085548647', '150049.71', '203644.27'],\n",
       " ['10.2608361718', '52.4055916932', '309568.16', '123632.78'],\n",
       " ['7.82435369972', '30.681099171', '66468.32', '1050711.75'],\n",
       " ['10.3314300532', '48.1333683392', '321983.24', '149791.31'],\n",
       " ['12.5284878049', '47.7406803594', '115531.13', '61560.7'],\n",
       " ['18.7447505256', '97.2243398739', '926706.76', '260966.41'],\n",
       " ['6.65773264189', '31.2923926822', '157981.2', '160278.07'],\n",
       " ['10.6321289355', '35.27017991', '51078.36', '78108.56'],\n",
       " ['6.92770422965', '31.9091555963', '272703.74', '253886.88'],\n",
       " ['6.61817422161', '29.1482532051', '180760.93', '173395.13'],\n",
       " ['7.12444444444', '32.6235916667', '72185.66', '91524.76'],\n",
       " ['9.84966032435', '47.9893704508', '263161.4', '247802.36'],\n",
       " ['11.5058377559', '55.5221865049', '164809.62', '115591.86'],\n",
       " ['6.30981315215', '31.941637952', '60986.22', '233350.35'],\n",
       " ['10.1866219839', '49.3420628537', '210690.45', '84940.69'],\n",
       " ['10.1221793301', '42.8693852124', '139068.33', '115993.15'],\n",
       " ['10.8003469032', '53.1849073341', '209403.19', '125207.35'],\n",
       " ['7.26782845188', '25.4050062762', '75110.03', '161300.14'],\n",
       " ['10.6737166742', '43.9390962494', '123291.57', '164939.85'],\n",
       " ['9.15026865672', '44.5348318408', '157591.18', '147632.84'],\n",
       " ['8.12418187744', '39.530065189', '163684.93', '168603.49'],\n",
       " ['6.27579970306', '31.5106033203', '146850.63', '342772.02'],\n",
       " ['10.6772953319', '50.1331972789', '143950.01', '102829.3'],\n",
       " ['5.88898828541', '28.7115801384', '136167.32', '216415.08'],\n",
       " ['10.6401714545', '52.4235630748', '327172.32', '174492.82'],\n",
       " ['4.75559643255', '24.0028010033', '105869.94', '41213.34'],\n",
       " ['10.246884068', '47.3184344342', '176266.68', '91213.98'],\n",
       " ['10.29268081', '49.1944300868', '176720.07', '256707.1'],\n",
       " ['4.41819548872', '19.9170827068', '44836.7', '75866.02'],\n",
       " ['7.10134734573', '32.71362436', '65830.25', '50434.54'],\n",
       " ['8.00611901938', '36.2773863187', '228680.53', '141712.31'],\n",
       " ['7.79050337838', '35.2223614865', '73810.68', '91203.94'],\n",
       " ['11.1293822598', '40.0093030623', '54655.98', '156730.02'],\n",
       " ['9.34847653987', '45.5890982815', '156056.28', '24206.67'],\n",
       " ['6.31088643791', '28.2592197712', '80923.05', '218335.21'],\n",
       " ['11.6256060606', '55.1925378788', '167606.75', '325127.17'],\n",
       " ['6.65440717629', '29.106349454', '25575.88', '94229.41'],\n",
       " ['7.93041476808', '39.1116473887', '211902.95', '117784.92'],\n",
       " ['9.003562316', '46.7565544652', '312502.67', '166847.54'],\n",
       " ['14.4394353772', '57.2886237318', '85217.68', '73117.79'],\n",
       " ['11.0115404852', '46.2992604502', '89525.66', '100545.74'],\n",
       " ['5.72389564186', '25.5950192707', '176252.03', '68966.63'],\n",
       " ['7.77732012195', '36.7157591463', '68258.49', '96059.65'],\n",
       " ['4.75918372602', '20.0006463242', '88008.31', '211600.93'],\n",
       " ['7.78586691659', '29.0692439863', '67219.54', '234774.87'],\n",
       " ['5.03499140759', '22.7097016091', '100722.77', '268226.7'],\n",
       " ['11.6845098446', '58.9404393782', '147242.83', '58122.85'],\n",
       " ['5.14772910448', '25.7666753731', '227702.34', '106662.37'],\n",
       " ['10.0860303763', '49.1620319871', '286763.37', '147781.41'],\n",
       " ['7.94465682362', '33.9956304868', '59531.82', '67514.95'],\n",
       " ['5.29439978635', '24.4766550941', '122811.86', '170466.11'],\n",
       " ['11.8265363003', '52.3184580805', '156513.07', '94158.15'],\n",
       " ['6.300925868', '30.5095964967', '55538.11', '139676.38'],\n",
       " ['8.64269487751', '36.2843302577', '143498.37', '167692.5'],\n",
       " ['6.04822838631', '30.1712350678', '84998.58', '180371.58'],\n",
       " ['9.47492913676', '41.0171194552', '138010.02', '298889.32'],\n",
       " ['3.99185767098', '20.0513661569', '146424.29', '133868.58'],\n",
       " ['8.59207381371', '45.5986531395', '175475.49', '39138.81'],\n",
       " ['7.21148957299', '35.8870443261', '247716.78', '343447.68'],\n",
       " ['8.19108557079', '37.9469113386', '130512.99', '191091.14'],\n",
       " ['7.69531160115', '29.3906663471', '52054.1', '184729.87'],\n",
       " ['13.6351500118', '64.7439062131', '332692.67', '37179.58'],\n",
       " ['6.96681681682', '35.0125088725', '135418.28', '40160.26'],\n",
       " ['11.2323237697', '52.2156089683', '163104.8', '40970.96'],\n",
       " ['5.09546375267', '22.4304264392', '45612.45', '135871.39'],\n",
       " ['11.9368836649', '49.1816335142', '56995.82', '92843.04'],\n",
       " ['5.90627376426', '25.0323193916', '39867.38', '295483.47'],\n",
       " ['9.12709469154', '45.8722118604', '133081.37', '130377.49'],\n",
       " ['7.7544572697', '34.7604217536', '108362.38', '192747.83'],\n",
       " ['7.58599675412', '39.9868794518', '271021.94', '103958.63'],\n",
       " ['7.43725207583', '34.6033448222', '134589.33', '106452.13'],\n",
       " ['9.8798900768', '41.6839918687', '216171.01', '12380.85'],\n",
       " ['9.30319388778', '40.8443061122', '104354.49', '94010.77'],\n",
       " ['9.21365050557', '44.7063598652', '105046.24', '51773.27'],\n",
       " ['5.18177205308', '21.1562997658', '13677.13', '242057.36'],\n",
       " ['8.55507774799', '41.547077748', '89053.08', '392226.28'],\n",
       " ['5.78126590331', '24.6607061069', '51427.05', '369424.59'],\n",
       " ['8.0710230118', '40.1006629307', '264408.55', '73141.35'],\n",
       " ['10.1250032713', '50.3450808487', '294990.21', '292690.86'],\n",
       " ['11.0196516733', '51.4318879891', '358098.75', '172189.31'],\n",
       " ['8.17666774927', '32.3875251705', '68077.3', '211032.4'],\n",
       " ['9.42171292239', '53.4813935145', '313345.86', '171119.44'],\n",
       " ['4.85870921867', '24.5552275389', '163324.44', '201433.01'],\n",
       " ['9.31378525791', '43.8089558984', '203099.8', '200599.95'],\n",
       " ['8.30018036767', '43.4441935484', '104044.33', '476439.16'],\n",
       " ['6.50688776965', '33.4178523235', '202835.96', '215106.77'],\n",
       " ['9.5852099677', '44.3454176281', '192934.41', '204808.54'],\n",
       " ['12.45572275', '65.5244131168', '447305.5', '37858.67'],\n",
       " ['8.09288312646', '39.7529703822', '205170.43', '382790.84'],\n",
       " ['8.68651837806', '46.2175087515', '201282.29', '58332.41'],\n",
       " ['8.34731752963', '32.7325389894', '36855.39', '2443253.18'],\n",
       " ['9.29224055739', '49.786953612', '381036.91', '209066.17'],\n",
       " ['9.77711182109', '44.9972396166', '46509.65', '137697.56'],\n",
       " ['29.878030039', '168.245861698', '2337324.42', '129489.89'],\n",
       " ['8.78393692369', '49.313768542', '208389.88', '72810.95'],\n",
       " ['11.9757685161', '56.569739846', '145742.16', '158368.58'],\n",
       " ['11.1401021385', '47.8089690393', '187407.93', '153305.98'],\n",
       " ['7.5605488194', '30.9038417358', '62335.59', '289199.43'],\n",
       " ['7.39098798637', '37.2649829658', '138878.63', '241311.79'],\n",
       " ['6.43360588592', '35.850617415', '169131.81', '343060.63'],\n",
       " ['13.7999774485', '68.1836227448', '280506.28', '128500.31'],\n",
       " ['6.44703955254', '34.2461556133', '223641.14', '79554.12'],\n",
       " ['8.01794477751', '46.0017090264', '361865.13', '191155.87'],\n",
       " ['6.2553554256', '26.9316699155', '134325.62', '111207.97'],\n",
       " ['9.69742181905', '48.3078228694', '145361.36', '83399.61'],\n",
       " ['7.77268351232', '36.216199621', '185580.5', '25290.33'],\n",
       " ['8.75192030725', '37.1569323092', '93901.53', '20962.08'],\n",
       " ['6.79288937945', '33.5548344371', '68438.51', '15307.3'],\n",
       " ['7.68249438202', '33.223011236', '32698.19', '10464.02'],\n",
       " ['4.38545511613', '20.8197112367', '22829.66', '52246.46'],\n",
       " ['3.60671020408', '15.8903673469', '13141.2', '75566.37'],\n",
       " ['8.45364705882', '35.4949411765', '8738.45', '103585.1'],\n",
       " ['5.21488185976', '26.0287842988', '48441.46', '276396.86'],\n",
       " ['8.40056149733', '37.0314331551', '87115.74', '305851.47'],\n",
       " ['6.84136327817', '29.1820981087', '102794.01', '260453.94'],\n",
       " ['12.5099672623', '72.4642572637', '306947.29', '30441.76'],\n",
       " ['9.0148700565', '52.1879774011', '225615.38', '10564.6'],\n",
       " ['7.20036424796', '40.9748793849', '327334.28', '19357.49'],\n",
       " ['5.77809677419', '23.8230645161', '27114.29', '613414.14'],\n",
       " ['4.94129392971', '24.1203833866', '7539.14', '63793.71'],\n",
       " ['6.00045070423', '26.6531361502', '20378.73', '78706.47'],\n",
       " ['11.9971174753', '65.067257829', '501953.12', '22675.76'],\n",
       " ['10.6377691184', '51.4916463712', '66097.53', '4566.74'],\n",
       " ['8.56422809829', '36.8113087607', '89327.88', '14050.14'],\n",
       " ['8.62268641471', '35.087834525', '20534.72', '11883.3'],\n",
       " ['4.83114713217', '17.9033416459', '5742.23', '11597.18'],\n",
       " ['10.2701848998', '38.2349306626', '15987.52', '23801.1'],\n",
       " ['12.5816945607', '41.9222384937', '13518.07', '22824.14'],\n",
       " ['16.0599706745', '50.8491202346', '17574.68', '18957.2'],\n",
       " ['11.8677385892', '36.282033195', '24357.22', '19832.94'],\n",
       " ['10.2945011338', '39.7768253968', '29611.32', '4258.14'],\n",
       " ['4.17606557377', '16.4770435274', '18571.65', '17116.11'],\n",
       " ['9.36189873418', '35.4246202532', '18712.28', '7499.47'],\n",
       " ['11.0917085427', '48.8443718593', '8458.2', '11367.4'],\n",
       " ['5.3244966443', '20.2525251678', '19089.74', '8041.09'],\n",
       " ['6.63090439276', '24.2994315245', '7305.46', '11966.94'],\n",
       " ['8.58392405063', '34.2229535865', '14796.7', '12707.72'],\n",
       " ['5.53106109325', '25.2890353698', '8200.55', '22130.31'],\n",
       " ['6.13912310287', '26.0607419899', '11412.54', '20817.32'],\n",
       " ['8.47737603306', '33.6023140496', '11228.97', '16786.98'],\n",
       " ['8.44393241167', '37.4071121352', '17232.45', '19203.82'],\n",
       " ['5.15196394076', '20.6980424984', '21340.78', '25302.92'],\n",
       " ['6.53706864564', '22.8882189239', '16617.85', '18650.96'],\n",
       " ['8.50044523598', '27.5077292965', '21711.71', '14626.29'],\n",
       " ['3.93154326923', '21.8116586538', '28128.95', '46323.73'],\n",
       " ['6.16368913858', '25.4285205993', '21803.2', '535381.86'],\n",
       " ['4.90444711538', '19.5683173077', '12517.29', '812011.78'],\n",
       " ['7.40241271087', '26.9353354257', '53988.92', '206247.57'],\n",
       " ['47.5032692308', '235.730677515', '555707.4', '6402.78'],\n",
       " ['55.7391800938', '268.869600245', '1082136.01', '100765.67'],\n",
       " ['11.8407803201', '56.4333884407', '192089.46', '20098.61'],\n",
       " ['7.00229357798', '26.4409174312', '5574.99', '68230.36'],\n",
       " ['8.75314206706', '45.2938472174', '80241.27', '596063.0'],\n",
       " ['3.14774130328', '15.5945516903', '27043.54', '87471.43'],\n",
       " ['7.1967787944', '27.2886517761', '61977.54', '431990.7'],\n",
       " ['76.2036918138', '367.225653291', '977772.62', '136717.57'],\n",
       " ['10.8043371086', '42.0311992005', '41905.18', '30008.81'],\n",
       " ['10.705327051', '45.8914772727', '87839.45', '19420.34'],\n",
       " ['51.8006862745', '255.153235294', '445058.32', '274752.6'],\n",
       " ['5.88277871731', '27.5122713672', '127495.18', '10315.35'],\n",
       " ['6.68640645161', '26.1030967742', '23874.67', '45252.42'],\n",
       " ['5.83335488041', '23.7416031028', '21535.87', '433832.28'],\n",
       " ['45.5560956385', '218.008349974', '276096.18', '74215.43'],\n",
       " ['5.17260575296', '21.5487817259', '8506.79', '78137.29'],\n",
       " ['10.118018018', '46.7007087087', '49163.01', '83915.72'],\n",
       " ['51.6755374204', '233.533188694', '434110.57', '372240.72'],\n",
       " ['2.79463149728', '11.9961176992', '73789.38', '148021.9'],\n",
       " ['7.61169779853', '38.8099733155', '88006.84', '31184.18'],\n",
       " ['15.6976512739', '105.035207006', '117958.96', '33324.36'],\n",
       " ['50.2758932156', '225.055138499', '407738.79', '32079.13']]"
      ]
     },
     "execution_count": 8,
     "metadata": {},
     "output_type": "execute_result"
    }
   ],
   "source": [
    "rows"
   ]
  },
  {
   "cell_type": "markdown",
   "metadata": {},
   "source": [
    "### 2. Separate header and data\n",
    "\n",
    "The header of the csv is contained in the first index of the ```rows``` variable, as it is the first row in the csv file. \n",
    "\n",
    "Use python indexing to create two new variables: ```header``` which contains the 4 column names, and ```data``` which contains the list of lists, each sub-list representing a row from the csv.\n",
    "\n",
    "Lastly, print ```header``` to see the names of the columns."
   ]
  },
  {
   "cell_type": "code",
   "execution_count": 60,
   "metadata": {},
   "outputs": [
    {
     "name": "stdout",
     "output_type": "stream",
     "text": [
      "['volume_sold', '2015_margin', '2015_q1_sales', '2016_q1_sales']\n",
      "[['18.4207604861', '93.8022814583', '337166.53', '337804.05'], ['4.77650991918', '21.0824246877', '22351.86', '21736.63'], ['16.6024006077', '93.6124943024', '277764.46', '306942.27'], ['4.29611149826', '16.8247038328', '16805.11', '9307.75'], ['8.15602328201', '35.0114570034', '54411.42', '58939.9']]\n"
     ]
    }
   ],
   "source": [
    "# A:\n",
    "header = rows[0]\n",
    "data = rows[1:]\n",
    "\n",
    "print(header)\n",
    "print(data[0:5])"
   ]
  },
  {
   "cell_type": "markdown",
   "metadata": {},
   "source": [
    "### 3. Create a dictionary with the data\n",
    "\n",
    "Use loops or list comprehensions to create a dictionary called ```sales_data```, where the keys of the dictionary are the column names, and the values of the dictionary are lists of the data points of the column corresponding to that column name."
   ]
  },
  {
   "cell_type": "code",
   "execution_count": 87,
   "metadata": {},
   "outputs": [],
   "source": [
    "# A:\n",
    "\n",
    "col1 = []\n",
    "col2 = []\n",
    "col3 = []\n",
    "col4 = []\n",
    "\n",
    "for lis in data:\n",
    "    col1.append(lis[0])\n",
    "    col2.append(lis[1])\n",
    "    col3.append(lis[2])\n",
    "    col4.append(lis[3]) \n",
    "\n",
    "sales_data = {'volume_sold':col1,\n",
    "              '2015_margin':col2,\n",
    "              '2015_q1_sales':col3,\n",
    "              '2016_q1_sales':col4           \n",
    "              }"
   ]
  },
  {
   "cell_type": "code",
   "execution_count": 88,
   "metadata": {},
   "outputs": [
    {
     "data": {
      "text/plain": [
       "['18.4207604861',\n",
       " '4.77650991918',\n",
       " '16.6024006077',\n",
       " '4.29611149826',\n",
       " '8.15602328201',\n",
       " '5.00512242518',\n",
       " '14.60675',\n",
       " '4.45646649485',\n",
       " '5.04752965097',\n",
       " '5.38807023767']"
      ]
     },
     "execution_count": 88,
     "metadata": {},
     "output_type": "execute_result"
    }
   ],
   "source": [
    "sales_data['volume_sold'][0:10]"
   ]
  },
  {
   "cell_type": "markdown",
   "metadata": {},
   "source": [
    "**3.A Print out the first 10 items of the 'volume_sold' column.**"
   ]
  },
  {
   "cell_type": "markdown",
   "metadata": {},
   "source": [
    "### 4. Convert data from string to float\n",
    "\n",
    "As you can see, the data is still in string format (which is how it is read in from the csv). For each key:value pair in our ```sales_data``` dictionary, convert the values (column data) from string values to float values."
   ]
  },
  {
   "cell_type": "code",
   "execution_count": 89,
   "metadata": {},
   "outputs": [],
   "source": [
    "for key, lis in sales_data.items():\n",
    "    for i in range(0,len(lis)):\n",
    "        lis[i] = float(lis[i])"
   ]
  },
  {
   "cell_type": "code",
   "execution_count": 90,
   "metadata": {},
   "outputs": [
    {
     "data": {
      "text/plain": [
       "[18.4207604861,\n",
       " 4.77650991918,\n",
       " 16.6024006077,\n",
       " 4.29611149826,\n",
       " 8.15602328201,\n",
       " 5.00512242518,\n",
       " 14.60675,\n",
       " 4.45646649485,\n",
       " 5.04752965097,\n",
       " 5.38807023767]"
      ]
     },
     "execution_count": 90,
     "metadata": {},
     "output_type": "execute_result"
    }
   ],
   "source": [
    "sales_data['volume_sold'][0:10]"
   ]
  },
  {
   "cell_type": "markdown",
   "metadata": {},
   "source": [
    "### 5. Write function to print summary statistics\n",
    "\n",
    "Now write a function to print out summary statistics for the data.\n",
    "\n",
    "Your function should:\n",
    "\n",
    "- Accept two arguments: the column name and the data that column is associated with.\n",
    "- Print out information, clearly labeling each item when you print it:\n",
    "    1. Print out the column name\n",
    "    2. Print the mean of the data using ```np.mean()```\n",
    "    3. Print out the median of the data using ```np.median()```\n",
    "    4. Print out the mode of the **rounded data** using ```stats.mode()```\n",
    "    5. Print out the variance of the data using ```np.var()```\n",
    "    6. Print out the standard deviation of the data using ```np.std()```\n",
    "    \n",
    "Remember that you will need to convert the numeric data from these function to strings by wrapping them in the ```str()``` function."
   ]
  },
  {
   "cell_type": "code",
   "execution_count": 134,
   "metadata": {
    "scrolled": true
   },
   "outputs": [],
   "source": [
    "# A:\n",
    "def summary(col_name, data):\n",
    "    print(f\"Columns Name: {col_name}\")\n",
    "    print(f\"Mean: {np.mean(data)}\")\n",
    "    print(f\"Median: {np.median(data)}\")\n",
    "    print(f\"Mode: {stats.mode([int(float(i)) for i in data])}\")\n",
    "    print(f\"Variance: {np.var(data)}\")\n",
    "    print(f\"Standard Deviation: {np.std(data)}\")"
   ]
  },
  {
   "cell_type": "markdown",
   "metadata": {},
   "source": [
    "**5.A Using your function, print the summary statistics for `volume_sold`.**"
   ]
  },
  {
   "cell_type": "code",
   "execution_count": 135,
   "metadata": {},
   "outputs": [
    {
     "name": "stdout",
     "output_type": "stream",
     "text": [
      "Columns Name: volume_sold\n",
      "Mean: 10.0186840789888\n",
      "Median: 8.16634551564\n",
      "Mode: ModeResult(mode=array([7]), count=array([26]))\n",
      "Variance: 84.12996520049938\n",
      "Standard Deviation: 9.172238832504275\n"
     ]
    }
   ],
   "source": [
    "# A:\n",
    "summary('volume_sold',sales_data['volume_sold'])"
   ]
  },
  {
   "cell_type": "markdown",
   "metadata": {},
   "source": [
    "**5.B Using your function, print the summary statistics for `2015_margin`.**"
   ]
  },
  {
   "cell_type": "code",
   "execution_count": 153,
   "metadata": {},
   "outputs": [
    {
     "name": "stdout",
     "output_type": "stream",
     "text": [
      "Columns Name: 2015_margin\n",
      "Mean: 46.8588951379235\n",
      "Median: 36.5621438181\n",
      "Mode: ModeResult(mode=array([35]), count=array([9]))\n",
      "Variance: 2016.0616629583997\n",
      "Standard Deviation: 44.90057530765502\n"
     ]
    }
   ],
   "source": [
    "# A:\n",
    "summary('2015_margin',sales_data['2015_margin'])"
   ]
  },
  {
   "cell_type": "markdown",
   "metadata": {},
   "source": [
    "**5.C Using your function, print the summary statistics for `2015_q1_sales`.**"
   ]
  },
  {
   "cell_type": "code",
   "execution_count": 154,
   "metadata": {},
   "outputs": [
    {
     "name": "stdout",
     "output_type": "stream",
     "text": [
      "Columns Name: 2015_q1_sales\n",
      "Mean: 154631.66820000001\n",
      "Median: 104199.41\n",
      "Mode: ModeResult(mode=array([4151]), count=array([1]))\n",
      "Variance: 47430301462.331505\n",
      "Standard Deviation: 217784.98906566427\n"
     ]
    }
   ],
   "source": [
    "# A:\n",
    "summary('2015_q1_sales',sales_data['2015_q1_sales'])"
   ]
  },
  {
   "cell_type": "markdown",
   "metadata": {},
   "source": [
    "**5.D Using your function, print the summary statistics for `2016_q1_sales`.**"
   ]
  },
  {
   "cell_type": "code",
   "execution_count": 155,
   "metadata": {},
   "outputs": [
    {
     "name": "stdout",
     "output_type": "stream",
     "text": [
      "Columns Name: 2016_q1_sales\n",
      "Mean: 154699.17875\n",
      "Median: 103207.20000000001\n",
      "Mode: ModeResult(mode=array([3536]), count=array([1]))\n",
      "Variance: 47139411653.44524\n",
      "Standard Deviation: 217116.12481215032\n"
     ]
    }
   ],
   "source": [
    "# A:\n",
    "summary('2016_q1_sales',sales_data['2016_q1_sales'])"
   ]
  },
  {
   "cell_type": "markdown",
   "metadata": {},
   "source": [
    "### 6. [Bonus] Plot the distributions\n",
    "\n",
    "We've provided a plotting function below called ```distribution_plotter()```. It takes two arguments, the name of the column and the data that column is associated with.\n",
    "\n",
    "In individual cells, plot the distributions for each of the four columns. Does the data appear skewed? Symmetrical? If skewed, what would be your hypothesis for why?"
   ]
  },
  {
   "cell_type": "code",
   "execution_count": 157,
   "metadata": {},
   "outputs": [],
   "source": [
    "def distribution_plotter(column, data_set):\n",
    "    data = data_set[column]\n",
    "    sns.set(rc={\"figure.figsize\": (10, 7)})\n",
    "    sns.set(color_codes=True)\n",
    "    sns.set(style=\"white\", palette=\"muted\")\n",
    "    dist = sns.distplot(data, hist_kws={'alpha':0.2}, kde_kws={'linewidth':5})\n",
    "    dist.set_title('Distribution of ' + column + '\\n', fontsize=16)"
   ]
  },
  {
   "cell_type": "code",
   "execution_count": 159,
   "metadata": {},
   "outputs": [
    {
     "data": {
      "image/png": "[encoded data removed]",
      "text/plain": [
       "<Figure size 720x504 with 1 Axes>"
      ]
     },
     "metadata": {},
     "output_type": "display_data"
    }
   ],
   "source": [
    "# A:\n",
    "distribution_plotter('volume_sold',sales_data)"
   ]
  },
  {
   "cell_type": "code",
   "execution_count": 163,
   "metadata": {},
   "outputs": [
    {
     "data": {
      "image/png": "[encoded data removed]",
      "text/plain": [
       "<Figure size 720x504 with 1 Axes>"
      ]
     },
     "metadata": {},
     "output_type": "display_data"
    }
   ],
   "source": [
    "# A:\n",
    "distribution_plotter('2015_margin',sales_data)"
   ]
  },
  {
   "cell_type": "code",
   "execution_count": 165,
   "metadata": {},
   "outputs": [
    {
     "data": {
      "image/png": "[encoded data removed]",
      "text/plain": [
       "<Figure size 720x504 with 1 Axes>"
      ]
     },
     "metadata": {},
     "output_type": "display_data"
    }
   ],
   "source": [
    "# A:\n",
    "distribution_plotter('2015_q1_sales',sales_data)"
   ]
  },
  {
   "cell_type": "code",
   "execution_count": 166,
   "metadata": {},
   "outputs": [
    {
     "data": {
      "image/png": "[encoded data removed]",
      "text/plain": [
       "<Figure size 720x504 with 1 Axes>"
      ]
     },
     "metadata": {},
     "output_type": "display_data"
    }
   ],
   "source": [
    "# A:\n",
    "distribution_plotter('2016_q1_sales',sales_data)"
   ]
  },
  {
   "cell_type": "markdown",
   "metadata": {},
   "source": [
    "---\n",
    "\n",
    "### An aside on plotting and visual elements..\n",
    "\n",
    "Check out this example:\n",
    "\n",
    "```python\n",
    "   1.  sns.set(rc={\"figure.figsize\": (10, 7)})\n",
    "   2.  sns.set_style(\"white\")\n",
    "   3.  dist = sns.distplot(data, hist_kws={'alpha':0.2}, kde_kws={'linewidth':5})\n",
    "   4.  dist.set_title(\"I'm a fairly cool plot!\", fontsize=16)\n",
    "```\n",
    "\n",
    "**1.** With Seaborn (the `sns` object in context), the `sns.set()` method with `{\"figure.figsize\": (10, 7)}` parameter will control the size of the plot based on aspect ratio and scale.<br><br>\n",
    "**2.** Seaborn comes with a variety of styles.  They can be set using `sns.set_style([The style])`.  There are five preset seaborn themes: `darkgrid`, `whitegrid`, `dark`, `white`, and ticks. They are each suited to different applications and personal preferences. The default theme is `darkgrid`. <br><br>\n",
    "**3.** There are plenty of different types of plot types available.  For getting sense of the distribution of your data, `sns.distplot()` is a great choice.  The first paramter `data` is the only required parameter.  The other parameters in our example on line 3, control the visual aesthetics.  You can read more about [controling the visual aesthetics](https://stanford.edu/~mwaskom/software/seaborn/tutorial/aesthetics.html) of Seaborn.\n",
    "<br><br>\n",
    "**4.** Notice on line 3, we've assigned a reference to sns.distplot(), to a variable called `dist`.  In order to control certain visual elements, it's necessary to have a reference to the specific instance that initially references the plotting function. In this case, with the plot refernece to \"distplot\", it's possible to set the title using `.set_title`."
   ]
  },
  {
   "cell_type": "markdown",
   "metadata": {},
   "source": [
    "### 7. [Bonus]:  Explore the `seaborn` gallery\n",
    "\n",
    "Explore the [Seaborn Gallery](https://stanford.edu/~mwaskom/software/seaborn/examples/index.html), and attempt to adapt 2-3 other plot methods using our `sales_data`.  This should give you a little context and familliarity with some of the most common plotting functions in Seaborn.  \n",
    "\n",
    "Beyond this we will be diving into `matplotlib`, `pandas`, and other plotting packages.  The best way to get good at data visualization is practicing.  Each package has it's own pitfalls and conventions, but many are just wrappers around matplotlib at a low level so it's possible to use them together.  \n",
    "\n",
    "Generally, `seaborn` and `pandas` will get you most of the way there, and then using `matplotlib` can help you \"tweak\" the finer aesthetics of the output.\n",
    "\n",
    "**Note:** Seaborn does not like to work with lists typically, so you may need to convert your data to an array using ['`np.array()`'](https://docs.scipy.org/doc/numpy/reference/generated/numpy.array.html) in order for Seaborn to accept it"
   ]
  },
  {
   "cell_type": "code",
   "execution_count": null,
   "metadata": {
    "collapsed": true
   },
   "outputs": [],
   "source": []
  }
 ],
 "metadata": {
  "anaconda-cloud": {},
  "kernelspec": {
   "display_name": "Python 3",
   "language": "python",
   "name": "python3"
  },
  "language_info": {
   "codemirror_mode": {
    "name": "ipython",
    "version": 3
   },
   "file_extension": ".py",
   "mimetype": "text/x-python",
   "name": "python",
   "nbconvert_exporter": "python",
   "pygments_lexer": "ipython3",
   "version": "3.7.4"
  }
 },
 "nbformat": 4,
 "nbformat_minor": 1
}
