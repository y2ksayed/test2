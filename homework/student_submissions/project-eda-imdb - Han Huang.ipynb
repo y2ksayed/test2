{
 "cells": [
  {
   "cell_type": "markdown",
   "metadata": {},
   "source": [
    "<img src=\"http://imgur.com/1ZcRyrc.png\" style=\"float: left; margin: 20px; height: 55px\">\n",
    "\n",
    "# Project 2: Analyzing IMDb Data\n",
    "\n",
    "_Author: Kevin Markham (DC)_\n",
    "\n",
    "---"
   ]
  },
  {
   "cell_type": "markdown",
   "metadata": {},
   "source": [
    "For project two, you will complete a series of exercises exploring movie rating data from IMDb.\n",
    "\n",
    "For these exercises, you will be conducting basic exploratory data analysis on IMDB's movie data, looking to answer such questions as:\n",
    "\n",
    "What is the average rating per genre?\n",
    "How many different actors are in a movie?\n",
    "\n",
    "This process will help you practice your data analysis skills while becoming comfortable with Pandas."
   ]
  },
  {
   "cell_type": "markdown",
   "metadata": {},
   "source": [
    "## Basic level"
   ]
  },
  {
   "cell_type": "code",
   "execution_count": 1,
   "metadata": {},
   "outputs": [],
   "source": [
    "from IPython.display import HTML\n",
    "\n",
    "import pandas as pd\n",
    "import numpy as np\n",
    "import seaborn as sns\n",
    "import matplotlib.pyplot as plt\n",
    "\n",
    "plt.style.use('fivethirtyeight')\n",
    "%matplotlib inline\n",
    "\n",
    "# Increase default figure and font sizes for easier viewing.\n",
    "plt.rcParams['figure.figsize'] = (8, 6)\n",
    "plt.rcParams['font.size'] = 14"
   ]
  },
  {
   "cell_type": "markdown",
   "metadata": {},
   "source": [
    "#### Read in 'imdb_1000.csv' and store it in a DataFrame named movies."
   ]
  },
  {
   "cell_type": "code",
   "execution_count": 2,
   "metadata": {},
   "outputs": [
    {
     "data": {
      "text/html": [
       "<div>\n",
       "<style scoped>\n",
       "    .dataframe tbody tr th:only-of-type {\n",
       "        vertical-align: middle;\n",
       "    }\n",
       "\n",
       "    .dataframe tbody tr th {\n",
       "        vertical-align: top;\n",
       "    }\n",
       "\n",
       "    .dataframe thead th {\n",
       "        text-align: right;\n",
       "    }\n",
       "</style>\n",
       "<table border=\"1\" class=\"dataframe\">\n",
       "  <thead>\n",
       "    <tr style=\"text-align: right;\">\n",
       "      <th></th>\n",
       "      <th>star_rating</th>\n",
       "      <th>title</th>\n",
       "      <th>content_rating</th>\n",
       "      <th>genre</th>\n",
       "      <th>duration</th>\n",
       "      <th>actors_list</th>\n",
       "    </tr>\n",
       "  </thead>\n",
       "  <tbody>\n",
       "    <tr>\n",
       "      <td>0</td>\n",
       "      <td>9.3</td>\n",
       "      <td>The Shawshank Redemption</td>\n",
       "      <td>R</td>\n",
       "      <td>Crime</td>\n",
       "      <td>142</td>\n",
       "      <td>[u'Tim Robbins', u'Morgan Freeman', u'Bob Gunt...</td>\n",
       "    </tr>\n",
       "    <tr>\n",
       "      <td>1</td>\n",
       "      <td>9.2</td>\n",
       "      <td>The Godfather</td>\n",
       "      <td>R</td>\n",
       "      <td>Crime</td>\n",
       "      <td>175</td>\n",
       "      <td>[u'Marlon Brando', u'Al Pacino', u'James Caan']</td>\n",
       "    </tr>\n",
       "    <tr>\n",
       "      <td>2</td>\n",
       "      <td>9.1</td>\n",
       "      <td>The Godfather: Part II</td>\n",
       "      <td>R</td>\n",
       "      <td>Crime</td>\n",
       "      <td>200</td>\n",
       "      <td>[u'Al Pacino', u'Robert De Niro', u'Robert Duv...</td>\n",
       "    </tr>\n",
       "    <tr>\n",
       "      <td>3</td>\n",
       "      <td>9.0</td>\n",
       "      <td>The Dark Knight</td>\n",
       "      <td>PG-13</td>\n",
       "      <td>Action</td>\n",
       "      <td>152</td>\n",
       "      <td>[u'Christian Bale', u'Heath Ledger', u'Aaron E...</td>\n",
       "    </tr>\n",
       "    <tr>\n",
       "      <td>4</td>\n",
       "      <td>8.9</td>\n",
       "      <td>Pulp Fiction</td>\n",
       "      <td>R</td>\n",
       "      <td>Crime</td>\n",
       "      <td>154</td>\n",
       "      <td>[u'John Travolta', u'Uma Thurman', u'Samuel L....</td>\n",
       "    </tr>\n",
       "  </tbody>\n",
       "</table>\n",
       "</div>"
      ],
      "text/plain": [
       "   star_rating                     title content_rating   genre  duration  \\\n",
       "0          9.3  The Shawshank Redemption              R   Crime       142   \n",
       "1          9.2             The Godfather              R   Crime       175   \n",
       "2          9.1    The Godfather: Part II              R   Crime       200   \n",
       "3          9.0           The Dark Knight          PG-13  Action       152   \n",
       "4          8.9              Pulp Fiction              R   Crime       154   \n",
       "\n",
       "                                         actors_list  \n",
       "0  [u'Tim Robbins', u'Morgan Freeman', u'Bob Gunt...  \n",
       "1    [u'Marlon Brando', u'Al Pacino', u'James Caan']  \n",
       "2  [u'Al Pacino', u'Robert De Niro', u'Robert Duv...  \n",
       "3  [u'Christian Bale', u'Heath Ledger', u'Aaron E...  \n",
       "4  [u'John Travolta', u'Uma Thurman', u'Samuel L....  "
      ]
     },
     "execution_count": 2,
     "metadata": {},
     "output_type": "execute_result"
    }
   ],
   "source": [
    "# For ease of execution I used df\n",
    "df = pd.read_csv('./imdb_1000.csv')\n",
    "df.head()"
   ]
  },
  {
   "cell_type": "markdown",
   "metadata": {},
   "source": [
    "#### Check the number of rows and columns."
   ]
  },
  {
   "cell_type": "code",
   "execution_count": 3,
   "metadata": {},
   "outputs": [
    {
     "data": {
      "text/plain": [
       "(979, 6)"
      ]
     },
     "execution_count": 3,
     "metadata": {},
     "output_type": "execute_result"
    }
   ],
   "source": [
    "# Rows followed by column counts\n",
    "df.shape"
   ]
  },
  {
   "cell_type": "markdown",
   "metadata": {},
   "source": [
    "#### Check the data type of each column."
   ]
  },
  {
   "cell_type": "code",
   "execution_count": 4,
   "metadata": {},
   "outputs": [
    {
     "data": {
      "text/plain": [
       "star_rating       float64\n",
       "title              object\n",
       "content_rating     object\n",
       "genre              object\n",
       "duration            int64\n",
       "actors_list        object\n",
       "dtype: object"
      ]
     },
     "execution_count": 4,
     "metadata": {},
     "output_type": "execute_result"
    }
   ],
   "source": [
    "df.dtypes"
   ]
  },
  {
   "cell_type": "markdown",
   "metadata": {},
   "source": [
    "#### Calculate the average movie duration."
   ]
  },
  {
   "cell_type": "code",
   "execution_count": 5,
   "metadata": {},
   "outputs": [
    {
     "name": "stdout",
     "output_type": "stream",
     "text": [
      "The average length of a movie is 120.98 minutes.\n"
     ]
    }
   ],
   "source": [
    "print('The average length of a movie is ' + format(round(df.duration.mean(),2)) +  ' minutes.')"
   ]
  },
  {
   "cell_type": "markdown",
   "metadata": {},
   "source": [
    "#### Sort the DataFrame by duration to find the shortest and longest movies."
   ]
  },
  {
   "cell_type": "code",
   "execution_count": 6,
   "metadata": {},
   "outputs": [
    {
     "data": {
      "text/html": [
       "<div>\n",
       "<style scoped>\n",
       "    .dataframe tbody tr th:only-of-type {\n",
       "        vertical-align: middle;\n",
       "    }\n",
       "\n",
       "    .dataframe tbody tr th {\n",
       "        vertical-align: top;\n",
       "    }\n",
       "\n",
       "    .dataframe thead th {\n",
       "        text-align: right;\n",
       "    }\n",
       "</style>\n",
       "<table border=\"1\" class=\"dataframe\">\n",
       "  <thead>\n",
       "    <tr style=\"text-align: right;\">\n",
       "      <th></th>\n",
       "      <th>star_rating</th>\n",
       "      <th>title</th>\n",
       "      <th>content_rating</th>\n",
       "      <th>genre</th>\n",
       "      <th>duration</th>\n",
       "      <th>actors_list</th>\n",
       "    </tr>\n",
       "  </thead>\n",
       "  <tbody>\n",
       "    <tr>\n",
       "      <td>476</td>\n",
       "      <td>7.8</td>\n",
       "      <td>Hamlet</td>\n",
       "      <td>PG-13</td>\n",
       "      <td>Drama</td>\n",
       "      <td>242</td>\n",
       "      <td>[u'Kenneth Branagh', u'Julie Christie', u'Dere...</td>\n",
       "    </tr>\n",
       "    <tr>\n",
       "      <td>157</td>\n",
       "      <td>8.2</td>\n",
       "      <td>Gone with the Wind</td>\n",
       "      <td>G</td>\n",
       "      <td>Drama</td>\n",
       "      <td>238</td>\n",
       "      <td>[u'Clark Gable', u'Vivien Leigh', u'Thomas Mit...</td>\n",
       "    </tr>\n",
       "    <tr>\n",
       "      <td>78</td>\n",
       "      <td>8.4</td>\n",
       "      <td>Once Upon a Time in America</td>\n",
       "      <td>R</td>\n",
       "      <td>Crime</td>\n",
       "      <td>229</td>\n",
       "      <td>[u'Robert De Niro', u'James Woods', u'Elizabet...</td>\n",
       "    </tr>\n",
       "    <tr>\n",
       "      <td>142</td>\n",
       "      <td>8.3</td>\n",
       "      <td>Lagaan: Once Upon a Time in India</td>\n",
       "      <td>PG</td>\n",
       "      <td>Adventure</td>\n",
       "      <td>224</td>\n",
       "      <td>[u'Aamir Khan', u'Gracy Singh', u'Rachel Shell...</td>\n",
       "    </tr>\n",
       "    <tr>\n",
       "      <td>445</td>\n",
       "      <td>7.9</td>\n",
       "      <td>The Ten Commandments</td>\n",
       "      <td>APPROVED</td>\n",
       "      <td>Adventure</td>\n",
       "      <td>220</td>\n",
       "      <td>[u'Charlton Heston', u'Yul Brynner', u'Anne Ba...</td>\n",
       "    </tr>\n",
       "  </tbody>\n",
       "</table>\n",
       "</div>"
      ],
      "text/plain": [
       "     star_rating                              title content_rating      genre  \\\n",
       "476          7.8                             Hamlet          PG-13      Drama   \n",
       "157          8.2                 Gone with the Wind              G      Drama   \n",
       "78           8.4        Once Upon a Time in America              R      Crime   \n",
       "142          8.3  Lagaan: Once Upon a Time in India             PG  Adventure   \n",
       "445          7.9               The Ten Commandments       APPROVED  Adventure   \n",
       "\n",
       "     duration                                        actors_list  \n",
       "476       242  [u'Kenneth Branagh', u'Julie Christie', u'Dere...  \n",
       "157       238  [u'Clark Gable', u'Vivien Leigh', u'Thomas Mit...  \n",
       "78        229  [u'Robert De Niro', u'James Woods', u'Elizabet...  \n",
       "142       224  [u'Aamir Khan', u'Gracy Singh', u'Rachel Shell...  \n",
       "445       220  [u'Charlton Heston', u'Yul Brynner', u'Anne Ba...  "
      ]
     },
     "execution_count": 6,
     "metadata": {},
     "output_type": "execute_result"
    }
   ],
   "source": [
    "# sorted by the longest movies (first five results shown)\n",
    "df.sort_values(by=['duration'], ascending=False).head(5)"
   ]
  },
  {
   "cell_type": "code",
   "execution_count": 7,
   "metadata": {},
   "outputs": [
    {
     "data": {
      "text/html": [
       "<div>\n",
       "<style scoped>\n",
       "    .dataframe tbody tr th:only-of-type {\n",
       "        vertical-align: middle;\n",
       "    }\n",
       "\n",
       "    .dataframe tbody tr th {\n",
       "        vertical-align: top;\n",
       "    }\n",
       "\n",
       "    .dataframe thead th {\n",
       "        text-align: right;\n",
       "    }\n",
       "</style>\n",
       "<table border=\"1\" class=\"dataframe\">\n",
       "  <thead>\n",
       "    <tr style=\"text-align: right;\">\n",
       "      <th></th>\n",
       "      <th>star_rating</th>\n",
       "      <th>title</th>\n",
       "      <th>content_rating</th>\n",
       "      <th>genre</th>\n",
       "      <th>duration</th>\n",
       "      <th>actors_list</th>\n",
       "    </tr>\n",
       "  </thead>\n",
       "  <tbody>\n",
       "    <tr>\n",
       "      <td>389</td>\n",
       "      <td>8.0</td>\n",
       "      <td>Freaks</td>\n",
       "      <td>UNRATED</td>\n",
       "      <td>Drama</td>\n",
       "      <td>64</td>\n",
       "      <td>[u'Wallace Ford', u'Leila Hyams', u'Olga Bacla...</td>\n",
       "    </tr>\n",
       "    <tr>\n",
       "      <td>338</td>\n",
       "      <td>8.0</td>\n",
       "      <td>Battleship Potemkin</td>\n",
       "      <td>UNRATED</td>\n",
       "      <td>History</td>\n",
       "      <td>66</td>\n",
       "      <td>[u'Aleksandr Antonov', u'Vladimir Barsky', u'G...</td>\n",
       "    </tr>\n",
       "    <tr>\n",
       "      <td>258</td>\n",
       "      <td>8.1</td>\n",
       "      <td>The Cabinet of Dr. Caligari</td>\n",
       "      <td>UNRATED</td>\n",
       "      <td>Crime</td>\n",
       "      <td>67</td>\n",
       "      <td>[u'Werner Krauss', u'Conrad Veidt', u'Friedric...</td>\n",
       "    </tr>\n",
       "    <tr>\n",
       "      <td>293</td>\n",
       "      <td>8.1</td>\n",
       "      <td>Duck Soup</td>\n",
       "      <td>PASSED</td>\n",
       "      <td>Comedy</td>\n",
       "      <td>68</td>\n",
       "      <td>[u'Groucho Marx', u'Harpo Marx', u'Chico Marx']</td>\n",
       "    </tr>\n",
       "    <tr>\n",
       "      <td>88</td>\n",
       "      <td>8.4</td>\n",
       "      <td>The Kid</td>\n",
       "      <td>NOT RATED</td>\n",
       "      <td>Comedy</td>\n",
       "      <td>68</td>\n",
       "      <td>[u'Charles Chaplin', u'Edna Purviance', u'Jack...</td>\n",
       "    </tr>\n",
       "  </tbody>\n",
       "</table>\n",
       "</div>"
      ],
      "text/plain": [
       "     star_rating                        title content_rating    genre  \\\n",
       "389          8.0                       Freaks        UNRATED    Drama   \n",
       "338          8.0          Battleship Potemkin        UNRATED  History   \n",
       "258          8.1  The Cabinet of Dr. Caligari        UNRATED    Crime   \n",
       "293          8.1                    Duck Soup         PASSED   Comedy   \n",
       "88           8.4                      The Kid      NOT RATED   Comedy   \n",
       "\n",
       "     duration                                        actors_list  \n",
       "389        64  [u'Wallace Ford', u'Leila Hyams', u'Olga Bacla...  \n",
       "338        66  [u'Aleksandr Antonov', u'Vladimir Barsky', u'G...  \n",
       "258        67  [u'Werner Krauss', u'Conrad Veidt', u'Friedric...  \n",
       "293        68    [u'Groucho Marx', u'Harpo Marx', u'Chico Marx']  \n",
       "88         68  [u'Charles Chaplin', u'Edna Purviance', u'Jack...  "
      ]
     },
     "execution_count": 7,
     "metadata": {},
     "output_type": "execute_result"
    }
   ],
   "source": [
    "# sorted by the shortest movies (last five results shown)\n",
    "df.sort_values(by=['duration'], ascending=True).head(5)"
   ]
  },
  {
   "cell_type": "markdown",
   "metadata": {},
   "source": [
    "#### Create a histogram of duration, choosing an \"appropriate\" number of bins."
   ]
  },
  {
   "cell_type": "code",
   "execution_count": 60,
   "metadata": {},
   "outputs": [
    {
     "data": {
      "image/png": "[encoded data removed]",
      "text/plain": [
       "<Figure size 432x288 with 1 Axes>"
      ]
     },
     "metadata": {
      "needs_background": "light"
     },
     "output_type": "display_data"
    }
   ],
   "source": [
    "df.duration.plot(kind='hist', bins=20);"
   ]
  },
  {
   "cell_type": "markdown",
   "metadata": {},
   "source": [
    "#### Use a box plot to display that same data."
   ]
  },
  {
   "cell_type": "code",
   "execution_count": 9,
   "metadata": {},
   "outputs": [
    {
     "data": {
      "text/plain": [
       "<matplotlib.axes._subplots.AxesSubplot at 0x1a20f4cf90>"
      ]
     },
     "execution_count": 9,
     "metadata": {},
     "output_type": "execute_result"
    },
    {
     "data": {
      "image/png": "[encoded data removed]",
      "text/plain": [
       "<Figure size 432x288 with 1 Axes>"
      ]
     },
     "metadata": {
      "needs_background": "light"
     },
     "output_type": "display_data"
    }
   ],
   "source": [
    "df.drop('duration', axis=1).boxplot()"
   ]
  },
  {
   "cell_type": "markdown",
   "metadata": {},
   "source": [
    "## Intermediate level"
   ]
  },
  {
   "cell_type": "markdown",
   "metadata": {},
   "source": [
    "#### Count how many movies have each of the content ratings."
   ]
  },
  {
   "cell_type": "code",
   "execution_count": 10,
   "metadata": {},
   "outputs": [
    {
     "data": {
      "text/html": [
       "<div>\n",
       "<style scoped>\n",
       "    .dataframe tbody tr th:only-of-type {\n",
       "        vertical-align: middle;\n",
       "    }\n",
       "\n",
       "    .dataframe tbody tr th {\n",
       "        vertical-align: top;\n",
       "    }\n",
       "\n",
       "    .dataframe thead th {\n",
       "        text-align: right;\n",
       "    }\n",
       "</style>\n",
       "<table border=\"1\" class=\"dataframe\">\n",
       "  <thead>\n",
       "    <tr style=\"text-align: right;\">\n",
       "      <th></th>\n",
       "      <th>star_rating</th>\n",
       "      <th>title</th>\n",
       "      <th>content_rating</th>\n",
       "      <th>genre</th>\n",
       "      <th>duration</th>\n",
       "      <th>actors_list</th>\n",
       "    </tr>\n",
       "  </thead>\n",
       "  <tbody>\n",
       "    <tr>\n",
       "      <td>466</td>\n",
       "      <td>7.9</td>\n",
       "      <td>The Girl with the Dragon Tattoo</td>\n",
       "      <td>R</td>\n",
       "      <td>Crime</td>\n",
       "      <td>158</td>\n",
       "      <td>[u'Daniel Craig', u'Rooney Mara', u'Christophe...</td>\n",
       "    </tr>\n",
       "    <tr>\n",
       "      <td>482</td>\n",
       "      <td>7.8</td>\n",
       "      <td>The Girl with the Dragon Tattoo</td>\n",
       "      <td>R</td>\n",
       "      <td>Crime</td>\n",
       "      <td>152</td>\n",
       "      <td>[u'Michael Nyqvist', u'Noomi Rapace', u'Ewa Fr...</td>\n",
       "    </tr>\n",
       "    <tr>\n",
       "      <td>662</td>\n",
       "      <td>7.7</td>\n",
       "      <td>True Grit</td>\n",
       "      <td>PG-13</td>\n",
       "      <td>Adventure</td>\n",
       "      <td>110</td>\n",
       "      <td>[u'Jeff Bridges', u'Matt Damon', u'Hailee Stei...</td>\n",
       "    </tr>\n",
       "    <tr>\n",
       "      <td>678</td>\n",
       "      <td>7.7</td>\n",
       "      <td>Les Miserables</td>\n",
       "      <td>PG-13</td>\n",
       "      <td>Drama</td>\n",
       "      <td>158</td>\n",
       "      <td>[u'Hugh Jackman', u'Russell Crowe', u'Anne Hat...</td>\n",
       "    </tr>\n",
       "    <tr>\n",
       "      <td>703</td>\n",
       "      <td>7.6</td>\n",
       "      <td>Dracula</td>\n",
       "      <td>APPROVED</td>\n",
       "      <td>Horror</td>\n",
       "      <td>85</td>\n",
       "      <td>[u'Bela Lugosi', u'Helen Chandler', u'David Ma...</td>\n",
       "    </tr>\n",
       "    <tr>\n",
       "      <td>905</td>\n",
       "      <td>7.5</td>\n",
       "      <td>Dracula</td>\n",
       "      <td>R</td>\n",
       "      <td>Horror</td>\n",
       "      <td>128</td>\n",
       "      <td>[u'Gary Oldman', u'Winona Ryder', u'Anthony Ho...</td>\n",
       "    </tr>\n",
       "    <tr>\n",
       "      <td>924</td>\n",
       "      <td>7.5</td>\n",
       "      <td>Les Miserables</td>\n",
       "      <td>PG-13</td>\n",
       "      <td>Crime</td>\n",
       "      <td>134</td>\n",
       "      <td>[u'Liam Neeson', u'Geoffrey Rush', u'Uma Thurm...</td>\n",
       "    </tr>\n",
       "    <tr>\n",
       "      <td>936</td>\n",
       "      <td>7.4</td>\n",
       "      <td>True Grit</td>\n",
       "      <td>NaN</td>\n",
       "      <td>Adventure</td>\n",
       "      <td>128</td>\n",
       "      <td>[u'John Wayne', u'Kim Darby', u'Glen Campbell']</td>\n",
       "    </tr>\n",
       "  </tbody>\n",
       "</table>\n",
       "</div>"
      ],
      "text/plain": [
       "     star_rating                            title content_rating      genre  \\\n",
       "466          7.9  The Girl with the Dragon Tattoo              R      Crime   \n",
       "482          7.8  The Girl with the Dragon Tattoo              R      Crime   \n",
       "662          7.7                        True Grit          PG-13  Adventure   \n",
       "678          7.7                   Les Miserables          PG-13      Drama   \n",
       "703          7.6                          Dracula       APPROVED     Horror   \n",
       "905          7.5                          Dracula              R     Horror   \n",
       "924          7.5                   Les Miserables          PG-13      Crime   \n",
       "936          7.4                        True Grit            NaN  Adventure   \n",
       "\n",
       "     duration                                        actors_list  \n",
       "466       158  [u'Daniel Craig', u'Rooney Mara', u'Christophe...  \n",
       "482       152  [u'Michael Nyqvist', u'Noomi Rapace', u'Ewa Fr...  \n",
       "662       110  [u'Jeff Bridges', u'Matt Damon', u'Hailee Stei...  \n",
       "678       158  [u'Hugh Jackman', u'Russell Crowe', u'Anne Hat...  \n",
       "703        85  [u'Bela Lugosi', u'Helen Chandler', u'David Ma...  \n",
       "905       128  [u'Gary Oldman', u'Winona Ryder', u'Anthony Ho...  \n",
       "924       134  [u'Liam Neeson', u'Geoffrey Rush', u'Uma Thurm...  \n",
       "936       128    [u'John Wayne', u'Kim Darby', u'Glen Campbell']  "
      ]
     },
     "execution_count": 10,
     "metadata": {},
     "output_type": "execute_result"
    }
   ],
   "source": [
    "# Check the titles of the movies for duplicates and spot check to see if they are actually different movies. They are. \n",
    "df[df['title'].map(df['title'].value_counts()) > 1]"
   ]
  },
  {
   "cell_type": "code",
   "execution_count": 11,
   "metadata": {},
   "outputs": [
    {
     "data": {
      "text/plain": [
       "R            460\n",
       "PG-13        189\n",
       "PG           123\n",
       "NOT RATED     65\n",
       "APPROVED      47\n",
       "UNRATED       38\n",
       "G             32\n",
       "PASSED         7\n",
       "NC-17          7\n",
       "X              4\n",
       "GP             3\n",
       "TV-MA          1\n",
       "Name: content_rating, dtype: int64"
      ]
     },
     "execution_count": 11,
     "metadata": {},
     "output_type": "execute_result"
    }
   ],
   "source": [
    "# How many movies have each content rating \n",
    "df.content_rating.value_counts()"
   ]
  },
  {
   "cell_type": "markdown",
   "metadata": {},
   "source": [
    "#### Use a visualization to display that same data, including a title and x and y labels."
   ]
  },
  {
   "cell_type": "code",
   "execution_count": 12,
   "metadata": {},
   "outputs": [
    {
     "data": {
      "image/png": "[encoded data removed]",
      "text/plain": [
       "<Figure size 864x864 with 1 Axes>"
      ]
     },
     "metadata": {
      "needs_background": "light"
     },
     "output_type": "display_data"
    }
   ],
   "source": [
    "df.content_rating.value_counts().plot(kind='bar', figsize=(12,12));     # bigger plot by increasing age\n",
    "plt.xlabel('Content Rating');\n",
    "plt.ylabel('Number of Titles');\n",
    "plt.title('Number of Titles that have a particular Rating');"
   ]
  },
  {
   "cell_type": "markdown",
   "metadata": {},
   "source": [
    "#### Convert the following content ratings to \"UNRATED\": NOT RATED, APPROVED, PASSED, GP."
   ]
  },
  {
   "cell_type": "code",
   "execution_count": 13,
   "metadata": {},
   "outputs": [
    {
     "data": {
      "text/plain": [
       "R            460\n",
       "PG-13        189\n",
       "PG           123\n",
       "NOT RATED     65\n",
       "APPROVED      47\n",
       "UNRATED       38\n",
       "G             32\n",
       "PASSED         7\n",
       "NC-17          7\n",
       "X              4\n",
       "GP             3\n",
       "TV-MA          1\n",
       "Name: content_rating, dtype: int64"
      ]
     },
     "execution_count": 13,
     "metadata": {},
     "output_type": "execute_result"
    }
   ],
   "source": [
    "# check the current counts of ratings \n",
    "df.content_rating.value_counts()"
   ]
  },
  {
   "cell_type": "code",
   "execution_count": 14,
   "metadata": {},
   "outputs": [
    {
     "data": {
      "text/plain": [
       "R          460\n",
       "PG-13      189\n",
       "UNRATED    160\n",
       "PG         123\n",
       "G           32\n",
       "NC-17       12\n",
       "Name: content_rating, dtype: int64"
      ]
     },
     "execution_count": 14,
     "metadata": {},
     "output_type": "execute_result"
    }
   ],
   "source": [
    "# Do a search and replace on content ratings and assign to NOT RATED and creata new dataframe df1\n",
    "df1 = df.replace(['NOT RATED', 'APPROVED', 'PASSED', 'GP', 'X', 'TV-MA' ],['UNRATED', 'UNRATED', 'UNRATED', 'UNRATED', 'NC-17', 'NC-17'])\n",
    "df1.content_rating.value_counts()"
   ]
  },
  {
   "cell_type": "markdown",
   "metadata": {},
   "source": [
    "#### Convert the following content ratings to \"NC-17\": X, TV-MA."
   ]
  },
  {
   "cell_type": "code",
   "execution_count": 15,
   "metadata": {},
   "outputs": [],
   "source": [
    "# See answer above for the combined"
   ]
  },
  {
   "cell_type": "markdown",
   "metadata": {},
   "source": [
    "#### Count the number of missing values in each column."
   ]
  },
  {
   "cell_type": "code",
   "execution_count": 16,
   "metadata": {},
   "outputs": [
    {
     "data": {
      "text/plain": [
       "star_rating       0\n",
       "title             0\n",
       "content_rating    3\n",
       "genre             0\n",
       "duration          0\n",
       "actors_list       0\n",
       "dtype: int64"
      ]
     },
     "execution_count": 16,
     "metadata": {},
     "output_type": "execute_result"
    }
   ],
   "source": [
    "# There are three missing values\n",
    "df1.isnull().sum()"
   ]
  },
  {
   "cell_type": "markdown",
   "metadata": {},
   "source": [
    "#### If there are missing values: examine them, then fill them in with \"reasonable\" values."
   ]
  },
  {
   "cell_type": "code",
   "execution_count": 17,
   "metadata": {},
   "outputs": [
    {
     "data": {
      "text/html": [
       "<div>\n",
       "<style scoped>\n",
       "    .dataframe tbody tr th:only-of-type {\n",
       "        vertical-align: middle;\n",
       "    }\n",
       "\n",
       "    .dataframe tbody tr th {\n",
       "        vertical-align: top;\n",
       "    }\n",
       "\n",
       "    .dataframe thead th {\n",
       "        text-align: right;\n",
       "    }\n",
       "</style>\n",
       "<table border=\"1\" class=\"dataframe\">\n",
       "  <thead>\n",
       "    <tr style=\"text-align: right;\">\n",
       "      <th></th>\n",
       "      <th>star_rating</th>\n",
       "      <th>title</th>\n",
       "      <th>content_rating</th>\n",
       "      <th>genre</th>\n",
       "      <th>duration</th>\n",
       "      <th>actors_list</th>\n",
       "    </tr>\n",
       "  </thead>\n",
       "  <tbody>\n",
       "    <tr>\n",
       "      <td>187</td>\n",
       "      <td>8.2</td>\n",
       "      <td>Butch Cassidy and the Sundance Kid</td>\n",
       "      <td>NaN</td>\n",
       "      <td>Biography</td>\n",
       "      <td>110</td>\n",
       "      <td>[u'Paul Newman', u'Robert Redford', u'Katharin...</td>\n",
       "    </tr>\n",
       "    <tr>\n",
       "      <td>649</td>\n",
       "      <td>7.7</td>\n",
       "      <td>Where Eagles Dare</td>\n",
       "      <td>NaN</td>\n",
       "      <td>Action</td>\n",
       "      <td>158</td>\n",
       "      <td>[u'Richard Burton', u'Clint Eastwood', u'Mary ...</td>\n",
       "    </tr>\n",
       "    <tr>\n",
       "      <td>936</td>\n",
       "      <td>7.4</td>\n",
       "      <td>True Grit</td>\n",
       "      <td>NaN</td>\n",
       "      <td>Adventure</td>\n",
       "      <td>128</td>\n",
       "      <td>[u'John Wayne', u'Kim Darby', u'Glen Campbell']</td>\n",
       "    </tr>\n",
       "  </tbody>\n",
       "</table>\n",
       "</div>"
      ],
      "text/plain": [
       "     star_rating                               title content_rating  \\\n",
       "187          8.2  Butch Cassidy and the Sundance Kid            NaN   \n",
       "649          7.7                   Where Eagles Dare            NaN   \n",
       "936          7.4                           True Grit            NaN   \n",
       "\n",
       "         genre  duration                                        actors_list  \n",
       "187  Biography       110  [u'Paul Newman', u'Robert Redford', u'Katharin...  \n",
       "649     Action       158  [u'Richard Burton', u'Clint Eastwood', u'Mary ...  \n",
       "936  Adventure       128    [u'John Wayne', u'Kim Darby', u'Glen Campbell']  "
      ]
     },
     "execution_count": 17,
     "metadata": {},
     "output_type": "execute_result"
    }
   ],
   "source": [
    "# Yes. content_rating has three observations with null values\n",
    "df1[df1.content_rating.isnull()]"
   ]
  },
  {
   "cell_type": "code",
   "execution_count": 18,
   "metadata": {},
   "outputs": [],
   "source": [
    "# Change the missing values to 'UNRATED'\n",
    "df1.content_rating.fillna(value='UNRATED', inplace=True)"
   ]
  },
  {
   "cell_type": "code",
   "execution_count": 19,
   "metadata": {},
   "outputs": [
    {
     "data": {
      "text/html": [
       "<div>\n",
       "<style scoped>\n",
       "    .dataframe tbody tr th:only-of-type {\n",
       "        vertical-align: middle;\n",
       "    }\n",
       "\n",
       "    .dataframe tbody tr th {\n",
       "        vertical-align: top;\n",
       "    }\n",
       "\n",
       "    .dataframe thead th {\n",
       "        text-align: right;\n",
       "    }\n",
       "</style>\n",
       "<table border=\"1\" class=\"dataframe\">\n",
       "  <thead>\n",
       "    <tr style=\"text-align: right;\">\n",
       "      <th></th>\n",
       "      <th>star_rating</th>\n",
       "      <th>title</th>\n",
       "      <th>content_rating</th>\n",
       "      <th>genre</th>\n",
       "      <th>duration</th>\n",
       "      <th>actors_list</th>\n",
       "    </tr>\n",
       "  </thead>\n",
       "  <tbody>\n",
       "  </tbody>\n",
       "</table>\n",
       "</div>"
      ],
      "text/plain": [
       "Empty DataFrame\n",
       "Columns: [star_rating, title, content_rating, genre, duration, actors_list]\n",
       "Index: []"
      ]
     },
     "execution_count": 19,
     "metadata": {},
     "output_type": "execute_result"
    }
   ],
   "source": [
    "# check to see that there are no missing values\n",
    "df1[df1.content_rating.isnull()]"
   ]
  },
  {
   "cell_type": "code",
   "execution_count": 20,
   "metadata": {},
   "outputs": [
    {
     "data": {
      "text/plain": [
       "R          460\n",
       "PG-13      189\n",
       "UNRATED    163\n",
       "PG         123\n",
       "G           32\n",
       "NC-17       12\n",
       "Name: content_rating, dtype: int64"
      ]
     },
     "execution_count": 20,
     "metadata": {},
     "output_type": "execute_result"
    }
   ],
   "source": [
    "# check that the UNRATED count has gone up by 3\n",
    "df1.content_rating.value_counts()"
   ]
  },
  {
   "cell_type": "markdown",
   "metadata": {},
   "source": [
    "#### Calculate the average star rating for movies 2 hours or longer, and compare that with the average star rating for movies shorter than 2 hours."
   ]
  },
  {
   "cell_type": "code",
   "execution_count": 21,
   "metadata": {},
   "outputs": [
    {
     "data": {
      "text/plain": [
       "7.6    124\n",
       "7.8    116\n",
       "7.7    113\n",
       "7.5    108\n",
       "8.1    103\n",
       "8.0     97\n",
       "7.9     75\n",
       "8.2     51\n",
       "7.4     49\n",
       "8.3     43\n",
       "8.4     37\n",
       "8.5     23\n",
       "8.6     15\n",
       "8.7     10\n",
       "8.9      6\n",
       "8.8      5\n",
       "9.3      1\n",
       "9.2      1\n",
       "9.1      1\n",
       "9.0      1\n",
       "Name: star_rating, dtype: int64"
      ]
     },
     "execution_count": 21,
     "metadata": {},
     "output_type": "execute_result"
    }
   ],
   "source": [
    "df1.star_rating.value_counts()"
   ]
  },
  {
   "cell_type": "code",
   "execution_count": 22,
   "metadata": {},
   "outputs": [
    {
     "name": "stdout",
     "output_type": "stream",
     "text": [
      "Average Start Rating for movies less than 120 minutes: 7.838666666666657\n"
     ]
    }
   ],
   "source": [
    "print(\"Average Start Rating for movies less than 120 minutes: {}\".format(df1[df1.duration < 120].star_rating.mean()))"
   ]
  },
  {
   "cell_type": "code",
   "execution_count": 23,
   "metadata": {},
   "outputs": [
    {
     "name": "stdout",
     "output_type": "stream",
     "text": [
      "Average Start Rating for movies greater than or equal to 120 minutes: 7.948898678414082\n"
     ]
    }
   ],
   "source": [
    "print(\"Average Start Rating for movies greater than or equal to 120 minutes: {}\".format(df1[df1.duration >= 120].star_rating.mean()))"
   ]
  },
  {
   "cell_type": "markdown",
   "metadata": {},
   "source": [
    "#### Use a visualization to detect whether there is a relationship between duration and star rating."
   ]
  },
  {
   "cell_type": "code",
   "execution_count": 24,
   "metadata": {},
   "outputs": [
    {
     "data": {
      "image/png": "[encoded data removed]",
      "text/plain": [
       "<Figure size 1080x504 with 1 Axes>"
      ]
     },
     "metadata": {
      "needs_background": "light"
     },
     "output_type": "display_data"
    }
   ],
   "source": [
    "df.plot(x='duration', y='star_rating', kind='scatter', \n",
    "           color='dodgerblue', figsize=(15,7), s=100);"
   ]
  },
  {
   "cell_type": "code",
   "execution_count": 25,
   "metadata": {},
   "outputs": [
    {
     "data": {
      "text/html": [
       "<div>\n",
       "<style scoped>\n",
       "    .dataframe tbody tr th:only-of-type {\n",
       "        vertical-align: middle;\n",
       "    }\n",
       "\n",
       "    .dataframe tbody tr th {\n",
       "        vertical-align: top;\n",
       "    }\n",
       "\n",
       "    .dataframe thead th {\n",
       "        text-align: right;\n",
       "    }\n",
       "</style>\n",
       "<table border=\"1\" class=\"dataframe\">\n",
       "  <thead>\n",
       "    <tr style=\"text-align: right;\">\n",
       "      <th></th>\n",
       "      <th>star_rating</th>\n",
       "      <th>duration</th>\n",
       "    </tr>\n",
       "  </thead>\n",
       "  <tbody>\n",
       "    <tr>\n",
       "      <td>star_rating</td>\n",
       "      <td>1.000000</td>\n",
       "      <td>0.227149</td>\n",
       "    </tr>\n",
       "    <tr>\n",
       "      <td>duration</td>\n",
       "      <td>0.227149</td>\n",
       "      <td>1.000000</td>\n",
       "    </tr>\n",
       "  </tbody>\n",
       "</table>\n",
       "</div>"
      ],
      "text/plain": [
       "             star_rating  duration\n",
       "star_rating     1.000000  0.227149\n",
       "duration        0.227149  1.000000"
      ]
     },
     "execution_count": 25,
     "metadata": {},
     "output_type": "execute_result"
    }
   ],
   "source": [
    "# Check correlation. There is no meaningful correlation except perhaps on the outer outliers\n",
    "df.corr()"
   ]
  },
  {
   "cell_type": "markdown",
   "metadata": {},
   "source": [
    "#### Calculate the average duration for each genre."
   ]
  },
  {
   "cell_type": "code",
   "execution_count": 26,
   "metadata": {},
   "outputs": [
    {
     "data": {
      "text/plain": [
       "genre\n",
       "Action       126.5\n",
       "Adventure    134.8\n",
       "Animation     96.6\n",
       "Biography    131.8\n",
       "Comedy       107.6\n",
       "Crime        122.3\n",
       "Drama        126.5\n",
       "Family       107.5\n",
       "Fantasy      112.0\n",
       "Film-Noir     97.3\n",
       "History       66.0\n",
       "Horror       102.5\n",
       "Mystery      115.6\n",
       "Sci-Fi       109.0\n",
       "Thriller     114.2\n",
       "Western      136.7\n",
       "Name: duration, dtype: float64"
      ]
     },
     "execution_count": 26,
     "metadata": {},
     "output_type": "execute_result"
    }
   ],
   "source": [
    "df.groupby('genre').duration.mean().round(1)"
   ]
  },
  {
   "cell_type": "markdown",
   "metadata": {},
   "source": [
    "## Advanced level"
   ]
  },
  {
   "cell_type": "markdown",
   "metadata": {},
   "source": [
    "#### Visualize the relationship between content rating and duration."
   ]
  },
  {
   "cell_type": "code",
   "execution_count": 27,
   "metadata": {},
   "outputs": [
    {
     "data": {
      "text/plain": [
       "<matplotlib.axes._subplots.AxesSubplot at 0x1a21673090>"
      ]
     },
     "execution_count": 27,
     "metadata": {},
     "output_type": "execute_result"
    },
    {
     "data": {
      "image/png": "[encoded data removed]",
      "text/plain": [
       "<Figure size 432x288 with 1 Axes>"
      ]
     },
     "metadata": {
      "needs_background": "light"
     },
     "output_type": "display_data"
    }
   ],
   "source": [
    "df.groupby('content_rating').duration.mean().plot(kind=\"bar\")"
   ]
  },
  {
   "cell_type": "markdown",
   "metadata": {},
   "source": [
    "#### Determine the top rated movie (by star rating) for each genre."
   ]
  },
  {
   "cell_type": "code",
   "execution_count": 28,
   "metadata": {},
   "outputs": [],
   "source": [
    "# Concatenate title and duration to check in case one of the titles returned is one of the \"duplicate\" titles\n",
    "df1['title_duration'] = df1['title'].astype(str) + '_' +df1['duration'].astype(str)"
   ]
  },
  {
   "cell_type": "code",
   "execution_count": 29,
   "metadata": {},
   "outputs": [
    {
     "data": {
      "text/plain": [
       "['Crime',\n",
       " 'Action',\n",
       " 'Drama',\n",
       " 'Western',\n",
       " 'Adventure',\n",
       " 'Biography',\n",
       " 'Comedy',\n",
       " 'Animation',\n",
       " 'Mystery',\n",
       " 'Horror',\n",
       " 'Film-Noir',\n",
       " 'Sci-Fi',\n",
       " 'History',\n",
       " 'Thriller',\n",
       " 'Family',\n",
       " 'Fantasy']"
      ]
     },
     "execution_count": 29,
     "metadata": {},
     "output_type": "execute_result"
    }
   ],
   "source": [
    "# Create a list of unique genres\n",
    "a = df1.genre.unique().tolist()\n",
    "a"
   ]
  },
  {
   "cell_type": "code",
   "execution_count": 30,
   "metadata": {},
   "outputs": [],
   "source": [
    "# METHOD CREATE FILTERS IN DATAFRAME"
   ]
  },
  {
   "cell_type": "code",
   "execution_count": 31,
   "metadata": {},
   "outputs": [
    {
     "name": "stdout",
     "output_type": "stream",
     "text": [
      "8.9\n"
     ]
    }
   ],
   "source": [
    "# Step 1. Find the max value of star rating for one genre\n",
    "example_max_value = df1[df1['genre'] == 'Drama']['star_rating'].max()\n",
    "print(example_max_value)"
   ]
  },
  {
   "cell_type": "code",
   "execution_count": 32,
   "metadata": {},
   "outputs": [
    {
     "data": {
      "text/html": [
       "<div>\n",
       "<style scoped>\n",
       "    .dataframe tbody tr th:only-of-type {\n",
       "        vertical-align: middle;\n",
       "    }\n",
       "\n",
       "    .dataframe tbody tr th {\n",
       "        vertical-align: top;\n",
       "    }\n",
       "\n",
       "    .dataframe thead th {\n",
       "        text-align: right;\n",
       "    }\n",
       "</style>\n",
       "<table border=\"1\" class=\"dataframe\">\n",
       "  <thead>\n",
       "    <tr style=\"text-align: right;\">\n",
       "      <th></th>\n",
       "      <th>star_rating</th>\n",
       "      <th>title</th>\n",
       "      <th>content_rating</th>\n",
       "      <th>genre</th>\n",
       "      <th>duration</th>\n",
       "      <th>actors_list</th>\n",
       "      <th>title_duration</th>\n",
       "    </tr>\n",
       "  </thead>\n",
       "  <tbody>\n",
       "    <tr>\n",
       "      <td>5</td>\n",
       "      <td>8.9</td>\n",
       "      <td>12 Angry Men</td>\n",
       "      <td>UNRATED</td>\n",
       "      <td>Drama</td>\n",
       "      <td>96</td>\n",
       "      <td>[u'Henry Fonda', u'Lee J. Cobb', u'Martin Bals...</td>\n",
       "      <td>12 Angry Men_96</td>\n",
       "    </tr>\n",
       "    <tr>\n",
       "      <td>9</td>\n",
       "      <td>8.9</td>\n",
       "      <td>Fight Club</td>\n",
       "      <td>R</td>\n",
       "      <td>Drama</td>\n",
       "      <td>139</td>\n",
       "      <td>[u'Brad Pitt', u'Edward Norton', u'Helena Bonh...</td>\n",
       "      <td>Fight Club_139</td>\n",
       "    </tr>\n",
       "  </tbody>\n",
       "</table>\n",
       "</div>"
      ],
      "text/plain": [
       "   star_rating         title content_rating  genre  duration  \\\n",
       "5          8.9  12 Angry Men        UNRATED  Drama        96   \n",
       "9          8.9    Fight Club              R  Drama       139   \n",
       "\n",
       "                                         actors_list   title_duration  \n",
       "5  [u'Henry Fonda', u'Lee J. Cobb', u'Martin Bals...  12 Angry Men_96  \n",
       "9  [u'Brad Pitt', u'Edward Norton', u'Helena Bonh...   Fight Club_139  "
      ]
     },
     "execution_count": 32,
     "metadata": {},
     "output_type": "execute_result"
    }
   ],
   "source": [
    "# Step 2. Bring back the rows in the data frame that have the max value for the genere\n",
    "df1[(df1['genre'] == 'Drama') & (df1['star_rating'] == example_max_value)]"
   ]
  },
  {
   "cell_type": "code",
   "execution_count": 33,
   "metadata": {},
   "outputs": [
    {
     "data": {
      "text/html": [
       "<div>\n",
       "<style scoped>\n",
       "    .dataframe tbody tr th:only-of-type {\n",
       "        vertical-align: middle;\n",
       "    }\n",
       "\n",
       "    .dataframe tbody tr th {\n",
       "        vertical-align: top;\n",
       "    }\n",
       "\n",
       "    .dataframe thead th {\n",
       "        text-align: right;\n",
       "    }\n",
       "</style>\n",
       "<table border=\"1\" class=\"dataframe\">\n",
       "  <thead>\n",
       "    <tr style=\"text-align: right;\">\n",
       "      <th></th>\n",
       "      <th>genre</th>\n",
       "      <th>title_duration</th>\n",
       "      <th>star_rating</th>\n",
       "    </tr>\n",
       "  </thead>\n",
       "  <tbody>\n",
       "    <tr>\n",
       "      <td>0</td>\n",
       "      <td>Crime</td>\n",
       "      <td>The Shawshank Redemption_142</td>\n",
       "      <td>9.3</td>\n",
       "    </tr>\n",
       "    <tr>\n",
       "      <td>1</td>\n",
       "      <td>Crime</td>\n",
       "      <td>The Godfather_175</td>\n",
       "      <td>9.2</td>\n",
       "    </tr>\n",
       "    <tr>\n",
       "      <td>2</td>\n",
       "      <td>Crime</td>\n",
       "      <td>The Godfather: Part II_200</td>\n",
       "      <td>9.1</td>\n",
       "    </tr>\n",
       "    <tr>\n",
       "      <td>3</td>\n",
       "      <td>Action</td>\n",
       "      <td>The Dark Knight_152</td>\n",
       "      <td>9.0</td>\n",
       "    </tr>\n",
       "    <tr>\n",
       "      <td>4</td>\n",
       "      <td>Crime</td>\n",
       "      <td>Pulp Fiction_154</td>\n",
       "      <td>8.9</td>\n",
       "    </tr>\n",
       "    <tr>\n",
       "      <td>...</td>\n",
       "      <td>...</td>\n",
       "      <td>...</td>\n",
       "      <td>...</td>\n",
       "    </tr>\n",
       "    <tr>\n",
       "      <td>974</td>\n",
       "      <td>Comedy</td>\n",
       "      <td>Tootsie_116</td>\n",
       "      <td>7.4</td>\n",
       "    </tr>\n",
       "    <tr>\n",
       "      <td>975</td>\n",
       "      <td>Adventure</td>\n",
       "      <td>Back to the Future Part III_118</td>\n",
       "      <td>7.4</td>\n",
       "    </tr>\n",
       "    <tr>\n",
       "      <td>976</td>\n",
       "      <td>Action</td>\n",
       "      <td>Master and Commander: The Far Side of the Worl...</td>\n",
       "      <td>7.4</td>\n",
       "    </tr>\n",
       "    <tr>\n",
       "      <td>977</td>\n",
       "      <td>Horror</td>\n",
       "      <td>Poltergeist_114</td>\n",
       "      <td>7.4</td>\n",
       "    </tr>\n",
       "    <tr>\n",
       "      <td>978</td>\n",
       "      <td>Crime</td>\n",
       "      <td>Wall Street_126</td>\n",
       "      <td>7.4</td>\n",
       "    </tr>\n",
       "  </tbody>\n",
       "</table>\n",
       "<p>979 rows × 3 columns</p>\n",
       "</div>"
      ],
      "text/plain": [
       "         genre                                     title_duration  star_rating\n",
       "0        Crime                       The Shawshank Redemption_142          9.3\n",
       "1        Crime                                  The Godfather_175          9.2\n",
       "2        Crime                         The Godfather: Part II_200          9.1\n",
       "3       Action                                The Dark Knight_152          9.0\n",
       "4        Crime                                   Pulp Fiction_154          8.9\n",
       "..         ...                                                ...          ...\n",
       "974     Comedy                                        Tootsie_116          7.4\n",
       "975  Adventure                    Back to the Future Part III_118          7.4\n",
       "976     Action  Master and Commander: The Far Side of the Worl...          7.4\n",
       "977     Horror                                    Poltergeist_114          7.4\n",
       "978      Crime                                    Wall Street_126          7.4\n",
       "\n",
       "[979 rows x 3 columns]"
      ]
     },
     "execution_count": 33,
     "metadata": {},
     "output_type": "execute_result"
    }
   ],
   "source": [
    "# Step 3 pulls back the genre and title_duration columns \n",
    "df1[['genre','title_duration', 'star_rating']]"
   ]
  },
  {
   "cell_type": "code",
   "execution_count": 34,
   "metadata": {},
   "outputs": [
    {
     "data": {
      "text/html": [
       "<div>\n",
       "<style scoped>\n",
       "    .dataframe tbody tr th:only-of-type {\n",
       "        vertical-align: middle;\n",
       "    }\n",
       "\n",
       "    .dataframe tbody tr th {\n",
       "        vertical-align: top;\n",
       "    }\n",
       "\n",
       "    .dataframe thead th {\n",
       "        text-align: right;\n",
       "    }\n",
       "</style>\n",
       "<table border=\"1\" class=\"dataframe\">\n",
       "  <thead>\n",
       "    <tr style=\"text-align: right;\">\n",
       "      <th></th>\n",
       "      <th>genre</th>\n",
       "      <th>title_duration</th>\n",
       "      <th>star_rating</th>\n",
       "    </tr>\n",
       "  </thead>\n",
       "  <tbody>\n",
       "    <tr>\n",
       "      <td>5</td>\n",
       "      <td>Drama</td>\n",
       "      <td>12 Angry Men_96</td>\n",
       "      <td>8.9</td>\n",
       "    </tr>\n",
       "    <tr>\n",
       "      <td>9</td>\n",
       "      <td>Drama</td>\n",
       "      <td>Fight Club_139</td>\n",
       "      <td>8.9</td>\n",
       "    </tr>\n",
       "  </tbody>\n",
       "</table>\n",
       "</div>"
      ],
      "text/plain": [
       "   genre   title_duration  star_rating\n",
       "5  Drama  12 Angry Men_96          8.9\n",
       "9  Drama   Fight Club_139          8.9"
      ]
     },
     "execution_count": 34,
     "metadata": {},
     "output_type": "execute_result"
    }
   ],
   "source": [
    "# Combines 3 staps of code. \n",
    "# Step 1. Find the max value of star rating for one genre\n",
    "# Step 2. Bring back the rows in the data frame that have the max value\n",
    "# pulls back the genre title_duration and star_rating column\n",
    "df1[(df1['genre'] == 'Drama') & (df1['star_rating'] == df1[df1['genre'] == 'Drama']['star_rating'].max())][['genre','title_duration', 'star_rating']]"
   ]
  },
  {
   "cell_type": "code",
   "execution_count": 35,
   "metadata": {},
   "outputs": [],
   "source": [
    "a = df1[(df1['genre'] == 'Crime') & (df1['star_rating'] == df1[df1['genre'] == 'Crime']['star_rating'].max())][['genre','title_duration', 'star_rating']]\n",
    "b = df1[(df1['genre'] == 'Action') & (df1['star_rating'] == df1[df1['genre'] == 'Action']['star_rating'].max())][['genre','title_duration', 'star_rating']] \n",
    "c = df1[(df1['genre'] == 'Drama') & (df1['star_rating'] == df1[df1['genre'] == 'Drama']['star_rating'].max())][['genre','title_duration', 'star_rating']]\n",
    "d = df1[(df1['genre'] == 'Western') & (df1['star_rating'] == df1[df1['genre'] == 'Western']['star_rating'].max())][['genre','title_duration', 'star_rating']]\n",
    "e = df1[(df1['genre'] == 'Adventure') & (df1['star_rating'] == df1[df1['genre'] == 'Adventure']['star_rating'].max())][['genre','title_duration', 'star_rating']]\n",
    "f = df1[(df1['genre'] == 'Biography') & (df1['star_rating'] == df1[df1['genre'] == 'Biography']['star_rating'].max())][['genre','title_duration', 'star_rating']]\n",
    "g = df1[(df1['genre'] == 'Comedy') & (df1['star_rating'] == df1[df1['genre'] == 'Comedy']['star_rating'].max())][['genre','title_duration', 'star_rating']]\n",
    "h = df1[(df1['genre'] == 'Animation') & (df1['star_rating'] == df1[df1['genre'] == 'Animation']['star_rating'].max())][['genre','title_duration', 'star_rating']]\n",
    "i = df1[(df1['genre'] == 'Mystery') & (df1['star_rating'] == df1[df1['genre'] == 'Mystery']['star_rating'].max())][['genre','title_duration', 'star_rating']]\n",
    "j = df1[(df1['genre'] == 'Horror') & (df1['star_rating'] == df1[df1['genre'] == 'Horror']['star_rating'].max())][['genre','title_duration', 'star_rating']]\n",
    "k = df1[(df1['genre'] == 'Film-Noir') & (df1['star_rating'] == df1[df1['genre'] == 'Film-Noir']['star_rating'].max())][['genre','title_duration', 'star_rating']]\n",
    "l = df1[(df1['genre'] == 'Sci-Fi') & (df1['star_rating'] == df1[df1['genre'] == 'Sci-Fi']['star_rating'].max())][['genre','title_duration', 'star_rating']]\n",
    "m = df1[(df1['genre'] == 'History') & (df1['star_rating'] == df1[df1['genre'] == 'History']['star_rating'].max())][['genre','title_duration', 'star_rating']]\n",
    "n = df1[(df1['genre'] == 'Thriller')& (df1['star_rating'] == df1[df1['genre'] == 'Thriller']['star_rating'].max())][['genre','title_duration', 'star_rating']]\n",
    "o = df1[(df1['genre'] == 'Family') & (df1['star_rating'] == df1[df1['genre'] == 'Family']['star_rating'].max())][['genre','title_duration', 'star_rating']]\n",
    "p = df1[(df1['genre'] == 'Fantasy') & (df1['star_rating'] == df1[df1['genre'] == 'Fantasy']['star_rating'].max())][['genre','title_duration', 'star_rating']]"
   ]
  },
  {
   "cell_type": "code",
   "execution_count": 36,
   "metadata": {},
   "outputs": [
    {
     "data": {
      "text/html": [
       "<div>\n",
       "<style scoped>\n",
       "    .dataframe tbody tr th:only-of-type {\n",
       "        vertical-align: middle;\n",
       "    }\n",
       "\n",
       "    .dataframe tbody tr th {\n",
       "        vertical-align: top;\n",
       "    }\n",
       "\n",
       "    .dataframe thead th {\n",
       "        text-align: right;\n",
       "    }\n",
       "</style>\n",
       "<table border=\"1\" class=\"dataframe\">\n",
       "  <thead>\n",
       "    <tr style=\"text-align: right;\">\n",
       "      <th></th>\n",
       "      <th>genre</th>\n",
       "      <th>title_duration</th>\n",
       "      <th>star_rating</th>\n",
       "    </tr>\n",
       "  </thead>\n",
       "  <tbody>\n",
       "    <tr>\n",
       "      <td>3</td>\n",
       "      <td>Action</td>\n",
       "      <td>The Dark Knight_152</td>\n",
       "      <td>9.0</td>\n",
       "    </tr>\n",
       "    <tr>\n",
       "      <td>7</td>\n",
       "      <td>Adventure</td>\n",
       "      <td>The Lord of the Rings: The Return of the King_201</td>\n",
       "      <td>8.9</td>\n",
       "    </tr>\n",
       "    <tr>\n",
       "      <td>30</td>\n",
       "      <td>Animation</td>\n",
       "      <td>Spirited Away_125</td>\n",
       "      <td>8.6</td>\n",
       "    </tr>\n",
       "    <tr>\n",
       "      <td>8</td>\n",
       "      <td>Biography</td>\n",
       "      <td>Schindler's List_195</td>\n",
       "      <td>8.9</td>\n",
       "    </tr>\n",
       "    <tr>\n",
       "      <td>35</td>\n",
       "      <td>Comedy</td>\n",
       "      <td>Modern Times_87</td>\n",
       "      <td>8.6</td>\n",
       "    </tr>\n",
       "    <tr>\n",
       "      <td>29</td>\n",
       "      <td>Comedy</td>\n",
       "      <td>City Lights_87</td>\n",
       "      <td>8.6</td>\n",
       "    </tr>\n",
       "    <tr>\n",
       "      <td>25</td>\n",
       "      <td>Comedy</td>\n",
       "      <td>Life Is Beautiful_116</td>\n",
       "      <td>8.6</td>\n",
       "    </tr>\n",
       "    <tr>\n",
       "      <td>0</td>\n",
       "      <td>Crime</td>\n",
       "      <td>The Shawshank Redemption_142</td>\n",
       "      <td>9.3</td>\n",
       "    </tr>\n",
       "    <tr>\n",
       "      <td>9</td>\n",
       "      <td>Drama</td>\n",
       "      <td>Fight Club_139</td>\n",
       "      <td>8.9</td>\n",
       "    </tr>\n",
       "    <tr>\n",
       "      <td>5</td>\n",
       "      <td>Drama</td>\n",
       "      <td>12 Angry Men_96</td>\n",
       "      <td>8.9</td>\n",
       "    </tr>\n",
       "    <tr>\n",
       "      <td>468</td>\n",
       "      <td>Family</td>\n",
       "      <td>E.T. the Extra-Terrestrial_115</td>\n",
       "      <td>7.9</td>\n",
       "    </tr>\n",
       "    <tr>\n",
       "      <td>638</td>\n",
       "      <td>Fantasy</td>\n",
       "      <td>The City of Lost Children_112</td>\n",
       "      <td>7.7</td>\n",
       "    </tr>\n",
       "    <tr>\n",
       "      <td>105</td>\n",
       "      <td>Film-Noir</td>\n",
       "      <td>The Third Man_93</td>\n",
       "      <td>8.3</td>\n",
       "    </tr>\n",
       "    <tr>\n",
       "      <td>338</td>\n",
       "      <td>History</td>\n",
       "      <td>Battleship Potemkin_66</td>\n",
       "      <td>8.0</td>\n",
       "    </tr>\n",
       "    <tr>\n",
       "      <td>39</td>\n",
       "      <td>Horror</td>\n",
       "      <td>Psycho_109</td>\n",
       "      <td>8.6</td>\n",
       "    </tr>\n",
       "    <tr>\n",
       "      <td>38</td>\n",
       "      <td>Mystery</td>\n",
       "      <td>Rear Window_112</td>\n",
       "      <td>8.6</td>\n",
       "    </tr>\n",
       "    <tr>\n",
       "      <td>145</td>\n",
       "      <td>Sci-Fi</td>\n",
       "      <td>Blade Runner_117</td>\n",
       "      <td>8.2</td>\n",
       "    </tr>\n",
       "    <tr>\n",
       "      <td>350</td>\n",
       "      <td>Thriller</td>\n",
       "      <td>Shadow of a Doubt_108</td>\n",
       "      <td>8.0</td>\n",
       "    </tr>\n",
       "    <tr>\n",
       "      <td>6</td>\n",
       "      <td>Western</td>\n",
       "      <td>The Good, the Bad and the Ugly_161</td>\n",
       "      <td>8.9</td>\n",
       "    </tr>\n",
       "  </tbody>\n",
       "</table>\n",
       "</div>"
      ],
      "text/plain": [
       "         genre                                     title_duration  star_rating\n",
       "3       Action                                The Dark Knight_152          9.0\n",
       "7    Adventure  The Lord of the Rings: The Return of the King_201          8.9\n",
       "30   Animation                                  Spirited Away_125          8.6\n",
       "8    Biography                               Schindler's List_195          8.9\n",
       "35      Comedy                                    Modern Times_87          8.6\n",
       "29      Comedy                                     City Lights_87          8.6\n",
       "25      Comedy                              Life Is Beautiful_116          8.6\n",
       "0        Crime                       The Shawshank Redemption_142          9.3\n",
       "9        Drama                                     Fight Club_139          8.9\n",
       "5        Drama                                    12 Angry Men_96          8.9\n",
       "468     Family                     E.T. the Extra-Terrestrial_115          7.9\n",
       "638    Fantasy                      The City of Lost Children_112          7.7\n",
       "105  Film-Noir                                   The Third Man_93          8.3\n",
       "338    History                             Battleship Potemkin_66          8.0\n",
       "39      Horror                                         Psycho_109          8.6\n",
       "38     Mystery                                    Rear Window_112          8.6\n",
       "145     Sci-Fi                                   Blade Runner_117          8.2\n",
       "350   Thriller                              Shadow of a Doubt_108          8.0\n",
       "6      Western                 The Good, the Bad and the Ugly_161          8.9"
      ]
     },
     "execution_count": 36,
     "metadata": {},
     "output_type": "execute_result"
    }
   ],
   "source": [
    "pd.concat([a,b,c,d,e,f,g,h,i,j,k,l,m,n,o,p]).sort_values('genre')"
   ]
  },
  {
   "cell_type": "code",
   "execution_count": 37,
   "metadata": {},
   "outputs": [],
   "source": [
    "# I built a funciton using loops but couldn't get it to work"
   ]
  },
  {
   "cell_type": "code",
   "execution_count": null,
   "metadata": {},
   "outputs": [],
   "source": []
  },
  {
   "cell_type": "markdown",
   "metadata": {},
   "source": [
    "#### Check if there are multiple movies with the same title, and if so, determine if they are actually duplicates."
   ]
  },
  {
   "cell_type": "code",
   "execution_count": 38,
   "metadata": {},
   "outputs": [
    {
     "data": {
      "text/html": [
       "<div>\n",
       "<style scoped>\n",
       "    .dataframe tbody tr th:only-of-type {\n",
       "        vertical-align: middle;\n",
       "    }\n",
       "\n",
       "    .dataframe tbody tr th {\n",
       "        vertical-align: top;\n",
       "    }\n",
       "\n",
       "    .dataframe thead th {\n",
       "        text-align: right;\n",
       "    }\n",
       "</style>\n",
       "<table border=\"1\" class=\"dataframe\">\n",
       "  <thead>\n",
       "    <tr style=\"text-align: right;\">\n",
       "      <th></th>\n",
       "      <th>star_rating</th>\n",
       "      <th>title</th>\n",
       "      <th>content_rating</th>\n",
       "      <th>genre</th>\n",
       "      <th>duration</th>\n",
       "      <th>actors_list</th>\n",
       "      <th>title_duration</th>\n",
       "    </tr>\n",
       "  </thead>\n",
       "  <tbody>\n",
       "    <tr>\n",
       "      <td>466</td>\n",
       "      <td>7.9</td>\n",
       "      <td>The Girl with the Dragon Tattoo</td>\n",
       "      <td>R</td>\n",
       "      <td>Crime</td>\n",
       "      <td>158</td>\n",
       "      <td>[u'Daniel Craig', u'Rooney Mara', u'Christophe...</td>\n",
       "      <td>The Girl with the Dragon Tattoo_158</td>\n",
       "    </tr>\n",
       "    <tr>\n",
       "      <td>482</td>\n",
       "      <td>7.8</td>\n",
       "      <td>The Girl with the Dragon Tattoo</td>\n",
       "      <td>R</td>\n",
       "      <td>Crime</td>\n",
       "      <td>152</td>\n",
       "      <td>[u'Michael Nyqvist', u'Noomi Rapace', u'Ewa Fr...</td>\n",
       "      <td>The Girl with the Dragon Tattoo_152</td>\n",
       "    </tr>\n",
       "    <tr>\n",
       "      <td>662</td>\n",
       "      <td>7.7</td>\n",
       "      <td>True Grit</td>\n",
       "      <td>PG-13</td>\n",
       "      <td>Adventure</td>\n",
       "      <td>110</td>\n",
       "      <td>[u'Jeff Bridges', u'Matt Damon', u'Hailee Stei...</td>\n",
       "      <td>True Grit_110</td>\n",
       "    </tr>\n",
       "    <tr>\n",
       "      <td>678</td>\n",
       "      <td>7.7</td>\n",
       "      <td>Les Miserables</td>\n",
       "      <td>PG-13</td>\n",
       "      <td>Drama</td>\n",
       "      <td>158</td>\n",
       "      <td>[u'Hugh Jackman', u'Russell Crowe', u'Anne Hat...</td>\n",
       "      <td>Les Miserables_158</td>\n",
       "    </tr>\n",
       "    <tr>\n",
       "      <td>703</td>\n",
       "      <td>7.6</td>\n",
       "      <td>Dracula</td>\n",
       "      <td>UNRATED</td>\n",
       "      <td>Horror</td>\n",
       "      <td>85</td>\n",
       "      <td>[u'Bela Lugosi', u'Helen Chandler', u'David Ma...</td>\n",
       "      <td>Dracula_85</td>\n",
       "    </tr>\n",
       "    <tr>\n",
       "      <td>905</td>\n",
       "      <td>7.5</td>\n",
       "      <td>Dracula</td>\n",
       "      <td>R</td>\n",
       "      <td>Horror</td>\n",
       "      <td>128</td>\n",
       "      <td>[u'Gary Oldman', u'Winona Ryder', u'Anthony Ho...</td>\n",
       "      <td>Dracula_128</td>\n",
       "    </tr>\n",
       "    <tr>\n",
       "      <td>924</td>\n",
       "      <td>7.5</td>\n",
       "      <td>Les Miserables</td>\n",
       "      <td>PG-13</td>\n",
       "      <td>Crime</td>\n",
       "      <td>134</td>\n",
       "      <td>[u'Liam Neeson', u'Geoffrey Rush', u'Uma Thurm...</td>\n",
       "      <td>Les Miserables_134</td>\n",
       "    </tr>\n",
       "    <tr>\n",
       "      <td>936</td>\n",
       "      <td>7.4</td>\n",
       "      <td>True Grit</td>\n",
       "      <td>UNRATED</td>\n",
       "      <td>Adventure</td>\n",
       "      <td>128</td>\n",
       "      <td>[u'John Wayne', u'Kim Darby', u'Glen Campbell']</td>\n",
       "      <td>True Grit_128</td>\n",
       "    </tr>\n",
       "  </tbody>\n",
       "</table>\n",
       "</div>"
      ],
      "text/plain": [
       "     star_rating                            title content_rating      genre  \\\n",
       "466          7.9  The Girl with the Dragon Tattoo              R      Crime   \n",
       "482          7.8  The Girl with the Dragon Tattoo              R      Crime   \n",
       "662          7.7                        True Grit          PG-13  Adventure   \n",
       "678          7.7                   Les Miserables          PG-13      Drama   \n",
       "703          7.6                          Dracula        UNRATED     Horror   \n",
       "905          7.5                          Dracula              R     Horror   \n",
       "924          7.5                   Les Miserables          PG-13      Crime   \n",
       "936          7.4                        True Grit        UNRATED  Adventure   \n",
       "\n",
       "     duration                                        actors_list  \\\n",
       "466       158  [u'Daniel Craig', u'Rooney Mara', u'Christophe...   \n",
       "482       152  [u'Michael Nyqvist', u'Noomi Rapace', u'Ewa Fr...   \n",
       "662       110  [u'Jeff Bridges', u'Matt Damon', u'Hailee Stei...   \n",
       "678       158  [u'Hugh Jackman', u'Russell Crowe', u'Anne Hat...   \n",
       "703        85  [u'Bela Lugosi', u'Helen Chandler', u'David Ma...   \n",
       "905       128  [u'Gary Oldman', u'Winona Ryder', u'Anthony Ho...   \n",
       "924       134  [u'Liam Neeson', u'Geoffrey Rush', u'Uma Thurm...   \n",
       "936       128    [u'John Wayne', u'Kim Darby', u'Glen Campbell']   \n",
       "\n",
       "                          title_duration  \n",
       "466  The Girl with the Dragon Tattoo_158  \n",
       "482  The Girl with the Dragon Tattoo_152  \n",
       "662                        True Grit_110  \n",
       "678                   Les Miserables_158  \n",
       "703                           Dracula_85  \n",
       "905                          Dracula_128  \n",
       "924                   Les Miserables_134  \n",
       "936                        True Grit_128  "
      ]
     },
     "execution_count": 38,
     "metadata": {},
     "output_type": "execute_result"
    }
   ],
   "source": [
    "# Check the titles of the movies for duplicates and spot check to see if they are actually different movies. They are. \n",
    "# The movies are not duplicates. Durations and actor list are different for the duplicate titles. \n",
    "df1[df1['title'].map(df['title'].value_counts()) > 1]"
   ]
  },
  {
   "cell_type": "markdown",
   "metadata": {
    "collapsed": true
   },
   "source": [
    "#### Calculate the average star rating for each genre, but only include genres with at least 10 movies\n"
   ]
  },
  {
   "cell_type": "markdown",
   "metadata": {},
   "source": [
    "#### Option 1: manually create a list of relevant genres, then filter using that list"
   ]
  },
  {
   "cell_type": "code",
   "execution_count": 39,
   "metadata": {},
   "outputs": [
    {
     "data": {
      "text/plain": [
       "{'Drama': 278,\n",
       " 'Comedy': 156,\n",
       " 'Action': 136,\n",
       " 'Crime': 124,\n",
       " 'Biography': 77,\n",
       " 'Adventure': 75,\n",
       " 'Animation': 62,\n",
       " 'Horror': 29,\n",
       " 'Mystery': 16,\n",
       " 'Western': 9,\n",
       " 'Sci-Fi': 5,\n",
       " 'Thriller': 5,\n",
       " 'Film-Noir': 3,\n",
       " 'Family': 2,\n",
       " 'History': 1,\n",
       " 'Fantasy': 1}"
      ]
     },
     "execution_count": 39,
     "metadata": {},
     "output_type": "execute_result"
    }
   ],
   "source": [
    "# create dictionary of Genres with value counts as the values\n",
    "genre_value_counts = df1['genre'].value_counts().to_dict()\n",
    "genre_value_counts"
   ]
  },
  {
   "cell_type": "code",
   "execution_count": 40,
   "metadata": {},
   "outputs": [
    {
     "data": {
      "text/plain": [
       "{'Drama': 278,\n",
       " 'Comedy': 156,\n",
       " 'Action': 136,\n",
       " 'Crime': 124,\n",
       " 'Biography': 77,\n",
       " 'Adventure': 75,\n",
       " 'Animation': 62,\n",
       " 'Horror': 29,\n",
       " 'Mystery': 16}"
      ]
     },
     "execution_count": 40,
     "metadata": {},
     "output_type": "execute_result"
    }
   ],
   "source": [
    "# Filter the dictionary so only genres are included that have more than 10 titles.\n",
    "genre_greater_than_10_titles = dict((k, v) for k, v in genre_value_counts.items() if v >= 10)\n",
    "genre_greater_than_10_titles"
   ]
  },
  {
   "cell_type": "code",
   "execution_count": 52,
   "metadata": {},
   "outputs": [
    {
     "data": {
      "text/plain": [
       "dict_keys(['Drama', 'Comedy', 'Action', 'Crime', 'Biography', 'Adventure', 'Animation', 'Horror', 'Mystery'])"
      ]
     },
     "execution_count": 52,
     "metadata": {},
     "output_type": "execute_result"
    }
   ],
   "source": [
    "# Return dictionary keys of genres that have more than 10 titles \n",
    "def getList(genre_greater_than_10_titles): \n",
    "    return genre_greater_than_10_titles.keys() \n",
    "genre_greater_than_10_list = getList(genre_greater_than_10_titles)\n",
    "genre_greater_than_10_list"
   ]
  },
  {
   "cell_type": "code",
   "execution_count": 54,
   "metadata": {},
   "outputs": [
    {
     "data": {
      "text/html": [
       "<div>\n",
       "<style scoped>\n",
       "    .dataframe tbody tr th:only-of-type {\n",
       "        vertical-align: middle;\n",
       "    }\n",
       "\n",
       "    .dataframe tbody tr th {\n",
       "        vertical-align: top;\n",
       "    }\n",
       "\n",
       "    .dataframe thead th {\n",
       "        text-align: right;\n",
       "    }\n",
       "</style>\n",
       "<table border=\"1\" class=\"dataframe\">\n",
       "  <thead>\n",
       "    <tr style=\"text-align: right;\">\n",
       "      <th></th>\n",
       "      <th>star_rating</th>\n",
       "      <th>title</th>\n",
       "      <th>content_rating</th>\n",
       "      <th>genre</th>\n",
       "      <th>duration</th>\n",
       "      <th>actors_list</th>\n",
       "      <th>title_duration</th>\n",
       "    </tr>\n",
       "  </thead>\n",
       "  <tbody>\n",
       "    <tr>\n",
       "      <td>0</td>\n",
       "      <td>9.3</td>\n",
       "      <td>The Shawshank Redemption</td>\n",
       "      <td>R</td>\n",
       "      <td>Crime</td>\n",
       "      <td>142</td>\n",
       "      <td>[u'Tim Robbins', u'Morgan Freeman', u'Bob Gunt...</td>\n",
       "      <td>The Shawshank Redemption_142</td>\n",
       "    </tr>\n",
       "  </tbody>\n",
       "</table>\n",
       "</div>"
      ],
      "text/plain": [
       "   star_rating                     title content_rating  genre  duration  \\\n",
       "0          9.3  The Shawshank Redemption              R  Crime       142   \n",
       "\n",
       "                                         actors_list  \\\n",
       "0  [u'Tim Robbins', u'Morgan Freeman', u'Bob Gunt...   \n",
       "\n",
       "                 title_duration  \n",
       "0  The Shawshank Redemption_142  "
      ]
     },
     "execution_count": 54,
     "metadata": {},
     "output_type": "execute_result"
    }
   ],
   "source": [
    "# Create a new data frame df2 that only includes the rows that are associated to the genres that have 10 or more movies\n",
    "df2 = df1[df1['genre'].isin(genre_greater_than_10_list)]\n",
    "df2.head(1)"
   ]
  },
  {
   "cell_type": "code",
   "execution_count": 55,
   "metadata": {},
   "outputs": [
    {
     "data": {
      "text/plain": [
       "Drama        278\n",
       "Comedy       156\n",
       "Action       136\n",
       "Crime        124\n",
       "Biography     77\n",
       "Adventure     75\n",
       "Animation     62\n",
       "Horror        29\n",
       "Mystery       16\n",
       "Name: genre, dtype: int64"
      ]
     },
     "execution_count": 55,
     "metadata": {},
     "output_type": "execute_result"
    }
   ],
   "source": [
    "# check the value counts for df2 for genre\n",
    "df2.genre.value_counts()"
   ]
  },
  {
   "cell_type": "code",
   "execution_count": 56,
   "metadata": {},
   "outputs": [
    {
     "data": {
      "text/plain": [
       "genre\n",
       "Mystery      7.975000\n",
       "Adventure    7.933333\n",
       "Crime        7.916935\n",
       "Animation    7.914516\n",
       "Drama        7.902518\n",
       "Action       7.884559\n",
       "Biography    7.862338\n",
       "Comedy       7.822436\n",
       "Horror       7.806897\n",
       "Name: star_rating, dtype: float64"
      ]
     },
     "execution_count": 56,
     "metadata": {},
     "output_type": "execute_result"
    }
   ],
   "source": [
    "# Average star ratings for genres that have 10 titles or more\n",
    "df2.groupby('genre').star_rating.mean().sort_values(ascending=False)"
   ]
  },
  {
   "cell_type": "markdown",
   "metadata": {},
   "source": [
    "#### Option 2: automatically create a list of relevant genres by saving the value_counts and then filtering"
   ]
  },
  {
   "cell_type": "code",
   "execution_count": 125,
   "metadata": {},
   "outputs": [],
   "source": [
    "# Answer:"
   ]
  },
  {
   "cell_type": "markdown",
   "metadata": {},
   "source": [
    "#### Option 3: calculate the average star rating for all genres, then filter using a boolean Series"
   ]
  },
  {
   "cell_type": "code",
   "execution_count": 126,
   "metadata": {},
   "outputs": [],
   "source": [
    "# Answer:"
   ]
  },
  {
   "cell_type": "markdown",
   "metadata": {},
   "source": [
    "#### Option 4: aggregate by count and mean, then filter using the count"
   ]
  },
  {
   "cell_type": "code",
   "execution_count": 127,
   "metadata": {},
   "outputs": [],
   "source": [
    "# Answer:"
   ]
  },
  {
   "cell_type": "markdown",
   "metadata": {},
   "source": [
    "## Bonus"
   ]
  },
  {
   "cell_type": "markdown",
   "metadata": {
    "collapsed": true
   },
   "source": [
    "#### Figure out something \"interesting\" using the actors data!"
   ]
  },
  {
   "cell_type": "code",
   "execution_count": 128,
   "metadata": {},
   "outputs": [
    {
     "data": {
      "text/html": [
       "<div>\n",
       "<style scoped>\n",
       "    .dataframe tbody tr th:only-of-type {\n",
       "        vertical-align: middle;\n",
       "    }\n",
       "\n",
       "    .dataframe tbody tr th {\n",
       "        vertical-align: top;\n",
       "    }\n",
       "\n",
       "    .dataframe thead th {\n",
       "        text-align: right;\n",
       "    }\n",
       "</style>\n",
       "<table border=\"1\" class=\"dataframe\">\n",
       "  <thead>\n",
       "    <tr style=\"text-align: right;\">\n",
       "      <th></th>\n",
       "      <th>star_rating</th>\n",
       "      <th>title</th>\n",
       "      <th>content_rating</th>\n",
       "      <th>genre</th>\n",
       "      <th>duration</th>\n",
       "      <th>actors_list</th>\n",
       "      <th>title_duration</th>\n",
       "    </tr>\n",
       "  </thead>\n",
       "  <tbody>\n",
       "    <tr>\n",
       "      <td>0</td>\n",
       "      <td>9.3</td>\n",
       "      <td>The Shawshank Redemption</td>\n",
       "      <td>R</td>\n",
       "      <td>Crime</td>\n",
       "      <td>142</td>\n",
       "      <td>[u'Tim Robbins', u'Morgan Freeman', u'Bob Gunt...</td>\n",
       "      <td>The Shawshank Redemption_142</td>\n",
       "    </tr>\n",
       "  </tbody>\n",
       "</table>\n",
       "</div>"
      ],
      "text/plain": [
       "   star_rating                     title content_rating  genre  duration  \\\n",
       "0          9.3  The Shawshank Redemption              R  Crime       142   \n",
       "\n",
       "                                         actors_list  \\\n",
       "0  [u'Tim Robbins', u'Morgan Freeman', u'Bob Gunt...   \n",
       "\n",
       "                 title_duration  \n",
       "0  The Shawshank Redemption_142  "
      ]
     },
     "execution_count": 128,
     "metadata": {},
     "output_type": "execute_result"
    }
   ],
   "source": [
    "# Check head\n",
    "df2.head(1)"
   ]
  },
  {
   "cell_type": "code",
   "execution_count": 129,
   "metadata": {},
   "outputs": [
    {
     "data": {
      "text/plain": [
       "star_rating       float64\n",
       "title              object\n",
       "content_rating     object\n",
       "genre              object\n",
       "duration            int64\n",
       "actors_list        object\n",
       "title_duration     object\n",
       "dtype: object"
      ]
     },
     "execution_count": 129,
     "metadata": {},
     "output_type": "execute_result"
    }
   ],
   "source": [
    "# Check data types\n",
    "df2.dtypes"
   ]
  },
  {
   "cell_type": "code",
   "execution_count": 166,
   "metadata": {},
   "outputs": [
    {
     "data": {
      "text/plain": [
       "[\"['Tim Robbins', 'Morgan Freeman', 'Bob Gnton']\",\n",
       " \"['Marlon Brando', 'Al Pacino', 'James Caan']\",\n",
       " \"['Al Pacino', 'Robert De Niro', 'Robert Dvall']\",\n",
       " \"['Christian Bale', 'Heath Ledger', 'Aaron Eckhart']\",\n",
       " \"['John Travolta', 'Uma Thrman', 'Samel L. Jackson']\",\n",
       " \"['Henry Fonda', 'Lee J. Cobb', 'Martin Balsam']\",\n",
       " \"['Elijah Wood', 'Viggo Mortensen', 'Ian McKellen']\",\n",
       " \"['Liam Neeson', 'Ralph Fiennes', 'Ben Kingsley']\",\n",
       " \"['Brad Pitt', 'Edward Norton', 'Helena Bonham Carter']\",\n",
       " \"['Elijah Wood', 'Ian McKellen', 'Orlando Bloom']\",\n",
       " \"['Leonardo DiCaprio', 'Joseph Gordon-Levitt', 'Ellen Page']\",\n",
       " \"['Mark Hamill', 'Harrison Ford', 'Carrie Fisher']\",\n",
       " \"['Tom Hanks', 'Robin Wright', 'Gary Sinise']\",\n",
       " \"['Elijah Wood', 'Ian McKellen', 'Viggo Mortensen']\",\n",
       " \"['Matthew McConaghey', 'Anne Hathaway', 'Jessica Chastain']\",\n",
       " \"['Jack Nicholson', 'Loise Fletcher', 'Michael Berryman']\",\n",
       " \"['Toshir\\\\xf4 Mifne', 'Takashi Shimra', 'Keiko Tsshima']\",\n",
       " \"['Robert De Niro', 'Ray Liotta', 'Joe Pesci']\",\n",
       " \"['Mark Hamill', 'Harrison Ford', 'Carrie Fisher']\",\n",
       " \"['Kean Reeves', 'Larence Fishbrne', 'Carrie-Anne Moss']\",\n",
       " \"['Alexandre Rodriges', 'Mathes Nachtergaele', 'Leandro Firmino']\",\n",
       " \"['James Stewart', 'Donna Reed', 'Lionel Barrymore']\",\n",
       " \"['Kevin Spacey', 'Gabriel Byrne', 'Chazz Palminteri']\",\n",
       " \"['Morgan Freeman', 'Brad Pitt', 'Kevin Spacey']\",\n",
       " \"['Roberto Benigni', 'Nicoletta Braschi', 'Giorgio Cantarini']\",\n",
       " \"['Jodie Foster', 'Anthony Hopkins', 'Lawrence A. Bonney']\",\n",
       " \"['Jean Reno', 'Gary Oldman', 'Natalie Portman']\",\n",
       " \"['Charles Chaplin', 'Virginia Cherrill', 'Florence Lee']\",\n",
       " \"['Daveigh Chase', 'Szanne Pleshette', 'Miy Irino']\",\n",
       " \"['Fran\\\\xe7ois Clzet', 'Omar Sy', 'Anne Le Ny']\",\n",
       " \"['Hmphrey Bogart', 'Ingrid Bergman', 'Pal Henreid']\",\n",
       " \"['Miles Teller', 'J.K. Simmons', 'Melissa Benoist']\",\n",
       " '[\\'Edward Norton\\', \\'Edward Frlong\\', \"Beverly D\\'Angelo\"]',\n",
       " \"['Charles Chaplin', 'Palette Goddard', 'Henry Bergman']\",\n",
       " \"['Tom Hanks', 'Matt Damon', 'Tom Sizemore']\",\n",
       " \"['Harrison Ford', 'Karen Allen', 'Pal Freeman']\",\n",
       " \"['James Stewart', 'Grace Kelly', 'Wendell Corey']\",\n",
       " \"['Anthony Perkins', 'Janet Leigh', 'Vera Miles']\",\n",
       " \"['Tom Hanks', 'Michael Clarke Dncan', 'David Morse']\",\n",
       " \"['William Holden', 'Gloria Swanson', 'Erich von Stroheim']\",\n",
       " \"['Adrien Brody', 'Thomas Kretschmann', 'Frank Finlay']\",\n",
       " \"['Christian Bale', 'Tom Hardy', 'Anne Hathaway']\",\n",
       " \"['Rssell Crowe', 'Joaqin Phoenix', 'Connie Nielsen']\",\n",
       " \"['Arnold Schwarzenegger', 'Linda Hamilton', 'Edward Frlong']\",\n",
       " \"['Gy Pearce', 'Carrie-Anne Moss', 'Joe Pantoliano']\",\n",
       " \"['Darsheel Safary', 'Aamir Khan', 'Tanay Chheda']\",\n",
       " \"['Peter Sellers', 'George C. Scott', 'Sterling Hayden']\",\n",
       " \"['Leonardo DiCaprio', 'Matt Damon', 'Jack Nicholson']\",\n",
       " \"['Philippe Noiret', 'Enzo Cannavale', 'Antonella Attili']\",\n",
       " \"['Martin Sheen', 'Marlon Brando', 'Robert Dvall']\",\n",
       " \"['Charles Chaplin', 'Palette Goddard', 'Jack Oakie']\",\n",
       " \"['Christian Bale', 'Hgh Jackman', 'Scarlett Johansson']\",\n",
       " \"['Michael J. Fox', 'Christopher Lloyd', 'Lea Thompson']\",\n",
       " \"['Matthew Broderick', 'Jeremy Irons', 'James Earl Jones']\",\n",
       " \"['Ulrich M\\\\xfche', 'Martina Gedeck', 'Sebastian Koch']\",\n",
       " \"['Sigorney Weaver', 'Tom Skerritt', 'John Hrt']\",\n",
       " \"['Kirk Doglas', 'Ralph Meeker', 'Adolphe Menjo']\",\n",
       " \"['Aamir Khan', 'Madhavan', 'Mona Singh']\",\n",
       " \"['Tstom Tatsmi', 'Ayano Shiraishi', 'Akemi Yamagchi']\",\n",
       " \"['Jack Nicholson', 'Shelley Dvall', 'Danny Lloyd']\",\n",
       " \"['Peter Lorre', 'Ellen Widmann', 'Inge Landgt']\",\n",
       " \"['Ben Brtt', 'Elissa Knight', 'Jeff Garlin']\",\n",
       " \"['Tyrone Power', 'Marlene Dietrich', 'Charles Laghton']\",\n",
       " \"['Snil Dtt', 'Sanjay Dtt', 'Arshad Warsi']\",\n",
       " \"['Kevin Spacey', 'Annette Bening', 'Thora Birch']\",\n",
       " \"['J\\\\xfcrgen Prochnow', 'Herbert Gr\\\\xf6nemeyer', 'Klas Wennemann']\",\n",
       " \"['Y\\\\xf4ji Matsda', 'Yriko Ishida', 'Y\\\\xfbko Tanaka']\",\n",
       " \"['Adrey Tato', 'Mathie Kassovitz', 'Rfs']\",\n",
       " \"['Cary Grant', 'Eva Marie Saint', 'James Mason']\",\n",
       " \"['Aamir Khan', 'Soha Ali Khan', 'Siddharth']\",\n",
       " \"['Peyman Moaadi', 'Leila Hatami', 'Sareh Bayat']\",\n",
       " \"['Orson Welles', 'Joseph Cotten', 'Dorothy Comingore']\",\n",
       " \"['Sigorney Weaver', 'Michael Biehn', 'Carrie Henn']\",\n",
       " \"['James Stewart', 'Kim Novak', 'Barbara Bel Geddes']\",\n",
       " \"['Min-sik Choi', 'Ji-tae Y', 'Hye-jeong Kang']\",\n",
       " \"['Robert De Niro', 'James Woods', 'Elizabeth McGovern']\",\n",
       " \"['Fred MacMrray', 'Barbara Stanwyck', 'Edward G. Robinson']\",\n",
       " \"['Mark Hamill', 'Harrison Ford', 'Carrie Fisher']\",\n",
       " \"['Tom Hanks', 'Tim Allen', 'Joan Csack']\",\n",
       " \"['Mel Gibson', 'Sophie Marcea', 'Patrick McGoohan']\",\n",
       " \"['Gregory Peck', 'John Megna', 'Frank Overton']\",\n",
       " \"['Ellen Brstyn', 'Jared Leto', 'Jennifer Connelly']\",\n",
       " '[\"Peter O\\'Toole\", \\'Alec Ginness\\', \\'Anthony Qinn\\']',\n",
       " \"['Malcolm McDowell', 'Patrick Magee', 'Michael Bates']\",\n",
       " \"['Lamberto Maggiorani', 'Enzo Staiola', 'Lianella Carell']\",\n",
       " \"['Charles Chaplin', 'Edna Prviance', 'Jackie Coogan']\",\n",
       " \"['Shah Rkh Khan', 'Gayatri Joshi', 'Kishori Balal']\",\n",
       " \"['Harvey Keitel', 'Tim Roth', 'Michael Madsen']\",\n",
       " \"['Jim Carrey', 'Kate Winslet', 'Tom Wilkinson']\",\n",
       " \"['Robert De Niro', 'Jodie Foster', 'Cybill Shepherd']\",\n",
       " \"['Shah Rkh Khan', 'Kajol', 'Amrish Pri']\",\n",
       " '[\\'Gene Kelly\\', \"Donald O\\'Connor\", \\'Debbie Reynolds\\']',\n",
       " \"['Bette Davis', 'Anne Baxter', 'George Sanders']\",\n",
       " \"['Toshir\\\\xf4 Mifne', 'Eijir\\\\xf4 T\\\\xf4no', 'Tatsya Nakadai']\",\n",
       " \"['Pal Newman', 'Robert Redford', 'Robert Shaw']\",\n",
       " \"['Toshir\\\\xf4 Mifne', 'Machiko Ky\\\\xf4', 'Masayki Mori']\",\n",
       " \"['F. Mrray Abraham', 'Tom Hlce', 'Elizabeth Berridge']\",\n",
       " \"['Hmphrey Bogart', 'Walter Hston', 'Tim Holt']\",\n",
       " \"['Graham Chapman', 'John Cleese', 'Eric Idle']\",\n",
       " '[\\'Matthew Modine\\', \\'R. Lee Ermey\\', \"Vincent D\\'Onofrio\"]',\n",
       " \"['Jack Lemmon', 'Shirley MacLaine', 'Fred MacMrray']\",\n",
       " '[\\'Takashi Shimra\\', \\'Nobo Kaneko\\', \"Shin\\'ichi Himori\"]',\n",
       " \"['Jason Statham', 'Brad Pitt', 'Benicio Del Toro']\",\n",
       " \"['Brigitte Helm', 'Alfred Abel', 'Gstav Fr\\\\xf6hlich']\",\n",
       " \"['Aamir Khan', 'Saif Ali Khan', 'Akshaye Khanna']\",\n",
       " \"['Keir Dllea', 'Gary Lockwood', 'William Sylvester']\",\n",
       " \"['Marilyn Monroe', 'Tony Crtis', 'Jack Lemmon']\",\n",
       " \"['Kevin Spacey', 'Rssell Crowe', 'Gy Pearce']\",\n",
       " \"['Christian Bale', 'Michael Caine', 'Ken Watanabe']\",\n",
       " \"['Brad Pitt', 'Diane Krger', 'Eli Roth']\",\n",
       " \"['Al Pacino', 'Michelle Pfeiffer', 'Steven Baer']\",\n",
       " \"['James Stewart', 'Jean Arthr', 'Clade Rains']\",\n",
       " \"['Tom Hanks', 'Tim Allen', 'Don Rickles']\",\n",
       " \"['Harrison Ford', 'Sean Connery', 'Alison Doody']\",\n",
       " \"['Steve McQeen', 'James Garner', 'Richard Attenborogh']\",\n",
       " \"['Mads Mikkelsen', 'Thomas Bo Larsen', 'Annika Wedderkopp']\",\n",
       " \"['Marlon Brando', 'Karl Malden', 'Lee J. Cobb']\",\n",
       " \"['Bster Keaton', 'Marion Mack', 'Glen Cavender']\",\n",
       " \"['Robert De Niro', 'Cathy Moriarty', 'Joe Pesci']\",\n",
       " \"['Brno Ganz', 'Alexandra Maria Lara', 'Ulrich Matthes']\",\n",
       " \"['Edward Asner', 'Jordan Nagai', 'John Ratzenberger']\",\n",
       " \"['Victor Sj\\\\xf6str\\\\xf6m', 'Bibi Andersson', 'Ingrid Thlin']\",\n",
       " \"['Charles Chaplin', 'Mack Swain', 'Tom Mrray']\",\n",
       " \"['Tatsya Nakadai', 'Akira Terao', 'Jinpachi Nez']\",\n",
       " \"['Jack Nicholson', 'Faye Dnaway', 'John Hston']\",\n",
       " \"['Hitoshi Takagi', 'Noriko Hidaka', 'Chika Sakamoto']\",\n",
       " \"['Spencer Tracy', 'Brt Lancaster', 'Richard Widmark']\",\n",
       " \"['Ranbir Kapoor', 'Priyanka Chopra', 'Ileana']\",\n",
       " \"['Max von Sydow', 'Gnnar Bj\\\\xf6rnstrand', 'Bengt Ekerot']\",\n",
       " \"['Al Pacino', 'Robert De Niro', 'Val Kilmer']\",\n",
       " \"['Ivana Baqero', 'Ariadna Gil', 'Sergi L\\\\xf3pez']\",\n",
       " \"['William Holden', 'Alec Ginness', 'Jack Hawkins']\",\n",
       " \"['Brce Willis', 'Alan Rickman', 'Bonnie Bedelia']\",\n",
       " \"['Robin Williams', 'Matt Damon', 'Ben Affleck']\",\n",
       " \"['Yves Montand', 'Charles Vanel', 'Peter van Eyck']\",\n",
       " \"['Ricardo Dar\\\\xedn', 'Soledad Villamil', 'Pablo Rago']\",\n",
       " \"['Aamir Khan', 'Gracy Singh', 'Rachel Shelley']\",\n",
       " \"['Leonardo DiCaprio', 'Jonah Hill', 'Margot Robbie']\",\n",
       " \"['Clark Gable', 'Cladette Colbert', 'Walter Connolly']\",\n",
       " \"['Tom Hardy', 'Nick Nolte', 'Joel Edgerton']\",\n",
       " \"['Chieko Baish\\\\xf4', 'Takya Kimra', 'Tatsya Gash\\\\xfbin']\",\n",
       " \"['Anthony Hopkins', 'John Hrt', 'Anne Bancroft']\",\n",
       " \"['Larence Olivier', 'Joan Fontaine', 'George Sanders']\",\n",
       " \"['Lbna Azabal', 'M\\\\xe9lissa D\\\\xe9sormeax-Polin', 'Maxim Gadette']\",\n",
       " \"['Jason Flemyng', 'Dexter Fletcher', 'Nick Moran']\",\n",
       " \"['Hgo Weaving', 'Natalie Portman', 'Rpert Graves']\",\n",
       " \"['Jeff Bridges', 'John Goodman', 'Jlianne Moore']\",\n",
       " \"['Pal Newman', 'George Kennedy', 'Strother Martin']\",\n",
       " \"['Dar\\\\xedo Grandinetti', 'Mar\\\\xeda Marll', 'M\\\\xf3nica Villa']\",\n",
       " \"['Robert De Niro', 'Sharon Stone', 'Joe Pesci']\",\n",
       " \"['Clark Gable', 'Vivien Leigh', 'Thomas Mitchell']\",\n",
       " \"['Ben Affleck', 'Rosamnd Pike', 'Neil Patrick Harris']\",\n",
       " \"['Fredric March', 'Dana Andrews', 'Myrna Loy']\",\n",
       " \"['Jay Barchel', 'Gerard Btler', 'Christopher Mintz-Plasse']\",\n",
       " \"['Simone Signoret', 'V\\\\xe9ra Clozot', 'Pal Merisse']\",\n",
       " \"['Clint Eastwood', 'Bee Vang', 'Christopher Carley']\",\n",
       " \"['Daniel Br\\\\xfchl', 'Chris Hemsworth', 'Olivia Wilde']\",\n",
       " \"['Emile Hirsch', 'Vince Vaghn', 'Catherine Keener']\",\n",
       " \"['Tae-hyn Cha', 'Gianna Jn', 'In-mn Kim']\",\n",
       " \"['Robert De Niro', 'Christopher Walken', 'John Cazale']\",\n",
       " \"['Toni Collette', 'Philip Seymor Hoffman', 'Eric Bana']\",\n",
       " \"['Richard Gere', 'Joan Allen', 'Cary-Hiroyki Tagawa']\",\n",
       " \"['Hmphrey Bogart', 'Mary Astor', 'Gladys George']\",\n",
       " \"['Rssell Crowe', 'Ed Harris', 'Jennifer Connelly']\",\n",
       " \"['Ray Milland', 'Grace Kelly', 'Robert Cmmings']\",\n",
       " \"['Ewan McGregor', 'Ewen Bremner', 'Jonny Lee Miller']\",\n",
       " \"['Dong-gn Jang', 'Bin Won', 'En-j Lee']\",\n",
       " \"['Bibi Andersson', 'Liv Ullmann', 'Margaretha Krook']\",\n",
       " \"['Charlton Heston', 'Orson Welles', 'Janet Leigh']\",\n",
       " \"['William H. Macy', 'Frances McDormand', 'Steve Bscemi']\",\n",
       " \"['Robert Downey Jr.', 'Chris Evans', 'Scarlett Johansson']\",\n",
       " \"['Jean-Pierre L\\\\xe9ad', 'Albert R\\\\xe9my', 'Claire Marier']\",\n",
       " \"['Cary Elwes', 'Mandy Patinkin', 'Robin Wright']\",\n",
       " \"['Don Cheadle', 'Sophie Okonedo', 'Joaqin Phoenix']\",\n",
       " \"['Alisa Freyndlikh', 'Aleksandr Kaydanovskiy', 'Anatoliy Solonitsyn']\",\n",
       " \"['Brahim Hadjadj', 'Jean Martin', 'Yacef Saadi']\",\n",
       " \"['Predrag Manojlovic', 'Lazar Ristovski', 'Mirjana Jokovic']\",\n",
       " \"['Bertil Gve', 'Pernilla Allwin', 'Kristina Adolphson']\",\n",
       " \"['Faye Dnaway', 'William Holden', 'Peter Finch']\",\n",
       " \"['Krt Rssell', 'Wilford Brimley', 'Keith David']\",\n",
       " \"['Pal Newman', 'Robert Redford', 'Katharine Ross']\",\n",
       " \"['Henry Fonda', 'Jane Darwell', 'John Carradine']\",\n",
       " \"['Bajram Severdzan', 'Srdjan Todorovic', 'Branka Katic']\",\n",
       " \"['Graham Chapman', 'John Cleese', 'Michael Palin']\",\n",
       " \"['Brce Willis', 'Haley Joel Osment', 'Toni Collette']\",\n",
       " \"['Albert Brooks', 'Ellen DeGeneres', 'Alexander Gold']\",\n",
       " \"['Smi Shimamoto', 'Mahito Tsjimra', 'Hisako Ky\\\\xf4da']\",\n",
       " \"['Colin Firth', 'Taron Egerton', 'Samel L. Jackson']\",\n",
       " \"['Charlie Sheen', 'Tom Berenger', 'Willem Dafoe']\",\n",
       " \"['Chris Pratt', 'Vin Diesel', 'Bradley Cooper']\",\n",
       " \"['Daniel Day-Lewis', 'Pete Postlethwaite', 'Alison Crosbie']\",\n",
       " \"['Uma Thrman', 'David Carradine', 'Daryl Hannah']\",\n",
       " \"['Tommy Lee Jones', 'Javier Bardem', 'Josh Brolin']\",\n",
       " \"['Alain Delon', 'Nathalie Delon', 'Fran\\\\xe7ois P\\\\xe9rier']\",\n",
       " \"['Chiwetel Ejiofor', 'Michael Kenneth Williams', 'Michael Fassbender']\",\n",
       " \"['Tim Roth', 'Pritt Taylor Vince', 'Bill Nnn']\",\n",
       " \"['Marcello Mastroianni', 'Anok Aim\\\\xe9e', 'Cladia Cardinale']\",\n",
       " \"['Charlton Heston', 'Jack Hawkins', 'Stephen Boyd']\",\n",
       " \"['Emilio Echevarr\\\\xeda', 'Gael Garc\\\\xeda Bernal', 'Goya Toledo']\",\n",
       " \"['Wil Wheaton', 'River Phoenix', 'Corey Feldman']\",\n",
       " \"['Bette Davis', 'Joan Crawford', 'Victor Bono']\",\n",
       " \"['Woody Allen', 'Diane Keaton', 'Tony Roberts']\",\n",
       " \"['Benedict Cmberbatch', 'Keira Knightley', 'Matthew Goode']\",\n",
       " \"['Masahiro Motoki', 'Ry\\\\xf4ko Hirose', 'Tstom Yamazaki']\",\n",
       " \"['Andy La', 'Tony Chi Wai Leng', 'Anthony Cha-Sang Wong']\",\n",
       " \"['Daniel Day-Lewis', 'Pal Dano', 'Ciar\\\\xe1n Hinds']\",\n",
       " \"['Ralph Fiennes', 'F. Mrray Abraham', 'Mathie Amalric']\",\n",
       " \"['Anthony Qinn', 'Gilietta Masina', 'Richard Basehart']\",\n",
       " \"['Mickey Rorke', 'Clive Owen', 'Brce Willis']\",\n",
       " \"['Kang-ho Song', 'Sang-kyng Kim', 'Roe-ha Kim']\",\n",
       " \"['Jake Gyllenhaal', 'Jena Malone', 'Mary McDonnell']\",\n",
       " \"['Elizabeth Taylor', 'Richard Brton', 'George Segal']\",\n",
       " \"['Ben Kingsley', 'John Gielgd', 'Candice Bergen']\",\n",
       " \"['Natalya Bondarchk', 'Donatas Banionis', 'J\\\\xfcri J\\\\xe4rvet']\",\n",
       " \"['Daniel Radcliffe', 'Emma Watson', 'Rpert Grint']\",\n",
       " \"['Harry Dean Stanton', 'Nastassja Kinski', 'Dean Stockwell']\",\n",
       " \"['Jdy Garland', 'Frank Morgan', 'Ray Bolger']\",\n",
       " \"['Seng-yeon Lee', 'Hyn-kyoon Lee', 'Hyk-ho Kwon']\",\n",
       " \"['Ellar Coltrane', 'Patricia Arqette', 'Ethan Hawke']\",\n",
       " \"['Hilary Swank', 'Clint Eastwood', 'Morgan Freeman']\",\n",
       " \"['Timothy Bottoms', 'Jeff Bridges', 'Cybill Shepherd']\",\n",
       " \"['Farley Granger', 'Robert Walker', 'Rth Roman']\",\n",
       " \"['Elizabeth Taylor', 'Pal Newman', 'Brl Ives']\",\n",
       " \"['Marcello Mastroianni', 'Anita Ekberg', 'Anok Aim\\\\xe9e']\",\n",
       " \"['Brigitte Lin', 'Takeshi Kaneshiro', 'Tony Chi Wai Leng']\",\n",
       " \"['Robert Mitchm', 'Shelley Winters', 'Lillian Gish']\",\n",
       " \"['Vincent Cassel', 'Hbert Kond\\\\xe9', 'Sa\\\\xefd Taghmaoi']\",\n",
       " \"['Donnie Yen', 'Simon Yam', 'Si-Wong Fan']\",\n",
       " \"['Cary Grant', 'Ingrid Bergman', 'Clade Rains']\",\n",
       " \"['Ethan Hawke', 'Jlie Delpy', 'Andrea Eckert']\",\n",
       " \"['Wagner Mora', 'Irandhir Santos', 'Andr\\\\xe9 Ramiro']\",\n",
       " \"['Matt Damon', '\\\\xc9dgar Ram\\\\xedrez', 'Joan Allen']\",\n",
       " \"['Anna Paqin', 'James Van Der Beek', 'Cloris Leachman']\",\n",
       " \"['Ulrich Thomsen', 'Henning Moritzen', 'Thomas Bo Larsen']\",\n",
       " \"['Ki-dk Kim', 'Yeong-s Oh', 'Jong-ho Kim']\",\n",
       " \"['Leonardo DiCaprio', 'Emily Mortimer', 'Mark Rffalo']\",\n",
       " '[\"Ryan O\\'Neal\", \\'Marisa Berenson\\', \\'Patrick Magee\\']',\n",
       " \"['William Holden', 'Don Taylor', 'Otto Preminger']\",\n",
       " \"['Ir\\\\xe8ne Jacob', 'Jean-Lois Trintignant', 'Fr\\\\xe9d\\\\xe9riqe Feder']\",\n",
       " \"['Patrick Stewart', 'Ian McKellen', 'Hgh Jackman']\",\n",
       " \"['Larence Olivier', 'Michael Caine', 'Alec Cawthorne']\",\n",
       " \"['Tony Chi Wai Leng', 'Maggie Cheng', 'Ping Lam Si']\",\n",
       " \"['James Stewart', 'John Wayne', 'Vera Miles']\",\n",
       " \"['Cary Grant', 'Priscilla Lane', 'Raymond Massey']\",\n",
       " \"['Hmphrey Bogart', 'Laren Bacall', 'John Ridgely']\",\n",
       " \"['Gregory Peck', 'Adrey Hepbrn', 'Eddie Albert']\",\n",
       " \"['Cary Grant', 'Katharine Hepbrn', 'James Stewart']\",\n",
       " \"['Nozom Sasaki', 'Mami Koyama', 'Mitso Iwata']\",\n",
       " \"['James Stewart', 'Lee Remick', 'Ben Gazzara']\",\n",
       " \"['Werner Krass', 'Conrad Veidt', 'Friedrich Feher']\",\n",
       " \"['Emma Stone', 'Viola Davis', 'Octavia Spencer']\",\n",
       " \"['Javier Bardem', 'Bel\\\\xe9n Reda', 'Lola De\\\\xf1as']\",\n",
       " \"['Wagner Mora', 'Andr\\\\xe9 Ramiro', 'Caio Jnqeira']\",\n",
       " \"['Pal Newman', 'Jackie Gleason', 'Piper Larie']\",\n",
       " \"['Brce Willis', 'Madeleine Stowe', 'Brad Pitt']\",\n",
       " \"['James Stewart', 'Josephine Hll', 'Peggy Dow']\",\n",
       " \"['Peter Billingsley', 'Melinda Dillon', 'Darren McGavin']\",\n",
       " \"['Roy Scheider', 'Robert Shaw', 'Richard Dreyfss']\",\n",
       " \"['Iko Uwais', 'Yayan Rhian', 'Arifin Ptra']\",\n",
       " \"['Sylvester Stallone', 'Talia Shire', 'Brt Yong']\",\n",
       " \"['Brno Ganz', 'Solveig Dommartin', 'Otto Sander']\",\n",
       " \"['Johnny Depp', 'Geoffrey Rsh', 'Orlando Bloom']\",\n",
       " \"['Sterling Hayden', 'Coleen Gray', 'Vince Edwards']\",\n",
       " \"['Steve McQeen', 'Dstin Hoffman', 'Victor Jory']\",\n",
       " \"['Colin Firth', 'Geoffrey Rsh', 'Helena Bonham Carter']\",\n",
       " \"['Bill Mrray', 'Andie MacDowell', 'Chris Elliott']\",\n",
       " \"['Clint Eastwood', 'Gian Maria Volont\\\\xe9', 'Marianne Koch']\",\n",
       " \"['Billy Crystal', 'John Goodman', 'Mary Gibbs']\",\n",
       " \"['Al Pacino', 'John Cazale', 'Penelope Allen']\",\n",
       " \"['Logan Lerman', 'Emma Watson', 'Ezra Miller']\",\n",
       " \"['Gene Wilder', 'Madeline Kahn', 'Marty Feldman']\",\n",
       " \"['Arnold Schwarzenegger', 'Linda Hamilton', 'Michael Biehn']\",\n",
       " \"['Rth Gordon', 'Bd Cort', 'Vivian Pickles']\",\n",
       " \"['Ethan Hawke', 'Jlie Delpy', 'Vernon Dobtcheff']\",\n",
       " \"['Vivien Leigh', 'Marlon Brando', 'Kim Hnter']\",\n",
       " \"['Katharine Hepbrn', 'Cary Grant', 'Charles Rggles']\",\n",
       " \"['Mathie Amalric', 'Emmanelle Seigner', 'Marie-Jos\\\\xe9e Croze']\",\n",
       " \"['Cary Grant', 'Rosalind Rssell', 'Ralph Bellamy']\",\n",
       " \"['Billy Bob Thornton', 'Dwight Yoakam', 'J.T. Walsh']\",\n",
       " \"['Lew Ayres', 'Lois Wolheim', 'John Wray']\",\n",
       " \"['Hgh Jackman', 'Jake Gyllenhaal', 'Viola Davis']\",\n",
       " \"['Vladimir Garin', 'Ivan Dobronravov', 'Konstantin Lavronenko']\",\n",
       " \"['Frank Sinatra', 'Larence Harvey', 'Janet Leigh']\",\n",
       " \"['Grocho Marx', 'Harpo Marx', 'Chico Marx']\",\n",
       " '[\"Paige O\\'Hara\", \\'Robby Benson\\', \\'Richard White\\']',\n",
       " \"['Jim Carrey', 'Ed Harris', 'Lara Linney']\",\n",
       " \"['William Holden', 'Ernest Borgnine', 'Robert Ryan']\",\n",
       " \"['James Stewart', 'John Dall', 'Farley Granger']\",\n",
       " \"['Dstin Hoffman', 'Anne Bancroft', 'Katharine Ross']\",\n",
       " \"['Sam Neill', 'Lara Dern', 'Jeff Goldblm']\",\n",
       " \"['Nicole Kidman', 'Pal Bettany', 'Laren Bacall']\",\n",
       " \"['Vin Diesel', 'Pal Walker', 'Dwayne Johnson']\",\n",
       " \"['George C. Scott', 'Karl Malden', 'Stephen Yong']\",\n",
       " '[\\'Danny Elfman\\', \\'Chris Sarandon\\', \"Catherine O\\'Hara\"]',\n",
       " \"['Peter Sellers', 'Shirley MacLaine', 'Melvyn Doglas']\",\n",
       " \"['Chiara Mastroianni', 'Catherine Deneve', 'Gena Rowlands']\",\n",
       " \"['Rob Reiner', 'Michael McKean', 'Christopher Gest']\",\n",
       " \"['James Dean', 'Raymond Massey', 'Jlie Harris']\",\n",
       " \"['Bob Geldof', 'Christine Hargreaves', 'James Larenson']\",\n",
       " \"['Leonardo DiCaprio', 'Djimon Honso', 'Jennifer Connelly']\",\n",
       " \"['Ewan McGregor', 'Albert Finney', 'Billy Crdp']\",\n",
       " \"['Dev Patel', 'Freida Pinto', 'Sarabh Shkla']\",\n",
       " \"['Chris Pine', 'Zachary Qinto', 'Simon Pegg']\",\n",
       " \"['Richard Farnsworth', 'Sissy Spacek', 'Jane Galloway Heitz']\",\n",
       " \"['Martin Landa', 'Woody Allen', 'Bill Bernstein']\",\n",
       " \"['Cary Grant', 'Adrey Hepbrn', 'Walter Mattha']\",\n",
       " \"['Kevin Costner', 'Gary Oldman', 'Jack Lemmon']\",\n",
       " \"['David Emge', 'Ken Foree', 'Scott H. Reiniger']\",\n",
       " \"['Tom Crise', 'Jason Robards', 'Jlianne Moore']\",\n",
       " \"['Woody Allen', 'Diane Keaton', 'Mariel Hemingway']\",\n",
       " \"['Fernanda Montenegro', 'Vin\\\\xedcis de Oliveira', 'Mar\\\\xedlia P\\\\xeara']\",\n",
       " \"['Ellen Brstyn', 'Max von Sydow', 'Linda Blair']\",\n",
       " \"['Joaqin Phoenix', 'Amy Adams', 'Scarlett Johansson']\",\n",
       " \"['Bj\\\\xf6rk', 'Catherine Deneve', 'David Morse']\",\n",
       " \"['Dstin Hoffman', 'Tom Crise', 'Valeria Golino']\",\n",
       " \"['Rosario Flores', 'Javier C\\\\xe1mara', 'Dar\\\\xedo Grandinetti']\",\n",
       " \"['Errol Flynn', 'Olivia de Havilland', 'Basil Rathbone']\",\n",
       " \"['Klas Kinski', 'Ry Gerra', 'Helena Rojo']\",\n",
       " \"['Sidney Poitier', 'Rod Steiger', 'Warren Oates']\",\n",
       " \"['Max Schreck', 'Greta Schr\\\\xf6der', 'Rth Landshoff']\",\n",
       " \"['Natalie Portman', 'Mila Knis', 'Vincent Cassel']\",\n",
       " \"['Brad Garrett', 'Lo Romano', 'Patton Oswalt']\",\n",
       " \"['John Wayne', 'Jeffrey Hnter', 'Vera Miles']\",\n",
       " \"['Brie Larson', 'Frantz Trner', 'John Gallagher Jr.']\",\n",
       " \"['Omar Sharif', 'Jlie Christie', 'Geraldine Chaplin']\",\n",
       " \"['Sraj Sharma', 'Irrfan Khan', 'Adil Hssain']\",\n",
       " \"['Dstin Hoffman', 'Robert Redford', 'Jack Warden']\",\n",
       " \"['Kevin Costner', 'Mary McDonnell', 'Graham Greene']\",\n",
       " \"['Leonardo DiCaprio', 'Tom Hanks', 'Christopher Walken']\",\n",
       " \"['Rssell Crowe', 'Ren\\\\xe9e Zellweger', 'Craig Bierko']\",\n",
       " \"['Robin Williams', 'Robert Sean Leonard', 'Ethan Hawke']\",\n",
       " \"['Atsko Tanaka', 'Iemasa Kaymi', 'Akio \\\\xd4tska']\",\n",
       " \"['Birol \\\\xdcnel', 'Sibel Kekilli', 'G\\\\xfcven Kira\\\\xe7']\",\n",
       " \"['Branko Djric', 'Rene Bitorajac', 'Filip Sovagovic']\",\n",
       " \"['Matthew McConaghey', 'Jennifer Garner', 'Jared Leto']\",\n",
       " \"['Richard Gere', 'Brooke Adams', 'Sam Shepard']\",\n",
       " \"['Jlie Andrews', 'Christopher Plmmer', 'Eleanor Parker']\",\n",
       " \"['Sharlto Copley', 'David James', 'Jason Cope']\",\n",
       " \"['Colin Clive', 'Mae Clarke', 'Boris Karloff']\",\n",
       " \"['Simon Pegg', 'Nick Frost', 'Kate Ashfield']\",\n",
       " '[\\'Dane Jones\\', \"Jdith O\\'Dea\", \\'Karl Hardman\\']',\n",
       " \"['Uma Thrman', 'David Carradine', 'Michael Madsen']\",\n",
       " \"['Timothy Spall', 'Brenda Blethyn', 'Phyllis Logan']\",\n",
       " \"['Jean Djardin', 'B\\\\xe9r\\\\xe9nice Bejo', 'John Goodman']\",\n",
       " \"['Scott Weinger', 'Robin Williams', 'Linda Larkin']\",\n",
       " \"['Margaret Lockwood', 'Michael Redgrave', 'Pal Lkas']\",\n",
       " \"['Ian McKellen', 'Martin Freeman', 'Richard Armitage']\",\n",
       " \"['K\\\\xe5re Hedebrant', 'Lina Leandersson', 'Per Ragnar']\",\n",
       " \"['Topol', 'Norma Crane', 'Leonard Frey']\",\n",
       " \"['Martin Freeman', 'Ian McKellen', 'Richard Armitage']\",\n",
       " \"['Jliette Binoche', 'Zbigniew Zamachowski', 'Jlie Delpy']\",\n",
       " \"['Mia Farrow', 'John Cassavetes', 'Rth Gordon']\",\n",
       " \"['Sean Penn', 'Tim Robbins', 'Kevin Bacon']\",\n",
       " \"['Nathan Fillion', 'Gina Torres', 'Chiwetel Ejiofor']\",\n",
       " \"['Magali No\\\\xebl', 'Brno Zanin', 'Ppella Maggio']\",\n",
       " \"['Charlton Heston', 'Roddy McDowall', 'Kim Hnter']\",\n",
       " \"['Christian Slater', 'Patricia Arqette', 'Dennis Hopper']\",\n",
       " \"['Mia Farrow', 'Dianne Wiest', 'Michael Caine']\",\n",
       " \"['Sam Rockwell', 'Kevin Spacey', 'Dominiqe McElligott']\",\n",
       " \"['Ethan Hawke', 'Jlie Delpy', 'Seams Davey-Fitzpatrick']\",\n",
       " \"['Shah Rkh Khan', 'Kajol', 'Sheetal Menon']\",\n",
       " '[\\'Al Pacino\\', \"Chris O\\'Donnell\", \\'James Rebhorn\\']',\n",
       " \"['Naomi Watts', 'Lara Harring', 'Jstin Therox']\",\n",
       " \"['Fay Wray', 'Robert Armstrong', 'Brce Cabot']\",\n",
       " \"['Shailene Woodley', 'Ansel Elgort', 'Nat Wolff']\",\n",
       " \"['Craig T. Nelson', 'Samel L. Jackson', 'Holly Hnter']\",\n",
       " \"['Johnny Depp', 'Winona Ryder', 'Dianne Wiest']\",\n",
       " \"['Daniel Craig', 'Eva Green', 'Jdi Dench']\",\n",
       " \"['Jay Barchel', 'Cate Blanchett', 'Gerard Btler']\",\n",
       " \"['Colin Farrell', 'Brendan Gleeson', 'Ciar\\\\xe1n Hinds']\",\n",
       " \"['Kevin Costner', 'Sean Connery', 'Robert De Niro']\",\n",
       " \"['Jean-Pal Belmondo', 'Jean Seberg', 'Daniel Bolanger']\",\n",
       " \"['Kirk Doglas', 'Larence Olivier', 'Jean Simmons']\",\n",
       " \"['Eli Marienthal', 'Harry Connick Jr.', 'Jennifer Aniston']\",\n",
       " \"['Dstin Hoffman', 'Jon Voight', 'Sylvia Miles']\",\n",
       " \"['John Belshi', 'Dan Aykroyd', 'Cab Calloway']\",\n",
       " \"['Wallace Ford', 'Leila Hyams', 'Olga Baclanova']\",\n",
       " \"['Ken Watanabe', 'Kaznari Ninomiya', 'Tsyoshi Ihara']\",\n",
       " \"['Tom Crise', 'Emily Blnt', 'Bill Paxton']\",\n",
       " \"['Matthew Broderick', 'Denzel Washington', 'Cary Elwes']\",\n",
       " \"['Hmphrey Bogart', 'Katharine Hepbrn', 'Robert Morley']\",\n",
       " \"['Michael Keaton', 'Zach Galifianakis', 'Edward Norton']\",\n",
       " \"['Ryan Potter', 'Scott Adsit', 'Jamie Chng']\",\n",
       " \"['Billy Crdp', 'Patrick Fgit', 'Kate Hdson']\",\n",
       " \"['Gena Rowlands', 'James Garner', 'Rachel McAdams']\",\n",
       " \"['Gene Hackman', 'John Cazale', 'Allen Garfield']\",\n",
       " \"['Emilio Estevez', 'Jdd Nelson', 'Molly Ringwald']\",\n",
       " \"['Will Smith', 'Thandie Newton', 'Jaden Smith']\",\n",
       " \"['Yn-Fat Chow', 'Danny Lee', 'Sally Yeh']\",\n",
       " \"['Glen Hansard', 'Mark\\\\xe9ta Irglov\\\\xe1', 'Hgh Walsh']\",\n",
       " \"['Jet Li', 'Tony Chi Wai Leng', 'Maggie Cheng']\",\n",
       " \"['Anthony Hopkins', 'Emma Thompson', 'John Haycraft']\",\n",
       " \"['Boris Karloff', 'Elsa Lanchester', 'Colin Clive']\",\n",
       " \"['Mickey Rorke', 'Marisa Tomei', 'Evan Rachel Wood']\",\n",
       " \"['Jake Gyllenhaal', 'Rene Rsso', 'Bill Paxton']\",\n",
       " \"['Yn-Fat Chow', 'Tony Chi Wai Leng', 'Teresa Mo']\",\n",
       " \"['Warren Beatty', 'Faye Dnaway', 'Michael J. Pollard']\",\n",
       " \"['Franka Potente', 'Matt Damon', 'Chris Cooper']\",\n",
       " \"['Hmphrey Bogart', 'Edward G. Robinson', 'Laren Bacall']\",\n",
       " \"['Ricardo Dar\\\\xedn', 'Gast\\\\xf3n Pals', 'Leticia Br\\\\xe9dice']\",\n",
       " \"['Tom Hanks', 'Tim Allen', 'Joan Csack']\",\n",
       " \"['Sam Waterston', 'Haing S. Ngor', 'John Malkovich']\",\n",
       " \"['Cecilia Roth', 'Marisa Paredes', 'Candela Pe\\\\xf1a']\",\n",
       " \"['Bea Billingslea', 'Melissa Fahn', 'Nicholas Gest']\",\n",
       " \"['Johnny Depp', 'Martin Landa', 'Sarah Jessica Parker']\",\n",
       " \"['John Wayne', 'Claire Trevor', 'Andy Devine']\",\n",
       " \"['Sean Connery', 'Michael Caine', 'Christopher Plmmer']\",\n",
       " \"['Jlianne Moore', 'Clive Owen', 'Chiwetel Ejiofor']\",\n",
       " \"['Rssell Crowe', 'Al Pacino', 'Christopher Plmmer']\",\n",
       " \"['Sam Shepard', 'Scott Glenn', 'Ed Harris']\",\n",
       " \"['Martin Sheen', 'Sissy Spacek', 'Warren Oates']\",\n",
       " \"['Tahar Rahim', 'Niels Arestrp', 'Adel Bencherif']\",\n",
       " \"['Anamaria Marinca', 'Vlad Ivanov', 'Lara Vasili']\",\n",
       " \"['B\\\\xe9r\\\\xe9nice Bejo', 'Tahar Rahim', 'Ali Mosaffa']\",\n",
       " \"['Lee Pace', 'Catinca Untar', 'Jstine Waddell']\",\n",
       " \"['Emily Watson', 'Stellan Skarsg\\\\xe5rd', 'Katrin Cartlidge']\",\n",
       " \"['Jared Leto', 'Sarah Polley', 'Diane Krger']\",\n",
       " \"['Don Cheadle', 'Sandra Bllock', 'Thandie Newton']\",\n",
       " \"['Sam Worthington', 'Zoe Saldana', 'Sigorney Weaver']\",\n",
       " \"['Robert Downey Jr.', 'Gwyneth Paltrow', 'Terrence Howard']\",\n",
       " \"['Danny Aiello', 'Ossie Davis', 'Rby Dee']\",\n",
       " \"['Al Pacino', 'Sean Penn', 'Penelope Ann Miller']\",\n",
       " \"['Yn-Fat Chow', 'Michelle Yeoh', 'Ziyi Zhang']\",\n",
       " \"['Oksana Akinshina', 'Artyom Bogcharskiy', 'Pavel Ponomaryov']\",\n",
       " \"['G\\\\xe9rard Jgnot', 'Fran\\\\xe7ois Berl\\\\xe9and', 'Jean-Baptiste Manier']\",\n",
       " \"['Willem Dafoe', 'Sean Patrick Flanery', 'Norman Reeds']\",\n",
       " \"['Gabriel Byrne', 'Albert Finney', 'John Trtrro']\",\n",
       " \"['Joaqin Phoenix', 'Reese Witherspoon', 'Ginnifer Goodwin']\",\n",
       " \"['Mike Myers', 'Eddie Mrphy', 'Cameron Diaz']\",\n",
       " \"['Adrey Hepbrn', 'Rex Harrison', 'Stanley Holloway']\",\n",
       " \"['Charlton Heston', 'Yl Brynner', 'Anne Baxter']\",\n",
       " \"['Mark Wahlberg', 'Christian Bale', 'Amy Adams']\",\n",
       " \"['Tom Hanks', 'Barkhad Abdi', 'Barkhad Abdirahman']\",\n",
       " \"['Liza Minnelli', 'Michael York', 'Helmt Griem']\",\n",
       " \"['Donald Pleasence', 'Jamie Lee Crtis', 'Tony Moran']\",\n",
       " \"['Daniel Day-Lewis', 'Brenda Fricker', 'Alison Whelan']\",\n",
       " '[\\'Edmnd Gwenn\\', \"Mareen O\\'Hara\", \\'John Payne\\']',\n",
       " \"['Bin Won', 'Sae-ron Kim', 'Tae-hoon Kim']\",\n",
       " \"['Riisa Naka', 'Takya Ishida', 'Mitstaka Itakra']\",\n",
       " \"['Steve Carell', 'Toni Collette', 'Greg Kinnear']\",\n",
       " \"['Liam Neeson', 'Maggie Grace', 'Famke Janssen']\",\n",
       " \"['L\\\\xe9a Seydox', 'Ad\\\\xe8le Exarchopolos', 'Salim Kechioche']\",\n",
       " \"['Mark Wahlberg', 'Jlianne Moore', 'Brt Reynolds']\",\n",
       " \"['Simon Pegg', 'Nick Frost', 'Martin Freeman']\",\n",
       " \"['Matthew Broderick', 'Alan Rck', 'Mia Sara']\",\n",
       " \"['Anthony Hopkins', 'Diane Ladd', 'Iain Rea']\",\n",
       " \"['Kirsten Dnst', 'Minami Takayama', 'Rei Sakma']\",\n",
       " \"['Tom Waits', 'John Lrie', 'Roberto Benigni']\",\n",
       " \"['Al Pacino', 'Jack Lemmon', 'Alec Baldwin']\",\n",
       " '[\"Brian O\\'Halloran\", \\'Jeff Anderson\\', \\'Marilyn Ghigliotti\\']',\n",
       " \"['Ulrich Thomsen', 'Mads Mikkelsen', 'Nicolas Bro']\",\n",
       " \"['Daniel Craig', 'Rooney Mara', 'Christopher Plmmer']\",\n",
       " \"['Robert Donat', 'Madeleine Carroll', 'Lcie Mannheim']\",\n",
       " \"['Krt Rssell', 'Val Kilmer', 'Sam Elliott']\",\n",
       " \"['Arnold Schwarzenegger', 'Carl Weathers', 'Kevin Peter Hall']\",\n",
       " \"['Mandy Moore', 'Zachary Levi', 'Donna Mrphy']\",\n",
       " \"['Spencer Tracy', 'Sidney Poitier', 'Katharine Hepbrn']\",\n",
       " \"['Donald Stherland', 'Mary Tyler Moore', 'Jdd Hirsch']\",\n",
       " \"['Geoffrey Rsh', 'Jim Strgess', 'Sylvia Hoeks']\",\n",
       " \"['Bradley Cooper', 'Jennifer Lawrence', 'Robert De Niro']\",\n",
       " \"['Kenneth Branagh', 'Jlie Christie', 'Derek Jacobi']\",\n",
       " \"['Jean-Lois Trintignant', 'Emmanelle Riva', 'Isabelle Hppert']\",\n",
       " \"['Byng-hn Lee', 'Min-sik Choi', 'In-seo Kim']\",\n",
       " \"['Gael Garc\\\\xeda Bernal', 'Rodrigo De la Serna', 'M\\\\xeda Maestro']\",\n",
       " \"['Ron Livingston', 'Jennifer Aniston', 'David Herman']\",\n",
       " \"['Andreas Wilson', 'Henrik Lndstr\\\\xf6m', 'Gstaf Skarsg\\\\xe5rd']\",\n",
       " \"['Michael Nyqvist', 'Noomi Rapace', 'Ewa Fr\\\\xf6ling']\",\n",
       " \"['Richard E. Grant', 'Pal McGann', 'Richard Griffiths']\",\n",
       " \"['Carice van Hoten', 'Sebastian Koch', 'Thom Hoffman']\",\n",
       " \"['Brce Campbell', 'Sarah Berry', 'Dan Hicks']\",\n",
       " \"['Hideaki Anno', 'Hidetoshi Nishijima', 'Miori Takimoto']\",\n",
       " \"['Chris Pine', 'Zachary Qinto', 'Zoe Saldana']\",\n",
       " \"['Mich\\\\xe8le Cachetex', 'Jean-Clade Donda', 'Michel Robin']\",\n",
       " \"['Edardo Noriega', 'Pen\\\\xe9lope Crz', 'Chete Lera']\",\n",
       " \"['Yl Brynner', 'Steve McQeen', 'Charles Bronson']\",\n",
       " \"['Ryan Gosling', 'Carey Mlligan', 'Bryan Cranston']\",\n",
       " \"['Gene Hackman', 'Willem Dafoe', 'Frances McDormand']\",\n",
       " \"['Chris Pratt', 'Will Ferrell', 'Elizabeth Banks']\",\n",
       " \"['Edward Fox', 'Terence Alexander', 'Michel Aclair']\",\n",
       " \"['Leopold Stokowski', 'Deems Taylor', 'Corey Brton']\",\n",
       " \"['Ethan Hawke', 'Uma Thrman', 'Jde Law']\",\n",
       " \"['Denzel Washington', 'Rssell Crowe', 'Chiwetel Ejiofor']\",\n",
       " \"['Sh\\\\xfbichir\\\\xf4 Moriyama', 'Tokiko Kat\\\\xf4', 'Sanshi Katsra']\",\n",
       " \"['Gene Hackman', 'Roy Scheider', 'Fernando Rey']\",\n",
       " \"['Asa Btterfield', 'David Thewlis', 'Rpert Friend']\",\n",
       " \"['Christian Bale', 'John Malkovich', 'Miranda Richardson']\",\n",
       " \"['Domhnall Gleeson', 'Rachel McAdams', 'Bill Nighy']\",\n",
       " \"['Isabella Rossellini', 'Kyle MacLachlan', 'Dennis Hopper']\",\n",
       " \"['Paddy Considine', 'Samantha Morton', 'Djimon Honso']\",\n",
       " \"['Brad Pitt', 'Cate Blanchett', 'Tilda Swinton']\",\n",
       " \"['Daniel Day-Lewis', 'Madeleine Stowe', 'Rssell Means']\",\n",
       " \"['Jared Gilman', 'Kara Hayward', 'Brce Willis']\",\n",
       " \"['James Dean', 'Natalie Wood', 'Sal Mineo']\",\n",
       " \"['George Clooney', 'Meryl Streep', 'Bill Mrray']\",\n",
       " \"['Kevin McCarthy', 'Dana Wynter', 'Larry Gates']\",\n",
       " \"['Jake Gyllenhaal', 'Chris Cooper', 'Lara Dern']\",\n",
       " \"['Clint Eastwood', 'Andrew Robinson', 'Harry Gardino']\",\n",
       " \"['Bill Mrray', 'Dan Aykroyd', 'Sigorney Weaver']\",\n",
       " \"['Chris Evans', 'Samel L. Jackson', 'Scarlett Johansson']\",\n",
       " \"['John C. Reilly', 'Jack McBrayer', 'Jane Lynch']\",\n",
       " \"['Zach Galifianakis', 'Bradley Cooper', 'Jstin Bartha']\",\n",
       " \"['Michael J. Fox', 'Christopher Lloyd', 'Lea Thompson']\",\n",
       " \"['Catherine Deneve', 'Jean Sorel', 'Michel Piccoli']\",\n",
       " \"['George Clooney', 'John Trtrro', 'Tim Blake Nelson']\",\n",
       " \"['Catherine Deneve', 'Ian Hendry', 'John Fraser']\",\n",
       " \"['Robert Hays', 'Jlie Hagerty', 'Leslie Nielsen']\",\n",
       " \"['Keira Knightley', 'Matthew Macfadyen', 'Brenda Blethyn']\",\n",
       " \"['Stanley Baker', 'Jack Hawkins', 'Ulla Jacobsson']\",\n",
       " \"['Winona Ryder', 'Gena Rowlands', 'Lisanne Falk']\",\n",
       " \"['Brt Lancaster', 'Montgomery Clift', 'Deborah Kerr']\",\n",
       " \"['Gerardo Taracena', 'Raol Trjillo', 'Dalia Hern\\\\xe1ndez']\",\n",
       " \"['Keira Knightley', 'James McAvoy', 'Brenda Blethyn']\",\n",
       " \"['Lee Marvin', 'Ernest Borgnine', 'Charles Bronson']\",\n",
       " \"['James McAvoy', 'Michael Fassbender', 'Jennifer Lawrence']\",\n",
       " \"['Franka Potente', 'Moritz Bleibtre', 'Herbert Knap']\",\n",
       " \"['John Wayne', 'Robert Ryan', 'Richard Brton']\",\n",
       " \"['Woody Allen', 'Mia Farrow', 'Patrick Horgan']\",\n",
       " '[\\'John Lone\\', \\'Joan Chen\\', \"Peter O\\'Toole\"]',\n",
       " \"['Sean Astin', 'Josh Brolin', 'Jeff Cohen']\",\n",
       " \"['Christian Friedel', 'Ernst Jacobi', 'Leonie Benesch']\",\n",
       " \"['Harrison Ford', 'Tommy Lee Jones', 'Sela Ward']\",\n",
       " \"['Danny Glover', 'Whoopi Goldberg', 'Oprah Winfrey']\",\n",
       " \"['Trey Parker', 'Matt Stone', 'Mary Kay Bergman']\",\n",
       " \"['Zooey Deschanel', 'Joseph Gordon-Levitt', 'Geoffrey Arend']\",\n",
       " \"['Bill Mrray', 'Scarlett Johansson', 'Giovanni Ribisi']\",\n",
       " \"['Ben Affleck', 'Bryan Cranston', 'John Goodman']\",\n",
       " \"['Cleavon Little', 'Gene Wilder', 'Slim Pickens']\",\n",
       " \"['Adrey Hepbrn', 'George Peppard', 'Patricia Neal']\",\n",
       " \"['Johnny Depp', 'Kate Winslet', 'Jlie Christie']\",\n",
       " \"['Moritz Bleibtre', 'Christian Berkel', 'Oliver Stokowski']\",\n",
       " \"['Josh Hartnett', 'Ben Kingsley', 'Morgan Freeman']\",\n",
       " \"['Eddie Redmayne', 'Felicity Jones', 'Tom Prior']\",\n",
       " \"['Daniel Radcliffe', 'Emma Watson', 'Rpert Grint']\",\n",
       " \"['Stephen Chow', 'Wah Yen', 'Qi Yen']\",\n",
       " \"['John Csack', 'Cameron Diaz', 'Catherine Keener']\",\n",
       " \"['Jesse Eisenberg', 'Andrew Garfield', 'Jstin Timberlake']\",\n",
       " \"['Rssell Crowe', 'Christian Bale', 'Ben Foster']\",\n",
       " \"['Sean Connery', 'Christian Slater', 'Helmt Qaltinger']\",\n",
       " \"['Jlie Andrews', 'Dick Van Dyke', 'David Tomlinson']\",\n",
       " \"['Michael Doglas', 'Deborah Kara Unger', 'Sean Penn']\",\n",
       " \"['Angelina Jolie', 'Colm Feore', 'Amy Ryan']\",\n",
       " \"['Al Pacino', 'Johnny Depp', 'Michael Madsen']\",\n",
       " \"['Al Pacino', 'John Randolph', 'Jack Kehoe']\",\n",
       " \"['Johnny Depp', 'Leonardo DiCaprio', 'Jliette Lewis']\",\n",
       " \"['Sean Connery', 'Gert Fr\\\\xf6be', 'Honor Blackman']\",\n",
       " \"['Brce Dern', 'Will Forte', 'Jne Sqibb']\",\n",
       " \"['Tom Giry', 'Mike Vitar', 'Patrick Renna']\",\n",
       " \"['Cba Gooding Jr.', 'Larence Fishbrne', 'Hdhail Al-Amir']\",\n",
       " \"['Matt Damon', 'Franka Potente', 'Joan Allen']\",\n",
       " \"['Daniel Craig', 'Javier Bardem', 'Naomie Harris']\",\n",
       " \"['Jamie Foxx', 'Regina King', 'Kerry Washington']\",\n",
       " \"['Gerard Btler', 'Lena Headey', 'David Wenham']\",\n",
       " \"['Robert De Niro', 'Chazz Palminteri', 'Lillo Brancato']\",\n",
       " \"['Rod Taylor', 'Tippi Hedren', 'Szanne Pleshette']\",\n",
       " \"['Tatsya Fjiwara', 'Aki Maeda', 'Tar\\\\xf4 Yamamoto']\",\n",
       " \"['Sam Riley', 'Samantha Morton', 'Craig Parkinson']\",\n",
       " \"['Dstin Hoffman', 'Meryl Streep', 'Jane Alexander']\",\n",
       " \"['Jon Voight', 'Brt Reynolds', 'Ned Beatty']\",\n",
       " \"['George Clooney', 'Brad Pitt', 'Jlia Roberts']\",\n",
       " \"['Jack Nicholson', 'Helen Hnt', 'Greg Kinnear']\",\n",
       " \"['Robert De Niro', 'Robin Williams', 'Jlie Kavner']\",\n",
       " \"['Robert De Niro', 'Jerry Lewis', 'Diahnne Abbott']\",\n",
       " \"['Denzel Washington', 'Christopher Walken', 'Dakota Fanning']\",\n",
       " \"['Hmphrey Bogart', 'Adrey Hepbrn', 'William Holden']\",\n",
       " \"['Rfs Sewell', 'Kiefer Stherland', 'Jennifer Connelly']\",\n",
       " \"['Daniel Br\\\\xfchl', 'Katrin Sa\\\\xdf', 'Chlpan Khamatova']\",\n",
       " \"['Denzel Washington', 'Will Patton', 'Wood Harris']\",\n",
       " \"['William Shatner', 'Leonard Nimoy', 'DeForest Kelley']\",\n",
       " \"['Tom Hanks', 'Tyler Hoechlin', 'Rob Maxey']\",\n",
       " \"['Jason Schwartzman', 'Bill Mrray', 'Olivia Williams']\",\n",
       " \"['Christian Bale', 'Jennifer Jason Leigh', 'Aitana S\\\\xe1nchez-Gij\\\\xf3n']\",\n",
       " \"['Madeline Carroll', 'Callan McAliffe', 'Rebecca De Mornay']\",\n",
       " \"['Jim Caviezel', 'Gy Pearce', 'Richard Harris']\",\n",
       " \"['Adrien Brody', 'Christina Hendricks', 'Marcia Gay Harden']\",\n",
       " \"['Gillame Canet', 'Marion Cotillard', 'Thibalt Verhaeghe']\",\n",
       " \"['Johnny Depp', 'Gary Farmer', 'Crispin Glover']\",\n",
       " \"['Mia Farrow', 'Jeff Daniels', 'Danny Aiello']\",\n",
       " \"['Sean Penn', 'Benicio Del Toro', 'Naomi Watts']\",\n",
       " \"['Joseph Gordon-Levitt', 'Seth Rogen', 'Anna Kendrick']\",\n",
       " \"['Aaron Taylor-Johnson', 'Nicolas Cage', 'Chlo\\\\xeb Grace Moretz']\",\n",
       " \"['Marie-Lare Dognac', 'Dominiqe Pinon', 'Pascal Benezech']\",\n",
       " \"['John Trtrro', 'John Goodman', 'Jdy Davis']\",\n",
       " \"['James McAvoy', 'Forest Whitaker', 'Gillian Anderson']\",\n",
       " \"['Nicolas Cage', 'Meryl Streep', 'Chris Cooper']\",\n",
       " \"['Adrey Tato', 'Gaspard Ulliel', 'Jodie Foster']\",\n",
       " \"['Brady Corbet', 'Joseph Gordon-Levitt', 'Elisabeth She']\",\n",
       " \"['Charlie Cox', 'Claire Danes', 'Sienna Miller']\",\n",
       " \"['Josh Hartnett', 'Ewan McGregor', 'Tom Sizemore']\",\n",
       " \"['Megmi Hayashibara', 'T\\\\xf4r Emori', 'Katsnoske Hori']\",\n",
       " \"['Johnny Depp', 'Benicio Del Toro', 'Tobey Magire']\",\n",
       " \"['Frank Langella', 'Michael Sheen', 'Kevin Bacon']\",\n",
       " \"['Brce Lee', 'John Saxon', 'Jim Kelly']\",\n",
       " \"['Andie MacDowell', 'Jlianne Moore', 'Tim Robbins']\",\n",
       " \"['John Lennon', 'Pal McCartney', 'George Harrison']\",\n",
       " \"['Tom Crise', 'Ken Watanabe', 'Billy Connolly']\",\n",
       " \"['Peter Dinklage', 'Patricia Clarkson', 'Bobby Cannavale']\",\n",
       " \"['Jesse Eisenberg', 'Emma Stone', 'Woody Harrelson']\",\n",
       " \"['Kang-ho Song', 'Ha-kyn Shin', 'Doona Bae']\",\n",
       " \"['Steve Carell', 'Jason Segel', 'Rssell Brand']\",\n",
       " \"['Alan Ladd', 'Jean Arthr', 'Van Heflin']\",\n",
       " \"['Walter Pidgeon', 'Anne Francis', 'Leslie Nielsen']\",\n",
       " \"['Leonardo DiCaprio', 'Kate Winslet', 'Billy Zane']\",\n",
       " \"['Morgan Freeman', 'Ed Harris', 'Casey Affleck']\",\n",
       " \"['Thierry Lhermitte', 'Jacqes Villeret', 'Francis Hster']\",\n",
       " \"['Gary Oldman', 'Keri Rssell', 'Andy Serkis']\",\n",
       " \"['Edward Norton', 'Barry Pepper', 'Philip Seymor Hoffman']\",\n",
       " \"['Cate Blanchett', 'Matt Damon', 'Liam Neeson']\",\n",
       " \"['Geoffrey Rsh', 'Armin Meller-Stahl', 'Jstin Braine']\",\n",
       " \"['Qinton Aaron', 'Sandra Bllock', 'Tim McGraw']\",\n",
       " \"['Jake Gyllenhaal', 'Heath Ledger', 'Michelle Williams']\",\n",
       " \"['Tom Hanks', 'Helen Hnt', 'Pal Sanchez']\",\n",
       " \"['Denzel Washington', 'Angela Bassett', 'Delroy Lindo']\",\n",
       " \"['Alexandra Dahlstr\\\\xf6m', 'Rebecka Liljeberg', 'Erica Carlson']\",\n",
       " \"['Andrew Garfield', 'Peter Mllan', 'Shan Evans']\",\n",
       " \"['Michael Beck', 'James Remar', 'Dorsey Wright']\",\n",
       " \"['Richard Dreyfss', 'Fran\\\\xe7ois Trffat', 'Teri Garr']\",\n",
       " \"['Scarlett Johansson', 'Jonathan Rhys Meyers', 'Emily Mortimer']\",\n",
       " \"['Denzel Washington', 'Ethan Hawke', 'Scott Glenn']\",\n",
       " \"['Jamie Bell', 'Jlie Walters', 'Jean Heywood']\",\n",
       " \"['Hgh Grant', 'Martine McCtcheon', 'Liam Neeson']\",\n",
       " \"['Zero Mostel', 'Gene Wilder', 'Dick Shawn']\",\n",
       " \"['Daniel Radcliffe', 'Emma Watson', 'Rpert Grint']\",\n",
       " \"['Richard Jenkins', 'Haaz Sleiman', 'Danai Grira']\",\n",
       " \"['Tom Hanks', 'Denzel Washington', 'Roberta Maxwell']\",\n",
       " \"['Emma Thompson', 'Kate Winslet', 'James Fleet']\",\n",
       " \"['Zbigniew Zamachowski', 'Jlie Delpy', 'Jansz Gajos']\",\n",
       " \"['Toni Servillo', 'Carlo Verdone', 'Sabrina Ferilli']\",\n",
       " \"['Richard Gere', 'Lara Linney', 'Edward Norton']\",\n",
       " \"['Richard Brton', 'Clint Eastwood', 'Mary Ure']\",\n",
       " \"['Jason London', 'Wiley Wiggins', 'Matthew McConaghey']\",\n",
       " \"['John Getz', 'Frances McDormand', 'Dan Hedaya']\",\n",
       " \"['Thomas Trgoose', 'Stephen Graham', 'Jo Hartley']\",\n",
       " \"['Jet Li', 'Li Sn', 'Yong Dong']\",\n",
       " \"['Glenn Close', 'John Malkovich', 'Michelle Pfeiffer']\",\n",
       " \"['Cary Elwes', 'Leigh Whannell', 'Danny Glover']\",\n",
       " \"['Adriana Caselotti', 'Harry Stockwell', 'Lcille La Verne']\",\n",
       " \"['Dakota Fanning', 'Teri Hatcher', 'John Hodgman']\",\n",
       " \"['Jennifer Lawrence', 'Josh Htcherson', 'Liam Hemsworth']\",\n",
       " \"['Meryl Streep', 'Kevin Kline', 'Peter MacNicol']\",\n",
       " \"['Marion Cotillard', 'Sylvie Testd', 'Pascal Greggory']\",\n",
       " \"['Hayden Christensen', 'Natalie Portman', 'Ewan McGregor']\",\n",
       " \"['Jeff Bridges', 'Matt Damon', 'Hailee Steinfeld']\",\n",
       " \"['Griffin Dnne', 'Rosanna Arqette', 'Verna Bloom']\",\n",
       " \"['Kristen Bell', 'Idina Menzel', 'Jonathan Groff']\",\n",
       " \"['James Mason', 'Shelley Winters', 'Se Lyon']\",\n",
       " \"['Naomi Watts', 'Viggo Mortensen', 'Armin Meller-Stahl']\",\n",
       " \"['Owen Wilson', 'Rachel McAdams', 'Kathy Bates']\",\n",
       " \"['Michael Caine', 'Dave Goelz', 'Steve Whitmire']\",\n",
       " \"['Bob Hoskins', 'Christopher Lloyd', 'Joanna Cassidy']\",\n",
       " \"['Yeong-ae Lee', 'Min-sik Choi', 'Shi-hoo Kim']\",\n",
       " \"['Krt Rssell', 'Rose McGowan', 'Danny Trejo']\",\n",
       " \"['Mikael Persbrandt', 'Trine Dyrholm', 'Marks Rygaard']\",\n",
       " \"['David Hemmings', 'Vanessa Redgrave', 'Sarah Miles']\",\n",
       " \"['Bridgit Mendler', 'Amy Poehler', 'Will Arnett']\",\n",
       " \"['Robert Downey Jr.', 'Val Kilmer', 'Michelle Monaghan']\",\n",
       " \"['Bill Pllman', 'Patricia Arqette', 'John Roselis']\",\n",
       " \"['Jake Gyllenhaal', 'Robert Downey Jr.', 'Mark Rffalo']\",\n",
       " \"['Hgh Jackman', 'Rssell Crowe', 'Anne Hathaway']\",\n",
       " \"['Nicole Kidman', 'Ewan McGregor', 'John Legizamo']\",\n",
       " \"['Keisha Castle-Hghes', 'Rawiri Paratene', 'Vicky Haghton']\",\n",
       " \"['Jake Gyllenhaal', 'Michael Pe\\\\xf1a', 'Anna Kendrick']\",\n",
       " \"['Jdi Dench', 'Steve Coogan', 'Sophie Kennedy Clark']\",\n",
       " \"['Brad Pitt', 'Shia LaBeof', 'Logan Lerman']\",\n",
       " \"['Jean-Marc Barr', 'Jean Reno', 'Rosanna Arqette']\",\n",
       " \"['Sylvester Stallone', 'Brian Dennehy', 'Richard Crenna']\",\n",
       " \"['Tom Crise', 'Colin Farrell', 'Samantha Morton']\",\n",
       " \"['Edward Woodward', 'Christopher Lee', 'Diane Cilento']\",\n",
       " \"['Will Smith', 'Rosario Dawson', 'Woody Harrelson']\",\n",
       " \"['Brad Davis', 'Irene Miracle', 'Bo Hopkins']\",\n",
       " \"['Clint Eastwood', 'Telly Savalas', 'Don Rickles']\",\n",
       " \"['Donald Stherland', 'Elliott Gold', 'Tom Skerritt']\",\n",
       " \"['Tim Robbins', 'Greta Scacchi', 'Fred Ward']\",\n",
       " \"['Michael Doglas', 'Benicio Del Toro', 'Catherine Zeta-Jones']\",\n",
       " \"['Maribel Verd\\\\xfa', 'Gael Garc\\\\xeda Bernal', 'Daniel Gim\\\\xe9nez Cacho']\",\n",
       " \"['Will Ferrell', 'Emma Thompson', 'Dstin Hoffman']\",\n",
       " \"['Denzel Washington', 'Clive Owen', 'Jodie Foster']\",\n",
       " \"['James Franco', 'Amber Tamblyn', 'Kate Mara']\",\n",
       " \"['Brce Willis', 'Milla Jovovich', 'Gary Oldman']\",\n",
       " \"['Sean Penn', 'Josh Brolin', 'Emile Hirsch']\",\n",
       " \"['David Alan Basche', 'Olivia Thirlby', 'Liza Col\\\\xf3n-Zayas']\",\n",
       " \"['Christian Bale', 'Ni Ni', 'Xinyi Zhang']\",\n",
       " \"['Bela Lgosi', 'Helen Chandler', 'David Manners']\",\n",
       " \"['Sean Penn', 'Michelle Pfeiffer', 'Dakota Fanning']\",\n",
       " \"['Kathy Bates', 'Jessica Tandy', 'Mary Start Masterson']\",\n",
       " \"['Jackie Earle Haley', 'Patrick Wilson', 'Carla Ggino']\",\n",
       " \"['Cillian Mrphy', 'Naomie Harris', 'Christopher Eccleston']\",\n",
       " \"['Edward Norton', 'Jessica Biel', 'Pal Giamatti']\",\n",
       " \"['Michael Cera', 'Jonah Hill', 'Christopher Mintz-Plasse']\",\n",
       " \"['Al Pacino', 'Diane Keaton', 'Andy Garcia']\",\n",
       " \"['Gene Hackman', 'Gwyneth Paltrow', 'Anjelica Hston']\",\n",
       " \"['Phil Harris', 'Sebastian Cabot', 'Lois Prima']\",\n",
       " \"['Aaron Eckhart', 'Cameron Bright', 'Maria Bello']\",\n",
       " \"['Beno\\\\xeet Poelvoorde', 'Jacqeline Poelvoorde-Pappaert', 'Nelly Pappaert']\",\n",
       " \"['Tom Crise', 'Jack Nicholson', 'Demi Moore']\",\n",
       " \"['Jackie Chan', 'Ho-Sng Pak', 'Lng Ti']\",\n",
       " \"['Khalid Abdalla', 'Ahmad Khan Mahmoodzada', 'Atossa Leoni']\",\n",
       " \"['Billy Crystal', 'Meg Ryan', 'Carrie Fisher']\",\n",
       " \"['Eric Bana', 'Daniel Craig', 'Marie-Jos\\\\xe9e Croze']\",\n",
       " \"['Jennifer Connelly', 'Ben Kingsley', 'Ron Eldard']\",\n",
       " \"['Mel Gibson', 'Danny Glover', 'Gary Bsey']\",\n",
       " \"['John Belshi', 'Karen Allen', 'Tom Hlce']\",\n",
       " \"['Nicolas Cage', 'Ethan Hawke', 'Jared Leto']\",\n",
       " \"['Johnny Depp', 'Pen\\\\xe9lope Crz', 'Franka Potente']\",\n",
       " \"['Robert Downey Jr.', 'Jde Law', 'Rachel McAdams']\",\n",
       " \"['Daniel Radcliffe', 'Emma Watson', 'Rpert Grint']\",\n",
       " \"['Brandon Lee', 'Michael Wincott', 'Rochelle Davis']\",\n",
       " \"['Natalie Wood', 'George Chakiris', 'Richard Beymer']\",\n",
       " \"['Jim Caviezel', 'Sean Penn', 'Nick Nolte']\",\n",
       " \"['Christian Bale', 'Jstin Therox', 'Josh Lcas']\",\n",
       " \"['Takeshi Kitano', 'Tadanob Asano', 'Yi Natskawa']\",\n",
       " \"['Willem Dafoe', 'Harvey Keitel', 'Barbara Hershey']\",\n",
       " \"['Leslie Nielsen', 'Priscilla Presley', 'O.J. Simpson']\",\n",
       " \"['Nicole Kidman', 'Christopher Eccleston', 'Fionnla Flanagan']\",\n",
       " \"['Peter Sellers', 'Cladine Longet', 'Natalia Borisova']\",\n",
       " \"['Brce Campbell', 'Embeth Davidtz', 'Marcs Gilbert']\",\n",
       " \"['Jeremy Renner', 'Anthony Mackie', 'Brian Geraghty']\",\n",
       " \"['Iko Uwais', 'Ananda George', 'Ray Sahetapy']\",\n",
       " \"['Pen\\\\xe9lope Crz', 'Carmen Mara', 'Lola De\\\\xf1as']\",\n",
       " \"['Jeremy Theobald', 'Alex Haw', 'Lcy Rssell']\",\n",
       " \"['Jack Black', 'Ian McShane', 'Angelina Jolie']\",\n",
       " \"['Mel Gibson', 'Brce Spence', 'Michael Preston']\",\n",
       " \"['K\\\\xf4ji Yaksho', 'Takayki Yamada', 'Y\\\\xfbske Iseya']\",\n",
       " \"['Billy Bob Thornton', 'Frances McDormand', 'Michael Badalcco']\",\n",
       " \"['Karl Markovics', 'Agst Diehl', 'Devid Striesow']\",\n",
       " \"['Sean Connery', 'Alec Baldwin', 'Scott Glenn']\",\n",
       " \"['Mark Wahlberg', 'Taylor Kitsch', 'Emile Hirsch']\",\n",
       " \"['John Cleese', 'Jamie Lee Crtis', 'Kevin Kline']\",\n",
       " \"['Naomi Watts', 'Ewan McGregor', 'Tom Holland']\",\n",
       " \"['Zach Braff', 'Peter Sarsgaard', 'Natalie Portman']\",\n",
       " \"['Clint Eastwood', 'Patrick McGoohan', 'Roberts Blossom']\",\n",
       " \"['Tom Hanks', 'Bill Paxton', 'Kevin Bacon']\",\n",
       " \"['Tony Chi Wai Leng', 'Wei Tang', 'Joan Chen']\",\n",
       " \"['David Oyelowo', 'Carmen Ejogo', 'Tim Roth']\",\n",
       " \"['Ssanne Lothar', 'Ulrich M\\\\xfche', 'Arno Frisch']\",\n",
       " \"['Ed Harris', 'Mary Elizabeth Mastrantonio', 'Michael Biehn']\",\n",
       " \"['Brian Bedford', 'Phil Harris', 'Roger Miller']\",\n",
       " \"['Jde Law', 'Ed Harris', 'Joseph Fiennes']\",\n",
       " \"['Michael Doglas', 'Robert Dvall', 'Barbara Hershey']\",\n",
       " \"['Kate Winslet', 'Jennifer Connelly', 'Patrick Wilson']\",\n",
       " \"['Start Graham', 'Laine Megaw', 'Brian Milligan']\",\n",
       " \"['Harrison Ford', 'Kate Capshaw', 'Jonathan Ke Qan']\",\n",
       " \"['Donnie Yen', 'Xiaoming Hang', 'Sammo Kam-Bo Hng']\",\n",
       " \"['Jodi Benson', 'Samel E. Wright', 'Rene Aberjonois']\",\n",
       " \"['Spencer Tracy', 'Milton Berle', 'Ethel Merman']\",\n",
       " \"['Kate Winslet', 'Ralph Fiennes', 'Brno Ganz']\",\n",
       " \"['Gregory Peck', 'Lee Remick', 'Harvey Stephens']\",\n",
       " \"['Alicia Vikander', 'Mads Mikkelsen', 'Mikkel Boe F\\\\xf8lsgaard']\",\n",
       " \"['Timothy Balme', 'Diana Pe\\\\xf1alver', 'Elizabeth Moody']\",\n",
       " \"['Haley Joel Osment', 'Michael Caine', 'Robert Dvall']\",\n",
       " \"['Jason Bateman', 'Jonah Bobo', 'Haley Ramm']\",\n",
       " \"['Colin Firth', 'Jlianne Moore', 'Matthew Goode']\",\n",
       " \"['Gene Hackman', 'Barbara Hershey', 'Dennis Hopper']\",\n",
       " \"['Brad Pitt', 'Robin Wright', 'Jonah Hill']\",\n",
       " \"['Sophie N\\\\xe9lisse', 'Geoffrey Rsh', 'Emily Watson']\",\n",
       " \"['Brce Willis', 'Jeremy Irons', 'Samel L. Jackson']\",\n",
       " \"['Brad Pitt', 'Tom Crise', 'Antonio Banderas']\",\n",
       " \"['Robert De Niro', 'Charles Grodin', 'Yaphet Kotto']\",\n",
       " \"['David Naghton', 'Jenny Agtter', 'Joe Belcher']\",\n",
       " \"['Denzel Washington', 'Forest Whitaker', 'Kimberly Elise']\",\n",
       " \"['Tyler Labine', 'Alan Tdyk', 'Katrina Bowden']\",\n",
       " \"['Ssan Sarandon', 'Sean Penn', 'Robert Prosky']\",\n",
       " \"['Holly Hnter', 'Harvey Keitel', 'Sam Neill']\",\n",
       " \"['Ben Affleck', 'Rebecca Hall', 'Jon Hamm']\",\n",
       " \"['James Franco', 'Andy Serkis', 'Freida Pinto']\",\n",
       " \"['Hilary Swank', 'Chlo\\\\xeb Sevigny', 'Peter Sarsgaard']\",\n",
       " \"['Denis Leary', 'John Legizamo', 'Ray Romano']\",\n",
       " \"['John Malkovich', 'Gary Sinise', 'Ray Walston']\",\n",
       " \"['Pal Giamatti', 'Thomas Haden Chrch', 'Virginia Madsen']\",\n",
       " \"['John Csack', 'Iben Hjejle', 'Todd Loiso']\",\n",
       " \"['John Cleese', 'Terry Gilliam', 'Eric Idle']\",\n",
       " \"['Asa Btterfield', 'Chlo\\\\xeb Grace Moretz', 'Christopher Lee']\",\n",
       " \"['Nicolas Cage', 'Elisabeth She', 'Jlian Sands']\",\n",
       " \"['Brce Campbell', 'Ellen Sandweiss', 'Richard DeManincor']\",\n",
       " \"['Tom Crise', 'Jamie Foxx', 'Jada Pinkett Smith']\",\n",
       " \"['Steve Martin', 'John Candy', 'Laila Robins']\",\n",
       " \"['Aksel Hennie', 'Synn\\\\xf8ve Macody Lnd', 'Nikolaj Coster-Walda']\",\n",
       " \"['Kevin Costner', 'James Earl Jones', 'Ray Liotta']\",\n",
       " \"['Michael Keaton', 'Jack Nicholson', 'Kim Basinger']\",\n",
       " \"['Fran\\\\xe7ois Clzet', 'Marie-Jos\\\\xe9e Croze', 'Andr\\\\xe9 Dssollier']\",\n",
       " \"['Forest Whitaker', 'Henry Silva', 'John Tormey']\",\n",
       " \"['Robert Downey Jr.', 'Geraldine Chaplin', 'Pal Rhys']\",\n",
       " \"['Elisabeth Harnois', 'Jesse McCartney', 'Margo Harshman']\",\n",
       " \"['Ellen Page', 'Michael Cera', 'Jennifer Garner']\",\n",
       " \"['Brad Pitt', 'Casey Affleck', 'Sam Shepard']\",\n",
       " \"['Jeff Bridges', 'Robin Williams', 'Adam Bryant']\",\n",
       " \"['Ziyi Zhang', 'Takeshi Kaneshiro', 'Andy La']\",\n",
       " \"['Meryl Streep', 'Nicole Kidman', 'Jlianne Moore']\",\n",
       " \"['Colm Meaney', 'Henry Goodman', 'David Roper']\",\n",
       " \"['Patrick Stewart', 'Jonathan Frakes', 'Brent Spiner']\",\n",
       " \"['Robert Redford', 'Robert Dvall', 'Glenn Close']\",\n",
       " \"['Ian McKellen', 'Martin Freeman', 'Richard Armitage']\",\n",
       " \"['Christian Bale', 'Sean Bean', 'Emily Watson']\",\n",
       " \"['Freddie Highmore', 'Keri Rssell', 'Jonathan Rhys Meyers']\",\n",
       " \"['Emma Thompson', 'Tom Hanks', 'Annie Rose Bckley']\",\n",
       " \"['Denzel Washington', 'Vicellos Reon Shannon', 'Deborah Kara Unger']\",\n",
       " \"['Tim Robbins', 'Elizabeth Pe\\\\xf1a', 'Danny Aiello']\",\n",
       " \"['Peter Sallis', 'Helena Bonham Carter', 'Ralph Fiennes']\",\n",
       " '[\\'Chevy Chase\\', \"Beverly D\\'Angelo\", \\'Jliette Lewis\\']',\n",
       " \"['David Strathairn', 'George Clooney', 'Patricia Clarkson']\",\n",
       " \"['Dstin Hoffman', 'Ssan George', 'Peter Vaghan']\",\n",
       " \"['Chadwick Boseman', 'T.R. Knight', 'Harrison Ford']\",\n",
       " \"['Sean Astin', 'Jon Favrea', 'Ned Beatty']\",\n",
       " \"['Robert De Niro', 'Kevin Bacon', 'Brad Pitt']\",\n",
       " \"['Cillian Mrphy', 'Padraic Delaney', 'Liam Cnningham']\",\n",
       " \"['Leonardo DiCaprio', 'Cameron Diaz', 'Daniel Day-Lewis']\",\n",
       " \"['Cate Blanchett', 'Geoffrey Rsh', 'Christopher Eccleston']\",\n",
       " \"['Elijah Wood', 'Charlie Hnnam', 'Claire Forlani']\",\n",
       " \"['Adam Sandler', 'Don Cheadle', 'Jada Pinkett Smith']\",\n",
       " '[\\'Peter Weller\\', \\'Nancy Allen\\', \"Dan O\\'Herlihy\"]',\n",
       " \"['Kevin Spacey', 'Kate Winslet', 'Lara Linney']\",\n",
       " \"['Hayden Christensen', 'Kevin Kline', 'Kristin Scott Thomas']\",\n",
       " \"['Steve Carell', 'Kristen Wiig', 'Benjamin Bratt']\",\n",
       " \"['Pam Grier', 'Samel L. Jackson', 'Robert Forster']\",\n",
       " \"['Tyrin Trner', 'Larenz Tate', 'Jne Kyoto L']\",\n",
       " \"['Fran\\\\xe7ois B\\\\xe9gadea', 'Agame Malembo-Emene', 'Ang\\\\xe9lica Sancio']\",\n",
       " \"['John Csack', 'Dianne Wiest', 'Jennifer Tilly']\",\n",
       " \"['Pal Giamatti', 'Shari Springer Berman', 'Harvey Pekar']\",\n",
       " \"['Ben Whishaw', 'Dstin Hoffman', 'Alan Rickman']\",\n",
       " \"['Tom Hanks', 'Halle Berry', 'Hgh Grant']\",\n",
       " \"['Dstin Hoffman', 'Larence Olivier', 'Roy Scheider']\",\n",
       " \"['Dickie Jones', 'Christian Rb', 'Mel Blanc']\",\n",
       " \"['Naomi Watts', 'Edward Norton', 'Liev Schreiber']\",\n",
       " \"['Bill Paxton', 'Billy Bob Thornton', 'Bridget Fonda']\",\n",
       " \"['Patrick Wilson', 'Vera Farmiga', 'Ron Livingston']\",\n",
       " \"['Ralph Fiennes', 'John Trtrro', 'Rob Morrow']\",\n",
       " \"['Richard Dreyfss', 'Ron Howard', 'Pal Le Mat']\",\n",
       " \"['Clint Eastwood', 'Meryl Streep', 'Annie Corley']\",\n",
       " \"['Mel Gibson', 'Mark Lee', 'Bill Kerr']\",\n",
       " \"['Jean-Clade Donda', 'Eilidh Rankin', 'Dncan MacNeil']\",\n",
       " \"['Krt Rssell', 'Patricia Clarkson', 'Nathan West']\",\n",
       " \"['Catalina Sandino Moreno', 'Gilied Lopez', 'Orlando Tob\\\\xf3n']\",\n",
       " \"['Michael Cera', 'Mary Elizabeth Winstead', 'Kieran Clkin']\",\n",
       " \"['Tobey Magire', 'Jeff Daniels', 'Joan Allen']\",\n",
       " \"['Robert Downey Jr.', 'Jde Law', 'Jared Harris']\",\n",
       " \"['Meryl Streep', 'Philip Seymor Hoffman', 'Amy Adams']\",\n",
       " \"['Jeff Goldblm', 'Geena Davis', 'John Getz']\",\n",
       " \"['Bel\\\\xe9n Reda', 'Fernando Cayo', 'Roger Pr\\\\xedncep']\",\n",
       " \"['Monica Bellcci', 'Giseppe Slfaro', 'Lciano Federico']\",\n",
       " \"['Robert Redford', 'Faye Dnaway', 'Cliff Robertson']\",\n",
       " \"['Manela Velasco', 'Ferran Terraza', 'Jorge-Yamam Serrano']\",\n",
       " \"['Kevin Costner', 'Clint Eastwood', 'Lara Dern']\",\n",
       " \"['Cary Grant', 'Grace Kelly', 'Jessie Royce Landis']\",\n",
       " '[\\'Fred Willard\\', \\'Egene Levy\\', \"Catherine O\\'Hara\"]',\n",
       " \"['Elijah Wood', 'Egene Htz', 'Boris Leskin']\",\n",
       " \"['Heather Langenkamp', 'Johnny Depp', 'Robert Englnd']\",\n",
       " \"['Kevin Kline', 'Joan Allen', 'Sigorney Weaver']\",\n",
       " \"['Patrick Stewart', 'Hgh Jackman', 'Halle Berry']\",\n",
       " \"['Tilda Swinton', 'John C. Reilly', 'Ezra Miller']\",\n",
       " \"['Stephen Dorff', 'Marisol Nichols', 'Vincent Miller']\",\n",
       " \"['Jlianne Moore', 'Alec Baldwin', 'Kristen Stewart']\",\n",
       " \"['Marion Cotillard', 'Matthias Schoenaerts', 'Armand Verdre']\",\n",
       " \"['Hilary Swank', 'Imelda Stanton', 'Patrick Dempsey']\",\n",
       " \"['Brad Pitt', 'Anthony Hopkins', 'Aidan Qinn']\",\n",
       " \"['Vincent Gallo', 'Christina Ricci', 'Ben Gazzara']\",\n",
       " \"['Ralph Fiennes', 'Rachel Weisz', 'Hbert Kond\\\\xe9']\",\n",
       " \"['Joe Pesci', 'Marisa Tomei', 'Ralph Macchio']\",\n",
       " \"['Marilyn Brns', 'Edwin Neal', 'Allen Danziger']\",\n",
       " \"['Ming-Na Wen', 'Eddie Mrphy', 'BD Wong']\",\n",
       " \"['Viggo Mortensen', 'Maria Bello', 'Ed Harris']\",\n",
       " \"['Kevin Costner', 'Robert Dvall', 'Diego Lna']\",\n",
       " \"['Arnold Schwarzenegger', 'Sharon Stone', 'Michael Ironside']\",\n",
       " \"['Sean Gllette', 'Mark Margolis', 'Ben Shenkman']\",\n",
       " \"['Marisa Paredes', 'Edardo Noriega', 'Federico Lppi']\",\n",
       " \"['Leonardo DiCaprio', 'Cate Blanchett', 'Kate Beckinsale']\",\n",
       " \"['Kean Reeves', 'Al Pacino', 'Charlize Theron']\",\n",
       " \"['Hgo Weaving', 'Gy Pearce', 'Terence Stamp']\",\n",
       " \"['Daniel Radcliffe', 'Emma Watson', 'Rpert Grint']\",\n",
       " \"['Michael B. Jordan', 'Melonie Diaz', 'Octavia Spencer']\",\n",
       " \"['Tom Wilkinson', 'Sissy Spacek', 'Nick Stahl']\",\n",
       " \"['Jake Gyllenhaal', 'Michelle Monaghan', 'Vera Farmiga']\",\n",
       " \"['Javier Bardem', 'Maricel \\\\xc1lvarez', 'Hanaa Bochaib']\",\n",
       " \"['Sean Connery', 'Robert Shaw', 'Lotte Lenya']\",\n",
       " '[\\'Brendan Gleeson\\', \"Chris O\\'Dowd\", \\'Kelly Reilly\\']',\n",
       " \"['Robert De Niro', 'Jeremy Irons', 'Ray McAnally']\",\n",
       " \"['Tom Hollander', 'Peter Capaldi', 'James Gandolfini']\",\n",
       " \"['Tommy Lee Jones', 'Barry Pepper', 'Dwight Yoakam']\",\n",
       " \"['Brad Pitt', 'Cate Blanchett', 'Gael Garc\\\\xeda Bernal']\",\n",
       " \"['Melanie Lynskey', 'Kate Winslet', 'Sarah Peirse']\",\n",
       " \"['Johnny Depp', 'Helena Bonham Carter', 'Alan Rickman']\",\n",
       " \"['Gary Oldman', 'Winona Ryder', 'Anthony Hopkins']\",\n",
       " \"['Joseph Gordon-Levitt', 'Brce Willis', 'Emily Blnt']\",\n",
       " \"['Ray Winstone', 'Gy Pearce', 'Emily Watson']\",\n",
       " \"['Steve McQeen', 'Jacqeline Bisset', 'Robert Vaghn']\",\n",
       " \"['Daniel Radcliffe', 'Rpert Grint', 'Richard Harris']\",\n",
       " \"['Tony Chi Wai Leng', 'Ziyi Zhang', 'Faye Wong']\",\n",
       " \"['Felicity Hffman', 'Kevin Zegers', 'Fionnla Flanagan']\",\n",
       " \"['Harvey Keitel', 'William Hrt', 'Giancarlo Esposito']\",\n",
       " \"['Jessica Harper', 'Stefania Casini', 'Flavio Bcci']\",\n",
       " \"['Robert Downey Jr.', 'Robert Dvall', 'Vera Farmiga']\",\n",
       " \"['Gael Garc\\\\xeda Bernal', 'Fele Mart\\\\xednez', 'Javier C\\\\xe1mara']\",\n",
       " \"['George Clooney', 'Vera Farmiga', 'Anna Kendrick']\",\n",
       " \"['Keira Knightley', 'Mark Rffalo', 'Adam Levine']\",\n",
       " \"['Pal Walker', 'Cameron Bright', 'Chazz Palminteri']\",\n",
       " \"['Steve Bscemi', 'Thora Birch', 'Scarlett Johansson']\",\n",
       " \"['Harrison Ford', 'Kelly McGillis', 'Lkas Haas']\",\n",
       " \"['Eddie Mrphy', 'Dan Aykroyd', 'Ralph Bellamy']\",\n",
       " \"['Matthew McConaghey', 'Tye Sheridan', 'Jacob Lofland']\",\n",
       " \"['Evan Rachel Wood', 'Jim Strgess', 'Joe Anderson']\",\n",
       " \"['Liam Neeson', 'Geoffrey Rsh', 'Uma Thrman']\",\n",
       " \"['Cate Blanchett', 'Jdi Dench', 'Andrew Simpson']\",\n",
       " \"['Oscar Isaac', 'Carey Mlligan', 'John Goodman']\",\n",
       " \"['Joseph Gordon-Levitt', 'Lkas Haas', 'Emilie de Ravin']\",\n",
       " '[\"Brian O\\'Halloran\", \\'Jeff Anderson\\', \\'Rosario Dawson\\']',\n",
       " \"['John Csack', 'Ione Skye', 'John Mahoney']\",\n",
       " \"['Jim Carrey', 'Danny DeVito', 'Gerry Becker']\",\n",
       " \"['Robert De Niro', 'Harvey Keitel', 'David Proval']\",\n",
       " \"['Daniel Radcliffe', 'Emma Watson', 'Rpert Grint']\",\n",
       " \"['Alec Baldwin', 'Geena Davis', 'Michael Keaton']\",\n",
       " \"['Steve Carell', 'Ryan Gosling', 'Jlianne Moore']\",\n",
       " \"['Nigel Terry', 'Helen Mirren', 'Nicholas Clay']\",\n",
       " \"['John Wayne', 'Kim Darby', 'Glen Campbell']\",\n",
       " \"['David Bowie', 'Jennifer Connelly', 'Toby Frod']\",\n",
       " \"['Kathryn Beamont', 'Ed Wynn', 'Richard Haydn']\",\n",
       " \"['Ethan Hawke', 'Sarah Snook', 'Noah Taylor']\",\n",
       " \"['Kenneth Branagh', 'Emma Thompson', 'Kean Reeves']\",\n",
       " '[\\'Sean Connery\\', \"Ryan O\\'Neal\", \\'Michael Caine\\']',\n",
       " \"['Nicolas Cage', 'Holly Hnter', 'Trey Wilson']\",\n",
       " \"['Jack Nicholson', 'Morgan Freeman', 'Sean Hayes']\",\n",
       " \"['Shirley MacLaine', 'Debra Winger', 'Jack Nicholson']\",\n",
       " \"['Michael Shannon', 'Jessica Chastain', 'Shea Whigham']\",\n",
       " \"['Jlianne Moore', 'Dennis Qaid', 'Dennis Haysbert']\",\n",
       " \"['Jack Nance', 'Charlotte Stewart', 'Allen Joseph']\",\n",
       " \"['Greta Gerwig', 'Mickey Smner', 'Adam Driver']\",\n",
       " \"['Macalay Clkin', 'Joe Pesci', 'Daniel Stern']\",\n",
       " \"['Jennifer Tilly', 'Gina Gershon', 'Joe Pantoliano']\",\n",
       " \"['Johnny Depp', 'Christina Ricci', 'Miranda Richardson']\",\n",
       " \"['Philip Seymor Hoffman', 'Bill Nighy', 'Nick Frost']\",\n",
       " \"['Noah Hathaway', 'Barret Oliver', 'Tami Stronach']\",\n",
       " \"['Patrick Stewart', 'Hgh Jackman', 'Ian McKellen']\",\n",
       " \"['Jessica Chastain', 'Joel Edgerton', 'Chris Pratt']\",\n",
       " \"['Woody Allen', 'Diane Keaton', 'Jerry Adler']\",\n",
       " '[\\'Chevy Chase\\', \"Beverly D\\'Angelo\", \\'Imogene Coca\\']',\n",
       " \"['Cameron Diaz', 'Abigail Breslin', 'Alec Baldwin']\",\n",
       " \"['Woody Allen', 'Jdy Davis', 'Jlia Lois-Dreyfs']\",\n",
       " \"['Steve Carell', 'Toni Collette', 'Allison Janney']\",\n",
       " \"['Philip Seymor Hoffman', 'Clifton Collins Jr.', 'Catherine Keener']\",\n",
       " \"['Morgan Freeman', 'Jessica Tandy', 'Dan Aykroyd']\",\n",
       " \"['Anne Parillad', 'Marc Dret', 'Patrick Fontana']\",\n",
       " \"['Daniel Day-Lewis', 'Sally Field', 'David Strathairn']\",\n",
       " \"['Bradley Cooper', 'Anna Friel', 'Abbie Cornish']\",\n",
       " \"['Dan Castellaneta', 'Jlie Kavner', 'Nancy Cartwright']\",\n",
       " \"['Sean Connery', 'Nicolas Cage', 'Ed Harris']\",\n",
       " \"['Ralph Fiennes', 'Jliette Binoche', 'Willem Dafoe']\",\n",
       " \"['Gerard Btler', 'Jamie Foxx', 'Leslie Bibb']\",\n",
       " \"['Michael Doglas', 'Tobey Magire', 'Frances McDormand']\",\n",
       " \"['Matthew Macfadyen', 'Peter Dinklage', 'Ewen Bremner']\",\n",
       " \"['Ryan Gosling', 'Michelle Williams', 'John Doman']\",\n",
       " \"['Tobey Magire', 'Charlize Theron', 'Michael Caine']\",\n",
       " \"['Dstin Hoffman', 'Jessica Lange', 'Teri Garr']\",\n",
       " \"['Michael J. Fox', 'Christopher Lloyd', 'Mary Steenbrgen']\",\n",
       " \"['Rssell Crowe', 'Pal Bettany', 'Billy Boyd']\",\n",
       " '[\\'JoBeth Williams\\', \"Heather O\\'Rorke\", \\'Craig T. Nelson\\']',\n",
       " \"['Charlie Sheen', 'Michael Doglas', 'Tamara Tnie']\"]"
      ]
     },
     "execution_count": 166,
     "metadata": {},
     "output_type": "execute_result"
    }
   ],
   "source": [
    "test = df2['actors_list'].str.replace('u','').tolist()\n",
    "test "
   ]
  },
  {
   "cell_type": "code",
   "execution_count": 182,
   "metadata": {},
   "outputs": [
    {
     "name": "stdout",
     "output_type": "stream",
     "text": [
      "[(\"['Daniel Radcliffe', 'Emma Watson', 'Rpert Grint']\", 6), (\"['Mark Hamill', 'Harrison Ford', 'Carrie Fisher']\", 3), (\"['Michael J. Fox', 'Christopher Lloyd', 'Lea Thompson']\", 2)]\n"
     ]
    }
   ],
   "source": [
    "# Daniel Radcliffe,Emma Watson & Rupert Grint were the group of actors who appeared the most in movies together for the IMBD 1000. \n",
    "# They appeared together six times. \n",
    "import collections\n",
    "counter=collections.Counter(test)\n",
    "print(counter.most_common(3))"
   ]
  },
  {
   "cell_type": "code",
   "execution_count": null,
   "metadata": {},
   "outputs": [],
   "source": []
  },
  {
   "cell_type": "code",
   "execution_count": null,
   "metadata": {},
   "outputs": [],
   "source": []
  },
  {
   "cell_type": "code",
   "execution_count": null,
   "metadata": {},
   "outputs": [],
   "source": []
  }
 ],
 "metadata": {
  "kernelspec": {
   "display_name": "Python 3",
   "language": "python",
   "name": "python3"
  },
  "language_info": {
   "codemirror_mode": {
    "name": "ipython",
    "version": 3
   },
   "file_extension": ".py",
   "mimetype": "text/x-python",
   "name": "python",
   "nbconvert_exporter": "python",
   "pygments_lexer": "ipython3",
   "version": "3.7.4"
  }
 },
 "nbformat": 4,
 "nbformat_minor": 1
}
