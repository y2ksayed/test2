{
 "cells": [
  {
   "cell_type": "markdown",
   "metadata": {},
   "source": [
    "<img src=\"http://imgur.com/1ZcRyrc.png\" style=\"float: left; margin: 20px; height: 55px\">\n",
    "\n",
    "# Classification and KNN with NHL data\n",
    "\n",
    "_Authors: Joseph Nelson (DC)_\n",
    "\n",
    "---\n",
    "\n",
    "Below you will practice KNN classification on a dataset of NHL statistics.\n",
    "\n",
    "You will be predicting the `Rank` of a team from predictor variables of your choice."
   ]
  },
  {
   "cell_type": "code",
   "execution_count": 50,
   "metadata": {},
   "outputs": [],
   "source": [
    "import matplotlib.pyplot as plt\n",
    "import numpy as np\n",
    "import pandas as pd\n",
    "import seaborn as sns\n",
    "\n",
    "%matplotlib inline\n",
    "%config InlineBackend.figure_format = 'retina'"
   ]
  },
  {
   "cell_type": "code",
   "execution_count": 51,
   "metadata": {},
   "outputs": [],
   "source": [
    "# web location:\n",
    "local_csv = './NHL_Data_GA.csv'"
   ]
  },
  {
   "cell_type": "markdown",
   "metadata": {},
   "source": [
    "### 1. Load the NHL data"
   ]
  },
  {
   "cell_type": "code",
   "execution_count": 52,
   "metadata": {},
   "outputs": [],
   "source": [
    "df = pd.read_csv(local_csv)"
   ]
  },
  {
   "cell_type": "markdown",
   "metadata": {},
   "source": [
    "### 2. Perform any required data cleaning. Do some EDA."
   ]
  },
  {
   "cell_type": "code",
   "execution_count": 53,
   "metadata": {},
   "outputs": [
    {
     "data": {
      "text/plain": [
       "(90, 28)"
      ]
     },
     "execution_count": 53,
     "metadata": {},
     "output_type": "execute_result"
    }
   ],
   "source": [
    "# Check the shape\n",
    "df.shape"
   ]
  },
  {
   "cell_type": "code",
   "execution_count": 54,
   "metadata": {},
   "outputs": [
    {
     "data": {
      "text/plain": [
       "Team    0\n",
       "PTS     0\n",
       "Rank    0\n",
       "TOI     0\n",
       "GF      0\n",
       "GA      0\n",
       "GF60    0\n",
       "GA60    0\n",
       "GF%     0\n",
       "SF      0\n",
       "SA      0\n",
       "SF60    0\n",
       "SA60    0\n",
       "SF%     0\n",
       "FF      0\n",
       "FA      0\n",
       "FF60    0\n",
       "FA60    0\n",
       "FF%     0\n",
       "CF      0\n",
       "CA      0\n",
       "CF60    0\n",
       "CA60    0\n",
       "CF%     0\n",
       "Sh%     0\n",
       "Sv%     0\n",
       "PDO     0\n",
       "PIM     0\n",
       "dtype: int64"
      ]
     },
     "execution_count": 54,
     "metadata": {},
     "output_type": "execute_result"
    }
   ],
   "source": [
    "# Check for null values\n",
    "df.isnull().sum()"
   ]
  },
  {
   "cell_type": "code",
   "execution_count": 55,
   "metadata": {},
   "outputs": [
    {
     "data": {
      "text/plain": [
       "Team     object\n",
       "PTS       int64\n",
       "Rank      int64\n",
       "TOI      object\n",
       "GF        int64\n",
       "GA        int64\n",
       "GF60    float64\n",
       "GA60    float64\n",
       "GF%     float64\n",
       "SF        int64\n",
       "SA        int64\n",
       "SF60    float64\n",
       "SA60    float64\n",
       "SF%     float64\n",
       "FF        int64\n",
       "FA        int64\n",
       "FF60    float64\n",
       "FA60    float64\n",
       "FF%     float64\n",
       "CF        int64\n",
       "CA        int64\n",
       "CF60    float64\n",
       "CA60    float64\n",
       "CF%     float64\n",
       "Sh%     float64\n",
       "Sv%     float64\n",
       "PDO       int64\n",
       "PIM       int64\n",
       "dtype: object"
      ]
     },
     "execution_count": 55,
     "metadata": {},
     "output_type": "execute_result"
    }
   ],
   "source": [
    "# Check the datatypes\n",
    "df.dtypes"
   ]
  },
  {
   "cell_type": "code",
   "execution_count": 56,
   "metadata": {},
   "outputs": [
    {
     "data": {
      "text/plain": [
       "Washington10     1\n",
       "Los Angeles11    1\n",
       "St. Louis11      1\n",
       "Detroit10        1\n",
       "Vancouver10      1\n",
       "                ..\n",
       "Carolina11       1\n",
       "Buffalo12        1\n",
       "Chicago11        1\n",
       "Toronto10        1\n",
       "Columbus10       1\n",
       "Name: Team, Length: 90, dtype: int64"
      ]
     },
     "execution_count": 56,
     "metadata": {},
     "output_type": "execute_result"
    }
   ],
   "source": [
    "# Check the Team values\n",
    "df.Team.value_counts().sort_values()"
   ]
  },
  {
   "cell_type": "code",
   "execution_count": 57,
   "metadata": {},
   "outputs": [],
   "source": [
    "# Splice off fhe year from team and make it a new column\n",
    "df['Year'] = df.Team.str.slice(start = -2)"
   ]
  },
  {
   "cell_type": "code",
   "execution_count": 58,
   "metadata": {},
   "outputs": [],
   "source": [
    "# Splice off fhe year from team and keep the team as a new column\n",
    "df ['team'] = df.Team.str.slice(stop = -2)"
   ]
  },
  {
   "cell_type": "code",
   "execution_count": 59,
   "metadata": {},
   "outputs": [
    {
     "data": {
      "text/html": [
       "<div>\n",
       "<style scoped>\n",
       "    .dataframe tbody tr th:only-of-type {\n",
       "        vertical-align: middle;\n",
       "    }\n",
       "\n",
       "    .dataframe tbody tr th {\n",
       "        vertical-align: top;\n",
       "    }\n",
       "\n",
       "    .dataframe thead th {\n",
       "        text-align: right;\n",
       "    }\n",
       "</style>\n",
       "<table border=\"1\" class=\"dataframe\">\n",
       "  <thead>\n",
       "    <tr style=\"text-align: right;\">\n",
       "      <th></th>\n",
       "      <th>Team</th>\n",
       "      <th>PTS</th>\n",
       "      <th>Rank</th>\n",
       "      <th>TOI</th>\n",
       "      <th>GF</th>\n",
       "      <th>GA</th>\n",
       "      <th>GF60</th>\n",
       "      <th>GA60</th>\n",
       "      <th>GF%</th>\n",
       "      <th>SF</th>\n",
       "      <th>...</th>\n",
       "      <th>CA</th>\n",
       "      <th>CF60</th>\n",
       "      <th>CA60</th>\n",
       "      <th>CF%</th>\n",
       "      <th>Sh%</th>\n",
       "      <th>Sv%</th>\n",
       "      <th>PDO</th>\n",
       "      <th>PIM</th>\n",
       "      <th>Year</th>\n",
       "      <th>team</th>\n",
       "    </tr>\n",
       "  </thead>\n",
       "  <tbody>\n",
       "    <tr>\n",
       "      <td>0</td>\n",
       "      <td>Washington10</td>\n",
       "      <td>121</td>\n",
       "      <td>1</td>\n",
       "      <td>2001:52:00</td>\n",
       "      <td>115</td>\n",
       "      <td>73</td>\n",
       "      <td>3.45</td>\n",
       "      <td>2.19</td>\n",
       "      <td>61.2</td>\n",
       "      <td>1112</td>\n",
       "      <td>...</td>\n",
       "      <td>1935</td>\n",
       "      <td>64.1</td>\n",
       "      <td>58.0</td>\n",
       "      <td>52.5</td>\n",
       "      <td>10.34</td>\n",
       "      <td>93.03</td>\n",
       "      <td>1034</td>\n",
       "      <td>1269</td>\n",
       "      <td>10</td>\n",
       "      <td>Washington</td>\n",
       "    </tr>\n",
       "  </tbody>\n",
       "</table>\n",
       "<p>1 rows × 30 columns</p>\n",
       "</div>"
      ],
      "text/plain": [
       "           Team  PTS  Rank         TOI   GF  GA  GF60  GA60   GF%    SF  ...  \\\n",
       "0  Washington10  121     1  2001:52:00  115  73  3.45  2.19  61.2  1112  ...   \n",
       "\n",
       "     CA  CF60  CA60   CF%    Sh%    Sv%   PDO   PIM  Year        team  \n",
       "0  1935  64.1  58.0  52.5  10.34  93.03  1034  1269    10  Washington  \n",
       "\n",
       "[1 rows x 30 columns]"
      ]
     },
     "execution_count": 59,
     "metadata": {},
     "output_type": "execute_result"
    }
   ],
   "source": [
    "# Check the head \n",
    "df.head(1)"
   ]
  },
  {
   "cell_type": "markdown",
   "metadata": {},
   "source": [
    "### 3. Set up the `Rank` variable as your target. How many classes are there?"
   ]
  },
  {
   "cell_type": "code",
   "execution_count": 60,
   "metadata": {},
   "outputs": [],
   "source": [
    "# Create response vector (y)\n",
    "y = df.Rank"
   ]
  },
  {
   "cell_type": "code",
   "execution_count": 61,
   "metadata": {},
   "outputs": [
    {
     "data": {
      "text/plain": [
       "1    29\n",
       "2    30\n",
       "3    31\n",
       "Name: Rank, dtype: int64"
      ]
     },
     "execution_count": 61,
     "metadata": {},
     "output_type": "execute_result"
    }
   ],
   "source": [
    "# Rank has three classes of accuracy \n",
    "df.Rank.value_counts().sort_values()"
   ]
  },
  {
   "cell_type": "markdown",
   "metadata": {},
   "source": [
    "### 4. What is the baseline accuracy?"
   ]
  },
  {
   "cell_type": "code",
   "execution_count": 62,
   "metadata": {},
   "outputs": [
    {
     "name": "stdout",
     "output_type": "stream",
     "text": [
      "The baseline accuracy is c.33%\n"
     ]
    }
   ],
   "source": [
    "print('The baseline accuracy is c.33%')"
   ]
  },
  {
   "cell_type": "markdown",
   "metadata": {},
   "source": [
    "### 5. Choose 4 features to be your predictor variables and set up your design matrix."
   ]
  },
  {
   "cell_type": "code",
   "execution_count": 63,
   "metadata": {},
   "outputs": [
    {
     "data": {
      "text/plain": [
       "Rank    1.000000\n",
       "PTS     0.905004\n",
       "GF%     0.653633\n",
       "CF%     0.598466\n",
       "FF%     0.585340\n",
       "SF%     0.577347\n",
       "CA60    0.537879\n",
       "GA60    0.536279\n",
       "GA      0.535782\n",
       "SF60    0.484563\n",
       "FA60    0.477409\n",
       "GF      0.475713\n",
       "FF60    0.466239\n",
       "SF      0.446335\n",
       "SA60    0.443970\n",
       "FF      0.425059\n",
       "CA      0.423351\n",
       "GF60    0.409616\n",
       "CF60    0.403508\n",
       "CF      0.383993\n",
       "PDO     0.365246\n",
       "FA      0.364666\n",
       "Sv%     0.324691\n",
       "SA      0.324561\n",
       "Sh%     0.168314\n",
       "PIM     0.166454\n",
       "Name: Rank, dtype: float64"
      ]
     },
     "execution_count": 63,
     "metadata": {},
     "output_type": "execute_result"
    }
   ],
   "source": [
    "# Check for which features most strongly correlate against the response (Rank) \n",
    "abs(df.corr()['Rank']).sort_values(ascending=False)"
   ]
  },
  {
   "cell_type": "code",
   "execution_count": 64,
   "metadata": {},
   "outputs": [],
   "source": [
    "# Highest correlators are PTS, GF%, CF%, FF%\n",
    "# Create feature matrix (X).\n",
    "feature_cols = ['PTS', 'GF%', 'CF%', 'FF%']\n",
    "X = df[feature_cols]"
   ]
  },
  {
   "cell_type": "markdown",
   "metadata": {},
   "source": [
    "### 6. Fit a `KNeighborsClassifier` with 1 neighbor using the target and predictors."
   ]
  },
  {
   "cell_type": "code",
   "execution_count": 65,
   "metadata": {},
   "outputs": [],
   "source": [
    "from sklearn.neighbors import KNeighborsClassifier\n",
    "from sklearn.model_selection import train_test_split\n",
    "from sklearn import metrics"
   ]
  },
  {
   "cell_type": "code",
   "execution_count": 66,
   "metadata": {},
   "outputs": [],
   "source": [
    "#  Split X and y into training and testing sets (using random_state for reproducibility).\n",
    "X_train, X_test, y_train, y_test = train_test_split(X, y, test_size= 0.25, random_state=99)"
   ]
  },
  {
   "cell_type": "code",
   "execution_count": 67,
   "metadata": {},
   "outputs": [
    {
     "data": {
      "text/plain": [
       "KNeighborsClassifier(algorithm='auto', leaf_size=30, metric='minkowski',\n",
       "                     metric_params=None, n_jobs=None, n_neighbors=1, p=2,\n",
       "                     weights='uniform')"
      ]
     },
     "execution_count": 67,
     "metadata": {},
     "output_type": "execute_result"
    }
   ],
   "source": [
    "# Train the model on the training set (using K=1)\n",
    "knn = KNeighborsClassifier(n_neighbors=1)\n",
    "knn.fit(X_train, y_train)"
   ]
  },
  {
   "cell_type": "markdown",
   "metadata": {},
   "source": [
    "### 7. Evaluate the accuracy of your model.\n",
    "- Is it better than baseline?\n",
    "- Is it legitimate?"
   ]
  },
  {
   "cell_type": "code",
   "execution_count": 68,
   "metadata": {},
   "outputs": [
    {
     "name": "stdout",
     "output_type": "stream",
     "text": [
      "0.8260869565217391\n"
     ]
    }
   ],
   "source": [
    "# accuracy = the correct number of predictions divided by the total predictions made\n",
    "y_pred_class = knn.predict(X_test)\n",
    "print((metrics.accuracy_score(y_test, y_pred_class)))"
   ]
  },
  {
   "cell_type": "code",
   "execution_count": 69,
   "metadata": {},
   "outputs": [],
   "source": [
    "# No because the features selected are highly likely to be correlated to one another"
   ]
  },
  {
   "cell_type": "markdown",
   "metadata": {},
   "source": [
    "### 8. Create a 50-50 train-test-split of your target and predictors. Refit the KNN and assess the accuracy."
   ]
  },
  {
   "cell_type": "code",
   "execution_count": 70,
   "metadata": {},
   "outputs": [],
   "source": [
    "#  Split X and y into training and testing sets (using random_state for reproducibility) and 50/50 split.\n",
    "X_train, X_test, y_train, y_test = train_test_split(X, y,test_size=0.5, random_state=99)"
   ]
  },
  {
   "cell_type": "code",
   "execution_count": 71,
   "metadata": {},
   "outputs": [
    {
     "data": {
      "text/plain": [
       "KNeighborsClassifier(algorithm='auto', leaf_size=30, metric='minkowski',\n",
       "                     metric_params=None, n_jobs=None, n_neighbors=1, p=2,\n",
       "                     weights='uniform')"
      ]
     },
     "execution_count": 71,
     "metadata": {},
     "output_type": "execute_result"
    }
   ],
   "source": [
    "# Train the model on the training set (using K=1)\n",
    "knn = KNeighborsClassifier(n_neighbors=1)\n",
    "knn.fit(X_train, y_train)"
   ]
  },
  {
   "cell_type": "code",
   "execution_count": 72,
   "metadata": {},
   "outputs": [
    {
     "name": "stdout",
     "output_type": "stream",
     "text": [
      "0.9333333333333333\n"
     ]
    }
   ],
   "source": [
    "# accuracy = the correct number of predictions divided by the total predictions made\n",
    "y_pred_class = knn.predict(X_test)\n",
    "print((metrics.accuracy_score(y_test, y_pred_class)))"
   ]
  },
  {
   "cell_type": "code",
   "execution_count": 73,
   "metadata": {},
   "outputs": [],
   "source": [
    "# Accuracy is greater for 50 % test compared to 25%. "
   ]
  },
  {
   "cell_type": "markdown",
   "metadata": {},
   "source": [
    "### 9. Evaluate the test accuracy of a KNN where K == number of rows in the training data."
   ]
  },
  {
   "cell_type": "code",
   "execution_count": 74,
   "metadata": {},
   "outputs": [
    {
     "data": {
      "text/plain": [
       "45"
      ]
     },
     "execution_count": 74,
     "metadata": {},
     "output_type": "execute_result"
    }
   ],
   "source": [
    "# number of rows in the training data\n",
    "len(X_train)"
   ]
  },
  {
   "cell_type": "code",
   "execution_count": 75,
   "metadata": {},
   "outputs": [
    {
     "data": {
      "text/plain": [
       "KNeighborsClassifier(algorithm='auto', leaf_size=30, metric='minkowski',\n",
       "                     metric_params=None, n_jobs=None, n_neighbors=45, p=2,\n",
       "                     weights='uniform')"
      ]
     },
     "execution_count": 75,
     "metadata": {},
     "output_type": "execute_result"
    }
   ],
   "source": [
    "# Train the model on the training set (using K=45)\n",
    "knn = KNeighborsClassifier(n_neighbors=(len(X_train)))\n",
    "knn.fit(X_train, y_train)"
   ]
  },
  {
   "cell_type": "code",
   "execution_count": 76,
   "metadata": {},
   "outputs": [
    {
     "name": "stdout",
     "output_type": "stream",
     "text": [
      "0.3111111111111111\n"
     ]
    }
   ],
   "source": [
    "# accuracy = the correct number of predictions divided by the total predictions made\n",
    "y_pred_class = knn.predict(X_test)\n",
    "print((metrics.accuracy_score(y_test, y_pred_class)))"
   ]
  },
  {
   "cell_type": "code",
   "execution_count": 77,
   "metadata": {},
   "outputs": [],
   "source": [
    "# The accuracy of K = number of rows in the training data is almost identical to the baseline "
   ]
  },
  {
   "cell_type": "markdown",
   "metadata": {},
   "source": [
    "### 10. Fit the KNN at values of K from 1 to the number of rows in the training data.\n",
    "- Store the test accuracy in a list.\n",
    "- Plot the test accuracy vs. the number of neighbors."
   ]
  },
  {
   "cell_type": "code",
   "execution_count": 96,
   "metadata": {},
   "outputs": [],
   "source": [
    "# Calculate TRAINING ERROR and TESTING ERROR for K=1 through the number of rows of the training data.\n",
    "\n",
    "k_range = list(range(1, len((X_train))))\n",
    "training_error = []\n",
    "testing_error = []\n",
    "\n",
    "\n",
    "for k in k_range:\n",
    "\n",
    "    # Instantiate the model with the current K value.\n",
    "    knn = KNeighborsClassifier(n_neighbors=k)\n",
    "    knn.fit(X_train, y_train)\n",
    "    \n",
    "    # Calculate training error (error = 1 - accuracy).\n",
    "    y_pred_class = knn.predict(X)\n",
    "    training_accuracy = metrics.accuracy_score(y, y_pred_class)\n",
    "    training_error.append(1 - training_accuracy)\n",
    "    \n",
    "    # Calculate testing error.\n",
    "    y_pred_class = knn.predict(X_test)\n",
    "    testing_accuracy = metrics.accuracy_score(y_test, y_pred_class)\n",
    "    testing_error.append(1 - testing_accuracy)"
   ]
  },
  {
   "cell_type": "code",
   "execution_count": 97,
   "metadata": {},
   "outputs": [],
   "source": [
    "# Allow plots to appear in the notebook.\n",
    "%matplotlib inline\n",
    "import matplotlib.pyplot as plt\n",
    "plt.style.use('fivethirtyeight')"
   ]
  },
  {
   "cell_type": "code",
   "execution_count": 80,
   "metadata": {},
   "outputs": [
    {
     "name": "stdout",
     "output_type": "stream",
     "text": [
      "    training error  testing error\n",
      "K                                \n",
      "44        0.655556       0.688889\n",
      "43        0.377778       0.400000\n",
      "42        0.355556       0.377778\n",
      "41        0.366667       0.377778\n",
      "40        0.366667       0.377778\n",
      "39        0.366667       0.377778\n",
      "38        0.388889       0.400000\n",
      "37        0.400000       0.400000\n",
      "36        0.411111       0.422222\n",
      "35        0.433333       0.444444\n",
      "34        0.433333       0.444444\n",
      "33        0.433333       0.444444\n",
      "32        0.433333       0.444444\n",
      "31        0.433333       0.444444\n",
      "30        0.477778       0.511111\n",
      "29        0.422222       0.444444\n",
      "28        0.411111       0.422222\n",
      "27        0.244444       0.200000\n",
      "26        0.188889       0.155556\n",
      "25        0.155556       0.133333\n",
      "24        0.077778       0.044444\n",
      "23        0.066667       0.044444\n",
      "22        0.044444       0.066667\n",
      "21        0.077778       0.088889\n",
      "20        0.088889       0.111111\n",
      "19        0.077778       0.088889\n",
      "18        0.066667       0.066667\n",
      "17        0.044444       0.044444\n",
      "16        0.044444       0.044444\n",
      "15        0.044444       0.044444\n",
      "14        0.055556       0.066667\n",
      "13        0.055556       0.066667\n",
      "12        0.055556       0.088889\n",
      "11        0.044444       0.066667\n",
      "10        0.044444       0.066667\n",
      "9         0.022222       0.022222\n",
      "8         0.044444       0.066667\n",
      "7         0.022222       0.022222\n",
      "6         0.044444       0.044444\n",
      "5         0.011111       0.000000\n",
      "4         0.066667       0.088889\n",
      "3         0.055556       0.066667\n",
      "2         0.077778       0.111111\n",
      "1         0.033333       0.066667\n"
     ]
    }
   ],
   "source": [
    "# Create a DataFrame of K, training error, and testing error.\n",
    "column_dict = {'K': k_range, 'training error':training_error, 'testing error':testing_error}\n",
    "df = pd.DataFrame(column_dict).set_index('K').sort_index(ascending=False)\n",
    "#df\n",
    "print(df.to_string())"
   ]
  },
  {
   "cell_type": "code",
   "execution_count": 81,
   "metadata": {},
   "outputs": [
    {
     "data": {
      "image/png": "[encoded data removed]",
      "text/plain": [
       "<Figure size 432x288 with 1 Axes>"
      ]
     },
     "metadata": {
      "image/png": {
       "height": 285,
       "width": 436
      }
     },
     "output_type": "display_data"
    }
   ],
   "source": [
    "# Plot the relationship between K (HIGH TO LOW) and TESTING ERROR.\n",
    "df.plot(y='testing error');\n",
    "plt.xlabel('Value of K for KNN');\n",
    "plt.ylabel('Error (lower is better)');"
   ]
  },
  {
   "cell_type": "code",
   "execution_count": 82,
   "metadata": {},
   "outputs": [
    {
     "data": {
      "image/png": "[encoded data removed]",
      "text/plain": [
       "<Figure size 432x288 with 1 Axes>"
      ]
     },
     "metadata": {
      "image/png": {
       "height": 285,
       "width": 436
      }
     },
     "output_type": "display_data"
    }
   ],
   "source": [
    "# Plot the relationship between K (HIGH TO LOW) and both TRAINING ERROR and TESTING ERROR.\n",
    "df.plot();\n",
    "plt.xlabel('Value of K for KNN');\n",
    "plt.ylabel('Error (lower is better)');"
   ]
  },
  {
   "cell_type": "markdown",
   "metadata": {},
   "source": [
    "### 11. Fit KNN across different values of K and plot the mean cross-validated accuracy with 5 folds."
   ]
  },
  {
   "cell_type": "code",
   "execution_count": 83,
   "metadata": {},
   "outputs": [],
   "source": [
    "# k = 5"
   ]
  },
  {
   "cell_type": "code",
   "execution_count": 84,
   "metadata": {},
   "outputs": [
    {
     "data": {
      "text/plain": [
       "KNeighborsClassifier(algorithm='auto', leaf_size=30, metric='minkowski',\n",
       "                     metric_params=None, n_jobs=None, n_neighbors=5, p=2,\n",
       "                     weights='uniform')"
      ]
     },
     "execution_count": 84,
     "metadata": {},
     "output_type": "execute_result"
    }
   ],
   "source": [
    "# Train the model on the training set (using K=5)\n",
    "knn = KNeighborsClassifier(n_neighbors=5)\n",
    "knn.fit(X_train, y_train)"
   ]
  },
  {
   "cell_type": "code",
   "execution_count": 85,
   "metadata": {},
   "outputs": [],
   "source": [
    "from sklearn import model_selection\n",
    "from sklearn.linear_model import LinearRegression"
   ]
  },
  {
   "cell_type": "code",
   "execution_count": 86,
   "metadata": {},
   "outputs": [],
   "source": [
    "kf = model_selection.KFold(n_splits=5, shuffle=True)"
   ]
  },
  {
   "cell_type": "code",
   "execution_count": 87,
   "metadata": {},
   "outputs": [
    {
     "name": "stdout",
     "output_type": "stream",
     "text": [
      "~~~~ CROSS VALIDATION each fold ~~~~\n",
      "Model 1\n",
      "MSE: 0.09250356882834292\n",
      "R2: 0.8238756878621875\n",
      "\n",
      "Model 2\n",
      "MSE: 0.12152715709256073\n",
      "R2: 0.8242426286753063\n",
      "\n",
      "Model 3\n",
      "MSE: 0.1319627417953296\n",
      "R2: 0.8243515242029242\n",
      "\n",
      "Model 4\n",
      "MSE: 0.16463005004069428\n",
      "R2: 0.8223861567333673\n",
      "\n",
      "Model 5\n",
      "MSE: 0.19930952481416458\n",
      "R2: 0.8121745849523501\n",
      "\n",
      "~~~~ SUMMARY OF CROSS VALIDATION ~~~~\n",
      "Mean of MSE for all folds: 0.14198660851421843\n",
      "Mean of R2 for all folds: 0.8214061164852271\n"
     ]
    }
   ],
   "source": [
    "mse_values = []\n",
    "scores = []\n",
    "n = 0\n",
    "\n",
    "print(\"~~~~ CROSS VALIDATION each fold ~~~~\")\n",
    "for train_index, test_index in kf.split(X, y):\n",
    "    lr = LinearRegression().fit(X.iloc[train_index], y.iloc[train_index])\n",
    "    \n",
    "    mse_values.append(metrics.mean_squared_error(y.iloc[test_index], lr.predict(X.iloc[test_index])))\n",
    "    scores.append(lr.score(X, y))\n",
    "    \n",
    "    n += 1\n",
    "    \n",
    "    print('Model {}'.format(n))\n",
    "    print('MSE: {}'.format(mse_values[n-1]))\n",
    "    print('R2: {}\\n'.format(scores[n-1]))\n",
    "\n",
    "\n",
    "print(\"~~~~ SUMMARY OF CROSS VALIDATION ~~~~\")\n",
    "print('Mean of MSE for all folds: {}'.format(np.mean(mse_values)))\n",
    "print('Mean of R2 for all folds: {}'.format(np.mean(scores)))"
   ]
  },
  {
   "cell_type": "code",
   "execution_count": null,
   "metadata": {},
   "outputs": [],
   "source": []
  },
  {
   "cell_type": "code",
   "execution_count": 88,
   "metadata": {},
   "outputs": [],
   "source": [
    "# k = 40"
   ]
  },
  {
   "cell_type": "code",
   "execution_count": 89,
   "metadata": {},
   "outputs": [
    {
     "data": {
      "text/plain": [
       "KNeighborsClassifier(algorithm='auto', leaf_size=30, metric='minkowski',\n",
       "                     metric_params=None, n_jobs=None, n_neighbors=40, p=2,\n",
       "                     weights='uniform')"
      ]
     },
     "execution_count": 89,
     "metadata": {},
     "output_type": "execute_result"
    }
   ],
   "source": [
    "# Train the model on the training set (using K=40)\n",
    "knn = KNeighborsClassifier(n_neighbors=40)\n",
    "knn.fit(X_train, y_train)"
   ]
  },
  {
   "cell_type": "code",
   "execution_count": 90,
   "metadata": {},
   "outputs": [],
   "source": [
    "kf = model_selection.KFold(n_splits=5, shuffle=True)"
   ]
  },
  {
   "cell_type": "code",
   "execution_count": 91,
   "metadata": {},
   "outputs": [
    {
     "name": "stdout",
     "output_type": "stream",
     "text": [
      "~~~~ CROSS VALIDATION each fold ~~~~\n",
      "Model 1\n",
      "MSE: 0.15950662061406223\n",
      "R2: 0.824615023135414\n",
      "\n",
      "Model 2\n",
      "MSE: 0.11707612334595992\n",
      "R2: 0.8237762883884152\n",
      "\n",
      "Model 3\n",
      "MSE: 0.08636183680620638\n",
      "R2: 0.82407444795034\n",
      "\n",
      "Model 4\n",
      "MSE: 0.1273732674786888\n",
      "R2: 0.8232269279661866\n",
      "\n",
      "Model 5\n",
      "MSE: 0.14956876039494035\n",
      "R2: 0.8243791205092369\n",
      "\n",
      "~~~~ SUMMARY OF CROSS VALIDATION ~~~~\n",
      "Mean of MSE for all folds: 0.12797732172797155\n",
      "Mean of R2 for all folds: 0.8240143615899186\n"
     ]
    }
   ],
   "source": [
    "mse_values = []\n",
    "scores = []\n",
    "n = 0\n",
    "\n",
    "print(\"~~~~ CROSS VALIDATION each fold ~~~~\")\n",
    "for train_index, test_index in kf.split(X, y):\n",
    "    lr = LinearRegression().fit(X.iloc[train_index], y.iloc[train_index])\n",
    "    \n",
    "    mse_values.append(metrics.mean_squared_error(y.iloc[test_index], lr.predict(X.iloc[test_index])))\n",
    "    scores.append(lr.score(X, y))\n",
    "    \n",
    "    n += 1\n",
    "    \n",
    "    print('Model {}'.format(n))\n",
    "    print('MSE: {}'.format(mse_values[n-1]))\n",
    "    print('R2: {}\\n'.format(scores[n-1]))\n",
    "\n",
    "\n",
    "print(\"~~~~ SUMMARY OF CROSS VALIDATION ~~~~\")\n",
    "print('Mean of MSE for all folds: {}'.format(np.mean(mse_values)))\n",
    "print('Mean of R2 for all folds: {}'.format(np.mean(scores)))"
   ]
  },
  {
   "cell_type": "markdown",
   "metadata": {},
   "source": [
    "### 12. Standardize the predictor matrix and cross-validate across the different K.\n",
    "- Plot the standardized mean cross-validated accuracy against the unstandardized. Which is better?\n",
    "- Why?"
   ]
  },
  {
   "cell_type": "code",
   "execution_count": 92,
   "metadata": {},
   "outputs": [],
   "source": [
    "# Instantiate and fit StandardScaler.\n",
    "from sklearn.preprocessing import StandardScaler\n",
    "\n",
    "scaler = StandardScaler()\n",
    "X_train = scaler.fit_transform(X_train)\n",
    "X_test = scaler.transform(X_test)"
   ]
  },
  {
   "cell_type": "code",
   "execution_count": 93,
   "metadata": {},
   "outputs": [
    {
     "name": "stdout",
     "output_type": "stream",
     "text": [
      "0.8222222222222222\n"
     ]
    }
   ],
   "source": [
    "# Calculate testing error.\n",
    "knn = KNeighborsClassifier(n_neighbors=5)\n",
    "knn.fit(X_train, y_train)\n",
    "\n",
    "y_pred_class = knn.predict(X_test)\n",
    "testing_accuracy = metrics.accuracy_score(y_test, y_pred_class)\n",
    "testing_error = 1 - testing_accuracy\n",
    "\n",
    "print(testing_accuracy)\n",
    "#print(testing_error)"
   ]
  },
  {
   "cell_type": "code",
   "execution_count": 94,
   "metadata": {},
   "outputs": [
    {
     "name": "stdout",
     "output_type": "stream",
     "text": [
      "0.4888888888888889\n"
     ]
    }
   ],
   "source": [
    "# Calculate testing error.\n",
    "knn = KNeighborsClassifier(n_neighbors=40)\n",
    "knn.fit(X_train, y_train)\n",
    "\n",
    "y_pred_class = knn.predict(X_test)\n",
    "testing_accuracy = metrics.accuracy_score(y_test, y_pred_class)\n",
    "testing_error = 1 - testing_accuracy\n",
    "\n",
    "print(testing_accuracy)\n",
    "#print(testing_error)"
   ]
  },
  {
   "cell_type": "code",
   "execution_count": 95,
   "metadata": {},
   "outputs": [],
   "source": [
    "# k = 5 is more accurate than k = 40 because the the full data set has only 150 rows."
   ]
  },
  {
   "cell_type": "code",
   "execution_count": null,
   "metadata": {},
   "outputs": [],
   "source": []
  }
 ],
 "metadata": {
  "kernelspec": {
   "display_name": "Python 3",
   "language": "python",
   "name": "python3"
  },
  "language_info": {
   "codemirror_mode": {
    "name": "ipython",
    "version": 3
   },
   "file_extension": ".py",
   "mimetype": "text/x-python",
   "name": "python",
   "nbconvert_exporter": "python",
   "pygments_lexer": "ipython3",
   "version": "3.7.4"
  }
 },
 "nbformat": 4,
 "nbformat_minor": 2
}
