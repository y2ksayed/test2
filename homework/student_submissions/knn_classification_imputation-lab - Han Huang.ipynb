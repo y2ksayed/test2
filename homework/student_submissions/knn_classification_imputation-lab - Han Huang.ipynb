{
 "cells": [
  {
   "cell_type": "markdown",
   "metadata": {},
   "source": [
    "<img src=\"http://imgur.com/1ZcRyrc.png\" style=\"float: left; margin: 20px; height: 55px\">\n",
    "\n",
    "# KNN Classification and Imputation: Cell Phone Churn Data\n",
    "\n",
    "_Authors: Kiefer Katovich (SF)_\n",
    "\n",
    "---\n",
    "\n",
    "In this lab you will practice using KNN for classification (and a little bit for regression as well).\n",
    "\n",
    "The dataset is one on \"churn\" in cell phone plans. It has information on the usage of the phones by different account holders and whether or not they churned or not.\n",
    "\n",
    "Our goal is to predict whether a user will churn or not based on the other features.\n",
    "\n",
    "We will also be using the KNN model to **impute** missing data. There are a couple of columns in the dataset with missing values, and we can build KNN models to predict what those missing values will most likely be. This is a more advanced imputation method than just filling in the mean or median."
   ]
  },
  {
   "cell_type": "code",
   "execution_count": 1,
   "metadata": {},
   "outputs": [],
   "source": [
    "import matplotlib.pyplot as plt\n",
    "import numpy as np\n",
    "import pandas as pd\n",
    "import seaborn as sns\n",
    "\n",
    "%matplotlib inline\n",
    "%config InlineBackend.figure_format = 'retina'\n",
    "\n",
    "from sklearn.neighbors import KNeighborsClassifier"
   ]
  },
  {
   "cell_type": "markdown",
   "metadata": {},
   "source": [
    "### 1. Load the cell phone \"churn\" data containing some missing values."
   ]
  },
  {
   "cell_type": "code",
   "execution_count": 2,
   "metadata": {},
   "outputs": [],
   "source": [
    "df = pd.read_csv('./churn_missing.csv')"
   ]
  },
  {
   "cell_type": "markdown",
   "metadata": {},
   "source": [
    "### 2. Examine the data. What columns have missing values?"
   ]
  },
  {
   "cell_type": "code",
   "execution_count": 3,
   "metadata": {},
   "outputs": [
    {
     "data": {
      "text/html": [
       "<div>\n",
       "<style scoped>\n",
       "    .dataframe tbody tr th:only-of-type {\n",
       "        vertical-align: middle;\n",
       "    }\n",
       "\n",
       "    .dataframe tbody tr th {\n",
       "        vertical-align: top;\n",
       "    }\n",
       "\n",
       "    .dataframe thead th {\n",
       "        text-align: right;\n",
       "    }\n",
       "</style>\n",
       "<table border=\"1\" class=\"dataframe\">\n",
       "  <thead>\n",
       "    <tr style=\"text-align: right;\">\n",
       "      <th></th>\n",
       "      <th>state</th>\n",
       "      <th>account_length</th>\n",
       "      <th>area_code</th>\n",
       "      <th>intl_plan</th>\n",
       "      <th>vmail_plan</th>\n",
       "      <th>vmail_message</th>\n",
       "      <th>day_mins</th>\n",
       "      <th>day_calls</th>\n",
       "      <th>day_charge</th>\n",
       "      <th>eve_mins</th>\n",
       "      <th>eve_calls</th>\n",
       "      <th>eve_charge</th>\n",
       "      <th>night_mins</th>\n",
       "      <th>night_calls</th>\n",
       "      <th>night_charge</th>\n",
       "      <th>intl_mins</th>\n",
       "      <th>intl_calls</th>\n",
       "      <th>intl_charge</th>\n",
       "      <th>custserv_calls</th>\n",
       "      <th>churn</th>\n",
       "    </tr>\n",
       "  </thead>\n",
       "  <tbody>\n",
       "    <tr>\n",
       "      <td>0</td>\n",
       "      <td>KS</td>\n",
       "      <td>128</td>\n",
       "      <td>415</td>\n",
       "      <td>no</td>\n",
       "      <td>yes</td>\n",
       "      <td>25.0</td>\n",
       "      <td>265.1</td>\n",
       "      <td>110</td>\n",
       "      <td>45.07</td>\n",
       "      <td>197.4</td>\n",
       "      <td>99</td>\n",
       "      <td>16.78</td>\n",
       "      <td>244.7</td>\n",
       "      <td>91</td>\n",
       "      <td>11.01</td>\n",
       "      <td>10.0</td>\n",
       "      <td>3</td>\n",
       "      <td>2.7</td>\n",
       "      <td>1</td>\n",
       "      <td>False</td>\n",
       "    </tr>\n",
       "  </tbody>\n",
       "</table>\n",
       "</div>"
      ],
      "text/plain": [
       "  state  account_length  area_code intl_plan vmail_plan  vmail_message  \\\n",
       "0    KS             128        415        no        yes           25.0   \n",
       "\n",
       "   day_mins  day_calls  day_charge  eve_mins  eve_calls  eve_charge  \\\n",
       "0     265.1        110       45.07     197.4         99       16.78   \n",
       "\n",
       "   night_mins  night_calls  night_charge  intl_mins  intl_calls  intl_charge  \\\n",
       "0       244.7           91         11.01       10.0           3          2.7   \n",
       "\n",
       "   custserv_calls  churn  \n",
       "0               1  False  "
      ]
     },
     "execution_count": 3,
     "metadata": {},
     "output_type": "execute_result"
    }
   ],
   "source": [
    "# Check the head\n",
    "df.head(1)"
   ]
  },
  {
   "cell_type": "code",
   "execution_count": 4,
   "metadata": {},
   "outputs": [
    {
     "data": {
      "text/plain": [
       "(3333, 20)"
      ]
     },
     "execution_count": 4,
     "metadata": {},
     "output_type": "execute_result"
    }
   ],
   "source": [
    "# Check the shape\n",
    "df.shape"
   ]
  },
  {
   "cell_type": "code",
   "execution_count": 5,
   "metadata": {},
   "outputs": [
    {
     "data": {
      "text/plain": [
       "state              object\n",
       "account_length      int64\n",
       "area_code           int64\n",
       "intl_plan          object\n",
       "vmail_plan         object\n",
       "vmail_message     float64\n",
       "day_mins          float64\n",
       "day_calls           int64\n",
       "day_charge        float64\n",
       "eve_mins          float64\n",
       "eve_calls           int64\n",
       "eve_charge        float64\n",
       "night_mins        float64\n",
       "night_calls         int64\n",
       "night_charge      float64\n",
       "intl_mins         float64\n",
       "intl_calls          int64\n",
       "intl_charge       float64\n",
       "custserv_calls      int64\n",
       "churn                bool\n",
       "dtype: object"
      ]
     },
     "execution_count": 5,
     "metadata": {},
     "output_type": "execute_result"
    }
   ],
   "source": [
    "# Check data types\n",
    "df.dtypes"
   ]
  },
  {
   "cell_type": "code",
   "execution_count": 6,
   "metadata": {},
   "outputs": [
    {
     "data": {
      "text/plain": [
       "state               0\n",
       "account_length      0\n",
       "area_code           0\n",
       "intl_plan           0\n",
       "vmail_plan        400\n",
       "vmail_message     400\n",
       "day_mins            0\n",
       "day_calls           0\n",
       "day_charge          0\n",
       "eve_mins            0\n",
       "eve_calls           0\n",
       "eve_charge          0\n",
       "night_mins          0\n",
       "night_calls         0\n",
       "night_charge        0\n",
       "intl_mins           0\n",
       "intl_calls          0\n",
       "intl_charge         0\n",
       "custserv_calls      0\n",
       "churn               0\n",
       "dtype: int64"
      ]
     },
     "execution_count": 6,
     "metadata": {},
     "output_type": "execute_result"
    }
   ],
   "source": [
    "# Check features for null values \n",
    "df.isnull().sum()"
   ]
  },
  {
   "cell_type": "markdown",
   "metadata": {},
   "source": [
    "### 3. Convert the `vmail_plan` and `intl_plan` colums to binary integer columns.\n",
    "\n",
    "Make sure that if a value is missing that you don't fill it in with a new value! Preserve the missing values."
   ]
  },
  {
   "cell_type": "code",
   "execution_count": 7,
   "metadata": {},
   "outputs": [],
   "source": [
    "# After trying out other methods to handle null values with limited success, I decided to split the original DF in two, process and then concatenate back"
   ]
  },
  {
   "cell_type": "code",
   "execution_count": 8,
   "metadata": {},
   "outputs": [
    {
     "data": {
      "text/html": [
       "<div>\n",
       "<style scoped>\n",
       "    .dataframe tbody tr th:only-of-type {\n",
       "        vertical-align: middle;\n",
       "    }\n",
       "\n",
       "    .dataframe tbody tr th {\n",
       "        vertical-align: top;\n",
       "    }\n",
       "\n",
       "    .dataframe thead th {\n",
       "        text-align: right;\n",
       "    }\n",
       "</style>\n",
       "<table border=\"1\" class=\"dataframe\">\n",
       "  <thead>\n",
       "    <tr style=\"text-align: right;\">\n",
       "      <th></th>\n",
       "      <th>state</th>\n",
       "      <th>account_length</th>\n",
       "      <th>area_code</th>\n",
       "      <th>intl_plan</th>\n",
       "      <th>vmail_plan</th>\n",
       "      <th>vmail_message</th>\n",
       "      <th>day_mins</th>\n",
       "      <th>day_calls</th>\n",
       "      <th>day_charge</th>\n",
       "      <th>eve_mins</th>\n",
       "      <th>...</th>\n",
       "      <th>eve_charge</th>\n",
       "      <th>night_mins</th>\n",
       "      <th>night_calls</th>\n",
       "      <th>night_charge</th>\n",
       "      <th>intl_mins</th>\n",
       "      <th>intl_calls</th>\n",
       "      <th>intl_charge</th>\n",
       "      <th>custserv_calls</th>\n",
       "      <th>churn</th>\n",
       "      <th>index1</th>\n",
       "    </tr>\n",
       "  </thead>\n",
       "  <tbody>\n",
       "    <tr>\n",
       "      <td>0</td>\n",
       "      <td>KS</td>\n",
       "      <td>128</td>\n",
       "      <td>415</td>\n",
       "      <td>no</td>\n",
       "      <td>yes</td>\n",
       "      <td>25.0</td>\n",
       "      <td>265.1</td>\n",
       "      <td>110</td>\n",
       "      <td>45.07</td>\n",
       "      <td>197.4</td>\n",
       "      <td>...</td>\n",
       "      <td>16.78</td>\n",
       "      <td>244.7</td>\n",
       "      <td>91</td>\n",
       "      <td>11.01</td>\n",
       "      <td>10.0</td>\n",
       "      <td>3</td>\n",
       "      <td>2.70</td>\n",
       "      <td>1</td>\n",
       "      <td>False</td>\n",
       "      <td>0</td>\n",
       "    </tr>\n",
       "    <tr>\n",
       "      <td>1</td>\n",
       "      <td>OH</td>\n",
       "      <td>107</td>\n",
       "      <td>415</td>\n",
       "      <td>no</td>\n",
       "      <td>yes</td>\n",
       "      <td>26.0</td>\n",
       "      <td>161.6</td>\n",
       "      <td>123</td>\n",
       "      <td>27.47</td>\n",
       "      <td>195.5</td>\n",
       "      <td>...</td>\n",
       "      <td>16.62</td>\n",
       "      <td>254.4</td>\n",
       "      <td>103</td>\n",
       "      <td>11.45</td>\n",
       "      <td>13.7</td>\n",
       "      <td>3</td>\n",
       "      <td>3.70</td>\n",
       "      <td>1</td>\n",
       "      <td>False</td>\n",
       "      <td>1</td>\n",
       "    </tr>\n",
       "    <tr>\n",
       "      <td>2</td>\n",
       "      <td>NJ</td>\n",
       "      <td>137</td>\n",
       "      <td>415</td>\n",
       "      <td>no</td>\n",
       "      <td>no</td>\n",
       "      <td>0.0</td>\n",
       "      <td>243.4</td>\n",
       "      <td>114</td>\n",
       "      <td>41.38</td>\n",
       "      <td>121.2</td>\n",
       "      <td>...</td>\n",
       "      <td>10.30</td>\n",
       "      <td>162.6</td>\n",
       "      <td>104</td>\n",
       "      <td>7.32</td>\n",
       "      <td>12.2</td>\n",
       "      <td>5</td>\n",
       "      <td>3.29</td>\n",
       "      <td>0</td>\n",
       "      <td>False</td>\n",
       "      <td>2</td>\n",
       "    </tr>\n",
       "    <tr>\n",
       "      <td>3</td>\n",
       "      <td>OH</td>\n",
       "      <td>84</td>\n",
       "      <td>408</td>\n",
       "      <td>yes</td>\n",
       "      <td>no</td>\n",
       "      <td>0.0</td>\n",
       "      <td>299.4</td>\n",
       "      <td>71</td>\n",
       "      <td>50.90</td>\n",
       "      <td>61.9</td>\n",
       "      <td>...</td>\n",
       "      <td>5.26</td>\n",
       "      <td>196.9</td>\n",
       "      <td>89</td>\n",
       "      <td>8.86</td>\n",
       "      <td>6.6</td>\n",
       "      <td>7</td>\n",
       "      <td>1.78</td>\n",
       "      <td>2</td>\n",
       "      <td>False</td>\n",
       "      <td>3</td>\n",
       "    </tr>\n",
       "    <tr>\n",
       "      <td>4</td>\n",
       "      <td>OK</td>\n",
       "      <td>75</td>\n",
       "      <td>415</td>\n",
       "      <td>yes</td>\n",
       "      <td>no</td>\n",
       "      <td>0.0</td>\n",
       "      <td>166.7</td>\n",
       "      <td>113</td>\n",
       "      <td>28.34</td>\n",
       "      <td>148.3</td>\n",
       "      <td>...</td>\n",
       "      <td>12.61</td>\n",
       "      <td>186.9</td>\n",
       "      <td>121</td>\n",
       "      <td>8.41</td>\n",
       "      <td>10.1</td>\n",
       "      <td>3</td>\n",
       "      <td>2.73</td>\n",
       "      <td>3</td>\n",
       "      <td>False</td>\n",
       "      <td>4</td>\n",
       "    </tr>\n",
       "  </tbody>\n",
       "</table>\n",
       "<p>5 rows × 21 columns</p>\n",
       "</div>"
      ],
      "text/plain": [
       "  state  account_length  area_code intl_plan vmail_plan  vmail_message  \\\n",
       "0    KS             128        415        no        yes           25.0   \n",
       "1    OH             107        415        no        yes           26.0   \n",
       "2    NJ             137        415        no         no            0.0   \n",
       "3    OH              84        408       yes         no            0.0   \n",
       "4    OK              75        415       yes         no            0.0   \n",
       "\n",
       "   day_mins  day_calls  day_charge  eve_mins  ...  eve_charge  night_mins  \\\n",
       "0     265.1        110       45.07     197.4  ...       16.78       244.7   \n",
       "1     161.6        123       27.47     195.5  ...       16.62       254.4   \n",
       "2     243.4        114       41.38     121.2  ...       10.30       162.6   \n",
       "3     299.4         71       50.90      61.9  ...        5.26       196.9   \n",
       "4     166.7        113       28.34     148.3  ...       12.61       186.9   \n",
       "\n",
       "   night_calls  night_charge  intl_mins  intl_calls  intl_charge  \\\n",
       "0           91         11.01       10.0           3         2.70   \n",
       "1          103         11.45       13.7           3         3.70   \n",
       "2          104          7.32       12.2           5         3.29   \n",
       "3           89          8.86        6.6           7         1.78   \n",
       "4          121          8.41       10.1           3         2.73   \n",
       "\n",
       "   custserv_calls  churn  index1  \n",
       "0               1  False       0  \n",
       "1               1  False       1  \n",
       "2               0  False       2  \n",
       "3               2  False       3  \n",
       "4               3  False       4  \n",
       "\n",
       "[5 rows x 21 columns]"
      ]
     },
     "execution_count": 8,
     "metadata": {},
     "output_type": "execute_result"
    }
   ],
   "source": [
    "# duplicate the row index number but make it a column\n",
    "df['index1'] = df.index\n",
    "df.head(5)"
   ]
  },
  {
   "cell_type": "code",
   "execution_count": 9,
   "metadata": {},
   "outputs": [],
   "source": [
    "# Create a new dataframe for for non null values \n",
    "df1 = df[(df.vmail_plan == 'yes') | (df.vmail_plan == 'no')]"
   ]
  },
  {
   "cell_type": "code",
   "execution_count": 10,
   "metadata": {},
   "outputs": [
    {
     "name": "stderr",
     "output_type": "stream",
     "text": [
      "/Users/hanhuang/opt/anaconda3/lib/python3.7/site-packages/ipykernel_launcher.py:13: SettingWithCopyWarning: \n",
      "A value is trying to be set on a copy of a slice from a DataFrame.\n",
      "Try using .loc[row_indexer,col_indexer] = value instead\n",
      "\n",
      "See the caveats in the documentation: http://pandas.pydata.org/pandas-docs/stable/user_guide/indexing.html#returning-a-view-versus-a-copy\n",
      "  del sys.path[0]\n"
     ]
    }
   ],
   "source": [
    "# Change 'yes' and 'no' answers into 1 and 0 in a new column 'vmail_binary'\n",
    "def vmail_plan(df):\n",
    "    vmail_list  = []\n",
    "    for ind, row in df.iterrows():        \n",
    "        if row.vmail_plan == 'yes':\n",
    "            value = 1\n",
    "        elif row.vmail_plan == 'no':\n",
    "            value = 0\n",
    "        else:\n",
    "            value == 'N/A'\n",
    "        vmail_list.append(value)\n",
    "    \n",
    "    df1['vmail_binary'] = vmail_list   \n",
    "     \n",
    "vmail_plan(df1)"
   ]
  },
  {
   "cell_type": "code",
   "execution_count": 11,
   "metadata": {},
   "outputs": [],
   "source": [
    "# Create a new dataframe from the original fo those only those row shat have null values in vmail_plan\n",
    "df2 = df[df.vmail_plan.isnull()]"
   ]
  },
  {
   "cell_type": "code",
   "execution_count": 12,
   "metadata": {},
   "outputs": [
    {
     "name": "stderr",
     "output_type": "stream",
     "text": [
      "/Users/hanhuang/opt/anaconda3/lib/python3.7/site-packages/ipykernel_launcher.py:2: SettingWithCopyWarning: \n",
      "A value is trying to be set on a copy of a slice from a DataFrame.\n",
      "Try using .loc[row_indexer,col_indexer] = value instead\n",
      "\n",
      "See the caveats in the documentation: http://pandas.pydata.org/pandas-docs/stable/user_guide/indexing.html#returning-a-view-versus-a-copy\n",
      "  \n"
     ]
    }
   ],
   "source": [
    "# populate a new column entitled vmail_binary and populate column with null values\n",
    "df2['vmail_binary'] = np.nan"
   ]
  },
  {
   "cell_type": "code",
   "execution_count": 13,
   "metadata": {},
   "outputs": [],
   "source": [
    "# Concat the two new dataframes into a new one\n",
    "df3 = pd.concat([df1,df2])"
   ]
  },
  {
   "cell_type": "code",
   "execution_count": 14,
   "metadata": {},
   "outputs": [],
   "source": [
    "# add new column with intl_plan data converted into a binary integers\n",
    "def intl_plan(df):\n",
    "    intl_list  = []\n",
    "    for ind, row in df.iterrows():        \n",
    "        if row.intl_plan == 'yes':\n",
    "            value = 1\n",
    "        elif row.intl_plan == 'no':\n",
    "            value = 0\n",
    "        else:\n",
    "            value == ''\n",
    "        intl_list.append(value)\n",
    "    \n",
    "    df['intl_binary'] = intl_list   \n",
    "     \n",
    "intl_plan(df3)"
   ]
  },
  {
   "cell_type": "code",
   "execution_count": 15,
   "metadata": {},
   "outputs": [
    {
     "data": {
      "text/plain": [
       "(3333, 23)"
      ]
     },
     "execution_count": 15,
     "metadata": {},
     "output_type": "execute_result"
    }
   ],
   "source": [
    "# check the shape\n",
    "df3.shape"
   ]
  },
  {
   "cell_type": "code",
   "execution_count": 16,
   "metadata": {},
   "outputs": [
    {
     "data": {
      "text/html": [
       "<div>\n",
       "<style scoped>\n",
       "    .dataframe tbody tr th:only-of-type {\n",
       "        vertical-align: middle;\n",
       "    }\n",
       "\n",
       "    .dataframe tbody tr th {\n",
       "        vertical-align: top;\n",
       "    }\n",
       "\n",
       "    .dataframe thead th {\n",
       "        text-align: right;\n",
       "    }\n",
       "</style>\n",
       "<table border=\"1\" class=\"dataframe\">\n",
       "  <thead>\n",
       "    <tr style=\"text-align: right;\">\n",
       "      <th></th>\n",
       "      <th>state</th>\n",
       "      <th>account_length</th>\n",
       "      <th>area_code</th>\n",
       "      <th>intl_plan</th>\n",
       "      <th>vmail_plan</th>\n",
       "      <th>vmail_message</th>\n",
       "      <th>day_mins</th>\n",
       "      <th>day_calls</th>\n",
       "      <th>day_charge</th>\n",
       "      <th>eve_mins</th>\n",
       "      <th>...</th>\n",
       "      <th>night_calls</th>\n",
       "      <th>night_charge</th>\n",
       "      <th>intl_mins</th>\n",
       "      <th>intl_calls</th>\n",
       "      <th>intl_charge</th>\n",
       "      <th>custserv_calls</th>\n",
       "      <th>churn</th>\n",
       "      <th>index1</th>\n",
       "      <th>vmail_binary</th>\n",
       "      <th>intl_binary</th>\n",
       "    </tr>\n",
       "  </thead>\n",
       "  <tbody>\n",
       "    <tr>\n",
       "      <td>0</td>\n",
       "      <td>KS</td>\n",
       "      <td>128</td>\n",
       "      <td>415</td>\n",
       "      <td>no</td>\n",
       "      <td>yes</td>\n",
       "      <td>25.0</td>\n",
       "      <td>265.1</td>\n",
       "      <td>110</td>\n",
       "      <td>45.07</td>\n",
       "      <td>197.4</td>\n",
       "      <td>...</td>\n",
       "      <td>91</td>\n",
       "      <td>11.01</td>\n",
       "      <td>10.0</td>\n",
       "      <td>3</td>\n",
       "      <td>2.7</td>\n",
       "      <td>1</td>\n",
       "      <td>False</td>\n",
       "      <td>0</td>\n",
       "      <td>1.0</td>\n",
       "      <td>0</td>\n",
       "    </tr>\n",
       "  </tbody>\n",
       "</table>\n",
       "<p>1 rows × 23 columns</p>\n",
       "</div>"
      ],
      "text/plain": [
       "  state  account_length  area_code intl_plan vmail_plan  vmail_message  \\\n",
       "0    KS             128        415        no        yes           25.0   \n",
       "\n",
       "   day_mins  day_calls  day_charge  eve_mins  ...  night_calls  night_charge  \\\n",
       "0     265.1        110       45.07     197.4  ...           91         11.01   \n",
       "\n",
       "   intl_mins  intl_calls  intl_charge  custserv_calls  churn  index1  \\\n",
       "0       10.0           3          2.7               1  False       0   \n",
       "\n",
       "   vmail_binary  intl_binary  \n",
       "0           1.0            0  \n",
       "\n",
       "[1 rows x 23 columns]"
      ]
     },
     "execution_count": 16,
     "metadata": {},
     "output_type": "execute_result"
    }
   ],
   "source": [
    "# check the head\n",
    "df3.head(1)"
   ]
  },
  {
   "cell_type": "code",
   "execution_count": 17,
   "metadata": {},
   "outputs": [
    {
     "name": "stdout",
     "output_type": "stream",
     "text": [
      "no     2130\n",
      "yes     803\n",
      "Name: vmail_plan, dtype: int64\n",
      "0.0    2130\n",
      "1.0     803\n",
      "Name: vmail_binary, dtype: int64\n",
      "no     3010\n",
      "yes     323\n",
      "Name: intl_plan, dtype: int64\n",
      "0    3010\n",
      "1     323\n",
      "Name: intl_binary, dtype: int64\n"
     ]
    }
   ],
   "source": [
    "# new column data ties with the those they were keyed off of. \n",
    "print(df3['vmail_plan'].value_counts())\n",
    "print(df3['vmail_binary'].value_counts())\n",
    "print(df3['intl_plan'].value_counts())\n",
    "print(df3['intl_binary'].value_counts())"
   ]
  },
  {
   "cell_type": "markdown",
   "metadata": {},
   "source": [
    "### 4. Create dummy coded columns for state and concatenate it to the churn dataset.\n",
    "\n",
    "> **Remember:** You will need to leave out one of the state dummy coded columns to serve as the \"reference\" column since we will be using these for modeling."
   ]
  },
  {
   "cell_type": "code",
   "execution_count": 18,
   "metadata": {},
   "outputs": [],
   "source": [
    "#Create dummy variables using get_dummies from Pandas.\n",
    "state_dummies = pd.get_dummies(df3.state, prefix='state')"
   ]
  },
  {
   "cell_type": "code",
   "execution_count": 19,
   "metadata": {},
   "outputs": [
    {
     "data": {
      "text/html": [
       "<div>\n",
       "<style scoped>\n",
       "    .dataframe tbody tr th:only-of-type {\n",
       "        vertical-align: middle;\n",
       "    }\n",
       "\n",
       "    .dataframe tbody tr th {\n",
       "        vertical-align: top;\n",
       "    }\n",
       "\n",
       "    .dataframe thead th {\n",
       "        text-align: right;\n",
       "    }\n",
       "</style>\n",
       "<table border=\"1\" class=\"dataframe\">\n",
       "  <thead>\n",
       "    <tr style=\"text-align: right;\">\n",
       "      <th></th>\n",
       "      <th>state_AK</th>\n",
       "      <th>state_AL</th>\n",
       "      <th>state_AR</th>\n",
       "      <th>state_AZ</th>\n",
       "      <th>state_CA</th>\n",
       "      <th>state_CO</th>\n",
       "      <th>state_CT</th>\n",
       "      <th>state_DC</th>\n",
       "      <th>state_DE</th>\n",
       "      <th>state_FL</th>\n",
       "      <th>...</th>\n",
       "      <th>state_SD</th>\n",
       "      <th>state_TN</th>\n",
       "      <th>state_TX</th>\n",
       "      <th>state_UT</th>\n",
       "      <th>state_VA</th>\n",
       "      <th>state_VT</th>\n",
       "      <th>state_WA</th>\n",
       "      <th>state_WI</th>\n",
       "      <th>state_WV</th>\n",
       "      <th>state_WY</th>\n",
       "    </tr>\n",
       "  </thead>\n",
       "  <tbody>\n",
       "    <tr>\n",
       "      <td>2688</td>\n",
       "      <td>0</td>\n",
       "      <td>0</td>\n",
       "      <td>0</td>\n",
       "      <td>0</td>\n",
       "      <td>0</td>\n",
       "      <td>0</td>\n",
       "      <td>0</td>\n",
       "      <td>0</td>\n",
       "      <td>0</td>\n",
       "      <td>0</td>\n",
       "      <td>...</td>\n",
       "      <td>0</td>\n",
       "      <td>0</td>\n",
       "      <td>0</td>\n",
       "      <td>0</td>\n",
       "      <td>0</td>\n",
       "      <td>0</td>\n",
       "      <td>0</td>\n",
       "      <td>0</td>\n",
       "      <td>0</td>\n",
       "      <td>0</td>\n",
       "    </tr>\n",
       "    <tr>\n",
       "      <td>671</td>\n",
       "      <td>0</td>\n",
       "      <td>0</td>\n",
       "      <td>0</td>\n",
       "      <td>0</td>\n",
       "      <td>0</td>\n",
       "      <td>0</td>\n",
       "      <td>1</td>\n",
       "      <td>0</td>\n",
       "      <td>0</td>\n",
       "      <td>0</td>\n",
       "      <td>...</td>\n",
       "      <td>0</td>\n",
       "      <td>0</td>\n",
       "      <td>0</td>\n",
       "      <td>0</td>\n",
       "      <td>0</td>\n",
       "      <td>0</td>\n",
       "      <td>0</td>\n",
       "      <td>0</td>\n",
       "      <td>0</td>\n",
       "      <td>0</td>\n",
       "    </tr>\n",
       "    <tr>\n",
       "      <td>1698</td>\n",
       "      <td>0</td>\n",
       "      <td>0</td>\n",
       "      <td>0</td>\n",
       "      <td>0</td>\n",
       "      <td>0</td>\n",
       "      <td>0</td>\n",
       "      <td>0</td>\n",
       "      <td>0</td>\n",
       "      <td>0</td>\n",
       "      <td>1</td>\n",
       "      <td>...</td>\n",
       "      <td>0</td>\n",
       "      <td>0</td>\n",
       "      <td>0</td>\n",
       "      <td>0</td>\n",
       "      <td>0</td>\n",
       "      <td>0</td>\n",
       "      <td>0</td>\n",
       "      <td>0</td>\n",
       "      <td>0</td>\n",
       "      <td>0</td>\n",
       "    </tr>\n",
       "    <tr>\n",
       "      <td>1265</td>\n",
       "      <td>0</td>\n",
       "      <td>0</td>\n",
       "      <td>0</td>\n",
       "      <td>0</td>\n",
       "      <td>0</td>\n",
       "      <td>0</td>\n",
       "      <td>0</td>\n",
       "      <td>0</td>\n",
       "      <td>0</td>\n",
       "      <td>0</td>\n",
       "      <td>...</td>\n",
       "      <td>0</td>\n",
       "      <td>0</td>\n",
       "      <td>0</td>\n",
       "      <td>0</td>\n",
       "      <td>0</td>\n",
       "      <td>0</td>\n",
       "      <td>0</td>\n",
       "      <td>0</td>\n",
       "      <td>0</td>\n",
       "      <td>1</td>\n",
       "    </tr>\n",
       "    <tr>\n",
       "      <td>580</td>\n",
       "      <td>0</td>\n",
       "      <td>0</td>\n",
       "      <td>0</td>\n",
       "      <td>0</td>\n",
       "      <td>0</td>\n",
       "      <td>0</td>\n",
       "      <td>0</td>\n",
       "      <td>0</td>\n",
       "      <td>0</td>\n",
       "      <td>0</td>\n",
       "      <td>...</td>\n",
       "      <td>0</td>\n",
       "      <td>0</td>\n",
       "      <td>0</td>\n",
       "      <td>0</td>\n",
       "      <td>0</td>\n",
       "      <td>0</td>\n",
       "      <td>0</td>\n",
       "      <td>0</td>\n",
       "      <td>0</td>\n",
       "      <td>0</td>\n",
       "    </tr>\n",
       "  </tbody>\n",
       "</table>\n",
       "<p>5 rows × 51 columns</p>\n",
       "</div>"
      ],
      "text/plain": [
       "      state_AK  state_AL  state_AR  state_AZ  state_CA  state_CO  state_CT  \\\n",
       "2688         0         0         0         0         0         0         0   \n",
       "671          0         0         0         0         0         0         1   \n",
       "1698         0         0         0         0         0         0         0   \n",
       "1265         0         0         0         0         0         0         0   \n",
       "580          0         0         0         0         0         0         0   \n",
       "\n",
       "      state_DC  state_DE  state_FL  ...  state_SD  state_TN  state_TX  \\\n",
       "2688         0         0         0  ...         0         0         0   \n",
       "671          0         0         0  ...         0         0         0   \n",
       "1698         0         0         1  ...         0         0         0   \n",
       "1265         0         0         0  ...         0         0         0   \n",
       "580          0         0         0  ...         0         0         0   \n",
       "\n",
       "      state_UT  state_VA  state_VT  state_WA  state_WI  state_WV  state_WY  \n",
       "2688         0         0         0         0         0         0         0  \n",
       "671          0         0         0         0         0         0         0  \n",
       "1698         0         0         0         0         0         0         0  \n",
       "1265         0         0         0         0         0         0         1  \n",
       "580          0         0         0         0         0         0         0  \n",
       "\n",
       "[5 rows x 51 columns]"
      ]
     },
     "execution_count": 19,
     "metadata": {},
     "output_type": "execute_result"
    }
   ],
   "source": [
    "# Inspect the dataframe of the dummies\n",
    "state_dummies.sample(n=5, random_state=1)"
   ]
  },
  {
   "cell_type": "code",
   "execution_count": 20,
   "metadata": {},
   "outputs": [
    {
     "data": {
      "text/html": [
       "<div>\n",
       "<style scoped>\n",
       "    .dataframe tbody tr th:only-of-type {\n",
       "        vertical-align: middle;\n",
       "    }\n",
       "\n",
       "    .dataframe tbody tr th {\n",
       "        vertical-align: top;\n",
       "    }\n",
       "\n",
       "    .dataframe thead th {\n",
       "        text-align: right;\n",
       "    }\n",
       "</style>\n",
       "<table border=\"1\" class=\"dataframe\">\n",
       "  <thead>\n",
       "    <tr style=\"text-align: right;\">\n",
       "      <th></th>\n",
       "      <th>state</th>\n",
       "      <th>account_length</th>\n",
       "      <th>area_code</th>\n",
       "      <th>intl_plan</th>\n",
       "      <th>vmail_plan</th>\n",
       "      <th>vmail_message</th>\n",
       "      <th>day_mins</th>\n",
       "      <th>day_calls</th>\n",
       "      <th>day_charge</th>\n",
       "      <th>eve_mins</th>\n",
       "      <th>...</th>\n",
       "      <th>night_calls</th>\n",
       "      <th>night_charge</th>\n",
       "      <th>intl_mins</th>\n",
       "      <th>intl_calls</th>\n",
       "      <th>intl_charge</th>\n",
       "      <th>custserv_calls</th>\n",
       "      <th>churn</th>\n",
       "      <th>index1</th>\n",
       "      <th>vmail_binary</th>\n",
       "      <th>intl_binary</th>\n",
       "    </tr>\n",
       "  </thead>\n",
       "  <tbody>\n",
       "    <tr>\n",
       "      <td>671</td>\n",
       "      <td>CT</td>\n",
       "      <td>3</td>\n",
       "      <td>415</td>\n",
       "      <td>no</td>\n",
       "      <td>yes</td>\n",
       "      <td>36.0</td>\n",
       "      <td>118.1</td>\n",
       "      <td>117</td>\n",
       "      <td>20.08</td>\n",
       "      <td>221.5</td>\n",
       "      <td>...</td>\n",
       "      <td>89</td>\n",
       "      <td>4.68</td>\n",
       "      <td>11.9</td>\n",
       "      <td>6</td>\n",
       "      <td>3.21</td>\n",
       "      <td>2</td>\n",
       "      <td>False</td>\n",
       "      <td>671</td>\n",
       "      <td>1.0</td>\n",
       "      <td>0</td>\n",
       "    </tr>\n",
       "  </tbody>\n",
       "</table>\n",
       "<p>1 rows × 23 columns</p>\n",
       "</div>"
      ],
      "text/plain": [
       "    state  account_length  area_code intl_plan vmail_plan  vmail_message  \\\n",
       "671    CT               3        415        no        yes           36.0   \n",
       "\n",
       "     day_mins  day_calls  day_charge  eve_mins  ...  night_calls  \\\n",
       "671     118.1        117       20.08     221.5  ...           89   \n",
       "\n",
       "     night_charge  intl_mins  intl_calls  intl_charge  custserv_calls  churn  \\\n",
       "671          4.68       11.9           6         3.21               2  False   \n",
       "\n",
       "     index1  vmail_binary  intl_binary  \n",
       "671     671           1.0            0  \n",
       "\n",
       "[1 rows x 23 columns]"
      ]
     },
     "execution_count": 20,
     "metadata": {},
     "output_type": "execute_result"
    }
   ],
   "source": [
    "# Check match on actual row\n",
    "df3.loc[671:671]"
   ]
  },
  {
   "cell_type": "code",
   "execution_count": 21,
   "metadata": {},
   "outputs": [],
   "source": [
    "#Drop the first column.\n",
    "state_dummies.drop(state_dummies.columns[0], axis=1, inplace=True)"
   ]
  },
  {
   "cell_type": "code",
   "execution_count": 22,
   "metadata": {},
   "outputs": [
    {
     "data": {
      "text/html": [
       "<div>\n",
       "<style scoped>\n",
       "    .dataframe tbody tr th:only-of-type {\n",
       "        vertical-align: middle;\n",
       "    }\n",
       "\n",
       "    .dataframe tbody tr th {\n",
       "        vertical-align: top;\n",
       "    }\n",
       "\n",
       "    .dataframe thead th {\n",
       "        text-align: right;\n",
       "    }\n",
       "</style>\n",
       "<table border=\"1\" class=\"dataframe\">\n",
       "  <thead>\n",
       "    <tr style=\"text-align: right;\">\n",
       "      <th></th>\n",
       "      <th>state_AL</th>\n",
       "      <th>state_AR</th>\n",
       "      <th>state_AZ</th>\n",
       "      <th>state_CA</th>\n",
       "      <th>state_CO</th>\n",
       "      <th>state_CT</th>\n",
       "      <th>state_DC</th>\n",
       "      <th>state_DE</th>\n",
       "      <th>state_FL</th>\n",
       "      <th>state_GA</th>\n",
       "      <th>...</th>\n",
       "      <th>state_SD</th>\n",
       "      <th>state_TN</th>\n",
       "      <th>state_TX</th>\n",
       "      <th>state_UT</th>\n",
       "      <th>state_VA</th>\n",
       "      <th>state_VT</th>\n",
       "      <th>state_WA</th>\n",
       "      <th>state_WI</th>\n",
       "      <th>state_WV</th>\n",
       "      <th>state_WY</th>\n",
       "    </tr>\n",
       "  </thead>\n",
       "  <tbody>\n",
       "    <tr>\n",
       "      <td>2688</td>\n",
       "      <td>0</td>\n",
       "      <td>0</td>\n",
       "      <td>0</td>\n",
       "      <td>0</td>\n",
       "      <td>0</td>\n",
       "      <td>0</td>\n",
       "      <td>0</td>\n",
       "      <td>0</td>\n",
       "      <td>0</td>\n",
       "      <td>0</td>\n",
       "      <td>...</td>\n",
       "      <td>0</td>\n",
       "      <td>0</td>\n",
       "      <td>0</td>\n",
       "      <td>0</td>\n",
       "      <td>0</td>\n",
       "      <td>0</td>\n",
       "      <td>0</td>\n",
       "      <td>0</td>\n",
       "      <td>0</td>\n",
       "      <td>0</td>\n",
       "    </tr>\n",
       "    <tr>\n",
       "      <td>671</td>\n",
       "      <td>0</td>\n",
       "      <td>0</td>\n",
       "      <td>0</td>\n",
       "      <td>0</td>\n",
       "      <td>0</td>\n",
       "      <td>1</td>\n",
       "      <td>0</td>\n",
       "      <td>0</td>\n",
       "      <td>0</td>\n",
       "      <td>0</td>\n",
       "      <td>...</td>\n",
       "      <td>0</td>\n",
       "      <td>0</td>\n",
       "      <td>0</td>\n",
       "      <td>0</td>\n",
       "      <td>0</td>\n",
       "      <td>0</td>\n",
       "      <td>0</td>\n",
       "      <td>0</td>\n",
       "      <td>0</td>\n",
       "      <td>0</td>\n",
       "    </tr>\n",
       "    <tr>\n",
       "      <td>1698</td>\n",
       "      <td>0</td>\n",
       "      <td>0</td>\n",
       "      <td>0</td>\n",
       "      <td>0</td>\n",
       "      <td>0</td>\n",
       "      <td>0</td>\n",
       "      <td>0</td>\n",
       "      <td>0</td>\n",
       "      <td>1</td>\n",
       "      <td>0</td>\n",
       "      <td>...</td>\n",
       "      <td>0</td>\n",
       "      <td>0</td>\n",
       "      <td>0</td>\n",
       "      <td>0</td>\n",
       "      <td>0</td>\n",
       "      <td>0</td>\n",
       "      <td>0</td>\n",
       "      <td>0</td>\n",
       "      <td>0</td>\n",
       "      <td>0</td>\n",
       "    </tr>\n",
       "    <tr>\n",
       "      <td>1265</td>\n",
       "      <td>0</td>\n",
       "      <td>0</td>\n",
       "      <td>0</td>\n",
       "      <td>0</td>\n",
       "      <td>0</td>\n",
       "      <td>0</td>\n",
       "      <td>0</td>\n",
       "      <td>0</td>\n",
       "      <td>0</td>\n",
       "      <td>0</td>\n",
       "      <td>...</td>\n",
       "      <td>0</td>\n",
       "      <td>0</td>\n",
       "      <td>0</td>\n",
       "      <td>0</td>\n",
       "      <td>0</td>\n",
       "      <td>0</td>\n",
       "      <td>0</td>\n",
       "      <td>0</td>\n",
       "      <td>0</td>\n",
       "      <td>1</td>\n",
       "    </tr>\n",
       "    <tr>\n",
       "      <td>580</td>\n",
       "      <td>0</td>\n",
       "      <td>0</td>\n",
       "      <td>0</td>\n",
       "      <td>0</td>\n",
       "      <td>0</td>\n",
       "      <td>0</td>\n",
       "      <td>0</td>\n",
       "      <td>0</td>\n",
       "      <td>0</td>\n",
       "      <td>0</td>\n",
       "      <td>...</td>\n",
       "      <td>0</td>\n",
       "      <td>0</td>\n",
       "      <td>0</td>\n",
       "      <td>0</td>\n",
       "      <td>0</td>\n",
       "      <td>0</td>\n",
       "      <td>0</td>\n",
       "      <td>0</td>\n",
       "      <td>0</td>\n",
       "      <td>0</td>\n",
       "    </tr>\n",
       "  </tbody>\n",
       "</table>\n",
       "<p>5 rows × 50 columns</p>\n",
       "</div>"
      ],
      "text/plain": [
       "      state_AL  state_AR  state_AZ  state_CA  state_CO  state_CT  state_DC  \\\n",
       "2688         0         0         0         0         0         0         0   \n",
       "671          0         0         0         0         0         1         0   \n",
       "1698         0         0         0         0         0         0         0   \n",
       "1265         0         0         0         0         0         0         0   \n",
       "580          0         0         0         0         0         0         0   \n",
       "\n",
       "      state_DE  state_FL  state_GA  ...  state_SD  state_TN  state_TX  \\\n",
       "2688         0         0         0  ...         0         0         0   \n",
       "671          0         0         0  ...         0         0         0   \n",
       "1698         0         1         0  ...         0         0         0   \n",
       "1265         0         0         0  ...         0         0         0   \n",
       "580          0         0         0  ...         0         0         0   \n",
       "\n",
       "      state_UT  state_VA  state_VT  state_WA  state_WI  state_WV  state_WY  \n",
       "2688         0         0         0         0         0         0         0  \n",
       "671          0         0         0         0         0         0         0  \n",
       "1698         0         0         0         0         0         0         0  \n",
       "1265         0         0         0         0         0         0         1  \n",
       "580          0         0         0         0         0         0         0  \n",
       "\n",
       "[5 rows x 50 columns]"
      ]
     },
     "execution_count": 22,
     "metadata": {},
     "output_type": "execute_result"
    }
   ],
   "source": [
    "# Reinspect the dataframe of the dummies\n",
    "state_dummies.sample(n=5, random_state=1)"
   ]
  },
  {
   "cell_type": "code",
   "execution_count": 23,
   "metadata": {},
   "outputs": [
    {
     "data": {
      "text/html": [
       "<div>\n",
       "<style scoped>\n",
       "    .dataframe tbody tr th:only-of-type {\n",
       "        vertical-align: middle;\n",
       "    }\n",
       "\n",
       "    .dataframe tbody tr th {\n",
       "        vertical-align: top;\n",
       "    }\n",
       "\n",
       "    .dataframe thead th {\n",
       "        text-align: right;\n",
       "    }\n",
       "</style>\n",
       "<table border=\"1\" class=\"dataframe\">\n",
       "  <thead>\n",
       "    <tr style=\"text-align: right;\">\n",
       "      <th></th>\n",
       "      <th>state</th>\n",
       "      <th>account_length</th>\n",
       "      <th>area_code</th>\n",
       "      <th>intl_plan</th>\n",
       "      <th>vmail_plan</th>\n",
       "      <th>vmail_message</th>\n",
       "      <th>day_mins</th>\n",
       "      <th>day_calls</th>\n",
       "      <th>day_charge</th>\n",
       "      <th>eve_mins</th>\n",
       "      <th>...</th>\n",
       "      <th>state_SD</th>\n",
       "      <th>state_TN</th>\n",
       "      <th>state_TX</th>\n",
       "      <th>state_UT</th>\n",
       "      <th>state_VA</th>\n",
       "      <th>state_VT</th>\n",
       "      <th>state_WA</th>\n",
       "      <th>state_WI</th>\n",
       "      <th>state_WV</th>\n",
       "      <th>state_WY</th>\n",
       "    </tr>\n",
       "  </thead>\n",
       "  <tbody>\n",
       "    <tr>\n",
       "      <td>2688</td>\n",
       "      <td>OK</td>\n",
       "      <td>160</td>\n",
       "      <td>408</td>\n",
       "      <td>no</td>\n",
       "      <td>no</td>\n",
       "      <td>0.0</td>\n",
       "      <td>166.4</td>\n",
       "      <td>117</td>\n",
       "      <td>28.29</td>\n",
       "      <td>317.0</td>\n",
       "      <td>...</td>\n",
       "      <td>0</td>\n",
       "      <td>0</td>\n",
       "      <td>0</td>\n",
       "      <td>0</td>\n",
       "      <td>0</td>\n",
       "      <td>0</td>\n",
       "      <td>0</td>\n",
       "      <td>0</td>\n",
       "      <td>0</td>\n",
       "      <td>0</td>\n",
       "    </tr>\n",
       "    <tr>\n",
       "      <td>671</td>\n",
       "      <td>CT</td>\n",
       "      <td>3</td>\n",
       "      <td>415</td>\n",
       "      <td>no</td>\n",
       "      <td>yes</td>\n",
       "      <td>36.0</td>\n",
       "      <td>118.1</td>\n",
       "      <td>117</td>\n",
       "      <td>20.08</td>\n",
       "      <td>221.5</td>\n",
       "      <td>...</td>\n",
       "      <td>0</td>\n",
       "      <td>0</td>\n",
       "      <td>0</td>\n",
       "      <td>0</td>\n",
       "      <td>0</td>\n",
       "      <td>0</td>\n",
       "      <td>0</td>\n",
       "      <td>0</td>\n",
       "      <td>0</td>\n",
       "      <td>0</td>\n",
       "    </tr>\n",
       "    <tr>\n",
       "      <td>1698</td>\n",
       "      <td>FL</td>\n",
       "      <td>133</td>\n",
       "      <td>510</td>\n",
       "      <td>no</td>\n",
       "      <td>no</td>\n",
       "      <td>0.0</td>\n",
       "      <td>201.7</td>\n",
       "      <td>85</td>\n",
       "      <td>34.29</td>\n",
       "      <td>169.4</td>\n",
       "      <td>...</td>\n",
       "      <td>0</td>\n",
       "      <td>0</td>\n",
       "      <td>0</td>\n",
       "      <td>0</td>\n",
       "      <td>0</td>\n",
       "      <td>0</td>\n",
       "      <td>0</td>\n",
       "      <td>0</td>\n",
       "      <td>0</td>\n",
       "      <td>0</td>\n",
       "    </tr>\n",
       "    <tr>\n",
       "      <td>1265</td>\n",
       "      <td>WY</td>\n",
       "      <td>95</td>\n",
       "      <td>415</td>\n",
       "      <td>no</td>\n",
       "      <td>yes</td>\n",
       "      <td>39.0</td>\n",
       "      <td>260.8</td>\n",
       "      <td>130</td>\n",
       "      <td>44.34</td>\n",
       "      <td>213.4</td>\n",
       "      <td>...</td>\n",
       "      <td>0</td>\n",
       "      <td>0</td>\n",
       "      <td>0</td>\n",
       "      <td>0</td>\n",
       "      <td>0</td>\n",
       "      <td>0</td>\n",
       "      <td>0</td>\n",
       "      <td>0</td>\n",
       "      <td>0</td>\n",
       "      <td>1</td>\n",
       "    </tr>\n",
       "    <tr>\n",
       "      <td>580</td>\n",
       "      <td>IN</td>\n",
       "      <td>113</td>\n",
       "      <td>415</td>\n",
       "      <td>no</td>\n",
       "      <td>no</td>\n",
       "      <td>0.0</td>\n",
       "      <td>209.4</td>\n",
       "      <td>151</td>\n",
       "      <td>35.60</td>\n",
       "      <td>347.3</td>\n",
       "      <td>...</td>\n",
       "      <td>0</td>\n",
       "      <td>0</td>\n",
       "      <td>0</td>\n",
       "      <td>0</td>\n",
       "      <td>0</td>\n",
       "      <td>0</td>\n",
       "      <td>0</td>\n",
       "      <td>0</td>\n",
       "      <td>0</td>\n",
       "      <td>0</td>\n",
       "    </tr>\n",
       "  </tbody>\n",
       "</table>\n",
       "<p>5 rows × 73 columns</p>\n",
       "</div>"
      ],
      "text/plain": [
       "     state  account_length  area_code intl_plan vmail_plan  vmail_message  \\\n",
       "2688    OK             160        408        no         no            0.0   \n",
       "671     CT               3        415        no        yes           36.0   \n",
       "1698    FL             133        510        no         no            0.0   \n",
       "1265    WY              95        415        no        yes           39.0   \n",
       "580     IN             113        415        no         no            0.0   \n",
       "\n",
       "      day_mins  day_calls  day_charge  eve_mins  ...  state_SD  state_TN  \\\n",
       "2688     166.4        117       28.29     317.0  ...         0         0   \n",
       "671      118.1        117       20.08     221.5  ...         0         0   \n",
       "1698     201.7         85       34.29     169.4  ...         0         0   \n",
       "1265     260.8        130       44.34     213.4  ...         0         0   \n",
       "580      209.4        151       35.60     347.3  ...         0         0   \n",
       "\n",
       "      state_TX  state_UT  state_VA  state_VT  state_WA  state_WI  state_WV  \\\n",
       "2688         0         0         0         0         0         0         0   \n",
       "671          0         0         0         0         0         0         0   \n",
       "1698         0         0         0         0         0         0         0   \n",
       "1265         0         0         0         0         0         0         0   \n",
       "580          0         0         0         0         0         0         0   \n",
       "\n",
       "      state_WY  \n",
       "2688         0  \n",
       "671          0  \n",
       "1698         0  \n",
       "1265         1  \n",
       "580          0  \n",
       "\n",
       "[5 rows x 73 columns]"
      ]
     },
     "execution_count": 23,
     "metadata": {},
     "output_type": "execute_result"
    }
   ],
   "source": [
    "# Concatenate the original DataFrame and the dummy DataFrame (axis=0 means rows, axis=1 means columns).\n",
    "df3_dummies = pd.concat([df3, state_dummies], axis=1)\n",
    "\n",
    "# Print 5 random rows.\n",
    "df3_dummies.sample(n=5, random_state=1)"
   ]
  },
  {
   "cell_type": "markdown",
   "metadata": {},
   "source": [
    "### 5. Create a version of the churn data that has no missing values.\n",
    "\n",
    "Calculate the shape"
   ]
  },
  {
   "cell_type": "code",
   "execution_count": 24,
   "metadata": {},
   "outputs": [
    {
     "data": {
      "text/plain": [
       "False    2933\n",
       "Name: vmail_binary, dtype: int64"
      ]
     },
     "execution_count": 24,
     "metadata": {},
     "output_type": "execute_result"
    }
   ],
   "source": [
    "# Create a version of the dataframe df3 that has no null values\n",
    "df4 = df3[(df3.vmail_plan == 'yes') | (df3.vmail_plan == 'no')]\n",
    "df4['vmail_binary'].isnull().value_counts()"
   ]
  },
  {
   "cell_type": "markdown",
   "metadata": {},
   "source": [
    "### 6. Create a target vector and predictor matrix.\n",
    "\n",
    "- Target should be the `churn` column.\n",
    "- Predictor matrix should be all columns except `area_code`, `state`, and `churn`."
   ]
  },
  {
   "cell_type": "code",
   "execution_count": 25,
   "metadata": {},
   "outputs": [],
   "source": [
    "# For Predictor matrix"
   ]
  },
  {
   "cell_type": "code",
   "execution_count": 26,
   "metadata": {},
   "outputs": [],
   "source": [
    "# convert vmail_binary column to integers\n",
    "df4 = df4.astype({'vmail_binary': int})"
   ]
  },
  {
   "cell_type": "code",
   "execution_count": 27,
   "metadata": {},
   "outputs": [],
   "source": [
    "# Create new column with boolean of Churn column replaced with binary integers \n",
    "def churn_plan(df):\n",
    "    churn_list  = []\n",
    "    for ind, row in df.iterrows():        \n",
    "        if row.churn == True:\n",
    "            value = 1\n",
    "        elif row.churn == False:\n",
    "            value = 0\n",
    "        else:\n",
    "            value =''\n",
    "        churn_list.append(value)\n",
    "    \n",
    "    df4['churn_binary'] = churn_list   \n",
    "     \n",
    "churn_plan(df4)"
   ]
  },
  {
   "cell_type": "code",
   "execution_count": 28,
   "metadata": {},
   "outputs": [
    {
     "data": {
      "text/plain": [
       "['state',\n",
       " 'account_length',\n",
       " 'area_code',\n",
       " 'intl_plan',\n",
       " 'vmail_plan',\n",
       " 'vmail_message',\n",
       " 'day_mins',\n",
       " 'day_calls',\n",
       " 'day_charge',\n",
       " 'eve_mins',\n",
       " 'eve_calls',\n",
       " 'eve_charge',\n",
       " 'night_mins',\n",
       " 'night_calls',\n",
       " 'night_charge',\n",
       " 'intl_mins',\n",
       " 'intl_calls',\n",
       " 'intl_charge',\n",
       " 'custserv_calls',\n",
       " 'churn',\n",
       " 'index1',\n",
       " 'vmail_binary',\n",
       " 'intl_binary',\n",
       " 'churn_binary']"
      ]
     },
     "execution_count": 28,
     "metadata": {},
     "output_type": "execute_result"
    }
   ],
   "source": [
    "# First: extract list of columns from the dataframe\n",
    "feature_cols_unedited = list(df4.columns) \n",
    "feature_cols_unedited"
   ]
  },
  {
   "cell_type": "code",
   "execution_count": 29,
   "metadata": {},
   "outputs": [
    {
     "data": {
      "text/plain": [
       "['account_length',\n",
       " 'vmail_message',\n",
       " 'day_mins',\n",
       " 'day_calls',\n",
       " 'day_charge',\n",
       " 'eve_mins',\n",
       " 'eve_calls',\n",
       " 'eve_charge',\n",
       " 'night_mins',\n",
       " 'night_calls',\n",
       " 'night_charge',\n",
       " 'intl_mins',\n",
       " 'intl_calls',\n",
       " 'intl_charge',\n",
       " 'custserv_calls',\n",
       " 'vmail_binary',\n",
       " 'intl_binary']"
      ]
     },
     "execution_count": 29,
     "metadata": {},
     "output_type": "execute_result"
    }
   ],
   "source": [
    "# Use list comprehension to remove the elements that need to be removed\n",
    "feature_cols = [ elem for elem in feature_cols_unedited if elem not in ('state', 'area_code', 'churn', 'index1', 'vmail_plan', 'intl_plan', 'churn_binary')]\n",
    "feature_cols"
   ]
  },
  {
   "cell_type": "code",
   "execution_count": 30,
   "metadata": {},
   "outputs": [
    {
     "name": "stdout",
     "output_type": "stream",
     "text": [
      "False    2512\n",
      "True      421\n",
      "Name: churn, dtype: int64\n",
      "0    2512\n",
      "1     421\n",
      "Name: churn_binary, dtype: int64\n"
     ]
    }
   ],
   "source": [
    "# Check new column counts matches prior\n",
    "print(df4.churn.value_counts())\n",
    "print(df4.churn_binary.value_counts())"
   ]
  },
  {
   "cell_type": "code",
   "execution_count": 31,
   "metadata": {},
   "outputs": [],
   "source": [
    "# set the target vector and predictor matrix\n",
    "X = df4[feature_cols]\n",
    "y = df4.churn"
   ]
  },
  {
   "cell_type": "markdown",
   "metadata": {},
   "source": [
    "### 7. Calculate the baseline accuracy for `churn`."
   ]
  },
  {
   "cell_type": "code",
   "execution_count": 32,
   "metadata": {},
   "outputs": [
    {
     "data": {
      "text/plain": [
       "False    2512\n",
       "True      421\n",
       "Name: churn, dtype: int64"
      ]
     },
     "execution_count": 32,
     "metadata": {},
     "output_type": "execute_result"
    }
   ],
   "source": [
    "df4.churn.value_counts()"
   ]
  },
  {
   "cell_type": "code",
   "execution_count": 33,
   "metadata": {},
   "outputs": [
    {
     "data": {
      "text/plain": [
       "0.8564609614728946"
      ]
     },
     "execution_count": 33,
     "metadata": {},
     "output_type": "execute_result"
    }
   ],
   "source": [
    "# Baseline accuracy for churn with Train data,\n",
    "# If you alway predicted false you would be right 85.6% of the time\n",
    "2512/(2512+421)"
   ]
  },
  {
   "cell_type": "markdown",
   "metadata": {},
   "source": [
    "### 8. Cross-validate a KNN model predicting `churn`. \n",
    "\n",
    "- Number of neighbors should be 5.\n",
    "- Make sure to standardize the predictor matrix.\n",
    "- Set cross-validation folds to 10.\n",
    "\n",
    "Report the mean cross-validated accuracy."
   ]
  },
  {
   "cell_type": "code",
   "execution_count": 34,
   "metadata": {},
   "outputs": [],
   "source": [
    "from sklearn.neighbors import KNeighborsClassifier\n",
    "from sklearn.model_selection import train_test_split\n",
    "from sklearn import metrics"
   ]
  },
  {
   "cell_type": "code",
   "execution_count": 35,
   "metadata": {},
   "outputs": [],
   "source": [
    "# instantiate train/test/split\n",
    "X_train, X_test, y_train, y_test = train_test_split(X, y)\n",
    "\n",
    "# Instantiate and fit StandardScaler.\n",
    "from sklearn.preprocessing import StandardScaler\n",
    "\n",
    "scaler = StandardScaler()\n",
    "X_train = scaler.fit_transform(X_train)\n",
    "X_test = scaler.transform(X_test)"
   ]
  },
  {
   "cell_type": "code",
   "execution_count": 36,
   "metadata": {},
   "outputs": [
    {
     "name": "stdout",
     "output_type": "stream",
     "text": [
      "0.8937329700272479\n",
      "0.10626702997275206\n"
     ]
    }
   ],
   "source": [
    "# Calculate testing error. Set Knn to 5\n",
    "knn = KNeighborsClassifier(n_neighbors=5)\n",
    "knn.fit(X_train, y_train)\n",
    "\n",
    "y_pred_class = knn.predict(X_test)\n",
    "testing_accuracy = metrics.accuracy_score(y_test, y_pred_class)\n",
    "testing_error = 1 - testing_accuracy\n",
    "\n",
    "print(testing_accuracy)\n",
    "print(testing_error)"
   ]
  },
  {
   "cell_type": "code",
   "execution_count": 37,
   "metadata": {},
   "outputs": [],
   "source": [
    "from sklearn import model_selection\n",
    "from sklearn.linear_model import LinearRegression"
   ]
  },
  {
   "cell_type": "code",
   "execution_count": 38,
   "metadata": {},
   "outputs": [],
   "source": [
    "kf = model_selection.KFold(n_splits=10, shuffle=True)"
   ]
  },
  {
   "cell_type": "code",
   "execution_count": 39,
   "metadata": {},
   "outputs": [
    {
     "name": "stdout",
     "output_type": "stream",
     "text": [
      "~~~~ CROSS VALIDATION each fold ~~~~\n",
      "Model 1\n",
      "MSE: 0.08311885812404914\n",
      "R2: 0.18007873383302656\n",
      "\n",
      "mean accuracy: 0.8610354223433242\n",
      "\n",
      "Model 2\n",
      "MSE: 0.10663372006175503\n",
      "R2: 0.18027458286013875\n",
      "\n",
      "mean accuracy: 0.8610354223433242\n",
      "\n",
      "Model 3\n",
      "MSE: 0.10413302788741863\n",
      "R2: 0.18043698366198713\n",
      "\n",
      "mean accuracy: 0.8610354223433242\n",
      "\n",
      "Model 4\n",
      "MSE: 0.09931829216855306\n",
      "R2: 0.1801535783167585\n",
      "\n",
      "mean accuracy: 0.8610354223433242\n",
      "\n",
      "Model 5\n",
      "MSE: 0.10098220407143728\n",
      "R2: 0.18017615686878574\n",
      "\n",
      "mean accuracy: 0.8610354223433242\n",
      "\n",
      "Model 6\n",
      "MSE: 0.10111283597779344\n",
      "R2: 0.18018750964705751\n",
      "\n",
      "mean accuracy: 0.8610354223433242\n",
      "\n",
      "Model 7\n",
      "MSE: 0.12624949136017613\n",
      "R2: 0.17945254116880857\n",
      "\n",
      "mean accuracy: 0.8610354223433242\n",
      "\n",
      "Model 8\n",
      "MSE: 0.09440027292661496\n",
      "R2: 0.1801298975466301\n",
      "\n",
      "mean accuracy: 0.8610354223433242\n",
      "\n",
      "Model 9\n",
      "MSE: 0.10218428966594562\n",
      "R2: 0.18004791369741183\n",
      "\n",
      "mean accuracy: 0.8610354223433242\n",
      "\n",
      "Model 10\n",
      "MSE: 0.10356893039818753\n",
      "R2: 0.17990269899852984\n",
      "\n",
      "mean accuracy: 0.8610354223433242\n",
      "\n",
      "~~~~ SUMMARY OF CROSS VALIDATION ~~~~\n",
      "Mean of MSE for all folds: 0.10217019226419308\n",
      "Mean of R2 for all folds: 0.18008405965991345\n",
      "mean accuracy: 0.8610354223433242\n",
      "\n"
     ]
    }
   ],
   "source": [
    "mse_values = []\n",
    "scores = []\n",
    "n = 0\n",
    "\n",
    "print(\"~~~~ CROSS VALIDATION each fold ~~~~\")\n",
    "for train_index, test_index in kf.split(X, y):\n",
    "    lr = LinearRegression().fit(X.iloc[train_index], y.iloc[train_index])\n",
    "    \n",
    "    mse_values.append(metrics.mean_squared_error(y.iloc[test_index], lr.predict(X.iloc[test_index])))\n",
    "    scores.append(lr.score(X, y))\n",
    "    \n",
    "    n += 1\n",
    "    \n",
    "    print('Model {}'.format(n))\n",
    "    print('MSE: {}'.format(mse_values[n-1]))\n",
    "    print('R2: {}\\n'.format(scores[n-1]))\n",
    "    print('mean accuracy: {}\\n'.format(y_test.value_counts()[y_train.value_counts().index[0]] / len(y_test)))\n",
    "    \n",
    "\n",
    "\n",
    "print(\"~~~~ SUMMARY OF CROSS VALIDATION ~~~~\")\n",
    "print('Mean of MSE for all folds: {}'.format(np.mean(mse_values)))\n",
    "print('Mean of R2 for all folds: {}'.format(np.mean(scores)))\n",
    "print('mean accuracy: {}\\n'.format(y_test.value_counts()[y_train.value_counts().index[0]] / len(y_test)))"
   ]
  },
  {
   "cell_type": "code",
   "execution_count": 40,
   "metadata": {},
   "outputs": [],
   "source": [
    "# not sure how to get mean accuracy to apply at the model level ^^^^"
   ]
  },
  {
   "cell_type": "markdown",
   "metadata": {},
   "source": [
    "### 9. Iterate from k=1 to k=49 (only odd k) and cross-validate the accuracy of the model for each.\n",
    "\n",
    "Plot the cross-validated mean accuracy for each score. What is the best accuracy?"
   ]
  },
  {
   "cell_type": "code",
   "execution_count": 41,
   "metadata": {},
   "outputs": [],
   "source": [
    "from sklearn.neighbors import KNeighborsClassifier\n",
    "from sklearn import metrics"
   ]
  },
  {
   "cell_type": "code",
   "execution_count": 42,
   "metadata": {},
   "outputs": [],
   "source": [
    "# instantiate train/test/split\n",
    "X_train, X_test, y_train, y_test = train_test_split(X, y)"
   ]
  },
  {
   "cell_type": "code",
   "execution_count": 43,
   "metadata": {},
   "outputs": [],
   "source": [
    "# Calculate TRAINING ERROR and TESTING ERROR for K=1 through 49\n",
    "\n",
    "k_range = list(range(1, 50))\n",
    "training_error = []\n",
    "testing_error = []\n",
    "\n",
    "# Find test accuracy for all values of K between 1 and 49 (inclusive).\n",
    "for k in k_range:\n",
    "\n",
    "    # Instantiate the model with the current K value.\n",
    "    knn = KNeighborsClassifier(n_neighbors=k)\n",
    "    knn.fit(X_train, y_train)\n",
    "    \n",
    "    # Calculate training error (error = 1 - accuracy).\n",
    "    y_pred_class = knn.predict(X)\n",
    "    training_accuracy = metrics.accuracy_score(y, y_pred_class)\n",
    "    training_error.append(1 - training_accuracy)\n",
    "    \n",
    "    # Calculate testing error.\n",
    "    y_pred_class = knn.predict(X_test)\n",
    "    testing_accuracy = metrics.accuracy_score(y_test, y_pred_class)\n",
    "    testing_error.append(1 - testing_accuracy)"
   ]
  },
  {
   "cell_type": "code",
   "execution_count": 44,
   "metadata": {},
   "outputs": [],
   "source": [
    "# Allow plots to appear in the notebook.\n",
    "%matplotlib inline\n",
    "import matplotlib.pyplot as plt\n",
    "plt.style.use('fivethirtyeight')"
   ]
  },
  {
   "cell_type": "code",
   "execution_count": 45,
   "metadata": {},
   "outputs": [
    {
     "name": "stdout",
     "output_type": "stream",
     "text": [
      "    training error  testing error\n",
      "K                                \n",
      "49        0.127174       0.096730\n",
      "48        0.126833       0.096730\n",
      "47        0.126833       0.096730\n",
      "46        0.127174       0.098093\n",
      "45        0.127174       0.098093\n",
      "44        0.126833       0.098093\n",
      "43        0.126151       0.098093\n",
      "42        0.126833       0.096730\n",
      "41        0.125469       0.096730\n",
      "40        0.125469       0.096730\n",
      "39        0.124446       0.096730\n",
      "38        0.125469       0.096730\n",
      "37        0.122741       0.094005\n",
      "36        0.124446       0.096730\n",
      "35        0.122741       0.091281\n",
      "34        0.123764       0.092643\n",
      "33        0.123082       0.092643\n",
      "32        0.124446       0.094005\n",
      "31        0.122400       0.089918\n",
      "30        0.124105       0.092643\n",
      "29        0.121377       0.092643\n",
      "28        0.122400       0.092643\n",
      "27        0.121377       0.092643\n",
      "26        0.121718       0.092643\n",
      "25        0.121036       0.092643\n",
      "24        0.121036       0.091281\n",
      "23        0.120696       0.089918\n",
      "22        0.120696       0.094005\n",
      "21        0.120355       0.091281\n",
      "20        0.120014       0.092643\n",
      "19        0.118991       0.089918\n",
      "18        0.118650       0.091281\n",
      "17        0.115581       0.087193\n",
      "16        0.118309       0.091281\n",
      "15        0.113877       0.085831\n",
      "14        0.117286       0.089918\n",
      "13        0.112172       0.087193\n",
      "12        0.115240       0.089918\n",
      "11        0.110808       0.091281\n",
      "10        0.112854       0.092643\n",
      "9         0.111490       0.094005\n",
      "8         0.112513       0.095368\n",
      "7         0.106035       0.094005\n",
      "6         0.108762       0.092643\n",
      "5         0.107399       0.100817\n",
      "4         0.107058       0.095368\n",
      "3         0.104671       0.111717\n",
      "2         0.100580       0.103542\n",
      "1         0.041255       0.164850\n"
     ]
    }
   ],
   "source": [
    "# Create a DataFrame of K, training error, and testing error.\n",
    "column_dict = {'K': k_range, 'training error':training_error, 'testing error':testing_error}\n",
    "df = pd.DataFrame(column_dict).set_index('K').sort_index(ascending=False)\n",
    "#df\n",
    "print(df.to_string())"
   ]
  },
  {
   "cell_type": "code",
   "execution_count": 46,
   "metadata": {},
   "outputs": [
    {
     "data": {
      "image/png": "[encoded data removed]",
      "text/plain": [
       "<Figure size 432x288 with 1 Axes>"
      ]
     },
     "metadata": {
      "image/png": {
       "height": 285,
       "width": 445
      }
     },
     "output_type": "display_data"
    }
   ],
   "source": [
    "# Plot the relationship between K (HIGH TO LOW) and TESTING ERROR.\n",
    "df.plot(y='testing error');\n",
    "plt.xlabel('Value of K for KNN');\n",
    "plt.ylabel('Error (lower is better)');"
   ]
  },
  {
   "cell_type": "code",
   "execution_count": 47,
   "metadata": {},
   "outputs": [
    {
     "data": {
      "image/png": "[encoded data removed]",
      "text/plain": [
       "<Figure size 432x288 with 1 Axes>"
      ]
     },
     "metadata": {
      "image/png": {
       "height": 285,
       "width": 445
      }
     },
     "output_type": "display_data"
    }
   ],
   "source": [
    "# Plot the relationship between K (HIGH TO LOW) and both TRAINING ERROR and TESTING ERROR.\n",
    "df.plot();\n",
    "plt.xlabel('Value of K for KNN');\n",
    "plt.ylabel('Error (lower is better)');"
   ]
  },
  {
   "cell_type": "code",
   "execution_count": 48,
   "metadata": {},
   "outputs": [],
   "source": [
    "# k = 5"
   ]
  },
  {
   "cell_type": "markdown",
   "metadata": {},
   "source": [
    "### 10. Imputing with KNN\n",
    "\n",
    "K-Nearest Neighbors can be used to impute missing values in datasets. What we will do is estimate the most likely value for the missing data based on a KNN model.\n",
    "\n",
    "We have two columns with missing data:\n",
    "- `vmail_plan`\n",
    "- `vmail_message`\n",
    "\n",
    "**10.A Create two subsets of the churn dataset: one without missing values for `vmail_plan` and `vmail_message`, and one with the missing values.**"
   ]
  },
  {
   "cell_type": "code",
   "execution_count": 51,
   "metadata": {},
   "outputs": [
    {
     "data": {
      "text/plain": [
       "state             0\n",
       "account_length    0\n",
       "area_code         0\n",
       "intl_plan         0\n",
       "vmail_plan        0\n",
       "vmail_message     0\n",
       "day_mins          0\n",
       "day_calls         0\n",
       "day_charge        0\n",
       "eve_mins          0\n",
       "eve_calls         0\n",
       "eve_charge        0\n",
       "night_mins        0\n",
       "night_calls       0\n",
       "night_charge      0\n",
       "intl_mins         0\n",
       "intl_calls        0\n",
       "intl_charge       0\n",
       "custserv_calls    0\n",
       "churn             0\n",
       "index1            0\n",
       "vmail_binary      0\n",
       "dtype: int64"
      ]
     },
     "execution_count": 51,
     "metadata": {},
     "output_type": "execute_result"
    }
   ],
   "source": [
    "# Create a copy of the df that does no missing values\n",
    "df5 = df1\n",
    "df5.isnull().sum()"
   ]
  },
  {
   "cell_type": "code",
   "execution_count": 52,
   "metadata": {},
   "outputs": [
    {
     "data": {
      "text/plain": [
       "state               0\n",
       "account_length      0\n",
       "area_code           0\n",
       "intl_plan           0\n",
       "vmail_plan        400\n",
       "vmail_message     400\n",
       "day_mins            0\n",
       "day_calls           0\n",
       "day_charge          0\n",
       "eve_mins            0\n",
       "eve_calls           0\n",
       "eve_charge          0\n",
       "night_mins          0\n",
       "night_calls         0\n",
       "night_charge        0\n",
       "intl_mins           0\n",
       "intl_calls          0\n",
       "intl_charge         0\n",
       "custserv_calls      0\n",
       "churn               0\n",
       "index1              0\n",
       "vmail_binary      400\n",
       "dtype: int64"
      ]
     },
     "execution_count": 52,
     "metadata": {},
     "output_type": "execute_result"
    }
   ],
   "source": [
    "# Create a copy of the df that does no missing values\n",
    "df6 = df2\n",
    "df6.isnull().sum()"
   ]
  },
  {
   "cell_type": "markdown",
   "metadata": {},
   "source": [
    "First we will impute values for `vmail_plan`. This is a categorical column and so we will impute using classification (predicting whether the plan is yes or no, 1 vs. 0).\n",
    "\n",
    "**10.B Create a target that is `vmail_plan` and predictor matrix that is all columns except `state`, `area_code`, `churn`, `vmail_plan`, and `vmail_message`.**\n",
    "\n",
    "> **Note:** We don't include the `churn` variable in the model to impute. Why? We are imputing these missing values so that we can use the rows to predict churn with more data afterwards. If we imputed with churn as a predictor then we would be cheating."
   ]
  },
  {
   "cell_type": "code",
   "execution_count": 53,
   "metadata": {},
   "outputs": [
    {
     "data": {
      "text/plain": [
       "Index(['state', 'account_length', 'area_code', 'intl_plan', 'vmail_plan',\n",
       "       'vmail_message', 'day_mins', 'day_calls', 'day_charge', 'eve_mins',\n",
       "       'eve_calls', 'eve_charge', 'night_mins', 'night_calls', 'night_charge',\n",
       "       'intl_mins', 'intl_calls', 'intl_charge', 'custserv_calls', 'churn',\n",
       "       'index1', 'vmail_binary'],\n",
       "      dtype='object')"
      ]
     },
     "execution_count": 53,
     "metadata": {},
     "output_type": "execute_result"
    }
   ],
   "source": [
    "feature_cols_unedited = df5.columns\n",
    "feature_cols_unedited"
   ]
  },
  {
   "cell_type": "code",
   "execution_count": 55,
   "metadata": {},
   "outputs": [
    {
     "data": {
      "text/plain": [
       "['account_length',\n",
       " 'day_mins',\n",
       " 'day_calls',\n",
       " 'day_charge',\n",
       " 'eve_mins',\n",
       " 'eve_calls',\n",
       " 'eve_charge',\n",
       " 'night_mins',\n",
       " 'night_calls',\n",
       " 'night_charge',\n",
       " 'intl_mins',\n",
       " 'intl_calls',\n",
       " 'intl_charge',\n",
       " 'custserv_calls']"
      ]
     },
     "execution_count": 55,
     "metadata": {},
     "output_type": "execute_result"
    }
   ],
   "source": [
    "# Use list comprehension to remove the elements that need to be removed\n",
    "feature_cols = [ elem for elem in feature_cols_unedited if elem not in ('state', 'area_code', 'churn', 'index1','intl_plan','vmail_plan', 'vmail_message', 'vmail_binary')]\n",
    "feature_cols"
   ]
  },
  {
   "cell_type": "code",
   "execution_count": 56,
   "metadata": {},
   "outputs": [],
   "source": [
    "# set the target vector and predictor matrix\n",
    "X = df5[feature_cols]\n",
    "y = df5.vmail_binary"
   ]
  },
  {
   "cell_type": "code",
   "execution_count": 57,
   "metadata": {},
   "outputs": [
    {
     "data": {
      "text/plain": [
       "account_length      int64\n",
       "day_mins          float64\n",
       "day_calls           int64\n",
       "day_charge        float64\n",
       "eve_mins          float64\n",
       "eve_calls           int64\n",
       "eve_charge        float64\n",
       "night_mins        float64\n",
       "night_calls         int64\n",
       "night_charge      float64\n",
       "intl_mins         float64\n",
       "intl_calls          int64\n",
       "intl_charge       float64\n",
       "custserv_calls      int64\n",
       "dtype: object"
      ]
     },
     "execution_count": 57,
     "metadata": {},
     "output_type": "execute_result"
    }
   ],
   "source": [
    "X.dtypes"
   ]
  },
  {
   "cell_type": "code",
   "execution_count": 58,
   "metadata": {},
   "outputs": [
    {
     "name": "stdout",
     "output_type": "stream",
     "text": [
      "<class 'pandas.core.series.Series'>\n",
      "<class 'numpy.ndarray'>\n"
     ]
    }
   ],
   "source": [
    "# Check y's type.\n",
    "print((type(y)))\n",
    "print((type(y.values)))"
   ]
  },
  {
   "cell_type": "markdown",
   "metadata": {},
   "source": [
    "**10.C Standardize the predictor matrix.**"
   ]
  },
  {
   "cell_type": "code",
   "execution_count": 59,
   "metadata": {},
   "outputs": [],
   "source": [
    "X_train, X_test, y_train, y_test = train_test_split(X, y, test_size= 0.20, random_state=98)"
   ]
  },
  {
   "cell_type": "code",
   "execution_count": 60,
   "metadata": {},
   "outputs": [],
   "source": [
    "from sklearn.preprocessing import StandardScaler\n",
    "\n",
    "sscaler = StandardScaler()\n",
    "X_train = scaler.fit_transform(X_train)\n",
    "X_test = scaler.transform(X_test)\n"
   ]
  },
  {
   "cell_type": "markdown",
   "metadata": {},
   "source": [
    "**10.D Find the best K for predicting `vmail_plan`.**\n",
    "\n",
    "You may want to write a function for this. What is the accuracy for predicting `vmail_plan` at the best K? What is the baseline accuracy for `vmail_plan`?"
   ]
  },
  {
   "cell_type": "code",
   "execution_count": 66,
   "metadata": {},
   "outputs": [],
   "source": [
    "# Calculate TRAINING ERROR and TESTING ERROR for K=1 through 49\n",
    "\n",
    "k_range = list(range(1, 49))\n",
    "training_error = []\n",
    "testing_error = []\n",
    "\n",
    "# Find test accuracy for all values of K between 1 and 49 (inclusive).\n",
    "for k in k_range:\n",
    "\n",
    "    # Instantiate the model with the current K value.\n",
    "    knn = KNeighborsClassifier(n_neighbors=k)\n",
    "    knn.fit(X_train, y_train)\n",
    "    \n",
    "    # Calculate training error (error = 1 - accuracy).\n",
    "    y_pred_class = knn.predict(X)\n",
    "    training_accuracy = metrics.accuracy_score(y, y_pred_class)\n",
    "    training_error.append(1 - training_accuracy)\n",
    "    \n",
    "    # Calculate testing error.\n",
    "    y_pred_class = knn.predict(X_test)\n",
    "    testing_accuracy = metrics.accuracy_score(y_test, y_pred_class)\n",
    "    testing_error.append(1 - testing_accuracy)"
   ]
  },
  {
   "cell_type": "code",
   "execution_count": 67,
   "metadata": {},
   "outputs": [
    {
     "name": "stdout",
     "output_type": "stream",
     "text": [
      "    training error  testing error\n",
      "K                                \n",
      "48        0.273781       0.269165\n",
      "47        0.273781       0.269165\n",
      "46        0.273781       0.269165\n",
      "45        0.273781       0.270869\n",
      "44        0.273781       0.270869\n",
      "43        0.273781       0.270869\n",
      "42        0.273781       0.270869\n",
      "41        0.273781       0.270869\n",
      "40        0.273781       0.270869\n",
      "39        0.273781       0.270869\n",
      "38        0.273781       0.270869\n",
      "37        0.273781       0.272572\n",
      "36        0.273781       0.267462\n",
      "35        0.273781       0.272572\n",
      "34        0.273781       0.267462\n",
      "33        0.273781       0.272572\n",
      "32        0.273781       0.272572\n",
      "31        0.273781       0.274276\n",
      "30        0.273781       0.269165\n",
      "29        0.273781       0.275980\n",
      "28        0.273781       0.277683\n",
      "27        0.274122       0.279387\n",
      "26        0.273781       0.275980\n",
      "25        0.274804       0.281090\n",
      "24        0.274122       0.279387\n",
      "23        0.275145       0.281090\n",
      "22        0.274804       0.279387\n",
      "21        0.276509       0.277683\n",
      "20        0.275827       0.279387\n",
      "19        0.277532       0.286201\n",
      "18        0.276509       0.281090\n",
      "17        0.278554       0.287905\n",
      "16        0.275827       0.286201\n",
      "15        0.278554       0.299830\n",
      "14        0.278554       0.296422\n",
      "13        0.284691       0.311755\n",
      "12        0.280600       0.299830\n",
      "11        0.291510       0.308348\n",
      "10        0.284350       0.294719\n",
      "9         0.303103       0.313458\n",
      "8         0.290829       0.299830\n",
      "7         0.327310       0.327087\n",
      "6         0.300716       0.299830\n",
      "5         0.359359       0.344123\n",
      "4         0.306853       0.315162\n",
      "3         0.367201       0.378194\n",
      "2         0.286737       0.315162\n",
      "1         0.424139       0.412266\n"
     ]
    }
   ],
   "source": [
    "# Create a DataFrame of K, training error, and testing error.\n",
    "column_dict = {'K': k_range, 'training error':training_error, 'testing error':testing_error}\n",
    "df = pd.DataFrame(column_dict).set_index('K').sort_index(ascending=False)\n",
    "#df\n",
    "print(df.to_string())"
   ]
  },
  {
   "cell_type": "code",
   "execution_count": 68,
   "metadata": {},
   "outputs": [
    {
     "data": {
      "image/png": "[encoded data removed]",
      "text/plain": [
       "<Figure size 432x288 with 1 Axes>"
      ]
     },
     "metadata": {
      "image/png": {
       "height": 285,
       "width": 445
      }
     },
     "output_type": "display_data"
    }
   ],
   "source": [
    "# Plot the relationship between K (HIGH TO LOW) and TESTING ERROR.\n",
    "df.plot(y='testing error');\n",
    "plt.xlabel('Value of K for KNN');\n",
    "plt.ylabel('Error (lower is better)');"
   ]
  },
  {
   "cell_type": "code",
   "execution_count": 69,
   "metadata": {},
   "outputs": [],
   "source": [
    "# k = 10 is the optimal but there are onlhy small variations between many k results"
   ]
  },
  {
   "cell_type": "code",
   "execution_count": 70,
   "metadata": {},
   "outputs": [
    {
     "data": {
      "text/plain": [
       "no     2130\n",
       "yes     803\n",
       "Name: vmail_plan, dtype: int64"
      ]
     },
     "execution_count": 70,
     "metadata": {},
     "output_type": "execute_result"
    }
   ],
   "source": [
    "df5.vmail_plan.value_counts()"
   ]
  },
  {
   "cell_type": "code",
   "execution_count": 71,
   "metadata": {},
   "outputs": [
    {
     "data": {
      "text/plain": [
       "0.726218888510058"
      ]
     },
     "execution_count": 71,
     "metadata": {},
     "output_type": "execute_result"
    }
   ],
   "source": [
    "# baseline accuracy\n",
    "2130/(2130+803)"
   ]
  },
  {
   "cell_type": "markdown",
   "metadata": {},
   "source": [
    "**10.E Fit a `KNeighborsClassifier` with the best number of neighbors.**"
   ]
  },
  {
   "cell_type": "code",
   "execution_count": 72,
   "metadata": {},
   "outputs": [
    {
     "data": {
      "text/plain": [
       "KNeighborsClassifier(algorithm='auto', leaf_size=30, metric='minkowski',\n",
       "                     metric_params=None, n_jobs=None, n_neighbors=8, p=2,\n",
       "                     weights='uniform')"
      ]
     },
     "execution_count": 72,
     "metadata": {},
     "output_type": "execute_result"
    }
   ],
   "source": [
    "knn = KNeighborsClassifier(n_neighbors=8)\n",
    "knn.fit(X_train, y_train)"
   ]
  },
  {
   "cell_type": "code",
   "execution_count": 73,
   "metadata": {},
   "outputs": [
    {
     "name": "stdout",
     "output_type": "stream",
     "text": [
      "0.7308347529812607\n"
     ]
    }
   ],
   "source": [
    "print((metrics.accuracy_score(y_test, y_pred_class)))"
   ]
  },
  {
   "cell_type": "markdown",
   "metadata": {},
   "source": [
    "**10.F Predict the missing `vmail_plan` values using the subset of the data where it is misssing.**\n",
    "\n",
    "You will need to:\n",
    "1. Create a new predictor matrix using the same predictors but from the missing subset of data.\n",
    "- Standardize this predictor matrix *using the StandardScaler object fit on the non-missing data*. This means you will just use the `.transform()` function. It is important to standardize the new predictors the same way we standardized the original predictors if we want the predictions to make sense. Calling `.fit_transform()` will reset the standardized scale.\n",
    "- Predict what the missing vmail plan values should be.\n",
    "- Replace the missing values in the original with the predicted values.\n",
    "\n",
    "> **Note:** It may predict all 0's. This is OK. If you want to see the predicted probabilities of `vmail_plan` for each row you can use the `.predict_proba()` function instead of `.predict()`.  You can use these probabilities to manually set the criteria threshold."
   ]
  },
  {
   "cell_type": "code",
   "execution_count": 74,
   "metadata": {},
   "outputs": [
    {
     "data": {
      "text/plain": [
       "state               0\n",
       "account_length      0\n",
       "area_code           0\n",
       "intl_plan           0\n",
       "vmail_plan        400\n",
       "vmail_message     400\n",
       "day_mins            0\n",
       "day_calls           0\n",
       "day_charge          0\n",
       "eve_mins            0\n",
       "eve_calls           0\n",
       "eve_charge          0\n",
       "night_mins          0\n",
       "night_calls         0\n",
       "night_charge        0\n",
       "intl_mins           0\n",
       "intl_calls          0\n",
       "intl_charge         0\n",
       "custserv_calls      0\n",
       "churn               0\n",
       "index1              0\n",
       "vmail_binary      400\n",
       "dtype: int64"
      ]
     },
     "execution_count": 74,
     "metadata": {},
     "output_type": "execute_result"
    }
   ],
   "source": [
    "# use df df6 for this purpose\n",
    "df6.isnull().sum()"
   ]
  },
  {
   "cell_type": "code",
   "execution_count": 75,
   "metadata": {},
   "outputs": [
    {
     "data": {
      "text/plain": [
       "2933"
      ]
     },
     "execution_count": 75,
     "metadata": {},
     "output_type": "execute_result"
    }
   ],
   "source": [
    "len(df5)"
   ]
  },
  {
   "cell_type": "code",
   "execution_count": 76,
   "metadata": {},
   "outputs": [],
   "source": [
    "# set predictor matrix for new X_test data\n",
    "X_test = df6[feature_cols]\n"
   ]
  },
  {
   "cell_type": "code",
   "execution_count": 77,
   "metadata": {},
   "outputs": [
    {
     "data": {
      "text/plain": [
       "array([[ 0.49809242,  0.71556389, -0.62454337, ...,  1.03730904,\n",
       "        -0.98724591,  1.07781466],\n",
       "       [ 0.39711596,  0.08175802, -0.17150428, ..., -0.19485653,\n",
       "        -0.56457726, -0.43402581],\n",
       "       [ 1.50785699,  2.8727607 , -1.68163457, ...,  1.85875276,\n",
       "        -1.74012444,  1.83373489],\n",
       "       ...,\n",
       "       [ 0.6495571 , -1.35888083,  1.38896368, ..., -1.83774396,\n",
       "        -3.66855015, -1.18994605],\n",
       "       [-0.66313684, -0.50691033, -1.12792013, ..., -0.60557839,\n",
       "        -0.88157875, -0.43402581],\n",
       "       [ 1.55834522,  0.32061068, -0.52386802, ...,  1.4480309 ,\n",
       "        -0.88157875, -0.43402581]])"
      ]
     },
     "execution_count": 77,
     "metadata": {},
     "output_type": "execute_result"
    }
   ],
   "source": [
    "# Scale new X_test data\n",
    "scaler.transform(X_test)"
   ]
  },
  {
   "cell_type": "markdown",
   "metadata": {},
   "source": [
    "### 11. Impute the missing values for `vmail_message` using the same process.\n",
    "\n",
    "Since `vmail_message` is essentially a continuous measure, you need to use `KNeighborsRegressor` instead of the `KNeighborsClassifier`.\n",
    "\n",
    "KNN can do both regression and classification! Instead of \"voting\" on the class like in classification, the neighbors will average their value for the target in regression."
   ]
  },
  {
   "cell_type": "code",
   "execution_count": 78,
   "metadata": {},
   "outputs": [
    {
     "data": {
      "text/plain": [
       "400"
      ]
     },
     "execution_count": 78,
     "metadata": {},
     "output_type": "execute_result"
    }
   ],
   "source": [
    "# Length of new X-test\n",
    "len(X_test)"
   ]
  },
  {
   "cell_type": "code",
   "execution_count": 79,
   "metadata": {},
   "outputs": [
    {
     "data": {
      "text/plain": [
       "array([0, 0, 0, 0, 0, 0, 0, 0, 0, 0, 0, 0, 0, 0, 0, 0, 0, 0, 0, 0, 0, 0,\n",
       "       1, 0, 0, 0, 0, 0, 0, 0, 0, 0, 0, 0, 0, 0, 0, 0, 0, 0, 0, 0, 0, 0,\n",
       "       0, 0, 0, 0, 0, 0, 0, 0, 0, 0, 0, 0, 0, 0, 0, 0, 0, 0, 0, 0, 0, 0,\n",
       "       0, 0, 0, 0, 0, 0, 0, 0, 0, 0, 0, 0, 0, 0, 0, 0, 0, 0, 0, 0, 0, 0,\n",
       "       0, 0, 0, 0, 0, 0, 0, 0, 0, 0, 0, 0, 0, 0, 0, 0, 0, 0, 0, 0, 0, 0,\n",
       "       1, 0, 0, 0, 0, 0, 0, 0, 0, 0, 0, 0, 0, 0, 0, 0, 0, 0, 0, 0, 0, 1,\n",
       "       0, 0, 0, 0, 0, 0, 0, 0, 0, 0, 0, 0, 0, 0, 0, 0, 0, 0, 0, 0, 0, 0,\n",
       "       0, 0, 0, 0, 0, 0, 0, 0, 0, 0, 0, 0, 0, 0, 0, 0, 0, 0, 0, 0, 0, 0,\n",
       "       0, 0, 0, 0, 0, 0, 0, 0, 0, 0, 0, 0, 0, 0, 0, 0, 0, 0, 1, 0, 0, 0,\n",
       "       0, 0, 0, 0, 0, 1, 1, 0, 0, 0, 1, 0, 0, 0, 0, 0, 0, 0, 0, 0, 0, 0,\n",
       "       0, 0, 0, 0, 0, 0, 0, 0, 0, 0, 0, 0, 0, 0, 0, 0, 0, 0, 0, 0, 0, 0,\n",
       "       0, 0, 0, 0, 0, 0, 0, 0, 0, 0, 0, 0, 0, 0, 0, 0, 0, 0, 0, 0, 0, 0,\n",
       "       0, 0, 0, 0, 0, 0, 0, 0, 0, 0, 0, 0, 0, 0, 0, 0, 0, 0, 0, 0, 0, 0,\n",
       "       0, 0, 0, 0, 1, 0, 0, 0, 0, 0, 0, 0, 0, 0, 0, 0, 1, 0, 0, 0, 0, 0,\n",
       "       0, 0, 0, 0, 0, 0, 0, 0, 0, 0, 0, 0, 0, 0, 0, 0, 0, 0, 0, 0, 0, 0,\n",
       "       0, 0, 0, 0, 1, 0, 0, 0, 0, 0, 0, 0, 0, 0, 0, 0, 0, 0, 0, 0, 0, 0,\n",
       "       0, 0, 0, 0, 1, 0, 0, 0, 0, 0, 0, 0, 0, 0, 0, 0, 0, 0, 0, 0, 0, 0,\n",
       "       0, 0, 0, 0, 0, 0, 0, 0, 0, 0, 0, 0, 0, 0, 0, 0, 0, 0, 0, 0, 0, 0,\n",
       "       0, 1, 0, 0])"
      ]
     },
     "execution_count": 79,
     "metadata": {},
     "output_type": "execute_result"
    }
   ],
   "source": [
    "# Imputed values\n",
    "y_pred_class = knn.predict(X_test)\n",
    "y_pred_class"
   ]
  },
  {
   "cell_type": "code",
   "execution_count": 81,
   "metadata": {},
   "outputs": [
    {
     "data": {
      "text/plain": [
       "12"
      ]
     },
     "execution_count": 81,
     "metadata": {},
     "output_type": "execute_result"
    }
   ],
   "source": [
    "# Count of predictions\n",
    "np.sum(y_pred_class)"
   ]
  },
  {
   "cell_type": "code",
   "execution_count": 82,
   "metadata": {},
   "outputs": [
    {
     "data": {
      "text/plain": [
       "0.004091374019774974"
      ]
     },
     "execution_count": 82,
     "metadata": {},
     "output_type": "execute_result"
    }
   ],
   "source": [
    "# very low percentage of yes predictions\n",
    "np.sum(y_pred_class)/len(df5)"
   ]
  },
  {
   "cell_type": "markdown",
   "metadata": {},
   "source": [
    "### 12. Given the accuracy (and $R^2$) of your best imputation models when finding the best K neighbors, do you think imputing is a good idea?"
   ]
  },
  {
   "cell_type": "code",
   "execution_count": 18,
   "metadata": {
    "collapsed": true
   },
   "outputs": [],
   "source": [
    "# Not sure"
   ]
  },
  {
   "cell_type": "markdown",
   "metadata": {},
   "source": [
    "### 13. With the imputed dataset, cross-validate the accuracy predicting churn. Is it better? Worse? The same?"
   ]
  },
  {
   "cell_type": "code",
   "execution_count": 104,
   "metadata": {},
   "outputs": [],
   "source": [
    "# Not sure"
   ]
  },
  {
   "cell_type": "code",
   "execution_count": null,
   "metadata": {},
   "outputs": [],
   "source": []
  }
 ],
 "metadata": {
  "kernelspec": {
   "display_name": "Python 3",
   "language": "python",
   "name": "python3"
  },
  "language_info": {
   "codemirror_mode": {
    "name": "ipython",
    "version": 3
   },
   "file_extension": ".py",
   "mimetype": "text/x-python",
   "name": "python",
   "nbconvert_exporter": "python",
   "pygments_lexer": "ipython3",
   "version": "3.7.4"
  }
 },
 "nbformat": 4,
 "nbformat_minor": 2
}
