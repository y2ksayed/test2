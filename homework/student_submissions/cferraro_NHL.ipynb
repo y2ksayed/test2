{
 "cells": [
  {
   "cell_type": "markdown",
   "metadata": {},
   "source": [
    "<img src=\"http://imgur.com/1ZcRyrc.png\" style=\"float: left; margin: 20px; height: 55px\">\n",
    "\n",
    "# Classification and KNN with NHL data\n",
    "\n",
    "_Authors: Joseph Nelson (DC)_\n",
    "\n",
    "---\n",
    "\n",
    "Below you will practice KNN classification on a dataset of NHL statistics.\n",
    "\n",
    "You will be predicting the `Rank` of a team from predictor variables of your choice."
   ]
  },
  {
   "cell_type": "code",
   "execution_count": 1,
   "metadata": {},
   "outputs": [],
   "source": [
    "import matplotlib.pyplot as plt\n",
    "import numpy as np\n",
    "import pandas as pd\n",
    "import seaborn as sns\n",
    "\n",
    "%matplotlib inline\n",
    "%config InlineBackend.figure_format = 'retina'"
   ]
  },
  {
   "cell_type": "code",
   "execution_count": 2,
   "metadata": {},
   "outputs": [],
   "source": [
    "# web location:\n",
    "local_csv = './NHL_Data_GA.csv'"
   ]
  },
  {
   "cell_type": "markdown",
   "metadata": {},
   "source": [
    "### 1. Load the NHL data"
   ]
  },
  {
   "cell_type": "code",
   "execution_count": 9,
   "metadata": {},
   "outputs": [
    {
     "data": {
      "text/plain": [
       "(90, 28)"
      ]
     },
     "execution_count": 9,
     "metadata": {},
     "output_type": "execute_result"
    }
   ],
   "source": [
    "nhl = pd.read_csv(local_csv)\n",
    "nhl.describe()\n",
    "nhl.shape"
   ]
  },
  {
   "cell_type": "markdown",
   "metadata": {},
   "source": [
    "### 2. Perform any required data cleaning. Do some EDA."
   ]
  },
  {
   "cell_type": "code",
   "execution_count": 6,
   "metadata": {
    "scrolled": true
   },
   "outputs": [
    {
     "data": {
      "text/html": [
       "<div>\n",
       "<style scoped>\n",
       "    .dataframe tbody tr th:only-of-type {\n",
       "        vertical-align: middle;\n",
       "    }\n",
       "\n",
       "    .dataframe tbody tr th {\n",
       "        vertical-align: top;\n",
       "    }\n",
       "\n",
       "    .dataframe thead th {\n",
       "        text-align: right;\n",
       "    }\n",
       "</style>\n",
       "<table border=\"1\" class=\"dataframe\">\n",
       "  <thead>\n",
       "    <tr style=\"text-align: right;\">\n",
       "      <th></th>\n",
       "      <th>Team</th>\n",
       "      <th>PTS</th>\n",
       "      <th>Rank</th>\n",
       "      <th>TOI</th>\n",
       "      <th>GF</th>\n",
       "      <th>GA</th>\n",
       "      <th>GF60</th>\n",
       "      <th>GA60</th>\n",
       "      <th>GF%</th>\n",
       "      <th>SF</th>\n",
       "      <th>...</th>\n",
       "      <th>FF%</th>\n",
       "      <th>CF</th>\n",
       "      <th>CA</th>\n",
       "      <th>CF60</th>\n",
       "      <th>CA60</th>\n",
       "      <th>CF%</th>\n",
       "      <th>Sh%</th>\n",
       "      <th>Sv%</th>\n",
       "      <th>PDO</th>\n",
       "      <th>PIM</th>\n",
       "    </tr>\n",
       "  </thead>\n",
       "  <tbody>\n",
       "    <tr>\n",
       "      <td>0</td>\n",
       "      <td>Washington10</td>\n",
       "      <td>121</td>\n",
       "      <td>1</td>\n",
       "      <td>2001:52:00</td>\n",
       "      <td>115</td>\n",
       "      <td>73</td>\n",
       "      <td>3.45</td>\n",
       "      <td>2.19</td>\n",
       "      <td>61.2</td>\n",
       "      <td>1112</td>\n",
       "      <td>...</td>\n",
       "      <td>51.3</td>\n",
       "      <td>2138</td>\n",
       "      <td>1935</td>\n",
       "      <td>64.1</td>\n",
       "      <td>58.0</td>\n",
       "      <td>52.5</td>\n",
       "      <td>10.34</td>\n",
       "      <td>93.03</td>\n",
       "      <td>1034</td>\n",
       "      <td>1269</td>\n",
       "    </tr>\n",
       "    <tr>\n",
       "      <td>1</td>\n",
       "      <td>Vancouver11</td>\n",
       "      <td>117</td>\n",
       "      <td>1</td>\n",
       "      <td>2056:14:00</td>\n",
       "      <td>94</td>\n",
       "      <td>72</td>\n",
       "      <td>2.74</td>\n",
       "      <td>2.10</td>\n",
       "      <td>56.6</td>\n",
       "      <td>1143</td>\n",
       "      <td>...</td>\n",
       "      <td>53.1</td>\n",
       "      <td>2144</td>\n",
       "      <td>1870</td>\n",
       "      <td>62.6</td>\n",
       "      <td>54.6</td>\n",
       "      <td>53.4</td>\n",
       "      <td>8.22</td>\n",
       "      <td>93.16</td>\n",
       "      <td>1014</td>\n",
       "      <td>985</td>\n",
       "    </tr>\n",
       "    <tr>\n",
       "      <td>2</td>\n",
       "      <td>San Jose10</td>\n",
       "      <td>113</td>\n",
       "      <td>1</td>\n",
       "      <td>1929:54:00</td>\n",
       "      <td>90</td>\n",
       "      <td>68</td>\n",
       "      <td>2.80</td>\n",
       "      <td>2.11</td>\n",
       "      <td>57.0</td>\n",
       "      <td>1065</td>\n",
       "      <td>...</td>\n",
       "      <td>50.9</td>\n",
       "      <td>1985</td>\n",
       "      <td>1876</td>\n",
       "      <td>61.7</td>\n",
       "      <td>58.3</td>\n",
       "      <td>51.4</td>\n",
       "      <td>8.45</td>\n",
       "      <td>93.46</td>\n",
       "      <td>1019</td>\n",
       "      <td>1195</td>\n",
       "    </tr>\n",
       "    <tr>\n",
       "      <td>3</td>\n",
       "      <td>Chicago10</td>\n",
       "      <td>112</td>\n",
       "      <td>1</td>\n",
       "      <td>2020:23:00</td>\n",
       "      <td>104</td>\n",
       "      <td>83</td>\n",
       "      <td>3.09</td>\n",
       "      <td>2.46</td>\n",
       "      <td>55.6</td>\n",
       "      <td>1186</td>\n",
       "      <td>...</td>\n",
       "      <td>58.1</td>\n",
       "      <td>2093</td>\n",
       "      <td>1572</td>\n",
       "      <td>62.2</td>\n",
       "      <td>46.7</td>\n",
       "      <td>57.1</td>\n",
       "      <td>8.77</td>\n",
       "      <td>90.44</td>\n",
       "      <td>992</td>\n",
       "      <td>966</td>\n",
       "    </tr>\n",
       "    <tr>\n",
       "      <td>4</td>\n",
       "      <td>Vancouver12</td>\n",
       "      <td>111</td>\n",
       "      <td>1</td>\n",
       "      <td>2052:02:00</td>\n",
       "      <td>86</td>\n",
       "      <td>74</td>\n",
       "      <td>2.51</td>\n",
       "      <td>2.16</td>\n",
       "      <td>53.8</td>\n",
       "      <td>1078</td>\n",
       "      <td>...</td>\n",
       "      <td>51.0</td>\n",
       "      <td>2085</td>\n",
       "      <td>1880</td>\n",
       "      <td>61.0</td>\n",
       "      <td>55.0</td>\n",
       "      <td>52.6</td>\n",
       "      <td>7.98</td>\n",
       "      <td>93.36</td>\n",
       "      <td>1013</td>\n",
       "      <td>1049</td>\n",
       "    </tr>\n",
       "  </tbody>\n",
       "</table>\n",
       "<p>5 rows × 28 columns</p>\n",
       "</div>"
      ],
      "text/plain": [
       "           Team  PTS  Rank         TOI   GF  GA  GF60  GA60   GF%    SF  ...  \\\n",
       "0  Washington10  121     1  2001:52:00  115  73  3.45  2.19  61.2  1112  ...   \n",
       "1   Vancouver11  117     1  2056:14:00   94  72  2.74  2.10  56.6  1143  ...   \n",
       "2    San Jose10  113     1  1929:54:00   90  68  2.80  2.11  57.0  1065  ...   \n",
       "3     Chicago10  112     1  2020:23:00  104  83  3.09  2.46  55.6  1186  ...   \n",
       "4   Vancouver12  111     1  2052:02:00   86  74  2.51  2.16  53.8  1078  ...   \n",
       "\n",
       "    FF%    CF    CA  CF60  CA60   CF%    Sh%    Sv%   PDO   PIM  \n",
       "0  51.3  2138  1935  64.1  58.0  52.5  10.34  93.03  1034  1269  \n",
       "1  53.1  2144  1870  62.6  54.6  53.4   8.22  93.16  1014   985  \n",
       "2  50.9  1985  1876  61.7  58.3  51.4   8.45  93.46  1019  1195  \n",
       "3  58.1  2093  1572  62.2  46.7  57.1   8.77  90.44   992   966  \n",
       "4  51.0  2085  1880  61.0  55.0  52.6   7.98  93.36  1013  1049  \n",
       "\n",
       "[5 rows x 28 columns]"
      ]
     },
     "execution_count": 6,
     "metadata": {},
     "output_type": "execute_result"
    }
   ],
   "source": [
    "nhl.head()"
   ]
  },
  {
   "cell_type": "markdown",
   "metadata": {},
   "source": [
    "### 3. Set up the `Rank` variable as your target. How many classes are there?"
   ]
  },
  {
   "cell_type": "code",
   "execution_count": 19,
   "metadata": {},
   "outputs": [
    {
     "data": {
      "text/plain": [
       "3    31\n",
       "2    30\n",
       "1    29\n",
       "Name: Rank, dtype: int64"
      ]
     },
     "execution_count": 19,
     "metadata": {},
     "output_type": "execute_result"
    }
   ],
   "source": [
    "nhl.Rank.value_counts()"
   ]
  },
  {
   "cell_type": "markdown",
   "metadata": {},
   "source": [
    "### 4. What is the baseline accuracy?"
   ]
  },
  {
   "cell_type": "code",
   "execution_count": 20,
   "metadata": {},
   "outputs": [
    {
     "data": {
      "text/plain": [
       "0.34444444444444444"
      ]
     },
     "execution_count": 20,
     "metadata": {},
     "output_type": "execute_result"
    }
   ],
   "source": [
    "# A: Assume the most commmon class (3) is the rank for all teams, therefore your baseline accuracy is:\n",
    "\n",
    "31/90"
   ]
  },
  {
   "cell_type": "markdown",
   "metadata": {},
   "source": [
    "### 5. Choose 4 features to be your predictor variables and set up your design matrix."
   ]
  },
  {
   "cell_type": "code",
   "execution_count": 22,
   "metadata": {},
   "outputs": [],
   "source": [
    "feature_cols = ['PTS','GF','GA','Sv%']\n",
    "X = nhl[feature_cols]\n",
    "y = nhl.Rank"
   ]
  },
  {
   "cell_type": "markdown",
   "metadata": {},
   "source": [
    "### 6. Fit a `KNeighborsClassifier` with 1 neighbor using the target and predictors."
   ]
  },
  {
   "cell_type": "code",
   "execution_count": 24,
   "metadata": {},
   "outputs": [],
   "source": [
    "from sklearn.neighbors import KNeighborsClassifier\n",
    "from sklearn.model_selection import train_test_split\n",
    "from sklearn import metrics"
   ]
  },
  {
   "cell_type": "code",
   "execution_count": 26,
   "metadata": {},
   "outputs": [
    {
     "name": "stdout",
     "output_type": "stream",
     "text": [
      "0.8260869565217391\n"
     ]
    }
   ],
   "source": [
    "X_train, X_test, y_train, y_test = train_test_split(X,y,random_state=123)\n",
    "knn = KNeighborsClassifier(n_neighbors=1)\n",
    "knn.fit(X_train,y_train);\n",
    "y_pred_class = knn.predict(X_test)\n",
    "print((metrics.accuracy_score(y_test,y_pred_class)))"
   ]
  },
  {
   "cell_type": "markdown",
   "metadata": {},
   "source": [
    "### 7. Evaluate the accuracy of your model.\n",
    "- Is it better than baseline?\n",
    "- Is it legitimate?"
   ]
  },
  {
   "cell_type": "code",
   "execution_count": 9,
   "metadata": {},
   "outputs": [],
   "source": [
    "#It's much better than the baseline, and I would think legitimate given\n",
    "#the high correlation of the feature columns to the rank.\n"
   ]
  },
  {
   "cell_type": "markdown",
   "metadata": {},
   "source": [
    "### 8. Create a 50-50 train-test-split of your target and predictors. Refit the KNN and assess the accuracy."
   ]
  },
  {
   "cell_type": "code",
   "execution_count": 27,
   "metadata": {},
   "outputs": [
    {
     "name": "stdout",
     "output_type": "stream",
     "text": [
      "0.8\n"
     ]
    }
   ],
   "source": [
    "X_train, X_test, y_train, y_test = train_test_split(X,y,test_size=0.5,random_state=123)\n",
    "knn = KNeighborsClassifier(n_neighbors=1)\n",
    "knn.fit(X_train,y_train);\n",
    "y_pred_class = knn.predict(X_test)\n",
    "print((metrics.accuracy_score(y_test,y_pred_class)))"
   ]
  },
  {
   "cell_type": "markdown",
   "metadata": {},
   "source": [
    "### 9. Evaluate the test accuracy of a KNN where K == number of rows in the training data."
   ]
  },
  {
   "cell_type": "code",
   "execution_count": 36,
   "metadata": {},
   "outputs": [
    {
     "name": "stdout",
     "output_type": "stream",
     "text": [
      "0.17391304347826086\n"
     ]
    }
   ],
   "source": [
    "X_train, X_test, y_train, y_test = train_test_split(X,y,random_state=123)\n",
    "knn = KNeighborsClassifier(n_neighbors=67)\n",
    "knn.fit(X_train,y_train);\n",
    "y_pred_class = knn.predict(X_test)\n",
    "print((metrics.accuracy_score(y_test,y_pred_class)))"
   ]
  },
  {
   "cell_type": "markdown",
   "metadata": {},
   "source": [
    "### 10. Fit the KNN at values of K from 1 to the number of rows in the training data.\n",
    "- Store the test accuracy in a list.\n",
    "- Plot the test accuracy vs. the number of neighbors."
   ]
  },
  {
   "cell_type": "code",
   "execution_count": 38,
   "metadata": {},
   "outputs": [],
   "source": [
    "scores = []\n",
    "for k in range(1,68):\n",
    "    knn = KNeighborsClassifier(n_neighbors=k)\n",
    "    knn.fit(X_train, y_train)\n",
    "    y_pred_class = knn.predict(X_test)\n",
    "    score = metrics.accuracy_score(y_test,y_pred_class)\n",
    "    scores.append([k,score])"
   ]
  },
  {
   "cell_type": "code",
   "execution_count": 40,
   "metadata": {},
   "outputs": [
    {
     "data": {
      "image/png": "[encoded data removed]",
      "text/plain": [
       "<Figure size 432x288 with 1 Axes>"
      ]
     },
     "metadata": {
      "image/png": {
       "height": 261,
       "width": 372
      },
      "needs_background": "light"
     },
     "output_type": "display_data"
    }
   ],
   "source": [
    "data = pd.DataFrame(scores,columns=['k','score'])\n",
    "data.plot.line(x='k',y='score');"
   ]
  },
  {
   "cell_type": "markdown",
   "metadata": {},
   "source": [
    "### 11. Fit KNN across different values of K and plot the mean cross-validated accuracy with 5 folds."
   ]
  },
  {
   "cell_type": "code",
   "execution_count": 13,
   "metadata": {},
   "outputs": [],
   "source": [
    "# A:"
   ]
  },
  {
   "cell_type": "markdown",
   "metadata": {},
   "source": [
    "### 12. Standardize the predictor matrix and cross-validate across the different K.\n",
    "- Plot the standardized mean cross-validated accuracy against the unstandardized. Which is better?\n",
    "- Why?"
   ]
  },
  {
   "cell_type": "code",
   "execution_count": 14,
   "metadata": {
    "collapsed": true
   },
   "outputs": [],
   "source": [
    "# A:"
   ]
  }
 ],
 "metadata": {
  "kernelspec": {
   "display_name": "Python 3",
   "language": "python",
   "name": "python3"
  },
  "language_info": {
   "codemirror_mode": {
    "name": "ipython",
    "version": 3
   },
   "file_extension": ".py",
   "mimetype": "text/x-python",
   "name": "python",
   "nbconvert_exporter": "python",
   "pygments_lexer": "ipython3",
   "version": "3.7.4"
  }
 },
 "nbformat": 4,
 "nbformat_minor": 2
}
