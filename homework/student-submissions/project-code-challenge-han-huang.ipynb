{
 "cells": [
  {
   "cell_type": "markdown",
   "metadata": {},
   "source": [
    "<img src=\"http://imgur.com/1ZcRyrc.png\" style=\"float: left; margin: 20px; height: 55px\">\n",
    "\n",
    "# Project 1: Python Coding Exercises\n",
    "\n",
    "_Authors: Joseph Nelson (DC) _\n",
    "\n",
    "---"
   ]
  },
  {
   "cell_type": "markdown",
   "metadata": {},
   "source": [
    "The following code challenges are drawn from common exercises used in technical interviews.\n",
    "\n",
    "Please note that there may be several ways to approach each challenge. If you get stuck, try mapping out your approach in pseudocode first. Finally, while solutions to problems like these may be found online, remember that if you copy/paste code that you can't explain, you'll be missing out on the point of the project. The only way to truly learn a new skill is through practice, trial, and error - we can only help you improve by understanding where you are having trouble."
   ]
  },
  {
   "cell_type": "markdown",
   "metadata": {},
   "source": [
    "### Challenge 1: Largest Palindrome\n",
    "A palindromic number reads the same both ways. For example, 1234321 is a palindrome. The largest palindrome made from the product of two two-digit numbers is 9009 = 91 × 99. Find the largest palindrome made from the product of two three-digit numbers. Afterward, write a brief explanation walking through your code's logic in markdown."
   ]
  },
  {
   "cell_type": "code",
   "execution_count": 5,
   "metadata": {},
   "outputs": [
    {
     "name": "stdout",
     "output_type": "stream",
     "text": [
      "[1, 4, 6, 8, 9, 22, 33, 44, 55, 66, 77, 88, 99, 111, 121, 141, 161, 171, 202, 212, 222, 232, 242, 252, 262, 272, 282, 292, 303, 323, 333, 343, 363, 393, 404, 414, 424, 434, 444, 454, 464, 474, 484, 494, 505, 515, 525, 535, 545, 555, 565, 575, 585, 595, 606, 616, 626, 636, 646, 656, 666, 676, 686, 696, 707, 717, 737, 747, 767, 777, 808, 818, 828, 838, 848, 858, 868, 878, 888, 898, 909, 939, 949, 959, 969, 979, 989, 999, 1001, 1111, 1221, 1331, 1441, 1551, 1661, 1771, 1881, 1991, 2002, 2112, 2222, 2332, 2442, 2552, 2662, 2772, 2882, 2992, 3003, 3113, 3223, 3333, 3443, 3553, 3663, 3773, 3883, 3993, 4004, 4114, 4224, 4334, 4444, 4554, 4664, 4774, 4884, 4994, 5005, 5115, 5225, 5335, 5445, 5555, 5665, 5775, 5885, 5995, 6006, 6116, 6226, 6336, 6446, 6556, 6666, 6776, 6886, 6996, 7007, 7117, 7227, 7337, 7447, 7557, 7667, 7777, 7887, 7997, 8008, 8118, 8228, 8338, 8448, 8558, 8668, 8778, 8888, 8998, 9009, 9119, 9229, 9339, 9449, 9559, 9669, 9779, 9889, 9999]\n"
     ]
    }
   ],
   "source": [
    "# INCOMPLETE (STEPS COMPLETED SO FAR)\n",
    "# my code is not scalable so I am narrowed to 1 - 10000 instead of under 999*999\n",
    "\n",
    "# create a list of potential paleidromes\n",
    "a = [*range(1,10000)]  # define the range \n",
    "b = [str(i) for i in a]  # convert to strings\n",
    "c = [x[::-1] for x in b][::-1] # reverse the order of each string in the list  \n",
    "d = c[::-1] # reverse the order of the list required\n",
    "e = [i for i, j in zip(b, d) if i == j]  # select the palindromes\n",
    "f = [int(i) for i in e] # convert the strings back to integers\n",
    "\n",
    "# create a list of all numbers in the range\n",
    "g = [*range(1,10000)]\n",
    "\n",
    "# create a list of primes\n",
    "N = 10000\n",
    "primes = [p for p in range(2,N) if 0 not in [p%d for d in range(2,p)]]\n",
    "\n",
    "# create a list of non primes\n",
    "non_primes = [i for i in g if i not in primes]\n",
    "\n",
    "# find only the non primes that are palindromes\n",
    "def intersection(f, non_primes): \n",
    "    potential_list = [value for value in f if value in non_primes] \n",
    "    return potential_list \n",
    "non_primes_intersection_palindrome = intersection(f, non_primes)\n",
    "print (non_primes_intersection_palindrome)\n",
    "\n",
    "# I still need to find which of non_primes_intersection_palindrome are a multiple of two three digit numbers and selct the highest one  "
   ]
  },
  {
   "cell_type": "markdown",
   "metadata": {},
   "source": [
    "\n",
    "### Challenge 2: Summation of Primes\n",
    "The sum of the primes below 10 is 2 + 3 + 5 + 7 = 17. Find the sum of all the primes below 2,000. Afterward, write a brief explanation walking through your code's logic in markdown."
   ]
  },
  {
   "cell_type": "code",
   "execution_count": 1,
   "metadata": {},
   "outputs": [
    {
     "data": {
      "text/plain": [
       "458860"
      ]
     },
     "execution_count": 1,
     "metadata": {},
     "output_type": "execute_result"
    }
   ],
   "source": [
    "# First generate a set of numbers that are lower than 2,000 which are only prime numbers by using the range function \n",
    "noprimes = set(j for i in range(2, 8) for j in range(i*2, 2000, i))\n",
    "# Then use an if statement to generate the set of numbers that are not on the non prime list\n",
    "primes = [x for x in range(2,2000) if x not in noprimes]\n",
    "# (3) then sum the number of integers in the set of (2) \n",
    "sum (primes)"
   ]
  },
  {
   "cell_type": "markdown",
   "metadata": {},
   "source": [
    "### Challenge 3: Multiples of 3 and 5\n",
    "If we list all of the natural numbers below 10 that are multiples of 3 or 5, we get 3, 5, 6, and 9. The sum of these multiples is 23. Find the sum of all the multiples of 3 and 5 below 1,000. Afterward, write a brief explanation walking through your code's logic in markdown."
   ]
  },
  {
   "cell_type": "code",
   "execution_count": 4,
   "metadata": {},
   "outputs": [
    {
     "data": {
      "text/plain": [
       "233168"
      ]
     },
     "execution_count": 4,
     "metadata": {},
     "output_type": "execute_result"
    }
   ],
   "source": [
    "# ANSWER\n",
    "multiples_of_3 = list(range(0,1000,3))  # generate a list of multiples of 3 \n",
    "multiples_of_5 = list(range(0,1000,5)) # generate a list of multiples of 3 \n",
    "# zeros are not eliminated because we are only returning the sum\n",
    "multiples_of_3_and_5 = multiples_of_3 + multiples_of_5 # create a combined list\n",
    "remove_dups = list(dict.fromkeys(multiples_of_3_and_5)) # eliminate duplicates\n",
    "sum(remove_dups) # sum"
   ]
  },
  {
   "cell_type": "markdown",
   "metadata": {},
   "source": [
    "### Challenge 4: String Compressor\n",
    "Implement a method to perform basic string compression using the counts of repeated characters. (This is called run-length encoding.) For example, the string \"aabcccccaaa\" would become a2b1c5a3. If the “compressed” string would not become smaller than the original string, your method should return the original string. You can assume the string has only uppercase and lowercase letters (a–z). Specify whether your solution is case sensitive or case insensitive and what you would need to change to make it the other. Afterward, write a brief explanation walking through your code's logic in markdown."
   ]
  },
  {
   "cell_type": "code",
   "execution_count": 3,
   "metadata": {},
   "outputs": [
    {
     "name": "stdout",
     "output_type": "stream",
     "text": [
      "a 2 b 1 c 5 a 3\n"
     ]
    }
   ],
   "source": [
    "# input the string\n",
    "input_original = 'aabcccccaaa'\n",
    "\n",
    "# turn the string into a list of single character strings in the same order as the original string\n",
    "input_string = input_original\n",
    "def split(input_string): \n",
    "    return list(input_string) \n",
    "# counts consecutive duplicate characters in string\n",
    "from itertools import groupby\n",
    "numbers = [sum(1 for _ in group) for _, group in groupby(input_string)]\n",
    "# converts integers in list to strings\n",
    "for i in range(0, len(numbers)): \n",
    "    numbers[i] = str(numbers[i]) \n",
    "# removes counts consecutive duplicate characters\n",
    "letters = [i[0] for i in groupby(input_string)]  \n",
    "# pairs the character string list and the integer string list into a single list w\n",
    "# the character list and number list combine in sequence in the new list\n",
    "combined = [None]*(len(letters)+len(numbers))\n",
    "combined[::2] = letters\n",
    "combined[1::2] = numbers\n",
    "combined\n",
    "print(' '.join(map(str, combined)))   "
   ]
  },
  {
   "cell_type": "markdown",
   "metadata": {},
   "source": [
    "### *BONUS* Challenge: FizzBuzz\n",
    "Write a program that prints all of the numbers from 1 to 100. For multiples of 3, instead of the number, print \"Fizz;\" for multiples of 5, print \"Buzz.\" For numbers that are multiples of both 3 and 5, print \"FizzBuzz.\" Afterward, write a brief explanation walking through your code's logic in markdown."
   ]
  },
  {
   "cell_type": "code",
   "execution_count": 5,
   "metadata": {},
   "outputs": [
    {
     "name": "stdout",
     "output_type": "stream",
     "text": [
      "1: 1\n",
      "2: 2\n",
      "3: Fizz\n",
      "4: 4\n",
      "5: Buzz\n",
      "6: Fizz\n",
      "7: 7\n",
      "8: 8\n",
      "9: Fizz\n",
      "10: Buzz\n",
      "11: 11\n",
      "12: Fizz\n",
      "13: 13\n",
      "14: 14\n",
      "15: FizzBuzz\n",
      "16: 16\n",
      "17: 17\n",
      "18: Fizz\n",
      "19: 19\n",
      "20: Buzz\n",
      "21: Fizz\n",
      "22: 22\n",
      "23: 23\n",
      "24: Fizz\n",
      "25: Buzz\n",
      "26: 26\n",
      "27: Fizz\n",
      "28: 28\n",
      "29: 29\n",
      "30: FizzBuzz\n",
      "31: 31\n",
      "32: 32\n",
      "33: Fizz\n",
      "34: 34\n",
      "35: Buzz\n",
      "36: Fizz\n",
      "37: 37\n",
      "38: 38\n",
      "39: Fizz\n",
      "40: Buzz\n",
      "41: 41\n",
      "42: Fizz\n",
      "43: 43\n",
      "44: 44\n",
      "45: FizzBuzz\n",
      "46: 46\n",
      "47: 47\n",
      "48: Fizz\n",
      "49: 49\n",
      "50: Buzz\n",
      "51: Fizz\n",
      "52: 52\n",
      "53: 53\n",
      "54: Fizz\n",
      "55: Buzz\n",
      "56: 56\n",
      "57: Fizz\n",
      "58: 58\n",
      "59: 59\n",
      "60: FizzBuzz\n",
      "61: 61\n",
      "62: 62\n",
      "63: Fizz\n",
      "64: 64\n",
      "65: Buzz\n",
      "66: Fizz\n",
      "67: 67\n",
      "68: 68\n",
      "69: Fizz\n",
      "70: Buzz\n",
      "71: 71\n",
      "72: Fizz\n",
      "73: 73\n",
      "74: 74\n",
      "75: FizzBuzz\n",
      "76: 76\n",
      "77: 77\n",
      "78: Fizz\n",
      "79: 79\n",
      "80: Buzz\n",
      "81: Fizz\n",
      "82: 82\n",
      "83: 83\n",
      "84: Fizz\n",
      "85: Buzz\n",
      "86: 86\n",
      "87: Fizz\n",
      "88: 88\n",
      "89: 89\n",
      "90: FizzBuzz\n",
      "91: 91\n",
      "92: 92\n",
      "93: Fizz\n",
      "94: 94\n",
      "95: Buzz\n",
      "96: Fizz\n",
      "97: 97\n",
      "98: 98\n",
      "99: Fizz\n",
      "100: Buzz\n"
     ]
    }
   ],
   "source": [
    "# Create list of integers between 1 to 100\n",
    "all_list = list(range(1,101))\n",
    "# create a list for multiples of 3 for the same range\n",
    "all_multiple_3 = list(range(0,101,3))\n",
    "all_multiple_3.pop(0)\n",
    "# create a list for multiples of 5 for the same range\n",
    "all_multiple_5 = list(range(0,101,5))\n",
    "all_multiple_5.pop(0)\n",
    "# create a list of the intersection of the 3 and 5 multiples lists\n",
    "multiple_both_3_and_5 = list(set(all_multiple_3).intersection(all_multiple_5))\n",
    "multiple_both_3_and_5.sort()\n",
    "fizzbuzz = multiple_both_3_and_5\n",
    "# take the resulting fizzbuzz list from the 3 multiples to get Fizz\n",
    "fizz = [i for i in all_multiple_3 if i not in multiple_both_3_and_5] \n",
    "# take the resulting fizzbuzz list from the 5 multiples to get Buzz\n",
    "buzz = [i for i in all_multiple_5 if i not in multiple_both_3_and_5] \n",
    "# Combine Fizz, Buzz and Fizzbuzz into a new list\n",
    "fizz_buzz_fizzbuzz_combined = fizz + buzz + fizzbuzz\n",
    "fizz_buzz_fizzbuzz_combined.sort()\n",
    "# find the remainder list\n",
    "remainder = [i for i in all_list if i not in fizz_buzz_fizzbuzz_combined] \n",
    "# convert all lists into a dictionaries\n",
    "fizz_dictionary = dict.fromkeys(fizz, 'Fizz')    # turns set into a dictionary with values of 0\n",
    "buzz_dictionary = dict.fromkeys(buzz, 'Buzz')    # turns set into a dictionary with values of 0\n",
    "fizzbuzz_dictionary = dict.fromkeys(fizzbuzz, 'FizzBuzz')    # turns set into a dictionary with values of 0\n",
    "remainder_values = remainder\n",
    "remainder_dictionary = {remainder[i]: remainder_values[i] for i in range(len(remainder))}\n",
    "# merge the four directories into a single dictionary \n",
    "def Merge(remainder_dictionary, fizzbuzz_dictionary, buzz_dictionary, fizz_dictionary): \n",
    "    res = {**remainder_dictionary, **fizzbuzz_dictionary, **buzz_dictionary, **fizz_dictionary} \n",
    "    return res \n",
    "unsorted_dictionary = Merge(remainder_dictionary, fizzbuzz_dictionary, buzz_dictionary, fizz_dictionary) \n",
    "# Sort the dictionary \n",
    "for key in sorted(unsorted_dictionary.keys()):\n",
    "    print(\"%s: %s\" % (key, unsorted_dictionary[key]))"
   ]
  },
  {
   "cell_type": "code",
   "execution_count": null,
   "metadata": {},
   "outputs": [],
   "source": []
  }
 ],
 "metadata": {
  "anaconda-cloud": {},
  "kernelspec": {
   "display_name": "Python 3",
   "language": "python",
   "name": "python3"
  },
  "language_info": {
   "codemirror_mode": {
    "name": "ipython",
    "version": 3
   },
   "file_extension": ".py",
   "mimetype": "text/x-python",
   "name": "python",
   "nbconvert_exporter": "python",
   "pygments_lexer": "ipython3",
   "version": "3.7.4"
  }
 },
 "nbformat": 4,
 "nbformat_minor": 2
}
