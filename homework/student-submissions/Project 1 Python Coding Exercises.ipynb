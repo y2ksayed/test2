{
 "cells": [
  {
   "cell_type": "markdown",
   "metadata": {},
   "source": [
    "# Project 1 Python Coding Exercises"
   ]
  },
  {
   "cell_type": "markdown",
   "metadata": {},
   "source": [
    "## Challenge 1: Largest Palindrome\n",
    "\n",
    "A palindromic number reads the same both ways. For example, 1234321 is a palindrome. The largest palindrome made from the product of two two-digit numbers is 9009 = 91 × 99. Find the largest palindrome made from the product of two three-digit numbers. Afterward, write a brief explanation walking through your code's logic in markdown.\n"
   ]
  },
  {
   "cell_type": "markdown",
   "metadata": {},
   "source": [
    "### My Original Idea"
   ]
  },
  {
   "cell_type": "code",
   "execution_count": 4,
   "metadata": {
    "scrolled": false
   },
   "outputs": [],
   "source": [
    "\n",
    "\n",
    "\n",
    "#Step 0: Create a list of all three digit numbers\n",
    "#Step 1: create a list of prodcts from two three digit numbers\n",
    "#Step 2: identify palindromes within that list\n",
    "#step 3: identify largest palindromes\n",
    "\n",
    "#Create a list of all three digit numbers\n",
    "l = []\n",
    "for i in range(100,1000):\n",
    "    l.append(i)\n",
    "\n",
    "#Createa a list of products from all two three digit numbres\n",
    "prod_1 = []\n",
    "for i in l:\n",
    "    \n",
    "    prod_1.append(i * l)\n",
    "\n",
    "#print(prod_1)   \n",
    "# #identify palindromes within that list\n",
    "# pal_l = []\n",
    "\n",
    "#s = s[::-1]\n",
    "\n",
    "\n",
    "# #step 3: identify largest palindromes\n",
    "# max(pal_l)"
   ]
  },
  {
   "cell_type": "markdown",
   "metadata": {},
   "source": [
    "### My next idea after some research"
   ]
  },
  {
   "cell_type": "code",
   "execution_count": 34,
   "metadata": {},
   "outputs": [
    {
     "data": {
      "text/plain": [
       "906609"
      ]
     },
     "execution_count": 34,
     "metadata": {},
     "output_type": "execute_result"
    }
   ],
   "source": [
    "#Create Empty LIst\n",
    "list1 = []\n",
    "\n",
    "#create 1st range of three digit values\n",
    "for a in range(100,1000):\n",
    "    #create second range of three digit values\n",
    "    for b in range(100,1000):\n",
    "        #multiply each value from the first range to each value in the second range\n",
    "        x = a * b\n",
    "        #convert product to a string\n",
    "        s = str(x)\n",
    "        #if product (now a string) is equal to product when it's reversed (palindrome), append it to orginal list\n",
    "        if s == s[::-1]:\n",
    "            list1.append(x)\n",
    "\n",
    "#find max value from list of palindromes\n",
    "max(list1)"
   ]
  },
  {
   "cell_type": "markdown",
   "metadata": {},
   "source": [
    "### How do i vizualize each range and prodct in a dataframe? column1 = a, columns2 = b, column3 = x"
   ]
  },
  {
   "cell_type": "code",
   "execution_count": null,
   "metadata": {},
   "outputs": [],
   "source": [
    "#cartesian product?"
   ]
  },
  {
   "cell_type": "markdown",
   "metadata": {},
   "source": [
    "## Challenge 2: Summation of Primes\n",
    "\n",
    "The sum of the primes below 10 is 2 + 3 + 5 + 7 = 17. Find the sum of all the primes below 2,000. Afterward, write a brief explanation walking through your code's logic in markdown."
   ]
  },
  {
   "cell_type": "code",
   "execution_count": 40,
   "metadata": {},
   "outputs": [
    {
     "data": {
      "text/plain": [
       "277050"
      ]
     },
     "execution_count": 40,
     "metadata": {},
     "output_type": "execute_result"
    }
   ],
   "source": [
    "#Goal\n",
    "    #find all prime numbers\n",
    "    #sum if less than 2000\n",
    "\n",
    "#create empty list\n",
    "list2 = []\n",
    "\n",
    "#loop through range we want to sum if number is prime\n",
    "for num in range(2,2001):\n",
    "    #divide all possible values into num to test if prime\n",
    "    for i in range(2,num):\n",
    "        #if a number can be divded evently by values less than it then break; otherwise, it's a prime number\n",
    "        if (num % i) == 0:\n",
    "            break\n",
    "    #if sequence didn't break, the number is prime, so append that number to the list\n",
    "    else:\n",
    "        list2.append(num)\n",
    "\n",
    "sum(list2)\n",
    "                \n",
    "    "
   ]
  },
  {
   "cell_type": "markdown",
   "metadata": {},
   "source": [
    "### Challenge 3: Multiples of 3 and 5\n",
    "If we list all of the natural numbers below 10 that are multiples of 3 or 5, we get 3, 5, 6, and 9. The sum of these multiples is 23. Find the sum of all the multiples of 3 and 5 below 1,000. Afterward, write a brief explanation walking through your code's logic in markdown."
   ]
  },
  {
   "cell_type": "code",
   "execution_count": 51,
   "metadata": {},
   "outputs": [
    {
     "name": "stdout",
     "output_type": "stream",
     "text": [
      "233168\n"
     ]
    }
   ],
   "source": [
    "#create empty list\n",
    "list3 = []\n",
    "\n",
    "#loop through numbers below 1000\n",
    "for num in range(1,1000):\n",
    "    #if number is divisible by three, add to list\n",
    "    if num % 3 == 0:\n",
    "        list3.append(num)\n",
    "    #if number is not divisible by three, but is divisible by 5, add to list\n",
    "    elif num % 5 == 0:\n",
    "        list3.append(num)\n",
    "\n",
    "#sum all values in list\n",
    "sum(list3)\n",
    "        \n",
    "    "
   ]
  },
  {
   "cell_type": "markdown",
   "metadata": {},
   "source": [
    "### Challenge 4: String Compressor\n",
    "Implement a method to perform basic string compression using the counts of repeated characters. (This is called run-length encoding.) For example, the string \"aabcccccaaa\" would become a2b1c5a3. If the “compressed” string would not become smaller than the original string, your method should return the original string. You can assume the string has only uppercase and lowercase letters (a–z). Specify whether your solution is case sensitive or case insensitive and what you would need to change to make it the other. Afterward, write a brief explanation walking through your code's logic in markdown."
   ]
  },
  {
   "cell_type": "code",
   "execution_count": null,
   "metadata": {},
   "outputs": [],
   "source": [
    "s = 'aabcccccaaa'\n",
    "\n"
   ]
  }
 ],
 "metadata": {
  "kernelspec": {
   "display_name": "Python 3",
   "language": "python",
   "name": "python3"
  },
  "language_info": {
   "codemirror_mode": {
    "name": "ipython",
    "version": 3
   },
   "file_extension": ".py",
   "mimetype": "text/x-python",
   "name": "python",
   "nbconvert_exporter": "python",
   "pygments_lexer": "ipython3",
   "version": "3.7.4"
  }
 },
 "nbformat": 4,
 "nbformat_minor": 2
}
