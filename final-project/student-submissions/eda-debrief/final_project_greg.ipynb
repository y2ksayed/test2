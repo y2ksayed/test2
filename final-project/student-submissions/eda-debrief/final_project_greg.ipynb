{
 "cells": [
  {
   "cell_type": "code",
   "execution_count": 3,
   "metadata": {},
   "outputs": [],
   "source": [
    "import pandas as pd\n",
    "df = pd.read_excel('menu-items-events-companies.xlsx', index_col=0)"
   ]
  },
  {
   "cell_type": "code",
   "execution_count": 4,
   "metadata": {},
   "outputs": [
    {
     "data": {
      "text/html": [
       "<div>\n",
       "<style scoped>\n",
       "    .dataframe tbody tr th:only-of-type {\n",
       "        vertical-align: middle;\n",
       "    }\n",
       "\n",
       "    .dataframe tbody tr th {\n",
       "        vertical-align: top;\n",
       "    }\n",
       "\n",
       "    .dataframe thead th {\n",
       "        text-align: right;\n",
       "    }\n",
       "</style>\n",
       "<table border=\"1\" class=\"dataframe\">\n",
       "  <thead>\n",
       "    <tr style=\"text-align: right;\">\n",
       "      <th></th>\n",
       "      <th>event_id</th>\n",
       "      <th>menu_item_name</th>\n",
       "      <th>quantity</th>\n",
       "      <th>menu_item_id</th>\n",
       "      <th>unit_price</th>\n",
       "      <th>total_price</th>\n",
       "      <th>event_name</th>\n",
       "      <th>company_name</th>\n",
       "      <th>suite</th>\n",
       "      <th>customer_name</th>\n",
       "      <th>category_name</th>\n",
       "    </tr>\n",
       "    <tr>\n",
       "      <th>order_id</th>\n",
       "      <th></th>\n",
       "      <th></th>\n",
       "      <th></th>\n",
       "      <th></th>\n",
       "      <th></th>\n",
       "      <th></th>\n",
       "      <th></th>\n",
       "      <th></th>\n",
       "      <th></th>\n",
       "      <th></th>\n",
       "      <th></th>\n",
       "    </tr>\n",
       "  </thead>\n",
       "  <tbody>\n",
       "    <tr>\n",
       "      <td>1</td>\n",
       "      <td>61</td>\n",
       "      <td>ARANCINI BROTHERS RICE BALL SAMPLER</td>\n",
       "      <td>1</td>\n",
       "      <td>135</td>\n",
       "      <td>119.0</td>\n",
       "      <td>119.0</td>\n",
       "      <td>RANGERS VS COLUMBUS</td>\n",
       "      <td>Willow Lifestyle Clubs</td>\n",
       "      <td>MLS-715</td>\n",
       "      <td>Alexander Kharlamov</td>\n",
       "      <td>Appetizer</td>\n",
       "    </tr>\n",
       "    <tr>\n",
       "      <td>1</td>\n",
       "      <td>61</td>\n",
       "      <td>BRISKET SLIDERS</td>\n",
       "      <td>1</td>\n",
       "      <td>148</td>\n",
       "      <td>163.0</td>\n",
       "      <td>163.0</td>\n",
       "      <td>RANGERS VS COLUMBUS</td>\n",
       "      <td>Willow Lifestyle Clubs</td>\n",
       "      <td>MLS-715</td>\n",
       "      <td>Alexander Kharlamov</td>\n",
       "      <td>Sandwiches</td>\n",
       "    </tr>\n",
       "    <tr>\n",
       "      <td>2</td>\n",
       "      <td>1</td>\n",
       "      <td>GRILLED CHEESE SANDWICHES WITH TOMATO “SOUP” DIP</td>\n",
       "      <td>1</td>\n",
       "      <td>48</td>\n",
       "      <td>127.0</td>\n",
       "      <td>127.0</td>\n",
       "      <td>AMC PREMIERE - TWD</td>\n",
       "      <td>Willow Lifestyle Clubs</td>\n",
       "      <td>MLS-715</td>\n",
       "      <td>Richard Barrow</td>\n",
       "      <td>Sandwiches</td>\n",
       "    </tr>\n",
       "    <tr>\n",
       "      <td>2</td>\n",
       "      <td>1</td>\n",
       "      <td>CHEESE RAVIOLI</td>\n",
       "      <td>4</td>\n",
       "      <td>147</td>\n",
       "      <td>177.0</td>\n",
       "      <td>708.0</td>\n",
       "      <td>AMC PREMIERE - TWD</td>\n",
       "      <td>Willow Lifestyle Clubs</td>\n",
       "      <td>MLS-715</td>\n",
       "      <td>Richard Barrow</td>\n",
       "      <td>Entrée</td>\n",
       "    </tr>\n",
       "    <tr>\n",
       "      <td>3</td>\n",
       "      <td>2</td>\n",
       "      <td>GUINNESS (4 PACK)</td>\n",
       "      <td>1</td>\n",
       "      <td>91</td>\n",
       "      <td>40.0</td>\n",
       "      <td>40.0</td>\n",
       "      <td>BILLY JOEL</td>\n",
       "      <td>Willow Lifestyle Clubs</td>\n",
       "      <td>MLS-715</td>\n",
       "      <td>Alexander Kharlamov</td>\n",
       "      <td>Beer</td>\n",
       "    </tr>\n",
       "  </tbody>\n",
       "</table>\n",
       "</div>"
      ],
      "text/plain": [
       "          event_id                                    menu_item_name  \\\n",
       "order_id                                                               \n",
       "1               61               ARANCINI BROTHERS RICE BALL SAMPLER   \n",
       "1               61                                   BRISKET SLIDERS   \n",
       "2                1  GRILLED CHEESE SANDWICHES WITH TOMATO “SOUP” DIP   \n",
       "2                1                                    CHEESE RAVIOLI   \n",
       "3                2                                 GUINNESS (4 PACK)   \n",
       "\n",
       "          quantity  menu_item_id  unit_price  total_price  \\\n",
       "order_id                                                    \n",
       "1                1           135       119.0        119.0   \n",
       "1                1           148       163.0        163.0   \n",
       "2                1            48       127.0        127.0   \n",
       "2                4           147       177.0        708.0   \n",
       "3                1            91        40.0         40.0   \n",
       "\n",
       "                   event_name            company_name    suite  \\\n",
       "order_id                                                         \n",
       "1         RANGERS VS COLUMBUS  Willow Lifestyle Clubs  MLS-715   \n",
       "1         RANGERS VS COLUMBUS  Willow Lifestyle Clubs  MLS-715   \n",
       "2          AMC PREMIERE - TWD  Willow Lifestyle Clubs  MLS-715   \n",
       "2          AMC PREMIERE - TWD  Willow Lifestyle Clubs  MLS-715   \n",
       "3                  BILLY JOEL  Willow Lifestyle Clubs  MLS-715   \n",
       "\n",
       "                customer_name category_name  \n",
       "order_id                                     \n",
       "1         Alexander Kharlamov     Appetizer  \n",
       "1         Alexander Kharlamov    Sandwiches  \n",
       "2              Richard Barrow    Sandwiches  \n",
       "2              Richard Barrow        Entrée  \n",
       "3         Alexander Kharlamov          Beer  "
      ]
     },
     "execution_count": 4,
     "metadata": {},
     "output_type": "execute_result"
    }
   ],
   "source": [
    "df.head()"
   ]
  },
  {
   "cell_type": "code",
   "execution_count": 5,
   "metadata": {},
   "outputs": [
    {
     "data": {
      "text/html": [
       "<div>\n",
       "<style scoped>\n",
       "    .dataframe tbody tr th:only-of-type {\n",
       "        vertical-align: middle;\n",
       "    }\n",
       "\n",
       "    .dataframe tbody tr th {\n",
       "        vertical-align: top;\n",
       "    }\n",
       "\n",
       "    .dataframe thead th {\n",
       "        text-align: right;\n",
       "    }\n",
       "</style>\n",
       "<table border=\"1\" class=\"dataframe\">\n",
       "  <thead>\n",
       "    <tr style=\"text-align: right;\">\n",
       "      <th></th>\n",
       "      <th>event_id</th>\n",
       "      <th>quantity</th>\n",
       "      <th>menu_item_id</th>\n",
       "      <th>unit_price</th>\n",
       "      <th>total_price</th>\n",
       "    </tr>\n",
       "  </thead>\n",
       "  <tbody>\n",
       "    <tr>\n",
       "      <td>count</td>\n",
       "      <td>387018.000000</td>\n",
       "      <td>387018.000000</td>\n",
       "      <td>387018.000000</td>\n",
       "      <td>387018.000000</td>\n",
       "      <td>387018.000000</td>\n",
       "    </tr>\n",
       "    <tr>\n",
       "      <td>mean</td>\n",
       "      <td>702.370357</td>\n",
       "      <td>1.086942</td>\n",
       "      <td>185.474161</td>\n",
       "      <td>100.378481</td>\n",
       "      <td>105.381521</td>\n",
       "    </tr>\n",
       "    <tr>\n",
       "      <td>std</td>\n",
       "      <td>337.755437</td>\n",
       "      <td>0.382249</td>\n",
       "      <td>158.648329</td>\n",
       "      <td>59.238552</td>\n",
       "      <td>64.161264</td>\n",
       "    </tr>\n",
       "    <tr>\n",
       "      <td>min</td>\n",
       "      <td>1.000000</td>\n",
       "      <td>0.000000</td>\n",
       "      <td>1.000000</td>\n",
       "      <td>0.000000</td>\n",
       "      <td>0.000000</td>\n",
       "    </tr>\n",
       "    <tr>\n",
       "      <td>25%</td>\n",
       "      <td>445.000000</td>\n",
       "      <td>1.000000</td>\n",
       "      <td>60.000000</td>\n",
       "      <td>53.000000</td>\n",
       "      <td>66.000000</td>\n",
       "    </tr>\n",
       "    <tr>\n",
       "      <td>50%</td>\n",
       "      <td>701.000000</td>\n",
       "      <td>1.000000</td>\n",
       "      <td>139.000000</td>\n",
       "      <td>96.000000</td>\n",
       "      <td>101.000000</td>\n",
       "    </tr>\n",
       "    <tr>\n",
       "      <td>75%</td>\n",
       "      <td>987.000000</td>\n",
       "      <td>1.000000</td>\n",
       "      <td>268.000000</td>\n",
       "      <td>133.000000</td>\n",
       "      <td>134.000000</td>\n",
       "    </tr>\n",
       "    <tr>\n",
       "      <td>max</td>\n",
       "      <td>1320.000000</td>\n",
       "      <td>16.000000</td>\n",
       "      <td>631.000000</td>\n",
       "      <td>2200.000000</td>\n",
       "      <td>4400.000000</td>\n",
       "    </tr>\n",
       "  </tbody>\n",
       "</table>\n",
       "</div>"
      ],
      "text/plain": [
       "            event_id       quantity   menu_item_id     unit_price  \\\n",
       "count  387018.000000  387018.000000  387018.000000  387018.000000   \n",
       "mean      702.370357       1.086942     185.474161     100.378481   \n",
       "std       337.755437       0.382249     158.648329      59.238552   \n",
       "min         1.000000       0.000000       1.000000       0.000000   \n",
       "25%       445.000000       1.000000      60.000000      53.000000   \n",
       "50%       701.000000       1.000000     139.000000      96.000000   \n",
       "75%       987.000000       1.000000     268.000000     133.000000   \n",
       "max      1320.000000      16.000000     631.000000    2200.000000   \n",
       "\n",
       "         total_price  \n",
       "count  387018.000000  \n",
       "mean      105.381521  \n",
       "std        64.161264  \n",
       "min         0.000000  \n",
       "25%        66.000000  \n",
       "50%       101.000000  \n",
       "75%       134.000000  \n",
       "max      4400.000000  "
      ]
     },
     "execution_count": 5,
     "metadata": {},
     "output_type": "execute_result"
    }
   ],
   "source": [
    "df.describe()"
   ]
  },
  {
   "cell_type": "code",
   "execution_count": 6,
   "metadata": {},
   "outputs": [
    {
     "data": {
      "text/plain": [
       "(387018, 11)"
      ]
     },
     "execution_count": 6,
     "metadata": {},
     "output_type": "execute_result"
    }
   ],
   "source": [
    "df.shape"
   ]
  },
  {
   "cell_type": "code",
   "execution_count": 7,
   "metadata": {},
   "outputs": [
    {
     "data": {
      "text/plain": [
       "event_id            int64\n",
       "menu_item_name     object\n",
       "quantity            int64\n",
       "menu_item_id        int64\n",
       "unit_price        float64\n",
       "total_price       float64\n",
       "event_name         object\n",
       "company_name       object\n",
       "suite              object\n",
       "customer_name      object\n",
       "category_name      object\n",
       "dtype: object"
      ]
     },
     "execution_count": 7,
     "metadata": {},
     "output_type": "execute_result"
    }
   ],
   "source": [
    "df.dtypes"
   ]
  },
  {
   "cell_type": "code",
   "execution_count": 8,
   "metadata": {},
   "outputs": [
    {
     "data": {
      "text/plain": [
       "event_id          0\n",
       "menu_item_name    0\n",
       "quantity          0\n",
       "menu_item_id      0\n",
       "unit_price        0\n",
       "total_price       0\n",
       "event_name        0\n",
       "company_name      0\n",
       "suite             0\n",
       "customer_name     0\n",
       "category_name     0\n",
       "dtype: int64"
      ]
     },
     "execution_count": 8,
     "metadata": {},
     "output_type": "execute_result"
    }
   ],
   "source": [
    "df.isnull().sum()"
   ]
  },
  {
   "cell_type": "code",
   "execution_count": 10,
   "metadata": {},
   "outputs": [
    {
     "data": {
      "text/plain": [
       "event_id           0\n",
       "menu_item_name     0\n",
       "quantity           8\n",
       "menu_item_id       0\n",
       "unit_price        25\n",
       "total_price       25\n",
       "event_name         0\n",
       "company_name       0\n",
       "suite              0\n",
       "customer_name      0\n",
       "category_name      0\n",
       "dtype: int64"
      ]
     },
     "execution_count": 10,
     "metadata": {},
     "output_type": "execute_result"
    }
   ],
   "source": [
    "df.isin([0]).sum()"
   ]
  },
  {
   "cell_type": "code",
   "execution_count": null,
   "metadata": {},
   "outputs": [],
   "source": []
  }
 ],
 "metadata": {
  "kernelspec": {
   "display_name": "Python 3",
   "language": "python",
   "name": "python3"
  },
  "language_info": {
   "codemirror_mode": {
    "name": "ipython",
    "version": 3
   },
   "file_extension": ".py",
   "mimetype": "text/x-python",
   "name": "python",
   "nbconvert_exporter": "python",
   "pygments_lexer": "ipython3",
   "version": "3.7.4"
  }
 },
 "nbformat": 4,
 "nbformat_minor": 2
}
