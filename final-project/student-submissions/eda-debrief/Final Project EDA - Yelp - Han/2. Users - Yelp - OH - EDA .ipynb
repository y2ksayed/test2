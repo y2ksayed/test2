{
 "cells": [
  {
   "cell_type": "code",
   "execution_count": 1,
   "metadata": {},
   "outputs": [],
   "source": [
    "import pandas as pd\n",
    "import numpy as np\n",
    "import seaborn as sns\n",
    "\n",
    "import matplotlib.pyplot as plt\n",
    "%matplotlib inline\n",
    "# Increase default figure and font sizes for easier viewing.\n",
    "plt.rcParams['figure.figsize'] = (8, 6)\n",
    "plt.rcParams['font.size'] = 14"
   ]
  },
  {
   "cell_type": "code",
   "execution_count": 2,
   "metadata": {},
   "outputs": [],
   "source": [
    "# import data for users who have written at least one review about a businesses in AZ\n",
    "users = pd.read_csv('./users_oh.csv') "
   ]
  },
  {
   "cell_type": "code",
   "execution_count": 3,
   "metadata": {},
   "outputs": [
    {
     "data": {
      "text/plain": [
       "(92622, 22)"
      ]
     },
     "execution_count": 3,
     "metadata": {},
     "output_type": "execute_result"
    }
   ],
   "source": [
    "# check the shape \n",
    "users.shape"
   ]
  },
  {
   "cell_type": "code",
   "execution_count": 4,
   "metadata": {
    "scrolled": true
   },
   "outputs": [
    {
     "data": {
      "text/html": [
       "<div>\n",
       "<style scoped>\n",
       "    .dataframe tbody tr th:only-of-type {\n",
       "        vertical-align: middle;\n",
       "    }\n",
       "\n",
       "    .dataframe tbody tr th {\n",
       "        vertical-align: top;\n",
       "    }\n",
       "\n",
       "    .dataframe thead th {\n",
       "        text-align: right;\n",
       "    }\n",
       "</style>\n",
       "<table border=\"1\" class=\"dataframe\">\n",
       "  <thead>\n",
       "    <tr style=\"text-align: right;\">\n",
       "      <th></th>\n",
       "      <th>user_id</th>\n",
       "      <th>name</th>\n",
       "      <th>review_count</th>\n",
       "      <th>yelping_since</th>\n",
       "      <th>useful</th>\n",
       "      <th>funny</th>\n",
       "      <th>cool</th>\n",
       "      <th>elite</th>\n",
       "      <th>friends</th>\n",
       "      <th>fans</th>\n",
       "      <th>...</th>\n",
       "      <th>compliment_more</th>\n",
       "      <th>compliment_profile</th>\n",
       "      <th>compliment_cute</th>\n",
       "      <th>compliment_list</th>\n",
       "      <th>compliment_note</th>\n",
       "      <th>compliment_plain</th>\n",
       "      <th>compliment_cool</th>\n",
       "      <th>compliment_funny</th>\n",
       "      <th>compliment_writer</th>\n",
       "      <th>compliment_photos</th>\n",
       "    </tr>\n",
       "  </thead>\n",
       "  <tbody>\n",
       "    <tr>\n",
       "      <td>0</td>\n",
       "      <td>l6BmjZMeQD3rDxWUbiAiow</td>\n",
       "      <td>Rashmi</td>\n",
       "      <td>95</td>\n",
       "      <td>2013-10-08 23:11:33</td>\n",
       "      <td>84</td>\n",
       "      <td>17</td>\n",
       "      <td>25</td>\n",
       "      <td>2015,2016,2017</td>\n",
       "      <td>c78V-rj8NQcQjOI8KP3UEA, alRMgPcngYSCJ5naFRBz5g...</td>\n",
       "      <td>5</td>\n",
       "      <td>...</td>\n",
       "      <td>0</td>\n",
       "      <td>0</td>\n",
       "      <td>0</td>\n",
       "      <td>0</td>\n",
       "      <td>1</td>\n",
       "      <td>1</td>\n",
       "      <td>1</td>\n",
       "      <td>1</td>\n",
       "      <td>2</td>\n",
       "      <td>0</td>\n",
       "    </tr>\n",
       "  </tbody>\n",
       "</table>\n",
       "<p>1 rows × 22 columns</p>\n",
       "</div>"
      ],
      "text/plain": [
       "                  user_id    name  review_count        yelping_since  useful  \\\n",
       "0  l6BmjZMeQD3rDxWUbiAiow  Rashmi            95  2013-10-08 23:11:33      84   \n",
       "\n",
       "   funny  cool           elite  \\\n",
       "0     17    25  2015,2016,2017   \n",
       "\n",
       "                                             friends  fans  ...  \\\n",
       "0  c78V-rj8NQcQjOI8KP3UEA, alRMgPcngYSCJ5naFRBz5g...     5  ...   \n",
       "\n",
       "   compliment_more  compliment_profile  compliment_cute  compliment_list  \\\n",
       "0                0                   0                0                0   \n",
       "\n",
       "   compliment_note  compliment_plain  compliment_cool  compliment_funny  \\\n",
       "0                1                 1                1                 1   \n",
       "\n",
       "   compliment_writer  compliment_photos  \n",
       "0                  2                  0  \n",
       "\n",
       "[1 rows x 22 columns]"
      ]
     },
     "execution_count": 4,
     "metadata": {},
     "output_type": "execute_result"
    }
   ],
   "source": [
    "# check the head\n",
    "users.head(1)"
   ]
  },
  {
   "cell_type": "code",
   "execution_count": 5,
   "metadata": {},
   "outputs": [],
   "source": [
    "# INITIAL DATA CLEAN "
   ]
  },
  {
   "cell_type": "code",
   "execution_count": null,
   "metadata": {},
   "outputs": [],
   "source": []
  },
  {
   "cell_type": "code",
   "execution_count": 6,
   "metadata": {},
   "outputs": [
    {
     "data": {
      "text/plain": [
       "user_id               92622\n",
       "name                  92622\n",
       "review_count          92622\n",
       "yelping_since         92622\n",
       "useful                92622\n",
       "funny                 92622\n",
       "cool                  92622\n",
       "elite                  6233\n",
       "friends               92622\n",
       "fans                  92622\n",
       "average_stars         92622\n",
       "compliment_hot        92622\n",
       "compliment_more       92622\n",
       "compliment_profile    92622\n",
       "compliment_cute       92622\n",
       "compliment_list       92622\n",
       "compliment_note       92622\n",
       "compliment_plain      92622\n",
       "compliment_cool       92622\n",
       "compliment_funny      92622\n",
       "compliment_writer     92622\n",
       "compliment_photos     92622\n",
       "dtype: int64"
      ]
     },
     "execution_count": 6,
     "metadata": {},
     "output_type": "execute_result"
    }
   ],
   "source": [
    "# check for null values\n",
    "users.notnull().sum()"
   ]
  },
  {
   "cell_type": "code",
   "execution_count": 7,
   "metadata": {},
   "outputs": [
    {
     "data": {
      "text/plain": [
       "user_id               92622\n",
       "name                  92622\n",
       "review_count          92622\n",
       "yelping_since         92622\n",
       "useful                92622\n",
       "funny                 92622\n",
       "cool                  92622\n",
       "elite                  6233\n",
       "friends               92622\n",
       "fans                  92622\n",
       "average_stars         92622\n",
       "compliment_hot        92622\n",
       "compliment_more       92622\n",
       "compliment_profile    92622\n",
       "compliment_cute       92622\n",
       "compliment_list       92622\n",
       "compliment_note       92622\n",
       "compliment_plain      92622\n",
       "compliment_cool       92622\n",
       "compliment_funny      92622\n",
       "compliment_writer     92622\n",
       "compliment_photos     92622\n",
       "elite_no_nan          92622\n",
       "dtype: int64"
      ]
     },
     "execution_count": 7,
     "metadata": {},
     "output_type": "execute_result"
    }
   ],
   "source": [
    "# fill 'elite' nan values with zeros but create as a new column\n",
    "users['elite_no_nan'] = users.elite.fillna(0)\n",
    "users.notnull().sum()"
   ]
  },
  {
   "cell_type": "code",
   "execution_count": null,
   "metadata": {},
   "outputs": [],
   "source": []
  },
  {
   "cell_type": "code",
   "execution_count": 8,
   "metadata": {},
   "outputs": [],
   "source": [
    "# INITIAL STAR RATING ANALYSIS "
   ]
  },
  {
   "cell_type": "code",
   "execution_count": 9,
   "metadata": {},
   "outputs": [
    {
     "data": {
      "image/png": "[encoded data removed]",
      "text/plain": [
       "<Figure size 432x288 with 1 Axes>"
      ]
     },
     "metadata": {
      "needs_background": "light"
     },
     "output_type": "display_data"
    }
   ],
   "source": [
    "# Check the distribution of users average star rating\n",
    "users.average_stars.plot(kind='hist', bins=5);"
   ]
  },
  {
   "cell_type": "code",
   "execution_count": 10,
   "metadata": {},
   "outputs": [
    {
     "data": {
      "image/png": "[encoded data removed]",
      "text/plain": [
       "<Figure size 540x360 with 1 Axes>"
      ]
     },
     "metadata": {
      "needs_background": "light"
     },
     "output_type": "display_data"
    }
   ],
   "source": [
    "# Check the correlation between review count and star rating \n",
    "sns.lmplot(x='review_count', y='average_stars', data=users, aspect=1.5, scatter_kws={'alpha':0.2});"
   ]
  },
  {
   "cell_type": "code",
   "execution_count": 11,
   "metadata": {},
   "outputs": [
    {
     "data": {
      "text/html": [
       "<div>\n",
       "<style scoped>\n",
       "    .dataframe tbody tr th:only-of-type {\n",
       "        vertical-align: middle;\n",
       "    }\n",
       "\n",
       "    .dataframe tbody tr th {\n",
       "        vertical-align: top;\n",
       "    }\n",
       "\n",
       "    .dataframe thead th {\n",
       "        text-align: right;\n",
       "    }\n",
       "</style>\n",
       "<table border=\"1\" class=\"dataframe\">\n",
       "  <thead>\n",
       "    <tr style=\"text-align: right;\">\n",
       "      <th></th>\n",
       "      <th>user_id</th>\n",
       "      <th>name</th>\n",
       "      <th>review_count</th>\n",
       "      <th>yelping_since</th>\n",
       "      <th>useful</th>\n",
       "      <th>funny</th>\n",
       "      <th>cool</th>\n",
       "      <th>elite</th>\n",
       "      <th>friends</th>\n",
       "      <th>fans</th>\n",
       "      <th>...</th>\n",
       "      <th>compliment_profile</th>\n",
       "      <th>compliment_cute</th>\n",
       "      <th>compliment_list</th>\n",
       "      <th>compliment_note</th>\n",
       "      <th>compliment_plain</th>\n",
       "      <th>compliment_cool</th>\n",
       "      <th>compliment_funny</th>\n",
       "      <th>compliment_writer</th>\n",
       "      <th>compliment_photos</th>\n",
       "      <th>elite_no_nan</th>\n",
       "    </tr>\n",
       "    <tr>\n",
       "      <th>review_count</th>\n",
       "      <th></th>\n",
       "      <th></th>\n",
       "      <th></th>\n",
       "      <th></th>\n",
       "      <th></th>\n",
       "      <th></th>\n",
       "      <th></th>\n",
       "      <th></th>\n",
       "      <th></th>\n",
       "      <th></th>\n",
       "      <th></th>\n",
       "      <th></th>\n",
       "      <th></th>\n",
       "      <th></th>\n",
       "      <th></th>\n",
       "      <th></th>\n",
       "      <th></th>\n",
       "      <th></th>\n",
       "      <th></th>\n",
       "      <th></th>\n",
       "      <th></th>\n",
       "    </tr>\n",
       "  </thead>\n",
       "  <tbody>\n",
       "    <tr>\n",
       "      <td>(0, 1]</td>\n",
       "      <td>17517</td>\n",
       "      <td>17517</td>\n",
       "      <td>17517</td>\n",
       "      <td>17517</td>\n",
       "      <td>17517</td>\n",
       "      <td>17517</td>\n",
       "      <td>17517</td>\n",
       "      <td>0</td>\n",
       "      <td>17517</td>\n",
       "      <td>17517</td>\n",
       "      <td>...</td>\n",
       "      <td>17517</td>\n",
       "      <td>17517</td>\n",
       "      <td>17517</td>\n",
       "      <td>17517</td>\n",
       "      <td>17517</td>\n",
       "      <td>17517</td>\n",
       "      <td>17517</td>\n",
       "      <td>17517</td>\n",
       "      <td>17517</td>\n",
       "      <td>17517</td>\n",
       "    </tr>\n",
       "    <tr>\n",
       "      <td>(1, 3]</td>\n",
       "      <td>19641</td>\n",
       "      <td>19641</td>\n",
       "      <td>19641</td>\n",
       "      <td>19641</td>\n",
       "      <td>19641</td>\n",
       "      <td>19641</td>\n",
       "      <td>19641</td>\n",
       "      <td>1</td>\n",
       "      <td>19641</td>\n",
       "      <td>19641</td>\n",
       "      <td>...</td>\n",
       "      <td>19641</td>\n",
       "      <td>19641</td>\n",
       "      <td>19641</td>\n",
       "      <td>19641</td>\n",
       "      <td>19641</td>\n",
       "      <td>19641</td>\n",
       "      <td>19641</td>\n",
       "      <td>19641</td>\n",
       "      <td>19641</td>\n",
       "      <td>19641</td>\n",
       "    </tr>\n",
       "    <tr>\n",
       "      <td>(3, 5]</td>\n",
       "      <td>10589</td>\n",
       "      <td>10589</td>\n",
       "      <td>10589</td>\n",
       "      <td>10589</td>\n",
       "      <td>10589</td>\n",
       "      <td>10589</td>\n",
       "      <td>10589</td>\n",
       "      <td>2</td>\n",
       "      <td>10589</td>\n",
       "      <td>10589</td>\n",
       "      <td>...</td>\n",
       "      <td>10589</td>\n",
       "      <td>10589</td>\n",
       "      <td>10589</td>\n",
       "      <td>10589</td>\n",
       "      <td>10589</td>\n",
       "      <td>10589</td>\n",
       "      <td>10589</td>\n",
       "      <td>10589</td>\n",
       "      <td>10589</td>\n",
       "      <td>10589</td>\n",
       "    </tr>\n",
       "    <tr>\n",
       "      <td>(5, 10]</td>\n",
       "      <td>13407</td>\n",
       "      <td>13407</td>\n",
       "      <td>13407</td>\n",
       "      <td>13407</td>\n",
       "      <td>13407</td>\n",
       "      <td>13407</td>\n",
       "      <td>13407</td>\n",
       "      <td>0</td>\n",
       "      <td>13407</td>\n",
       "      <td>13407</td>\n",
       "      <td>...</td>\n",
       "      <td>13407</td>\n",
       "      <td>13407</td>\n",
       "      <td>13407</td>\n",
       "      <td>13407</td>\n",
       "      <td>13407</td>\n",
       "      <td>13407</td>\n",
       "      <td>13407</td>\n",
       "      <td>13407</td>\n",
       "      <td>13407</td>\n",
       "      <td>13407</td>\n",
       "    </tr>\n",
       "    <tr>\n",
       "      <td>(10, 20]</td>\n",
       "      <td>11277</td>\n",
       "      <td>11277</td>\n",
       "      <td>11277</td>\n",
       "      <td>11277</td>\n",
       "      <td>11277</td>\n",
       "      <td>11277</td>\n",
       "      <td>11277</td>\n",
       "      <td>10</td>\n",
       "      <td>11277</td>\n",
       "      <td>11277</td>\n",
       "      <td>...</td>\n",
       "      <td>11277</td>\n",
       "      <td>11277</td>\n",
       "      <td>11277</td>\n",
       "      <td>11277</td>\n",
       "      <td>11277</td>\n",
       "      <td>11277</td>\n",
       "      <td>11277</td>\n",
       "      <td>11277</td>\n",
       "      <td>11277</td>\n",
       "      <td>11277</td>\n",
       "    </tr>\n",
       "    <tr>\n",
       "      <td>(20, 50]</td>\n",
       "      <td>9936</td>\n",
       "      <td>9936</td>\n",
       "      <td>9936</td>\n",
       "      <td>9936</td>\n",
       "      <td>9936</td>\n",
       "      <td>9936</td>\n",
       "      <td>9936</td>\n",
       "      <td>578</td>\n",
       "      <td>9936</td>\n",
       "      <td>9936</td>\n",
       "      <td>...</td>\n",
       "      <td>9936</td>\n",
       "      <td>9936</td>\n",
       "      <td>9936</td>\n",
       "      <td>9936</td>\n",
       "      <td>9936</td>\n",
       "      <td>9936</td>\n",
       "      <td>9936</td>\n",
       "      <td>9936</td>\n",
       "      <td>9936</td>\n",
       "      <td>9936</td>\n",
       "    </tr>\n",
       "    <tr>\n",
       "      <td>(50, 100]</td>\n",
       "      <td>4477</td>\n",
       "      <td>4477</td>\n",
       "      <td>4477</td>\n",
       "      <td>4477</td>\n",
       "      <td>4477</td>\n",
       "      <td>4477</td>\n",
       "      <td>4477</td>\n",
       "      <td>1470</td>\n",
       "      <td>4477</td>\n",
       "      <td>4477</td>\n",
       "      <td>...</td>\n",
       "      <td>4477</td>\n",
       "      <td>4477</td>\n",
       "      <td>4477</td>\n",
       "      <td>4477</td>\n",
       "      <td>4477</td>\n",
       "      <td>4477</td>\n",
       "      <td>4477</td>\n",
       "      <td>4477</td>\n",
       "      <td>4477</td>\n",
       "      <td>4477</td>\n",
       "    </tr>\n",
       "    <tr>\n",
       "      <td>(100, 200]</td>\n",
       "      <td>2915</td>\n",
       "      <td>2915</td>\n",
       "      <td>2915</td>\n",
       "      <td>2915</td>\n",
       "      <td>2915</td>\n",
       "      <td>2915</td>\n",
       "      <td>2915</td>\n",
       "      <td>1786</td>\n",
       "      <td>2915</td>\n",
       "      <td>2915</td>\n",
       "      <td>...</td>\n",
       "      <td>2915</td>\n",
       "      <td>2915</td>\n",
       "      <td>2915</td>\n",
       "      <td>2915</td>\n",
       "      <td>2915</td>\n",
       "      <td>2915</td>\n",
       "      <td>2915</td>\n",
       "      <td>2915</td>\n",
       "      <td>2915</td>\n",
       "      <td>2915</td>\n",
       "    </tr>\n",
       "    <tr>\n",
       "      <td>(200, 500]</td>\n",
       "      <td>2019</td>\n",
       "      <td>2019</td>\n",
       "      <td>2019</td>\n",
       "      <td>2019</td>\n",
       "      <td>2019</td>\n",
       "      <td>2019</td>\n",
       "      <td>2019</td>\n",
       "      <td>1618</td>\n",
       "      <td>2019</td>\n",
       "      <td>2019</td>\n",
       "      <td>...</td>\n",
       "      <td>2019</td>\n",
       "      <td>2019</td>\n",
       "      <td>2019</td>\n",
       "      <td>2019</td>\n",
       "      <td>2019</td>\n",
       "      <td>2019</td>\n",
       "      <td>2019</td>\n",
       "      <td>2019</td>\n",
       "      <td>2019</td>\n",
       "      <td>2019</td>\n",
       "    </tr>\n",
       "    <tr>\n",
       "      <td>(500, 1000]</td>\n",
       "      <td>608</td>\n",
       "      <td>608</td>\n",
       "      <td>608</td>\n",
       "      <td>608</td>\n",
       "      <td>608</td>\n",
       "      <td>608</td>\n",
       "      <td>608</td>\n",
       "      <td>552</td>\n",
       "      <td>608</td>\n",
       "      <td>608</td>\n",
       "      <td>...</td>\n",
       "      <td>608</td>\n",
       "      <td>608</td>\n",
       "      <td>608</td>\n",
       "      <td>608</td>\n",
       "      <td>608</td>\n",
       "      <td>608</td>\n",
       "      <td>608</td>\n",
       "      <td>608</td>\n",
       "      <td>608</td>\n",
       "      <td>608</td>\n",
       "    </tr>\n",
       "    <tr>\n",
       "      <td>(1000, 5000]</td>\n",
       "      <td>229</td>\n",
       "      <td>229</td>\n",
       "      <td>229</td>\n",
       "      <td>229</td>\n",
       "      <td>229</td>\n",
       "      <td>229</td>\n",
       "      <td>229</td>\n",
       "      <td>212</td>\n",
       "      <td>229</td>\n",
       "      <td>229</td>\n",
       "      <td>...</td>\n",
       "      <td>229</td>\n",
       "      <td>229</td>\n",
       "      <td>229</td>\n",
       "      <td>229</td>\n",
       "      <td>229</td>\n",
       "      <td>229</td>\n",
       "      <td>229</td>\n",
       "      <td>229</td>\n",
       "      <td>229</td>\n",
       "      <td>229</td>\n",
       "    </tr>\n",
       "    <tr>\n",
       "      <td>(5000, 15000]</td>\n",
       "      <td>4</td>\n",
       "      <td>4</td>\n",
       "      <td>4</td>\n",
       "      <td>4</td>\n",
       "      <td>4</td>\n",
       "      <td>4</td>\n",
       "      <td>4</td>\n",
       "      <td>4</td>\n",
       "      <td>4</td>\n",
       "      <td>4</td>\n",
       "      <td>...</td>\n",
       "      <td>4</td>\n",
       "      <td>4</td>\n",
       "      <td>4</td>\n",
       "      <td>4</td>\n",
       "      <td>4</td>\n",
       "      <td>4</td>\n",
       "      <td>4</td>\n",
       "      <td>4</td>\n",
       "      <td>4</td>\n",
       "      <td>4</td>\n",
       "    </tr>\n",
       "  </tbody>\n",
       "</table>\n",
       "<p>12 rows × 23 columns</p>\n",
       "</div>"
      ],
      "text/plain": [
       "               user_id   name  review_count  yelping_since  useful  funny  \\\n",
       "review_count                                                                \n",
       "(0, 1]           17517  17517         17517          17517   17517  17517   \n",
       "(1, 3]           19641  19641         19641          19641   19641  19641   \n",
       "(3, 5]           10589  10589         10589          10589   10589  10589   \n",
       "(5, 10]          13407  13407         13407          13407   13407  13407   \n",
       "(10, 20]         11277  11277         11277          11277   11277  11277   \n",
       "(20, 50]          9936   9936          9936           9936    9936   9936   \n",
       "(50, 100]         4477   4477          4477           4477    4477   4477   \n",
       "(100, 200]        2915   2915          2915           2915    2915   2915   \n",
       "(200, 500]        2019   2019          2019           2019    2019   2019   \n",
       "(500, 1000]        608    608           608            608     608    608   \n",
       "(1000, 5000]       229    229           229            229     229    229   \n",
       "(5000, 15000]        4      4             4              4       4      4   \n",
       "\n",
       "                cool  elite  friends   fans  ...  compliment_profile  \\\n",
       "review_count                                 ...                       \n",
       "(0, 1]         17517      0    17517  17517  ...               17517   \n",
       "(1, 3]         19641      1    19641  19641  ...               19641   \n",
       "(3, 5]         10589      2    10589  10589  ...               10589   \n",
       "(5, 10]        13407      0    13407  13407  ...               13407   \n",
       "(10, 20]       11277     10    11277  11277  ...               11277   \n",
       "(20, 50]        9936    578     9936   9936  ...                9936   \n",
       "(50, 100]       4477   1470     4477   4477  ...                4477   \n",
       "(100, 200]      2915   1786     2915   2915  ...                2915   \n",
       "(200, 500]      2019   1618     2019   2019  ...                2019   \n",
       "(500, 1000]      608    552      608    608  ...                 608   \n",
       "(1000, 5000]     229    212      229    229  ...                 229   \n",
       "(5000, 15000]      4      4        4      4  ...                   4   \n",
       "\n",
       "               compliment_cute  compliment_list  compliment_note  \\\n",
       "review_count                                                       \n",
       "(0, 1]                   17517            17517            17517   \n",
       "(1, 3]                   19641            19641            19641   \n",
       "(3, 5]                   10589            10589            10589   \n",
       "(5, 10]                  13407            13407            13407   \n",
       "(10, 20]                 11277            11277            11277   \n",
       "(20, 50]                  9936             9936             9936   \n",
       "(50, 100]                 4477             4477             4477   \n",
       "(100, 200]                2915             2915             2915   \n",
       "(200, 500]                2019             2019             2019   \n",
       "(500, 1000]                608              608              608   \n",
       "(1000, 5000]               229              229              229   \n",
       "(5000, 15000]                4                4                4   \n",
       "\n",
       "               compliment_plain  compliment_cool  compliment_funny  \\\n",
       "review_count                                                         \n",
       "(0, 1]                    17517            17517             17517   \n",
       "(1, 3]                    19641            19641             19641   \n",
       "(3, 5]                    10589            10589             10589   \n",
       "(5, 10]                   13407            13407             13407   \n",
       "(10, 20]                  11277            11277             11277   \n",
       "(20, 50]                   9936             9936              9936   \n",
       "(50, 100]                  4477             4477              4477   \n",
       "(100, 200]                 2915             2915              2915   \n",
       "(200, 500]                 2019             2019              2019   \n",
       "(500, 1000]                 608              608               608   \n",
       "(1000, 5000]                229              229               229   \n",
       "(5000, 15000]                 4                4                 4   \n",
       "\n",
       "               compliment_writer  compliment_photos  elite_no_nan  \n",
       "review_count                                                       \n",
       "(0, 1]                     17517              17517         17517  \n",
       "(1, 3]                     19641              19641         19641  \n",
       "(3, 5]                     10589              10589         10589  \n",
       "(5, 10]                    13407              13407         13407  \n",
       "(10, 20]                   11277              11277         11277  \n",
       "(20, 50]                    9936               9936          9936  \n",
       "(50, 100]                   4477               4477          4477  \n",
       "(100, 200]                  2915               2915          2915  \n",
       "(200, 500]                  2019               2019          2019  \n",
       "(500, 1000]                  608                608           608  \n",
       "(1000, 5000]                 229                229           229  \n",
       "(5000, 15000]                  4                  4             4  \n",
       "\n",
       "[12 rows x 23 columns]"
      ]
     },
     "execution_count": 11,
     "metadata": {},
     "output_type": "execute_result"
    }
   ],
   "source": [
    "# break out by ranges of the number of reviews written per user\n",
    "ranges = [0,1,3,5,10,20,50,100,200,500,1000, 5000, 15000]\n",
    "users.groupby(pd.cut(users.review_count, ranges)).count()"
   ]
  },
  {
   "cell_type": "code",
   "execution_count": null,
   "metadata": {},
   "outputs": [],
   "source": []
  },
  {
   "cell_type": "code",
   "execution_count": 12,
   "metadata": {},
   "outputs": [],
   "source": [
    "# FRIENDS ANALYSIS "
   ]
  },
  {
   "cell_type": "code",
   "execution_count": 13,
   "metadata": {},
   "outputs": [
    {
     "data": {
      "text/plain": [
       "'c78V-rj8NQcQjOI8KP3UEA, alRMgPcngYSCJ5naFRBz5g, ajcnq75Z5xxkvUSmmJ1bCg, BSMAmp2-wMzCkhTfq9ToNg, jka10dk9ygX76hJG0gfPZQ, dut0e4xvme7QSlesOycHQA, l4l5lBnK356zBua7B-UJ6Q, 0HicMOOs-M_gl2eO-zES4Q, _uI57wL2fLyftrcSFpfSGQ, T4_Qd0YWbC3co6WSMw4vxg, iBRoLWPtWmsI1kdbE9ORSA, xjrUcid6Ymq0DoTJELkYyw, GqadWVzJ6At-vgLzK_SKgA, DvB13VJBmSnbFXBVBsKmDA, vRP9nQkYTeNioDjtxZlVhg, gT0A1iN3eeQ8EMAjJhwQtw, 6yCWjFPtp_AD4x93WAwmnw, 1dKzpNnib-JlViKv8_Gt5g, 3Bv4_JxHXq-gVLOxYMQX0Q, ikQyfu1iViYh8T0us7wiFQ, f1GGltNaB7K5DR1jf3dOmg, tgeFUChlh7v8bZFVl2-hjQ, -9-9oyXlqsMG2he5xIWdLQ, Adj9fBPVJad8vSs-mIP7gw, Ce49RY8CKXVsTifxRYFTsw, M1_7TLi8CbdA89nFLlH4iw, wFsNv-hqbW_F5-IRqfBN6g, 0Q1L7zXHocaUZ2gsG2XJeg, cBFgmOCBdhYa0xoFEAzp_g, VrD_AgiFvzqtlR15vir3SQ, cpE-7HK514Sr5vpSen9CEQ, F1UYelhPFB-zIKlt0ygIZg, CQAL1hvsLMCzuJf9AglsXw, 1KnY1wr15WfEWIRLB9IS6g, QWFQ-kXBiLbid-lm5Jr3dQ, nymT8liFugCrM16lTy0ZfQ, qj69bdd885heDvUPCyHd2Q, DySCZZcgbdrlHgEovk5y9w, lZMJIDuvhT9Dy4KyquLXyA, b_9Gn7wS93AoPZPR0dIJqQ, N07g1IaLh0_6sUjtiSRe4w, YdfPX_7DxSnKvvdCJ57iOw, 8GYryZPD22W7WgQ8kvMkEQ, cpQmAgOWatghp14h1pn1dQ, EnchhymLYMqftCRjqvVWmw, -JdfKhFktE7Zs9BMDFcPeQ, uWhC9eof98zPkvsalgaqJw, eyTlNDDaiPatfe6mheIZ0g, VfHq0o73aKsODvfAhwAQtg, kvD5tICngLAaQDujSFWupA, dXacwEhqi9-3_XT6JeH0Og, NfU0zDaTMEQ4-X9dbQWd9A, cTHWBdjSKbctSUIvWsgFxw, 3IEtCbSDF5t7RkZ20T6s9A, HJJXTrp6UybYyPdQ9DA0JA, JaXogQFVjzGRAeBvzamBHg, NUonfKkjS1iVqnNITtgXZg, D5vaJAYp0sOrGfsj9qvsMA, H27Ecbwwu4FGAlLgICourw, S8HrLmMiE4u8FWYWkNEoTw, Io36Y3xWQcIX9rYvPcYfXQ, J5mcqh8KxYpqjaLBNlwcig, -nTB3_08g06fD0GT8AtDBQ, wMpFA46lihK8oFns_5p65A, RZGFJHeomGJCWp3xcL3ejA, ZoQSzzXoSP1RxOD4Amv9Bg, qzM0EB0SkuuGIFv0adjQAQ, HuM6vvuveken-fPZ7d4olA, H3oukHpGpn9n_mJwSDSQyQ, PkmsJsQ8FIZe8eh8c_u96g, wSByVbwME4MzgkJaFyfvNg, YEVqknoDmrHAoUbHX0nPnA, li3vsK1XAPmeJYAUTYflHQ, MKc8yXi0glbPYt0Qb4PECw, fQPH6W9fksi27gkuUPnFaA, amrCMrDsoRetYFg2kwwdFA, 84dVQ6n6r2ezNaTuc7RkKA, yW9QjWY0olv5-uRKv3t_Kw, 5XJDj7c3eoidfQ3jW18Zgw, txSc6a6pIDctvwyBeu7Aqg, HFbbDCyyqP9xPkUlcxeIdg, hTUv5oh2do6Z3OppPuuiJA, gSqonG9J4fNM-fl_fE71AA, pd9mgTFpBTg5F9x-MsczNg, j3VE22V2GcHiH8UZxfFLfw, NYXlMW-T-3V4Jqr4r-i0Wg, btxgAZedxX8IWhMifA7Xkg, -Hp5mPLiRJNFnyeX5Ygzag, P6-DwVg6-t2JuQwIUEk0iQ, OI2TvxYvZrAodBG_RF53Xw, bHxf_VPKmZur1Bier-6A2A, Et_Sb39cVm81_Xe9HDM8ZQ, 5HwGl2UyYbaRq8aD6YC-fA, ZK228WMcCKLo5thcjD7rdw, iTf8wojwfm0NOi7dOiz3Nw, btYRxQYNJjpecflNHtFH0A, Kgo42FzpW_dXFgDKoewbtg, MNk_1Q_dqOY3xxHZKeO8VQ, AlwD504T9k0m5lkg3k5g6Q'"
      ]
     },
     "execution_count": 13,
     "metadata": {},
     "output_type": "execute_result"
    }
   ],
   "source": [
    "# Check an example of friend data\n",
    "users['friends'][0]"
   ]
  },
  {
   "cell_type": "code",
   "execution_count": 14,
   "metadata": {},
   "outputs": [
    {
     "name": "stderr",
     "output_type": "stream",
     "text": [
      "/Users/hanhuang/opt/anaconda3/lib/python3.7/site-packages/ipykernel_launcher.py:12: SettingWithCopyWarning: \n",
      "A value is trying to be set on a copy of a slice from a DataFrame.\n",
      "Try using .loc[row_indexer,col_indexer] = value instead\n",
      "\n",
      "See the caveats in the documentation: http://pandas.pydata.org/pandas-docs/stable/user_guide/indexing.html#returning-a-view-versus-a-copy\n",
      "  if sys.path[0] == '':\n",
      "/Users/hanhuang/opt/anaconda3/lib/python3.7/site-packages/ipykernel_launcher.py:23: SettingWithCopyWarning: \n",
      "A value is trying to be set on a copy of a slice from a DataFrame.\n",
      "Try using .loc[row_indexer,col_indexer] = value instead\n",
      "\n",
      "See the caveats in the documentation: http://pandas.pydata.org/pandas-docs/stable/user_guide/indexing.html#returning-a-view-versus-a-copy\n"
     ]
    }
   ],
   "source": [
    "# Creating a column for friend count\n",
    "\n",
    "# create new dataframe with only rows for users who have no 'friends'\n",
    "no_friends_df = users[users['friends'] == 'None']\n",
    " \n",
    "# create new column and populate with zeros\n",
    "def function_friends_none(z):\n",
    "    if z == 'None':\n",
    "        return 0\n",
    "    else:\n",
    "        return 1\n",
    "no_friends_df['friend_count'] = no_friends_df['friends'].apply(function_friends_none)\n",
    "# check there are no '1's in the the column\n",
    "no_friends_df['friend_count'].sum()\n",
    "# filter columns of the dataframe and create a new one for merging \n",
    "no_friends_filtered_df = no_friends_df[['user_id','friend_count']]\n",
    "len(no_friends_filtered_df)\n",
    "no_friends_filtered_df\n",
    "\n",
    "# create new dataframe with only rows for users who have one or more 'friends'\n",
    "one_or_more_friends_df = users[users['friends'] != 'None']\n",
    "# Count the number of friends\n",
    "one_or_more_friends_df['friend_count'] = one_or_more_friends_df['friends'].str.count(',')+1\n",
    "# filter columns of the dataframe and create a new one for merging \n",
    "one_or_more_friends_filtered_df = one_or_more_friends_df[['user_id','friend_count']]\n"
   ]
  },
  {
   "cell_type": "code",
   "execution_count": 15,
   "metadata": {},
   "outputs": [],
   "source": [
    "# merge the two new dataframes \n",
    "friend_count_df = pd.concat([no_friends_filtered_df, one_or_more_friends_filtered_df])"
   ]
  },
  {
   "cell_type": "code",
   "execution_count": 16,
   "metadata": {},
   "outputs": [
    {
     "data": {
      "text/html": [
       "<div>\n",
       "<style scoped>\n",
       "    .dataframe tbody tr th:only-of-type {\n",
       "        vertical-align: middle;\n",
       "    }\n",
       "\n",
       "    .dataframe tbody tr th {\n",
       "        vertical-align: top;\n",
       "    }\n",
       "\n",
       "    .dataframe thead th {\n",
       "        text-align: right;\n",
       "    }\n",
       "</style>\n",
       "<table border=\"1\" class=\"dataframe\">\n",
       "  <thead>\n",
       "    <tr style=\"text-align: right;\">\n",
       "      <th></th>\n",
       "      <th>user_id</th>\n",
       "      <th>friend_count</th>\n",
       "    </tr>\n",
       "  </thead>\n",
       "  <tbody>\n",
       "    <tr>\n",
       "      <td>7395</td>\n",
       "      <td>8iFdGflRabklAt3G_Pd0ug</td>\n",
       "      <td>0</td>\n",
       "    </tr>\n",
       "    <tr>\n",
       "      <td>7396</td>\n",
       "      <td>TsZxDJuhgReq8SeoQYSy8g</td>\n",
       "      <td>0</td>\n",
       "    </tr>\n",
       "    <tr>\n",
       "      <td>7397</td>\n",
       "      <td>zunWrhzfbH1UUBtZbRB_QQ</td>\n",
       "      <td>0</td>\n",
       "    </tr>\n",
       "    <tr>\n",
       "      <td>7398</td>\n",
       "      <td>PeKouqRuQU7eJM24fUm6KQ</td>\n",
       "      <td>0</td>\n",
       "    </tr>\n",
       "    <tr>\n",
       "      <td>7399</td>\n",
       "      <td>fs0xfZ1JKigEHO_nB0R7mQ</td>\n",
       "      <td>0</td>\n",
       "    </tr>\n",
       "    <tr>\n",
       "      <td>...</td>\n",
       "      <td>...</td>\n",
       "      <td>...</td>\n",
       "    </tr>\n",
       "    <tr>\n",
       "      <td>91302</td>\n",
       "      <td>zi_SpBv3Born9kXEc7LlIA</td>\n",
       "      <td>9</td>\n",
       "    </tr>\n",
       "    <tr>\n",
       "      <td>91422</td>\n",
       "      <td>bICtVzEenh9UtEoj-pMTtg</td>\n",
       "      <td>1</td>\n",
       "    </tr>\n",
       "    <tr>\n",
       "      <td>91726</td>\n",
       "      <td>Fuv1shWKfQvS7uLOICpR7w</td>\n",
       "      <td>2</td>\n",
       "    </tr>\n",
       "    <tr>\n",
       "      <td>92075</td>\n",
       "      <td>xOfUwumhFdn39OaweGtN-Q</td>\n",
       "      <td>1</td>\n",
       "    </tr>\n",
       "    <tr>\n",
       "      <td>92145</td>\n",
       "      <td>NfCV4d21XhNIUwsjjBdDww</td>\n",
       "      <td>2</td>\n",
       "    </tr>\n",
       "  </tbody>\n",
       "</table>\n",
       "<p>92622 rows × 2 columns</p>\n",
       "</div>"
      ],
      "text/plain": [
       "                      user_id  friend_count\n",
       "7395   8iFdGflRabklAt3G_Pd0ug             0\n",
       "7396   TsZxDJuhgReq8SeoQYSy8g             0\n",
       "7397   zunWrhzfbH1UUBtZbRB_QQ             0\n",
       "7398   PeKouqRuQU7eJM24fUm6KQ             0\n",
       "7399   fs0xfZ1JKigEHO_nB0R7mQ             0\n",
       "...                       ...           ...\n",
       "91302  zi_SpBv3Born9kXEc7LlIA             9\n",
       "91422  bICtVzEenh9UtEoj-pMTtg             1\n",
       "91726  Fuv1shWKfQvS7uLOICpR7w             2\n",
       "92075  xOfUwumhFdn39OaweGtN-Q             1\n",
       "92145  NfCV4d21XhNIUwsjjBdDww             2\n",
       "\n",
       "[92622 rows x 2 columns]"
      ]
     },
     "execution_count": 16,
     "metadata": {},
     "output_type": "execute_result"
    }
   ],
   "source": [
    "friend_count_df "
   ]
  },
  {
   "cell_type": "code",
   "execution_count": 17,
   "metadata": {},
   "outputs": [
    {
     "data": {
      "text/html": [
       "<div>\n",
       "<style scoped>\n",
       "    .dataframe tbody tr th:only-of-type {\n",
       "        vertical-align: middle;\n",
       "    }\n",
       "\n",
       "    .dataframe tbody tr th {\n",
       "        vertical-align: top;\n",
       "    }\n",
       "\n",
       "    .dataframe thead th {\n",
       "        text-align: right;\n",
       "    }\n",
       "</style>\n",
       "<table border=\"1\" class=\"dataframe\">\n",
       "  <thead>\n",
       "    <tr style=\"text-align: right;\">\n",
       "      <th></th>\n",
       "      <th>user_id</th>\n",
       "      <th>name</th>\n",
       "      <th>review_count</th>\n",
       "      <th>yelping_since</th>\n",
       "      <th>useful</th>\n",
       "      <th>funny</th>\n",
       "      <th>cool</th>\n",
       "      <th>elite</th>\n",
       "      <th>friends</th>\n",
       "      <th>fans</th>\n",
       "      <th>...</th>\n",
       "      <th>compliment_cute</th>\n",
       "      <th>compliment_list</th>\n",
       "      <th>compliment_note</th>\n",
       "      <th>compliment_plain</th>\n",
       "      <th>compliment_cool</th>\n",
       "      <th>compliment_funny</th>\n",
       "      <th>compliment_writer</th>\n",
       "      <th>compliment_photos</th>\n",
       "      <th>elite_no_nan</th>\n",
       "      <th>friend_count</th>\n",
       "    </tr>\n",
       "  </thead>\n",
       "  <tbody>\n",
       "    <tr>\n",
       "      <td>0</td>\n",
       "      <td>l6BmjZMeQD3rDxWUbiAiow</td>\n",
       "      <td>Rashmi</td>\n",
       "      <td>95</td>\n",
       "      <td>2013-10-08 23:11:33</td>\n",
       "      <td>84</td>\n",
       "      <td>17</td>\n",
       "      <td>25</td>\n",
       "      <td>2015,2016,2017</td>\n",
       "      <td>c78V-rj8NQcQjOI8KP3UEA, alRMgPcngYSCJ5naFRBz5g...</td>\n",
       "      <td>5</td>\n",
       "      <td>...</td>\n",
       "      <td>0</td>\n",
       "      <td>0</td>\n",
       "      <td>1</td>\n",
       "      <td>1</td>\n",
       "      <td>1</td>\n",
       "      <td>1</td>\n",
       "      <td>2</td>\n",
       "      <td>0</td>\n",
       "      <td>2015,2016,2017</td>\n",
       "      <td>99</td>\n",
       "    </tr>\n",
       "  </tbody>\n",
       "</table>\n",
       "<p>1 rows × 24 columns</p>\n",
       "</div>"
      ],
      "text/plain": [
       "                  user_id    name  review_count        yelping_since  useful  \\\n",
       "0  l6BmjZMeQD3rDxWUbiAiow  Rashmi            95  2013-10-08 23:11:33      84   \n",
       "\n",
       "   funny  cool           elite  \\\n",
       "0     17    25  2015,2016,2017   \n",
       "\n",
       "                                             friends  fans  ...  \\\n",
       "0  c78V-rj8NQcQjOI8KP3UEA, alRMgPcngYSCJ5naFRBz5g...     5  ...   \n",
       "\n",
       "   compliment_cute  compliment_list  compliment_note  compliment_plain  \\\n",
       "0                0                0                1                 1   \n",
       "\n",
       "   compliment_cool  compliment_funny  compliment_writer  compliment_photos  \\\n",
       "0                1                 1                  2                  0   \n",
       "\n",
       "     elite_no_nan  friend_count  \n",
       "0  2015,2016,2017            99  \n",
       "\n",
       "[1 rows x 24 columns]"
      ]
     },
     "execution_count": 17,
     "metadata": {},
     "output_type": "execute_result"
    }
   ],
   "source": [
    "users = users.merge(friend_count_df , on='user_id', how='left')\n",
    "users.head(1)"
   ]
  },
  {
   "cell_type": "code",
   "execution_count": 18,
   "metadata": {},
   "outputs": [
    {
     "data": {
      "text/plain": [
       "0         0.425838\n",
       "1-10      0.202554\n",
       "11-50     0.170618\n",
       "201+      0.047527\n",
       "51-200    0.153462\n",
       "Name: count_of_friends_segments, dtype: float64"
      ]
     },
     "execution_count": 18,
     "metadata": {},
     "output_type": "execute_result"
    }
   ],
   "source": [
    "# create categories for number of friends\n",
    "criteria = [users['friend_count'].between(0,0), users['friend_count'].between(1,10), users['friend_count'].between(11,50), users['friend_count'].between(51,200), users['friend_count'].between(201,200000)]\n",
    "values = ['0', '1-10', '11-50', '51-200', '201+']\n",
    "\n",
    "users['count_of_friends_segments'] = np.select(criteria, values, 0)\n",
    "users.count_of_friends_segments.value_counts(normalize=True).sort_index(axis = 0)"
   ]
  },
  {
   "cell_type": "code",
   "execution_count": null,
   "metadata": {},
   "outputs": [],
   "source": []
  },
  {
   "cell_type": "code",
   "execution_count": 20,
   "metadata": {},
   "outputs": [],
   "source": [
    "# CHECK FOR CORRELATIONS"
   ]
  },
  {
   "cell_type": "code",
   "execution_count": 21,
   "metadata": {},
   "outputs": [
    {
     "data": {
      "text/plain": [
       "average_stars         1.000000\n",
       "friend_count          0.045898\n",
       "review_count          0.039515\n",
       "fans                  0.019842\n",
       "useful                0.013068\n",
       "cool                  0.011531\n",
       "funny                 0.008409\n",
       "compliment_more       0.007841\n",
       "compliment_writer     0.007530\n",
       "compliment_funny      0.007124\n",
       "compliment_cool       0.007124\n",
       "compliment_plain      0.006428\n",
       "compliment_hot        0.005712\n",
       "compliment_cute       0.005623\n",
       "compliment_list       0.003813\n",
       "compliment_profile    0.003686\n",
       "compliment_photos     0.002995\n",
       "compliment_note       0.002512\n",
       "Name: average_stars, dtype: float64"
      ]
     },
     "execution_count": 21,
     "metadata": {},
     "output_type": "execute_result"
    }
   ],
   "source": [
    "# check for correlations with average_stars across all numeric features\n",
    "# There are no linear correlations \n",
    "abs(users.corr()['average_stars']).sort_values(ascending=False)"
   ]
  },
  {
   "cell_type": "code",
   "execution_count": 22,
   "metadata": {},
   "outputs": [
    {
     "data": {
      "text/plain": [
       "review_count          1.000000\n",
       "useful                0.658629\n",
       "fans                  0.615179\n",
       "cool                  0.565227\n",
       "funny                 0.528175\n",
       "friend_count          0.495302\n",
       "compliment_writer     0.312488\n",
       "compliment_cool       0.297670\n",
       "compliment_funny      0.297670\n",
       "compliment_plain      0.274330\n",
       "compliment_more       0.262602\n",
       "compliment_hot        0.248247\n",
       "compliment_cute       0.191986\n",
       "compliment_list       0.183908\n",
       "compliment_profile    0.152151\n",
       "compliment_note       0.117957\n",
       "compliment_photos     0.108047\n",
       "average_stars         0.039515\n",
       "Name: review_count, dtype: float64"
      ]
     },
     "execution_count": 22,
     "metadata": {},
     "output_type": "execute_result"
    }
   ],
   "source": [
    "# check for correlations with review count \n",
    "# Shows that people who write many reviews are likely to also have more friends and get more 'like' type responses\n",
    "abs(users.corr()['review_count']).sort_values(ascending=False)"
   ]
  },
  {
   "cell_type": "code",
   "execution_count": 23,
   "metadata": {},
   "outputs": [
    {
     "data": {
      "image/png": "[encoded data removed]",
      "text/plain": [
       "<Figure size 540x360 with 1 Axes>"
      ]
     },
     "metadata": {
      "needs_background": "light"
     },
     "output_type": "display_data"
    }
   ],
   "source": [
    "# Check visual correlation between 'review count' and 'friend_count'\n",
    "sns.lmplot(x='review_count', y='friend_count', data=users, aspect=1.5, scatter_kws={'alpha':0.2});"
   ]
  },
  {
   "cell_type": "code",
   "execution_count": 24,
   "metadata": {},
   "outputs": [
    {
     "data": {
      "text/plain": [
       "friend_count          1.000000\n",
       "fans                  0.737432\n",
       "useful                0.583478\n",
       "cool                  0.540154\n",
       "funny                 0.500719\n",
       "review_count          0.495302\n",
       "compliment_cool       0.417742\n",
       "compliment_funny      0.417742\n",
       "compliment_plain      0.411666\n",
       "compliment_writer     0.383638\n",
       "compliment_more       0.329397\n",
       "compliment_hot        0.327138\n",
       "compliment_cute       0.314171\n",
       "compliment_list       0.246368\n",
       "compliment_profile    0.224848\n",
       "compliment_photos     0.179746\n",
       "compliment_note       0.149539\n",
       "average_stars         0.045898\n",
       "Name: friend_count, dtype: float64"
      ]
     },
     "execution_count": 24,
     "metadata": {},
     "output_type": "execute_result"
    }
   ],
   "source": [
    "# now check correlations against count_of_friends\n",
    "# In turn a users friends are likely to click on some different types of 'likes' like features such as 'useful\n",
    "abs(users.corr()['friend_count']).sort_values(ascending=False)"
   ]
  },
  {
   "cell_type": "code",
   "execution_count": 25,
   "metadata": {},
   "outputs": [
    {
     "data": {
      "image/png": "[encoded data removed]",
      "text/plain": [
       "<Figure size 540x360 with 1 Axes>"
      ]
     },
     "metadata": {
      "needs_background": "light"
     },
     "output_type": "display_data"
    }
   ],
   "source": [
    "# Check visual correlation between 'fans' and 'friend_count'\n",
    "sns.lmplot(x='fans', y='friend_count', data=users, aspect=1.5, scatter_kws={'alpha':0.2});"
   ]
  },
  {
   "cell_type": "code",
   "execution_count": 26,
   "metadata": {},
   "outputs": [
    {
     "data": {
      "text/plain": [
       "useful                1.000000\n",
       "cool                  0.988102\n",
       "funny                 0.962441\n",
       "fans                  0.807983\n",
       "compliment_funny      0.774833\n",
       "compliment_cool       0.774833\n",
       "compliment_writer     0.755024\n",
       "compliment_plain      0.728204\n",
       "compliment_more       0.712050\n",
       "review_count          0.658629\n",
       "compliment_hot        0.640622\n",
       "compliment_cute       0.597813\n",
       "compliment_profile    0.590254\n",
       "friend_count          0.583478\n",
       "compliment_list       0.581239\n",
       "compliment_photos     0.555308\n",
       "compliment_note       0.320321\n",
       "average_stars         0.013068\n",
       "Name: useful, dtype: float64"
      ]
     },
     "execution_count": 26,
     "metadata": {},
     "output_type": "execute_result"
    }
   ],
   "source": [
    "# Now check correlations with 'useful' \n",
    "abs(users.corr()['useful']).sort_values(ascending=False)"
   ]
  },
  {
   "cell_type": "code",
   "execution_count": 27,
   "metadata": {},
   "outputs": [
    {
     "data": {
      "image/png": "[encoded data removed]",
      "text/plain": [
       "<Figure size 540x360 with 1 Axes>"
      ]
     },
     "metadata": {
      "needs_background": "light"
     },
     "output_type": "display_data"
    }
   ],
   "source": [
    "# Check correlation between 'useful' and 'cool'\n",
    "sns.lmplot(x='useful', y='cool', data=users[users['friend_count'] != 0], aspect=1.5, scatter_kws={'alpha':0.2});"
   ]
  },
  {
   "cell_type": "code",
   "execution_count": 28,
   "metadata": {},
   "outputs": [
    {
     "data": {
      "text/plain": [
       "user_id                      92622\n",
       "name                         92622\n",
       "review_count                 92619\n",
       "yelping_since                92622\n",
       "useful                       72658\n",
       "funny                        50914\n",
       "cool                         51576\n",
       "elite                        92622\n",
       "friends                      92622\n",
       "fans                         20789\n",
       "average_stars                92622\n",
       "compliment_hot                8900\n",
       "compliment_more              10442\n",
       "compliment_profile            3664\n",
       "compliment_cute               2538\n",
       "compliment_list               1401\n",
       "compliment_note              15713\n",
       "compliment_plain             16702\n",
       "compliment_cool              13885\n",
       "compliment_funny             13885\n",
       "compliment_writer            11062\n",
       "compliment_photos             6132\n",
       "elite_no_nan                  6233\n",
       "friend_count                 53180\n",
       "count_of_friends_segments    92622\n",
       "dtype: int64"
      ]
     },
     "execution_count": 28,
     "metadata": {},
     "output_type": "execute_result"
    }
   ],
   "source": [
    "# check for non zero values\n",
    "# particularly as it relates to 'useful'\n",
    "users.astype(bool).sum(axis=0)"
   ]
  },
  {
   "cell_type": "code",
   "execution_count": 29,
   "metadata": {},
   "outputs": [
    {
     "data": {
      "text/plain": [
       "0.038577995540752565"
      ]
     },
     "execution_count": 29,
     "metadata": {},
     "output_type": "execute_result"
    }
   ],
   "source": [
    "# Analysis to check how some the most highly correlated features to  'useful' where the data is driven via other users overlap \n",
    "# The feature 'useful' can to a large extent be used as a default indicator for other \"like\" type features\n",
    "\n",
    "# create a new dataframe \n",
    "overlap_with_useful = users\n",
    "\n",
    "# if 'useful' is not a zero return a 1 otherwise return a zero\n",
    "def function_a(z):\n",
    "    if z == 0:\n",
    "        return 0\n",
    "    else:\n",
    "        return 1\n",
    "overlap_with_useful['a'] = overlap_with_useful['useful'].apply(function_a)\n",
    "\n",
    "# if 'funny' is not a zero return a 1 otherwise return a zero\n",
    "def function_b(z):\n",
    "    if z == 0:\n",
    "        return 0\n",
    "    else:\n",
    "        return 1\n",
    "overlap_with_useful['b'] = overlap_with_useful['funny'].apply(function_b)\n",
    "\n",
    "# if 'cool' is not a zero return a 1 otherwise return a zero\n",
    "def function_c(z):\n",
    "    if z == 0:\n",
    "        return 0\n",
    "    else:\n",
    "        return 1\n",
    "overlap_with_useful['c'] = overlap_with_useful['cool'].apply(function_c)\n",
    "\n",
    "# if 'fans' is not a zero return a 1 otherwise return a zero\n",
    "def function_d(z):\n",
    "    if z == 0:\n",
    "        return 0\n",
    "    else:\n",
    "        return 1\n",
    "overlap_with_useful['d'] = overlap_with_useful['fans'].apply(function_d)\n",
    "\n",
    "# add up values for the newly added columns\n",
    "overlap_with_useful['sum'] = overlap_with_useful.a + overlap_with_useful.b + overlap_with_useful.c + overlap_with_useful.d\n",
    "# if the sum of the newly added columns return a zero else return a 1 in a new column\n",
    "def function_e(z):\n",
    "    if z == 0:\n",
    "        return 0\n",
    "    else:\n",
    "        return 1    \n",
    "overlap_with_useful['binary'] = overlap_with_useful['sum'].apply(function_e)\n",
    "\n",
    "# read result as saying only 4.7% more coverage coming from using these additional features\n",
    "(overlap_with_useful['binary'].sum() - overlap_with_useful['useful'].astype(bool).sum(axis=0)) / overlap_with_useful['useful'].astype(bool).sum(axis=0) "
   ]
  },
  {
   "cell_type": "code",
   "execution_count": 30,
   "metadata": {},
   "outputs": [
    {
     "data": {
      "text/plain": [
       "2.034371633210051"
      ]
     },
     "execution_count": 30,
     "metadata": {},
     "output_type": "execute_result"
    }
   ],
   "source": [
    "# average number of useful indicators per review\n",
    "users.useful.mean() / users.review_count.mean()"
   ]
  },
  {
   "cell_type": "code",
   "execution_count": 32,
   "metadata": {},
   "outputs": [
    {
     "data": {
      "text/plain": [
       "['user_id',\n",
       " 'name',\n",
       " 'review_count',\n",
       " 'yelping_since',\n",
       " 'useful',\n",
       " 'funny',\n",
       " 'cool',\n",
       " 'elite',\n",
       " 'friends',\n",
       " 'fans',\n",
       " 'average_stars',\n",
       " 'compliment_hot',\n",
       " 'compliment_more',\n",
       " 'compliment_profile',\n",
       " 'compliment_cute',\n",
       " 'compliment_list',\n",
       " 'compliment_note',\n",
       " 'compliment_plain',\n",
       " 'compliment_cool',\n",
       " 'compliment_funny',\n",
       " 'compliment_writer',\n",
       " 'compliment_photos',\n",
       " 'elite_no_nan',\n",
       " 'friend_count',\n",
       " 'count_of_friends_segments',\n",
       " 'a',\n",
       " 'b',\n",
       " 'c',\n",
       " 'd',\n",
       " 'sum',\n",
       " 'binary']"
      ]
     },
     "execution_count": 32,
     "metadata": {},
     "output_type": "execute_result"
    }
   ],
   "source": [
    "users.columns.tolist()"
   ]
  },
  {
   "cell_type": "code",
   "execution_count": 44,
   "metadata": {},
   "outputs": [
    {
     "data": {
      "text/html": [
       "<div>\n",
       "<style scoped>\n",
       "    .dataframe tbody tr th:only-of-type {\n",
       "        vertical-align: middle;\n",
       "    }\n",
       "\n",
       "    .dataframe tbody tr th {\n",
       "        vertical-align: top;\n",
       "    }\n",
       "\n",
       "    .dataframe thead th {\n",
       "        text-align: right;\n",
       "    }\n",
       "</style>\n",
       "<table border=\"1\" class=\"dataframe\">\n",
       "  <thead>\n",
       "    <tr style=\"text-align: right;\">\n",
       "      <th></th>\n",
       "      <th>review_count</th>\n",
       "      <th>useful</th>\n",
       "      <th>fans</th>\n",
       "      <th>cool</th>\n",
       "      <th>funny</th>\n",
       "      <th>friend_count</th>\n",
       "    </tr>\n",
       "  </thead>\n",
       "  <tbody>\n",
       "    <tr>\n",
       "      <td>review_count</td>\n",
       "      <td>1.000000</td>\n",
       "      <td>0.658629</td>\n",
       "      <td>0.615179</td>\n",
       "      <td>0.565227</td>\n",
       "      <td>0.528175</td>\n",
       "      <td>0.495302</td>\n",
       "    </tr>\n",
       "    <tr>\n",
       "      <td>useful</td>\n",
       "      <td>0.658629</td>\n",
       "      <td>1.000000</td>\n",
       "      <td>0.807983</td>\n",
       "      <td>0.988102</td>\n",
       "      <td>0.962441</td>\n",
       "      <td>0.583478</td>\n",
       "    </tr>\n",
       "    <tr>\n",
       "      <td>fans</td>\n",
       "      <td>0.615179</td>\n",
       "      <td>0.807983</td>\n",
       "      <td>1.000000</td>\n",
       "      <td>0.764727</td>\n",
       "      <td>0.736715</td>\n",
       "      <td>0.737432</td>\n",
       "    </tr>\n",
       "    <tr>\n",
       "      <td>cool</td>\n",
       "      <td>0.565227</td>\n",
       "      <td>0.988102</td>\n",
       "      <td>0.764727</td>\n",
       "      <td>1.000000</td>\n",
       "      <td>0.981408</td>\n",
       "      <td>0.540154</td>\n",
       "    </tr>\n",
       "    <tr>\n",
       "      <td>funny</td>\n",
       "      <td>0.528175</td>\n",
       "      <td>0.962441</td>\n",
       "      <td>0.736715</td>\n",
       "      <td>0.981408</td>\n",
       "      <td>1.000000</td>\n",
       "      <td>0.500719</td>\n",
       "    </tr>\n",
       "    <tr>\n",
       "      <td>friend_count</td>\n",
       "      <td>0.495302</td>\n",
       "      <td>0.583478</td>\n",
       "      <td>0.737432</td>\n",
       "      <td>0.540154</td>\n",
       "      <td>0.500719</td>\n",
       "      <td>1.000000</td>\n",
       "    </tr>\n",
       "  </tbody>\n",
       "</table>\n",
       "</div>"
      ],
      "text/plain": [
       "              review_count    useful      fans      cool     funny  \\\n",
       "review_count      1.000000  0.658629  0.615179  0.565227  0.528175   \n",
       "useful            0.658629  1.000000  0.807983  0.988102  0.962441   \n",
       "fans              0.615179  0.807983  1.000000  0.764727  0.736715   \n",
       "cool              0.565227  0.988102  0.764727  1.000000  0.981408   \n",
       "funny             0.528175  0.962441  0.736715  0.981408  1.000000   \n",
       "friend_count      0.495302  0.583478  0.737432  0.540154  0.500719   \n",
       "\n",
       "              friend_count  \n",
       "review_count      0.495302  \n",
       "useful            0.583478  \n",
       "fans              0.737432  \n",
       "cool              0.540154  \n",
       "funny             0.500719  \n",
       "friend_count      1.000000  "
      ]
     },
     "execution_count": 44,
     "metadata": {},
     "output_type": "execute_result"
    }
   ],
   "source": [
    "social = users[['review_count','useful', 'fans', 'cool', 'funny', 'friend_count']]\n",
    "social.corr()\n"
   ]
  },
  {
   "cell_type": "code",
   "execution_count": 48,
   "metadata": {},
   "outputs": [
    {
     "data": {
      "text/plain": [
       "<matplotlib.axes._subplots.AxesSubplot at 0x1a2a5c3150>"
      ]
     },
     "execution_count": 48,
     "metadata": {},
     "output_type": "execute_result"
    },
    {
     "data": {
      "image/png": "[encoded data removed]",
      "text/plain": [
       "<Figure size 432x288 with 2 Axes>"
      ]
     },
     "metadata": {
      "needs_background": "light"
     },
     "output_type": "display_data"
    }
   ],
   "source": [
    "sns.set_palette(\"coolwarm\", 7)\n",
    "sns.heatmap(social.corr(), vmin=-1, vmax=1) "
   ]
  },
  {
   "cell_type": "code",
   "execution_count": null,
   "metadata": {},
   "outputs": [],
   "source": []
  },
  {
   "cell_type": "code",
   "execution_count": 50,
   "metadata": {},
   "outputs": [],
   "source": [
    "# Check the role of Elite reviewers"
   ]
  },
  {
   "cell_type": "code",
   "execution_count": 66,
   "metadata": {},
   "outputs": [
    {
     "data": {
      "text/plain": [
       "0.06729502709939324"
      ]
     },
     "execution_count": 66,
     "metadata": {},
     "output_type": "execute_result"
    }
   ],
   "source": [
    "# elite make up 4.5% of users \n",
    "elite = users[users.elite_no_nan != 0]\n",
    "len(elite)/ len(users)"
   ]
  },
  {
   "cell_type": "code",
   "execution_count": 67,
   "metadata": {},
   "outputs": [
    {
     "data": {
      "text/plain": [
       "0.5750480744244062"
      ]
     },
     "execution_count": 67,
     "metadata": {},
     "output_type": "execute_result"
    }
   ],
   "source": [
    "# elite generate 47% of the reviews\n",
    "elite.review_count.sum() / users.review_count.sum()"
   ]
  },
  {
   "cell_type": "code",
   "execution_count": 68,
   "metadata": {},
   "outputs": [
    {
     "data": {
      "text/plain": [
       "0.7828097179200151"
      ]
     },
     "execution_count": 68,
     "metadata": {},
     "output_type": "execute_result"
    }
   ],
   "source": [
    "# elite generate 73% of all useful 'likes'\n",
    "elite.useful.sum() / users.useful.sum()"
   ]
  },
  {
   "cell_type": "code",
   "execution_count": 69,
   "metadata": {},
   "outputs": [
    {
     "data": {
      "text/plain": [
       "2.7693786922626904"
      ]
     },
     "execution_count": 69,
     "metadata": {},
     "output_type": "execute_result"
    }
   ],
   "source": [
    "# elite generate close to three useful indicators for each review they write\n",
    "elite.useful.mean() / elite.review_count.mean()"
   ]
  },
  {
   "cell_type": "code",
   "execution_count": 70,
   "metadata": {},
   "outputs": [
    {
     "data": {
      "text/plain": [
       "1.0397546693639155"
      ]
     },
     "execution_count": 70,
     "metadata": {},
     "output_type": "execute_result"
    }
   ],
   "source": [
    "# versus close to an average of 1 for non elite\n",
    "users[users.elite_no_nan == 0].useful.mean() / users[users.elite_no_nan == 0].review_count.mean()"
   ]
  },
  {
   "cell_type": "code",
   "execution_count": 71,
   "metadata": {},
   "outputs": [
    {
     "data": {
      "text/plain": [
       "0.34471130025897845"
      ]
     },
     "execution_count": 71,
     "metadata": {},
     "output_type": "execute_result"
    }
   ],
   "source": [
    "# elite have 25% of all friends\n",
    "elite.friend_count.sum() / users.friend_count.sum()"
   ]
  },
  {
   "cell_type": "code",
   "execution_count": 77,
   "metadata": {},
   "outputs": [
    {
     "data": {
      "text/html": [
       "<div>\n",
       "<style scoped>\n",
       "    .dataframe tbody tr th:only-of-type {\n",
       "        vertical-align: middle;\n",
       "    }\n",
       "\n",
       "    .dataframe tbody tr th {\n",
       "        vertical-align: top;\n",
       "    }\n",
       "\n",
       "    .dataframe thead th {\n",
       "        text-align: right;\n",
       "    }\n",
       "</style>\n",
       "<table border=\"1\" class=\"dataframe\">\n",
       "  <thead>\n",
       "    <tr style=\"text-align: right;\">\n",
       "      <th></th>\n",
       "      <th>review_count</th>\n",
       "      <th>useful</th>\n",
       "      <th>fans</th>\n",
       "      <th>cool</th>\n",
       "      <th>funny</th>\n",
       "      <th>friend_count</th>\n",
       "    </tr>\n",
       "  </thead>\n",
       "  <tbody>\n",
       "    <tr>\n",
       "      <td>review_count</td>\n",
       "      <td>1.000000</td>\n",
       "      <td>0.667409</td>\n",
       "      <td>0.596465</td>\n",
       "      <td>0.586455</td>\n",
       "      <td>0.547296</td>\n",
       "      <td>0.482017</td>\n",
       "    </tr>\n",
       "    <tr>\n",
       "      <td>useful</td>\n",
       "      <td>0.667409</td>\n",
       "      <td>1.000000</td>\n",
       "      <td>0.799057</td>\n",
       "      <td>0.989931</td>\n",
       "      <td>0.964219</td>\n",
       "      <td>0.632391</td>\n",
       "    </tr>\n",
       "    <tr>\n",
       "      <td>fans</td>\n",
       "      <td>0.596465</td>\n",
       "      <td>0.799057</td>\n",
       "      <td>1.000000</td>\n",
       "      <td>0.760393</td>\n",
       "      <td>0.733286</td>\n",
       "      <td>0.815480</td>\n",
       "    </tr>\n",
       "    <tr>\n",
       "      <td>cool</td>\n",
       "      <td>0.586455</td>\n",
       "      <td>0.989931</td>\n",
       "      <td>0.760393</td>\n",
       "      <td>1.000000</td>\n",
       "      <td>0.981360</td>\n",
       "      <td>0.592533</td>\n",
       "    </tr>\n",
       "    <tr>\n",
       "      <td>funny</td>\n",
       "      <td>0.547296</td>\n",
       "      <td>0.964219</td>\n",
       "      <td>0.733286</td>\n",
       "      <td>0.981360</td>\n",
       "      <td>1.000000</td>\n",
       "      <td>0.549311</td>\n",
       "    </tr>\n",
       "    <tr>\n",
       "      <td>friend_count</td>\n",
       "      <td>0.482017</td>\n",
       "      <td>0.632391</td>\n",
       "      <td>0.815480</td>\n",
       "      <td>0.592533</td>\n",
       "      <td>0.549311</td>\n",
       "      <td>1.000000</td>\n",
       "    </tr>\n",
       "  </tbody>\n",
       "</table>\n",
       "</div>"
      ],
      "text/plain": [
       "              review_count    useful      fans      cool     funny  \\\n",
       "review_count      1.000000  0.667409  0.596465  0.586455  0.547296   \n",
       "useful            0.667409  1.000000  0.799057  0.989931  0.964219   \n",
       "fans              0.596465  0.799057  1.000000  0.760393  0.733286   \n",
       "cool              0.586455  0.989931  0.760393  1.000000  0.981360   \n",
       "funny             0.547296  0.964219  0.733286  0.981360  1.000000   \n",
       "friend_count      0.482017  0.632391  0.815480  0.592533  0.549311   \n",
       "\n",
       "              friend_count  \n",
       "review_count      0.482017  \n",
       "useful            0.632391  \n",
       "fans              0.815480  \n",
       "cool              0.592533  \n",
       "funny             0.549311  \n",
       "friend_count      1.000000  "
      ]
     },
     "execution_count": 77,
     "metadata": {},
     "output_type": "execute_result"
    }
   ],
   "source": [
    "elite_social = elite[['review_count','useful', 'fans', 'cool', 'funny', 'friend_count']]\n",
    "elite_social.corr()"
   ]
  },
  {
   "cell_type": "code",
   "execution_count": 78,
   "metadata": {},
   "outputs": [
    {
     "data": {
      "image/png": "[encoded data removed]",
      "text/plain": [
       "<Figure size 540x360 with 1 Axes>"
      ]
     },
     "metadata": {
      "needs_background": "light"
     },
     "output_type": "display_data"
    }
   ],
   "source": [
    "# Check visual correlation between 'review count' and 'friend_count'\n",
    "sns.lmplot(x='review_count', y='friend_count', data=elite_social, aspect=1.5, scatter_kws={'alpha':0.2});"
   ]
  },
  {
   "cell_type": "code",
   "execution_count": 65,
   "metadata": {},
   "outputs": [
    {
     "data": {
      "text/html": [
       "<div>\n",
       "<style scoped>\n",
       "    .dataframe tbody tr th:only-of-type {\n",
       "        vertical-align: middle;\n",
       "    }\n",
       "\n",
       "    .dataframe tbody tr th {\n",
       "        vertical-align: top;\n",
       "    }\n",
       "\n",
       "    .dataframe thead th {\n",
       "        text-align: right;\n",
       "    }\n",
       "</style>\n",
       "<table border=\"1\" class=\"dataframe\">\n",
       "  <thead>\n",
       "    <tr style=\"text-align: right;\">\n",
       "      <th></th>\n",
       "      <th>review_count</th>\n",
       "      <th>useful</th>\n",
       "      <th>fans</th>\n",
       "      <th>cool</th>\n",
       "      <th>funny</th>\n",
       "      <th>friend_count</th>\n",
       "    </tr>\n",
       "  </thead>\n",
       "  <tbody>\n",
       "    <tr>\n",
       "      <td>review_count</td>\n",
       "      <td>1.000000</td>\n",
       "      <td>0.658629</td>\n",
       "      <td>0.615179</td>\n",
       "      <td>0.565227</td>\n",
       "      <td>0.528175</td>\n",
       "      <td>0.495302</td>\n",
       "    </tr>\n",
       "    <tr>\n",
       "      <td>useful</td>\n",
       "      <td>0.658629</td>\n",
       "      <td>1.000000</td>\n",
       "      <td>0.807983</td>\n",
       "      <td>0.988102</td>\n",
       "      <td>0.962441</td>\n",
       "      <td>0.583478</td>\n",
       "    </tr>\n",
       "    <tr>\n",
       "      <td>fans</td>\n",
       "      <td>0.615179</td>\n",
       "      <td>0.807983</td>\n",
       "      <td>1.000000</td>\n",
       "      <td>0.764727</td>\n",
       "      <td>0.736715</td>\n",
       "      <td>0.737432</td>\n",
       "    </tr>\n",
       "    <tr>\n",
       "      <td>cool</td>\n",
       "      <td>0.565227</td>\n",
       "      <td>0.988102</td>\n",
       "      <td>0.764727</td>\n",
       "      <td>1.000000</td>\n",
       "      <td>0.981408</td>\n",
       "      <td>0.540154</td>\n",
       "    </tr>\n",
       "    <tr>\n",
       "      <td>funny</td>\n",
       "      <td>0.528175</td>\n",
       "      <td>0.962441</td>\n",
       "      <td>0.736715</td>\n",
       "      <td>0.981408</td>\n",
       "      <td>1.000000</td>\n",
       "      <td>0.500719</td>\n",
       "    </tr>\n",
       "    <tr>\n",
       "      <td>friend_count</td>\n",
       "      <td>0.495302</td>\n",
       "      <td>0.583478</td>\n",
       "      <td>0.737432</td>\n",
       "      <td>0.540154</td>\n",
       "      <td>0.500719</td>\n",
       "      <td>1.000000</td>\n",
       "    </tr>\n",
       "  </tbody>\n",
       "</table>\n",
       "</div>"
      ],
      "text/plain": [
       "              review_count    useful      fans      cool     funny  \\\n",
       "review_count      1.000000  0.658629  0.615179  0.565227  0.528175   \n",
       "useful            0.658629  1.000000  0.807983  0.988102  0.962441   \n",
       "fans              0.615179  0.807983  1.000000  0.764727  0.736715   \n",
       "cool              0.565227  0.988102  0.764727  1.000000  0.981408   \n",
       "funny             0.528175  0.962441  0.736715  0.981408  1.000000   \n",
       "friend_count      0.495302  0.583478  0.737432  0.540154  0.500719   \n",
       "\n",
       "              friend_count  \n",
       "review_count      0.495302  \n",
       "useful            0.583478  \n",
       "fans              0.737432  \n",
       "cool              0.540154  \n",
       "funny             0.500719  \n",
       "friend_count      1.000000  "
      ]
     },
     "execution_count": 65,
     "metadata": {},
     "output_type": "execute_result"
    }
   ],
   "source": [
    "social.corr()"
   ]
  },
  {
   "cell_type": "code",
   "execution_count": 76,
   "metadata": {},
   "outputs": [
    {
     "data": {
      "image/png": "[encoded data removed]",
      "text/plain": [
       "<Figure size 540x360 with 1 Axes>"
      ]
     },
     "metadata": {
      "needs_background": "light"
     },
     "output_type": "display_data"
    }
   ],
   "source": [
    "# Check visual correlation between 'review count' and 'friend_count'\n",
    "sns.lmplot(x='review_count', y='fans', data=social, aspect=1.5, scatter_kws={'alpha':0.2});"
   ]
  },
  {
   "cell_type": "code",
   "execution_count": 60,
   "metadata": {},
   "outputs": [
    {
     "data": {
      "text/plain": [
       "92622"
      ]
     },
     "execution_count": 60,
     "metadata": {},
     "output_type": "execute_result"
    }
   ],
   "source": [
    "len(social)"
   ]
  },
  {
   "cell_type": "code",
   "execution_count": 61,
   "metadata": {},
   "outputs": [
    {
     "data": {
      "text/plain": [
       "6233"
      ]
     },
     "execution_count": 61,
     "metadata": {},
     "output_type": "execute_result"
    }
   ],
   "source": [
    "len(elite)"
   ]
  },
  {
   "cell_type": "code",
   "execution_count": null,
   "metadata": {},
   "outputs": [],
   "source": []
  }
 ],
 "metadata": {
  "kernelspec": {
   "display_name": "Python 3",
   "language": "python",
   "name": "python3"
  },
  "language_info": {
   "codemirror_mode": {
    "name": "ipython",
    "version": 3
   },
   "file_extension": ".py",
   "mimetype": "text/x-python",
   "name": "python",
   "nbconvert_exporter": "python",
   "pygments_lexer": "ipython3",
   "version": "3.7.4"
  }
 },
 "nbformat": 4,
 "nbformat_minor": 2
}
