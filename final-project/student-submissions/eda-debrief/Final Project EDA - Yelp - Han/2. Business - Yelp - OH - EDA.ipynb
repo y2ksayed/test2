{
 "cells": [
  {
   "cell_type": "code",
   "execution_count": 1,
   "metadata": {},
   "outputs": [],
   "source": [
    "# PURPOSE OF NOTEBOOK\n",
    "# Explore the potential of business level data for extraploting predicaitons of a business star rating.  "
   ]
  },
  {
   "cell_type": "code",
   "execution_count": 2,
   "metadata": {},
   "outputs": [],
   "source": [
    "import pandas as pd\n",
    "import numpy as np\n",
    "import seaborn as sns\n",
    "\n",
    "import matplotlib.pyplot as plt\n",
    "%matplotlib inline\n",
    "# Increase default figure and font sizes for easier viewing.\n",
    "plt.rcParams['figure.figsize'] = (8, 6)\n",
    "plt.rcParams['font.size'] = 14"
   ]
  },
  {
   "cell_type": "code",
   "execution_count": 3,
   "metadata": {},
   "outputs": [],
   "source": [
    "# Import in only those rows from Yelp's business.json file than have: \n",
    "# 'OH' as the state  \n",
    "business = pd.read_csv('./business_oh.csv')"
   ]
  },
  {
   "cell_type": "code",
   "execution_count": 4,
   "metadata": {},
   "outputs": [
    {
     "data": {
      "text/plain": [
       "(14697, 14)"
      ]
     },
     "execution_count": 4,
     "metadata": {},
     "output_type": "execute_result"
    }
   ],
   "source": [
    "# check the shape\n",
    "business.shape"
   ]
  },
  {
   "cell_type": "code",
   "execution_count": 5,
   "metadata": {},
   "outputs": [
    {
     "data": {
      "text/html": [
       "<div>\n",
       "<style scoped>\n",
       "    .dataframe tbody tr th:only-of-type {\n",
       "        vertical-align: middle;\n",
       "    }\n",
       "\n",
       "    .dataframe tbody tr th {\n",
       "        vertical-align: top;\n",
       "    }\n",
       "\n",
       "    .dataframe thead th {\n",
       "        text-align: right;\n",
       "    }\n",
       "</style>\n",
       "<table border=\"1\" class=\"dataframe\">\n",
       "  <thead>\n",
       "    <tr style=\"text-align: right;\">\n",
       "      <th></th>\n",
       "      <th>business_id</th>\n",
       "      <th>name</th>\n",
       "      <th>address</th>\n",
       "      <th>city</th>\n",
       "      <th>state</th>\n",
       "      <th>postal_code</th>\n",
       "      <th>latitude</th>\n",
       "      <th>longitude</th>\n",
       "      <th>stars</th>\n",
       "      <th>review_count</th>\n",
       "      <th>is_open</th>\n",
       "      <th>attributes</th>\n",
       "      <th>categories</th>\n",
       "      <th>hours</th>\n",
       "    </tr>\n",
       "  </thead>\n",
       "  <tbody>\n",
       "    <tr>\n",
       "      <td>0</td>\n",
       "      <td>4GBVPIYRvzGh4K4TkRQ_rw</td>\n",
       "      <td>Options Salon &amp; Spa</td>\n",
       "      <td>21689 Lorain Rd</td>\n",
       "      <td>Fairview Park</td>\n",
       "      <td>OH</td>\n",
       "      <td>44126</td>\n",
       "      <td>41.440825</td>\n",
       "      <td>-81.854097</td>\n",
       "      <td>4.5</td>\n",
       "      <td>8</td>\n",
       "      <td>1</td>\n",
       "      <td>{'ByAppointmentOnly': 'False', 'BusinessAccept...</td>\n",
       "      <td>Beauty &amp; Spas, Nail Salons, Day Spas, Massage</td>\n",
       "      <td>{'Tuesday': '9:0-21:0', 'Wednesday': '9:0-21:0...</td>\n",
       "    </tr>\n",
       "  </tbody>\n",
       "</table>\n",
       "</div>"
      ],
      "text/plain": [
       "              business_id                 name          address  \\\n",
       "0  4GBVPIYRvzGh4K4TkRQ_rw  Options Salon & Spa  21689 Lorain Rd   \n",
       "\n",
       "            city state postal_code   latitude  longitude  stars  review_count  \\\n",
       "0  Fairview Park    OH       44126  41.440825 -81.854097    4.5             8   \n",
       "\n",
       "   is_open                                         attributes  \\\n",
       "0        1  {'ByAppointmentOnly': 'False', 'BusinessAccept...   \n",
       "\n",
       "                                      categories  \\\n",
       "0  Beauty & Spas, Nail Salons, Day Spas, Massage   \n",
       "\n",
       "                                               hours  \n",
       "0  {'Tuesday': '9:0-21:0', 'Wednesday': '9:0-21:0...  "
      ]
     },
     "execution_count": 5,
     "metadata": {},
     "output_type": "execute_result"
    }
   ],
   "source": [
    "# check the head\n",
    "business.head(1)"
   ]
  },
  {
   "cell_type": "code",
   "execution_count": null,
   "metadata": {},
   "outputs": [],
   "source": []
  },
  {
   "cell_type": "code",
   "execution_count": 6,
   "metadata": {},
   "outputs": [],
   "source": [
    "# INITIAL DATA CLEAN"
   ]
  },
  {
   "cell_type": "code",
   "execution_count": 7,
   "metadata": {},
   "outputs": [
    {
     "data": {
      "text/plain": [
       "business_id      object\n",
       "name             object\n",
       "address          object\n",
       "city             object\n",
       "state            object\n",
       "postal_code      object\n",
       "latitude        float64\n",
       "longitude       float64\n",
       "stars           float64\n",
       "review_count      int64\n",
       "is_open           int64\n",
       "attributes       object\n",
       "categories       object\n",
       "hours            object\n",
       "dtype: object"
      ]
     },
     "execution_count": 7,
     "metadata": {},
     "output_type": "execute_result"
    }
   ],
   "source": [
    "# check data types\n",
    "business.dtypes"
   ]
  },
  {
   "cell_type": "code",
   "execution_count": 8,
   "metadata": {},
   "outputs": [
    {
     "data": {
      "text/plain": [
       "business_id        0\n",
       "name               0\n",
       "address          253\n",
       "city               0\n",
       "state              0\n",
       "postal_code       20\n",
       "latitude           0\n",
       "longitude          0\n",
       "stars              0\n",
       "review_count       0\n",
       "is_open            0\n",
       "attributes      2094\n",
       "categories        32\n",
       "hours           3552\n",
       "dtype: int64"
      ]
     },
     "execution_count": 8,
     "metadata": {},
     "output_type": "execute_result"
    }
   ],
   "source": [
    "# check for null values\n",
    "business.isnull().sum()"
   ]
  },
  {
   "cell_type": "code",
   "execution_count": 9,
   "metadata": {},
   "outputs": [
    {
     "data": {
      "text/plain": [
       "business_id     14697\n",
       "name            14697\n",
       "address         14697\n",
       "city            14697\n",
       "state           14697\n",
       "postal_code     14697\n",
       "latitude        14697\n",
       "longitude       14697\n",
       "stars           14697\n",
       "review_count    14697\n",
       "is_open         12546\n",
       "attributes      14697\n",
       "categories      14697\n",
       "hours           14697\n",
       "dtype: int64"
      ]
     },
     "execution_count": 9,
     "metadata": {},
     "output_type": "execute_result"
    }
   ],
   "source": [
    "# check for zero values\n",
    "business.astype(bool).sum(axis=0)"
   ]
  },
  {
   "cell_type": "code",
   "execution_count": 10,
   "metadata": {},
   "outputs": [],
   "source": [
    "# Turn post_code from a float into a string and make a it a new column and fill nan as 0\n",
    "business['postal_code_str'] = business.postal_code.astype(str)\n",
    "business['postal_code_str'] = business['postal_code_str'].map(lambda x: x.rstrip('.0'))\n",
    "business['postal_code_str'].fillna(0, inplace=True)"
   ]
  },
  {
   "cell_type": "code",
   "execution_count": null,
   "metadata": {},
   "outputs": [],
   "source": []
  },
  {
   "cell_type": "code",
   "execution_count": 11,
   "metadata": {},
   "outputs": [],
   "source": [
    "# OVERVIEW OF STAR RATINGS "
   ]
  },
  {
   "cell_type": "code",
   "execution_count": 12,
   "metadata": {},
   "outputs": [
    {
     "name": "stdout",
     "output_type": "stream",
     "text": [
      "1.0\n",
      "5.0\n",
      "3.5\n"
     ]
    }
   ],
   "source": [
    "# Reminder on stars \n",
    "print(business.stars.min())\n",
    "print(business.stars.max())\n",
    "print(business.stars.min()+ business.stars.max() / 2)"
   ]
  },
  {
   "cell_type": "code",
   "execution_count": 13,
   "metadata": {},
   "outputs": [
    {
     "name": "stdout",
     "output_type": "stream",
     "text": [
      "3.5053412261005645\n",
      "1.0124037052992139\n"
     ]
    }
   ],
   "source": [
    "# Average star ratings of businesses skew slightly lower\n",
    "print(business.stars.mean())\n",
    "print(business.stars.std())"
   ]
  },
  {
   "cell_type": "code",
   "execution_count": 14,
   "metadata": {},
   "outputs": [
    {
     "data": {
      "image/png": "[encoded data removed]",
      "text/plain": [
       "<Figure size 432x288 with 1 Axes>"
      ]
     },
     "metadata": {
      "needs_background": "light"
     },
     "output_type": "display_data"
    }
   ],
   "source": [
    "# Skew can be seen graphically\n",
    "business.stars.plot(kind='hist', bins=25, title= 'Freq. of av. star ratings for businesses in OH');"
   ]
  },
  {
   "cell_type": "code",
   "execution_count": 15,
   "metadata": {},
   "outputs": [
    {
     "data": {
      "image/png": "[encoded data removed]",
      "text/plain": [
       "<Figure size 432x288 with 1 Axes>"
      ]
     },
     "metadata": {
      "needs_background": "light"
     },
     "output_type": "display_data"
    }
   ],
   "source": [
    "# To just above the mean star ratings, in general businesses that have higher star ratings tend to have received more reviews\n",
    "business.plot(kind='scatter', x='review_count', y='stars', alpha=0.3);"
   ]
  },
  {
   "cell_type": "code",
   "execution_count": null,
   "metadata": {},
   "outputs": [],
   "source": []
  },
  {
   "cell_type": "code",
   "execution_count": 16,
   "metadata": {},
   "outputs": [],
   "source": [
    "# CORRELATION BETWEEN REVIEW COUNT FOR A BUSINESS AND AVERAGE RATING "
   ]
  },
  {
   "cell_type": "code",
   "execution_count": 17,
   "metadata": {},
   "outputs": [
    {
     "data": {
      "text/plain": [
       "310545"
      ]
     },
     "execution_count": 17,
     "metadata": {},
     "output_type": "execute_result"
    }
   ],
   "source": [
    "# total number of reviews\n",
    "business.review_count.sum()"
   ]
  },
  {
   "cell_type": "code",
   "execution_count": 18,
   "metadata": {},
   "outputs": [
    {
     "data": {
      "text/plain": [
       "count    14697.000000\n",
       "mean        21.129822\n",
       "std         47.140053\n",
       "min          3.000000\n",
       "25%          4.000000\n",
       "50%          7.000000\n",
       "75%         18.000000\n",
       "max       1074.000000\n",
       "Name: review_count, dtype: float64"
      ]
     },
     "execution_count": 18,
     "metadata": {},
     "output_type": "execute_result"
    }
   ],
   "source": [
    "# Get data description of review count \n",
    "business.review_count.describe()"
   ]
  },
  {
   "cell_type": "code",
   "execution_count": 19,
   "metadata": {},
   "outputs": [
    {
     "data": {
      "text/html": [
       "<div>\n",
       "<style scoped>\n",
       "    .dataframe tbody tr th:only-of-type {\n",
       "        vertical-align: middle;\n",
       "    }\n",
       "\n",
       "    .dataframe tbody tr th {\n",
       "        vertical-align: top;\n",
       "    }\n",
       "\n",
       "    .dataframe thead th {\n",
       "        text-align: right;\n",
       "    }\n",
       "</style>\n",
       "<table border=\"1\" class=\"dataframe\">\n",
       "  <thead>\n",
       "    <tr style=\"text-align: right;\">\n",
       "      <th></th>\n",
       "      <th>review_count_for_biz</th>\n",
       "      <th>freq_of_businesses</th>\n",
       "      <th>average_rating</th>\n",
       "    </tr>\n",
       "  </thead>\n",
       "  <tbody>\n",
       "    <tr>\n",
       "      <td>0</td>\n",
       "      <td>3</td>\n",
       "      <td>3265</td>\n",
       "      <td>3.405054</td>\n",
       "    </tr>\n",
       "    <tr>\n",
       "      <td>1</td>\n",
       "      <td>4</td>\n",
       "      <td>1632</td>\n",
       "      <td>3.465380</td>\n",
       "    </tr>\n",
       "    <tr>\n",
       "      <td>2</td>\n",
       "      <td>5</td>\n",
       "      <td>1094</td>\n",
       "      <td>3.523309</td>\n",
       "    </tr>\n",
       "    <tr>\n",
       "      <td>3</td>\n",
       "      <td>6</td>\n",
       "      <td>894</td>\n",
       "      <td>3.519575</td>\n",
       "    </tr>\n",
       "    <tr>\n",
       "      <td>4</td>\n",
       "      <td>7</td>\n",
       "      <td>683</td>\n",
       "      <td>3.537335</td>\n",
       "    </tr>\n",
       "    <tr>\n",
       "      <td>...</td>\n",
       "      <td>...</td>\n",
       "      <td>...</td>\n",
       "      <td>...</td>\n",
       "    </tr>\n",
       "    <tr>\n",
       "      <td>300</td>\n",
       "      <td>879</td>\n",
       "      <td>1</td>\n",
       "      <td>4.000000</td>\n",
       "    </tr>\n",
       "    <tr>\n",
       "      <td>301</td>\n",
       "      <td>932</td>\n",
       "      <td>1</td>\n",
       "      <td>4.500000</td>\n",
       "    </tr>\n",
       "    <tr>\n",
       "      <td>302</td>\n",
       "      <td>1005</td>\n",
       "      <td>1</td>\n",
       "      <td>3.500000</td>\n",
       "    </tr>\n",
       "    <tr>\n",
       "      <td>303</td>\n",
       "      <td>1006</td>\n",
       "      <td>1</td>\n",
       "      <td>4.000000</td>\n",
       "    </tr>\n",
       "    <tr>\n",
       "      <td>304</td>\n",
       "      <td>1074</td>\n",
       "      <td>1</td>\n",
       "      <td>4.000000</td>\n",
       "    </tr>\n",
       "  </tbody>\n",
       "</table>\n",
       "<p>305 rows × 3 columns</p>\n",
       "</div>"
      ],
      "text/plain": [
       "     review_count_for_biz  freq_of_businesses  average_rating\n",
       "0                       3                3265        3.405054\n",
       "1                       4                1632        3.465380\n",
       "2                       5                1094        3.523309\n",
       "3                       6                 894        3.519575\n",
       "4                       7                 683        3.537335\n",
       "..                    ...                 ...             ...\n",
       "300                   879                   1        4.000000\n",
       "301                   932                   1        4.500000\n",
       "302                  1005                   1        3.500000\n",
       "303                  1006                   1        4.000000\n",
       "304                  1074                   1        4.000000\n",
       "\n",
       "[305 rows x 3 columns]"
      ]
     },
     "execution_count": 19,
     "metadata": {},
     "output_type": "execute_result"
    }
   ],
   "source": [
    "# Creeate a dataframe to map the freq and ratings of different values of total reviews for businesses\n",
    "business_review_count = pd.concat([business.review_count.value_counts(), business.groupby('review_count').stars.mean()], axis=1)\n",
    "business_review_count.reset_index(level=0, inplace=True)\n",
    "business_review_count.columns = ['review_count_for_biz', 'freq_of_businesses', 'average_rating']\n",
    "business_review_count"
   ]
  },
  {
   "cell_type": "code",
   "execution_count": 20,
   "metadata": {},
   "outputs": [
    {
     "data": {
      "text/plain": [
       "305"
      ]
     },
     "execution_count": 20,
     "metadata": {},
     "output_type": "execute_result"
    }
   ],
   "source": [
    "business_review_count.iloc[9,1]"
   ]
  },
  {
   "cell_type": "code",
   "execution_count": 21,
   "metadata": {},
   "outputs": [
    {
     "data": {
      "text/plain": [
       "10.704918032786885"
      ]
     },
     "execution_count": 21,
     "metadata": {},
     "output_type": "execute_result"
    }
   ],
   "source": [
    "business_review_count.iloc[0,1] / len(business_review_count)"
   ]
  },
  {
   "cell_type": "code",
   "execution_count": 22,
   "metadata": {},
   "outputs": [],
   "source": [
    "business_3_reviews = business[business.review_count == 3]"
   ]
  },
  {
   "cell_type": "code",
   "execution_count": null,
   "metadata": {},
   "outputs": [],
   "source": []
  },
  {
   "cell_type": "code",
   "execution_count": 23,
   "metadata": {},
   "outputs": [
    {
     "data": {
      "text/html": [
       "<div>\n",
       "<style scoped>\n",
       "    .dataframe tbody tr th:only-of-type {\n",
       "        vertical-align: middle;\n",
       "    }\n",
       "\n",
       "    .dataframe tbody tr th {\n",
       "        vertical-align: top;\n",
       "    }\n",
       "\n",
       "    .dataframe thead th {\n",
       "        text-align: right;\n",
       "    }\n",
       "</style>\n",
       "<table border=\"1\" class=\"dataframe\">\n",
       "  <thead>\n",
       "    <tr style=\"text-align: right;\">\n",
       "      <th></th>\n",
       "      <th>review_count_for_biz</th>\n",
       "      <th>freq_of_businesses</th>\n",
       "      <th>average_rating</th>\n",
       "    </tr>\n",
       "  </thead>\n",
       "  <tbody>\n",
       "    <tr>\n",
       "      <td>review_count_for_biz</td>\n",
       "      <td>1.00000</td>\n",
       "      <td>-0.203260</td>\n",
       "      <td>0.291400</td>\n",
       "    </tr>\n",
       "    <tr>\n",
       "      <td>freq_of_businesses</td>\n",
       "      <td>-0.20326</td>\n",
       "      <td>1.000000</td>\n",
       "      <td>-0.151297</td>\n",
       "    </tr>\n",
       "    <tr>\n",
       "      <td>average_rating</td>\n",
       "      <td>0.29140</td>\n",
       "      <td>-0.151297</td>\n",
       "      <td>1.000000</td>\n",
       "    </tr>\n",
       "  </tbody>\n",
       "</table>\n",
       "</div>"
      ],
      "text/plain": [
       "                      review_count_for_biz  freq_of_businesses  average_rating\n",
       "review_count_for_biz               1.00000           -0.203260        0.291400\n",
       "freq_of_businesses                -0.20326            1.000000       -0.151297\n",
       "average_rating                     0.29140           -0.151297        1.000000"
      ]
     },
     "execution_count": 23,
     "metadata": {},
     "output_type": "execute_result"
    }
   ],
   "source": [
    "# Check for correlation between review count and aveage rating\n",
    "business_review_count.corr()"
   ]
  },
  {
   "cell_type": "code",
   "execution_count": 24,
   "metadata": {},
   "outputs": [
    {
     "data": {
      "text/plain": [
       "Text(0.5, 1, 'Correlation between av. review count for locations with the same # of reviews')"
      ]
     },
     "execution_count": 24,
     "metadata": {},
     "output_type": "execute_result"
    },
    {
     "data": {
      "image/png": "[encoded data removed]",
      "text/plain": [
       "<Figure size 540x360 with 1 Axes>"
      ]
     },
     "metadata": {
      "needs_background": "light"
     },
     "output_type": "display_data"
    }
   ],
   "source": [
    "# map the correlation between review count and average rating\n",
    "sns.lmplot(x='review_count_for_biz', y='average_rating', data=business_review_count, aspect=1.5, scatter_kws={'alpha':0.2});\n",
    "ax = plt.gca()\n",
    "ax.set_title('Correlation between av. review count for locations with the same # of reviews')"
   ]
  },
  {
   "cell_type": "code",
   "execution_count": 25,
   "metadata": {},
   "outputs": [
    {
     "data": {
      "text/plain": [
       "Text(0.5, 1, 'Correlation between av. review count < 250 and average rating for locations with the same # of reviews')"
      ]
     },
     "execution_count": 25,
     "metadata": {},
     "output_type": "execute_result"
    },
    {
     "data": {
      "image/png": "[encoded data removed]",
      "text/plain": [
       "<Figure size 540x360 with 1 Axes>"
      ]
     },
     "metadata": {
      "needs_background": "light"
     },
     "output_type": "display_data"
    }
   ],
   "source": [
    "# # Check for correlation between review count and average rating when only businesses that have 250 or less total reviews are plotted.\n",
    "business_review_count_less_than_250 = business_review_count[business_review_count.review_count_for_biz < 100]\n",
    "sns.lmplot(x='review_count_for_biz', y='average_rating', data=business_review_count_less_than_250, aspect=1.5, scatter_kws={'alpha':0.2});\n",
    "ax = plt.gca()\n",
    "ax.set_title('Correlation between av. review count < 250 and average rating for locations with the same # of reviews')"
   ]
  },
  {
   "cell_type": "code",
   "execution_count": 26,
   "metadata": {},
   "outputs": [
    {
     "data": {
      "text/html": [
       "<div>\n",
       "<style scoped>\n",
       "    .dataframe tbody tr th:only-of-type {\n",
       "        vertical-align: middle;\n",
       "    }\n",
       "\n",
       "    .dataframe tbody tr th {\n",
       "        vertical-align: top;\n",
       "    }\n",
       "\n",
       "    .dataframe thead th {\n",
       "        text-align: right;\n",
       "    }\n",
       "</style>\n",
       "<table border=\"1\" class=\"dataframe\">\n",
       "  <thead>\n",
       "    <tr style=\"text-align: right;\">\n",
       "      <th></th>\n",
       "      <th>review_count_for_biz</th>\n",
       "      <th>freq_of_businesses</th>\n",
       "      <th>average_rating</th>\n",
       "    </tr>\n",
       "  </thead>\n",
       "  <tbody>\n",
       "    <tr>\n",
       "      <td>review_count_for_biz</td>\n",
       "      <td>1.000000</td>\n",
       "      <td>-0.484121</td>\n",
       "      <td>0.581257</td>\n",
       "    </tr>\n",
       "    <tr>\n",
       "      <td>freq_of_businesses</td>\n",
       "      <td>-0.484121</td>\n",
       "      <td>1.000000</td>\n",
       "      <td>-0.264657</td>\n",
       "    </tr>\n",
       "    <tr>\n",
       "      <td>average_rating</td>\n",
       "      <td>0.581257</td>\n",
       "      <td>-0.264657</td>\n",
       "      <td>1.000000</td>\n",
       "    </tr>\n",
       "  </tbody>\n",
       "</table>\n",
       "</div>"
      ],
      "text/plain": [
       "                      review_count_for_biz  freq_of_businesses  average_rating\n",
       "review_count_for_biz              1.000000           -0.484121        0.581257\n",
       "freq_of_businesses               -0.484121            1.000000       -0.264657\n",
       "average_rating                    0.581257           -0.264657        1.000000"
      ]
     },
     "execution_count": 26,
     "metadata": {},
     "output_type": "execute_result"
    }
   ],
   "source": [
    "# See strong correlation between average rating and review count\n",
    "business_review_count_less_than_250.corr()"
   ]
  },
  {
   "cell_type": "code",
   "execution_count": null,
   "metadata": {},
   "outputs": [],
   "source": []
  },
  {
   "cell_type": "code",
   "execution_count": 27,
   "metadata": {},
   "outputs": [],
   "source": [
    "# BUSINESSES IN OH WITH MORE THAN ONE LOCATION "
   ]
  },
  {
   "cell_type": "code",
   "execution_count": 28,
   "metadata": {},
   "outputs": [
    {
     "name": "stderr",
     "output_type": "stream",
     "text": [
      "/Users/hanhuang/opt/anaconda3/lib/python3.7/site-packages/ipykernel_launcher.py:2: FutureWarning: Sorting because non-concatenation axis is not aligned. A future version\n",
      "of pandas will change to not sort by default.\n",
      "\n",
      "To accept the future behavior, pass 'sort=False'.\n",
      "\n",
      "To retain the current behavior and silence the warning, pass 'sort=True'.\n",
      "\n",
      "  \n"
     ]
    },
    {
     "data": {
      "text/html": [
       "<div>\n",
       "<style scoped>\n",
       "    .dataframe tbody tr th:only-of-type {\n",
       "        vertical-align: middle;\n",
       "    }\n",
       "\n",
       "    .dataframe tbody tr th {\n",
       "        vertical-align: top;\n",
       "    }\n",
       "\n",
       "    .dataframe thead th {\n",
       "        text-align: right;\n",
       "    }\n",
       "</style>\n",
       "<table border=\"1\" class=\"dataframe\">\n",
       "  <thead>\n",
       "    <tr style=\"text-align: right;\">\n",
       "      <th></th>\n",
       "      <th>name</th>\n",
       "      <th>number_of_locations</th>\n",
       "      <th>average_rating</th>\n",
       "      <th>review_count</th>\n",
       "    </tr>\n",
       "  </thead>\n",
       "  <tbody>\n",
       "    <tr>\n",
       "      <td>0</td>\n",
       "      <td>#1 Pho</td>\n",
       "      <td>1</td>\n",
       "      <td>3.5</td>\n",
       "      <td>8</td>\n",
       "    </tr>\n",
       "  </tbody>\n",
       "</table>\n",
       "</div>"
      ],
      "text/plain": [
       "     name  number_of_locations  average_rating  review_count\n",
       "0  #1 Pho                    1             3.5             8"
      ]
     },
     "execution_count": 28,
     "metadata": {},
     "output_type": "execute_result"
    }
   ],
   "source": [
    "# Pulling together data set on multi location businesses\n",
    "business_name = pd.concat([business.name.value_counts(),business.groupby('name').stars.mean()], axis=1)\n",
    "business_name.reset_index(level=0, inplace=True)\n",
    "business_name.columns = ['name', 'number_of_locations', 'average_rating']\n",
    "business_rating_total = business.groupby('name')['review_count'].sum().to_frame()\n",
    "business_rating_total.reset_index(inplace = True)\n",
    "del business_rating_total['name']\n",
    "business_name_revised = pd.concat([business_name, business_rating_total], axis=1)\n",
    "business_name_revised.head(1)"
   ]
  },
  {
   "cell_type": "code",
   "execution_count": 29,
   "metadata": {},
   "outputs": [
    {
     "data": {
      "text/plain": [
       "1     0.922940\n",
       "2     0.040043\n",
       "3     0.011390\n",
       "4     0.007653\n",
       "5     0.003559\n",
       "6     0.002136\n",
       "8     0.001958\n",
       "7     0.001691\n",
       "9     0.000979\n",
       "12    0.000890\n",
       "Name: number_of_locations, dtype: float64"
      ]
     },
     "execution_count": 29,
     "metadata": {},
     "output_type": "execute_result"
    }
   ],
   "source": [
    "# 88% of businesses have only one location\n",
    "business_name_revised.number_of_locations.value_counts(normalize=True).head(10)"
   ]
  },
  {
   "cell_type": "code",
   "execution_count": 30,
   "metadata": {},
   "outputs": [
    {
     "data": {
      "text/plain": [
       "<matplotlib.axes._subplots.AxesSubplot at 0x1a188b3810>"
      ]
     },
     "execution_count": 30,
     "metadata": {},
     "output_type": "execute_result"
    },
    {
     "data": {
      "image/png": "[encoded data removed]",
      "text/plain": [
       "<Figure size 432x288 with 1 Axes>"
      ]
     },
     "metadata": {
      "needs_background": "light"
     },
     "output_type": "display_data"
    }
   ],
   "source": [
    "# Shows wide variety of ratings for restuarants that businesses that have only one location\n",
    "# sns.lmplot(x='freq_of_name', y='average_rating', data=business_name, aspect=1.5, scatter_kws={'alpha':0.2});\n",
    "business_name.plot(kind='scatter', x='number_of_locations', y='average_rating', title = 'Av. ratings based on the # of locations a business operates')"
   ]
  },
  {
   "cell_type": "code",
   "execution_count": 31,
   "metadata": {},
   "outputs": [
    {
     "data": {
      "text/html": [
       "<div>\n",
       "<style scoped>\n",
       "    .dataframe tbody tr th:only-of-type {\n",
       "        vertical-align: middle;\n",
       "    }\n",
       "\n",
       "    .dataframe tbody tr th {\n",
       "        vertical-align: top;\n",
       "    }\n",
       "\n",
       "    .dataframe thead th {\n",
       "        text-align: right;\n",
       "    }\n",
       "</style>\n",
       "<table border=\"1\" class=\"dataframe\">\n",
       "  <thead>\n",
       "    <tr style=\"text-align: right;\">\n",
       "      <th></th>\n",
       "      <th>name</th>\n",
       "      <th>number_of_locations</th>\n",
       "      <th>average_rating</th>\n",
       "      <th>review_count</th>\n",
       "    </tr>\n",
       "  </thead>\n",
       "  <tbody>\n",
       "    <tr>\n",
       "      <td>6277</td>\n",
       "      <td>McDonald's</td>\n",
       "      <td>115</td>\n",
       "      <td>1.973913</td>\n",
       "      <td>985</td>\n",
       "    </tr>\n",
       "    <tr>\n",
       "      <td>9356</td>\n",
       "      <td>Subway</td>\n",
       "      <td>80</td>\n",
       "      <td>2.706250</td>\n",
       "      <td>316</td>\n",
       "    </tr>\n",
       "    <tr>\n",
       "      <td>9184</td>\n",
       "      <td>Starbucks</td>\n",
       "      <td>78</td>\n",
       "      <td>3.532051</td>\n",
       "      <td>1216</td>\n",
       "    </tr>\n",
       "    <tr>\n",
       "      <td>1536</td>\n",
       "      <td>Burger King</td>\n",
       "      <td>59</td>\n",
       "      <td>2.271186</td>\n",
       "      <td>283</td>\n",
       "    </tr>\n",
       "    <tr>\n",
       "      <td>9555</td>\n",
       "      <td>Taco Bell</td>\n",
       "      <td>51</td>\n",
       "      <td>2.352941</td>\n",
       "      <td>452</td>\n",
       "    </tr>\n",
       "    <tr>\n",
       "      <td>4017</td>\n",
       "      <td>Giant Eagle</td>\n",
       "      <td>51</td>\n",
       "      <td>2.705882</td>\n",
       "      <td>473</td>\n",
       "    </tr>\n",
       "    <tr>\n",
       "      <td>10838</td>\n",
       "      <td>Wendy's</td>\n",
       "      <td>51</td>\n",
       "      <td>2.098039</td>\n",
       "      <td>395</td>\n",
       "    </tr>\n",
       "    <tr>\n",
       "      <td>7688</td>\n",
       "      <td>Pizza Hut</td>\n",
       "      <td>51</td>\n",
       "      <td>2.058824</td>\n",
       "      <td>380</td>\n",
       "    </tr>\n",
       "    <tr>\n",
       "      <td>1997</td>\n",
       "      <td>Chipotle Mexican Grill</td>\n",
       "      <td>48</td>\n",
       "      <td>2.541667</td>\n",
       "      <td>1390</td>\n",
       "    </tr>\n",
       "    <tr>\n",
       "      <td>7359</td>\n",
       "      <td>Panera Bread</td>\n",
       "      <td>43</td>\n",
       "      <td>2.604651</td>\n",
       "      <td>890</td>\n",
       "    </tr>\n",
       "    <tr>\n",
       "      <td>3075</td>\n",
       "      <td>Dunkin' Donuts</td>\n",
       "      <td>42</td>\n",
       "      <td>2.583333</td>\n",
       "      <td>460</td>\n",
       "    </tr>\n",
       "    <tr>\n",
       "      <td>1625</td>\n",
       "      <td>CVS Pharmacy</td>\n",
       "      <td>34</td>\n",
       "      <td>2.470588</td>\n",
       "      <td>200</td>\n",
       "    </tr>\n",
       "    <tr>\n",
       "      <td>6102</td>\n",
       "      <td>Marc's Stores</td>\n",
       "      <td>32</td>\n",
       "      <td>2.953125</td>\n",
       "      <td>216</td>\n",
       "    </tr>\n",
       "    <tr>\n",
       "      <td>4198</td>\n",
       "      <td>Great Clips</td>\n",
       "      <td>31</td>\n",
       "      <td>3.193548</td>\n",
       "      <td>157</td>\n",
       "    </tr>\n",
       "    <tr>\n",
       "      <td>577</td>\n",
       "      <td>Arby's</td>\n",
       "      <td>30</td>\n",
       "      <td>3.083333</td>\n",
       "      <td>148</td>\n",
       "    </tr>\n",
       "    <tr>\n",
       "      <td>5077</td>\n",
       "      <td>Jimmy John's</td>\n",
       "      <td>30</td>\n",
       "      <td>3.083333</td>\n",
       "      <td>296</td>\n",
       "    </tr>\n",
       "    <tr>\n",
       "      <td>3317</td>\n",
       "      <td>Enterprise Rent-A-Car</td>\n",
       "      <td>30</td>\n",
       "      <td>3.500000</td>\n",
       "      <td>228</td>\n",
       "    </tr>\n",
       "    <tr>\n",
       "      <td>1270</td>\n",
       "      <td>Bob Evans</td>\n",
       "      <td>30</td>\n",
       "      <td>2.433333</td>\n",
       "      <td>690</td>\n",
       "    </tr>\n",
       "    <tr>\n",
       "      <td>2706</td>\n",
       "      <td>Dairy Queen</td>\n",
       "      <td>28</td>\n",
       "      <td>3.232143</td>\n",
       "      <td>183</td>\n",
       "    </tr>\n",
       "    <tr>\n",
       "      <td>2399</td>\n",
       "      <td>Conrad's Tire Express &amp; Total Car Care</td>\n",
       "      <td>27</td>\n",
       "      <td>3.092593</td>\n",
       "      <td>239</td>\n",
       "    </tr>\n",
       "    <tr>\n",
       "      <td>6105</td>\n",
       "      <td>Marco's Pizza</td>\n",
       "      <td>27</td>\n",
       "      <td>3.092593</td>\n",
       "      <td>172</td>\n",
       "    </tr>\n",
       "    <tr>\n",
       "      <td>2982</td>\n",
       "      <td>Domino's Pizza</td>\n",
       "      <td>25</td>\n",
       "      <td>2.640000</td>\n",
       "      <td>162</td>\n",
       "    </tr>\n",
       "    <tr>\n",
       "      <td>10125</td>\n",
       "      <td>The UPS Store</td>\n",
       "      <td>25</td>\n",
       "      <td>3.080000</td>\n",
       "      <td>139</td>\n",
       "    </tr>\n",
       "    <tr>\n",
       "      <td>7375</td>\n",
       "      <td>Papa John's Pizza</td>\n",
       "      <td>24</td>\n",
       "      <td>2.500000</td>\n",
       "      <td>128</td>\n",
       "    </tr>\n",
       "    <tr>\n",
       "      <td>561</td>\n",
       "      <td>Applebee's Grill + Bar</td>\n",
       "      <td>24</td>\n",
       "      <td>2.666667</td>\n",
       "      <td>455</td>\n",
       "    </tr>\n",
       "    <tr>\n",
       "      <td>10769</td>\n",
       "      <td>Walgreens</td>\n",
       "      <td>22</td>\n",
       "      <td>3.136364</td>\n",
       "      <td>100</td>\n",
       "    </tr>\n",
       "    <tr>\n",
       "      <td>5199</td>\n",
       "      <td>KFC</td>\n",
       "      <td>22</td>\n",
       "      <td>2.318182</td>\n",
       "      <td>159</td>\n",
       "    </tr>\n",
       "    <tr>\n",
       "      <td>6754</td>\n",
       "      <td>NTB - National Tire &amp; Battery</td>\n",
       "      <td>20</td>\n",
       "      <td>2.600000</td>\n",
       "      <td>150</td>\n",
       "    </tr>\n",
       "    <tr>\n",
       "      <td>9575</td>\n",
       "      <td>Take 5 Oil Change</td>\n",
       "      <td>20</td>\n",
       "      <td>4.175000</td>\n",
       "      <td>133</td>\n",
       "    </tr>\n",
       "    <tr>\n",
       "      <td>2932</td>\n",
       "      <td>Discount Drug Mart</td>\n",
       "      <td>19</td>\n",
       "      <td>3.421053</td>\n",
       "      <td>105</td>\n",
       "    </tr>\n",
       "  </tbody>\n",
       "</table>\n",
       "</div>"
      ],
      "text/plain": [
       "                                         name  number_of_locations  \\\n",
       "6277                               McDonald's                  115   \n",
       "9356                                   Subway                   80   \n",
       "9184                                Starbucks                   78   \n",
       "1536                              Burger King                   59   \n",
       "9555                                Taco Bell                   51   \n",
       "4017                              Giant Eagle                   51   \n",
       "10838                                 Wendy's                   51   \n",
       "7688                                Pizza Hut                   51   \n",
       "1997                   Chipotle Mexican Grill                   48   \n",
       "7359                             Panera Bread                   43   \n",
       "3075                           Dunkin' Donuts                   42   \n",
       "1625                             CVS Pharmacy                   34   \n",
       "6102                            Marc's Stores                   32   \n",
       "4198                              Great Clips                   31   \n",
       "577                                    Arby's                   30   \n",
       "5077                             Jimmy John's                   30   \n",
       "3317                    Enterprise Rent-A-Car                   30   \n",
       "1270                                Bob Evans                   30   \n",
       "2706                              Dairy Queen                   28   \n",
       "2399   Conrad's Tire Express & Total Car Care                   27   \n",
       "6105                            Marco's Pizza                   27   \n",
       "2982                           Domino's Pizza                   25   \n",
       "10125                           The UPS Store                   25   \n",
       "7375                        Papa John's Pizza                   24   \n",
       "561                    Applebee's Grill + Bar                   24   \n",
       "10769                               Walgreens                   22   \n",
       "5199                                      KFC                   22   \n",
       "6754            NTB - National Tire & Battery                   20   \n",
       "9575                        Take 5 Oil Change                   20   \n",
       "2932                       Discount Drug Mart                   19   \n",
       "\n",
       "       average_rating  review_count  \n",
       "6277         1.973913           985  \n",
       "9356         2.706250           316  \n",
       "9184         3.532051          1216  \n",
       "1536         2.271186           283  \n",
       "9555         2.352941           452  \n",
       "4017         2.705882           473  \n",
       "10838        2.098039           395  \n",
       "7688         2.058824           380  \n",
       "1997         2.541667          1390  \n",
       "7359         2.604651           890  \n",
       "3075         2.583333           460  \n",
       "1625         2.470588           200  \n",
       "6102         2.953125           216  \n",
       "4198         3.193548           157  \n",
       "577          3.083333           148  \n",
       "5077         3.083333           296  \n",
       "3317         3.500000           228  \n",
       "1270         2.433333           690  \n",
       "2706         3.232143           183  \n",
       "2399         3.092593           239  \n",
       "6105         3.092593           172  \n",
       "2982         2.640000           162  \n",
       "10125        3.080000           139  \n",
       "7375         2.500000           128  \n",
       "561          2.666667           455  \n",
       "10769        3.136364           100  \n",
       "5199         2.318182           159  \n",
       "6754         2.600000           150  \n",
       "9575         4.175000           133  \n",
       "2932         3.421053           105  "
      ]
     },
     "execution_count": 31,
     "metadata": {},
     "output_type": "execute_result"
    }
   ],
   "source": [
    "# Average rating for businesses sorted by those with the most locations\n",
    "business_name_revised.sort_values('number_of_locations', ascending=False).head(30)"
   ]
  },
  {
   "cell_type": "code",
   "execution_count": 32,
   "metadata": {},
   "outputs": [],
   "source": [
    "business_name_revised['averege_reviews_location'] =  business_name_revised['review_count']/business_name_revised['number_of_locations']"
   ]
  },
  {
   "cell_type": "code",
   "execution_count": null,
   "metadata": {},
   "outputs": [],
   "source": []
  },
  {
   "cell_type": "code",
   "execution_count": 33,
   "metadata": {},
   "outputs": [],
   "source": [
    "# OPEN / CLOSED"
   ]
  },
  {
   "cell_type": "code",
   "execution_count": 34,
   "metadata": {},
   "outputs": [
    {
     "name": "stdout",
     "output_type": "stream",
     "text": [
      "1    0.853644\n",
      "0    0.146356\n",
      "Name: is_open, dtype: float64\n",
      "33% of restuarants are no longer open\n"
     ]
    }
   ],
   "source": [
    "# Check for the number of businesses that are open\n",
    "print(business.is_open.value_counts(normalize=True))\n",
    "print('33% of restuarants are no longer open')"
   ]
  },
  {
   "cell_type": "code",
   "execution_count": 35,
   "metadata": {},
   "outputs": [
    {
     "data": {
      "text/html": [
       "<div>\n",
       "<style scoped>\n",
       "    .dataframe tbody tr th:only-of-type {\n",
       "        vertical-align: middle;\n",
       "    }\n",
       "\n",
       "    .dataframe tbody tr th {\n",
       "        vertical-align: top;\n",
       "    }\n",
       "\n",
       "    .dataframe thead th {\n",
       "        text-align: right;\n",
       "    }\n",
       "</style>\n",
       "<table border=\"1\" class=\"dataframe\">\n",
       "  <thead>\n",
       "    <tr style=\"text-align: right;\">\n",
       "      <th></th>\n",
       "      <th>is_open</th>\n",
       "      <th>count</th>\n",
       "      <th>review_count</th>\n",
       "      <th>av_review_count</th>\n",
       "      <th>stars</th>\n",
       "      <th>av_stars</th>\n",
       "    </tr>\n",
       "  </thead>\n",
       "  <tbody>\n",
       "    <tr>\n",
       "      <td>0</td>\n",
       "      <td>0</td>\n",
       "      <td>2151</td>\n",
       "      <td>33611</td>\n",
       "      <td>15.625755</td>\n",
       "      <td>7262.5</td>\n",
       "      <td>3.376337</td>\n",
       "    </tr>\n",
       "    <tr>\n",
       "      <td>1</td>\n",
       "      <td>1</td>\n",
       "      <td>12546</td>\n",
       "      <td>276934</td>\n",
       "      <td>22.073490</td>\n",
       "      <td>44255.5</td>\n",
       "      <td>3.527459</td>\n",
       "    </tr>\n",
       "  </tbody>\n",
       "</table>\n",
       "</div>"
      ],
      "text/plain": [
       "   is_open  count  review_count  av_review_count    stars  av_stars\n",
       "0        0   2151         33611        15.625755   7262.5  3.376337\n",
       "1        1  12546        276934        22.073490  44255.5  3.527459"
      ]
     },
     "execution_count": 35,
     "metadata": {},
     "output_type": "execute_result"
    }
   ],
   "source": [
    "# see if open and closed busineswses have different average review count and stars\n",
    "open_closed = business.groupby('is_open').review_count.agg(['count', 'sum'])\n",
    "open_closed.reset_index(inplace = True)\n",
    "open_closed.columns = ['is_open', 'count', 'review_count']\n",
    "open_closed['av_review_count'] = open_closed['review_count']/open_closed['count']\n",
    "open_closed = open_closed.merge(business.groupby('is_open').stars.sum(), on='is_open', how='left')\n",
    "open_closed['av_stars'] = open_closed['stars']/open_closed['count']\n",
    "open_closed"
   ]
  },
  {
   "cell_type": "code",
   "execution_count": 36,
   "metadata": {},
   "outputs": [
    {
     "name": "stdout",
     "output_type": "stream",
     "text": [
      "-0.042613636363636354\n"
     ]
    },
    {
     "data": {
      "text/plain": [
       "0.41666666666666674"
      ]
     },
     "execution_count": 36,
     "metadata": {},
     "output_type": "execute_result"
    }
   ],
   "source": [
    "print(3.37/3.52 -1)\n",
    "22.1/15.6 - 1"
   ]
  },
  {
   "cell_type": "code",
   "execution_count": 37,
   "metadata": {},
   "outputs": [],
   "source": [
    "# the group of businesses that are open have in aggregate of 40% as many reviews as those that are closed\n",
    "# but the aggregate rating is close to identifcal between businesses that are open and those that are closed"
   ]
  },
  {
   "cell_type": "code",
   "execution_count": 38,
   "metadata": {},
   "outputs": [
    {
     "data": {
      "text/plain": [
       "0.8536436007348438"
      ]
     },
     "execution_count": 38,
     "metadata": {},
     "output_type": "execute_result"
    }
   ],
   "source": [
    "# Calculate baseline is higher that the prediction using logistical regression\n",
    "business['is_open'].value_counts().iloc[0] / len(business)"
   ]
  },
  {
   "cell_type": "code",
   "execution_count": 39,
   "metadata": {},
   "outputs": [],
   "source": [
    "# Logistical regression"
   ]
  },
  {
   "cell_type": "code",
   "execution_count": 40,
   "metadata": {},
   "outputs": [
    {
     "name": "stderr",
     "output_type": "stream",
     "text": [
      "/Users/hanhuang/opt/anaconda3/lib/python3.7/site-packages/sklearn/linear_model/logistic.py:432: FutureWarning: Default solver will be changed to 'lbfgs' in 0.22. Specify a solver to silence this warning.\n",
      "  FutureWarning)\n"
     ]
    },
    {
     "data": {
      "text/plain": [
       "0.8497959183673469"
      ]
     },
     "execution_count": 40,
     "metadata": {},
     "output_type": "execute_result"
    }
   ],
   "source": [
    "# correlate is_open to review_count using logistical regression\n",
    "from sklearn.linear_model import LogisticRegression\n",
    "from sklearn.model_selection import train_test_split\n",
    "LR = LogisticRegression()\n",
    "feature_cols = ['review_count']\n",
    "X = business[feature_cols]\n",
    "y = business.is_open\n",
    "\n",
    "X_train, X_test, y_train, y_test = train_test_split(X, y, random_state=1)\n",
    "LR.fit(X_train, y_train)\n",
    "y_pred = LR.predict(X_test)\n",
    "LR.score(X_test, y_test)"
   ]
  },
  {
   "cell_type": "code",
   "execution_count": 41,
   "metadata": {},
   "outputs": [],
   "source": [
    "# KNN Model"
   ]
  },
  {
   "cell_type": "code",
   "execution_count": 42,
   "metadata": {},
   "outputs": [
    {
     "data": {
      "text/plain": [
       "KNeighborsClassifier(algorithm='auto', leaf_size=30, metric='minkowski',\n",
       "                     metric_params=None, n_jobs=None, n_neighbors=40, p=2,\n",
       "                     weights='uniform')"
      ]
     },
     "execution_count": 42,
     "metadata": {},
     "output_type": "execute_result"
    }
   ],
   "source": [
    "# Calculate accuracy using KNN\n",
    "from sklearn.neighbors import KNeighborsClassifier\n",
    "from sklearn.model_selection import train_test_split\n",
    "from sklearn import metrics\n",
    "\n",
    "X_train, X_test, y_train, y_test = train_test_split(X, y, random_state=62)\n",
    "knn = KNeighborsClassifier(n_neighbors=40)\n",
    "knn.fit(X_train, y_train)"
   ]
  },
  {
   "cell_type": "code",
   "execution_count": 43,
   "metadata": {},
   "outputs": [
    {
     "name": "stdout",
     "output_type": "stream",
     "text": [
      "0.8541496598639455\n"
     ]
    }
   ],
   "source": [
    "# accuracy rate for KNN model \n",
    "y_pred_class = knn.predict(X_test)\n",
    "print((metrics.accuracy_score(y_test, y_pred_class)))"
   ]
  },
  {
   "cell_type": "code",
   "execution_count": 44,
   "metadata": {},
   "outputs": [
    {
     "data": {
      "image/png": "[encoded data removed]",
      "text/plain": [
       "<Figure size 432x288 with 1 Axes>"
      ]
     },
     "metadata": {
      "needs_background": "light"
     },
     "output_type": "display_data"
    }
   ],
   "source": [
    "# search for optimal neighbor count for KNN\n",
    "scores = []\n",
    "for k in range(1,50):\n",
    "    knn = KNeighborsClassifier(n_neighbors=k)\n",
    "    knn.fit(X, y)\n",
    "    pred = knn.predict(X)\n",
    "    score = float(sum(pred == y)) / len(y)\n",
    "    scores.append([k, score])\n",
    "    \n",
    "data = pd.DataFrame(scores,columns=['k','score'])\n",
    "data.plot.line(x='k',y='score');"
   ]
  },
  {
   "cell_type": "code",
   "execution_count": 45,
   "metadata": {},
   "outputs": [],
   "source": [
    "# Neural Network Model"
   ]
  },
  {
   "cell_type": "code",
   "execution_count": 46,
   "metadata": {},
   "outputs": [
    {
     "name": "stderr",
     "output_type": "stream",
     "text": [
      "Using TensorFlow backend.\n",
      "/Users/hanhuang/opt/anaconda3/lib/python3.7/site-packages/tensorflow/python/framework/dtypes.py:526: FutureWarning: Passing (type, 1) or '1type' as a synonym of type is deprecated; in a future version of numpy, it will be understood as (type, (1,)) / '(1,)type'.\n",
      "  _np_qint8 = np.dtype([(\"qint8\", np.int8, 1)])\n",
      "/Users/hanhuang/opt/anaconda3/lib/python3.7/site-packages/tensorflow/python/framework/dtypes.py:527: FutureWarning: Passing (type, 1) or '1type' as a synonym of type is deprecated; in a future version of numpy, it will be understood as (type, (1,)) / '(1,)type'.\n",
      "  _np_quint8 = np.dtype([(\"quint8\", np.uint8, 1)])\n",
      "/Users/hanhuang/opt/anaconda3/lib/python3.7/site-packages/tensorflow/python/framework/dtypes.py:528: FutureWarning: Passing (type, 1) or '1type' as a synonym of type is deprecated; in a future version of numpy, it will be understood as (type, (1,)) / '(1,)type'.\n",
      "  _np_qint16 = np.dtype([(\"qint16\", np.int16, 1)])\n",
      "/Users/hanhuang/opt/anaconda3/lib/python3.7/site-packages/tensorflow/python/framework/dtypes.py:529: FutureWarning: Passing (type, 1) or '1type' as a synonym of type is deprecated; in a future version of numpy, it will be understood as (type, (1,)) / '(1,)type'.\n",
      "  _np_quint16 = np.dtype([(\"quint16\", np.uint16, 1)])\n",
      "/Users/hanhuang/opt/anaconda3/lib/python3.7/site-packages/tensorflow/python/framework/dtypes.py:530: FutureWarning: Passing (type, 1) or '1type' as a synonym of type is deprecated; in a future version of numpy, it will be understood as (type, (1,)) / '(1,)type'.\n",
      "  _np_qint32 = np.dtype([(\"qint32\", np.int32, 1)])\n",
      "/Users/hanhuang/opt/anaconda3/lib/python3.7/site-packages/tensorflow/python/framework/dtypes.py:535: FutureWarning: Passing (type, 1) or '1type' as a synonym of type is deprecated; in a future version of numpy, it will be understood as (type, (1,)) / '(1,)type'.\n",
      "  np_resource = np.dtype([(\"resource\", np.ubyte, 1)])\n"
     ]
    }
   ],
   "source": [
    "# Now use a neural network\n",
    "\n",
    "import matplotlib.pyplot as plt\n",
    "from sklearn.model_selection import train_test_split\n",
    "from sklearn.preprocessing import StandardScaler\n",
    "\n",
    "from keras.models import Sequential\n",
    "from keras.layers import Dense\n",
    "\n",
    "import pandas as pd\n",
    "\n",
    "%matplotlib inline"
   ]
  },
  {
   "cell_type": "code",
   "execution_count": 47,
   "metadata": {},
   "outputs": [],
   "source": [
    "feature_cols = ['review_count']\n",
    "X = business[feature_cols]\n",
    "y = business.is_open"
   ]
  },
  {
   "cell_type": "code",
   "execution_count": 48,
   "metadata": {},
   "outputs": [
    {
     "name": "stdout",
     "output_type": "stream",
     "text": [
      "WARNING:tensorflow:From /Users/hanhuang/opt/anaconda3/lib/python3.7/site-packages/tensorflow/python/ops/resource_variable_ops.py:435: colocate_with (from tensorflow.python.framework.ops) is deprecated and will be removed in a future version.\n",
      "Instructions for updating:\n",
      "Colocations handled automatically by placer.\n",
      "WARNING:tensorflow:From /Users/hanhuang/opt/anaconda3/lib/python3.7/site-packages/tensorflow/python/ops/math_ops.py:3066: to_int32 (from tensorflow.python.ops.math_ops) is deprecated and will be removed in a future version.\n",
      "Instructions for updating:\n",
      "Use tf.cast instead.\n",
      "Train on 11022 samples, validate on 3675 samples\n",
      "Epoch 1/30\n",
      " - 0s - loss: 0.4766 - acc: 0.8544 - val_loss: 0.4202 - val_acc: 0.8514\n",
      "Epoch 2/30\n",
      " - 0s - loss: 0.4143 - acc: 0.8544 - val_loss: 0.4200 - val_acc: 0.8514\n",
      "Epoch 3/30\n",
      " - 0s - loss: 0.4142 - acc: 0.8544 - val_loss: 0.4197 - val_acc: 0.8514\n",
      "Epoch 4/30\n",
      " - 0s - loss: 0.4137 - acc: 0.8544 - val_loss: 0.4197 - val_acc: 0.8514\n",
      "Epoch 5/30\n",
      " - 0s - loss: 0.4138 - acc: 0.8544 - val_loss: 0.4195 - val_acc: 0.8514\n",
      "Epoch 6/30\n",
      " - 0s - loss: 0.4135 - acc: 0.8544 - val_loss: 0.4193 - val_acc: 0.8514\n",
      "Epoch 7/30\n",
      " - 0s - loss: 0.4136 - acc: 0.8544 - val_loss: 0.4195 - val_acc: 0.8514\n",
      "Epoch 8/30\n",
      " - 0s - loss: 0.4134 - acc: 0.8544 - val_loss: 0.4191 - val_acc: 0.8514\n",
      "Epoch 9/30\n",
      " - 0s - loss: 0.4134 - acc: 0.8544 - val_loss: 0.4190 - val_acc: 0.8514\n",
      "Epoch 10/30\n",
      " - 0s - loss: 0.4133 - acc: 0.8544 - val_loss: 0.4190 - val_acc: 0.8514\n",
      "Epoch 11/30\n",
      " - 0s - loss: 0.4132 - acc: 0.8544 - val_loss: 0.4193 - val_acc: 0.8514\n",
      "Epoch 12/30\n",
      " - 0s - loss: 0.4132 - acc: 0.8544 - val_loss: 0.4191 - val_acc: 0.8514\n",
      "Epoch 13/30\n",
      " - 0s - loss: 0.4134 - acc: 0.8544 - val_loss: 0.4191 - val_acc: 0.8514\n",
      "Epoch 14/30\n",
      " - 0s - loss: 0.4133 - acc: 0.8544 - val_loss: 0.4190 - val_acc: 0.8514\n",
      "Epoch 15/30\n",
      " - 0s - loss: 0.4132 - acc: 0.8544 - val_loss: 0.4191 - val_acc: 0.8514\n",
      "Epoch 16/30\n",
      " - 0s - loss: 0.4132 - acc: 0.8544 - val_loss: 0.4189 - val_acc: 0.8514\n",
      "Epoch 17/30\n",
      " - 0s - loss: 0.4131 - acc: 0.8544 - val_loss: 0.4196 - val_acc: 0.8514\n",
      "Epoch 18/30\n",
      " - 0s - loss: 0.4133 - acc: 0.8544 - val_loss: 0.4190 - val_acc: 0.8514\n",
      "Epoch 19/30\n",
      " - 0s - loss: 0.4131 - acc: 0.8544 - val_loss: 0.4192 - val_acc: 0.8514\n",
      "Epoch 20/30\n",
      " - 0s - loss: 0.4132 - acc: 0.8544 - val_loss: 0.4189 - val_acc: 0.8514\n",
      "Epoch 21/30\n",
      " - 0s - loss: 0.4132 - acc: 0.8544 - val_loss: 0.4192 - val_acc: 0.8514\n",
      "Epoch 22/30\n",
      " - 0s - loss: 0.4133 - acc: 0.8544 - val_loss: 0.4193 - val_acc: 0.8514\n",
      "Epoch 23/30\n",
      " - 0s - loss: 0.4133 - acc: 0.8544 - val_loss: 0.4189 - val_acc: 0.8514\n",
      "Epoch 24/30\n",
      " - 0s - loss: 0.4132 - acc: 0.8544 - val_loss: 0.4192 - val_acc: 0.8514\n",
      "Epoch 25/30\n",
      " - 0s - loss: 0.4132 - acc: 0.8544 - val_loss: 0.4191 - val_acc: 0.8514\n",
      "Epoch 26/30\n",
      " - 0s - loss: 0.4131 - acc: 0.8544 - val_loss: 0.4194 - val_acc: 0.8514\n",
      "Epoch 27/30\n",
      " - 0s - loss: 0.4132 - acc: 0.8544 - val_loss: 0.4190 - val_acc: 0.8514\n",
      "Epoch 28/30\n",
      " - 0s - loss: 0.4132 - acc: 0.8544 - val_loss: 0.4192 - val_acc: 0.8514\n",
      "Epoch 29/30\n",
      " - 0s - loss: 0.4132 - acc: 0.8544 - val_loss: 0.4190 - val_acc: 0.8514\n",
      "Epoch 30/30\n",
      " - 0s - loss: 0.4133 - acc: 0.8544 - val_loss: 0.4190 - val_acc: 0.8514\n"
     ]
    }
   ],
   "source": [
    "X_train, X_test, y_train, y_test = train_test_split(X, y)\n",
    "\n",
    "ss = StandardScaler()\n",
    "X_train = ss.fit_transform(X_train)\n",
    "X_test = ss.transform(X_test)\n",
    "\n",
    "n_input = X_train.shape[1]\n",
    "n_input\n",
    "\n",
    "\n",
    "model = Sequential()\n",
    "model.add(Dense(18, input_dim = n_input, activation='relu'))\n",
    "model.add(Dense(1, activation='sigmoid'))\n",
    "\n",
    "model = Sequential()\n",
    "model.add(Dense(18, input_dim = n_input, activation='relu'))\n",
    "model.add(Dense(1, activation='sigmoid'))\n",
    "\n",
    "# Compile it\n",
    "model.compile(loss='binary_crossentropy', optimizer='adam', metrics=['acc'])\n",
    "\n",
    "# Fit it\n",
    "history = model.fit(\n",
    "    X_train,\n",
    "    y_train,\n",
    "    validation_data=(X_test, y_test),\n",
    "    epochs=30,\n",
    "    batch_size=None,\n",
    "    verbose=2\n",
    ")\n"
   ]
  },
  {
   "cell_type": "code",
   "execution_count": 49,
   "metadata": {},
   "outputs": [],
   "source": [
    "# Import the DecisionTree Classifier from scikit's tree module\n",
    "from sklearn.tree import DecisionTreeClassifier\n",
    "\n",
    "# Instantiate your dtc object as assign it to the variable name \"model\"\n",
    "model = DecisionTreeClassifier()\n",
    "\n",
    "# Select your features\n",
    "X = business[['latitude', 'longitude', 'review_count', 'stars']]\n",
    "\n",
    "# Set your target variable\n",
    "y = business['is_open']\n",
    "    \n",
    "    \n",
    "# Fit the model\n",
    "model.fit(X, y)\n",
    "\n",
    "# Helper function to visualize Decision Trees (creates a file tree.png)\n",
    "from sklearn.tree import export_graphviz\n",
    "from os import system \n",
    "def build_tree_image(model):\n",
    "    dotfile = open(\"tree.dot\", 'w')\n",
    "    export_graphviz(model, out_file = dotfile, feature_names = X.columns)\n",
    "    dotfile.close()\n",
    "    system(\"dot -Tpng tree.dot -o tree.png\")\n",
    "    \n",
    "build_tree_image(model)# Decision Tree"
   ]
  },
  {
   "cell_type": "code",
   "execution_count": 50,
   "metadata": {},
   "outputs": [],
   "source": [
    "#graph_model = DecisionTreeClassifier(max_depth=3, min_samples_leaf=5, random_state=42)\n",
    "graph_model = DecisionTreeClassifier(criterion='entropy', random_state=42)\n",
    "\n",
    "# Setting class_weight to 'balanced' will replicate the \n",
    "# minority class until the two classes have equal representation\n",
    "\n",
    "# When proportion=True, the output is the fraction of records \n",
    "# for each class that have reached that node.\n",
    "\n",
    "graph_X = X[:200]\n",
    "graph_y = y[:200]"
   ]
  },
  {
   "cell_type": "code",
   "execution_count": 51,
   "metadata": {},
   "outputs": [
    {
     "name": "stdout",
     "output_type": "stream",
     "text": [
      "(200, 4)\n",
      "(200,)\n"
     ]
    }
   ],
   "source": [
    "print(graph_X.shape)\n",
    "print(graph_y.shape)"
   ]
  },
  {
   "cell_type": "code",
   "execution_count": 52,
   "metadata": {},
   "outputs": [
    {
     "data": {
      "text/plain": [
       "DecisionTreeClassifier(class_weight=None, criterion='entropy', max_depth=None,\n",
       "                       max_features=None, max_leaf_nodes=None,\n",
       "                       min_impurity_decrease=0.0, min_impurity_split=None,\n",
       "                       min_samples_leaf=1, min_samples_split=2,\n",
       "                       min_weight_fraction_leaf=0.0, presort=False,\n",
       "                       random_state=42, splitter='best')"
      ]
     },
     "execution_count": 52,
     "metadata": {},
     "output_type": "execute_result"
    }
   ],
   "source": [
    "graph_model.fit(graph_X, graph_y)"
   ]
  },
  {
   "cell_type": "code",
   "execution_count": 53,
   "metadata": {},
   "outputs": [
    {
     "ename": "NameError",
     "evalue": "name 'tree' is not defined",
     "output_type": "error",
     "traceback": [
      "\u001b[0;31m---------------------------------------------------------------------------\u001b[0m",
      "\u001b[0;31mNameError\u001b[0m                                 Traceback (most recent call last)",
      "\u001b[0;32m<ipython-input-53-d1723e4baad9>\u001b[0m in \u001b[0;36m<module>\u001b[0;34m\u001b[0m\n\u001b[1;32m      1\u001b[0m \u001b[0;31m# This was working but for some reason its stopped and now its working again!\u001b[0m\u001b[0;34m\u001b[0m\u001b[0;34m\u001b[0m\u001b[0;34m\u001b[0m\u001b[0m\n\u001b[0;32m----> 2\u001b[0;31m dot_data = tree.export_graphviz(graph_model, out_file=None, feature_names=X.columns,\n\u001b[0m\u001b[1;32m      3\u001b[0m                                 filled=True, rounded=True, special_characters=True) \n\u001b[1;32m      4\u001b[0m \u001b[0mgraph\u001b[0m \u001b[0;34m=\u001b[0m \u001b[0mpydotplus\u001b[0m\u001b[0;34m.\u001b[0m\u001b[0mgraphviz\u001b[0m\u001b[0;34m.\u001b[0m\u001b[0mgraph_from_dot_data\u001b[0m\u001b[0;34m(\u001b[0m\u001b[0mdot_data\u001b[0m\u001b[0;34m)\u001b[0m\u001b[0;34m\u001b[0m\u001b[0;34m\u001b[0m\u001b[0m\n\u001b[1;32m      5\u001b[0m \u001b[0mImage\u001b[0m\u001b[0;34m(\u001b[0m\u001b[0mgraph\u001b[0m\u001b[0;34m.\u001b[0m\u001b[0mcreate_png\u001b[0m\u001b[0;34m(\u001b[0m\u001b[0;34m)\u001b[0m\u001b[0;34m)\u001b[0m\u001b[0;34m\u001b[0m\u001b[0;34m\u001b[0m\u001b[0m\n",
      "\u001b[0;31mNameError\u001b[0m: name 'tree' is not defined"
     ]
    }
   ],
   "source": [
    "# This was working but for some reason its stopped and now its working again! \n",
    "dot_data = tree.export_graphviz(graph_model, out_file=None, feature_names=X.columns,\n",
    "                                filled=True, rounded=True, special_characters=True) \n",
    "graph = pydotplus.graphviz.graph_from_dot_data(dot_data)\n",
    "Image(graph.create_png())"
   ]
  },
  {
   "cell_type": "code",
   "execution_count": 54,
   "metadata": {},
   "outputs": [
    {
     "name": "stdout",
     "output_type": "stream",
     "text": [
      "CV AUC [0.70643939 0.51082251 0.47619048 0.46103896 0.56473214], \n",
      "Average AUC 0.543844696969697\n"
     ]
    }
   ],
   "source": [
    "from sklearn.model_selection import cross_val_score\n",
    "\n",
    "# model is the estimator or the object to used to fit the data.\n",
    "# X is your features, y is your target. You then select a scoring method -\n",
    "# here we choose area under the curve (auc) as the evaluation metric. \n",
    "# cv: the number of folds (default is 3)\n",
    "scores = cross_val_score(model, graph_X, graph_y, scoring='roc_auc', cv=5)\n",
    "print('CV AUC {}, \\nAverage AUC {}'.format(scores, scores.mean()))"
   ]
  },
  {
   "cell_type": "code",
   "execution_count": 55,
   "metadata": {},
   "outputs": [],
   "source": [
    "# Random Forrest "
   ]
  },
  {
   "cell_type": "code",
   "execution_count": 56,
   "metadata": {},
   "outputs": [
    {
     "name": "stderr",
     "output_type": "stream",
     "text": [
      "/Users/hanhuang/opt/anaconda3/lib/python3.7/site-packages/sklearn/externals/six.py:31: DeprecationWarning: The module is deprecated in version 0.21 and will be removed in version 0.23 since we've dropped support for Python 2.7. Please rely on the official version of six (https://pypi.org/project/six/).\n",
      "  \"(https://pypi.org/project/six/).\", DeprecationWarning)\n"
     ]
    }
   ],
   "source": [
    "from sklearn import tree\n",
    "from IPython.display import Image\n",
    "from sklearn.tree import export_graphviz\n",
    "from sklearn.externals.six import StringIO\n",
    "import pydotplus"
   ]
  },
  {
   "cell_type": "code",
   "execution_count": 57,
   "metadata": {},
   "outputs": [],
   "source": [
    "# Select your features\n",
    "X = business[['latitude', 'longitude', 'review_count', 'stars']]\n",
    "\n",
    "# Set your target variable\n",
    "y = business['is_open']"
   ]
  },
  {
   "cell_type": "code",
   "execution_count": 58,
   "metadata": {},
   "outputs": [
    {
     "data": {
      "text/plain": [
       "RandomForestClassifier(bootstrap=True, class_weight=None, criterion='gini',\n",
       "                       max_depth=None, max_features='auto', max_leaf_nodes=None,\n",
       "                       min_impurity_decrease=0.0, min_impurity_split=None,\n",
       "                       min_samples_leaf=1, min_samples_split=2,\n",
       "                       min_weight_fraction_leaf=0.0, n_estimators=20,\n",
       "                       n_jobs=None, oob_score=False, random_state=None,\n",
       "                       verbose=0, warm_start=False)"
      ]
     },
     "execution_count": 58,
     "metadata": {},
     "output_type": "execute_result"
    }
   ],
   "source": [
    "# Import RandomForestClassifier from scikit's ensemble module\n",
    "from sklearn.ensemble import RandomForestClassifier\n",
    "\n",
    "# Instanitate your Random Forest Classifier model object with n_estimators or\n",
    "# the number of trees in the forest set to 20 (default is 10)\n",
    "model_3 = RandomForestClassifier(n_estimators = 20)\n",
    "\n",
    "# Fit your model on the features (X) and the target (y)\n",
    "model_3.fit(X, y)"
   ]
  },
  {
   "cell_type": "code",
   "execution_count": 59,
   "metadata": {},
   "outputs": [
    {
     "name": "stdout",
     "output_type": "stream",
     "text": [
      "Feature columns: Index(['latitude', 'longitude', 'review_count', 'stars'], dtype='object')\n"
     ]
    }
   ],
   "source": [
    "# Set features variable with the names of the features in X\n",
    "features = X.columns\n",
    "print(\"Feature columns:\", features)"
   ]
  },
  {
   "cell_type": "code",
   "execution_count": 60,
   "metadata": {},
   "outputs": [
    {
     "name": "stdout",
     "output_type": "stream",
     "text": [
      "Feature Importance scores: [0.37733709 0.37929263 0.15871246 0.08465782]\n"
     ]
    }
   ],
   "source": [
    "# Set feature_importances variable using the attribute \"feature_importances_\".\n",
    "# The higher the score, the more important the feature in that particular combination.\n",
    "# If you changed the features in X it would impact the scores.\n",
    "# Similar to coefficients in that respect.\n",
    "feature_importances = model_3.feature_importances_\n",
    "print(\"Feature Importance scores:\", feature_importances)"
   ]
  },
  {
   "cell_type": "code",
   "execution_count": 61,
   "metadata": {},
   "outputs": [
    {
     "data": {
      "text/html": [
       "<div>\n",
       "<style scoped>\n",
       "    .dataframe tbody tr th:only-of-type {\n",
       "        vertical-align: middle;\n",
       "    }\n",
       "\n",
       "    .dataframe tbody tr th {\n",
       "        vertical-align: top;\n",
       "    }\n",
       "\n",
       "    .dataframe thead th {\n",
       "        text-align: right;\n",
       "    }\n",
       "</style>\n",
       "<table border=\"1\" class=\"dataframe\">\n",
       "  <thead>\n",
       "    <tr style=\"text-align: right;\">\n",
       "      <th></th>\n",
       "      <th>Features</th>\n",
       "      <th>Importance Score</th>\n",
       "    </tr>\n",
       "  </thead>\n",
       "  <tbody>\n",
       "    <tr>\n",
       "      <td>1</td>\n",
       "      <td>longitude</td>\n",
       "      <td>0.379293</td>\n",
       "    </tr>\n",
       "    <tr>\n",
       "      <td>0</td>\n",
       "      <td>latitude</td>\n",
       "      <td>0.377337</td>\n",
       "    </tr>\n",
       "    <tr>\n",
       "      <td>2</td>\n",
       "      <td>review_count</td>\n",
       "      <td>0.158712</td>\n",
       "    </tr>\n",
       "    <tr>\n",
       "      <td>3</td>\n",
       "      <td>stars</td>\n",
       "      <td>0.084658</td>\n",
       "    </tr>\n",
       "  </tbody>\n",
       "</table>\n",
       "</div>"
      ],
      "text/plain": [
       "       Features  Importance Score\n",
       "1     longitude          0.379293\n",
       "0      latitude          0.377337\n",
       "2  review_count          0.158712\n",
       "3         stars          0.084658"
      ]
     },
     "execution_count": 61,
     "metadata": {},
     "output_type": "execute_result"
    }
   ],
   "source": [
    "# Create a dataframe of the features and their respective importance scores\n",
    "features_df = pd.DataFrame({'Features': features, 'Importance Score': feature_importances})\n",
    "\n",
    "# Sort the values by \"Importance Score\" with ascending in false to ensure\n",
    "# the score appear from highest to lowest in the new dataframe\n",
    "features_df.sort_values('Importance Score', inplace=True, ascending=False)\n",
    "\n",
    "features_df"
   ]
  },
  {
   "cell_type": "code",
   "execution_count": 62,
   "metadata": {},
   "outputs": [
    {
     "name": "stdout",
     "output_type": "stream",
     "text": [
      "CV AUC [0.58515959 0.6057106  0.60749766 0.59137384 0.59386441], Average AUC 0.5967212232789282\n",
      "n trees: 1, CV AUC [0.51027861 0.52701994 0.53095832 0.51843039 0.51865609], Average AUC 0.521068670163223\n",
      "n trees: 11, CV AUC [0.60433718 0.57785692 0.59242958 0.58271988 0.55043564], Average AUC 0.581555840593132\n",
      "n trees: 21, CV AUC [0.59191309 0.59809013 0.58860891 0.59129552 0.58323338], Average AUC 0.5906282083133481\n",
      "n trees: 31, CV AUC [0.59789427 0.59455495 0.60093709 0.60101217 0.58678803], Average AUC 0.5962373021488819\n",
      "n trees: 41, CV AUC [0.59979109 0.59959448 0.60940382 0.58774134 0.59626739], Average AUC 0.5985596251991213\n",
      "n trees: 51, CV AUC [0.5953587  0.60879531 0.60349393 0.59026203 0.59622846], Average AUC 0.5988276892320823\n",
      "n trees: 61, CV AUC [0.5918188  0.60916422 0.60789669 0.59458971 0.60620232], Average AUC 0.6019343484789095\n",
      "n trees: 71, CV AUC [0.59566514 0.60437958 0.61719067 0.6003068  0.60284464], Average AUC 0.6040773669677104\n",
      "n trees: 81, CV AUC [0.60345532 0.6023798  0.61471308 0.59913799 0.60310093], Average AUC 0.6045574242232084\n",
      "n trees: 91, CV AUC [0.592727   0.60439997 0.61037521 0.59662517 0.60962303], Average AUC 0.6027500778794065\n"
     ]
    }
   ],
   "source": [
    "from sklearn.model_selection import cross_val_score\n",
    "\n",
    "# http://scikit-learn.org/stable/modules/generated/sklearn.model_selection.cross_val_score.html\n",
    "# cross_val_score(estimator, features, target, chosen scoring method) assigned to the variable \"scores.\"\n",
    "# scores will be a numpy array\n",
    "scores = cross_val_score(model_3, X, y, scoring='roc_auc', cv = 5)\n",
    "print('CV AUC {}, Average AUC {}'.format(scores, scores.mean()))\n",
    "\n",
    "# A for loop for running a Random Forest Classifier with n-estimators (or number of trees in your forest).\n",
    "# The is 1 to 100 in steps of 10 - range(start, end, step)\n",
    "for n_trees in range(1, 100, 10):\n",
    "    model = RandomForestClassifier(n_estimators = n_trees)\n",
    "    scores = cross_val_score(model, X, y, scoring='roc_auc', cv = 5)\n",
    "    print('n trees: {}, CV AUC {}, Average AUC {}'.format(n_trees, scores, scores.mean()))"
   ]
  },
  {
   "cell_type": "code",
   "execution_count": null,
   "metadata": {},
   "outputs": [],
   "source": []
  },
  {
   "cell_type": "code",
   "execution_count": 63,
   "metadata": {},
   "outputs": [],
   "source": [
    "# ZIP"
   ]
  },
  {
   "cell_type": "code",
   "execution_count": 64,
   "metadata": {},
   "outputs": [
    {
     "data": {
      "text/plain": [
       "0        44126\n",
       "1         4406\n",
       "2        44094\n",
       "3        44145\n",
       "4        44106\n",
       "         ...  \n",
       "14692     4424\n",
       "14693    44333\n",
       "14694    44224\n",
       "14695    44121\n",
       "14696     4421\n",
       "Name: postal_code_str, Length: 14697, dtype: object"
      ]
     },
     "execution_count": 64,
     "metadata": {},
     "output_type": "execute_result"
    }
   ],
   "source": [
    "business['postal_code_str']"
   ]
  },
  {
   "cell_type": "code",
   "execution_count": 65,
   "metadata": {},
   "outputs": [
    {
     "data": {
      "text/html": [
       "<div>\n",
       "<style scoped>\n",
       "    .dataframe tbody tr th:only-of-type {\n",
       "        vertical-align: middle;\n",
       "    }\n",
       "\n",
       "    .dataframe tbody tr th {\n",
       "        vertical-align: top;\n",
       "    }\n",
       "\n",
       "    .dataframe thead th {\n",
       "        text-align: right;\n",
       "    }\n",
       "</style>\n",
       "<table border=\"1\" class=\"dataframe\">\n",
       "  <thead>\n",
       "    <tr style=\"text-align: right;\">\n",
       "      <th></th>\n",
       "      <th>postal_code_str</th>\n",
       "      <th>stars</th>\n",
       "      <th>review_count</th>\n",
       "      <th>number_of businesses_by_zip</th>\n",
       "      <th>av_num_of_reviews_per_businesses_by_zip</th>\n",
       "    </tr>\n",
       "  </thead>\n",
       "  <tbody>\n",
       "    <tr>\n",
       "      <td>135</td>\n",
       "      <td>4515</td>\n",
       "      <td>1.00</td>\n",
       "      <td>4</td>\n",
       "      <td>1</td>\n",
       "      <td>4.0</td>\n",
       "    </tr>\n",
       "    <tr>\n",
       "      <td>1</td>\n",
       "      <td>28079</td>\n",
       "      <td>1.50</td>\n",
       "      <td>12</td>\n",
       "      <td>1</td>\n",
       "      <td>12.0</td>\n",
       "    </tr>\n",
       "    <tr>\n",
       "      <td>114</td>\n",
       "      <td>44258</td>\n",
       "      <td>1.67</td>\n",
       "      <td>12</td>\n",
       "      <td>3</td>\n",
       "      <td>4.0</td>\n",
       "    </tr>\n",
       "    <tr>\n",
       "      <td>92</td>\n",
       "      <td>44199</td>\n",
       "      <td>2.00</td>\n",
       "      <td>6</td>\n",
       "      <td>2</td>\n",
       "      <td>3.0</td>\n",
       "    </tr>\n",
       "    <tr>\n",
       "      <td>98</td>\n",
       "      <td>44219</td>\n",
       "      <td>2.50</td>\n",
       "      <td>4</td>\n",
       "      <td>1</td>\n",
       "      <td>4.0</td>\n",
       "    </tr>\n",
       "  </tbody>\n",
       "</table>\n",
       "</div>"
      ],
      "text/plain": [
       "    postal_code_str  stars  review_count  number_of businesses_by_zip  \\\n",
       "135            4515   1.00             4                            1   \n",
       "1             28079   1.50            12                            1   \n",
       "114           44258   1.67            12                            3   \n",
       "92            44199   2.00             6                            2   \n",
       "98            44219   2.50             4                            1   \n",
       "\n",
       "     av_num_of_reviews_per_businesses_by_zip  \n",
       "135                                      4.0  \n",
       "1                                       12.0  \n",
       "114                                      4.0  \n",
       "92                                       3.0  \n",
       "98                                       4.0  "
      ]
     },
     "execution_count": 65,
     "metadata": {},
     "output_type": "execute_result"
    }
   ],
   "source": [
    "# Create a dataframe for postal_code_str and the mean for 'stars'\n",
    "zip_stars = pd.DataFrame(business.groupby('postal_code_str').stars.mean().round(2))\n",
    "zip_stars.reset_index(level=0, inplace=True)\n",
    "# Create a dataframe for postal_code_str and the sum of 'review_count'\n",
    "zip_review_count = pd.DataFrame(business.groupby('postal_code_str').review_count.sum())\n",
    "zip_review_count.reset_index(level=0, inplace=True)\n",
    "# both these dataframes has a nan value - am not sure why\n",
    "# merge these two dataframes \n",
    "zip_stars_review = pd.merge(zip_stars,zip_review_count)\n",
    "zip_stars_review.sort_values(by=['review_count'])\n",
    "# create a dataframe of the number of businesses in each zip \n",
    "# there are no nan values here\n",
    "zip_business_count = pd.DataFrame(business['postal_code_str'].value_counts())\n",
    "zip_business_count.reset_index(level=0, inplace=True)\n",
    "zip_business_count.columns = ['postal_code_str','number_of businesses_by_zip']\n",
    "zip_business_count\n",
    "# merge the data frames together as a new dataframe \n",
    "zip = pd.merge(zip_stars_review,zip_business_count)\n",
    "# Calculate av num of reviews per location per zip\n",
    "zip['av_num_of_reviews_per_businesses_by_zip'] = (zip['review_count'] / zip['number_of businesses_by_zip']).round()\n",
    "# do sort\n",
    "zip.sort_values('stars', ascending = True).head(5)"
   ]
  },
  {
   "cell_type": "code",
   "execution_count": 66,
   "metadata": {},
   "outputs": [
    {
     "data": {
      "text/html": [
       "<div>\n",
       "<style scoped>\n",
       "    .dataframe tbody tr th:only-of-type {\n",
       "        vertical-align: middle;\n",
       "    }\n",
       "\n",
       "    .dataframe tbody tr th {\n",
       "        vertical-align: top;\n",
       "    }\n",
       "\n",
       "    .dataframe thead th {\n",
       "        text-align: right;\n",
       "    }\n",
       "</style>\n",
       "<table border=\"1\" class=\"dataframe\">\n",
       "  <thead>\n",
       "    <tr style=\"text-align: right;\">\n",
       "      <th></th>\n",
       "      <th>postal_code_str</th>\n",
       "      <th>stars</th>\n",
       "      <th>review_count</th>\n",
       "      <th>number_of businesses_by_zip</th>\n",
       "      <th>av_num_of_reviews_per_businesses_by_zip</th>\n",
       "    </tr>\n",
       "  </thead>\n",
       "  <tbody>\n",
       "    <tr>\n",
       "      <td>28</td>\n",
       "      <td>44064</td>\n",
       "      <td>5.00</td>\n",
       "      <td>5</td>\n",
       "      <td>1</td>\n",
       "      <td>5.0</td>\n",
       "    </tr>\n",
       "    <tr>\n",
       "      <td>107</td>\n",
       "      <td>44237</td>\n",
       "      <td>5.00</td>\n",
       "      <td>3</td>\n",
       "      <td>1</td>\n",
       "      <td>3.0</td>\n",
       "    </tr>\n",
       "    <tr>\n",
       "      <td>103</td>\n",
       "      <td>44231</td>\n",
       "      <td>5.00</td>\n",
       "      <td>3</td>\n",
       "      <td>1</td>\n",
       "      <td>3.0</td>\n",
       "    </tr>\n",
       "    <tr>\n",
       "      <td>110</td>\n",
       "      <td>44242</td>\n",
       "      <td>4.75</td>\n",
       "      <td>8</td>\n",
       "      <td>2</td>\n",
       "      <td>4.0</td>\n",
       "    </tr>\n",
       "    <tr>\n",
       "      <td>2</td>\n",
       "      <td>43123</td>\n",
       "      <td>4.50</td>\n",
       "      <td>3</td>\n",
       "      <td>1</td>\n",
       "      <td>3.0</td>\n",
       "    </tr>\n",
       "  </tbody>\n",
       "</table>\n",
       "</div>"
      ],
      "text/plain": [
       "    postal_code_str  stars  review_count  number_of businesses_by_zip  \\\n",
       "28            44064   5.00             5                            1   \n",
       "107           44237   5.00             3                            1   \n",
       "103           44231   5.00             3                            1   \n",
       "110           44242   4.75             8                            2   \n",
       "2             43123   4.50             3                            1   \n",
       "\n",
       "     av_num_of_reviews_per_businesses_by_zip  \n",
       "28                                       5.0  \n",
       "107                                      3.0  \n",
       "103                                      3.0  \n",
       "110                                      4.0  \n",
       "2                                        3.0  "
      ]
     },
     "execution_count": 66,
     "metadata": {},
     "output_type": "execute_result"
    }
   ],
   "source": [
    "zip.sort_values('stars', ascending = False).head(5)"
   ]
  },
  {
   "cell_type": "code",
   "execution_count": 67,
   "metadata": {},
   "outputs": [
    {
     "data": {
      "text/html": [
       "<div>\n",
       "<style scoped>\n",
       "    .dataframe tbody tr th:only-of-type {\n",
       "        vertical-align: middle;\n",
       "    }\n",
       "\n",
       "    .dataframe tbody tr th {\n",
       "        vertical-align: top;\n",
       "    }\n",
       "\n",
       "    .dataframe thead th {\n",
       "        text-align: right;\n",
       "    }\n",
       "</style>\n",
       "<table border=\"1\" class=\"dataframe\">\n",
       "  <thead>\n",
       "    <tr style=\"text-align: right;\">\n",
       "      <th></th>\n",
       "      <th>postal_code_str</th>\n",
       "      <th>stars</th>\n",
       "      <th>review_count</th>\n",
       "      <th>number_of businesses_by_zip</th>\n",
       "      <th>av_num_of_reviews_per_businesses_by_zip</th>\n",
       "    </tr>\n",
       "  </thead>\n",
       "  <tbody>\n",
       "    <tr>\n",
       "      <td>17</td>\n",
       "      <td>44045</td>\n",
       "      <td>3.25</td>\n",
       "      <td>257</td>\n",
       "      <td>2</td>\n",
       "      <td>128.0</td>\n",
       "    </tr>\n",
       "    <tr>\n",
       "      <td>124</td>\n",
       "      <td>44307</td>\n",
       "      <td>4.00</td>\n",
       "      <td>64</td>\n",
       "      <td>1</td>\n",
       "      <td>64.0</td>\n",
       "    </tr>\n",
       "    <tr>\n",
       "      <td>54</td>\n",
       "      <td>44113</td>\n",
       "      <td>3.79</td>\n",
       "      <td>34752</td>\n",
       "      <td>603</td>\n",
       "      <td>58.0</td>\n",
       "    </tr>\n",
       "    <tr>\n",
       "      <td>56</td>\n",
       "      <td>44115</td>\n",
       "      <td>3.63</td>\n",
       "      <td>14202</td>\n",
       "      <td>254</td>\n",
       "      <td>56.0</td>\n",
       "    </tr>\n",
       "    <tr>\n",
       "      <td>47</td>\n",
       "      <td>44106</td>\n",
       "      <td>3.55</td>\n",
       "      <td>11002</td>\n",
       "      <td>243</td>\n",
       "      <td>45.0</td>\n",
       "    </tr>\n",
       "  </tbody>\n",
       "</table>\n",
       "</div>"
      ],
      "text/plain": [
       "    postal_code_str  stars  review_count  number_of businesses_by_zip  \\\n",
       "17            44045   3.25           257                            2   \n",
       "124           44307   4.00            64                            1   \n",
       "54            44113   3.79         34752                          603   \n",
       "56            44115   3.63         14202                          254   \n",
       "47            44106   3.55         11002                          243   \n",
       "\n",
       "     av_num_of_reviews_per_businesses_by_zip  \n",
       "17                                     128.0  \n",
       "124                                     64.0  \n",
       "54                                      58.0  \n",
       "56                                      56.0  \n",
       "47                                      45.0  "
      ]
     },
     "execution_count": 67,
     "metadata": {},
     "output_type": "execute_result"
    }
   ],
   "source": [
    "# See low business counts for rank 1 & 2\n",
    "zip.sort_values('av_num_of_reviews_per_businesses_by_zip', ascending = False).head(5)"
   ]
  },
  {
   "cell_type": "code",
   "execution_count": 68,
   "metadata": {},
   "outputs": [
    {
     "data": {
      "text/html": [
       "<div>\n",
       "<style scoped>\n",
       "    .dataframe tbody tr th:only-of-type {\n",
       "        vertical-align: middle;\n",
       "    }\n",
       "\n",
       "    .dataframe tbody tr th {\n",
       "        vertical-align: top;\n",
       "    }\n",
       "\n",
       "    .dataframe thead th {\n",
       "        text-align: right;\n",
       "    }\n",
       "</style>\n",
       "<table border=\"1\" class=\"dataframe\">\n",
       "  <thead>\n",
       "    <tr style=\"text-align: right;\">\n",
       "      <th></th>\n",
       "      <th>postal_code_str</th>\n",
       "      <th>stars</th>\n",
       "      <th>review_count</th>\n",
       "      <th>number_of businesses_by_zip</th>\n",
       "      <th>av_num_of_reviews_per_businesses_by_zip</th>\n",
       "    </tr>\n",
       "  </thead>\n",
       "  <tbody>\n",
       "    <tr>\n",
       "      <td>54</td>\n",
       "      <td>44113</td>\n",
       "      <td>3.79</td>\n",
       "      <td>34752</td>\n",
       "      <td>603</td>\n",
       "      <td>58.0</td>\n",
       "    </tr>\n",
       "    <tr>\n",
       "      <td>48</td>\n",
       "      <td>44107</td>\n",
       "      <td>3.80</td>\n",
       "      <td>18028</td>\n",
       "      <td>541</td>\n",
       "      <td>33.0</td>\n",
       "    </tr>\n",
       "    <tr>\n",
       "      <td>55</td>\n",
       "      <td>44114</td>\n",
       "      <td>3.67</td>\n",
       "      <td>14825</td>\n",
       "      <td>358</td>\n",
       "      <td>41.0</td>\n",
       "    </tr>\n",
       "    <tr>\n",
       "      <td>56</td>\n",
       "      <td>44115</td>\n",
       "      <td>3.63</td>\n",
       "      <td>14202</td>\n",
       "      <td>254</td>\n",
       "      <td>56.0</td>\n",
       "    </tr>\n",
       "    <tr>\n",
       "      <td>63</td>\n",
       "      <td>44122</td>\n",
       "      <td>3.41</td>\n",
       "      <td>11506</td>\n",
       "      <td>451</td>\n",
       "      <td>26.0</td>\n",
       "    </tr>\n",
       "  </tbody>\n",
       "</table>\n",
       "</div>"
      ],
      "text/plain": [
       "   postal_code_str  stars  review_count  number_of businesses_by_zip  \\\n",
       "54           44113   3.79         34752                          603   \n",
       "48           44107   3.80         18028                          541   \n",
       "55           44114   3.67         14825                          358   \n",
       "56           44115   3.63         14202                          254   \n",
       "63           44122   3.41         11506                          451   \n",
       "\n",
       "    av_num_of_reviews_per_businesses_by_zip  \n",
       "54                                     58.0  \n",
       "48                                     33.0  \n",
       "55                                     41.0  \n",
       "56                                     56.0  \n",
       "63                                     26.0  "
      ]
     },
     "execution_count": 68,
     "metadata": {},
     "output_type": "execute_result"
    }
   ],
   "source": [
    "zip.sort_values('review_count', ascending = False).head(5)"
   ]
  },
  {
   "cell_type": "code",
   "execution_count": 69,
   "metadata": {
    "scrolled": true
   },
   "outputs": [
    {
     "data": {
      "image/png": "[encoded data removed]",
      "text/plain": [
       "<Figure size 720x576 with 9 Axes>"
      ]
     },
     "metadata": {
      "needs_background": "light"
     },
     "output_type": "display_data"
    }
   ],
   "source": [
    "# Scatter matrix of three numerical columns\n",
    "pd.plotting.scatter_matrix(zip[['number_of businesses_by_zip', 'review_count', 'stars']], figsize=(10, 8));"
   ]
  },
  {
   "cell_type": "code",
   "execution_count": 70,
   "metadata": {},
   "outputs": [
    {
     "data": {
      "text/html": [
       "<div>\n",
       "<style scoped>\n",
       "    .dataframe tbody tr th:only-of-type {\n",
       "        vertical-align: middle;\n",
       "    }\n",
       "\n",
       "    .dataframe tbody tr th {\n",
       "        vertical-align: top;\n",
       "    }\n",
       "\n",
       "    .dataframe thead th {\n",
       "        text-align: right;\n",
       "    }\n",
       "</style>\n",
       "<table border=\"1\" class=\"dataframe\">\n",
       "  <thead>\n",
       "    <tr style=\"text-align: right;\">\n",
       "      <th></th>\n",
       "      <th>postal_code_str</th>\n",
       "      <th>stars</th>\n",
       "      <th>review_count</th>\n",
       "      <th>number_of businesses_by_zip</th>\n",
       "      <th>av_num_of_reviews_per_businesses_by_zip</th>\n",
       "    </tr>\n",
       "  </thead>\n",
       "  <tbody>\n",
       "    <tr>\n",
       "      <td>54</td>\n",
       "      <td>44113</td>\n",
       "      <td>3.79</td>\n",
       "      <td>34752</td>\n",
       "      <td>603</td>\n",
       "      <td>58.0</td>\n",
       "    </tr>\n",
       "    <tr>\n",
       "      <td>48</td>\n",
       "      <td>44107</td>\n",
       "      <td>3.80</td>\n",
       "      <td>18028</td>\n",
       "      <td>541</td>\n",
       "      <td>33.0</td>\n",
       "    </tr>\n",
       "    <tr>\n",
       "      <td>55</td>\n",
       "      <td>44114</td>\n",
       "      <td>3.67</td>\n",
       "      <td>14825</td>\n",
       "      <td>358</td>\n",
       "      <td>41.0</td>\n",
       "    </tr>\n",
       "    <tr>\n",
       "      <td>56</td>\n",
       "      <td>44115</td>\n",
       "      <td>3.63</td>\n",
       "      <td>14202</td>\n",
       "      <td>254</td>\n",
       "      <td>56.0</td>\n",
       "    </tr>\n",
       "    <tr>\n",
       "      <td>63</td>\n",
       "      <td>44122</td>\n",
       "      <td>3.41</td>\n",
       "      <td>11506</td>\n",
       "      <td>451</td>\n",
       "      <td>26.0</td>\n",
       "    </tr>\n",
       "  </tbody>\n",
       "</table>\n",
       "</div>"
      ],
      "text/plain": [
       "   postal_code_str  stars  review_count  number_of businesses_by_zip  \\\n",
       "54           44113   3.79         34752                          603   \n",
       "48           44107   3.80         18028                          541   \n",
       "55           44114   3.67         14825                          358   \n",
       "56           44115   3.63         14202                          254   \n",
       "63           44122   3.41         11506                          451   \n",
       "\n",
       "    av_num_of_reviews_per_businesses_by_zip  \n",
       "54                                     58.0  \n",
       "48                                     33.0  \n",
       "55                                     41.0  \n",
       "56                                     56.0  \n",
       "63                                     26.0  "
      ]
     },
     "execution_count": 70,
     "metadata": {},
     "output_type": "execute_result"
    }
   ],
   "source": [
    "zip.sort_values('review_count', ascending = False).head(5)"
   ]
  },
  {
   "cell_type": "code",
   "execution_count": 71,
   "metadata": {},
   "outputs": [
    {
     "data": {
      "text/plain": [
       "review_count                               1.000000\n",
       "number_of businesses_by_zip                0.840972\n",
       "av_num_of_reviews_per_businesses_by_zip    0.460614\n",
       "stars                                      0.024093\n",
       "Name: review_count, dtype: float64"
      ]
     },
     "execution_count": 71,
     "metadata": {},
     "output_type": "execute_result"
    }
   ],
   "source": [
    "# review count correlates very well to business count by zip\n",
    "abs(zip.corr()['review_count']).sort_values(ascending=False)"
   ]
  },
  {
   "cell_type": "code",
   "execution_count": 72,
   "metadata": {},
   "outputs": [],
   "source": [
    "# conclusion - the more reviews generated for businesses in a particular zip, the more likely they are to tend towards the mean "
   ]
  },
  {
   "cell_type": "code",
   "execution_count": null,
   "metadata": {},
   "outputs": [],
   "source": []
  },
  {
   "cell_type": "code",
   "execution_count": 73,
   "metadata": {},
   "outputs": [],
   "source": [
    "# LATITUDE LONGITUDE"
   ]
  },
  {
   "cell_type": "code",
   "execution_count": 82,
   "metadata": {},
   "outputs": [
    {
     "data": {
      "text/html": [
       "<div>\n",
       "<style scoped>\n",
       "    .dataframe tbody tr th:only-of-type {\n",
       "        vertical-align: middle;\n",
       "    }\n",
       "\n",
       "    .dataframe tbody tr th {\n",
       "        vertical-align: top;\n",
       "    }\n",
       "\n",
       "    .dataframe thead th {\n",
       "        text-align: right;\n",
       "    }\n",
       "</style>\n",
       "<table border=\"1\" class=\"dataframe\">\n",
       "  <thead>\n",
       "    <tr style=\"text-align: right;\">\n",
       "      <th></th>\n",
       "      <th>latitude</th>\n",
       "      <th>longitude</th>\n",
       "      <th>stars</th>\n",
       "      <th>review_count</th>\n",
       "      <th>is_open</th>\n",
       "    </tr>\n",
       "    <tr>\n",
       "      <th>lat_lon_cluster</th>\n",
       "      <th></th>\n",
       "      <th></th>\n",
       "      <th></th>\n",
       "      <th></th>\n",
       "      <th></th>\n",
       "    </tr>\n",
       "  </thead>\n",
       "  <tbody>\n",
       "    <tr>\n",
       "      <td>7</td>\n",
       "      <td>41.405004</td>\n",
       "      <td>-81.655725</td>\n",
       "      <td>3.464836</td>\n",
       "      <td>5.027083</td>\n",
       "      <td>0.847111</td>\n",
       "    </tr>\n",
       "    <tr>\n",
       "      <td>1</td>\n",
       "      <td>41.408748</td>\n",
       "      <td>-81.655550</td>\n",
       "      <td>3.495747</td>\n",
       "      <td>16.883634</td>\n",
       "      <td>0.851990</td>\n",
       "    </tr>\n",
       "    <tr>\n",
       "      <td>6</td>\n",
       "      <td>41.418755</td>\n",
       "      <td>-81.645971</td>\n",
       "      <td>3.551435</td>\n",
       "      <td>38.227273</td>\n",
       "      <td>0.841308</td>\n",
       "    </tr>\n",
       "    <tr>\n",
       "      <td>4</td>\n",
       "      <td>41.419818</td>\n",
       "      <td>-81.652360</td>\n",
       "      <td>3.707891</td>\n",
       "      <td>67.743551</td>\n",
       "      <td>0.896813</td>\n",
       "    </tr>\n",
       "    <tr>\n",
       "      <td>8</td>\n",
       "      <td>41.420811</td>\n",
       "      <td>-81.660544</td>\n",
       "      <td>3.775862</td>\n",
       "      <td>111.596817</td>\n",
       "      <td>0.907162</td>\n",
       "    </tr>\n",
       "    <tr>\n",
       "      <td>0</td>\n",
       "      <td>41.445480</td>\n",
       "      <td>-81.659154</td>\n",
       "      <td>3.803867</td>\n",
       "      <td>170.845304</td>\n",
       "      <td>0.950276</td>\n",
       "    </tr>\n",
       "    <tr>\n",
       "      <td>5</td>\n",
       "      <td>41.454293</td>\n",
       "      <td>-81.686698</td>\n",
       "      <td>3.856164</td>\n",
       "      <td>264.013699</td>\n",
       "      <td>0.958904</td>\n",
       "    </tr>\n",
       "    <tr>\n",
       "      <td>2</td>\n",
       "      <td>41.462097</td>\n",
       "      <td>-81.672902</td>\n",
       "      <td>3.952381</td>\n",
       "      <td>553.238095</td>\n",
       "      <td>0.952381</td>\n",
       "    </tr>\n",
       "    <tr>\n",
       "      <td>9</td>\n",
       "      <td>41.482522</td>\n",
       "      <td>-81.691090</td>\n",
       "      <td>3.964286</td>\n",
       "      <td>396.321429</td>\n",
       "      <td>0.964286</td>\n",
       "    </tr>\n",
       "    <tr>\n",
       "      <td>3</td>\n",
       "      <td>41.489258</td>\n",
       "      <td>-81.708026</td>\n",
       "      <td>4.000000</td>\n",
       "      <td>916.000000</td>\n",
       "      <td>1.000000</td>\n",
       "    </tr>\n",
       "  </tbody>\n",
       "</table>\n",
       "</div>"
      ],
      "text/plain": [
       "                  latitude  longitude     stars  review_count   is_open\n",
       "lat_lon_cluster                                                        \n",
       "7                41.405004 -81.655725  3.464836      5.027083  0.847111\n",
       "1                41.408748 -81.655550  3.495747     16.883634  0.851990\n",
       "6                41.418755 -81.645971  3.551435     38.227273  0.841308\n",
       "4                41.419818 -81.652360  3.707891     67.743551  0.896813\n",
       "8                41.420811 -81.660544  3.775862    111.596817  0.907162\n",
       "0                41.445480 -81.659154  3.803867    170.845304  0.950276\n",
       "5                41.454293 -81.686698  3.856164    264.013699  0.958904\n",
       "2                41.462097 -81.672902  3.952381    553.238095  0.952381\n",
       "9                41.482522 -81.691090  3.964286    396.321429  0.964286\n",
       "3                41.489258 -81.708026  4.000000    916.000000  1.000000"
      ]
     },
     "execution_count": 82,
     "metadata": {},
     "output_type": "execute_result"
    }
   ],
   "source": [
    "# Do clustering kmeans of lat lon\n",
    "X = business[['latitude', 'longitude', 'review_count']]\n",
    "\n",
    "from sklearn.cluster import KMeans\n",
    "km = KMeans(n_clusters=10, random_state=1)\n",
    "km.fit(X)\n",
    "\n",
    "km.labels_\n",
    "\n",
    "lat_long_df = business\n",
    "lat_long_df['lat_lon_cluster'] = km.labels_\n",
    "\n",
    "km.cluster_centers_\n",
    "\n",
    "lat_long_groupby_df = lat_long_df.groupby('lat_lon_cluster').mean().sort_values('stars')\n",
    "lat_long_groupby_df "
   ]
  },
  {
   "cell_type": "code",
   "execution_count": 83,
   "metadata": {},
   "outputs": [
    {
     "name": "stdout",
     "output_type": "stream",
     "text": [
      "Counter({7: 9157, 1: 2939, 6: 1254, 4: 659, 8: 377, 0: 181, 5: 73, 9: 28, 2: 21, 3: 8})\n"
     ]
    }
   ],
   "source": [
    "# count the number of rows in each cluster\n",
    "from collections import Counter, defaultdict\n",
    "print(Counter(km.labels_))"
   ]
  },
  {
   "cell_type": "code",
   "execution_count": 84,
   "metadata": {},
   "outputs": [],
   "source": [
    "# Does a search on the coordinates for lat lon 3 gies this location Arizona 202 Loop East, Phoenix, AZ 85008"
   ]
  },
  {
   "cell_type": "code",
   "execution_count": 85,
   "metadata": {},
   "outputs": [
    {
     "data": {
      "image/png": "[encoded data removed]",
      "text/plain": [
       "<Figure size 432x288 with 1 Axes>"
      ]
     },
     "metadata": {
      "needs_background": "light"
     },
     "output_type": "display_data"
    }
   ],
   "source": [
    "# Plotting average review count per business in a zip against average star rating \n",
    "lat_long_groupby_df.plot(kind='scatter', x='review_count', y='stars', title = 'Av. business stars for clusters (by lat, lon & review counts) by av. review count');"
   ]
  },
  {
   "cell_type": "code",
   "execution_count": 75,
   "metadata": {},
   "outputs": [
    {
     "data": {
      "text/plain": [
       "44113    4\n",
       "44115    3\n",
       "44107    1\n",
       "Name: postal_code_str, dtype: int64"
      ]
     },
     "execution_count": 75,
     "metadata": {},
     "output_type": "execute_result"
    }
   ],
   "source": [
    "# zips are not unique for each cluster\n",
    "lat_long_df[lat_long_df.lat_lon_cluster == 3].postal_code_str.value_counts()"
   ]
  },
  {
   "cell_type": "code",
   "execution_count": 76,
   "metadata": {},
   "outputs": [
    {
     "data": {
      "text/plain": [
       "916.0"
      ]
     },
     "execution_count": 76,
     "metadata": {},
     "output_type": "execute_result"
    }
   ],
   "source": [
    "lat_long_df[lat_long_df.lat_lon_cluster == 3].review_count.sum() / len(lat_long_df[lat_long_df.lat_lon_cluster == 3])"
   ]
  },
  {
   "cell_type": "code",
   "execution_count": 77,
   "metadata": {},
   "outputs": [
    {
     "data": {
      "text/plain": [
       "array([[ 41.44548001, -81.65915445, 170.84530387],\n",
       "       [ 41.40874766, -81.65555002,  16.88363389],\n",
       "       [ 41.46209727, -81.67290156, 553.23809524],\n",
       "       [ 41.48925795, -81.70802644, 916.        ],\n",
       "       [ 41.41981814, -81.65236026,  67.74355083],\n",
       "       [ 41.45429292, -81.68669764, 264.01369863],\n",
       "       [ 41.41875516, -81.64597069,  38.22727273],\n",
       "       [ 41.40500422, -81.6557248 ,   5.02708311],\n",
       "       [ 41.42081124, -81.66054403, 111.59681698],\n",
       "       [ 41.48252159, -81.69109023, 396.32142857]])"
      ]
     },
     "execution_count": 77,
     "metadata": {},
     "output_type": "execute_result"
    }
   ],
   "source": [
    "# No add zip \n",
    "# Do clustering of lat lon\n",
    "X = business[['latitude', 'longitude', 'review_count']]\n",
    "\n",
    "from sklearn.cluster import KMeans\n",
    "km = KMeans(n_clusters=10, random_state=1)\n",
    "km.fit(X)\n",
    "\n",
    "km.labels_\n",
    "\n",
    "lat_long_zip_df = business\n",
    "\n",
    "lat_long_zip_df['lat_lon_cluster'] = km.labels_\n",
    "\n",
    "km.cluster_centers_\n",
    "\n"
   ]
  },
  {
   "cell_type": "code",
   "execution_count": null,
   "metadata": {},
   "outputs": [],
   "source": []
  },
  {
   "cell_type": "code",
   "execution_count": 78,
   "metadata": {},
   "outputs": [],
   "source": [
    "# CATEGORIES"
   ]
  },
  {
   "cell_type": "code",
   "execution_count": 79,
   "metadata": {},
   "outputs": [
    {
     "data": {
      "text/html": [
       "<div>\n",
       "<style scoped>\n",
       "    .dataframe tbody tr th:only-of-type {\n",
       "        vertical-align: middle;\n",
       "    }\n",
       "\n",
       "    .dataframe tbody tr th {\n",
       "        vertical-align: top;\n",
       "    }\n",
       "\n",
       "    .dataframe thead th {\n",
       "        text-align: right;\n",
       "    }\n",
       "</style>\n",
       "<table border=\"1\" class=\"dataframe\">\n",
       "  <thead>\n",
       "    <tr style=\"text-align: right;\">\n",
       "      <th></th>\n",
       "      <th>business_id</th>\n",
       "      <th>name</th>\n",
       "      <th>address</th>\n",
       "      <th>city</th>\n",
       "      <th>state</th>\n",
       "      <th>postal_code</th>\n",
       "      <th>latitude</th>\n",
       "      <th>longitude</th>\n",
       "      <th>stars</th>\n",
       "      <th>review_count</th>\n",
       "      <th>is_open</th>\n",
       "      <th>attributes</th>\n",
       "      <th>categories</th>\n",
       "      <th>hours</th>\n",
       "      <th>postal_code_str</th>\n",
       "      <th>lat_lon_cluster</th>\n",
       "    </tr>\n",
       "  </thead>\n",
       "  <tbody>\n",
       "    <tr>\n",
       "      <td>0</td>\n",
       "      <td>4GBVPIYRvzGh4K4TkRQ_rw</td>\n",
       "      <td>Options Salon &amp; Spa</td>\n",
       "      <td>21689 Lorain Rd</td>\n",
       "      <td>Fairview Park</td>\n",
       "      <td>OH</td>\n",
       "      <td>44126</td>\n",
       "      <td>41.440825</td>\n",
       "      <td>-81.854097</td>\n",
       "      <td>4.5</td>\n",
       "      <td>8</td>\n",
       "      <td>1</td>\n",
       "      <td>{'ByAppointmentOnly': 'False', 'BusinessAccept...</td>\n",
       "      <td>Beauty &amp; Spas, Nail Salons, Day Spas, Massage</td>\n",
       "      <td>{'Tuesday': '9:0-21:0', 'Wednesday': '9:0-21:0...</td>\n",
       "      <td>44126</td>\n",
       "      <td>7</td>\n",
       "    </tr>\n",
       "  </tbody>\n",
       "</table>\n",
       "</div>"
      ],
      "text/plain": [
       "              business_id                 name          address  \\\n",
       "0  4GBVPIYRvzGh4K4TkRQ_rw  Options Salon & Spa  21689 Lorain Rd   \n",
       "\n",
       "            city state postal_code   latitude  longitude  stars  review_count  \\\n",
       "0  Fairview Park    OH       44126  41.440825 -81.854097    4.5             8   \n",
       "\n",
       "   is_open                                         attributes  \\\n",
       "0        1  {'ByAppointmentOnly': 'False', 'BusinessAccept...   \n",
       "\n",
       "                                      categories  \\\n",
       "0  Beauty & Spas, Nail Salons, Day Spas, Massage   \n",
       "\n",
       "                                               hours postal_code_str  \\\n",
       "0  {'Tuesday': '9:0-21:0', 'Wednesday': '9:0-21:0...           44126   \n",
       "\n",
       "   lat_lon_cluster  \n",
       "0                7  "
      ]
     },
     "execution_count": 79,
     "metadata": {},
     "output_type": "execute_result"
    }
   ],
   "source": [
    "business.head(1)"
   ]
  },
  {
   "cell_type": "code",
   "execution_count": 80,
   "metadata": {},
   "outputs": [],
   "source": [
    "categories_dummies = business['categories'].str.get_dummies(', ').replace(0, '')"
   ]
  },
  {
   "cell_type": "code",
   "execution_count": 81,
   "metadata": {},
   "outputs": [
    {
     "data": {
      "text/plain": [
       "(14697, 1000)"
      ]
     },
     "execution_count": 81,
     "metadata": {},
     "output_type": "execute_result"
    }
   ],
   "source": [
    "categories_dummies.shape"
   ]
  },
  {
   "cell_type": "code",
   "execution_count": 82,
   "metadata": {},
   "outputs": [
    {
     "data": {
      "text/html": [
       "<div>\n",
       "<style scoped>\n",
       "    .dataframe tbody tr th:only-of-type {\n",
       "        vertical-align: middle;\n",
       "    }\n",
       "\n",
       "    .dataframe tbody tr th {\n",
       "        vertical-align: top;\n",
       "    }\n",
       "\n",
       "    .dataframe thead th {\n",
       "        text-align: right;\n",
       "    }\n",
       "</style>\n",
       "<table border=\"1\" class=\"dataframe\">\n",
       "  <thead>\n",
       "    <tr style=\"text-align: right;\">\n",
       "      <th></th>\n",
       "      <th>business_id</th>\n",
       "      <th>name</th>\n",
       "      <th>address</th>\n",
       "      <th>city</th>\n",
       "      <th>state</th>\n",
       "      <th>postal_code</th>\n",
       "      <th>latitude</th>\n",
       "      <th>longitude</th>\n",
       "      <th>stars</th>\n",
       "      <th>review_count</th>\n",
       "      <th>...</th>\n",
       "      <th>Wine Tasting Room</th>\n",
       "      <th>Wine Tours</th>\n",
       "      <th>Wineries</th>\n",
       "      <th>Women's Clothing</th>\n",
       "      <th>Workers Compensation Law</th>\n",
       "      <th>Wraps</th>\n",
       "      <th>Yelp Events</th>\n",
       "      <th>Yoga</th>\n",
       "      <th>Ziplining</th>\n",
       "      <th>Zoos</th>\n",
       "    </tr>\n",
       "  </thead>\n",
       "  <tbody>\n",
       "    <tr>\n",
       "      <td>0</td>\n",
       "      <td>4GBVPIYRvzGh4K4TkRQ_rw</td>\n",
       "      <td>Options Salon &amp; Spa</td>\n",
       "      <td>21689 Lorain Rd</td>\n",
       "      <td>Fairview Park</td>\n",
       "      <td>OH</td>\n",
       "      <td>44126</td>\n",
       "      <td>41.440825</td>\n",
       "      <td>-81.854097</td>\n",
       "      <td>4.5</td>\n",
       "      <td>8</td>\n",
       "      <td>...</td>\n",
       "      <td></td>\n",
       "      <td></td>\n",
       "      <td></td>\n",
       "      <td></td>\n",
       "      <td></td>\n",
       "      <td></td>\n",
       "      <td></td>\n",
       "      <td></td>\n",
       "      <td></td>\n",
       "      <td></td>\n",
       "    </tr>\n",
       "  </tbody>\n",
       "</table>\n",
       "<p>1 rows × 1016 columns</p>\n",
       "</div>"
      ],
      "text/plain": [
       "              business_id                 name          address  \\\n",
       "0  4GBVPIYRvzGh4K4TkRQ_rw  Options Salon & Spa  21689 Lorain Rd   \n",
       "\n",
       "            city state postal_code   latitude  longitude  stars  review_count  \\\n",
       "0  Fairview Park    OH       44126  41.440825 -81.854097    4.5             8   \n",
       "\n",
       "   ...  Wine Tasting Room Wine Tours Wineries Women's Clothing  \\\n",
       "0  ...                                                           \n",
       "\n",
       "  Workers Compensation Law  Wraps Yelp Events Yoga Ziplining Zoos  \n",
       "0                                                                  \n",
       "\n",
       "[1 rows x 1016 columns]"
      ]
     },
     "execution_count": 82,
     "metadata": {},
     "output_type": "execute_result"
    }
   ],
   "source": [
    "categories_df = pd.concat([business, categories_dummies.reindex(categories_dummies.index)], axis=1)\n",
    "categories_df.shape\n",
    "categories_df.head(1)"
   ]
  },
  {
   "cell_type": "code",
   "execution_count": 83,
   "metadata": {
    "scrolled": true
   },
   "outputs": [
    {
     "data": {
      "text/plain": [
       "Restaurants                  5522\n",
       "Food                         2621\n",
       "Shopping                     2403\n",
       "Nightlife                    1449\n",
       "Bars                         1340\n",
       "Beauty & Spas                1296\n",
       "Automotive                   1148\n",
       "American (Traditional)       1077\n",
       "Home Services                 994\n",
       "Event Planning & Services     945\n",
       "Local Services                881\n",
       "Sandwiches                    876\n",
       "Pizza                         870\n",
       "Health & Medical              799\n",
       "American (New)                759\n",
       "Fast Food                     754\n",
       "Active Life                   720\n",
       "Burgers                       681\n",
       "Auto Repair                   642\n",
       "Fashion                       558\n",
       "Hotels & Travel               555\n",
       "Hair Salons                   539\n",
       "Coffee & Tea                  523\n",
       "Home & Garden                 506\n",
       "Arts & Entertainment          497\n",
       "Breakfast & Brunch            485\n",
       "Specialty Food                470\n",
       "Italian                       461\n",
       "Nail Salons                   454\n",
       "Pets                          416\n",
       "dtype: int64"
      ]
     },
     "execution_count": 83,
     "metadata": {},
     "output_type": "execute_result"
    }
   ],
   "source": [
    "categories_dummies.astype(bool).sum(axis=0).sort_values(ascending=False).head(30)"
   ]
  },
  {
   "cell_type": "code",
   "execution_count": 84,
   "metadata": {},
   "outputs": [
    {
     "data": {
      "text/plain": [
       "Fast Food\n",
       "1    2.757294\n",
       "     3.545794\n",
       "Name: stars, dtype: float64"
      ]
     },
     "execution_count": 84,
     "metadata": {},
     "output_type": "execute_result"
    }
   ],
   "source": [
    "categories_df.groupby('Fast Food').stars.mean()"
   ]
  },
  {
   "cell_type": "code",
   "execution_count": 85,
   "metadata": {},
   "outputs": [
    {
     "data": {
      "text/plain": [
       "-0.22237593330322725"
      ]
     },
     "execution_count": 85,
     "metadata": {},
     "output_type": "execute_result"
    }
   ],
   "source": [
    "# Percentage difference with fast food aggregate star rating\n",
    "categories_df.groupby('Fast Food').stars.mean()[1] / categories_df.groupby('Fast Food').stars.mean()[''] - 1"
   ]
  },
  {
   "cell_type": "code",
   "execution_count": 86,
   "metadata": {},
   "outputs": [
    {
     "data": {
      "text/plain": [
       "Mexican\n",
       "1    3.230205\n",
       "     3.511877\n",
       "Name: stars, dtype: float64"
      ]
     },
     "execution_count": 86,
     "metadata": {},
     "output_type": "execute_result"
    }
   ],
   "source": [
    "categories_df.groupby('Mexican').stars.mean()"
   ]
  },
  {
   "cell_type": "code",
   "execution_count": 87,
   "metadata": {},
   "outputs": [
    {
     "data": {
      "text/plain": [
       "Cafes\n",
       "1    3.884615\n",
       "     3.500929\n",
       "Name: stars, dtype: float64"
      ]
     },
     "execution_count": 87,
     "metadata": {},
     "output_type": "execute_result"
    }
   ],
   "source": [
    "categories_df.groupby('Cafes').stars.mean()"
   ]
  },
  {
   "cell_type": "code",
   "execution_count": 88,
   "metadata": {},
   "outputs": [
    {
     "data": {
      "text/plain": [
       "Mediterranean\n",
       "1    3.909449\n",
       "     3.501819\n",
       "Name: stars, dtype: float64"
      ]
     },
     "execution_count": 88,
     "metadata": {},
     "output_type": "execute_result"
    }
   ],
   "source": [
    "categories_df.groupby('Mediterranean').stars.mean()"
   ]
  },
  {
   "cell_type": "code",
   "execution_count": null,
   "metadata": {},
   "outputs": [],
   "source": []
  },
  {
   "cell_type": "code",
   "execution_count": 89,
   "metadata": {},
   "outputs": [],
   "source": [
    "#ATTRIBUTES"
   ]
  },
  {
   "cell_type": "code",
   "execution_count": 90,
   "metadata": {},
   "outputs": [
    {
     "data": {
      "text/plain": [
       "(14697, 16)"
      ]
     },
     "execution_count": 90,
     "metadata": {},
     "output_type": "execute_result"
    }
   ],
   "source": [
    "business.shape"
   ]
  },
  {
   "cell_type": "code",
   "execution_count": 91,
   "metadata": {},
   "outputs": [
    {
     "data": {
      "text/plain": [
       "(12603, 17)"
      ]
     },
     "execution_count": 91,
     "metadata": {},
     "output_type": "execute_result"
    }
   ],
   "source": [
    "# drop rows that where the 'attributes' is null and create a new dataframe\n",
    "business_attributes_not_nan = business[business['attributes'].notna()].reset_index()\n",
    "business_attributes_not_nan.shape"
   ]
  },
  {
   "cell_type": "code",
   "execution_count": 92,
   "metadata": {},
   "outputs": [
    {
     "data": {
      "text/html": [
       "<div>\n",
       "<style scoped>\n",
       "    .dataframe tbody tr th:only-of-type {\n",
       "        vertical-align: middle;\n",
       "    }\n",
       "\n",
       "    .dataframe tbody tr th {\n",
       "        vertical-align: top;\n",
       "    }\n",
       "\n",
       "    .dataframe thead th {\n",
       "        text-align: right;\n",
       "    }\n",
       "</style>\n",
       "<table border=\"1\" class=\"dataframe\">\n",
       "  <thead>\n",
       "    <tr style=\"text-align: right;\">\n",
       "      <th></th>\n",
       "      <th>index</th>\n",
       "      <th>business_id</th>\n",
       "      <th>name</th>\n",
       "      <th>address</th>\n",
       "      <th>city</th>\n",
       "      <th>state</th>\n",
       "      <th>postal_code</th>\n",
       "      <th>latitude</th>\n",
       "      <th>longitude</th>\n",
       "      <th>stars</th>\n",
       "      <th>review_count</th>\n",
       "      <th>is_open</th>\n",
       "      <th>attributes</th>\n",
       "      <th>categories</th>\n",
       "      <th>hours</th>\n",
       "      <th>postal_code_str</th>\n",
       "      <th>lat_lon_cluster</th>\n",
       "    </tr>\n",
       "  </thead>\n",
       "  <tbody>\n",
       "    <tr>\n",
       "      <td>0</td>\n",
       "      <td>0</td>\n",
       "      <td>4GBVPIYRvzGh4K4TkRQ_rw</td>\n",
       "      <td>Options Salon &amp; Spa</td>\n",
       "      <td>21689 Lorain Rd</td>\n",
       "      <td>Fairview Park</td>\n",
       "      <td>OH</td>\n",
       "      <td>44126</td>\n",
       "      <td>41.440825</td>\n",
       "      <td>-81.854097</td>\n",
       "      <td>4.5</td>\n",
       "      <td>8</td>\n",
       "      <td>1</td>\n",
       "      <td>{'ByAppointmentOnly': 'False', 'BusinessAccept...</td>\n",
       "      <td>Beauty &amp; Spas, Nail Salons, Day Spas, Massage</td>\n",
       "      <td>{'Tuesday': '9:0-21:0', 'Wednesday': '9:0-21:0...</td>\n",
       "      <td>44126</td>\n",
       "      <td>7</td>\n",
       "    </tr>\n",
       "  </tbody>\n",
       "</table>\n",
       "</div>"
      ],
      "text/plain": [
       "   index             business_id                 name          address  \\\n",
       "0      0  4GBVPIYRvzGh4K4TkRQ_rw  Options Salon & Spa  21689 Lorain Rd   \n",
       "\n",
       "            city state postal_code   latitude  longitude  stars  review_count  \\\n",
       "0  Fairview Park    OH       44126  41.440825 -81.854097    4.5             8   \n",
       "\n",
       "   is_open                                         attributes  \\\n",
       "0        1  {'ByAppointmentOnly': 'False', 'BusinessAccept...   \n",
       "\n",
       "                                      categories  \\\n",
       "0  Beauty & Spas, Nail Salons, Day Spas, Massage   \n",
       "\n",
       "                                               hours postal_code_str  \\\n",
       "0  {'Tuesday': '9:0-21:0', 'Wednesday': '9:0-21:0...           44126   \n",
       "\n",
       "   lat_lon_cluster  \n",
       "0                7  "
      ]
     },
     "execution_count": 92,
     "metadata": {},
     "output_type": "execute_result"
    }
   ],
   "source": [
    "business_attributes_not_nan.head(1)\n",
    "# column labeled 'index' has been added which is not needed.\n",
    "# for now we will ignore this rather than delete it"
   ]
  },
  {
   "cell_type": "code",
   "execution_count": 93,
   "metadata": {},
   "outputs": [
    {
     "data": {
      "text/plain": [
       "(12603, 37)"
      ]
     },
     "execution_count": 93,
     "metadata": {},
     "output_type": "execute_result"
    }
   ],
   "source": [
    "# Extract json from 'business_attributes_not_nan' as a new dataframe\n",
    "from pandas.io.json import json_normalize\n",
    "from ast import literal_eval\n",
    "\n",
    "def unnest_json(dataframe, column):\n",
    "    dataframe_new = json_normalize(dataframe[column].apply(literal_eval))\n",
    "    return dataframe_new\n",
    "\n",
    "attributes_df = unnest_json(business_attributes_not_nan,'attributes')\n",
    "# attributes_df.reset_index(level=0)\n",
    "attributes_df.shape"
   ]
  },
  {
   "cell_type": "code",
   "execution_count": 94,
   "metadata": {},
   "outputs": [
    {
     "data": {
      "text/plain": [
       "(12603, 54)"
      ]
     },
     "execution_count": 94,
     "metadata": {},
     "output_type": "execute_result"
    }
   ],
   "source": [
    "# merge the two new dataframes\n",
    "attributes_merged = pd.concat([business_attributes_not_nan, attributes_df.reindex(business_attributes_not_nan.index)], axis=1)\n",
    "attributes_merged.shape"
   ]
  },
  {
   "cell_type": "code",
   "execution_count": 95,
   "metadata": {},
   "outputs": [
    {
     "data": {
      "text/html": [
       "<div>\n",
       "<style scoped>\n",
       "    .dataframe tbody tr th:only-of-type {\n",
       "        vertical-align: middle;\n",
       "    }\n",
       "\n",
       "    .dataframe tbody tr th {\n",
       "        vertical-align: top;\n",
       "    }\n",
       "\n",
       "    .dataframe thead th {\n",
       "        text-align: right;\n",
       "    }\n",
       "</style>\n",
       "<table border=\"1\" class=\"dataframe\">\n",
       "  <thead>\n",
       "    <tr style=\"text-align: right;\">\n",
       "      <th></th>\n",
       "      <th>index</th>\n",
       "      <th>business_id</th>\n",
       "      <th>name</th>\n",
       "      <th>address</th>\n",
       "      <th>city</th>\n",
       "      <th>state</th>\n",
       "      <th>postal_code</th>\n",
       "      <th>latitude</th>\n",
       "      <th>longitude</th>\n",
       "      <th>stars</th>\n",
       "      <th>...</th>\n",
       "      <th>WheelchairAccessible</th>\n",
       "      <th>Smoking</th>\n",
       "      <th>DriveThru</th>\n",
       "      <th>BestNights</th>\n",
       "      <th>Corkage</th>\n",
       "      <th>BYOBCorkage</th>\n",
       "      <th>HairSpecializesIn</th>\n",
       "      <th>AgesAllowed</th>\n",
       "      <th>DietaryRestrictions</th>\n",
       "      <th>BYOB</th>\n",
       "    </tr>\n",
       "  </thead>\n",
       "  <tbody>\n",
       "    <tr>\n",
       "      <td>0</td>\n",
       "      <td>0</td>\n",
       "      <td>4GBVPIYRvzGh4K4TkRQ_rw</td>\n",
       "      <td>Options Salon &amp; Spa</td>\n",
       "      <td>21689 Lorain Rd</td>\n",
       "      <td>Fairview Park</td>\n",
       "      <td>OH</td>\n",
       "      <td>44126</td>\n",
       "      <td>41.440825</td>\n",
       "      <td>-81.854097</td>\n",
       "      <td>4.5</td>\n",
       "      <td>...</td>\n",
       "      <td>NaN</td>\n",
       "      <td>NaN</td>\n",
       "      <td>NaN</td>\n",
       "      <td>NaN</td>\n",
       "      <td>NaN</td>\n",
       "      <td>NaN</td>\n",
       "      <td>NaN</td>\n",
       "      <td>NaN</td>\n",
       "      <td>NaN</td>\n",
       "      <td>NaN</td>\n",
       "    </tr>\n",
       "    <tr>\n",
       "      <td>1</td>\n",
       "      <td>1</td>\n",
       "      <td>fweCYi8FmbJXHCqLnwuk8w</td>\n",
       "      <td>Marco's Pizza</td>\n",
       "      <td>5981 Andrews Rd</td>\n",
       "      <td>Mentor-on-the-Lake</td>\n",
       "      <td>OH</td>\n",
       "      <td>44060</td>\n",
       "      <td>41.708520</td>\n",
       "      <td>-81.359556</td>\n",
       "      <td>4.0</td>\n",
       "      <td>...</td>\n",
       "      <td>NaN</td>\n",
       "      <td>NaN</td>\n",
       "      <td>NaN</td>\n",
       "      <td>NaN</td>\n",
       "      <td>NaN</td>\n",
       "      <td>NaN</td>\n",
       "      <td>NaN</td>\n",
       "      <td>NaN</td>\n",
       "      <td>NaN</td>\n",
       "      <td>NaN</td>\n",
       "    </tr>\n",
       "    <tr>\n",
       "      <td>2</td>\n",
       "      <td>2</td>\n",
       "      <td>-K4gAv8_vjx8-2BxkVeRkA</td>\n",
       "      <td>Baby Cakes</td>\n",
       "      <td>4145 Erie St</td>\n",
       "      <td>Willoughby</td>\n",
       "      <td>OH</td>\n",
       "      <td>44094</td>\n",
       "      <td>41.639860</td>\n",
       "      <td>-81.406396</td>\n",
       "      <td>3.0</td>\n",
       "      <td>...</td>\n",
       "      <td>NaN</td>\n",
       "      <td>NaN</td>\n",
       "      <td>NaN</td>\n",
       "      <td>NaN</td>\n",
       "      <td>NaN</td>\n",
       "      <td>NaN</td>\n",
       "      <td>NaN</td>\n",
       "      <td>NaN</td>\n",
       "      <td>NaN</td>\n",
       "      <td>NaN</td>\n",
       "    </tr>\n",
       "    <tr>\n",
       "      <td>3</td>\n",
       "      <td>4</td>\n",
       "      <td>YNvZdMLXa4q8e9tiE4ge4A</td>\n",
       "      <td>Louis Stokes Cleveland VA Medical Center</td>\n",
       "      <td>10701 E Blvd</td>\n",
       "      <td>Cleveland</td>\n",
       "      <td>OH</td>\n",
       "      <td>44106</td>\n",
       "      <td>41.513554</td>\n",
       "      <td>-81.613752</td>\n",
       "      <td>3.5</td>\n",
       "      <td>...</td>\n",
       "      <td>NaN</td>\n",
       "      <td>NaN</td>\n",
       "      <td>NaN</td>\n",
       "      <td>NaN</td>\n",
       "      <td>NaN</td>\n",
       "      <td>NaN</td>\n",
       "      <td>NaN</td>\n",
       "      <td>NaN</td>\n",
       "      <td>NaN</td>\n",
       "      <td>NaN</td>\n",
       "    </tr>\n",
       "    <tr>\n",
       "      <td>4</td>\n",
       "      <td>5</td>\n",
       "      <td>KSoAqqpLSUHMzpMDf46DMg</td>\n",
       "      <td>Jared Galleria of Jewelry</td>\n",
       "      <td>25851 Brookpark Rd</td>\n",
       "      <td>North Olmsted</td>\n",
       "      <td>OH</td>\n",
       "      <td>44070</td>\n",
       "      <td>41.418351</td>\n",
       "      <td>-81.911148</td>\n",
       "      <td>1.5</td>\n",
       "      <td>...</td>\n",
       "      <td>NaN</td>\n",
       "      <td>NaN</td>\n",
       "      <td>NaN</td>\n",
       "      <td>NaN</td>\n",
       "      <td>NaN</td>\n",
       "      <td>NaN</td>\n",
       "      <td>NaN</td>\n",
       "      <td>NaN</td>\n",
       "      <td>NaN</td>\n",
       "      <td>NaN</td>\n",
       "    </tr>\n",
       "    <tr>\n",
       "      <td>...</td>\n",
       "      <td>...</td>\n",
       "      <td>...</td>\n",
       "      <td>...</td>\n",
       "      <td>...</td>\n",
       "      <td>...</td>\n",
       "      <td>...</td>\n",
       "      <td>...</td>\n",
       "      <td>...</td>\n",
       "      <td>...</td>\n",
       "      <td>...</td>\n",
       "      <td>...</td>\n",
       "      <td>...</td>\n",
       "      <td>...</td>\n",
       "      <td>...</td>\n",
       "      <td>...</td>\n",
       "      <td>...</td>\n",
       "      <td>...</td>\n",
       "      <td>...</td>\n",
       "      <td>...</td>\n",
       "      <td>...</td>\n",
       "      <td>...</td>\n",
       "    </tr>\n",
       "    <tr>\n",
       "      <td>12598</td>\n",
       "      <td>14691</td>\n",
       "      <td>gyGu3JEcWXvyiOAHmTHwbA</td>\n",
       "      <td>Tattoo Faction</td>\n",
       "      <td>30584 Lorain Rd</td>\n",
       "      <td>North Olmsted</td>\n",
       "      <td>OH</td>\n",
       "      <td>44070</td>\n",
       "      <td>41.398855</td>\n",
       "      <td>-81.958136</td>\n",
       "      <td>4.5</td>\n",
       "      <td>...</td>\n",
       "      <td>NaN</td>\n",
       "      <td>NaN</td>\n",
       "      <td>NaN</td>\n",
       "      <td>NaN</td>\n",
       "      <td>NaN</td>\n",
       "      <td>NaN</td>\n",
       "      <td>NaN</td>\n",
       "      <td>NaN</td>\n",
       "      <td>NaN</td>\n",
       "      <td>NaN</td>\n",
       "    </tr>\n",
       "    <tr>\n",
       "      <td>12599</td>\n",
       "      <td>14692</td>\n",
       "      <td>cfrN6-lQC-dzjBtNBjefpQ</td>\n",
       "      <td>Rusty Nail Banquet Hall</td>\n",
       "      <td>7291 State Rt 43</td>\n",
       "      <td>Kent</td>\n",
       "      <td>OH</td>\n",
       "      <td>44240</td>\n",
       "      <td>41.189517</td>\n",
       "      <td>-81.347089</td>\n",
       "      <td>2.5</td>\n",
       "      <td>...</td>\n",
       "      <td>NaN</td>\n",
       "      <td>NaN</td>\n",
       "      <td>NaN</td>\n",
       "      <td>NaN</td>\n",
       "      <td>NaN</td>\n",
       "      <td>NaN</td>\n",
       "      <td>NaN</td>\n",
       "      <td>NaN</td>\n",
       "      <td>NaN</td>\n",
       "      <td>NaN</td>\n",
       "    </tr>\n",
       "    <tr>\n",
       "      <td>12600</td>\n",
       "      <td>14693</td>\n",
       "      <td>ghovD5ZTGDQ5Q2U4ERddWw</td>\n",
       "      <td>Five Guys</td>\n",
       "      <td>3863 Medina Rd</td>\n",
       "      <td>Fairlawn</td>\n",
       "      <td>OH</td>\n",
       "      <td>44333</td>\n",
       "      <td>41.136561</td>\n",
       "      <td>-81.639712</td>\n",
       "      <td>4.0</td>\n",
       "      <td>...</td>\n",
       "      <td>NaN</td>\n",
       "      <td>NaN</td>\n",
       "      <td>NaN</td>\n",
       "      <td>NaN</td>\n",
       "      <td>NaN</td>\n",
       "      <td>NaN</td>\n",
       "      <td>NaN</td>\n",
       "      <td>NaN</td>\n",
       "      <td>NaN</td>\n",
       "      <td>NaN</td>\n",
       "    </tr>\n",
       "    <tr>\n",
       "      <td>12601</td>\n",
       "      <td>14695</td>\n",
       "      <td>go-_xdHHSufchOeZ3kkC8w</td>\n",
       "      <td>Cedar Green Wine &amp; Cheese</td>\n",
       "      <td>2179 S Green Rd</td>\n",
       "      <td>University Heights</td>\n",
       "      <td>OH</td>\n",
       "      <td>44121</td>\n",
       "      <td>41.500621</td>\n",
       "      <td>-81.518241</td>\n",
       "      <td>3.0</td>\n",
       "      <td>...</td>\n",
       "      <td>NaN</td>\n",
       "      <td>NaN</td>\n",
       "      <td>NaN</td>\n",
       "      <td>NaN</td>\n",
       "      <td>NaN</td>\n",
       "      <td>NaN</td>\n",
       "      <td>NaN</td>\n",
       "      <td>NaN</td>\n",
       "      <td>NaN</td>\n",
       "      <td>NaN</td>\n",
       "    </tr>\n",
       "    <tr>\n",
       "      <td>12602</td>\n",
       "      <td>14696</td>\n",
       "      <td>p1eUTUB_5hf1enoKYBV3DA</td>\n",
       "      <td>Ken Stewart's Tre Belle</td>\n",
       "      <td>1911 N Cleveland-Massillon Rd</td>\n",
       "      <td>Bath</td>\n",
       "      <td>OH</td>\n",
       "      <td>44210</td>\n",
       "      <td>41.187547</td>\n",
       "      <td>-81.635791</td>\n",
       "      <td>3.5</td>\n",
       "      <td>...</td>\n",
       "      <td>NaN</td>\n",
       "      <td>NaN</td>\n",
       "      <td>NaN</td>\n",
       "      <td>NaN</td>\n",
       "      <td>NaN</td>\n",
       "      <td>NaN</td>\n",
       "      <td>NaN</td>\n",
       "      <td>NaN</td>\n",
       "      <td>NaN</td>\n",
       "      <td>NaN</td>\n",
       "    </tr>\n",
       "  </tbody>\n",
       "</table>\n",
       "<p>12603 rows × 54 columns</p>\n",
       "</div>"
      ],
      "text/plain": [
       "       index             business_id  \\\n",
       "0          0  4GBVPIYRvzGh4K4TkRQ_rw   \n",
       "1          1  fweCYi8FmbJXHCqLnwuk8w   \n",
       "2          2  -K4gAv8_vjx8-2BxkVeRkA   \n",
       "3          4  YNvZdMLXa4q8e9tiE4ge4A   \n",
       "4          5  KSoAqqpLSUHMzpMDf46DMg   \n",
       "...      ...                     ...   \n",
       "12598  14691  gyGu3JEcWXvyiOAHmTHwbA   \n",
       "12599  14692  cfrN6-lQC-dzjBtNBjefpQ   \n",
       "12600  14693  ghovD5ZTGDQ5Q2U4ERddWw   \n",
       "12601  14695  go-_xdHHSufchOeZ3kkC8w   \n",
       "12602  14696  p1eUTUB_5hf1enoKYBV3DA   \n",
       "\n",
       "                                           name  \\\n",
       "0                           Options Salon & Spa   \n",
       "1                                 Marco's Pizza   \n",
       "2                                    Baby Cakes   \n",
       "3      Louis Stokes Cleveland VA Medical Center   \n",
       "4                     Jared Galleria of Jewelry   \n",
       "...                                         ...   \n",
       "12598                            Tattoo Faction   \n",
       "12599                   Rusty Nail Banquet Hall   \n",
       "12600                                 Five Guys   \n",
       "12601                 Cedar Green Wine & Cheese   \n",
       "12602                   Ken Stewart's Tre Belle   \n",
       "\n",
       "                             address                city state postal_code  \\\n",
       "0                    21689 Lorain Rd       Fairview Park    OH       44126   \n",
       "1                    5981 Andrews Rd  Mentor-on-the-Lake    OH       44060   \n",
       "2                       4145 Erie St          Willoughby    OH       44094   \n",
       "3                       10701 E Blvd           Cleveland    OH       44106   \n",
       "4                 25851 Brookpark Rd       North Olmsted    OH       44070   \n",
       "...                              ...                 ...   ...         ...   \n",
       "12598                30584 Lorain Rd       North Olmsted    OH       44070   \n",
       "12599               7291 State Rt 43                Kent    OH       44240   \n",
       "12600                 3863 Medina Rd            Fairlawn    OH       44333   \n",
       "12601                2179 S Green Rd  University Heights    OH       44121   \n",
       "12602  1911 N Cleveland-Massillon Rd                Bath    OH       44210   \n",
       "\n",
       "        latitude  longitude  stars  ...  WheelchairAccessible  Smoking  \\\n",
       "0      41.440825 -81.854097    4.5  ...                   NaN      NaN   \n",
       "1      41.708520 -81.359556    4.0  ...                   NaN      NaN   \n",
       "2      41.639860 -81.406396    3.0  ...                   NaN      NaN   \n",
       "3      41.513554 -81.613752    3.5  ...                   NaN      NaN   \n",
       "4      41.418351 -81.911148    1.5  ...                   NaN      NaN   \n",
       "...          ...        ...    ...  ...                   ...      ...   \n",
       "12598  41.398855 -81.958136    4.5  ...                   NaN      NaN   \n",
       "12599  41.189517 -81.347089    2.5  ...                   NaN      NaN   \n",
       "12600  41.136561 -81.639712    4.0  ...                   NaN      NaN   \n",
       "12601  41.500621 -81.518241    3.0  ...                   NaN      NaN   \n",
       "12602  41.187547 -81.635791    3.5  ...                   NaN      NaN   \n",
       "\n",
       "      DriveThru BestNights Corkage BYOBCorkage  HairSpecializesIn AgesAllowed  \\\n",
       "0           NaN        NaN     NaN         NaN                NaN         NaN   \n",
       "1           NaN        NaN     NaN         NaN                NaN         NaN   \n",
       "2           NaN        NaN     NaN         NaN                NaN         NaN   \n",
       "3           NaN        NaN     NaN         NaN                NaN         NaN   \n",
       "4           NaN        NaN     NaN         NaN                NaN         NaN   \n",
       "...         ...        ...     ...         ...                ...         ...   \n",
       "12598       NaN        NaN     NaN         NaN                NaN         NaN   \n",
       "12599       NaN        NaN     NaN         NaN                NaN         NaN   \n",
       "12600       NaN        NaN     NaN         NaN                NaN         NaN   \n",
       "12601       NaN        NaN     NaN         NaN                NaN         NaN   \n",
       "12602       NaN        NaN     NaN         NaN                NaN         NaN   \n",
       "\n",
       "      DietaryRestrictions BYOB  \n",
       "0                     NaN  NaN  \n",
       "1                     NaN  NaN  \n",
       "2                     NaN  NaN  \n",
       "3                     NaN  NaN  \n",
       "4                     NaN  NaN  \n",
       "...                   ...  ...  \n",
       "12598                 NaN  NaN  \n",
       "12599                 NaN  NaN  \n",
       "12600                 NaN  NaN  \n",
       "12601                 NaN  NaN  \n",
       "12602                 NaN  NaN  \n",
       "\n",
       "[12603 rows x 54 columns]"
      ]
     },
     "execution_count": 95,
     "metadata": {},
     "output_type": "execute_result"
    }
   ],
   "source": [
    "attributes_merged\n"
   ]
  },
  {
   "cell_type": "code",
   "execution_count": 96,
   "metadata": {},
   "outputs": [
    {
     "data": {
      "text/plain": [
       "index                             0\n",
       "business_id                       0\n",
       "name                              0\n",
       "address                         188\n",
       "city                              0\n",
       "state                             0\n",
       "postal_code                      13\n",
       "latitude                          0\n",
       "longitude                         0\n",
       "stars                             0\n",
       "review_count                      0\n",
       "is_open                           0\n",
       "attributes                        0\n",
       "categories                        0\n",
       "hours                          2738\n",
       "postal_code_str                   0\n",
       "lat_lon_cluster                   0\n",
       "ByAppointmentOnly             10094\n",
       "BusinessAcceptsCreditCards      996\n",
       "RestaurantsPriceRange2         3661\n",
       "BusinessParking                4073\n",
       "AcceptsInsurance              12331\n",
       "GoodForKids                    6811\n",
       "RestaurantsDelivery            7715\n",
       "Alcohol                        8176\n",
       "OutdoorSeating                 7743\n",
       "RestaurantsGoodForGroups       7616\n",
       "RestaurantsTakeOut             6965\n",
       "RestaurantsReservations        7735\n",
       "BikeParking                    5710\n",
       "RestaurantsAttire              8145\n",
       "Ambience                       8195\n",
       "BusinessAcceptsBitcoin        11529\n",
       "GoodForMeal                   10069\n",
       "HasTV                          8207\n",
       "Caters                         8865\n",
       "WiFi                           8170\n",
       "GoodForDancing                12124\n",
       "HappyHour                     12032\n",
       "Music                         12058\n",
       "RestaurantsTableService       11255\n",
       "NoiseLevel                     8603\n",
       "CoatCheck                     12260\n",
       "DogsAllowed                   12093\n",
       "WheelchairAccessible          11315\n",
       "Smoking                       12287\n",
       "DriveThru                     12316\n",
       "BestNights                    12265\n",
       "Corkage                       12586\n",
       "BYOBCorkage                   12531\n",
       "HairSpecializesIn             12563\n",
       "AgesAllowed                   12599\n",
       "DietaryRestrictions           12595\n",
       "BYOB                          12602\n",
       "dtype: int64"
      ]
     },
     "execution_count": 96,
     "metadata": {},
     "output_type": "execute_result"
    }
   ],
   "source": [
    "# Check out the list of attributes\n",
    "attributes_merged.isnull().sum()"
   ]
  },
  {
   "cell_type": "code",
   "execution_count": 97,
   "metadata": {},
   "outputs": [
    {
     "data": {
      "text/plain": [
       "False    384\n",
       "True     125\n",
       "None       1\n",
       "Name: DogsAllowed, dtype: int64"
      ]
     },
     "execution_count": 97,
     "metadata": {},
     "output_type": "execute_result"
    }
   ],
   "source": [
    "# Check out the attribute DogsAllowed as an example attribute\n",
    "attributes_merged.DogsAllowed.value_counts()"
   ]
  },
  {
   "cell_type": "code",
   "execution_count": 98,
   "metadata": {},
   "outputs": [
    {
     "data": {
      "text/plain": [
       "DogsAllowed\n",
       "False    3.77474\n",
       "None     4.00000\n",
       "True     4.02000\n",
       "Name: stars, dtype: float64"
      ]
     },
     "execution_count": 98,
     "metadata": {},
     "output_type": "execute_result"
    }
   ],
   "source": [
    "# Look at the star mean for DogsAllowed by element \n",
    "attributes_merged.groupby('DogsAllowed').stars.mean()"
   ]
  },
  {
   "cell_type": "code",
   "execution_count": 99,
   "metadata": {},
   "outputs": [
    {
     "data": {
      "text/plain": [
       "(12603, 2)"
      ]
     },
     "execution_count": 99,
     "metadata": {},
     "output_type": "execute_result"
    }
   ],
   "source": [
    "# create dummies\n",
    "dogs_allowed_dummies = pd.get_dummies(attributes_merged.DogsAllowed, prefix='dogs_allowed')\n",
    "dogs_allowed_dummies.drop(dogs_allowed_dummies.columns[0], axis=1, inplace=True)\n",
    "dogs_allowed_dummies.shape"
   ]
  },
  {
   "cell_type": "code",
   "execution_count": 100,
   "metadata": {},
   "outputs": [
    {
     "data": {
      "text/plain": [
       "(12603, 56)"
      ]
     },
     "execution_count": 100,
     "metadata": {},
     "output_type": "execute_result"
    }
   ],
   "source": [
    "# In the end, for the calcuation I did, I don't need to one hot encode\n",
    "# Concatenate the most recently created dataframe and the dummy DataFrame (axis=0 means rows, axis=1 means columns).\n",
    "dogs_allowed_plus_dummies = pd.concat([attributes_merged, dogs_allowed_dummies], axis=1)\n",
    "dogs_allowed_plus_dummies.shape"
   ]
  },
  {
   "cell_type": "code",
   "execution_count": 101,
   "metadata": {},
   "outputs": [
    {
     "data": {
      "text/plain": [
       "(510, 56)"
      ]
     },
     "execution_count": 101,
     "metadata": {},
     "output_type": "execute_result"
    }
   ],
   "source": [
    "# as we are looking at nan values\n",
    "dogs_allowed_no_nan = dogs_allowed_plus_dummies[dogs_allowed_plus_dummies['DogsAllowed'].notnull()]\n",
    "dogs_allowed_no_nan.shape"
   ]
  },
  {
   "cell_type": "code",
   "execution_count": 102,
   "metadata": {},
   "outputs": [
    {
     "name": "stderr",
     "output_type": "stream",
     "text": [
      "/Users/hanhuang/opt/anaconda3/lib/python3.7/site-packages/sklearn/linear_model/logistic.py:432: FutureWarning: Default solver will be changed to 'lbfgs' in 0.22. Specify a solver to silence this warning.\n",
      "  FutureWarning)\n",
      "/Users/hanhuang/opt/anaconda3/lib/python3.7/site-packages/sklearn/linear_model/logistic.py:469: FutureWarning: Default multi_class will be changed to 'auto' in 0.22. Specify the multi_class option to silence this warning.\n",
      "  \"this warning.\", FutureWarning)\n"
     ]
    },
    {
     "data": {
      "text/plain": [
       "0.7890625"
      ]
     },
     "execution_count": 102,
     "metadata": {},
     "output_type": "execute_result"
    }
   ],
   "source": [
    "# correlate is_open to review_count using logistical regression\n",
    "from sklearn.linear_model import LogisticRegression\n",
    "from sklearn.model_selection import train_test_split\n",
    "LR = LogisticRegression()\n",
    "feature_cols = ['stars']\n",
    "X = dogs_allowed_no_nan[feature_cols]\n",
    "y = dogs_allowed_no_nan.DogsAllowed\n",
    "\n",
    "X_train, X_test, y_train, y_test = train_test_split(X, y, random_state=1)\n",
    "LR.fit(X_train, y_train)\n",
    "y_pred = LR.predict(X_test)\n",
    "LR.score(X_test, y_test)"
   ]
  },
  {
   "cell_type": "code",
   "execution_count": 103,
   "metadata": {},
   "outputs": [
    {
     "data": {
      "text/plain": [
       "0.7529411764705882"
      ]
     },
     "execution_count": 103,
     "metadata": {},
     "output_type": "execute_result"
    }
   ],
   "source": [
    "# Baseline calculation. \n",
    "# Logistical reqression performs poorly with the baseline.\n",
    "dogs_allowed_no_nan.DogsAllowed.value_counts()[0] / len(dogs_allowed_no_nan)"
   ]
  },
  {
   "cell_type": "code",
   "execution_count": null,
   "metadata": {},
   "outputs": [],
   "source": []
  },
  {
   "cell_type": "code",
   "execution_count": null,
   "metadata": {},
   "outputs": [],
   "source": []
  }
 ],
 "metadata": {
  "kernelspec": {
   "display_name": "Python 3",
   "language": "python",
   "name": "python3"
  },
  "language_info": {
   "codemirror_mode": {
    "name": "ipython",
    "version": 3
   },
   "file_extension": ".py",
   "mimetype": "text/x-python",
   "name": "python",
   "nbconvert_exporter": "python",
   "pygments_lexer": "ipython3",
   "version": "3.7.4"
  }
 },
 "nbformat": 4,
 "nbformat_minor": 2
}
