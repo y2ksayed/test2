{
 "cells": [
  {
   "cell_type": "code",
   "execution_count": 1,
   "metadata": {},
   "outputs": [],
   "source": [
    "import pandas as pd\n",
    "import numpy as np\n",
    "import seaborn as sns\n",
    "\n",
    "import matplotlib.pyplot as plt\n",
    "%matplotlib inline\n",
    "# Increase default figure and font sizes for easier viewing.\n",
    "plt.rcParams['figure.figsize'] = (8, 6)\n",
    "plt.rcParams['font.size'] = 14"
   ]
  },
  {
   "cell_type": "code",
   "execution_count": null,
   "metadata": {},
   "outputs": [],
   "source": []
  },
  {
   "cell_type": "code",
   "execution_count": 2,
   "metadata": {},
   "outputs": [],
   "source": [
    "# ADD NEW COLUMNS TO BUSINESS DATAFRAME DERIVED FROM BUSINESS DATAFRAME"
   ]
  },
  {
   "cell_type": "code",
   "execution_count": 3,
   "metadata": {},
   "outputs": [
    {
     "data": {
      "text/plain": [
       "(14697, 14)"
      ]
     },
     "execution_count": 3,
     "metadata": {},
     "output_type": "execute_result"
    }
   ],
   "source": [
    "business = pd.read_csv('./business_oh.csv')\n",
    "business.shape"
   ]
  },
  {
   "cell_type": "code",
   "execution_count": 4,
   "metadata": {},
   "outputs": [
    {
     "data": {
      "text/plain": [
       "business_id      object\n",
       "name             object\n",
       "address          object\n",
       "city             object\n",
       "state            object\n",
       "postal_code      object\n",
       "latitude        float64\n",
       "longitude       float64\n",
       "stars           float64\n",
       "review_count      int64\n",
       "is_open           int64\n",
       "attributes       object\n",
       "categories       object\n",
       "hours            object\n",
       "dtype: object"
      ]
     },
     "execution_count": 4,
     "metadata": {},
     "output_type": "execute_result"
    }
   ],
   "source": [
    "business.dtypes"
   ]
  },
  {
   "cell_type": "code",
   "execution_count": 5,
   "metadata": {},
   "outputs": [
    {
     "data": {
      "text/html": [
       "<div>\n",
       "<style scoped>\n",
       "    .dataframe tbody tr th:only-of-type {\n",
       "        vertical-align: middle;\n",
       "    }\n",
       "\n",
       "    .dataframe tbody tr th {\n",
       "        vertical-align: top;\n",
       "    }\n",
       "\n",
       "    .dataframe thead th {\n",
       "        text-align: right;\n",
       "    }\n",
       "</style>\n",
       "<table border=\"1\" class=\"dataframe\">\n",
       "  <thead>\n",
       "    <tr style=\"text-align: right;\">\n",
       "      <th></th>\n",
       "      <th>latitude</th>\n",
       "      <th>longitude</th>\n",
       "      <th>stars</th>\n",
       "      <th>review_count</th>\n",
       "      <th>is_open</th>\n",
       "    </tr>\n",
       "    <tr>\n",
       "      <th>lat_lon_cluster</th>\n",
       "      <th></th>\n",
       "      <th></th>\n",
       "      <th></th>\n",
       "      <th></th>\n",
       "      <th></th>\n",
       "    </tr>\n",
       "  </thead>\n",
       "  <tbody>\n",
       "    <tr>\n",
       "      <td>7</td>\n",
       "      <td>41.405004</td>\n",
       "      <td>-81.655725</td>\n",
       "      <td>3.464836</td>\n",
       "      <td>5.027083</td>\n",
       "      <td>0.847111</td>\n",
       "    </tr>\n",
       "    <tr>\n",
       "      <td>1</td>\n",
       "      <td>41.408748</td>\n",
       "      <td>-81.655550</td>\n",
       "      <td>3.495747</td>\n",
       "      <td>16.883634</td>\n",
       "      <td>0.851990</td>\n",
       "    </tr>\n",
       "    <tr>\n",
       "      <td>6</td>\n",
       "      <td>41.418755</td>\n",
       "      <td>-81.645971</td>\n",
       "      <td>3.551435</td>\n",
       "      <td>38.227273</td>\n",
       "      <td>0.841308</td>\n",
       "    </tr>\n",
       "    <tr>\n",
       "      <td>4</td>\n",
       "      <td>41.419818</td>\n",
       "      <td>-81.652360</td>\n",
       "      <td>3.707891</td>\n",
       "      <td>67.743551</td>\n",
       "      <td>0.896813</td>\n",
       "    </tr>\n",
       "    <tr>\n",
       "      <td>8</td>\n",
       "      <td>41.420811</td>\n",
       "      <td>-81.660544</td>\n",
       "      <td>3.775862</td>\n",
       "      <td>111.596817</td>\n",
       "      <td>0.907162</td>\n",
       "    </tr>\n",
       "    <tr>\n",
       "      <td>0</td>\n",
       "      <td>41.445480</td>\n",
       "      <td>-81.659154</td>\n",
       "      <td>3.803867</td>\n",
       "      <td>170.845304</td>\n",
       "      <td>0.950276</td>\n",
       "    </tr>\n",
       "    <tr>\n",
       "      <td>5</td>\n",
       "      <td>41.454293</td>\n",
       "      <td>-81.686698</td>\n",
       "      <td>3.856164</td>\n",
       "      <td>264.013699</td>\n",
       "      <td>0.958904</td>\n",
       "    </tr>\n",
       "    <tr>\n",
       "      <td>2</td>\n",
       "      <td>41.462097</td>\n",
       "      <td>-81.672902</td>\n",
       "      <td>3.952381</td>\n",
       "      <td>553.238095</td>\n",
       "      <td>0.952381</td>\n",
       "    </tr>\n",
       "    <tr>\n",
       "      <td>9</td>\n",
       "      <td>41.482522</td>\n",
       "      <td>-81.691090</td>\n",
       "      <td>3.964286</td>\n",
       "      <td>396.321429</td>\n",
       "      <td>0.964286</td>\n",
       "    </tr>\n",
       "    <tr>\n",
       "      <td>3</td>\n",
       "      <td>41.489258</td>\n",
       "      <td>-81.708026</td>\n",
       "      <td>4.000000</td>\n",
       "      <td>916.000000</td>\n",
       "      <td>1.000000</td>\n",
       "    </tr>\n",
       "  </tbody>\n",
       "</table>\n",
       "</div>"
      ],
      "text/plain": [
       "                  latitude  longitude     stars  review_count   is_open\n",
       "lat_lon_cluster                                                        \n",
       "7                41.405004 -81.655725  3.464836      5.027083  0.847111\n",
       "1                41.408748 -81.655550  3.495747     16.883634  0.851990\n",
       "6                41.418755 -81.645971  3.551435     38.227273  0.841308\n",
       "4                41.419818 -81.652360  3.707891     67.743551  0.896813\n",
       "8                41.420811 -81.660544  3.775862    111.596817  0.907162\n",
       "0                41.445480 -81.659154  3.803867    170.845304  0.950276\n",
       "5                41.454293 -81.686698  3.856164    264.013699  0.958904\n",
       "2                41.462097 -81.672902  3.952381    553.238095  0.952381\n",
       "9                41.482522 -81.691090  3.964286    396.321429  0.964286\n",
       "3                41.489258 -81.708026  4.000000    916.000000  1.000000"
      ]
     },
     "execution_count": 5,
     "metadata": {},
     "output_type": "execute_result"
    }
   ],
   "source": [
    "# Do clustering kmeans of lat lon\n",
    "X = business[['latitude', 'longitude', 'review_count']]\n",
    "\n",
    "from sklearn.cluster import KMeans\n",
    "km = KMeans(n_clusters=10, random_state=1)\n",
    "km.fit(X)\n",
    "\n",
    "km.labels_\n",
    "\n",
    "lat_long_df = business\n",
    "lat_long_df['lat_lon_cluster'] = km.labels_\n",
    "\n",
    "km.cluster_centers_\n",
    "\n",
    "lat_long_groupby_df = lat_long_df.groupby('lat_lon_cluster').mean().sort_values('stars')\n",
    "lat_long_groupby_df "
   ]
  },
  {
   "cell_type": "code",
   "execution_count": 6,
   "metadata": {},
   "outputs": [
    {
     "ename": "SyntaxError",
     "evalue": "unexpected EOF while parsing (<ipython-input-6-b1b3a53e144d>, line 3)",
     "output_type": "error",
     "traceback": [
      "\u001b[0;36m  File \u001b[0;32m\"<ipython-input-6-b1b3a53e144d>\"\u001b[0;36m, line \u001b[0;32m3\u001b[0m\n\u001b[0;31m    print(Counter(km.labels_)\u001b[0m\n\u001b[0m                             ^\u001b[0m\n\u001b[0;31mSyntaxError\u001b[0m\u001b[0;31m:\u001b[0m unexpected EOF while parsing\n"
     ]
    }
   ],
   "source": [
    "# count the number of rows in each cluster\n",
    "from collections import Counter, defaultdict\n",
    "print(Counter(km.labels_)"
   ]
  },
  {
   "cell_type": "code",
   "execution_count": 7,
   "metadata": {},
   "outputs": [
    {
     "data": {
      "image/png": "[encoded data removed]",
      "text/plain": [
       "<Figure size 432x288 with 1 Axes>"
      ]
     },
     "metadata": {
      "needs_background": "light"
     },
     "output_type": "display_data"
    }
   ],
   "source": [
    "# Plotting average review count per restaurant in a zip against average star rating \n",
    "lat_long_groupby_df.plot(kind='scatter', x='review_count', y='stars', title = 'Av stars for clusters (by lat, lon & review counts) by av. review count');"
   ]
  },
  {
   "cell_type": "code",
   "execution_count": 8,
   "metadata": {},
   "outputs": [],
   "source": [
    "# Turn post_code from a float into a string and make a it a new column and fill nan as 0\n",
    "business['postal_code_str'] = business.postal_code.astype(str)\n",
    "business['postal_code_str'] = business['postal_code_str'].map(lambda x: x.rstrip('.0'))\n",
    "business['postal_code_str'].fillna(0, inplace=True)"
   ]
  },
  {
   "cell_type": "code",
   "execution_count": 9,
   "metadata": {},
   "outputs": [
    {
     "data": {
      "text/plain": [
       "business_id         object\n",
       "name                object\n",
       "address             object\n",
       "city                object\n",
       "state               object\n",
       "postal_code         object\n",
       "latitude           float64\n",
       "longitude          float64\n",
       "stars              float64\n",
       "review_count         int64\n",
       "is_open              int64\n",
       "attributes          object\n",
       "categories          object\n",
       "hours               object\n",
       "lat_lon_cluster      int32\n",
       "postal_code_str     object\n",
       "dtype: object"
      ]
     },
     "execution_count": 9,
     "metadata": {},
     "output_type": "execute_result"
    }
   ],
   "source": [
    "business.dtypes"
   ]
  },
  {
   "cell_type": "code",
   "execution_count": null,
   "metadata": {},
   "outputs": [],
   "source": []
  },
  {
   "cell_type": "code",
   "execution_count": 10,
   "metadata": {},
   "outputs": [],
   "source": [
    "# ADD NEW COLUMNS TO USERS DATAFRAME DERIVED FROM USERS DATAFRAME"
   ]
  },
  {
   "cell_type": "code",
   "execution_count": 11,
   "metadata": {},
   "outputs": [
    {
     "data": {
      "text/plain": [
       "(92622, 22)"
      ]
     },
     "execution_count": 11,
     "metadata": {},
     "output_type": "execute_result"
    }
   ],
   "source": [
    "users = pd.read_csv('./users_oh.csv')\n",
    "users.shape"
   ]
  },
  {
   "cell_type": "code",
   "execution_count": 12,
   "metadata": {},
   "outputs": [
    {
     "data": {
      "text/plain": [
       "(92622, 23)"
      ]
     },
     "execution_count": 12,
     "metadata": {},
     "output_type": "execute_result"
    }
   ],
   "source": [
    "# fill 'elite' nan values with zeros but create as a new column\n",
    "users['elite_no_nan'] = users.elite.fillna(0)\n",
    "users.shape"
   ]
  },
  {
   "cell_type": "code",
   "execution_count": 13,
   "metadata": {},
   "outputs": [
    {
     "data": {
      "text/html": [
       "<div>\n",
       "<style scoped>\n",
       "    .dataframe tbody tr th:only-of-type {\n",
       "        vertical-align: middle;\n",
       "    }\n",
       "\n",
       "    .dataframe tbody tr th {\n",
       "        vertical-align: top;\n",
       "    }\n",
       "\n",
       "    .dataframe thead th {\n",
       "        text-align: right;\n",
       "    }\n",
       "</style>\n",
       "<table border=\"1\" class=\"dataframe\">\n",
       "  <thead>\n",
       "    <tr style=\"text-align: right;\">\n",
       "      <th></th>\n",
       "      <th>user_id</th>\n",
       "      <th>name</th>\n",
       "      <th>review_count</th>\n",
       "      <th>yelping_since</th>\n",
       "      <th>useful</th>\n",
       "      <th>funny</th>\n",
       "      <th>cool</th>\n",
       "      <th>elite</th>\n",
       "      <th>friends</th>\n",
       "      <th>fans</th>\n",
       "      <th>...</th>\n",
       "      <th>compliment_profile</th>\n",
       "      <th>compliment_cute</th>\n",
       "      <th>compliment_list</th>\n",
       "      <th>compliment_note</th>\n",
       "      <th>compliment_plain</th>\n",
       "      <th>compliment_cool</th>\n",
       "      <th>compliment_funny</th>\n",
       "      <th>compliment_writer</th>\n",
       "      <th>compliment_photos</th>\n",
       "      <th>elite_no_nan</th>\n",
       "    </tr>\n",
       "  </thead>\n",
       "  <tbody>\n",
       "    <tr>\n",
       "      <td>0</td>\n",
       "      <td>l6BmjZMeQD3rDxWUbiAiow</td>\n",
       "      <td>Rashmi</td>\n",
       "      <td>95</td>\n",
       "      <td>2013-10-08 23:11:33</td>\n",
       "      <td>84</td>\n",
       "      <td>17</td>\n",
       "      <td>25</td>\n",
       "      <td>2015,2016,2017</td>\n",
       "      <td>c78V-rj8NQcQjOI8KP3UEA, alRMgPcngYSCJ5naFRBz5g...</td>\n",
       "      <td>5</td>\n",
       "      <td>...</td>\n",
       "      <td>0</td>\n",
       "      <td>0</td>\n",
       "      <td>0</td>\n",
       "      <td>1</td>\n",
       "      <td>1</td>\n",
       "      <td>1</td>\n",
       "      <td>1</td>\n",
       "      <td>2</td>\n",
       "      <td>0</td>\n",
       "      <td>2015,2016,2017</td>\n",
       "    </tr>\n",
       "  </tbody>\n",
       "</table>\n",
       "<p>1 rows × 23 columns</p>\n",
       "</div>"
      ],
      "text/plain": [
       "                  user_id    name  review_count        yelping_since  useful  \\\n",
       "0  l6BmjZMeQD3rDxWUbiAiow  Rashmi            95  2013-10-08 23:11:33      84   \n",
       "\n",
       "   funny  cool           elite  \\\n",
       "0     17    25  2015,2016,2017   \n",
       "\n",
       "                                             friends  fans  ...  \\\n",
       "0  c78V-rj8NQcQjOI8KP3UEA, alRMgPcngYSCJ5naFRBz5g...     5  ...   \n",
       "\n",
       "   compliment_profile  compliment_cute  compliment_list  compliment_note  \\\n",
       "0                   0                0                0                1   \n",
       "\n",
       "   compliment_plain  compliment_cool  compliment_funny  compliment_writer  \\\n",
       "0                 1                1                 1                  2   \n",
       "\n",
       "   compliment_photos    elite_no_nan  \n",
       "0                  0  2015,2016,2017  \n",
       "\n",
       "[1 rows x 23 columns]"
      ]
     },
     "execution_count": 13,
     "metadata": {},
     "output_type": "execute_result"
    }
   ],
   "source": [
    "users.head(1)"
   ]
  },
  {
   "cell_type": "code",
   "execution_count": 14,
   "metadata": {},
   "outputs": [
    {
     "name": "stderr",
     "output_type": "stream",
     "text": [
      "/Users/hanhuang/opt/anaconda3/lib/python3.7/site-packages/ipykernel_launcher.py:12: SettingWithCopyWarning: \n",
      "A value is trying to be set on a copy of a slice from a DataFrame.\n",
      "Try using .loc[row_indexer,col_indexer] = value instead\n",
      "\n",
      "See the caveats in the documentation: http://pandas.pydata.org/pandas-docs/stable/user_guide/indexing.html#returning-a-view-versus-a-copy\n",
      "  if sys.path[0] == '':\n",
      "/Users/hanhuang/opt/anaconda3/lib/python3.7/site-packages/ipykernel_launcher.py:23: SettingWithCopyWarning: \n",
      "A value is trying to be set on a copy of a slice from a DataFrame.\n",
      "Try using .loc[row_indexer,col_indexer] = value instead\n",
      "\n",
      "See the caveats in the documentation: http://pandas.pydata.org/pandas-docs/stable/user_guide/indexing.html#returning-a-view-versus-a-copy\n"
     ]
    }
   ],
   "source": [
    "# Creating a column for friend count\n",
    "\n",
    "# create new dataframe with only rows for users who have no 'friends'\n",
    "no_friends_df = users[users['friends'] == 'None']\n",
    " \n",
    "# create new column and populate with zeros\n",
    "def function_friends_none(z):\n",
    "    if z == 'None':\n",
    "        return 0\n",
    "    else:\n",
    "        return 1\n",
    "no_friends_df['friend_count'] = no_friends_df['friends'].apply(function_friends_none)\n",
    "# check there are no '1's in the the column\n",
    "no_friends_df['friend_count'].sum()\n",
    "# filter columns of the dataframe and create a new one for merging \n",
    "no_friends_filtered_df = no_friends_df[['user_id','friend_count']]\n",
    "len(no_friends_filtered_df)\n",
    "no_friends_filtered_df\n",
    "\n",
    "# create new dataframe with only rows for users who have one or more 'friends'\n",
    "one_or_more_friends_df = users[users['friends'] != 'None']\n",
    "# Count the number of friends\n",
    "one_or_more_friends_df['friend_count'] = one_or_more_friends_df['friends'].str.count(',')+1\n",
    "# filter columns of the dataframe and create a new one for merging \n",
    "one_or_more_friends_filtered_df = one_or_more_friends_df[['user_id','friend_count']]\n"
   ]
  },
  {
   "cell_type": "code",
   "execution_count": 15,
   "metadata": {},
   "outputs": [
    {
     "data": {
      "text/html": [
       "<div>\n",
       "<style scoped>\n",
       "    .dataframe tbody tr th:only-of-type {\n",
       "        vertical-align: middle;\n",
       "    }\n",
       "\n",
       "    .dataframe tbody tr th {\n",
       "        vertical-align: top;\n",
       "    }\n",
       "\n",
       "    .dataframe thead th {\n",
       "        text-align: right;\n",
       "    }\n",
       "</style>\n",
       "<table border=\"1\" class=\"dataframe\">\n",
       "  <thead>\n",
       "    <tr style=\"text-align: right;\">\n",
       "      <th></th>\n",
       "      <th>user_id</th>\n",
       "      <th>friend_count</th>\n",
       "    </tr>\n",
       "  </thead>\n",
       "  <tbody>\n",
       "    <tr>\n",
       "      <td>7395</td>\n",
       "      <td>8iFdGflRabklAt3G_Pd0ug</td>\n",
       "      <td>0</td>\n",
       "    </tr>\n",
       "    <tr>\n",
       "      <td>7396</td>\n",
       "      <td>TsZxDJuhgReq8SeoQYSy8g</td>\n",
       "      <td>0</td>\n",
       "    </tr>\n",
       "    <tr>\n",
       "      <td>7397</td>\n",
       "      <td>zunWrhzfbH1UUBtZbRB_QQ</td>\n",
       "      <td>0</td>\n",
       "    </tr>\n",
       "    <tr>\n",
       "      <td>7398</td>\n",
       "      <td>PeKouqRuQU7eJM24fUm6KQ</td>\n",
       "      <td>0</td>\n",
       "    </tr>\n",
       "    <tr>\n",
       "      <td>7399</td>\n",
       "      <td>fs0xfZ1JKigEHO_nB0R7mQ</td>\n",
       "      <td>0</td>\n",
       "    </tr>\n",
       "    <tr>\n",
       "      <td>...</td>\n",
       "      <td>...</td>\n",
       "      <td>...</td>\n",
       "    </tr>\n",
       "    <tr>\n",
       "      <td>91302</td>\n",
       "      <td>zi_SpBv3Born9kXEc7LlIA</td>\n",
       "      <td>9</td>\n",
       "    </tr>\n",
       "    <tr>\n",
       "      <td>91422</td>\n",
       "      <td>bICtVzEenh9UtEoj-pMTtg</td>\n",
       "      <td>1</td>\n",
       "    </tr>\n",
       "    <tr>\n",
       "      <td>91726</td>\n",
       "      <td>Fuv1shWKfQvS7uLOICpR7w</td>\n",
       "      <td>2</td>\n",
       "    </tr>\n",
       "    <tr>\n",
       "      <td>92075</td>\n",
       "      <td>xOfUwumhFdn39OaweGtN-Q</td>\n",
       "      <td>1</td>\n",
       "    </tr>\n",
       "    <tr>\n",
       "      <td>92145</td>\n",
       "      <td>NfCV4d21XhNIUwsjjBdDww</td>\n",
       "      <td>2</td>\n",
       "    </tr>\n",
       "  </tbody>\n",
       "</table>\n",
       "<p>92622 rows × 2 columns</p>\n",
       "</div>"
      ],
      "text/plain": [
       "                      user_id  friend_count\n",
       "7395   8iFdGflRabklAt3G_Pd0ug             0\n",
       "7396   TsZxDJuhgReq8SeoQYSy8g             0\n",
       "7397   zunWrhzfbH1UUBtZbRB_QQ             0\n",
       "7398   PeKouqRuQU7eJM24fUm6KQ             0\n",
       "7399   fs0xfZ1JKigEHO_nB0R7mQ             0\n",
       "...                       ...           ...\n",
       "91302  zi_SpBv3Born9kXEc7LlIA             9\n",
       "91422  bICtVzEenh9UtEoj-pMTtg             1\n",
       "91726  Fuv1shWKfQvS7uLOICpR7w             2\n",
       "92075  xOfUwumhFdn39OaweGtN-Q             1\n",
       "92145  NfCV4d21XhNIUwsjjBdDww             2\n",
       "\n",
       "[92622 rows x 2 columns]"
      ]
     },
     "execution_count": 15,
     "metadata": {},
     "output_type": "execute_result"
    }
   ],
   "source": [
    "# merge the two new dataframes \n",
    "friend_count_df = pd.concat([no_friends_filtered_df, one_or_more_friends_filtered_df])\n",
    "friend_count_df "
   ]
  },
  {
   "cell_type": "code",
   "execution_count": 16,
   "metadata": {},
   "outputs": [
    {
     "data": {
      "text/html": [
       "<div>\n",
       "<style scoped>\n",
       "    .dataframe tbody tr th:only-of-type {\n",
       "        vertical-align: middle;\n",
       "    }\n",
       "\n",
       "    .dataframe tbody tr th {\n",
       "        vertical-align: top;\n",
       "    }\n",
       "\n",
       "    .dataframe thead th {\n",
       "        text-align: right;\n",
       "    }\n",
       "</style>\n",
       "<table border=\"1\" class=\"dataframe\">\n",
       "  <thead>\n",
       "    <tr style=\"text-align: right;\">\n",
       "      <th></th>\n",
       "      <th>user_id</th>\n",
       "      <th>name</th>\n",
       "      <th>review_count</th>\n",
       "      <th>yelping_since</th>\n",
       "      <th>useful</th>\n",
       "      <th>funny</th>\n",
       "      <th>cool</th>\n",
       "      <th>elite</th>\n",
       "      <th>friends</th>\n",
       "      <th>fans</th>\n",
       "      <th>...</th>\n",
       "      <th>compliment_cute</th>\n",
       "      <th>compliment_list</th>\n",
       "      <th>compliment_note</th>\n",
       "      <th>compliment_plain</th>\n",
       "      <th>compliment_cool</th>\n",
       "      <th>compliment_funny</th>\n",
       "      <th>compliment_writer</th>\n",
       "      <th>compliment_photos</th>\n",
       "      <th>elite_no_nan</th>\n",
       "      <th>friend_count</th>\n",
       "    </tr>\n",
       "  </thead>\n",
       "  <tbody>\n",
       "    <tr>\n",
       "      <td>0</td>\n",
       "      <td>l6BmjZMeQD3rDxWUbiAiow</td>\n",
       "      <td>Rashmi</td>\n",
       "      <td>95</td>\n",
       "      <td>2013-10-08 23:11:33</td>\n",
       "      <td>84</td>\n",
       "      <td>17</td>\n",
       "      <td>25</td>\n",
       "      <td>2015,2016,2017</td>\n",
       "      <td>c78V-rj8NQcQjOI8KP3UEA, alRMgPcngYSCJ5naFRBz5g...</td>\n",
       "      <td>5</td>\n",
       "      <td>...</td>\n",
       "      <td>0</td>\n",
       "      <td>0</td>\n",
       "      <td>1</td>\n",
       "      <td>1</td>\n",
       "      <td>1</td>\n",
       "      <td>1</td>\n",
       "      <td>2</td>\n",
       "      <td>0</td>\n",
       "      <td>2015,2016,2017</td>\n",
       "      <td>99</td>\n",
       "    </tr>\n",
       "  </tbody>\n",
       "</table>\n",
       "<p>1 rows × 24 columns</p>\n",
       "</div>"
      ],
      "text/plain": [
       "                  user_id    name  review_count        yelping_since  useful  \\\n",
       "0  l6BmjZMeQD3rDxWUbiAiow  Rashmi            95  2013-10-08 23:11:33      84   \n",
       "\n",
       "   funny  cool           elite  \\\n",
       "0     17    25  2015,2016,2017   \n",
       "\n",
       "                                             friends  fans  ...  \\\n",
       "0  c78V-rj8NQcQjOI8KP3UEA, alRMgPcngYSCJ5naFRBz5g...     5  ...   \n",
       "\n",
       "   compliment_cute  compliment_list  compliment_note  compliment_plain  \\\n",
       "0                0                0                1                 1   \n",
       "\n",
       "   compliment_cool  compliment_funny  compliment_writer  compliment_photos  \\\n",
       "0                1                 1                  2                  0   \n",
       "\n",
       "     elite_no_nan  friend_count  \n",
       "0  2015,2016,2017            99  \n",
       "\n",
       "[1 rows x 24 columns]"
      ]
     },
     "execution_count": 16,
     "metadata": {},
     "output_type": "execute_result"
    }
   ],
   "source": [
    "# add friend count dataframe into users dataframe\n",
    "users_plus_friend_count = users.merge(friend_count_df, on='user_id', how='left')\n",
    "users_plus_friend_count.head(1)"
   ]
  },
  {
   "cell_type": "code",
   "execution_count": 17,
   "metadata": {},
   "outputs": [
    {
     "data": {
      "text/html": [
       "<div>\n",
       "<style scoped>\n",
       "    .dataframe tbody tr th:only-of-type {\n",
       "        vertical-align: middle;\n",
       "    }\n",
       "\n",
       "    .dataframe tbody tr th {\n",
       "        vertical-align: top;\n",
       "    }\n",
       "\n",
       "    .dataframe thead th {\n",
       "        text-align: right;\n",
       "    }\n",
       "</style>\n",
       "<table border=\"1\" class=\"dataframe\">\n",
       "  <thead>\n",
       "    <tr style=\"text-align: right;\">\n",
       "      <th></th>\n",
       "      <th>user_id</th>\n",
       "      <th>name</th>\n",
       "      <th>review_count</th>\n",
       "      <th>yelping_since</th>\n",
       "      <th>useful</th>\n",
       "      <th>funny</th>\n",
       "      <th>cool</th>\n",
       "      <th>elite</th>\n",
       "      <th>friends</th>\n",
       "      <th>fans</th>\n",
       "      <th>...</th>\n",
       "      <th>compliment_list</th>\n",
       "      <th>compliment_note</th>\n",
       "      <th>compliment_plain</th>\n",
       "      <th>compliment_cool</th>\n",
       "      <th>compliment_funny</th>\n",
       "      <th>compliment_writer</th>\n",
       "      <th>compliment_photos</th>\n",
       "      <th>elite_no_nan</th>\n",
       "      <th>friend_count</th>\n",
       "      <th>count_of_friends_segments</th>\n",
       "    </tr>\n",
       "  </thead>\n",
       "  <tbody>\n",
       "    <tr>\n",
       "      <td>0</td>\n",
       "      <td>l6BmjZMeQD3rDxWUbiAiow</td>\n",
       "      <td>Rashmi</td>\n",
       "      <td>95</td>\n",
       "      <td>2013-10-08 23:11:33</td>\n",
       "      <td>84</td>\n",
       "      <td>17</td>\n",
       "      <td>25</td>\n",
       "      <td>2015,2016,2017</td>\n",
       "      <td>c78V-rj8NQcQjOI8KP3UEA, alRMgPcngYSCJ5naFRBz5g...</td>\n",
       "      <td>5</td>\n",
       "      <td>...</td>\n",
       "      <td>0</td>\n",
       "      <td>1</td>\n",
       "      <td>1</td>\n",
       "      <td>1</td>\n",
       "      <td>1</td>\n",
       "      <td>2</td>\n",
       "      <td>0</td>\n",
       "      <td>2015,2016,2017</td>\n",
       "      <td>99</td>\n",
       "      <td>51-200</td>\n",
       "    </tr>\n",
       "  </tbody>\n",
       "</table>\n",
       "<p>1 rows × 25 columns</p>\n",
       "</div>"
      ],
      "text/plain": [
       "                  user_id    name  review_count        yelping_since  useful  \\\n",
       "0  l6BmjZMeQD3rDxWUbiAiow  Rashmi            95  2013-10-08 23:11:33      84   \n",
       "\n",
       "   funny  cool           elite  \\\n",
       "0     17    25  2015,2016,2017   \n",
       "\n",
       "                                             friends  fans  ...  \\\n",
       "0  c78V-rj8NQcQjOI8KP3UEA, alRMgPcngYSCJ5naFRBz5g...     5  ...   \n",
       "\n",
       "   compliment_list  compliment_note  compliment_plain  compliment_cool  \\\n",
       "0                0                1                 1                1   \n",
       "\n",
       "   compliment_funny  compliment_writer  compliment_photos    elite_no_nan  \\\n",
       "0                 1                  2                  0  2015,2016,2017   \n",
       "\n",
       "   friend_count  count_of_friends_segments  \n",
       "0            99                     51-200  \n",
       "\n",
       "[1 rows x 25 columns]"
      ]
     },
     "execution_count": 17,
     "metadata": {},
     "output_type": "execute_result"
    }
   ],
   "source": [
    "# create categories for number of friends\n",
    "criteria = [users_plus_friend_count['friend_count'].between(0,0), users_plus_friend_count['friend_count'].between(1,10), users_plus_friend_count['friend_count'].between(11,50), users_plus_friend_count['friend_count'].between(51,200), users_plus_friend_count['friend_count'].between(201,200000)]\n",
    "values = ['0', '1-10', '11-50', '51-200', '201+']\n",
    "users_plus_friend_count['count_of_friends_segments'] = np.select(criteria, values, 0)\n",
    "users_plus_friend_count.head(1)"
   ]
  },
  {
   "cell_type": "code",
   "execution_count": 18,
   "metadata": {},
   "outputs": [
    {
     "data": {
      "text/html": [
       "<div>\n",
       "<style scoped>\n",
       "    .dataframe tbody tr th:only-of-type {\n",
       "        vertical-align: middle;\n",
       "    }\n",
       "\n",
       "    .dataframe tbody tr th {\n",
       "        vertical-align: top;\n",
       "    }\n",
       "\n",
       "    .dataframe thead th {\n",
       "        text-align: right;\n",
       "    }\n",
       "</style>\n",
       "<table border=\"1\" class=\"dataframe\">\n",
       "  <thead>\n",
       "    <tr style=\"text-align: right;\">\n",
       "      <th></th>\n",
       "      <th>user_id</th>\n",
       "      <th>name</th>\n",
       "      <th>review_count_user_id</th>\n",
       "      <th>yelping_since</th>\n",
       "      <th>useful</th>\n",
       "      <th>funny</th>\n",
       "      <th>cool</th>\n",
       "      <th>elite</th>\n",
       "      <th>friends</th>\n",
       "      <th>fans</th>\n",
       "      <th>...</th>\n",
       "      <th>compliment_list</th>\n",
       "      <th>compliment_note</th>\n",
       "      <th>compliment_plain</th>\n",
       "      <th>compliment_cool</th>\n",
       "      <th>compliment_funny</th>\n",
       "      <th>compliment_writer</th>\n",
       "      <th>compliment_photos</th>\n",
       "      <th>elite_no_nan</th>\n",
       "      <th>friend_count</th>\n",
       "      <th>count_of_friends_segments</th>\n",
       "    </tr>\n",
       "  </thead>\n",
       "  <tbody>\n",
       "    <tr>\n",
       "      <td>0</td>\n",
       "      <td>l6BmjZMeQD3rDxWUbiAiow</td>\n",
       "      <td>Rashmi</td>\n",
       "      <td>95</td>\n",
       "      <td>2013-10-08 23:11:33</td>\n",
       "      <td>84</td>\n",
       "      <td>17</td>\n",
       "      <td>25</td>\n",
       "      <td>2015,2016,2017</td>\n",
       "      <td>c78V-rj8NQcQjOI8KP3UEA, alRMgPcngYSCJ5naFRBz5g...</td>\n",
       "      <td>5</td>\n",
       "      <td>...</td>\n",
       "      <td>0</td>\n",
       "      <td>1</td>\n",
       "      <td>1</td>\n",
       "      <td>1</td>\n",
       "      <td>1</td>\n",
       "      <td>2</td>\n",
       "      <td>0</td>\n",
       "      <td>2015,2016,2017</td>\n",
       "      <td>99</td>\n",
       "      <td>51-200</td>\n",
       "    </tr>\n",
       "  </tbody>\n",
       "</table>\n",
       "<p>1 rows × 25 columns</p>\n",
       "</div>"
      ],
      "text/plain": [
       "                  user_id    name  review_count_user_id        yelping_since  \\\n",
       "0  l6BmjZMeQD3rDxWUbiAiow  Rashmi                    95  2013-10-08 23:11:33   \n",
       "\n",
       "   useful  funny  cool           elite  \\\n",
       "0      84     17    25  2015,2016,2017   \n",
       "\n",
       "                                             friends  fans  ...  \\\n",
       "0  c78V-rj8NQcQjOI8KP3UEA, alRMgPcngYSCJ5naFRBz5g...     5  ...   \n",
       "\n",
       "   compliment_list  compliment_note  compliment_plain  compliment_cool  \\\n",
       "0                0                1                 1                1   \n",
       "\n",
       "   compliment_funny  compliment_writer  compliment_photos    elite_no_nan  \\\n",
       "0                 1                  2                  0  2015,2016,2017   \n",
       "\n",
       "   friend_count  count_of_friends_segments  \n",
       "0            99                     51-200  \n",
       "\n",
       "[1 rows x 25 columns]"
      ]
     },
     "execution_count": 18,
     "metadata": {},
     "output_type": "execute_result"
    }
   ],
   "source": [
    "# Rename review_count to indicate that this includes restaurant non restaurant reviews \n",
    "users_plus_friend_rename = users_plus_friend_count.rename(columns={'review_count':'review_count_user_id'})\n",
    "users_plus_friend_rename.head(1)"
   ]
  },
  {
   "cell_type": "code",
   "execution_count": 19,
   "metadata": {},
   "outputs": [
    {
     "data": {
      "text/html": [
       "<div>\n",
       "<style scoped>\n",
       "    .dataframe tbody tr th:only-of-type {\n",
       "        vertical-align: middle;\n",
       "    }\n",
       "\n",
       "    .dataframe tbody tr th {\n",
       "        vertical-align: top;\n",
       "    }\n",
       "\n",
       "    .dataframe thead th {\n",
       "        text-align: right;\n",
       "    }\n",
       "</style>\n",
       "<table border=\"1\" class=\"dataframe\">\n",
       "  <thead>\n",
       "    <tr style=\"text-align: right;\">\n",
       "      <th></th>\n",
       "      <th>user_id</th>\n",
       "      <th>review_count_user_id</th>\n",
       "      <th>elite_no_nan</th>\n",
       "      <th>friends</th>\n",
       "      <th>friend_count</th>\n",
       "      <th>count_of_friends_segments</th>\n",
       "    </tr>\n",
       "  </thead>\n",
       "  <tbody>\n",
       "    <tr>\n",
       "      <td>0</td>\n",
       "      <td>l6BmjZMeQD3rDxWUbiAiow</td>\n",
       "      <td>95</td>\n",
       "      <td>2015,2016,2017</td>\n",
       "      <td>c78V-rj8NQcQjOI8KP3UEA, alRMgPcngYSCJ5naFRBz5g...</td>\n",
       "      <td>99</td>\n",
       "      <td>51-200</td>\n",
       "    </tr>\n",
       "  </tbody>\n",
       "</table>\n",
       "</div>"
      ],
      "text/plain": [
       "                  user_id  review_count_user_id    elite_no_nan  \\\n",
       "0  l6BmjZMeQD3rDxWUbiAiow                    95  2015,2016,2017   \n",
       "\n",
       "                                             friends  friend_count  \\\n",
       "0  c78V-rj8NQcQjOI8KP3UEA, alRMgPcngYSCJ5naFRBz5g...            99   \n",
       "\n",
       "  count_of_friends_segments  \n",
       "0                    51-200  "
      ]
     },
     "execution_count": 19,
     "metadata": {},
     "output_type": "execute_result"
    }
   ],
   "source": [
    "users_merge = users_plus_friend_rename[['user_id', 'review_count_user_id','elite_no_nan', 'friends','friend_count', 'count_of_friends_segments']]\n",
    "users_merge.head(1)"
   ]
  },
  {
   "cell_type": "code",
   "execution_count": null,
   "metadata": {},
   "outputs": [],
   "source": []
  },
  {
   "cell_type": "code",
   "execution_count": 20,
   "metadata": {},
   "outputs": [],
   "source": [
    "# ADD NEW COLUMNS TO REVIEWS DATAFRAME DERIVED FROM REVIEWS DATAFRAME"
   ]
  },
  {
   "cell_type": "code",
   "execution_count": 21,
   "metadata": {},
   "outputs": [
    {
     "data": {
      "text/plain": [
       "(321345, 9)"
      ]
     },
     "execution_count": 21,
     "metadata": {},
     "output_type": "execute_result"
    }
   ],
   "source": [
    "reviews = pd.read_csv('./reviews_oh.csv')\n",
    "reviews.shape"
   ]
  },
  {
   "cell_type": "code",
   "execution_count": 22,
   "metadata": {},
   "outputs": [
    {
     "data": {
      "text/plain": [
       "review_id      object\n",
       "user_id        object\n",
       "business_id    object\n",
       "stars           int64\n",
       "useful          int64\n",
       "funny           int64\n",
       "cool            int64\n",
       "text           object\n",
       "date           object\n",
       "dtype: object"
      ]
     },
     "execution_count": 22,
     "metadata": {},
     "output_type": "execute_result"
    }
   ],
   "source": [
    "reviews.dtypes"
   ]
  },
  {
   "cell_type": "code",
   "execution_count": 23,
   "metadata": {},
   "outputs": [
    {
     "data": {
      "text/plain": [
       "2005    0.000386\n",
       "2006    0.001130\n",
       "2007    0.002589\n",
       "2008    0.006538\n",
       "2009    0.011576\n",
       "2010    0.025957\n",
       "2011    0.046346\n",
       "2012    0.060502\n",
       "2013    0.075564\n",
       "2014    0.110218\n",
       "2015    0.147735\n",
       "2016    0.162019\n",
       "2017    0.174330\n",
       "2018    0.175111\n",
       "Freq: A-DEC, Name: year, dtype: float64"
      ]
     },
     "execution_count": 23,
     "metadata": {},
     "output_type": "execute_result"
    }
   ],
   "source": [
    "# create datetime column and a year column to get an overview of when the reviews were submitted\n",
    "reviews['datetime'] = pd.to_datetime(reviews['date'])\n",
    "reviews['year'] = pd.to_datetime(reviews['date']).dt.to_period('Y')\n",
    "reviews['year'].value_counts(normalize=True).sort_index(axis = 0)"
   ]
  },
  {
   "cell_type": "code",
   "execution_count": 24,
   "metadata": {},
   "outputs": [],
   "source": [
    "# Check to see if the review is a one and add as a new columns to indicate whether true\n",
    "def is_it_a_one (i):\n",
    "    if i == 1:\n",
    "        return 1\n",
    "    else:\n",
    "        return 0\n",
    "reviews['is_it_a_one'] = reviews['stars'].apply(is_it_a_one)\n",
    "\n",
    "# Check to see if the review is a five and add as a new columns to indicate whether true\n",
    "def is_it_a_five (i):\n",
    "    if i == 5:\n",
    "        return 1\n",
    "    else:\n",
    "        return 0\n",
    "reviews['is_it_a_five'] = reviews['stars'].apply(is_it_a_five)\n",
    "\n",
    "# Check to see if the review is a five and add as a new columns to indicate whether true\n",
    "def is_it_a_one_or_two (i):\n",
    "    if i == 1 or i ==2:\n",
    "        return 1\n",
    "    else:\n",
    "        return 0\n",
    "reviews['is_it_a_one_or_two'] = reviews['stars'].apply(is_it_a_one_or_two)\n",
    "\n",
    "# Check to see if the review is a five and add as a new columns to indicate whether true\n",
    "def is_it_a_four_or_five (i):\n",
    "    if i == 4 or i ==5:\n",
    "        return 1\n",
    "    else:\n",
    "        return 0\n",
    "reviews['is_it_a_four_or_five'] = reviews['stars'].apply(is_it_a_four_or_five)\n",
    "\n",
    "# Check to see if the review is a five and add as a new columns to indicate whether true\n",
    "def is_it_a_one_or_five (i):\n",
    "    if i == 1 or i ==5:\n",
    "        return 1\n",
    "    else:\n",
    "        return 0\n",
    "reviews['is_it_a_one_or_five'] = reviews['stars'].apply(is_it_a_one_or_five)\n",
    "\n"
   ]
  },
  {
   "cell_type": "code",
   "execution_count": 25,
   "metadata": {},
   "outputs": [
    {
     "data": {
      "text/plain": [
       "review_id                       object\n",
       "user_id                         object\n",
       "business_id                     object\n",
       "stars                            int64\n",
       "useful                           int64\n",
       "funny                            int64\n",
       "cool                             int64\n",
       "text                            object\n",
       "date                            object\n",
       "datetime                datetime64[ns]\n",
       "year                     period[A-DEC]\n",
       "is_it_a_one                      int64\n",
       "is_it_a_five                     int64\n",
       "is_it_a_one_or_two               int64\n",
       "is_it_a_four_or_five             int64\n",
       "is_it_a_one_or_five              int64\n",
       "dtype: object"
      ]
     },
     "execution_count": 25,
     "metadata": {},
     "output_type": "execute_result"
    }
   ],
   "source": [
    "reviews.dtypes"
   ]
  },
  {
   "cell_type": "code",
   "execution_count": null,
   "metadata": {},
   "outputs": [],
   "source": []
  },
  {
   "cell_type": "code",
   "execution_count": 26,
   "metadata": {},
   "outputs": [],
   "source": [
    "# DERIVE NEW COLUMNS AT BUSINESS LEVEL DATAFRAME FROM REVIEW LEVEL DATAFRAME"
   ]
  },
  {
   "cell_type": "code",
   "execution_count": 27,
   "metadata": {},
   "outputs": [
    {
     "data": {
      "text/plain": [
       "(14697, 11)"
      ]
     },
     "execution_count": 27,
     "metadata": {},
     "output_type": "execute_result"
    }
   ],
   "source": [
    "# Get various compontent of business_id aggregate data and put into a datframe \n",
    "business_df = reviews.groupby('business_id').stars.agg(['count', 'mean', 'min', 'max','std']).reset_index()\n",
    "business_df.rename(columns={'count':'biz_review_count', 'mean':'biz_star_mean', 'max':'biz_star_max', 'min':'biz_star_min','std':'biz_star_std'}, inplace=True)\n",
    "# create columns for the earliest and latest reviews by business_id and create a new dataframe\n",
    "earliest_to_latest = reviews.groupby('business_id').agg({'datetime': [np.min,np.max]})\n",
    "# change the name of the columns\n",
    "earliest_to_latest.columns = ['earliest_review', 'latest_review']\n",
    "# reset the index\n",
    "earliest_to_latest.reset_index(level=0, inplace=True)\n",
    "# import datetime and timedelta\n",
    "import datetime\n",
    "from datetime import timedelta\n",
    "# subtract the earlest review from the latest review to get the time delta\n",
    "earliest_to_latest['earliest_to_latest'] = earliest_to_latest['latest_review'] - earliest_to_latest['earliest_review']\n",
    "# convert timedelta into seconds\n",
    "datetime.timedelta(seconds=24*60*60).total_seconds()\n",
    "# and then into years\n",
    "earliest_to_latest['earliest_to_latest_years'] = (earliest_to_latest['earliest_to_latest'].dt.total_seconds() / 31536000).round(2)\n",
    "earliest_to_latest.head(1)\n",
    "# merge columns into a new the reviews dataframe but create as a new dataframe \n",
    "business_all_df = business_df.merge(earliest_to_latest, on='business_id', how='left')\n",
    "# Add useful to the new dataframe \n",
    "business_useful = pd.DataFrame(reviews.groupby('business_id').useful.sum())\n",
    "business_useful.reset_index(level=0, inplace=True)\n",
    "business_star_stats_df = business_all_df.merge(business_useful, on='business_id', how='left')\n",
    "business_star_stats_df.shape"
   ]
  },
  {
   "cell_type": "code",
   "execution_count": 28,
   "metadata": {},
   "outputs": [
    {
     "data": {
      "text/plain": [
       "(14697, 26)"
      ]
     },
     "execution_count": 28,
     "metadata": {},
     "output_type": "execute_result"
    }
   ],
   "source": [
    "# merge aggregate business level data derived from reviews into the derived business dataframe \n",
    "business_merge_1 = business.merge(business_star_stats_df, on='business_id', how='left')\n",
    "business_merge_1.shape"
   ]
  },
  {
   "cell_type": "code",
   "execution_count": 29,
   "metadata": {},
   "outputs": [
    {
     "data": {
      "text/plain": [
       "business_id                              object\n",
       "name_business_id                         object\n",
       "address                                  object\n",
       "city                                     object\n",
       "state                                    object\n",
       "postal_code                              object\n",
       "latitude                                float64\n",
       "longitude                               float64\n",
       "stars_for_business_id                   float64\n",
       "review_count_for_business_id              int64\n",
       "is_open                                   int64\n",
       "attributes                               object\n",
       "categories                               object\n",
       "hours                                    object\n",
       "lat_lon_cluster                           int32\n",
       "postal_code_str                          object\n",
       "biz_review_count                          int64\n",
       "biz_star_mean                           float64\n",
       "biz_star_min                              int64\n",
       "biz_star_max                              int64\n",
       "biz_star_std                            float64\n",
       "earliest_review                  datetime64[ns]\n",
       "latest_review                    datetime64[ns]\n",
       "earliest_to_latest              timedelta64[ns]\n",
       "earliest_to_latest_years                float64\n",
       "useful_business_id                        int64\n",
       "dtype: object"
      ]
     },
     "execution_count": 29,
     "metadata": {},
     "output_type": "execute_result"
    }
   ],
   "source": [
    "# rename review_count at business level in prep for merge into review level dataframe\n",
    "business_merge_2= business_merge_1.rename(columns={'review_count':'review_count_for_business_id', 'stars':'stars_for_business_id', 'useful':'useful_business_id', 'name':'name_business_id'})\n",
    "business_merge_2.dtypes"
   ]
  },
  {
   "cell_type": "code",
   "execution_count": 30,
   "metadata": {},
   "outputs": [
    {
     "data": {
      "text/plain": [
       "business_id                        0\n",
       "name_business_id                   0\n",
       "address                          253\n",
       "city                               0\n",
       "state                              0\n",
       "postal_code                       20\n",
       "latitude                           0\n",
       "longitude                          0\n",
       "stars_for_business_id              0\n",
       "review_count_for_business_id       0\n",
       "is_open                            0\n",
       "attributes                      2094\n",
       "categories                        32\n",
       "hours                           3552\n",
       "lat_lon_cluster                    0\n",
       "postal_code_str                    0\n",
       "biz_review_count                   0\n",
       "biz_star_mean                      0\n",
       "biz_star_min                       0\n",
       "biz_star_max                       0\n",
       "biz_star_std                       0\n",
       "earliest_review                    0\n",
       "latest_review                      0\n",
       "earliest_to_latest                 0\n",
       "earliest_to_latest_years           0\n",
       "useful_business_id                 0\n",
       "dtype: int64"
      ]
     },
     "execution_count": 30,
     "metadata": {},
     "output_type": "execute_result"
    }
   ],
   "source": [
    "business_merge_2.isnull().sum()"
   ]
  },
  {
   "cell_type": "code",
   "execution_count": 31,
   "metadata": {},
   "outputs": [
    {
     "data": {
      "text/plain": [
       "['business_id',\n",
       " 'name_business_id',\n",
       " 'address',\n",
       " 'city',\n",
       " 'state',\n",
       " 'postal_code',\n",
       " 'latitude',\n",
       " 'longitude',\n",
       " 'stars_for_business_id',\n",
       " 'review_count_for_business_id',\n",
       " 'is_open',\n",
       " 'attributes',\n",
       " 'categories',\n",
       " 'hours',\n",
       " 'lat_lon_cluster',\n",
       " 'postal_code_str',\n",
       " 'biz_review_count',\n",
       " 'biz_star_mean',\n",
       " 'biz_star_min',\n",
       " 'biz_star_max',\n",
       " 'biz_star_std',\n",
       " 'earliest_review',\n",
       " 'latest_review',\n",
       " 'earliest_to_latest',\n",
       " 'earliest_to_latest_years',\n",
       " 'useful_business_id']"
      ]
     },
     "execution_count": 31,
     "metadata": {},
     "output_type": "execute_result"
    }
   ],
   "source": [
    "# create list of columns \n",
    "business_merge_2.columns.tolist()"
   ]
  },
  {
   "cell_type": "code",
   "execution_count": 32,
   "metadata": {},
   "outputs": [],
   "source": [
    "business_merge_3 = business_merge_2[['business_id','name_business_id','city','state','latitude',\n",
    " 'longitude',\n",
    " 'stars_for_business_id',\n",
    " 'review_count_for_business_id',\n",
    " 'is_open','lat_lon_cluster',\n",
    " 'postal_code_str',\n",
    " 'biz_review_count',\n",
    " 'biz_star_mean',\n",
    " 'biz_star_min',\n",
    " 'biz_star_max',\n",
    " 'biz_star_std',\n",
    " 'earliest_review',\n",
    " 'latest_review',\n",
    " 'earliest_to_latest',\n",
    " 'earliest_to_latest_years',\n",
    " 'useful_business_id']]"
   ]
  },
  {
   "cell_type": "code",
   "execution_count": 33,
   "metadata": {},
   "outputs": [
    {
     "data": {
      "text/plain": [
       "review_id                                object\n",
       "user_id                                  object\n",
       "business_id                              object\n",
       "stars                                     int64\n",
       "useful                                    int64\n",
       "funny                                     int64\n",
       "cool                                      int64\n",
       "text                                     object\n",
       "date                                     object\n",
       "datetime                         datetime64[ns]\n",
       "year                              period[A-DEC]\n",
       "is_it_a_one                               int64\n",
       "is_it_a_five                              int64\n",
       "is_it_a_one_or_two                        int64\n",
       "is_it_a_four_or_five                      int64\n",
       "is_it_a_one_or_five                       int64\n",
       "name_business_id                         object\n",
       "city                                     object\n",
       "state                                    object\n",
       "latitude                                float64\n",
       "longitude                               float64\n",
       "stars_for_business_id                   float64\n",
       "review_count_for_business_id              int64\n",
       "is_open                                   int64\n",
       "lat_lon_cluster                           int32\n",
       "postal_code_str                          object\n",
       "biz_review_count                          int64\n",
       "biz_star_mean                           float64\n",
       "biz_star_min                              int64\n",
       "biz_star_max                              int64\n",
       "biz_star_std                            float64\n",
       "earliest_review                  datetime64[ns]\n",
       "latest_review                    datetime64[ns]\n",
       "earliest_to_latest              timedelta64[ns]\n",
       "earliest_to_latest_years                float64\n",
       "useful_business_id                        int64\n",
       "dtype: object"
      ]
     },
     "execution_count": 33,
     "metadata": {},
     "output_type": "execute_result"
    }
   ],
   "source": [
    "# merge aggregate business level data derived from reviews into the derived business dataframe \n",
    "reviews_business_merge = reviews.merge(business_merge_3, on='business_id', how='left')\n",
    "reviews_business_merge.dtypes"
   ]
  },
  {
   "cell_type": "code",
   "execution_count": null,
   "metadata": {},
   "outputs": [],
   "source": []
  },
  {
   "cell_type": "code",
   "execution_count": 34,
   "metadata": {},
   "outputs": [],
   "source": [
    "# FINAL MERGE"
   ]
  },
  {
   "cell_type": "code",
   "execution_count": 35,
   "metadata": {},
   "outputs": [
    {
     "data": {
      "text/html": [
       "<div>\n",
       "<style scoped>\n",
       "    .dataframe tbody tr th:only-of-type {\n",
       "        vertical-align: middle;\n",
       "    }\n",
       "\n",
       "    .dataframe tbody tr th {\n",
       "        vertical-align: top;\n",
       "    }\n",
       "\n",
       "    .dataframe thead th {\n",
       "        text-align: right;\n",
       "    }\n",
       "</style>\n",
       "<table border=\"1\" class=\"dataframe\">\n",
       "  <thead>\n",
       "    <tr style=\"text-align: right;\">\n",
       "      <th></th>\n",
       "      <th>review_id</th>\n",
       "      <th>user_id</th>\n",
       "      <th>business_id</th>\n",
       "      <th>stars</th>\n",
       "      <th>useful</th>\n",
       "      <th>funny</th>\n",
       "      <th>cool</th>\n",
       "      <th>text</th>\n",
       "      <th>date</th>\n",
       "      <th>datetime</th>\n",
       "      <th>...</th>\n",
       "      <th>earliest_review</th>\n",
       "      <th>latest_review</th>\n",
       "      <th>earliest_to_latest</th>\n",
       "      <th>earliest_to_latest_years</th>\n",
       "      <th>useful_business_id</th>\n",
       "      <th>review_count_user_id</th>\n",
       "      <th>elite_no_nan</th>\n",
       "      <th>friends</th>\n",
       "      <th>friend_count</th>\n",
       "      <th>count_of_friends_segments</th>\n",
       "    </tr>\n",
       "  </thead>\n",
       "  <tbody>\n",
       "    <tr>\n",
       "      <td>0</td>\n",
       "      <td>qrffudO73zsslZbe8B9D3Q</td>\n",
       "      <td>sG_h0dIzTKWa3Q6fmb4u-g</td>\n",
       "      <td>b2jN2mm9Wf3RcrZCgfo1cg</td>\n",
       "      <td>2</td>\n",
       "      <td>1</td>\n",
       "      <td>0</td>\n",
       "      <td>0</td>\n",
       "      <td>I was really looking forward to visiting after...</td>\n",
       "      <td>2015-01-18 14:04:18</td>\n",
       "      <td>2015-01-18 14:04:18</td>\n",
       "      <td>...</td>\n",
       "      <td>2013-06-05 18:43:58</td>\n",
       "      <td>2018-05-28 22:26:53</td>\n",
       "      <td>1818 days 03:42:55</td>\n",
       "      <td>4.98</td>\n",
       "      <td>54</td>\n",
       "      <td>13</td>\n",
       "      <td>0</td>\n",
       "      <td>None</td>\n",
       "      <td>0</td>\n",
       "      <td>0</td>\n",
       "    </tr>\n",
       "  </tbody>\n",
       "</table>\n",
       "<p>1 rows × 41 columns</p>\n",
       "</div>"
      ],
      "text/plain": [
       "                review_id                 user_id             business_id  \\\n",
       "0  qrffudO73zsslZbe8B9D3Q  sG_h0dIzTKWa3Q6fmb4u-g  b2jN2mm9Wf3RcrZCgfo1cg   \n",
       "\n",
       "   stars  useful  funny  cool  \\\n",
       "0      2       1      0     0   \n",
       "\n",
       "                                                text                 date  \\\n",
       "0  I was really looking forward to visiting after...  2015-01-18 14:04:18   \n",
       "\n",
       "             datetime  ...     earliest_review       latest_review  \\\n",
       "0 2015-01-18 14:04:18  ... 2013-06-05 18:43:58 2018-05-28 22:26:53   \n",
       "\n",
       "   earliest_to_latest  earliest_to_latest_years  useful_business_id  \\\n",
       "0  1818 days 03:42:55                      4.98                  54   \n",
       "\n",
       "   review_count_user_id elite_no_nan friends friend_count  \\\n",
       "0                    13            0    None            0   \n",
       "\n",
       "   count_of_friends_segments  \n",
       "0                          0  \n",
       "\n",
       "[1 rows x 41 columns]"
      ]
     },
     "execution_count": 35,
     "metadata": {},
     "output_type": "execute_result"
    }
   ],
   "source": [
    "# Add columns from revised user table into the reviews dataframe \n",
    "reviews_users_business = reviews_business_merge.merge(users_merge, on='user_id', how='left')\n",
    "reviews_users_business.head(1)"
   ]
  },
  {
   "cell_type": "code",
   "execution_count": 36,
   "metadata": {},
   "outputs": [
    {
     "data": {
      "text/plain": [
       "review_id                                object\n",
       "user_id                                  object\n",
       "business_id                              object\n",
       "stars                                     int64\n",
       "useful                                    int64\n",
       "funny                                     int64\n",
       "cool                                      int64\n",
       "text                                     object\n",
       "date                                     object\n",
       "datetime                         datetime64[ns]\n",
       "year                              period[A-DEC]\n",
       "is_it_a_one                               int64\n",
       "is_it_a_five                              int64\n",
       "is_it_a_one_or_two                        int64\n",
       "is_it_a_four_or_five                      int64\n",
       "is_it_a_one_or_five                       int64\n",
       "name_business_id                         object\n",
       "city                                     object\n",
       "state                                    object\n",
       "latitude                                float64\n",
       "longitude                               float64\n",
       "stars_for_business_id                   float64\n",
       "review_count_for_business_id              int64\n",
       "is_open                                   int64\n",
       "lat_lon_cluster                           int32\n",
       "postal_code_str                          object\n",
       "biz_review_count                          int64\n",
       "biz_star_mean                           float64\n",
       "biz_star_min                              int64\n",
       "biz_star_max                              int64\n",
       "biz_star_std                            float64\n",
       "earliest_review                  datetime64[ns]\n",
       "latest_review                    datetime64[ns]\n",
       "earliest_to_latest              timedelta64[ns]\n",
       "earliest_to_latest_years                float64\n",
       "useful_business_id                        int64\n",
       "review_count_user_id                      int64\n",
       "elite_no_nan                             object\n",
       "friends                                  object\n",
       "friend_count                              int64\n",
       "count_of_friends_segments                object\n",
       "dtype: object"
      ]
     },
     "execution_count": 36,
     "metadata": {},
     "output_type": "execute_result"
    }
   ],
   "source": [
    "reviews_users_business.dtypes"
   ]
  },
  {
   "cell_type": "code",
   "execution_count": 37,
   "metadata": {},
   "outputs": [
    {
     "data": {
      "text/plain": [
       "review_id                       0\n",
       "user_id                         0\n",
       "business_id                     0\n",
       "stars                           0\n",
       "useful                          0\n",
       "funny                           0\n",
       "cool                            0\n",
       "text                            0\n",
       "date                            0\n",
       "datetime                        0\n",
       "year                            0\n",
       "is_it_a_one                     0\n",
       "is_it_a_five                    0\n",
       "is_it_a_one_or_two              0\n",
       "is_it_a_four_or_five            0\n",
       "is_it_a_one_or_five             0\n",
       "name_business_id                0\n",
       "city                            0\n",
       "state                           0\n",
       "latitude                        0\n",
       "longitude                       0\n",
       "stars_for_business_id           0\n",
       "review_count_for_business_id    0\n",
       "is_open                         0\n",
       "lat_lon_cluster                 0\n",
       "postal_code_str                 0\n",
       "biz_review_count                0\n",
       "biz_star_mean                   0\n",
       "biz_star_min                    0\n",
       "biz_star_max                    0\n",
       "biz_star_std                    0\n",
       "earliest_review                 0\n",
       "latest_review                   0\n",
       "earliest_to_latest              0\n",
       "earliest_to_latest_years        0\n",
       "useful_business_id              0\n",
       "review_count_user_id            0\n",
       "elite_no_nan                    0\n",
       "friends                         0\n",
       "friend_count                    0\n",
       "count_of_friends_segments       0\n",
       "dtype: int64"
      ]
     },
     "execution_count": 37,
     "metadata": {},
     "output_type": "execute_result"
    }
   ],
   "source": [
    "reviews_users_business.isnull().sum()"
   ]
  },
  {
   "cell_type": "code",
   "execution_count": 41,
   "metadata": {},
   "outputs": [
    {
     "data": {
      "text/plain": [
       "(321345, 41)"
      ]
     },
     "execution_count": 41,
     "metadata": {},
     "output_type": "execute_result"
    }
   ],
   "source": [
    "reviews_users_business.shape"
   ]
  },
  {
   "cell_type": "code",
   "execution_count": null,
   "metadata": {},
   "outputs": [],
   "source": []
  },
  {
   "cell_type": "code",
   "execution_count": 38,
   "metadata": {},
   "outputs": [],
   "source": [
    "# FOR CSV EXPORT "
   ]
  },
  {
   "cell_type": "code",
   "execution_count": 39,
   "metadata": {},
   "outputs": [],
   "source": [
    "# Export\n",
    "reviews_users_business.to_csv('./reviews_users_business_oh.csv')"
   ]
  },
  {
   "cell_type": "code",
   "execution_count": null,
   "metadata": {},
   "outputs": [],
   "source": []
  },
  {
   "cell_type": "code",
   "execution_count": null,
   "metadata": {},
   "outputs": [],
   "source": []
  }
 ],
 "metadata": {
  "kernelspec": {
   "display_name": "Python 3",
   "language": "python",
   "name": "python3"
  },
  "language_info": {
   "codemirror_mode": {
    "name": "ipython",
    "version": 3
   },
   "file_extension": ".py",
   "mimetype": "text/x-python",
   "name": "python",
   "nbconvert_exporter": "python",
   "pygments_lexer": "ipython3",
   "version": "3.7.4"
  }
 },
 "nbformat": 4,
 "nbformat_minor": 2
}
