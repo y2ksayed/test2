{
 "cells": [
  {
   "cell_type": "code",
   "execution_count": 1,
   "metadata": {},
   "outputs": [],
   "source": [
    "# PURPOSE OF EDA \n",
    "# Explore the potential of restaurant data for extraploting predicaitons of a restaurants star rating.  "
   ]
  },
  {
   "cell_type": "code",
   "execution_count": 2,
   "metadata": {},
   "outputs": [],
   "source": [
    "import pandas as pd\n",
    "import numpy as np\n",
    "import seaborn as sns\n",
    "\n",
    "import matplotlib.pyplot as plt\n",
    "%matplotlib inline\n",
    "# Increase default figure and font sizes for easier viewing.\n",
    "plt.rcParams['figure.figsize'] = (8, 6)\n",
    "plt.rcParams['font.size'] = 14"
   ]
  },
  {
   "cell_type": "code",
   "execution_count": 3,
   "metadata": {},
   "outputs": [],
   "source": [
    "# Import in only those rows from Yelps business.json file than have: \n",
    "# 1. 'AZ' as the state  \n",
    "# 2. 'restuarant' in the string for category\n",
    "business = pd.read_csv('./business_az_r.csv')"
   ]
  },
  {
   "cell_type": "code",
   "execution_count": 4,
   "metadata": {},
   "outputs": [
    {
     "data": {
      "text/plain": [
       "(11473, 14)"
      ]
     },
     "execution_count": 4,
     "metadata": {},
     "output_type": "execute_result"
    }
   ],
   "source": [
    "# check the shape\n",
    "business.shape"
   ]
  },
  {
   "cell_type": "code",
   "execution_count": 5,
   "metadata": {},
   "outputs": [
    {
     "data": {
      "text/html": [
       "<div>\n",
       "<style scoped>\n",
       "    .dataframe tbody tr th:only-of-type {\n",
       "        vertical-align: middle;\n",
       "    }\n",
       "\n",
       "    .dataframe tbody tr th {\n",
       "        vertical-align: top;\n",
       "    }\n",
       "\n",
       "    .dataframe thead th {\n",
       "        text-align: right;\n",
       "    }\n",
       "</style>\n",
       "<table border=\"1\" class=\"dataframe\">\n",
       "  <thead>\n",
       "    <tr style=\"text-align: right;\">\n",
       "      <th></th>\n",
       "      <th>business_id</th>\n",
       "      <th>name</th>\n",
       "      <th>address</th>\n",
       "      <th>city</th>\n",
       "      <th>state</th>\n",
       "      <th>postal_code</th>\n",
       "      <th>latitude</th>\n",
       "      <th>longitude</th>\n",
       "      <th>stars</th>\n",
       "      <th>review_count</th>\n",
       "      <th>is_open</th>\n",
       "      <th>attributes</th>\n",
       "      <th>categories</th>\n",
       "      <th>hours</th>\n",
       "    </tr>\n",
       "  </thead>\n",
       "  <tbody>\n",
       "    <tr>\n",
       "      <td>0</td>\n",
       "      <td>1Dfx3zM-rW4n-31KeC8sJg</td>\n",
       "      <td>Taco Bell</td>\n",
       "      <td>2450 E Indian School Rd</td>\n",
       "      <td>Phoenix</td>\n",
       "      <td>AZ</td>\n",
       "      <td>85016.0</td>\n",
       "      <td>33.495194</td>\n",
       "      <td>-112.028588</td>\n",
       "      <td>3.0</td>\n",
       "      <td>18</td>\n",
       "      <td>1</td>\n",
       "      <td>{'RestaurantsTakeOut': 'True', 'BusinessParkin...</td>\n",
       "      <td>Restaurants, Breakfast &amp; Brunch, Mexican, Taco...</td>\n",
       "      <td>{'Monday': '7:0-0:0', 'Tuesday': '7:0-0:0', 'W...</td>\n",
       "    </tr>\n",
       "  </tbody>\n",
       "</table>\n",
       "</div>"
      ],
      "text/plain": [
       "              business_id       name                  address     city state  \\\n",
       "0  1Dfx3zM-rW4n-31KeC8sJg  Taco Bell  2450 E Indian School Rd  Phoenix    AZ   \n",
       "\n",
       "   postal_code   latitude   longitude  stars  review_count  is_open  \\\n",
       "0      85016.0  33.495194 -112.028588    3.0            18        1   \n",
       "\n",
       "                                          attributes  \\\n",
       "0  {'RestaurantsTakeOut': 'True', 'BusinessParkin...   \n",
       "\n",
       "                                          categories  \\\n",
       "0  Restaurants, Breakfast & Brunch, Mexican, Taco...   \n",
       "\n",
       "                                               hours  \n",
       "0  {'Monday': '7:0-0:0', 'Tuesday': '7:0-0:0', 'W...  "
      ]
     },
     "execution_count": 5,
     "metadata": {},
     "output_type": "execute_result"
    }
   ],
   "source": [
    "# check the head\n",
    "business.head(1)"
   ]
  },
  {
   "cell_type": "code",
   "execution_count": null,
   "metadata": {},
   "outputs": [],
   "source": []
  },
  {
   "cell_type": "code",
   "execution_count": 6,
   "metadata": {},
   "outputs": [],
   "source": [
    "# INITIAL DATA CLEAN"
   ]
  },
  {
   "cell_type": "code",
   "execution_count": 7,
   "metadata": {},
   "outputs": [
    {
     "data": {
      "text/plain": [
       "business_id      object\n",
       "name             object\n",
       "address          object\n",
       "city             object\n",
       "state            object\n",
       "postal_code     float64\n",
       "latitude        float64\n",
       "longitude       float64\n",
       "stars           float64\n",
       "review_count      int64\n",
       "is_open           int64\n",
       "attributes       object\n",
       "categories       object\n",
       "hours            object\n",
       "dtype: object"
      ]
     },
     "execution_count": 7,
     "metadata": {},
     "output_type": "execute_result"
    }
   ],
   "source": [
    "# check data types\n",
    "business.dtypes"
   ]
  },
  {
   "cell_type": "code",
   "execution_count": 8,
   "metadata": {},
   "outputs": [
    {
     "data": {
      "text/plain": [
       "business_id        0\n",
       "name               0\n",
       "address          134\n",
       "city               0\n",
       "state              0\n",
       "postal_code       13\n",
       "latitude           0\n",
       "longitude          0\n",
       "stars              0\n",
       "review_count       0\n",
       "is_open            0\n",
       "attributes       259\n",
       "categories         0\n",
       "hours           2589\n",
       "dtype: int64"
      ]
     },
     "execution_count": 8,
     "metadata": {},
     "output_type": "execute_result"
    }
   ],
   "source": [
    "# check for null values\n",
    "business.isnull().sum()"
   ]
  },
  {
   "cell_type": "code",
   "execution_count": 9,
   "metadata": {},
   "outputs": [
    {
     "data": {
      "text/plain": [
       "business_id     11473\n",
       "name            11473\n",
       "address         11473\n",
       "city            11473\n",
       "state           11473\n",
       "postal_code     11473\n",
       "latitude        11473\n",
       "longitude       11473\n",
       "stars           11473\n",
       "review_count    11473\n",
       "is_open          7680\n",
       "attributes      11473\n",
       "categories      11473\n",
       "hours           11473\n",
       "dtype: int64"
      ]
     },
     "execution_count": 9,
     "metadata": {},
     "output_type": "execute_result"
    }
   ],
   "source": [
    "# check for zero values\n",
    "business.astype(bool).sum(axis=0)"
   ]
  },
  {
   "cell_type": "code",
   "execution_count": 10,
   "metadata": {},
   "outputs": [],
   "source": [
    "# Turn post_code from a float into a string and make a it a new column and fill nan as 0\n",
    "business['postal_code_str'] = business.postal_code.astype(str)\n",
    "business['postal_code_str'] = business['postal_code_str'].map(lambda x: x.rstrip('.0'))\n",
    "business['postal_code_str'].fillna(0, inplace=True)"
   ]
  },
  {
   "cell_type": "code",
   "execution_count": null,
   "metadata": {},
   "outputs": [],
   "source": []
  },
  {
   "cell_type": "code",
   "execution_count": 11,
   "metadata": {},
   "outputs": [],
   "source": [
    "# OVERVIEW OF STAR RATINGS "
   ]
  },
  {
   "cell_type": "code",
   "execution_count": 12,
   "metadata": {},
   "outputs": [
    {
     "name": "stdout",
     "output_type": "stream",
     "text": [
      "1.0\n",
      "5.0\n",
      "3.5\n"
     ]
    }
   ],
   "source": [
    "# Reminder on stars \n",
    "print(business.stars.min())\n",
    "print(business.stars.max())\n",
    "print(business.stars.min()+ business.stars.max() / 2)"
   ]
  },
  {
   "cell_type": "code",
   "execution_count": 13,
   "metadata": {},
   "outputs": [
    {
     "name": "stdout",
     "output_type": "stream",
     "text": [
      "3.437418286411575\n",
      "0.8146029447558664\n"
     ]
    }
   ],
   "source": [
    "# Average star ratings of businesses skew slightly lower\n",
    "print(business.stars.mean())\n",
    "print(business.stars.std())"
   ]
  },
  {
   "cell_type": "code",
   "execution_count": 14,
   "metadata": {},
   "outputs": [
    {
     "data": {
      "image/png": "[encoded data removed]",
      "text/plain": [
       "<Figure size 432x288 with 1 Axes>"
      ]
     },
     "metadata": {
      "needs_background": "light"
     },
     "output_type": "display_data"
    }
   ],
   "source": [
    "# Skew can be seen graphically\n",
    "business.stars.plot(kind='hist', bins=25, title= 'Freq. of av. star ratings for restaurants in AZ');"
   ]
  },
  {
   "cell_type": "code",
   "execution_count": 15,
   "metadata": {},
   "outputs": [
    {
     "data": {
      "image/png": "[encoded data removed]",
      "text/plain": [
       "<Figure size 432x288 with 1 Axes>"
      ]
     },
     "metadata": {
      "needs_background": "light"
     },
     "output_type": "display_data"
    }
   ],
   "source": [
    "# To just above the mean star ratings, in general restaurants that have higher star ratings tend to have received more reviews\n",
    "business.plot(kind='scatter', x='review_count', y='stars', alpha=0.3);"
   ]
  },
  {
   "cell_type": "code",
   "execution_count": null,
   "metadata": {},
   "outputs": [],
   "source": []
  },
  {
   "cell_type": "code",
   "execution_count": 16,
   "metadata": {},
   "outputs": [],
   "source": [
    "# CORRELATION BETWEEN REVIEW COUNT FOR A BUSINESS AND AVERAGE RATING "
   ]
  },
  {
   "cell_type": "code",
   "execution_count": 17,
   "metadata": {},
   "outputs": [
    {
     "data": {
      "text/plain": [
       "1147664"
      ]
     },
     "execution_count": 17,
     "metadata": {},
     "output_type": "execute_result"
    }
   ],
   "source": [
    "# total number of reviews\n",
    "business.review_count.sum()"
   ]
  },
  {
   "cell_type": "code",
   "execution_count": 18,
   "metadata": {},
   "outputs": [
    {
     "data": {
      "text/plain": [
       "count    11473.000000\n",
       "mean       100.031727\n",
       "std        165.937579\n",
       "min          3.000000\n",
       "25%         13.000000\n",
       "50%         40.000000\n",
       "75%        118.000000\n",
       "max       2556.000000\n",
       "Name: review_count, dtype: float64"
      ]
     },
     "execution_count": 18,
     "metadata": {},
     "output_type": "execute_result"
    }
   ],
   "source": [
    "# Get data description of review count \n",
    "business.review_count.describe()"
   ]
  },
  {
   "cell_type": "code",
   "execution_count": 19,
   "metadata": {},
   "outputs": [
    {
     "data": {
      "text/html": [
       "<div>\n",
       "<style scoped>\n",
       "    .dataframe tbody tr th:only-of-type {\n",
       "        vertical-align: middle;\n",
       "    }\n",
       "\n",
       "    .dataframe tbody tr th {\n",
       "        vertical-align: top;\n",
       "    }\n",
       "\n",
       "    .dataframe thead th {\n",
       "        text-align: right;\n",
       "    }\n",
       "</style>\n",
       "<table border=\"1\" class=\"dataframe\">\n",
       "  <thead>\n",
       "    <tr style=\"text-align: right;\">\n",
       "      <th></th>\n",
       "      <th>review_count_for_biz</th>\n",
       "      <th>freq_of_businesses</th>\n",
       "      <th>average_rating</th>\n",
       "    </tr>\n",
       "  </thead>\n",
       "  <tbody>\n",
       "    <tr>\n",
       "      <td>0</td>\n",
       "      <td>3</td>\n",
       "      <td>480</td>\n",
       "      <td>3.367708</td>\n",
       "    </tr>\n",
       "    <tr>\n",
       "      <td>1</td>\n",
       "      <td>4</td>\n",
       "      <td>366</td>\n",
       "      <td>3.312842</td>\n",
       "    </tr>\n",
       "    <tr>\n",
       "      <td>2</td>\n",
       "      <td>5</td>\n",
       "      <td>307</td>\n",
       "      <td>3.389251</td>\n",
       "    </tr>\n",
       "    <tr>\n",
       "      <td>3</td>\n",
       "      <td>6</td>\n",
       "      <td>277</td>\n",
       "      <td>3.310469</td>\n",
       "    </tr>\n",
       "    <tr>\n",
       "      <td>4</td>\n",
       "      <td>7</td>\n",
       "      <td>265</td>\n",
       "      <td>3.241509</td>\n",
       "    </tr>\n",
       "    <tr>\n",
       "      <td>...</td>\n",
       "      <td>...</td>\n",
       "      <td>...</td>\n",
       "      <td>...</td>\n",
       "    </tr>\n",
       "    <tr>\n",
       "      <td>738</td>\n",
       "      <td>2046</td>\n",
       "      <td>1</td>\n",
       "      <td>4.500000</td>\n",
       "    </tr>\n",
       "    <tr>\n",
       "      <td>739</td>\n",
       "      <td>2071</td>\n",
       "      <td>1</td>\n",
       "      <td>4.500000</td>\n",
       "    </tr>\n",
       "    <tr>\n",
       "      <td>740</td>\n",
       "      <td>2189</td>\n",
       "      <td>1</td>\n",
       "      <td>4.500000</td>\n",
       "    </tr>\n",
       "    <tr>\n",
       "      <td>741</td>\n",
       "      <td>2276</td>\n",
       "      <td>1</td>\n",
       "      <td>4.000000</td>\n",
       "    </tr>\n",
       "    <tr>\n",
       "      <td>742</td>\n",
       "      <td>2556</td>\n",
       "      <td>1</td>\n",
       "      <td>4.500000</td>\n",
       "    </tr>\n",
       "  </tbody>\n",
       "</table>\n",
       "<p>743 rows × 3 columns</p>\n",
       "</div>"
      ],
      "text/plain": [
       "     review_count_for_biz  freq_of_businesses  average_rating\n",
       "0                       3                 480        3.367708\n",
       "1                       4                 366        3.312842\n",
       "2                       5                 307        3.389251\n",
       "3                       6                 277        3.310469\n",
       "4                       7                 265        3.241509\n",
       "..                    ...                 ...             ...\n",
       "738                  2046                   1        4.500000\n",
       "739                  2071                   1        4.500000\n",
       "740                  2189                   1        4.500000\n",
       "741                  2276                   1        4.000000\n",
       "742                  2556                   1        4.500000\n",
       "\n",
       "[743 rows x 3 columns]"
      ]
     },
     "execution_count": 19,
     "metadata": {},
     "output_type": "execute_result"
    }
   ],
   "source": [
    "# Creeate a dataframe to map the freq and ratings of different values of total reviews for businesses\n",
    "business_review_count = pd.concat([business.review_count.value_counts(), business.groupby('review_count').stars.mean()], axis=1)\n",
    "business_review_count.reset_index(level=0, inplace=True)\n",
    "business_review_count.columns = ['review_count_for_biz', 'freq_of_businesses', 'average_rating']\n",
    "business_review_count"
   ]
  },
  {
   "cell_type": "code",
   "execution_count": 20,
   "metadata": {},
   "outputs": [
    {
     "data": {
      "text/html": [
       "<div>\n",
       "<style scoped>\n",
       "    .dataframe tbody tr th:only-of-type {\n",
       "        vertical-align: middle;\n",
       "    }\n",
       "\n",
       "    .dataframe tbody tr th {\n",
       "        vertical-align: top;\n",
       "    }\n",
       "\n",
       "    .dataframe thead th {\n",
       "        text-align: right;\n",
       "    }\n",
       "</style>\n",
       "<table border=\"1\" class=\"dataframe\">\n",
       "  <thead>\n",
       "    <tr style=\"text-align: right;\">\n",
       "      <th></th>\n",
       "      <th>review_count_for_biz</th>\n",
       "      <th>freq_of_businesses</th>\n",
       "      <th>average_rating</th>\n",
       "    </tr>\n",
       "  </thead>\n",
       "  <tbody>\n",
       "    <tr>\n",
       "      <td>review_count_for_biz</td>\n",
       "      <td>1.000000</td>\n",
       "      <td>-0.364270</td>\n",
       "      <td>0.530366</td>\n",
       "    </tr>\n",
       "    <tr>\n",
       "      <td>freq_of_businesses</td>\n",
       "      <td>-0.364270</td>\n",
       "      <td>1.000000</td>\n",
       "      <td>-0.438805</td>\n",
       "    </tr>\n",
       "    <tr>\n",
       "      <td>average_rating</td>\n",
       "      <td>0.530366</td>\n",
       "      <td>-0.438805</td>\n",
       "      <td>1.000000</td>\n",
       "    </tr>\n",
       "  </tbody>\n",
       "</table>\n",
       "</div>"
      ],
      "text/plain": [
       "                      review_count_for_biz  freq_of_businesses  average_rating\n",
       "review_count_for_biz              1.000000           -0.364270        0.530366\n",
       "freq_of_businesses               -0.364270            1.000000       -0.438805\n",
       "average_rating                    0.530366           -0.438805        1.000000"
      ]
     },
     "execution_count": 20,
     "metadata": {},
     "output_type": "execute_result"
    }
   ],
   "source": [
    "# Check for correlation between review count and aveage rating\n",
    "business_review_count.corr()"
   ]
  },
  {
   "cell_type": "code",
   "execution_count": 21,
   "metadata": {},
   "outputs": [
    {
     "data": {
      "text/plain": [
       "Text(0.5, 1, 'Correlation between av. review count for locations with the same # of reviews')"
      ]
     },
     "execution_count": 21,
     "metadata": {},
     "output_type": "execute_result"
    },
    {
     "data": {
      "image/png": "[encoded data removed]",
      "text/plain": [
       "<Figure size 540x360 with 1 Axes>"
      ]
     },
     "metadata": {
      "needs_background": "light"
     },
     "output_type": "display_data"
    }
   ],
   "source": [
    "# map the correlation between review count and average rating\n",
    "sns.lmplot(x='review_count_for_biz', y='average_rating', data=business_review_count, aspect=1.5, scatter_kws={'alpha':0.2});\n",
    "ax = plt.gca()\n",
    "ax.set_title('Correlation between av. review count for locations with the same # of reviews')"
   ]
  },
  {
   "cell_type": "code",
   "execution_count": 22,
   "metadata": {},
   "outputs": [
    {
     "data": {
      "text/plain": [
       "Text(0.5, 1, 'Correlation between av. review count < 250 and average rating for locations with the same # of reviews')"
      ]
     },
     "execution_count": 22,
     "metadata": {},
     "output_type": "execute_result"
    },
    {
     "data": {
      "image/png": "[encoded data removed]",
      "text/plain": [
       "<Figure size 540x360 with 1 Axes>"
      ]
     },
     "metadata": {
      "needs_background": "light"
     },
     "output_type": "display_data"
    }
   ],
   "source": [
    "# # Check for correlation between review count and average rating when only businesses that have 250 or less total reviews are plotted.\n",
    "business_review_count_less_than_250 = business_review_count[business_review_count.review_count_for_biz < 250]\n",
    "sns.lmplot(x='review_count_for_biz', y='average_rating', data=business_review_count_less_than_250, aspect=1.5, scatter_kws={'alpha':0.2});\n",
    "ax = plt.gca()\n",
    "ax.set_title('Correlation between av. review count < 250 and average rating for locations with the same # of reviews')"
   ]
  },
  {
   "cell_type": "code",
   "execution_count": 23,
   "metadata": {},
   "outputs": [
    {
     "data": {
      "text/html": [
       "<div>\n",
       "<style scoped>\n",
       "    .dataframe tbody tr th:only-of-type {\n",
       "        vertical-align: middle;\n",
       "    }\n",
       "\n",
       "    .dataframe tbody tr th {\n",
       "        vertical-align: top;\n",
       "    }\n",
       "\n",
       "    .dataframe thead th {\n",
       "        text-align: right;\n",
       "    }\n",
       "</style>\n",
       "<table border=\"1\" class=\"dataframe\">\n",
       "  <thead>\n",
       "    <tr style=\"text-align: right;\">\n",
       "      <th></th>\n",
       "      <th>review_count_for_biz</th>\n",
       "      <th>freq_of_businesses</th>\n",
       "      <th>average_rating</th>\n",
       "    </tr>\n",
       "  </thead>\n",
       "  <tbody>\n",
       "    <tr>\n",
       "      <td>review_count_for_biz</td>\n",
       "      <td>1.000000</td>\n",
       "      <td>-0.664713</td>\n",
       "      <td>0.740740</td>\n",
       "    </tr>\n",
       "    <tr>\n",
       "      <td>freq_of_businesses</td>\n",
       "      <td>-0.664713</td>\n",
       "      <td>1.000000</td>\n",
       "      <td>-0.586419</td>\n",
       "    </tr>\n",
       "    <tr>\n",
       "      <td>average_rating</td>\n",
       "      <td>0.740740</td>\n",
       "      <td>-0.586419</td>\n",
       "      <td>1.000000</td>\n",
       "    </tr>\n",
       "  </tbody>\n",
       "</table>\n",
       "</div>"
      ],
      "text/plain": [
       "                      review_count_for_biz  freq_of_businesses  average_rating\n",
       "review_count_for_biz              1.000000           -0.664713        0.740740\n",
       "freq_of_businesses               -0.664713            1.000000       -0.586419\n",
       "average_rating                    0.740740           -0.586419        1.000000"
      ]
     },
     "execution_count": 23,
     "metadata": {},
     "output_type": "execute_result"
    }
   ],
   "source": [
    "# See strong correlation between average rating and review count\n",
    "business_review_count_less_than_250.corr()"
   ]
  },
  {
   "cell_type": "code",
   "execution_count": null,
   "metadata": {},
   "outputs": [],
   "source": []
  },
  {
   "cell_type": "code",
   "execution_count": 24,
   "metadata": {},
   "outputs": [],
   "source": [
    "# RESTAURANTS IN AZ WITH MORE THAN ONE LOCATION "
   ]
  },
  {
   "cell_type": "code",
   "execution_count": 25,
   "metadata": {},
   "outputs": [
    {
     "name": "stderr",
     "output_type": "stream",
     "text": [
      "/Users/hanhuang/opt/anaconda3/lib/python3.7/site-packages/ipykernel_launcher.py:2: FutureWarning: Sorting because non-concatenation axis is not aligned. A future version\n",
      "of pandas will change to not sort by default.\n",
      "\n",
      "To accept the future behavior, pass 'sort=False'.\n",
      "\n",
      "To retain the current behavior and silence the warning, pass 'sort=True'.\n",
      "\n",
      "  \n"
     ]
    },
    {
     "data": {
      "text/html": [
       "<div>\n",
       "<style scoped>\n",
       "    .dataframe tbody tr th:only-of-type {\n",
       "        vertical-align: middle;\n",
       "    }\n",
       "\n",
       "    .dataframe tbody tr th {\n",
       "        vertical-align: top;\n",
       "    }\n",
       "\n",
       "    .dataframe thead th {\n",
       "        text-align: right;\n",
       "    }\n",
       "</style>\n",
       "<table border=\"1\" class=\"dataframe\">\n",
       "  <thead>\n",
       "    <tr style=\"text-align: right;\">\n",
       "      <th></th>\n",
       "      <th>name</th>\n",
       "      <th>number_of_locations</th>\n",
       "      <th>average_rating</th>\n",
       "      <th>review_count</th>\n",
       "    </tr>\n",
       "  </thead>\n",
       "  <tbody>\n",
       "    <tr>\n",
       "      <td>0</td>\n",
       "      <td>#1 Fried Rice</td>\n",
       "      <td>1</td>\n",
       "      <td>3.5</td>\n",
       "      <td>44</td>\n",
       "    </tr>\n",
       "  </tbody>\n",
       "</table>\n",
       "</div>"
      ],
      "text/plain": [
       "            name  number_of_locations  average_rating  review_count\n",
       "0  #1 Fried Rice                    1             3.5            44"
      ]
     },
     "execution_count": 25,
     "metadata": {},
     "output_type": "execute_result"
    }
   ],
   "source": [
    "# Pulling together data set on multi location restaurants\n",
    "business_name = pd.concat([business.name.value_counts(),business.groupby('name').stars.mean()], axis=1)\n",
    "business_name.reset_index(level=0, inplace=True)\n",
    "business_name.columns = ['name', 'number_of_locations', 'average_rating']\n",
    "business_rating_total = business.groupby('name')['review_count'].sum().to_frame()\n",
    "business_rating_total.reset_index(inplace = True)\n",
    "del business_rating_total['name']\n",
    "business_name_revised = pd.concat([business_name, business_rating_total], axis=1)\n",
    "business_name_revised.head(1)"
   ]
  },
  {
   "cell_type": "code",
   "execution_count": 26,
   "metadata": {},
   "outputs": [
    {
     "data": {
      "text/plain": [
       "1     0.882804\n",
       "2     0.060378\n",
       "3     0.019715\n",
       "4     0.009858\n",
       "5     0.005340\n",
       "6     0.003697\n",
       "7     0.002601\n",
       "8     0.001506\n",
       "10    0.001506\n",
       "11    0.000958\n",
       "Name: number_of_locations, dtype: float64"
      ]
     },
     "execution_count": 26,
     "metadata": {},
     "output_type": "execute_result"
    }
   ],
   "source": [
    "# 88% of businesses have only one location\n",
    "business_name_revised.number_of_locations.value_counts(normalize=True).head(10)"
   ]
  },
  {
   "cell_type": "code",
   "execution_count": 27,
   "metadata": {},
   "outputs": [
    {
     "data": {
      "text/plain": [
       "<matplotlib.axes._subplots.AxesSubplot at 0x1a1ff45990>"
      ]
     },
     "execution_count": 27,
     "metadata": {},
     "output_type": "execute_result"
    },
    {
     "data": {
      "image/png": "[encoded data removed]",
      "text/plain": [
       "<Figure size 432x288 with 1 Axes>"
      ]
     },
     "metadata": {
      "needs_background": "light"
     },
     "output_type": "display_data"
    }
   ],
   "source": [
    "# Shows wide variety of ratings for restuarants that have only one location\n",
    "# sns.lmplot(x='freq_of_name', y='average_rating', data=business_name, aspect=1.5, scatter_kws={'alpha':0.2});\n",
    "business_name.plot(kind='scatter', x='number_of_locations', y='average_rating', title = 'Av. ratings based on the # of locations a restaurant operates')"
   ]
  },
  {
   "cell_type": "code",
   "execution_count": 28,
   "metadata": {},
   "outputs": [
    {
     "data": {
      "text/html": [
       "<div>\n",
       "<style scoped>\n",
       "    .dataframe tbody tr th:only-of-type {\n",
       "        vertical-align: middle;\n",
       "    }\n",
       "\n",
       "    .dataframe tbody tr th {\n",
       "        vertical-align: top;\n",
       "    }\n",
       "\n",
       "    .dataframe thead th {\n",
       "        text-align: right;\n",
       "    }\n",
       "</style>\n",
       "<table border=\"1\" class=\"dataframe\">\n",
       "  <thead>\n",
       "    <tr style=\"text-align: right;\">\n",
       "      <th></th>\n",
       "      <th>name</th>\n",
       "      <th>number_of_locations</th>\n",
       "      <th>average_rating</th>\n",
       "      <th>review_count</th>\n",
       "    </tr>\n",
       "  </thead>\n",
       "  <tbody>\n",
       "    <tr>\n",
       "      <td>5844</td>\n",
       "      <td>Subway</td>\n",
       "      <td>256</td>\n",
       "      <td>2.771484</td>\n",
       "      <td>2436</td>\n",
       "    </tr>\n",
       "    <tr>\n",
       "      <td>3876</td>\n",
       "      <td>McDonald's</td>\n",
       "      <td>179</td>\n",
       "      <td>1.941341</td>\n",
       "      <td>4667</td>\n",
       "    </tr>\n",
       "    <tr>\n",
       "      <td>5997</td>\n",
       "      <td>Taco Bell</td>\n",
       "      <td>110</td>\n",
       "      <td>2.572727</td>\n",
       "      <td>2009</td>\n",
       "    </tr>\n",
       "    <tr>\n",
       "      <td>858</td>\n",
       "      <td>Burger King</td>\n",
       "      <td>99</td>\n",
       "      <td>2.060606</td>\n",
       "      <td>1381</td>\n",
       "    </tr>\n",
       "    <tr>\n",
       "      <td>4513</td>\n",
       "      <td>Panda Express</td>\n",
       "      <td>69</td>\n",
       "      <td>2.326087</td>\n",
       "      <td>2262</td>\n",
       "    </tr>\n",
       "    <tr>\n",
       "      <td>4820</td>\n",
       "      <td>Pizza Hut</td>\n",
       "      <td>68</td>\n",
       "      <td>2.198529</td>\n",
       "      <td>1150</td>\n",
       "    </tr>\n",
       "    <tr>\n",
       "      <td>2110</td>\n",
       "      <td>Filiberto's Mexican Food</td>\n",
       "      <td>66</td>\n",
       "      <td>2.651515</td>\n",
       "      <td>2373</td>\n",
       "    </tr>\n",
       "    <tr>\n",
       "      <td>1731</td>\n",
       "      <td>Domino's Pizza</td>\n",
       "      <td>59</td>\n",
       "      <td>2.584746</td>\n",
       "      <td>1280</td>\n",
       "    </tr>\n",
       "    <tr>\n",
       "      <td>7035</td>\n",
       "      <td>Wendy's</td>\n",
       "      <td>59</td>\n",
       "      <td>2.262712</td>\n",
       "      <td>1363</td>\n",
       "    </tr>\n",
       "    <tr>\n",
       "      <td>1267</td>\n",
       "      <td>Chipotle Mexican Grill</td>\n",
       "      <td>56</td>\n",
       "      <td>3.035714</td>\n",
       "      <td>3668</td>\n",
       "    </tr>\n",
       "    <tr>\n",
       "      <td>3040</td>\n",
       "      <td>Jimmy John's</td>\n",
       "      <td>54</td>\n",
       "      <td>2.731481</td>\n",
       "      <td>2460</td>\n",
       "    </tr>\n",
       "    <tr>\n",
       "      <td>5696</td>\n",
       "      <td>Sonic Drive-In</td>\n",
       "      <td>53</td>\n",
       "      <td>2.311321</td>\n",
       "      <td>1511</td>\n",
       "    </tr>\n",
       "    <tr>\n",
       "      <td>2962</td>\n",
       "      <td>Jack in the Box</td>\n",
       "      <td>49</td>\n",
       "      <td>2.153061</td>\n",
       "      <td>677</td>\n",
       "    </tr>\n",
       "    <tr>\n",
       "      <td>4530</td>\n",
       "      <td>Papa John's Pizza</td>\n",
       "      <td>48</td>\n",
       "      <td>2.531250</td>\n",
       "      <td>768</td>\n",
       "    </tr>\n",
       "    <tr>\n",
       "      <td>1589</td>\n",
       "      <td>Dairy Queen</td>\n",
       "      <td>47</td>\n",
       "      <td>2.648936</td>\n",
       "      <td>1093</td>\n",
       "    </tr>\n",
       "    <tr>\n",
       "      <td>3490</td>\n",
       "      <td>Little Caesars Pizza</td>\n",
       "      <td>42</td>\n",
       "      <td>2.297619</td>\n",
       "      <td>532</td>\n",
       "    </tr>\n",
       "    <tr>\n",
       "      <td>1643</td>\n",
       "      <td>Denny's</td>\n",
       "      <td>41</td>\n",
       "      <td>2.524390</td>\n",
       "      <td>2251</td>\n",
       "    </tr>\n",
       "    <tr>\n",
       "      <td>269</td>\n",
       "      <td>Arby's</td>\n",
       "      <td>40</td>\n",
       "      <td>3.050000</td>\n",
       "      <td>537</td>\n",
       "    </tr>\n",
       "    <tr>\n",
       "      <td>5787</td>\n",
       "      <td>Starbucks</td>\n",
       "      <td>39</td>\n",
       "      <td>3.269231</td>\n",
       "      <td>1131</td>\n",
       "    </tr>\n",
       "    <tr>\n",
       "      <td>3117</td>\n",
       "      <td>KFC</td>\n",
       "      <td>38</td>\n",
       "      <td>1.657895</td>\n",
       "      <td>1198</td>\n",
       "    </tr>\n",
       "    <tr>\n",
       "      <td>487</td>\n",
       "      <td>Barro's Pizza</td>\n",
       "      <td>37</td>\n",
       "      <td>3.581081</td>\n",
       "      <td>2547</td>\n",
       "    </tr>\n",
       "    <tr>\n",
       "      <td>4534</td>\n",
       "      <td>Papa Murphy's</td>\n",
       "      <td>33</td>\n",
       "      <td>4.090909</td>\n",
       "      <td>478</td>\n",
       "    </tr>\n",
       "    <tr>\n",
       "      <td>4520</td>\n",
       "      <td>Panera Bread</td>\n",
       "      <td>32</td>\n",
       "      <td>2.531250</td>\n",
       "      <td>1842</td>\n",
       "    </tr>\n",
       "    <tr>\n",
       "      <td>2126</td>\n",
       "      <td>Firehouse Subs</td>\n",
       "      <td>31</td>\n",
       "      <td>3.322581</td>\n",
       "      <td>1375</td>\n",
       "    </tr>\n",
       "    <tr>\n",
       "      <td>3020</td>\n",
       "      <td>Jersey Mike's Subs</td>\n",
       "      <td>30</td>\n",
       "      <td>3.433333</td>\n",
       "      <td>1324</td>\n",
       "    </tr>\n",
       "    <tr>\n",
       "      <td>2960</td>\n",
       "      <td>Jack In the Box</td>\n",
       "      <td>29</td>\n",
       "      <td>2.275862</td>\n",
       "      <td>434</td>\n",
       "    </tr>\n",
       "    <tr>\n",
       "      <td>1303</td>\n",
       "      <td>Church's Chicken</td>\n",
       "      <td>29</td>\n",
       "      <td>2.327586</td>\n",
       "      <td>380</td>\n",
       "    </tr>\n",
       "    <tr>\n",
       "      <td>4638</td>\n",
       "      <td>Peter Piper Pizza</td>\n",
       "      <td>28</td>\n",
       "      <td>3.000000</td>\n",
       "      <td>786</td>\n",
       "    </tr>\n",
       "    <tr>\n",
       "      <td>2829</td>\n",
       "      <td>IHOP</td>\n",
       "      <td>28</td>\n",
       "      <td>2.500000</td>\n",
       "      <td>2119</td>\n",
       "    </tr>\n",
       "    <tr>\n",
       "      <td>1941</td>\n",
       "      <td>El Pollo Loco</td>\n",
       "      <td>26</td>\n",
       "      <td>2.750000</td>\n",
       "      <td>891</td>\n",
       "    </tr>\n",
       "  </tbody>\n",
       "</table>\n",
       "</div>"
      ],
      "text/plain": [
       "                          name  number_of_locations  average_rating  \\\n",
       "5844                    Subway                  256        2.771484   \n",
       "3876                McDonald's                  179        1.941341   \n",
       "5997                 Taco Bell                  110        2.572727   \n",
       "858                Burger King                   99        2.060606   \n",
       "4513             Panda Express                   69        2.326087   \n",
       "4820                 Pizza Hut                   68        2.198529   \n",
       "2110  Filiberto's Mexican Food                   66        2.651515   \n",
       "1731            Domino's Pizza                   59        2.584746   \n",
       "7035                   Wendy's                   59        2.262712   \n",
       "1267    Chipotle Mexican Grill                   56        3.035714   \n",
       "3040              Jimmy John's                   54        2.731481   \n",
       "5696            Sonic Drive-In                   53        2.311321   \n",
       "2962           Jack in the Box                   49        2.153061   \n",
       "4530         Papa John's Pizza                   48        2.531250   \n",
       "1589               Dairy Queen                   47        2.648936   \n",
       "3490      Little Caesars Pizza                   42        2.297619   \n",
       "1643                   Denny's                   41        2.524390   \n",
       "269                     Arby's                   40        3.050000   \n",
       "5787                 Starbucks                   39        3.269231   \n",
       "3117                       KFC                   38        1.657895   \n",
       "487              Barro's Pizza                   37        3.581081   \n",
       "4534             Papa Murphy's                   33        4.090909   \n",
       "4520              Panera Bread                   32        2.531250   \n",
       "2126            Firehouse Subs                   31        3.322581   \n",
       "3020        Jersey Mike's Subs                   30        3.433333   \n",
       "2960           Jack In the Box                   29        2.275862   \n",
       "1303          Church's Chicken                   29        2.327586   \n",
       "4638         Peter Piper Pizza                   28        3.000000   \n",
       "2829                      IHOP                   28        2.500000   \n",
       "1941             El Pollo Loco                   26        2.750000   \n",
       "\n",
       "      review_count  \n",
       "5844          2436  \n",
       "3876          4667  \n",
       "5997          2009  \n",
       "858           1381  \n",
       "4513          2262  \n",
       "4820          1150  \n",
       "2110          2373  \n",
       "1731          1280  \n",
       "7035          1363  \n",
       "1267          3668  \n",
       "3040          2460  \n",
       "5696          1511  \n",
       "2962           677  \n",
       "4530           768  \n",
       "1589          1093  \n",
       "3490           532  \n",
       "1643          2251  \n",
       "269            537  \n",
       "5787          1131  \n",
       "3117          1198  \n",
       "487           2547  \n",
       "4534           478  \n",
       "4520          1842  \n",
       "2126          1375  \n",
       "3020          1324  \n",
       "2960           434  \n",
       "1303           380  \n",
       "4638           786  \n",
       "2829          2119  \n",
       "1941           891  "
      ]
     },
     "execution_count": 28,
     "metadata": {},
     "output_type": "execute_result"
    }
   ],
   "source": [
    "# Average rating for restaurants sorted by those with the most locations\n",
    "business_name_revised.sort_values('number_of_locations', ascending=False).head(30)"
   ]
  },
  {
   "cell_type": "code",
   "execution_count": 29,
   "metadata": {},
   "outputs": [],
   "source": [
    "business_name_revised['averege_reviews_location'] =  business_name_revised['review_count']/business_name_revised['number_of_locations']"
   ]
  },
  {
   "cell_type": "code",
   "execution_count": null,
   "metadata": {},
   "outputs": [],
   "source": []
  },
  {
   "cell_type": "code",
   "execution_count": 30,
   "metadata": {},
   "outputs": [],
   "source": [
    "# OPEN / CLOSED"
   ]
  },
  {
   "cell_type": "code",
   "execution_count": 31,
   "metadata": {},
   "outputs": [
    {
     "name": "stdout",
     "output_type": "stream",
     "text": [
      "1    0.669398\n",
      "0    0.330602\n",
      "Name: is_open, dtype: float64\n",
      "33% of restuarants are no longer open\n"
     ]
    }
   ],
   "source": [
    "# Check for the number of restaurants that are open\n",
    "print(business.is_open.value_counts(normalize=True))\n",
    "print('33% of restuarants are no longer open')"
   ]
  },
  {
   "cell_type": "code",
   "execution_count": 32,
   "metadata": {},
   "outputs": [
    {
     "data": {
      "text/html": [
       "<div>\n",
       "<style scoped>\n",
       "    .dataframe tbody tr th:only-of-type {\n",
       "        vertical-align: middle;\n",
       "    }\n",
       "\n",
       "    .dataframe tbody tr th {\n",
       "        vertical-align: top;\n",
       "    }\n",
       "\n",
       "    .dataframe thead th {\n",
       "        text-align: right;\n",
       "    }\n",
       "</style>\n",
       "<table border=\"1\" class=\"dataframe\">\n",
       "  <thead>\n",
       "    <tr style=\"text-align: right;\">\n",
       "      <th></th>\n",
       "      <th>is_open</th>\n",
       "      <th>count</th>\n",
       "      <th>review_count</th>\n",
       "      <th>av_review_count</th>\n",
       "      <th>stars</th>\n",
       "      <th>av_stars</th>\n",
       "    </tr>\n",
       "  </thead>\n",
       "  <tbody>\n",
       "    <tr>\n",
       "      <td>0</td>\n",
       "      <td>0</td>\n",
       "      <td>3793</td>\n",
       "      <td>171352</td>\n",
       "      <td>45.175850</td>\n",
       "      <td>12998.0</td>\n",
       "      <td>3.426839</td>\n",
       "    </tr>\n",
       "    <tr>\n",
       "      <td>1</td>\n",
       "      <td>1</td>\n",
       "      <td>7680</td>\n",
       "      <td>976312</td>\n",
       "      <td>127.123958</td>\n",
       "      <td>26439.5</td>\n",
       "      <td>3.442643</td>\n",
       "    </tr>\n",
       "  </tbody>\n",
       "</table>\n",
       "</div>"
      ],
      "text/plain": [
       "   is_open  count  review_count  av_review_count    stars  av_stars\n",
       "0        0   3793        171352        45.175850  12998.0  3.426839\n",
       "1        1   7680        976312       127.123958  26439.5  3.442643"
      ]
     },
     "execution_count": 32,
     "metadata": {},
     "output_type": "execute_result"
    }
   ],
   "source": [
    "# see if open and closed restaurants have different average review count and stars\n",
    "open_closed = business.groupby('is_open').review_count.agg(['count', 'sum'])\n",
    "open_closed.reset_index(inplace = True)\n",
    "open_closed.columns = ['is_open', 'count', 'review_count']\n",
    "open_closed['av_review_count'] = open_closed['review_count']/open_closed['count']\n",
    "open_closed = open_closed.merge(business.groupby('is_open').stars.sum(), on='is_open', how='left')\n",
    "open_closed['av_stars'] = open_closed['stars']/open_closed['count']\n",
    "open_closed"
   ]
  },
  {
   "cell_type": "code",
   "execution_count": 33,
   "metadata": {},
   "outputs": [],
   "source": [
    "# the group of restaurants that are open have in aggregate c.3x as many reviews as those that are closed\n",
    "# but the aggregate rating is close to identifcal betwen restaurants that are open and those that are closed"
   ]
  },
  {
   "cell_type": "code",
   "execution_count": 34,
   "metadata": {},
   "outputs": [
    {
     "data": {
      "text/plain": [
       "0.6693977163775822"
      ]
     },
     "execution_count": 34,
     "metadata": {},
     "output_type": "execute_result"
    }
   ],
   "source": [
    "# Calculate baseline is close to the prediction using logistical regression\n",
    "business['is_open'].value_counts().iloc[0] / len(business)"
   ]
  },
  {
   "cell_type": "code",
   "execution_count": 35,
   "metadata": {},
   "outputs": [
    {
     "name": "stderr",
     "output_type": "stream",
     "text": [
      "/Users/hanhuang/opt/anaconda3/lib/python3.7/site-packages/sklearn/linear_model/logistic.py:432: FutureWarning: Default solver will be changed to 'lbfgs' in 0.22. Specify a solver to silence this warning.\n",
      "  FutureWarning)\n"
     ]
    },
    {
     "data": {
      "text/plain": [
       "0.6744510282328338"
      ]
     },
     "execution_count": 35,
     "metadata": {},
     "output_type": "execute_result"
    }
   ],
   "source": [
    "# correlate is_open to review_count using logistical regression\n",
    "from sklearn.linear_model import LogisticRegression\n",
    "from sklearn.model_selection import train_test_split\n",
    "LR = LogisticRegression()\n",
    "feature_cols = ['review_count']\n",
    "X = business[feature_cols]\n",
    "y = business.is_open\n",
    "\n",
    "X_train, X_test, y_train, y_test = train_test_split(X, y, random_state=1)\n",
    "LR.fit(X_train, y_train)\n",
    "y_pred = LR.predict(X_test)\n",
    "LR.score(X_test, y_test)"
   ]
  },
  {
   "cell_type": "code",
   "execution_count": 36,
   "metadata": {},
   "outputs": [
    {
     "data": {
      "text/plain": [
       "KNeighborsClassifier(algorithm='auto', leaf_size=30, metric='minkowski',\n",
       "                     metric_params=None, n_jobs=None, n_neighbors=40, p=2,\n",
       "                     weights='uniform')"
      ]
     },
     "execution_count": 36,
     "metadata": {},
     "output_type": "execute_result"
    }
   ],
   "source": [
    "# Calculate accuracy using KNN\n",
    "from sklearn.neighbors import KNeighborsClassifier\n",
    "from sklearn.model_selection import train_test_split\n",
    "from sklearn import metrics\n",
    "\n",
    "X_train, X_test, y_train, y_test = train_test_split(X, y, random_state=62)\n",
    "knn = KNeighborsClassifier(n_neighbors=40)\n",
    "knn.fit(X_train, y_train)"
   ]
  },
  {
   "cell_type": "code",
   "execution_count": 37,
   "metadata": {},
   "outputs": [
    {
     "name": "stdout",
     "output_type": "stream",
     "text": [
      "0.6849076333217149\n"
     ]
    }
   ],
   "source": [
    "# accuracy rate for KNN model \n",
    "y_pred_class = knn.predict(X_test)\n",
    "print((metrics.accuracy_score(y_test, y_pred_class)))"
   ]
  },
  {
   "cell_type": "code",
   "execution_count": 38,
   "metadata": {},
   "outputs": [
    {
     "data": {
      "image/png": "[encoded data removed]",
      "text/plain": [
       "<Figure size 432x288 with 1 Axes>"
      ]
     },
     "metadata": {
      "needs_background": "light"
     },
     "output_type": "display_data"
    }
   ],
   "source": [
    "# search for optimal neighbor count for KNN\n",
    "\n",
    "scores = []\n",
    "for k in range(1,50):\n",
    "    knn = KNeighborsClassifier(n_neighbors=k)\n",
    "    knn.fit(X, y)\n",
    "    pred = knn.predict(X)\n",
    "    score = float(sum(pred == y)) / len(y)\n",
    "    scores.append([k, score])\n",
    "    \n",
    "data = pd.DataFrame(scores,columns=['k','score'])\n",
    "data.plot.line(x='k',y='score');"
   ]
  },
  {
   "cell_type": "code",
   "execution_count": 39,
   "metadata": {},
   "outputs": [
    {
     "name": "stderr",
     "output_type": "stream",
     "text": [
      "Using TensorFlow backend.\n",
      "/Users/hanhuang/opt/anaconda3/lib/python3.7/site-packages/tensorflow/python/framework/dtypes.py:526: FutureWarning: Passing (type, 1) or '1type' as a synonym of type is deprecated; in a future version of numpy, it will be understood as (type, (1,)) / '(1,)type'.\n",
      "  _np_qint8 = np.dtype([(\"qint8\", np.int8, 1)])\n",
      "/Users/hanhuang/opt/anaconda3/lib/python3.7/site-packages/tensorflow/python/framework/dtypes.py:527: FutureWarning: Passing (type, 1) or '1type' as a synonym of type is deprecated; in a future version of numpy, it will be understood as (type, (1,)) / '(1,)type'.\n",
      "  _np_quint8 = np.dtype([(\"quint8\", np.uint8, 1)])\n",
      "/Users/hanhuang/opt/anaconda3/lib/python3.7/site-packages/tensorflow/python/framework/dtypes.py:528: FutureWarning: Passing (type, 1) or '1type' as a synonym of type is deprecated; in a future version of numpy, it will be understood as (type, (1,)) / '(1,)type'.\n",
      "  _np_qint16 = np.dtype([(\"qint16\", np.int16, 1)])\n",
      "/Users/hanhuang/opt/anaconda3/lib/python3.7/site-packages/tensorflow/python/framework/dtypes.py:529: FutureWarning: Passing (type, 1) or '1type' as a synonym of type is deprecated; in a future version of numpy, it will be understood as (type, (1,)) / '(1,)type'.\n",
      "  _np_quint16 = np.dtype([(\"quint16\", np.uint16, 1)])\n",
      "/Users/hanhuang/opt/anaconda3/lib/python3.7/site-packages/tensorflow/python/framework/dtypes.py:530: FutureWarning: Passing (type, 1) or '1type' as a synonym of type is deprecated; in a future version of numpy, it will be understood as (type, (1,)) / '(1,)type'.\n",
      "  _np_qint32 = np.dtype([(\"qint32\", np.int32, 1)])\n",
      "/Users/hanhuang/opt/anaconda3/lib/python3.7/site-packages/tensorflow/python/framework/dtypes.py:535: FutureWarning: Passing (type, 1) or '1type' as a synonym of type is deprecated; in a future version of numpy, it will be understood as (type, (1,)) / '(1,)type'.\n",
      "  np_resource = np.dtype([(\"resource\", np.ubyte, 1)])\n"
     ]
    }
   ],
   "source": [
    "# Now use a neural network\n",
    "\n",
    "import matplotlib.pyplot as plt\n",
    "from sklearn.model_selection import train_test_split\n",
    "from sklearn.preprocessing import StandardScaler\n",
    "\n",
    "from keras.models import Sequential\n",
    "from keras.layers import Dense\n",
    "\n",
    "import pandas as pd\n",
    "\n",
    "%matplotlib inline"
   ]
  },
  {
   "cell_type": "code",
   "execution_count": 40,
   "metadata": {},
   "outputs": [],
   "source": [
    "feature_cols = ['review_count']\n",
    "X = business[feature_cols]\n",
    "y = business.is_open"
   ]
  },
  {
   "cell_type": "code",
   "execution_count": 41,
   "metadata": {},
   "outputs": [
    {
     "name": "stdout",
     "output_type": "stream",
     "text": [
      "WARNING:tensorflow:From /Users/hanhuang/opt/anaconda3/lib/python3.7/site-packages/tensorflow/python/ops/resource_variable_ops.py:435: colocate_with (from tensorflow.python.framework.ops) is deprecated and will be removed in a future version.\n",
      "Instructions for updating:\n",
      "Colocations handled automatically by placer.\n",
      "WARNING:tensorflow:From /Users/hanhuang/opt/anaconda3/lib/python3.7/site-packages/tensorflow/python/ops/math_ops.py:3066: to_int32 (from tensorflow.python.ops.math_ops) is deprecated and will be removed in a future version.\n",
      "Instructions for updating:\n",
      "Use tf.cast instead.\n",
      "Train on 8604 samples, validate on 2869 samples\n",
      "Epoch 1/100\n",
      " - 0s - loss: 0.6318 - acc: 0.6514 - val_loss: 0.5980 - val_acc: 0.6685\n",
      "Epoch 2/100\n",
      " - 0s - loss: 0.5843 - acc: 0.6697 - val_loss: 0.5931 - val_acc: 0.6685\n",
      "Epoch 3/100\n",
      " - 0s - loss: 0.5806 - acc: 0.6697 - val_loss: 0.5938 - val_acc: 0.6685\n",
      "Epoch 4/100\n",
      " - 0s - loss: 0.5801 - acc: 0.6699 - val_loss: 0.5938 - val_acc: 0.6685\n",
      "Epoch 5/100\n",
      " - 0s - loss: 0.5798 - acc: 0.6697 - val_loss: 0.5942 - val_acc: 0.6685\n",
      "Epoch 6/100\n",
      " - 0s - loss: 0.5795 - acc: 0.6710 - val_loss: 0.5938 - val_acc: 0.6685\n",
      "Epoch 7/100\n",
      " - 0s - loss: 0.5795 - acc: 0.6697 - val_loss: 0.5934 - val_acc: 0.6685\n",
      "Epoch 8/100\n",
      " - 0s - loss: 0.5791 - acc: 0.6757 - val_loss: 0.5942 - val_acc: 0.6860\n",
      "Epoch 9/100\n",
      " - 0s - loss: 0.5791 - acc: 0.6735 - val_loss: 0.5937 - val_acc: 0.6685\n",
      "Epoch 10/100\n",
      " - 0s - loss: 0.5791 - acc: 0.6717 - val_loss: 0.5931 - val_acc: 0.6685\n",
      "Epoch 11/100\n",
      " - 0s - loss: 0.5790 - acc: 0.6739 - val_loss: 0.5932 - val_acc: 0.6807\n",
      "Epoch 12/100\n",
      " - 0s - loss: 0.5787 - acc: 0.6752 - val_loss: 0.5936 - val_acc: 0.6685\n",
      "Epoch 13/100\n",
      " - 0s - loss: 0.5788 - acc: 0.6806 - val_loss: 0.5927 - val_acc: 0.6685\n",
      "Epoch 14/100\n",
      " - 0s - loss: 0.5787 - acc: 0.6792 - val_loss: 0.5933 - val_acc: 0.6860\n",
      "Epoch 15/100\n",
      " - 0s - loss: 0.5786 - acc: 0.6818 - val_loss: 0.5929 - val_acc: 0.6853\n",
      "Epoch 16/100\n",
      " - 0s - loss: 0.5784 - acc: 0.6746 - val_loss: 0.5931 - val_acc: 0.6877\n",
      "Epoch 17/100\n",
      " - 0s - loss: 0.5785 - acc: 0.6817 - val_loss: 0.5925 - val_acc: 0.6807\n",
      "Epoch 18/100\n",
      " - 0s - loss: 0.5782 - acc: 0.6812 - val_loss: 0.5925 - val_acc: 0.6685\n",
      "Epoch 19/100\n",
      " - 0s - loss: 0.5783 - acc: 0.6778 - val_loss: 0.5925 - val_acc: 0.6860\n",
      "Epoch 20/100\n",
      " - 0s - loss: 0.5781 - acc: 0.6817 - val_loss: 0.5924 - val_acc: 0.6685\n",
      "Epoch 21/100\n",
      " - 0s - loss: 0.5779 - acc: 0.6838 - val_loss: 0.5924 - val_acc: 0.6884\n",
      "Epoch 22/100\n",
      " - 0s - loss: 0.5781 - acc: 0.6842 - val_loss: 0.5923 - val_acc: 0.6853\n",
      "Epoch 23/100\n",
      " - 0s - loss: 0.5779 - acc: 0.6834 - val_loss: 0.5917 - val_acc: 0.6877\n",
      "Epoch 24/100\n",
      " - 0s - loss: 0.5780 - acc: 0.6789 - val_loss: 0.5921 - val_acc: 0.6853\n",
      "Epoch 25/100\n",
      " - 0s - loss: 0.5779 - acc: 0.6856 - val_loss: 0.5924 - val_acc: 0.6856\n",
      "Epoch 26/100\n",
      " - 0s - loss: 0.5775 - acc: 0.6871 - val_loss: 0.5926 - val_acc: 0.6685\n",
      "Epoch 27/100\n",
      " - 0s - loss: 0.5775 - acc: 0.6815 - val_loss: 0.5924 - val_acc: 0.6685\n",
      "Epoch 28/100\n",
      " - 0s - loss: 0.5776 - acc: 0.6856 - val_loss: 0.5915 - val_acc: 0.6807\n",
      "Epoch 29/100\n",
      " - 0s - loss: 0.5774 - acc: 0.6833 - val_loss: 0.5917 - val_acc: 0.6884\n",
      "Epoch 30/100\n",
      " - 0s - loss: 0.5774 - acc: 0.6881 - val_loss: 0.5916 - val_acc: 0.6828\n",
      "Epoch 31/100\n",
      " - 0s - loss: 0.5772 - acc: 0.6857 - val_loss: 0.5918 - val_acc: 0.6877\n",
      "Epoch 32/100\n",
      " - 0s - loss: 0.5775 - acc: 0.6860 - val_loss: 0.5918 - val_acc: 0.6877\n",
      "Epoch 33/100\n",
      " - 0s - loss: 0.5773 - acc: 0.6881 - val_loss: 0.5913 - val_acc: 0.6860\n",
      "Epoch 34/100\n",
      " - 0s - loss: 0.5771 - acc: 0.6869 - val_loss: 0.5912 - val_acc: 0.6856\n",
      "Epoch 35/100\n",
      " - 0s - loss: 0.5771 - acc: 0.6848 - val_loss: 0.5913 - val_acc: 0.6860\n",
      "Epoch 36/100\n",
      " - 0s - loss: 0.5772 - acc: 0.6891 - val_loss: 0.5914 - val_acc: 0.6828\n",
      "Epoch 37/100\n",
      " - 0s - loss: 0.5771 - acc: 0.6883 - val_loss: 0.5913 - val_acc: 0.6860\n",
      "Epoch 38/100\n",
      " - 0s - loss: 0.5772 - acc: 0.6858 - val_loss: 0.5917 - val_acc: 0.6860\n",
      "Epoch 39/100\n",
      " - 0s - loss: 0.5770 - acc: 0.6899 - val_loss: 0.5922 - val_acc: 0.6828\n",
      "Epoch 40/100\n",
      " - 0s - loss: 0.5768 - acc: 0.6918 - val_loss: 0.5914 - val_acc: 0.6853\n",
      "Epoch 41/100\n",
      " - 0s - loss: 0.5769 - acc: 0.6865 - val_loss: 0.5923 - val_acc: 0.6828\n",
      "Epoch 42/100\n",
      " - 0s - loss: 0.5769 - acc: 0.6878 - val_loss: 0.5913 - val_acc: 0.6828\n",
      "Epoch 43/100\n",
      " - 0s - loss: 0.5769 - acc: 0.6913 - val_loss: 0.5909 - val_acc: 0.6856\n",
      "Epoch 44/100\n",
      " - 0s - loss: 0.5768 - acc: 0.6925 - val_loss: 0.5909 - val_acc: 0.6860\n",
      "Epoch 45/100\n",
      " - 0s - loss: 0.5770 - acc: 0.6898 - val_loss: 0.5918 - val_acc: 0.6828\n",
      "Epoch 46/100\n",
      " - 0s - loss: 0.5766 - acc: 0.6882 - val_loss: 0.5902 - val_acc: 0.6860\n",
      "Epoch 47/100\n",
      " - 0s - loss: 0.5769 - acc: 0.6887 - val_loss: 0.5912 - val_acc: 0.6828\n",
      "Epoch 48/100\n",
      " - 0s - loss: 0.5766 - acc: 0.6912 - val_loss: 0.5901 - val_acc: 0.6860\n",
      "Epoch 49/100\n",
      " - 0s - loss: 0.5768 - acc: 0.6881 - val_loss: 0.5917 - val_acc: 0.6828\n",
      "Epoch 50/100\n",
      " - 0s - loss: 0.5767 - acc: 0.6900 - val_loss: 0.5906 - val_acc: 0.6856\n",
      "Epoch 51/100\n",
      " - 0s - loss: 0.5767 - acc: 0.6891 - val_loss: 0.5904 - val_acc: 0.6884\n",
      "Epoch 52/100\n",
      " - 0s - loss: 0.5767 - acc: 0.6899 - val_loss: 0.5912 - val_acc: 0.6828\n",
      "Epoch 53/100\n",
      " - 0s - loss: 0.5766 - acc: 0.6922 - val_loss: 0.5907 - val_acc: 0.6828\n",
      "Epoch 54/100\n",
      " - 0s - loss: 0.5765 - acc: 0.6892 - val_loss: 0.5906 - val_acc: 0.6884\n",
      "Epoch 55/100\n",
      " - 0s - loss: 0.5766 - acc: 0.6874 - val_loss: 0.5920 - val_acc: 0.6769\n",
      "Epoch 56/100\n",
      " - 0s - loss: 0.5764 - acc: 0.6890 - val_loss: 0.5904 - val_acc: 0.6853\n",
      "Epoch 57/100\n",
      " - 0s - loss: 0.5765 - acc: 0.6924 - val_loss: 0.5902 - val_acc: 0.6828\n",
      "Epoch 58/100\n",
      " - 0s - loss: 0.5765 - acc: 0.6872 - val_loss: 0.5900 - val_acc: 0.6856\n",
      "Epoch 59/100\n",
      " - 0s - loss: 0.5766 - acc: 0.6903 - val_loss: 0.5905 - val_acc: 0.6856\n",
      "Epoch 60/100\n",
      " - 0s - loss: 0.5764 - acc: 0.6863 - val_loss: 0.5908 - val_acc: 0.6856\n",
      "Epoch 61/100\n",
      " - 0s - loss: 0.5762 - acc: 0.6883 - val_loss: 0.5902 - val_acc: 0.6828\n",
      "Epoch 62/100\n",
      " - 0s - loss: 0.5763 - acc: 0.6925 - val_loss: 0.5904 - val_acc: 0.6860\n",
      "Epoch 63/100\n",
      " - 0s - loss: 0.5764 - acc: 0.6884 - val_loss: 0.5907 - val_acc: 0.6884\n",
      "Epoch 64/100\n",
      " - 0s - loss: 0.5762 - acc: 0.6890 - val_loss: 0.5913 - val_acc: 0.6828\n",
      "Epoch 65/100\n",
      " - 0s - loss: 0.5764 - acc: 0.6844 - val_loss: 0.5908 - val_acc: 0.6828\n",
      "Epoch 66/100\n",
      " - 0s - loss: 0.5763 - acc: 0.6894 - val_loss: 0.5898 - val_acc: 0.6828\n",
      "Epoch 67/100\n",
      " - 0s - loss: 0.5762 - acc: 0.6892 - val_loss: 0.5903 - val_acc: 0.6884\n",
      "Epoch 68/100\n",
      " - 0s - loss: 0.5762 - acc: 0.6894 - val_loss: 0.5905 - val_acc: 0.6790\n",
      "Epoch 69/100\n",
      " - 0s - loss: 0.5762 - acc: 0.6882 - val_loss: 0.5905 - val_acc: 0.6828\n",
      "Epoch 70/100\n",
      " - 0s - loss: 0.5763 - acc: 0.6911 - val_loss: 0.5906 - val_acc: 0.6828\n",
      "Epoch 71/100\n",
      " - 0s - loss: 0.5763 - acc: 0.6904 - val_loss: 0.5899 - val_acc: 0.6884\n",
      "Epoch 72/100\n",
      " - 0s - loss: 0.5762 - acc: 0.6885 - val_loss: 0.5906 - val_acc: 0.6884\n",
      "Epoch 73/100\n",
      " - 0s - loss: 0.5762 - acc: 0.6903 - val_loss: 0.5905 - val_acc: 0.6790\n",
      "Epoch 74/100\n",
      " - 0s - loss: 0.5762 - acc: 0.6900 - val_loss: 0.5898 - val_acc: 0.6856\n",
      "Epoch 75/100\n",
      " - 0s - loss: 0.5761 - acc: 0.6891 - val_loss: 0.5898 - val_acc: 0.6856\n",
      "Epoch 76/100\n",
      " - 0s - loss: 0.5759 - acc: 0.6918 - val_loss: 0.5903 - val_acc: 0.6828\n",
      "Epoch 77/100\n",
      " - 0s - loss: 0.5761 - acc: 0.6877 - val_loss: 0.5901 - val_acc: 0.6828\n",
      "Epoch 78/100\n",
      " - 0s - loss: 0.5763 - acc: 0.6877 - val_loss: 0.5905 - val_acc: 0.6790\n",
      "Epoch 79/100\n",
      " - 0s - loss: 0.5762 - acc: 0.6917 - val_loss: 0.5895 - val_acc: 0.6856\n",
      "Epoch 80/100\n",
      " - 0s - loss: 0.5761 - acc: 0.6881 - val_loss: 0.5902 - val_acc: 0.6828\n",
      "Epoch 81/100\n",
      " - 0s - loss: 0.5759 - acc: 0.6872 - val_loss: 0.5904 - val_acc: 0.6790\n",
      "Epoch 82/100\n",
      " - 0s - loss: 0.5760 - acc: 0.6884 - val_loss: 0.5900 - val_acc: 0.6884\n",
      "Epoch 83/100\n",
      " - 0s - loss: 0.5762 - acc: 0.6879 - val_loss: 0.5891 - val_acc: 0.6856\n",
      "Epoch 84/100\n",
      " - 0s - loss: 0.5758 - acc: 0.6871 - val_loss: 0.5897 - val_acc: 0.6877\n",
      "Epoch 85/100\n",
      " - 0s - loss: 0.5759 - acc: 0.6913 - val_loss: 0.5900 - val_acc: 0.6828\n",
      "Epoch 86/100\n",
      " - 0s - loss: 0.5761 - acc: 0.6871 - val_loss: 0.5901 - val_acc: 0.6828\n",
      "Epoch 87/100\n",
      " - 0s - loss: 0.5759 - acc: 0.6906 - val_loss: 0.5891 - val_acc: 0.6856\n",
      "Epoch 88/100\n",
      " - 0s - loss: 0.5762 - acc: 0.6885 - val_loss: 0.5895 - val_acc: 0.6828\n",
      "Epoch 89/100\n",
      " - 0s - loss: 0.5758 - acc: 0.6875 - val_loss: 0.5910 - val_acc: 0.6790\n",
      "Epoch 90/100\n"
     ]
    },
    {
     "name": "stdout",
     "output_type": "stream",
     "text": [
      " - 0s - loss: 0.5759 - acc: 0.6915 - val_loss: 0.5915 - val_acc: 0.6769\n",
      "Epoch 91/100\n",
      " - 0s - loss: 0.5758 - acc: 0.6898 - val_loss: 0.5914 - val_acc: 0.6769\n",
      "Epoch 92/100\n",
      " - 0s - loss: 0.5761 - acc: 0.6890 - val_loss: 0.5896 - val_acc: 0.6828\n",
      "Epoch 93/100\n",
      " - 0s - loss: 0.5758 - acc: 0.6910 - val_loss: 0.5897 - val_acc: 0.6828\n",
      "Epoch 94/100\n",
      " - 0s - loss: 0.5759 - acc: 0.6897 - val_loss: 0.5898 - val_acc: 0.6856\n",
      "Epoch 95/100\n",
      " - 0s - loss: 0.5755 - acc: 0.6912 - val_loss: 0.5916 - val_acc: 0.6710\n",
      "Epoch 96/100\n",
      " - 0s - loss: 0.5761 - acc: 0.6876 - val_loss: 0.5896 - val_acc: 0.6828\n",
      "Epoch 97/100\n",
      " - 0s - loss: 0.5756 - acc: 0.6901 - val_loss: 0.5909 - val_acc: 0.6828\n",
      "Epoch 98/100\n",
      " - 0s - loss: 0.5760 - acc: 0.6898 - val_loss: 0.5904 - val_acc: 0.6828\n",
      "Epoch 99/100\n",
      " - 0s - loss: 0.5758 - acc: 0.6892 - val_loss: 0.5894 - val_acc: 0.6856\n",
      "Epoch 100/100\n",
      " - 0s - loss: 0.5759 - acc: 0.6891 - val_loss: 0.5895 - val_acc: 0.6884\n"
     ]
    }
   ],
   "source": [
    "X_train, X_test, y_train, y_test = train_test_split(X, y)\n",
    "\n",
    "ss = StandardScaler()\n",
    "X_train = ss.fit_transform(X_train)\n",
    "X_test = ss.transform(X_test)\n",
    "\n",
    "n_input = X_train.shape[1]\n",
    "n_input\n",
    "\n",
    "\n",
    "model = Sequential()\n",
    "model.add(Dense(18, input_dim = n_input, activation='relu'))\n",
    "model.add(Dense(1, activation='sigmoid'))\n",
    "\n",
    "model = Sequential()\n",
    "model.add(Dense(18, input_dim = n_input, activation='relu'))\n",
    "model.add(Dense(1, activation='sigmoid'))\n",
    "\n",
    "# Compile it\n",
    "model.compile(loss='binary_crossentropy', optimizer='adam', metrics=['acc'])\n",
    "\n",
    "# Fit it\n",
    "history = model.fit(\n",
    "    X_train,\n",
    "    y_train,\n",
    "    validation_data=(X_test, y_test),\n",
    "    epochs=100,\n",
    "    batch_size=None,\n",
    "    verbose=2\n",
    ")\n"
   ]
  },
  {
   "cell_type": "code",
   "execution_count": 42,
   "metadata": {},
   "outputs": [
    {
     "data": {
      "image/png": "[encoded data removed]",
      "text/plain": [
       "<Figure size 864x576 with 1 Axes>"
      ]
     },
     "metadata": {
      "needs_background": "light"
     },
     "output_type": "display_data"
    }
   ],
   "source": [
    "# Look, Ma, the machine is learning!\n",
    "train_loss = history.history['loss']\n",
    "test_loss = history.history['val_loss']\n",
    "plt.figure(figsize=(12, 8))\n",
    "plt.plot(train_loss, label='Training loss', color='navy')\n",
    "plt.plot(test_loss, label='Testing loss', color='skyblue')\n",
    "plt.legend();"
   ]
  },
  {
   "cell_type": "code",
   "execution_count": null,
   "metadata": {},
   "outputs": [],
   "source": []
  },
  {
   "cell_type": "code",
   "execution_count": 43,
   "metadata": {},
   "outputs": [],
   "source": [
    "# ZIP"
   ]
  },
  {
   "cell_type": "code",
   "execution_count": 44,
   "metadata": {},
   "outputs": [
    {
     "data": {
      "text/plain": [
       "0        85016\n",
       "1        85032\n",
       "2        85007\n",
       "3        85225\n",
       "4        85286\n",
       "         ...  \n",
       "11468    85383\n",
       "11469    85281\n",
       "11470    85234\n",
       "11471    85215\n",
       "11472    85051\n",
       "Name: postal_code_str, Length: 11473, dtype: object"
      ]
     },
     "execution_count": 44,
     "metadata": {},
     "output_type": "execute_result"
    }
   ],
   "source": [
    "business['postal_code_str']"
   ]
  },
  {
   "cell_type": "code",
   "execution_count": 45,
   "metadata": {},
   "outputs": [
    {
     "data": {
      "text/html": [
       "<div>\n",
       "<style scoped>\n",
       "    .dataframe tbody tr th:only-of-type {\n",
       "        vertical-align: middle;\n",
       "    }\n",
       "\n",
       "    .dataframe tbody tr th {\n",
       "        vertical-align: top;\n",
       "    }\n",
       "\n",
       "    .dataframe thead th {\n",
       "        text-align: right;\n",
       "    }\n",
       "</style>\n",
       "<table border=\"1\" class=\"dataframe\">\n",
       "  <thead>\n",
       "    <tr style=\"text-align: right;\">\n",
       "      <th></th>\n",
       "      <th>postal_code_str</th>\n",
       "      <th>stars</th>\n",
       "      <th>review_count</th>\n",
       "      <th>number_of businesses_by_zip</th>\n",
       "    </tr>\n",
       "  </thead>\n",
       "  <tbody>\n",
       "    <tr>\n",
       "      <td>70</td>\n",
       "      <td>85236</td>\n",
       "      <td>2.69</td>\n",
       "      <td>396</td>\n",
       "      <td>8</td>\n",
       "    </tr>\n",
       "    <tr>\n",
       "      <td>64</td>\n",
       "      <td>8522</td>\n",
       "      <td>2.75</td>\n",
       "      <td>39</td>\n",
       "      <td>2</td>\n",
       "    </tr>\n",
       "    <tr>\n",
       "      <td>46</td>\n",
       "      <td>85083</td>\n",
       "      <td>2.75</td>\n",
       "      <td>188</td>\n",
       "      <td>4</td>\n",
       "    </tr>\n",
       "    <tr>\n",
       "      <td>120</td>\n",
       "      <td>85339</td>\n",
       "      <td>2.82</td>\n",
       "      <td>2014</td>\n",
       "      <td>57</td>\n",
       "    </tr>\n",
       "    <tr>\n",
       "      <td>139</td>\n",
       "      <td>85388</td>\n",
       "      <td>2.88</td>\n",
       "      <td>1762</td>\n",
       "      <td>16</td>\n",
       "    </tr>\n",
       "  </tbody>\n",
       "</table>\n",
       "</div>"
      ],
      "text/plain": [
       "    postal_code_str  stars  review_count  number_of businesses_by_zip\n",
       "70            85236   2.69           396                            8\n",
       "64             8522   2.75            39                            2\n",
       "46            85083   2.75           188                            4\n",
       "120           85339   2.82          2014                           57\n",
       "139           85388   2.88          1762                           16"
      ]
     },
     "execution_count": 45,
     "metadata": {},
     "output_type": "execute_result"
    }
   ],
   "source": [
    "# Create a dataframe for postal_code_str and the mean for 'stars'\n",
    "zip_stars = pd.DataFrame(business.groupby('postal_code_str').stars.mean().round(2))\n",
    "zip_stars.reset_index(level=0, inplace=True)\n",
    "# Create a dataframe for postal_code_str and the sum of 'review_count'\n",
    "zip_review_count = pd.DataFrame(business.groupby('postal_code_str').review_count.sum())\n",
    "zip_review_count.reset_index(level=0, inplace=True)\n",
    "# both these dataframes has a nan value - am not sure why\n",
    "# merge these two dataframes \n",
    "zip_stars_review = pd.merge(zip_stars,zip_review_count)\n",
    "zip_stars_review.sort_values(by=['review_count'])\n",
    "# create a dataframe of the number of businesses in each zip \n",
    "# there are no nan values here\n",
    "zip_business_count = pd.DataFrame(business['postal_code_str'].value_counts())\n",
    "zip_business_count.reset_index(level=0, inplace=True)\n",
    "zip_business_count.columns = ['postal_code_str','number_of businesses_by_zip']\n",
    "zip_business_count\n",
    "# merge the data frames together as a new dataframe \n",
    "zip = pd.merge(zip_stars_review,zip_business_count)\n",
    "zip.sort_values('stars', ascending = True).head(5)"
   ]
  },
  {
   "cell_type": "code",
   "execution_count": 46,
   "metadata": {},
   "outputs": [
    {
     "data": {
      "text/html": [
       "<div>\n",
       "<style scoped>\n",
       "    .dataframe tbody tr th:only-of-type {\n",
       "        vertical-align: middle;\n",
       "    }\n",
       "\n",
       "    .dataframe tbody tr th {\n",
       "        vertical-align: top;\n",
       "    }\n",
       "\n",
       "    .dataframe thead th {\n",
       "        text-align: right;\n",
       "    }\n",
       "</style>\n",
       "<table border=\"1\" class=\"dataframe\">\n",
       "  <thead>\n",
       "    <tr style=\"text-align: right;\">\n",
       "      <th></th>\n",
       "      <th>postal_code_str</th>\n",
       "      <th>stars</th>\n",
       "      <th>review_count</th>\n",
       "      <th>number_of businesses_by_zip</th>\n",
       "    </tr>\n",
       "  </thead>\n",
       "  <tbody>\n",
       "    <tr>\n",
       "      <td>0</td>\n",
       "      <td>84295</td>\n",
       "      <td>4.0</td>\n",
       "      <td>104</td>\n",
       "      <td>1</td>\n",
       "    </tr>\n",
       "    <tr>\n",
       "      <td>145</td>\n",
       "      <td>86336</td>\n",
       "      <td>3.5</td>\n",
       "      <td>93</td>\n",
       "      <td>1</td>\n",
       "    </tr>\n",
       "    <tr>\n",
       "      <td>76</td>\n",
       "      <td>85252</td>\n",
       "      <td>4.0</td>\n",
       "      <td>603</td>\n",
       "      <td>1</td>\n",
       "    </tr>\n",
       "    <tr>\n",
       "      <td>86</td>\n",
       "      <td>85263</td>\n",
       "      <td>4.0</td>\n",
       "      <td>22</td>\n",
       "      <td>1</td>\n",
       "    </tr>\n",
       "    <tr>\n",
       "      <td>111</td>\n",
       "      <td>85318</td>\n",
       "      <td>4.0</td>\n",
       "      <td>27</td>\n",
       "      <td>1</td>\n",
       "    </tr>\n",
       "  </tbody>\n",
       "</table>\n",
       "</div>"
      ],
      "text/plain": [
       "    postal_code_str  stars  review_count  number_of businesses_by_zip\n",
       "0             84295    4.0           104                            1\n",
       "145           86336    3.5            93                            1\n",
       "76            85252    4.0           603                            1\n",
       "86            85263    4.0            22                            1\n",
       "111           85318    4.0            27                            1"
      ]
     },
     "execution_count": 46,
     "metadata": {},
     "output_type": "execute_result"
    }
   ],
   "source": [
    "zip.sort_values('number_of businesses_by_zip', ascending = True).head(5)"
   ]
  },
  {
   "cell_type": "code",
   "execution_count": 47,
   "metadata": {
    "scrolled": true
   },
   "outputs": [
    {
     "data": {
      "image/png": "[encoded data removed]",
      "text/plain": [
       "<Figure size 720x576 with 9 Axes>"
      ]
     },
     "metadata": {
      "needs_background": "light"
     },
     "output_type": "display_data"
    }
   ],
   "source": [
    "# Scatter matrix of three numerical columns\n",
    "pd.plotting.scatter_matrix(zip[['number_of businesses_by_zip', 'review_count', 'stars']], figsize=(10, 8));"
   ]
  },
  {
   "cell_type": "code",
   "execution_count": 48,
   "metadata": {},
   "outputs": [
    {
     "data": {
      "text/plain": [
       "review_count                   1.000000\n",
       "number_of businesses_by_zip    0.927110\n",
       "stars                          0.119147\n",
       "Name: review_count, dtype: float64"
      ]
     },
     "execution_count": 48,
     "metadata": {},
     "output_type": "execute_result"
    }
   ],
   "source": [
    "# review count correlates very well to restaurant count by zip\n",
    "abs(zip.corr()['review_count']).sort_values(ascending=False)"
   ]
  },
  {
   "cell_type": "code",
   "execution_count": 49,
   "metadata": {},
   "outputs": [],
   "source": [
    "# conclusion - the more reviews generated for businesses in a particular zip, the more likely they are to tend towards the mean "
   ]
  },
  {
   "cell_type": "code",
   "execution_count": null,
   "metadata": {},
   "outputs": [],
   "source": []
  },
  {
   "cell_type": "code",
   "execution_count": 50,
   "metadata": {},
   "outputs": [],
   "source": [
    "# LATITUDE LONGITUDE"
   ]
  },
  {
   "cell_type": "code",
   "execution_count": 51,
   "metadata": {},
   "outputs": [
    {
     "data": {
      "text/html": [
       "<div>\n",
       "<style scoped>\n",
       "    .dataframe tbody tr th:only-of-type {\n",
       "        vertical-align: middle;\n",
       "    }\n",
       "\n",
       "    .dataframe tbody tr th {\n",
       "        vertical-align: top;\n",
       "    }\n",
       "\n",
       "    .dataframe thead th {\n",
       "        text-align: right;\n",
       "    }\n",
       "</style>\n",
       "<table border=\"1\" class=\"dataframe\">\n",
       "  <thead>\n",
       "    <tr style=\"text-align: right;\">\n",
       "      <th></th>\n",
       "      <th>postal_code</th>\n",
       "      <th>latitude</th>\n",
       "      <th>longitude</th>\n",
       "      <th>stars</th>\n",
       "      <th>review_count</th>\n",
       "      <th>is_open</th>\n",
       "    </tr>\n",
       "    <tr>\n",
       "      <th>lat_lon_cluster</th>\n",
       "      <th></th>\n",
       "      <th></th>\n",
       "      <th></th>\n",
       "      <th></th>\n",
       "      <th></th>\n",
       "      <th></th>\n",
       "    </tr>\n",
       "  </thead>\n",
       "  <tbody>\n",
       "    <tr>\n",
       "      <td>5</td>\n",
       "      <td>85182.494307</td>\n",
       "      <td>33.487110</td>\n",
       "      <td>-112.012258</td>\n",
       "      <td>3.227773</td>\n",
       "      <td>14.761767</td>\n",
       "      <td>0.543733</td>\n",
       "    </tr>\n",
       "    <tr>\n",
       "      <td>1</td>\n",
       "      <td>85198.269507</td>\n",
       "      <td>33.493197</td>\n",
       "      <td>-112.001084</td>\n",
       "      <td>3.433600</td>\n",
       "      <td>60.682546</td>\n",
       "      <td>0.696880</td>\n",
       "    </tr>\n",
       "    <tr>\n",
       "      <td>7</td>\n",
       "      <td>85195.545148</td>\n",
       "      <td>33.486778</td>\n",
       "      <td>-111.986649</td>\n",
       "      <td>3.667453</td>\n",
       "      <td>123.195418</td>\n",
       "      <td>0.780323</td>\n",
       "    </tr>\n",
       "    <tr>\n",
       "      <td>4</td>\n",
       "      <td>85194.123735</td>\n",
       "      <td>33.481274</td>\n",
       "      <td>-111.984990</td>\n",
       "      <td>3.746907</td>\n",
       "      <td>200.667042</td>\n",
       "      <td>0.834646</td>\n",
       "    </tr>\n",
       "    <tr>\n",
       "      <td>9</td>\n",
       "      <td>85187.285185</td>\n",
       "      <td>33.494422</td>\n",
       "      <td>-111.986615</td>\n",
       "      <td>3.840741</td>\n",
       "      <td>301.211111</td>\n",
       "      <td>0.916667</td>\n",
       "    </tr>\n",
       "    <tr>\n",
       "      <td>2</td>\n",
       "      <td>85177.510386</td>\n",
       "      <td>33.482487</td>\n",
       "      <td>-111.979229</td>\n",
       "      <td>3.903561</td>\n",
       "      <td>430.804154</td>\n",
       "      <td>0.946588</td>\n",
       "    </tr>\n",
       "    <tr>\n",
       "      <td>0</td>\n",
       "      <td>85174.885057</td>\n",
       "      <td>33.488711</td>\n",
       "      <td>-111.978855</td>\n",
       "      <td>3.951149</td>\n",
       "      <td>613.557471</td>\n",
       "      <td>0.971264</td>\n",
       "    </tr>\n",
       "    <tr>\n",
       "      <td>8</td>\n",
       "      <td>85137.320988</td>\n",
       "      <td>33.490487</td>\n",
       "      <td>-111.979438</td>\n",
       "      <td>4.080247</td>\n",
       "      <td>868.456790</td>\n",
       "      <td>0.962963</td>\n",
       "    </tr>\n",
       "    <tr>\n",
       "      <td>6</td>\n",
       "      <td>85128.057143</td>\n",
       "      <td>33.494522</td>\n",
       "      <td>-111.966223</td>\n",
       "      <td>4.157143</td>\n",
       "      <td>1257.742857</td>\n",
       "      <td>1.000000</td>\n",
       "    </tr>\n",
       "    <tr>\n",
       "      <td>3</td>\n",
       "      <td>85123.937500</td>\n",
       "      <td>33.458982</td>\n",
       "      <td>-111.993241</td>\n",
       "      <td>4.281250</td>\n",
       "      <td>1981.000000</td>\n",
       "      <td>1.000000</td>\n",
       "    </tr>\n",
       "  </tbody>\n",
       "</table>\n",
       "</div>"
      ],
      "text/plain": [
       "                  postal_code   latitude   longitude     stars  review_count  \\\n",
       "lat_lon_cluster                                                                \n",
       "5                85182.494307  33.487110 -112.012258  3.227773     14.761767   \n",
       "1                85198.269507  33.493197 -112.001084  3.433600     60.682546   \n",
       "7                85195.545148  33.486778 -111.986649  3.667453    123.195418   \n",
       "4                85194.123735  33.481274 -111.984990  3.746907    200.667042   \n",
       "9                85187.285185  33.494422 -111.986615  3.840741    301.211111   \n",
       "2                85177.510386  33.482487 -111.979229  3.903561    430.804154   \n",
       "0                85174.885057  33.488711 -111.978855  3.951149    613.557471   \n",
       "8                85137.320988  33.490487 -111.979438  4.080247    868.456790   \n",
       "6                85128.057143  33.494522 -111.966223  4.157143   1257.742857   \n",
       "3                85123.937500  33.458982 -111.993241  4.281250   1981.000000   \n",
       "\n",
       "                  is_open  \n",
       "lat_lon_cluster            \n",
       "5                0.543733  \n",
       "1                0.696880  \n",
       "7                0.780323  \n",
       "4                0.834646  \n",
       "9                0.916667  \n",
       "2                0.946588  \n",
       "0                0.971264  \n",
       "8                0.962963  \n",
       "6                1.000000  \n",
       "3                1.000000  "
      ]
     },
     "execution_count": 51,
     "metadata": {},
     "output_type": "execute_result"
    }
   ],
   "source": [
    "# Do clustering of lat lon\n",
    "X = business[['latitude', 'longitude', 'review_count']]\n",
    "\n",
    "from sklearn.cluster import KMeans\n",
    "km = KMeans(n_clusters=10, random_state=1)\n",
    "km.fit(X)\n",
    "\n",
    "km.labels_\n",
    "\n",
    "lat_long_df = business\n",
    "lat_long_df['lat_lon_cluster'] = km.labels_\n",
    "\n",
    "km.cluster_centers_\n",
    "\n",
    "lat_long_df = lat_long_df.groupby('lat_lon_cluster').mean().sort_values('stars')\n",
    "lat_long_df "
   ]
  },
  {
   "cell_type": "code",
   "execution_count": 52,
   "metadata": {},
   "outputs": [
    {
     "name": "stdout",
     "output_type": "stream",
     "text": [
      "Counter({5: 5545, 1: 2372, 7: 1484, 4: 889, 9: 540, 2: 337, 0: 174, 8: 81, 6: 35, 3: 16})\n"
     ]
    }
   ],
   "source": [
    "# count the number of rows in each cluster\n",
    "from collections import Counter, defaultdict\n",
    "print(Counter(km.labels_))"
   ]
  },
  {
   "cell_type": "code",
   "execution_count": 53,
   "metadata": {},
   "outputs": [
    {
     "data": {
      "image/png": "[encoded data removed]",
      "text/plain": [
       "<Figure size 432x288 with 1 Axes>"
      ]
     },
     "metadata": {
      "needs_background": "light"
     },
     "output_type": "display_data"
    }
   ],
   "source": [
    "# Plotting average review count per restaurant in a zip against average star rating \n",
    "lat_long_df.plot(kind='scatter', x='review_count', y='stars', title = 'Av stars for clusters (by lat, lon & review counts) by av. review count');"
   ]
  },
  {
   "cell_type": "code",
   "execution_count": null,
   "metadata": {},
   "outputs": [],
   "source": []
  },
  {
   "cell_type": "code",
   "execution_count": 54,
   "metadata": {},
   "outputs": [],
   "source": [
    "# CATEGORIES"
   ]
  },
  {
   "cell_type": "code",
   "execution_count": 55,
   "metadata": {},
   "outputs": [
    {
     "data": {
      "text/html": [
       "<div>\n",
       "<style scoped>\n",
       "    .dataframe tbody tr th:only-of-type {\n",
       "        vertical-align: middle;\n",
       "    }\n",
       "\n",
       "    .dataframe tbody tr th {\n",
       "        vertical-align: top;\n",
       "    }\n",
       "\n",
       "    .dataframe thead th {\n",
       "        text-align: right;\n",
       "    }\n",
       "</style>\n",
       "<table border=\"1\" class=\"dataframe\">\n",
       "  <thead>\n",
       "    <tr style=\"text-align: right;\">\n",
       "      <th></th>\n",
       "      <th>business_id</th>\n",
       "      <th>name</th>\n",
       "      <th>address</th>\n",
       "      <th>city</th>\n",
       "      <th>state</th>\n",
       "      <th>postal_code</th>\n",
       "      <th>latitude</th>\n",
       "      <th>longitude</th>\n",
       "      <th>stars</th>\n",
       "      <th>review_count</th>\n",
       "      <th>is_open</th>\n",
       "      <th>attributes</th>\n",
       "      <th>categories</th>\n",
       "      <th>hours</th>\n",
       "      <th>postal_code_str</th>\n",
       "      <th>lat_lon_cluster</th>\n",
       "    </tr>\n",
       "  </thead>\n",
       "  <tbody>\n",
       "    <tr>\n",
       "      <td>0</td>\n",
       "      <td>1Dfx3zM-rW4n-31KeC8sJg</td>\n",
       "      <td>Taco Bell</td>\n",
       "      <td>2450 E Indian School Rd</td>\n",
       "      <td>Phoenix</td>\n",
       "      <td>AZ</td>\n",
       "      <td>85016.0</td>\n",
       "      <td>33.495194</td>\n",
       "      <td>-112.028588</td>\n",
       "      <td>3.0</td>\n",
       "      <td>18</td>\n",
       "      <td>1</td>\n",
       "      <td>{'RestaurantsTakeOut': 'True', 'BusinessParkin...</td>\n",
       "      <td>Restaurants, Breakfast &amp; Brunch, Mexican, Taco...</td>\n",
       "      <td>{'Monday': '7:0-0:0', 'Tuesday': '7:0-0:0', 'W...</td>\n",
       "      <td>85016</td>\n",
       "      <td>5</td>\n",
       "    </tr>\n",
       "  </tbody>\n",
       "</table>\n",
       "</div>"
      ],
      "text/plain": [
       "              business_id       name                  address     city state  \\\n",
       "0  1Dfx3zM-rW4n-31KeC8sJg  Taco Bell  2450 E Indian School Rd  Phoenix    AZ   \n",
       "\n",
       "   postal_code   latitude   longitude  stars  review_count  is_open  \\\n",
       "0      85016.0  33.495194 -112.028588    3.0            18        1   \n",
       "\n",
       "                                          attributes  \\\n",
       "0  {'RestaurantsTakeOut': 'True', 'BusinessParkin...   \n",
       "\n",
       "                                          categories  \\\n",
       "0  Restaurants, Breakfast & Brunch, Mexican, Taco...   \n",
       "\n",
       "                                               hours postal_code_str  \\\n",
       "0  {'Monday': '7:0-0:0', 'Tuesday': '7:0-0:0', 'W...           85016   \n",
       "\n",
       "   lat_lon_cluster  \n",
       "0                5  "
      ]
     },
     "execution_count": 55,
     "metadata": {},
     "output_type": "execute_result"
    }
   ],
   "source": [
    "business.head(1)"
   ]
  },
  {
   "cell_type": "code",
   "execution_count": 56,
   "metadata": {},
   "outputs": [],
   "source": [
    "categories_dummies = business['categories'].str.get_dummies(', ').replace(0, '')"
   ]
  },
  {
   "cell_type": "code",
   "execution_count": 57,
   "metadata": {},
   "outputs": [
    {
     "data": {
      "text/plain": [
       "(11473, 520)"
      ]
     },
     "execution_count": 57,
     "metadata": {},
     "output_type": "execute_result"
    }
   ],
   "source": [
    "categories_dummies.shape"
   ]
  },
  {
   "cell_type": "code",
   "execution_count": 58,
   "metadata": {},
   "outputs": [
    {
     "data": {
      "text/html": [
       "<div>\n",
       "<style scoped>\n",
       "    .dataframe tbody tr th:only-of-type {\n",
       "        vertical-align: middle;\n",
       "    }\n",
       "\n",
       "    .dataframe tbody tr th {\n",
       "        vertical-align: top;\n",
       "    }\n",
       "\n",
       "    .dataframe thead th {\n",
       "        text-align: right;\n",
       "    }\n",
       "</style>\n",
       "<table border=\"1\" class=\"dataframe\">\n",
       "  <thead>\n",
       "    <tr style=\"text-align: right;\">\n",
       "      <th></th>\n",
       "      <th>business_id</th>\n",
       "      <th>name</th>\n",
       "      <th>address</th>\n",
       "      <th>city</th>\n",
       "      <th>state</th>\n",
       "      <th>postal_code</th>\n",
       "      <th>latitude</th>\n",
       "      <th>longitude</th>\n",
       "      <th>stars</th>\n",
       "      <th>review_count</th>\n",
       "      <th>...</th>\n",
       "      <th>Wills</th>\n",
       "      <th>Wine &amp; Spirits</th>\n",
       "      <th>Wine Bars</th>\n",
       "      <th>Wine Tasting Room</th>\n",
       "      <th>Wineries</th>\n",
       "      <th>Women's Clothing</th>\n",
       "      <th>Wraps</th>\n",
       "      <th>Yelp Events</th>\n",
       "      <th>Yoga</th>\n",
       "      <th>Zoos</th>\n",
       "    </tr>\n",
       "  </thead>\n",
       "  <tbody>\n",
       "    <tr>\n",
       "      <td>0</td>\n",
       "      <td>1Dfx3zM-rW4n-31KeC8sJg</td>\n",
       "      <td>Taco Bell</td>\n",
       "      <td>2450 E Indian School Rd</td>\n",
       "      <td>Phoenix</td>\n",
       "      <td>AZ</td>\n",
       "      <td>85016.0</td>\n",
       "      <td>33.495194</td>\n",
       "      <td>-112.028588</td>\n",
       "      <td>3.0</td>\n",
       "      <td>18</td>\n",
       "      <td>...</td>\n",
       "      <td></td>\n",
       "      <td></td>\n",
       "      <td></td>\n",
       "      <td></td>\n",
       "      <td></td>\n",
       "      <td></td>\n",
       "      <td></td>\n",
       "      <td></td>\n",
       "      <td></td>\n",
       "      <td></td>\n",
       "    </tr>\n",
       "  </tbody>\n",
       "</table>\n",
       "<p>1 rows × 536 columns</p>\n",
       "</div>"
      ],
      "text/plain": [
       "              business_id       name                  address     city state  \\\n",
       "0  1Dfx3zM-rW4n-31KeC8sJg  Taco Bell  2450 E Indian School Rd  Phoenix    AZ   \n",
       "\n",
       "   postal_code   latitude   longitude  stars  review_count  ...  Wills  \\\n",
       "0      85016.0  33.495194 -112.028588    3.0            18  ...          \n",
       "\n",
       "  Wine & Spirits Wine Bars Wine Tasting Room Wineries  Women's Clothing Wraps  \\\n",
       "0                                                                               \n",
       "\n",
       "  Yelp Events Yoga Zoos  \n",
       "0                        \n",
       "\n",
       "[1 rows x 536 columns]"
      ]
     },
     "execution_count": 58,
     "metadata": {},
     "output_type": "execute_result"
    }
   ],
   "source": [
    "categories_df = pd.concat([business, categories_dummies.reindex(categories_dummies.index)], axis=1)\n",
    "categories_df.shape\n",
    "categories_df.head(1)"
   ]
  },
  {
   "cell_type": "code",
   "execution_count": 59,
   "metadata": {
    "scrolled": true
   },
   "outputs": [
    {
     "data": {
      "text/plain": [
       "Restaurants                  11465\n",
       "Food                          3054\n",
       "Fast Food                     1955\n",
       "Mexican                       1778\n",
       "Sandwiches                    1760\n",
       "Nightlife                     1706\n",
       "American (Traditional)        1691\n",
       "Bars                          1630\n",
       "Pizza                         1409\n",
       "American (New)                1316\n",
       "Burgers                       1198\n",
       "Breakfast & Brunch            1195\n",
       "Italian                        901\n",
       "Coffee & Tea                   704\n",
       "Chinese                        655\n",
       "Salad                          614\n",
       "Chicken Wings                  574\n",
       "Event Planning & Services      557\n",
       "Seafood                        491\n",
       "Cafes                          488\n",
       "Sports Bars                    486\n",
       "Delis                          462\n",
       "Caterers                       377\n",
       "Bakeries                       360\n",
       "Japanese                       360\n",
       "Barbeque                       349\n",
       "Mediterranean                  345\n",
       "Specialty Food                 345\n",
       "Sushi Bars                     335\n",
       "Desserts                       334\n",
       "dtype: int64"
      ]
     },
     "execution_count": 59,
     "metadata": {},
     "output_type": "execute_result"
    }
   ],
   "source": [
    "categories_dummies.astype(bool).sum(axis=0).sort_values(ascending=False).head(30)"
   ]
  },
  {
   "cell_type": "code",
   "execution_count": 60,
   "metadata": {},
   "outputs": [
    {
     "data": {
      "text/plain": [
       "Fast Food\n",
       "1    2.742455\n",
       "     3.580164\n",
       "Name: stars, dtype: float64"
      ]
     },
     "execution_count": 60,
     "metadata": {},
     "output_type": "execute_result"
    }
   ],
   "source": [
    "categories_df.groupby('Fast Food').stars.mean()"
   ]
  },
  {
   "cell_type": "code",
   "execution_count": 61,
   "metadata": {},
   "outputs": [
    {
     "data": {
      "text/plain": [
       "-0.23398611918777001"
      ]
     },
     "execution_count": 61,
     "metadata": {},
     "output_type": "execute_result"
    }
   ],
   "source": [
    "# Percentage difference with fast food aggregate star rating\n",
    "categories_df.groupby('Fast Food').stars.mean()[1] / categories_df.groupby('Fast Food').stars.mean()[''] - 1"
   ]
  },
  {
   "cell_type": "code",
   "execution_count": 62,
   "metadata": {},
   "outputs": [
    {
     "data": {
      "text/plain": [
       "Mexican\n",
       "1    3.468223\n",
       "     3.431769\n",
       "Name: stars, dtype: float64"
      ]
     },
     "execution_count": 62,
     "metadata": {},
     "output_type": "execute_result"
    }
   ],
   "source": [
    "categories_df.groupby('Mexican').stars.mean()"
   ]
  },
  {
   "cell_type": "code",
   "execution_count": 63,
   "metadata": {},
   "outputs": [
    {
     "data": {
      "text/plain": [
       "Cafes\n",
       "1    3.876025\n",
       "     3.417934\n",
       "Name: stars, dtype: float64"
      ]
     },
     "execution_count": 63,
     "metadata": {},
     "output_type": "execute_result"
    }
   ],
   "source": [
    "categories_df.groupby('Cafes').stars.mean()"
   ]
  },
  {
   "cell_type": "code",
   "execution_count": 64,
   "metadata": {},
   "outputs": [
    {
     "data": {
      "text/plain": [
       "Mediterranean\n",
       "1    3.913043\n",
       "     3.422673\n",
       "Name: stars, dtype: float64"
      ]
     },
     "execution_count": 64,
     "metadata": {},
     "output_type": "execute_result"
    }
   ],
   "source": [
    "categories_df.groupby('Mediterranean').stars.mean()"
   ]
  },
  {
   "cell_type": "code",
   "execution_count": null,
   "metadata": {},
   "outputs": [],
   "source": []
  },
  {
   "cell_type": "code",
   "execution_count": 65,
   "metadata": {},
   "outputs": [],
   "source": [
    "#ATTRIBUTES"
   ]
  },
  {
   "cell_type": "code",
   "execution_count": 66,
   "metadata": {},
   "outputs": [
    {
     "data": {
      "text/plain": [
       "(11473, 16)"
      ]
     },
     "execution_count": 66,
     "metadata": {},
     "output_type": "execute_result"
    }
   ],
   "source": [
    "business.shape"
   ]
  },
  {
   "cell_type": "code",
   "execution_count": 67,
   "metadata": {},
   "outputs": [
    {
     "data": {
      "text/plain": [
       "(11214, 17)"
      ]
     },
     "execution_count": 67,
     "metadata": {},
     "output_type": "execute_result"
    }
   ],
   "source": [
    "# drop rows that where the 'attributes' is null and create a new dataframe\n",
    "business_attributes_not_nan = business[business['attributes'].notna()].reset_index()\n",
    "business_attributes_not_nan.shape"
   ]
  },
  {
   "cell_type": "code",
   "execution_count": 68,
   "metadata": {},
   "outputs": [
    {
     "data": {
      "text/html": [
       "<div>\n",
       "<style scoped>\n",
       "    .dataframe tbody tr th:only-of-type {\n",
       "        vertical-align: middle;\n",
       "    }\n",
       "\n",
       "    .dataframe tbody tr th {\n",
       "        vertical-align: top;\n",
       "    }\n",
       "\n",
       "    .dataframe thead th {\n",
       "        text-align: right;\n",
       "    }\n",
       "</style>\n",
       "<table border=\"1\" class=\"dataframe\">\n",
       "  <thead>\n",
       "    <tr style=\"text-align: right;\">\n",
       "      <th></th>\n",
       "      <th>index</th>\n",
       "      <th>business_id</th>\n",
       "      <th>name</th>\n",
       "      <th>address</th>\n",
       "      <th>city</th>\n",
       "      <th>state</th>\n",
       "      <th>postal_code</th>\n",
       "      <th>latitude</th>\n",
       "      <th>longitude</th>\n",
       "      <th>stars</th>\n",
       "      <th>review_count</th>\n",
       "      <th>is_open</th>\n",
       "      <th>attributes</th>\n",
       "      <th>categories</th>\n",
       "      <th>hours</th>\n",
       "      <th>postal_code_str</th>\n",
       "      <th>lat_lon_cluster</th>\n",
       "    </tr>\n",
       "  </thead>\n",
       "  <tbody>\n",
       "    <tr>\n",
       "      <td>0</td>\n",
       "      <td>0</td>\n",
       "      <td>1Dfx3zM-rW4n-31KeC8sJg</td>\n",
       "      <td>Taco Bell</td>\n",
       "      <td>2450 E Indian School Rd</td>\n",
       "      <td>Phoenix</td>\n",
       "      <td>AZ</td>\n",
       "      <td>85016.0</td>\n",
       "      <td>33.495194</td>\n",
       "      <td>-112.028588</td>\n",
       "      <td>3.0</td>\n",
       "      <td>18</td>\n",
       "      <td>1</td>\n",
       "      <td>{'RestaurantsTakeOut': 'True', 'BusinessParkin...</td>\n",
       "      <td>Restaurants, Breakfast &amp; Brunch, Mexican, Taco...</td>\n",
       "      <td>{'Monday': '7:0-0:0', 'Tuesday': '7:0-0:0', 'W...</td>\n",
       "      <td>85016</td>\n",
       "      <td>5</td>\n",
       "    </tr>\n",
       "  </tbody>\n",
       "</table>\n",
       "</div>"
      ],
      "text/plain": [
       "   index             business_id       name                  address     city  \\\n",
       "0      0  1Dfx3zM-rW4n-31KeC8sJg  Taco Bell  2450 E Indian School Rd  Phoenix   \n",
       "\n",
       "  state  postal_code   latitude   longitude  stars  review_count  is_open  \\\n",
       "0    AZ      85016.0  33.495194 -112.028588    3.0            18        1   \n",
       "\n",
       "                                          attributes  \\\n",
       "0  {'RestaurantsTakeOut': 'True', 'BusinessParkin...   \n",
       "\n",
       "                                          categories  \\\n",
       "0  Restaurants, Breakfast & Brunch, Mexican, Taco...   \n",
       "\n",
       "                                               hours postal_code_str  \\\n",
       "0  {'Monday': '7:0-0:0', 'Tuesday': '7:0-0:0', 'W...           85016   \n",
       "\n",
       "   lat_lon_cluster  \n",
       "0                5  "
      ]
     },
     "execution_count": 68,
     "metadata": {},
     "output_type": "execute_result"
    }
   ],
   "source": [
    "business_attributes_not_nan.head(1)\n",
    "# column labeled 'index' has been added which is not needed.\n",
    "# for now we will ignore this rather than delete it"
   ]
  },
  {
   "cell_type": "code",
   "execution_count": 69,
   "metadata": {},
   "outputs": [
    {
     "data": {
      "text/plain": [
       "(11214, 39)"
      ]
     },
     "execution_count": 69,
     "metadata": {},
     "output_type": "execute_result"
    }
   ],
   "source": [
    "# Extract json from 'business_attributes_not_nan' as a new dataframe\n",
    "from pandas.io.json import json_normalize\n",
    "from ast import literal_eval\n",
    "\n",
    "def unnest_json(dataframe, column):\n",
    "    dataframe_new = json_normalize(dataframe[column].apply(literal_eval))\n",
    "    return dataframe_new\n",
    "\n",
    "attributes_df = unnest_json(business_attributes_not_nan,'attributes')\n",
    "# attributes_df.reset_index(level=0)\n",
    "attributes_df.shape"
   ]
  },
  {
   "cell_type": "code",
   "execution_count": 70,
   "metadata": {},
   "outputs": [
    {
     "data": {
      "text/plain": [
       "(11214, 56)"
      ]
     },
     "execution_count": 70,
     "metadata": {},
     "output_type": "execute_result"
    }
   ],
   "source": [
    "# merge the two new dataframes\n",
    "attributes_merged = pd.concat([business_attributes_not_nan, attributes_df.reindex(business_attributes_not_nan.index)], axis=1)\n",
    "attributes_merged.shape"
   ]
  },
  {
   "cell_type": "code",
   "execution_count": 71,
   "metadata": {},
   "outputs": [
    {
     "data": {
      "text/plain": [
       "index                             0\n",
       "business_id                       0\n",
       "name                              0\n",
       "address                         120\n",
       "city                              0\n",
       "state                             0\n",
       "postal_code                      10\n",
       "latitude                          0\n",
       "longitude                         0\n",
       "stars                             0\n",
       "review_count                      0\n",
       "is_open                           0\n",
       "attributes                        0\n",
       "categories                        0\n",
       "hours                          2484\n",
       "postal_code_str                   0\n",
       "lat_lon_cluster                   0\n",
       "RestaurantsTakeOut              747\n",
       "BusinessParking                1207\n",
       "WiFi                           2753\n",
       "RestaurantsDelivery            1037\n",
       "OutdoorSeating                 1183\n",
       "RestaurantsAttire              1281\n",
       "BusinessAcceptsCreditCards      282\n",
       "RestaurantsGoodForGroups        937\n",
       "RestaurantsReservations        1049\n",
       "HasTV                          2090\n",
       "Ambience                       2100\n",
       "Alcohol                        1766\n",
       "RestaurantsPriceRange2          622\n",
       "GoodForKids                     955\n",
       "Caters                         3433\n",
       "NoiseLevel                     2819\n",
       "RestaurantsTableService        7676\n",
       "BikeParking                    3239\n",
       "GoodForMeal                    4853\n",
       "DriveThru                     10349\n",
       "WheelchairAccessible           9381\n",
       "BusinessAcceptsBitcoin        10088\n",
       "Music                         10304\n",
       "Smoking                       10632\n",
       "GoodForDancing                10414\n",
       "CoatCheck                     10606\n",
       "HappyHour                     10374\n",
       "BestNights                    10488\n",
       "DogsAllowed                   10301\n",
       "BYOBCorkage                   10550\n",
       "Corkage                       10936\n",
       "ByAppointmentOnly             11018\n",
       "DietaryRestrictions           11204\n",
       "BYOB                          11206\n",
       "AgesAllowed                   11204\n",
       "HairSpecializesIn             11213\n",
       "AcceptsInsurance              11208\n",
       "RestaurantsCounterService     11208\n",
       "Open24Hours                   11212\n",
       "dtype: int64"
      ]
     },
     "execution_count": 71,
     "metadata": {},
     "output_type": "execute_result"
    }
   ],
   "source": [
    "# Check out the list of attributes\n",
    "attributes_merged.isnull().sum()"
   ]
  },
  {
   "cell_type": "code",
   "execution_count": 72,
   "metadata": {},
   "outputs": [
    {
     "data": {
      "text/plain": [
       "False    524\n",
       "True     382\n",
       "None       7\n",
       "Name: DogsAllowed, dtype: int64"
      ]
     },
     "execution_count": 72,
     "metadata": {},
     "output_type": "execute_result"
    }
   ],
   "source": [
    "# Check out the attribute DogsAllowed as an example attribute\n",
    "attributes_merged.DogsAllowed.value_counts()"
   ]
  },
  {
   "cell_type": "code",
   "execution_count": 73,
   "metadata": {},
   "outputs": [
    {
     "data": {
      "text/plain": [
       "DogsAllowed\n",
       "False    3.968511\n",
       "None     4.214286\n",
       "True     4.017016\n",
       "Name: stars, dtype: float64"
      ]
     },
     "execution_count": 73,
     "metadata": {},
     "output_type": "execute_result"
    }
   ],
   "source": [
    "# Look at the star mean for DogsAllowed by element \n",
    "attributes_merged.groupby('DogsAllowed').stars.mean()"
   ]
  },
  {
   "cell_type": "code",
   "execution_count": 74,
   "metadata": {},
   "outputs": [
    {
     "data": {
      "text/plain": [
       "(11214, 2)"
      ]
     },
     "execution_count": 74,
     "metadata": {},
     "output_type": "execute_result"
    }
   ],
   "source": [
    "# create dummies\n",
    "dogs_allowed_dummies = pd.get_dummies(attributes_merged.DogsAllowed, prefix='dogs_allowed')\n",
    "dogs_allowed_dummies.drop(dogs_allowed_dummies.columns[0], axis=1, inplace=True)\n",
    "dogs_allowed_dummies.shape"
   ]
  },
  {
   "cell_type": "code",
   "execution_count": 75,
   "metadata": {},
   "outputs": [
    {
     "data": {
      "text/plain": [
       "(11214, 58)"
      ]
     },
     "execution_count": 75,
     "metadata": {},
     "output_type": "execute_result"
    }
   ],
   "source": [
    "# In the end, for the calcuation I did, I don't need to one hot encode\n",
    "# Concatenate the most recently created dataframe and the dummy DataFrame (axis=0 means rows, axis=1 means columns).\n",
    "dogs_allowed_plus_dummies = pd.concat([attributes_merged, dogs_allowed_dummies], axis=1)\n",
    "dogs_allowed_plus_dummies.shape"
   ]
  },
  {
   "cell_type": "code",
   "execution_count": 76,
   "metadata": {},
   "outputs": [
    {
     "data": {
      "text/plain": [
       "(913, 58)"
      ]
     },
     "execution_count": 76,
     "metadata": {},
     "output_type": "execute_result"
    }
   ],
   "source": [
    "# as we are looking at nan values\n",
    "dogs_allowed_no_nan = dogs_allowed_plus_dummies[dogs_allowed_plus_dummies['DogsAllowed'].notnull()]\n",
    "dogs_allowed_no_nan.shape"
   ]
  },
  {
   "cell_type": "code",
   "execution_count": 77,
   "metadata": {},
   "outputs": [
    {
     "name": "stderr",
     "output_type": "stream",
     "text": [
      "/Users/hanhuang/opt/anaconda3/lib/python3.7/site-packages/sklearn/linear_model/logistic.py:432: FutureWarning: Default solver will be changed to 'lbfgs' in 0.22. Specify a solver to silence this warning.\n",
      "  FutureWarning)\n",
      "/Users/hanhuang/opt/anaconda3/lib/python3.7/site-packages/sklearn/linear_model/logistic.py:469: FutureWarning: Default multi_class will be changed to 'auto' in 0.22. Specify the multi_class option to silence this warning.\n",
      "  \"this warning.\", FutureWarning)\n"
     ]
    },
    {
     "data": {
      "text/plain": [
       "0.5414847161572053"
      ]
     },
     "execution_count": 77,
     "metadata": {},
     "output_type": "execute_result"
    }
   ],
   "source": [
    "# correlate is_open to review_count using logistical regression\n",
    "from sklearn.linear_model import LogisticRegression\n",
    "from sklearn.model_selection import train_test_split\n",
    "LR = LogisticRegression()\n",
    "feature_cols = ['stars']\n",
    "X = dogs_allowed_no_nan[feature_cols]\n",
    "y = dogs_allowed_no_nan.DogsAllowed\n",
    "\n",
    "X_train, X_test, y_train, y_test = train_test_split(X, y, random_state=1)\n",
    "LR.fit(X_train, y_train)\n",
    "y_pred = LR.predict(X_test)\n",
    "LR.score(X_test, y_test)"
   ]
  },
  {
   "cell_type": "code",
   "execution_count": 78,
   "metadata": {},
   "outputs": [
    {
     "data": {
      "text/plain": [
       "0.5739320920043811"
      ]
     },
     "execution_count": 78,
     "metadata": {},
     "output_type": "execute_result"
    }
   ],
   "source": [
    "# Baseline calculation. \n",
    "# Logistical reqression performs poorly with the baseline.\n",
    "dogs_allowed_no_nan.DogsAllowed.value_counts()[0] / len(dogs_allowed_no_nan)"
   ]
  },
  {
   "cell_type": "code",
   "execution_count": null,
   "metadata": {},
   "outputs": [],
   "source": []
  },
  {
   "cell_type": "code",
   "execution_count": null,
   "metadata": {},
   "outputs": [],
   "source": []
  },
  {
   "cell_type": "code",
   "execution_count": 79,
   "metadata": {},
   "outputs": [],
   "source": [
    "# New Export "
   ]
  },
  {
   "cell_type": "code",
   "execution_count": 80,
   "metadata": {},
   "outputs": [],
   "source": [
    "# business_id, name, city, lat, long, stars, is open, postal_code_str, "
   ]
  },
  {
   "cell_type": "code",
   "execution_count": null,
   "metadata": {},
   "outputs": [],
   "source": []
  },
  {
   "cell_type": "code",
   "execution_count": 81,
   "metadata": {},
   "outputs": [],
   "source": [
    "# OLD FINAL CLEAN UP OF THE MERGED FILE AND EXPORT"
   ]
  },
  {
   "cell_type": "code",
   "execution_count": 82,
   "metadata": {},
   "outputs": [],
   "source": [
    "# merged.drop('index', axis = 1, inplace=True)\n",
    "# merged.head(1)"
   ]
  },
  {
   "cell_type": "code",
   "execution_count": 83,
   "metadata": {},
   "outputs": [],
   "source": [
    "# Check for zeros as I am going to by using zeros to fill nan values\n",
    "# Only the feature 'is_open' has zeros. It also has no nan values so there is no ambiguity created here.  \n",
    "# merged.isin([0]).sum()"
   ]
  },
  {
   "cell_type": "code",
   "execution_count": 84,
   "metadata": {},
   "outputs": [],
   "source": [
    "# Check for nan values\n",
    "# merged.isnull().sum()"
   ]
  },
  {
   "cell_type": "code",
   "execution_count": 85,
   "metadata": {},
   "outputs": [],
   "source": [
    "# Fill nan values with zeros\n",
    "# merged.fillna(0, inplace=True)\n",
    "# merged.isnull().sum()"
   ]
  },
  {
   "cell_type": "code",
   "execution_count": 86,
   "metadata": {},
   "outputs": [],
   "source": [
    "# check data types\n",
    "# merged.dtypes"
   ]
  },
  {
   "cell_type": "code",
   "execution_count": 87,
   "metadata": {},
   "outputs": [],
   "source": [
    "# Check final shape of date frame before exporting \n",
    "# merged.shape"
   ]
  },
  {
   "cell_type": "code",
   "execution_count": 88,
   "metadata": {},
   "outputs": [],
   "source": [
    "# export\n",
    "# merged.to_csv('business_attributes.csv')"
   ]
  },
  {
   "cell_type": "code",
   "execution_count": null,
   "metadata": {},
   "outputs": [],
   "source": []
  }
 ],
 "metadata": {
  "kernelspec": {
   "display_name": "Python 3",
   "language": "python",
   "name": "python3"
  },
  "language_info": {
   "codemirror_mode": {
    "name": "ipython",
    "version": 3
   },
   "file_extension": ".py",
   "mimetype": "text/x-python",
   "name": "python",
   "nbconvert_exporter": "python",
   "pygments_lexer": "ipython3",
   "version": "3.7.4"
  }
 },
 "nbformat": 4,
 "nbformat_minor": 2
}
