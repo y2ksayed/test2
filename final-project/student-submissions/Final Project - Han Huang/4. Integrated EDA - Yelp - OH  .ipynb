{
 "cells": [
  {
   "cell_type": "code",
   "execution_count": 1,
   "metadata": {},
   "outputs": [],
   "source": [
    "import pandas as pd\n",
    "import numpy as np\n",
    "import seaborn as sns\n",
    "\n",
    "import matplotlib.pyplot as plt\n",
    "%matplotlib inline\n",
    "# Increase default figure and font sizes for easier viewing.\n",
    "plt.rcParams['figure.figsize'] = (8, 6)\n",
    "plt.rcParams['font.size'] = 14"
   ]
  },
  {
   "cell_type": "code",
   "execution_count": null,
   "metadata": {},
   "outputs": [],
   "source": []
  },
  {
   "cell_type": "code",
   "execution_count": 2,
   "metadata": {},
   "outputs": [],
   "source": [
    "# IMPORT THE FILES "
   ]
  },
  {
   "cell_type": "code",
   "execution_count": 3,
   "metadata": {},
   "outputs": [
    {
     "name": "stderr",
     "output_type": "stream",
     "text": [
      "/Users/hanhuang/opt/anaconda3/lib/python3.7/site-packages/IPython/core/interactiveshell.py:3058: DtypeWarning: Columns (26) have mixed types. Specify dtype option on import or set low_memory=False.\n",
      "  interactivity=interactivity, compiler=compiler, result=result)\n"
     ]
    }
   ],
   "source": [
    "# Import the integrated review file for OH Yelp data\n",
    "reviews_combined = pd.read_csv('./reviews_users_business_oh.csv') "
   ]
  },
  {
   "cell_type": "code",
   "execution_count": 4,
   "metadata": {},
   "outputs": [],
   "source": [
    "# Import the user file for OH Yelp data\n",
    "users = pd.read_csv('./users_oh.csv') "
   ]
  },
  {
   "cell_type": "code",
   "execution_count": 5,
   "metadata": {},
   "outputs": [],
   "source": [
    "# Import the integrated buisness file for OH Yelp data\n",
    "business = pd.read_csv('./business_oh.csv') "
   ]
  },
  {
   "cell_type": "code",
   "execution_count": null,
   "metadata": {},
   "outputs": [],
   "source": []
  },
  {
   "cell_type": "code",
   "execution_count": 6,
   "metadata": {},
   "outputs": [],
   "source": [
    "# CLEAN THE REVIEW DATATA FRAME "
   ]
  },
  {
   "cell_type": "code",
   "execution_count": 7,
   "metadata": {},
   "outputs": [
    {
     "data": {
      "text/plain": [
       "(321345, 42)"
      ]
     },
     "execution_count": 7,
     "metadata": {},
     "output_type": "execute_result"
    }
   ],
   "source": [
    "# check the shape\n",
    "reviews_combined.shape"
   ]
  },
  {
   "cell_type": "code",
   "execution_count": 8,
   "metadata": {},
   "outputs": [
    {
     "data": {
      "text/html": [
       "<div>\n",
       "<style scoped>\n",
       "    .dataframe tbody tr th:only-of-type {\n",
       "        vertical-align: middle;\n",
       "    }\n",
       "\n",
       "    .dataframe tbody tr th {\n",
       "        vertical-align: top;\n",
       "    }\n",
       "\n",
       "    .dataframe thead th {\n",
       "        text-align: right;\n",
       "    }\n",
       "</style>\n",
       "<table border=\"1\" class=\"dataframe\">\n",
       "  <thead>\n",
       "    <tr style=\"text-align: right;\">\n",
       "      <th></th>\n",
       "      <th>Unnamed: 0</th>\n",
       "      <th>review_id</th>\n",
       "      <th>user_id</th>\n",
       "      <th>business_id</th>\n",
       "      <th>stars</th>\n",
       "      <th>useful</th>\n",
       "      <th>funny</th>\n",
       "      <th>cool</th>\n",
       "      <th>text</th>\n",
       "      <th>date</th>\n",
       "      <th>...</th>\n",
       "      <th>earliest_review</th>\n",
       "      <th>latest_review</th>\n",
       "      <th>earliest_to_latest</th>\n",
       "      <th>earliest_to_latest_years</th>\n",
       "      <th>useful_business_id</th>\n",
       "      <th>review_count_user_id</th>\n",
       "      <th>elite_no_nan</th>\n",
       "      <th>friends</th>\n",
       "      <th>friend_count</th>\n",
       "      <th>count_of_friends_segments</th>\n",
       "    </tr>\n",
       "  </thead>\n",
       "  <tbody>\n",
       "    <tr>\n",
       "      <td>0</td>\n",
       "      <td>0</td>\n",
       "      <td>qrffudO73zsslZbe8B9D3Q</td>\n",
       "      <td>sG_h0dIzTKWa3Q6fmb4u-g</td>\n",
       "      <td>b2jN2mm9Wf3RcrZCgfo1cg</td>\n",
       "      <td>2</td>\n",
       "      <td>1</td>\n",
       "      <td>0</td>\n",
       "      <td>0</td>\n",
       "      <td>I was really looking forward to visiting after...</td>\n",
       "      <td>2015-01-18 14:04:18</td>\n",
       "      <td>...</td>\n",
       "      <td>2013-06-05 18:43:58</td>\n",
       "      <td>2018-05-28 22:26:53</td>\n",
       "      <td>1818 days 03:42:55.000000000</td>\n",
       "      <td>4.98</td>\n",
       "      <td>54</td>\n",
       "      <td>13</td>\n",
       "      <td>0</td>\n",
       "      <td>None</td>\n",
       "      <td>0</td>\n",
       "      <td>0</td>\n",
       "    </tr>\n",
       "  </tbody>\n",
       "</table>\n",
       "<p>1 rows × 42 columns</p>\n",
       "</div>"
      ],
      "text/plain": [
       "   Unnamed: 0               review_id                 user_id  \\\n",
       "0           0  qrffudO73zsslZbe8B9D3Q  sG_h0dIzTKWa3Q6fmb4u-g   \n",
       "\n",
       "              business_id  stars  useful  funny  cool  \\\n",
       "0  b2jN2mm9Wf3RcrZCgfo1cg      2       1      0     0   \n",
       "\n",
       "                                                text                 date  \\\n",
       "0  I was really looking forward to visiting after...  2015-01-18 14:04:18   \n",
       "\n",
       "   ...      earliest_review        latest_review  \\\n",
       "0  ...  2013-06-05 18:43:58  2018-05-28 22:26:53   \n",
       "\n",
       "             earliest_to_latest  earliest_to_latest_years  useful_business_id  \\\n",
       "0  1818 days 03:42:55.000000000                      4.98                  54   \n",
       "\n",
       "   review_count_user_id  elite_no_nan friends friend_count  \\\n",
       "0                    13             0    None            0   \n",
       "\n",
       "  count_of_friends_segments  \n",
       "0                         0  \n",
       "\n",
       "[1 rows x 42 columns]"
      ]
     },
     "execution_count": 8,
     "metadata": {},
     "output_type": "execute_result"
    }
   ],
   "source": [
    "reviews_combined.head(1)"
   ]
  },
  {
   "cell_type": "code",
   "execution_count": 9,
   "metadata": {},
   "outputs": [
    {
     "data": {
      "text/html": [
       "<div>\n",
       "<style scoped>\n",
       "    .dataframe tbody tr th:only-of-type {\n",
       "        vertical-align: middle;\n",
       "    }\n",
       "\n",
       "    .dataframe tbody tr th {\n",
       "        vertical-align: top;\n",
       "    }\n",
       "\n",
       "    .dataframe thead th {\n",
       "        text-align: right;\n",
       "    }\n",
       "</style>\n",
       "<table border=\"1\" class=\"dataframe\">\n",
       "  <thead>\n",
       "    <tr style=\"text-align: right;\">\n",
       "      <th></th>\n",
       "      <th>review_id</th>\n",
       "      <th>user_id</th>\n",
       "      <th>business_id</th>\n",
       "      <th>stars</th>\n",
       "      <th>useful</th>\n",
       "      <th>funny</th>\n",
       "      <th>cool</th>\n",
       "      <th>text</th>\n",
       "      <th>date</th>\n",
       "      <th>datetime</th>\n",
       "      <th>...</th>\n",
       "      <th>earliest_review</th>\n",
       "      <th>latest_review</th>\n",
       "      <th>earliest_to_latest</th>\n",
       "      <th>earliest_to_latest_years</th>\n",
       "      <th>useful_business_id</th>\n",
       "      <th>review_count_user_id</th>\n",
       "      <th>elite_no_nan</th>\n",
       "      <th>friends</th>\n",
       "      <th>friend_count</th>\n",
       "      <th>count_of_friends_segments</th>\n",
       "    </tr>\n",
       "  </thead>\n",
       "  <tbody>\n",
       "    <tr>\n",
       "      <td>0</td>\n",
       "      <td>qrffudO73zsslZbe8B9D3Q</td>\n",
       "      <td>sG_h0dIzTKWa3Q6fmb4u-g</td>\n",
       "      <td>b2jN2mm9Wf3RcrZCgfo1cg</td>\n",
       "      <td>2</td>\n",
       "      <td>1</td>\n",
       "      <td>0</td>\n",
       "      <td>0</td>\n",
       "      <td>I was really looking forward to visiting after...</td>\n",
       "      <td>2015-01-18 14:04:18</td>\n",
       "      <td>2015-01-18 14:04:18</td>\n",
       "      <td>...</td>\n",
       "      <td>2013-06-05 18:43:58</td>\n",
       "      <td>2018-05-28 22:26:53</td>\n",
       "      <td>1818 days 03:42:55.000000000</td>\n",
       "      <td>4.98</td>\n",
       "      <td>54</td>\n",
       "      <td>13</td>\n",
       "      <td>0</td>\n",
       "      <td>None</td>\n",
       "      <td>0</td>\n",
       "      <td>0</td>\n",
       "    </tr>\n",
       "  </tbody>\n",
       "</table>\n",
       "<p>1 rows × 41 columns</p>\n",
       "</div>"
      ],
      "text/plain": [
       "                review_id                 user_id             business_id  \\\n",
       "0  qrffudO73zsslZbe8B9D3Q  sG_h0dIzTKWa3Q6fmb4u-g  b2jN2mm9Wf3RcrZCgfo1cg   \n",
       "\n",
       "   stars  useful  funny  cool  \\\n",
       "0      2       1      0     0   \n",
       "\n",
       "                                                text                 date  \\\n",
       "0  I was really looking forward to visiting after...  2015-01-18 14:04:18   \n",
       "\n",
       "              datetime  ...      earliest_review        latest_review  \\\n",
       "0  2015-01-18 14:04:18  ...  2013-06-05 18:43:58  2018-05-28 22:26:53   \n",
       "\n",
       "             earliest_to_latest  earliest_to_latest_years  useful_business_id  \\\n",
       "0  1818 days 03:42:55.000000000                      4.98                  54   \n",
       "\n",
       "   review_count_user_id elite_no_nan friends friend_count  \\\n",
       "0                    13            0    None            0   \n",
       "\n",
       "   count_of_friends_segments  \n",
       "0                          0  \n",
       "\n",
       "[1 rows x 41 columns]"
      ]
     },
     "execution_count": 9,
     "metadata": {},
     "output_type": "execute_result"
    }
   ],
   "source": [
    "reviews = reviews_combined.drop(reviews_combined.columns[0], axis=1)\n",
    "reviews.head(1)                                           "
   ]
  },
  {
   "cell_type": "code",
   "execution_count": 10,
   "metadata": {},
   "outputs": [
    {
     "data": {
      "text/plain": [
       "review_id                        object\n",
       "user_id                          object\n",
       "business_id                      object\n",
       "stars                             int64\n",
       "useful                            int64\n",
       "funny                             int64\n",
       "cool                              int64\n",
       "text                             object\n",
       "date                             object\n",
       "datetime                         object\n",
       "year                              int64\n",
       "is_it_a_one                       int64\n",
       "is_it_a_five                      int64\n",
       "is_it_a_one_or_two                int64\n",
       "is_it_a_four_or_five              int64\n",
       "is_it_a_one_or_five               int64\n",
       "name_business_id                 object\n",
       "city                             object\n",
       "state                            object\n",
       "latitude                        float64\n",
       "longitude                       float64\n",
       "stars_for_business_id           float64\n",
       "review_count_for_business_id      int64\n",
       "is_open                           int64\n",
       "lat_lon_cluster                   int64\n",
       "postal_code_str                  object\n",
       "biz_review_count                  int64\n",
       "biz_star_mean                   float64\n",
       "biz_star_min                      int64\n",
       "biz_star_max                      int64\n",
       "biz_star_std                    float64\n",
       "earliest_review                  object\n",
       "latest_review                    object\n",
       "earliest_to_latest               object\n",
       "earliest_to_latest_years        float64\n",
       "useful_business_id                int64\n",
       "review_count_user_id              int64\n",
       "elite_no_nan                     object\n",
       "friends                          object\n",
       "friend_count                      int64\n",
       "count_of_friends_segments        object\n",
       "dtype: object"
      ]
     },
     "execution_count": 10,
     "metadata": {},
     "output_type": "execute_result"
    }
   ],
   "source": [
    "reviews.dtypes"
   ]
  },
  {
   "cell_type": "code",
   "execution_count": null,
   "metadata": {},
   "outputs": [],
   "source": []
  },
  {
   "cell_type": "code",
   "execution_count": 11,
   "metadata": {},
   "outputs": [],
   "source": [
    "# ADD WORD COUNT FOR REVIEW LENGTH TO THE INTEGRATED REVIEW DATAFRAME "
   ]
  },
  {
   "cell_type": "code",
   "execution_count": 12,
   "metadata": {},
   "outputs": [],
   "source": [
    "# Add word count as a separate column \n",
    "reviews['totalwords'] = reviews['text'].str.split().str.len()"
   ]
  },
  {
   "cell_type": "code",
   "execution_count": 13,
   "metadata": {},
   "outputs": [
    {
     "data": {
      "text/plain": [
       "totalwords                      1.000000\n",
       "useful                          0.290349\n",
       "funny                           0.189547\n",
       "cool                            0.176339\n",
       "stars                           0.172301\n",
       "is_it_a_five                    0.164583\n",
       "is_it_a_four_or_five            0.164003\n",
       "is_it_a_one_or_two              0.135589\n",
       "friend_count                    0.127337\n",
       "year                            0.123099\n",
       "review_count_user_id            0.118386\n",
       "is_it_a_one_or_five             0.096155\n",
       "is_it_a_one                     0.093568\n",
       "useful_business_id              0.064366\n",
       "biz_star_mean                   0.063634\n",
       "stars_for_business_id           0.062829\n",
       "biz_review_count                0.044432\n",
       "review_count_for_business_id    0.044113\n",
       "is_open                         0.039818\n",
       "biz_star_min                    0.036979\n",
       "biz_star_std                    0.036761\n",
       "latitude                        0.033219\n",
       "biz_star_max                    0.023222\n",
       "earliest_to_latest_years        0.016413\n",
       "lat_lon_cluster                 0.007581\n",
       "longitude                       0.005875\n",
       "Name: totalwords, dtype: float64"
      ]
     },
     "execution_count": 13,
     "metadata": {},
     "output_type": "execute_result"
    }
   ],
   "source": [
    "# Check for any correlations for totalwords\n",
    "abs(reviews.corr()['totalwords']).sort_values(ascending=False)"
   ]
  },
  {
   "cell_type": "code",
   "execution_count": null,
   "metadata": {},
   "outputs": [],
   "source": []
  },
  {
   "cell_type": "code",
   "execution_count": 14,
   "metadata": {},
   "outputs": [],
   "source": [
    "# FORMAT ELITE COLUMN INTO A BINARY "
   ]
  },
  {
   "cell_type": "code",
   "execution_count": 15,
   "metadata": {},
   "outputs": [
    {
     "data": {
      "text/plain": [
       "2014,2015,2017                                  1\n",
       "2010,2011,2012,2013,2015,2016,2017,2018         1\n",
       "2010,2011,2018                                  1\n",
       "2009,2010,2011,2012,2017                        1\n",
       "2010,2011,2012,2016,2017,2018                   1\n",
       "                                            ...  \n",
       "2015,2016,2017,2018                          5327\n",
       "2016,2017,2018                               7098\n",
       "2017,2018                                    7604\n",
       "2018                                         8897\n",
       "0                                          234147\n",
       "Name: elite_no_nan, Length: 256, dtype: int64"
      ]
     },
     "execution_count": 15,
     "metadata": {},
     "output_type": "execute_result"
    }
   ],
   "source": [
    "reviews.elite_no_nan.value_counts().sort_values()"
   ]
  },
  {
   "cell_type": "code",
   "execution_count": 16,
   "metadata": {},
   "outputs": [],
   "source": [
    "# 1. Create a new column indicating binary result of whther a user is elite or not\n",
    "def elite_or_not (i):\n",
    "    if i == '0':\n",
    "        return 0\n",
    "    else:\n",
    "        return 1\n",
    "reviews['elite_yes_no'] = reviews['elite_no_nan'].apply(elite_or_not)"
   ]
  },
  {
   "cell_type": "code",
   "execution_count": null,
   "metadata": {},
   "outputs": [],
   "source": []
  },
  {
   "cell_type": "code",
   "execution_count": 17,
   "metadata": {},
   "outputs": [],
   "source": [
    "# USER REVIEW COUNT RANGES"
   ]
  },
  {
   "cell_type": "code",
   "execution_count": 18,
   "metadata": {},
   "outputs": [
    {
     "data": {
      "text/html": [
       "<div>\n",
       "<style scoped>\n",
       "    .dataframe tbody tr th:only-of-type {\n",
       "        vertical-align: middle;\n",
       "    }\n",
       "\n",
       "    .dataframe tbody tr th {\n",
       "        vertical-align: top;\n",
       "    }\n",
       "\n",
       "    .dataframe thead th {\n",
       "        text-align: right;\n",
       "    }\n",
       "</style>\n",
       "<table border=\"1\" class=\"dataframe\">\n",
       "  <thead>\n",
       "    <tr style=\"text-align: right;\">\n",
       "      <th></th>\n",
       "      <th>user_id</th>\n",
       "      <th>user_review_count</th>\n",
       "    </tr>\n",
       "    <tr>\n",
       "      <th>user_review_count</th>\n",
       "      <th></th>\n",
       "      <th></th>\n",
       "    </tr>\n",
       "  </thead>\n",
       "  <tbody>\n",
       "    <tr>\n",
       "      <td>(0, 1]</td>\n",
       "      <td>53959</td>\n",
       "      <td>53959</td>\n",
       "    </tr>\n",
       "    <tr>\n",
       "      <td>(1, 2]</td>\n",
       "      <td>14516</td>\n",
       "      <td>14516</td>\n",
       "    </tr>\n",
       "    <tr>\n",
       "      <td>(2, 5]</td>\n",
       "      <td>13682</td>\n",
       "      <td>13682</td>\n",
       "    </tr>\n",
       "    <tr>\n",
       "      <td>(5, 10]</td>\n",
       "      <td>5704</td>\n",
       "      <td>5704</td>\n",
       "    </tr>\n",
       "    <tr>\n",
       "      <td>(10, 20]</td>\n",
       "      <td>2812</td>\n",
       "      <td>2812</td>\n",
       "    </tr>\n",
       "    <tr>\n",
       "      <td>(20, 50]</td>\n",
       "      <td>1362</td>\n",
       "      <td>1362</td>\n",
       "    </tr>\n",
       "    <tr>\n",
       "      <td>(50, 100]</td>\n",
       "      <td>399</td>\n",
       "      <td>399</td>\n",
       "    </tr>\n",
       "    <tr>\n",
       "      <td>(100, 200]</td>\n",
       "      <td>141</td>\n",
       "      <td>141</td>\n",
       "    </tr>\n",
       "    <tr>\n",
       "      <td>(200, 500]</td>\n",
       "      <td>40</td>\n",
       "      <td>40</td>\n",
       "    </tr>\n",
       "    <tr>\n",
       "      <td>(500, 1000]</td>\n",
       "      <td>7</td>\n",
       "      <td>7</td>\n",
       "    </tr>\n",
       "    <tr>\n",
       "      <td>(1000, 5000]</td>\n",
       "      <td>0</td>\n",
       "      <td>0</td>\n",
       "    </tr>\n",
       "    <tr>\n",
       "      <td>(5000, 15000]</td>\n",
       "      <td>0</td>\n",
       "      <td>0</td>\n",
       "    </tr>\n",
       "  </tbody>\n",
       "</table>\n",
       "</div>"
      ],
      "text/plain": [
       "                   user_id  user_review_count\n",
       "user_review_count                            \n",
       "(0, 1]               53959              53959\n",
       "(1, 2]               14516              14516\n",
       "(2, 5]               13682              13682\n",
       "(5, 10]               5704               5704\n",
       "(10, 20]              2812               2812\n",
       "(20, 50]              1362               1362\n",
       "(50, 100]              399                399\n",
       "(100, 200]             141                141\n",
       "(200, 500]              40                 40\n",
       "(500, 1000]              7                  7\n",
       "(1000, 5000]             0                  0\n",
       "(5000, 15000]            0                  0"
      ]
     },
     "execution_count": 18,
     "metadata": {},
     "output_type": "execute_result"
    }
   ],
   "source": [
    "# Create a new dataframe counting the number of reviews by user\n",
    "users_review_count = pd.DataFrame(reviews.groupby('user_id').user_id.count())\n",
    "users_review_count.columns = ['user_review_count']\n",
    "users_review_count.reset_index(level=0, inplace=True)\n",
    "# break out by ranges of the number of reviews written per user\n",
    "ranges = [0,1,2,5,10,20,50,100,200,500,1000, 5000, 15000]\n",
    "users_review_count.groupby(pd.cut(users_review_count.user_review_count, ranges)).count()"
   ]
  },
  {
   "cell_type": "code",
   "execution_count": null,
   "metadata": {},
   "outputs": [],
   "source": []
  },
  {
   "cell_type": "code",
   "execution_count": 19,
   "metadata": {},
   "outputs": [],
   "source": [
    "# USER SEGMENT 1: ELITE "
   ]
  },
  {
   "cell_type": "code",
   "execution_count": 20,
   "metadata": {},
   "outputs": [
    {
     "name": "stdout",
     "output_type": "stream",
     "text": [
      "ELITE\n",
      "- The number of Elite reviewers as a percentage of total reviewers: 6.7%\n",
      "- Number of reviews from Elite reviewers as a % of total: 27.1%\n",
      "- Aggregate percentage of reviews written by Elite users that is a '1' star rating : 4.3%\n",
      "- Aggregate percentage of reviews written by Elite users that is either a '4' or '5': 70.2%\n"
     ]
    },
    {
     "data": {
      "image/png": "[encoded data removed]",
      "text/plain": [
       "<Figure size 432x288 with 1 Axes>"
      ]
     },
     "metadata": {
      "needs_background": "light"
     },
     "output_type": "display_data"
    }
   ],
   "source": [
    "print('ELITE')\n",
    "print('- The number of Elite reviewers as a percentage of total reviewers: ' + (users.elite.count() / len(users)*100).astype(float).round(1).astype(str) + '%')\n",
    "print('- Number of reviews from Elite reviewers as a % of total: ' + np.around((reviews.elite_yes_no.sum() / reviews.elite_yes_no.count())*100, decimals = 1).astype(str) + '%')\n",
    "elite = reviews[reviews.elite_yes_no == 1]\n",
    "print(\"- Aggregate percentage of reviews written by Elite users that is a '1' star rating : \" + np.around((elite['is_it_a_one'].sum() / elite['is_it_a_one'].count())*100, decimals = 1).astype(str) + '%')\n",
    "print(\"- Aggregate percentage of reviews written by Elite users that is either a '4' or '5': \" + np.around((elite['is_it_a_four_or_five'].sum() / elite['is_it_a_four_or_five'].count())*100, decimals = 1).astype(str) + '%')\n",
    "elite['stars'].plot(kind='hist', bins=20, title = \"Aggregate Frequency of Elite Users' Star Ratings\");"
   ]
  },
  {
   "cell_type": "code",
   "execution_count": null,
   "metadata": {},
   "outputs": [],
   "source": []
  },
  {
   "cell_type": "code",
   "execution_count": 21,
   "metadata": {},
   "outputs": [],
   "source": [
    "# USER SEGMENT 2: NOT ELITE "
   ]
  },
  {
   "cell_type": "code",
   "execution_count": 22,
   "metadata": {},
   "outputs": [
    {
     "name": "stdout",
     "output_type": "stream",
     "text": [
      "NOT ELITE\n",
      "- The number of non Elite reviewers as a percentage of total reviewers: 93.3%\n",
      "- Number of reviews from non Elite reviewers as a % of total: 72.9%\n",
      "- Aggregate percentage of reviews written by non Elite users that is a '1' star rating : 18.7%\n",
      "- Aggregate percentage of reviews written by non Elite users that is either a '4' or '5': 62.6%\n"
     ]
    },
    {
     "data": {
      "image/png": "[encoded data removed]",
      "text/plain": [
       "<Figure size 432x288 with 1 Axes>"
      ]
     },
     "metadata": {
      "needs_background": "light"
     },
     "output_type": "display_data"
    }
   ],
   "source": [
    "print('NOT ELITE')\n",
    "print('- The number of non Elite reviewers as a percentage of total reviewers: ' + ((users.user_id.count() - users.elite.count()) / len(users)*100).astype(float).round(1).astype(str) + '%')\n",
    "print('- Number of reviews from non Elite reviewers as a % of total: ' + np.around(((reviews.elite_yes_no.count() -reviews.elite_yes_no.sum()) / reviews.elite_yes_no.count())*100, decimals = 1).astype(str) + '%')\n",
    "non_elite = reviews[reviews.elite_yes_no != 1]\n",
    "print(\"- Aggregate percentage of reviews written by non Elite users that is a '1' star rating : \" + np.around((non_elite['is_it_a_one'].sum() / non_elite['is_it_a_one'].count())*100, decimals = 1).astype(str) + '%')\n",
    "print(\"- Aggregate percentage of reviews written by non Elite users that is either a '4' or '5': \" + np.around((non_elite['is_it_a_four_or_five'].sum() / non_elite['is_it_a_four_or_five'].count())*100, decimals = 1).astype(str) + '%')\n",
    "non_elite['stars'].plot(kind='hist', bins=20, title = \"Aggregate Frequency of Non Elite Users' Star Ratings\");"
   ]
  },
  {
   "cell_type": "code",
   "execution_count": null,
   "metadata": {},
   "outputs": [],
   "source": []
  },
  {
   "cell_type": "code",
   "execution_count": 23,
   "metadata": {},
   "outputs": [],
   "source": [
    "# USER SEGMENT 3: USERS WHO HAVE WRITTEN ONLY ONE REVIEW"
   ]
  },
  {
   "cell_type": "code",
   "execution_count": 24,
   "metadata": {},
   "outputs": [
    {
     "name": "stdout",
     "output_type": "stream",
     "text": [
      "USERS WHO HAVE WRITTEN ONLY ONE REVIEW\n",
      "- The number of users who have written only one review as a percentage of total reviewers: 58.3%\n",
      "- Number of reviews from users who have written only one review as a % of total: 16.8%\n",
      "- Agg. percentage of reviews written by users who have written only one review that is a '1' star rating : 35.7%\n",
      "- Agg. percentage of reviews written by users who have written only one review that is either a '4' or '5': 52.7%\n"
     ]
    },
    {
     "data": {
      "image/png": "[encoded data removed]",
      "text/plain": [
       "<Figure size 432x288 with 1 Axes>"
      ]
     },
     "metadata": {
      "needs_background": "light"
     },
     "output_type": "display_data"
    }
   ],
   "source": [
    "print('USERS WHO HAVE WRITTEN ONLY ONE REVIEW')\n",
    "print('- The number of users who have written only one review as a percentage of total reviewers: ' + str(round(len(users_review_count[users_review_count.user_review_count == 1])/ len(users_review_count)*100, 1)) + '%')\n",
    "print('- Number of reviews from users who have written only one review as a % of total: ' + str(round(len(users_review_count[users_review_count.user_review_count == 1]) / reviews.user_id.count()*100, 1)) + '%')\n",
    "user_one_review = reviews[reviews.review_count_user_id == 1]\n",
    "print(\"- Agg. percentage of reviews written by users who have written only one review that is a '1' star rating : \" + np.around((user_one_review['is_it_a_one'].sum() / user_one_review['is_it_a_one'].count())*100, decimals = 1).astype(str) + '%')\n",
    "print(\"- Agg. percentage of reviews written by users who have written only one review that is either a '4' or '5': \" + np.around((user_one_review['is_it_a_four_or_five'].sum() / user_one_review['is_it_a_four_or_five'].count())*100, decimals = 1).astype(str) + '%')\n",
    "user_one_review['stars'].plot(kind='hist', bins=20, title = \"Aggregate frequency of users who have written only one review's star ratings\");"
   ]
  },
  {
   "cell_type": "code",
   "execution_count": null,
   "metadata": {},
   "outputs": [],
   "source": []
  },
  {
   "cell_type": "code",
   "execution_count": 25,
   "metadata": {},
   "outputs": [],
   "source": [
    "# USER SEGMENT 4: USERS WHO HAVE WRITTEN 20 OR MORE REVIEWS"
   ]
  },
  {
   "cell_type": "code",
   "execution_count": 26,
   "metadata": {},
   "outputs": [
    {
     "name": "stdout",
     "output_type": "stream",
     "text": [
      "USERS WHO HAVE WRITTEN 20 OR MORE REVIEWS\n",
      "- The number of users who have written more than 20 reviews as a percentage of total reviewers: 2.3%\n",
      "- Number of reviews from users who have written more than 20 reviews as a % of total: 52.8%\n",
      "- Agg. percentage of reviews written by users who have written more than 20 reviews that is a '1' star rating : 8.1%\n",
      "- Agg. percentage of reviews written by users who have written more than 20 reviews that is either a '4' or '5': 67.5%\n"
     ]
    },
    {
     "data": {
      "image/png": "[encoded data removed]",
      "text/plain": [
       "<Figure size 432x288 with 1 Axes>"
      ]
     },
     "metadata": {
      "needs_background": "light"
     },
     "output_type": "display_data"
    }
   ],
   "source": [
    "print('USERS WHO HAVE WRITTEN 20 OR MORE REVIEWS')\n",
    "print('- The number of users who have written more than 20 reviews as a percentage of total reviewers: ' + str(round(len(users_review_count[users_review_count.user_review_count >= 20])/ len(users_review_count)*100, 1)) + '%')\n",
    "print('- Number of reviews from users who have written more than 20 reviews as a % of total: ' + str(round((reviews[reviews.review_count_user_id >= 20].review_id.count() / reviews.review_id.count())*100, 1)) + '%')\n",
    "user_20_plus_reviews = reviews[reviews.review_count_user_id >= 20]\n",
    "print(\"- Agg. percentage of reviews written by users who have written more than 20 reviews that is a '1' star rating : \" + np.around((user_20_plus_reviews['is_it_a_one'].sum() / user_20_plus_reviews['is_it_a_one'].count())*100, decimals = 1).astype(str) + '%')\n",
    "print(\"- Agg. percentage of reviews written by users who have written more than 20 reviews that is either a '4' or '5': \" + np.around((user_20_plus_reviews['is_it_a_four_or_five'].sum() / user_20_plus_reviews['is_it_a_four_or_five'].count())*100, decimals = 1).astype(str) + '%')\n",
    "user_20_plus_reviews['stars'].plot(kind='hist', bins=20, title = \"Aggregate frequency of users who have written more than 20 reviews's star ratings\");"
   ]
  },
  {
   "cell_type": "code",
   "execution_count": null,
   "metadata": {},
   "outputs": [],
   "source": []
  },
  {
   "cell_type": "code",
   "execution_count": 27,
   "metadata": {},
   "outputs": [],
   "source": [
    "# BUSINESSES"
   ]
  },
  {
   "cell_type": "code",
   "execution_count": 28,
   "metadata": {},
   "outputs": [
    {
     "data": {
      "image/png": "[encoded data removed]",
      "text/plain": [
       "<Figure size 432x288 with 1 Axes>"
      ]
     },
     "metadata": {
      "needs_background": "light"
     },
     "output_type": "display_data"
    }
   ],
   "source": [
    "# Aggregate mean ratings rounded \n",
    "business.stars.plot(kind='hist', bins=25, title= 'Freq. of av. star ratings for businesses in OH');"
   ]
  },
  {
   "cell_type": "code",
   "execution_count": 29,
   "metadata": {},
   "outputs": [
    {
     "data": {
      "text/html": [
       "<div>\n",
       "<style scoped>\n",
       "    .dataframe tbody tr th:only-of-type {\n",
       "        vertical-align: middle;\n",
       "    }\n",
       "\n",
       "    .dataframe tbody tr th {\n",
       "        vertical-align: top;\n",
       "    }\n",
       "\n",
       "    .dataframe thead th {\n",
       "        text-align: right;\n",
       "    }\n",
       "</style>\n",
       "<table border=\"1\" class=\"dataframe\">\n",
       "  <thead>\n",
       "    <tr style=\"text-align: right;\">\n",
       "      <th></th>\n",
       "      <th>business_review_count</th>\n",
       "    </tr>\n",
       "    <tr>\n",
       "      <th>business_review_count</th>\n",
       "      <th></th>\n",
       "    </tr>\n",
       "  </thead>\n",
       "  <tbody>\n",
       "    <tr>\n",
       "      <td>(0, 2]</td>\n",
       "      <td>0</td>\n",
       "    </tr>\n",
       "    <tr>\n",
       "      <td>(2, 3]</td>\n",
       "      <td>3075</td>\n",
       "    </tr>\n",
       "    <tr>\n",
       "      <td>(3, 5]</td>\n",
       "      <td>2734</td>\n",
       "    </tr>\n",
       "    <tr>\n",
       "      <td>(5, 10]</td>\n",
       "      <td>3205</td>\n",
       "    </tr>\n",
       "    <tr>\n",
       "      <td>(10, 20]</td>\n",
       "      <td>2280</td>\n",
       "    </tr>\n",
       "    <tr>\n",
       "      <td>(20, 50]</td>\n",
       "      <td>1926</td>\n",
       "    </tr>\n",
       "    <tr>\n",
       "      <td>(50, 100]</td>\n",
       "      <td>867</td>\n",
       "    </tr>\n",
       "    <tr>\n",
       "      <td>(100, 200]</td>\n",
       "      <td>453</td>\n",
       "    </tr>\n",
       "    <tr>\n",
       "      <td>(200, 500]</td>\n",
       "      <td>129</td>\n",
       "    </tr>\n",
       "    <tr>\n",
       "      <td>(500, 1000]</td>\n",
       "      <td>25</td>\n",
       "    </tr>\n",
       "    <tr>\n",
       "      <td>(1000, 3000]</td>\n",
       "      <td>3</td>\n",
       "    </tr>\n",
       "  </tbody>\n",
       "</table>\n",
       "</div>"
      ],
      "text/plain": [
       "                       business_review_count\n",
       "business_review_count                       \n",
       "(0, 2]                                     0\n",
       "(2, 3]                                  3075\n",
       "(3, 5]                                  2734\n",
       "(5, 10]                                 3205\n",
       "(10, 20]                                2280\n",
       "(20, 50]                                1926\n",
       "(50, 100]                                867\n",
       "(100, 200]                               453\n",
       "(200, 500]                               129\n",
       "(500, 1000]                               25\n",
       "(1000, 3000]                               3"
      ]
     },
     "execution_count": 29,
     "metadata": {},
     "output_type": "execute_result"
    }
   ],
   "source": [
    "business_review_count = pd.DataFrame(reviews.groupby('business_id').business_id.count())\n",
    "business_review_count.columns = ['business_review_count']\n",
    "business.reset_index(level=0, inplace=True)\n",
    "# break out by ranges of the number of reviews written per user\n",
    "ranges = [0,2,3,5,10,20,50,100,200,500,1000, 3000]\n",
    "business_review_count.groupby(pd.cut(business_review_count.business_review_count, ranges)).count()"
   ]
  },
  {
   "cell_type": "code",
   "execution_count": 30,
   "metadata": {},
   "outputs": [],
   "source": [
    "# BUSINESS SEGMENT 1: BUSINESSES THAT HAVE ONLY BEEN REVIEWED 3 TIMES"
   ]
  },
  {
   "cell_type": "code",
   "execution_count": null,
   "metadata": {},
   "outputs": [],
   "source": []
  },
  {
   "cell_type": "code",
   "execution_count": 31,
   "metadata": {},
   "outputs": [
    {
     "name": "stdout",
     "output_type": "stream",
     "text": [
      "- The number of businesses that have been reviewed 3 times as a percentage of total businesses: 22.2%\n",
      "- The number of reviews for businesses that have been reviewed 3 times as a % of total: 9.4%\n",
      "- Agg. percentage of reviews for businesses that have been reviewed 3 times  that is a '1' star rating : 28.9%\n",
      "- Agg. percentage of reviews for businesses that have been reviewed 3 times  that is either a '4' or '5': 58.9%\n"
     ]
    },
    {
     "data": {
      "image/png": "[encoded data removed]",
      "text/plain": [
       "<Figure size 432x288 with 1 Axes>"
      ]
     },
     "metadata": {
      "needs_background": "light"
     },
     "output_type": "display_data"
    }
   ],
   "source": [
    "# BUSINESSES THAT HAVE ONLY BEEN REVIEWED 3 TIMES\n",
    "print('- The number of businesses that have been reviewed 3 times as a percentage of total businesses: ' + str(round(len(business[business.review_count == 3]) / business.review_count.count()*100,1)) + '%')\n",
    "print('- The number of reviews for businesses that have been reviewed 3 times as a % of total: ' + str(round(len(reviews[reviews.review_count_for_business_id == 3])*3 / reviews.review_count_for_business_id.count()*100,1)) + '%')\n",
    "businesses_3_reviews = reviews[reviews.review_count_for_business_id == 3]\n",
    "print(\"- Agg. percentage of reviews for businesses that have been reviewed 3 times  that is a '1' star rating : \" + np.around((businesses_3_reviews['is_it_a_one'].sum() / businesses_3_reviews['is_it_a_one'].count())*100, decimals = 1).astype(str) + '%')\n",
    "print(\"- Agg. percentage of reviews for businesses that have been reviewed 3 times  that is either a '4' or '5': \" + np.around((businesses_3_reviews['is_it_a_four_or_five'].sum() / businesses_3_reviews['is_it_a_four_or_five'].count())*100, decimals = 1).astype(str) + '%')\n",
    "businesses_3_reviews['stars'].plot(kind='hist', bins=20, title = \"Agg. frequency of star ratings for businesses that have been reviewed 3 times\");"
   ]
  },
  {
   "cell_type": "code",
   "execution_count": null,
   "metadata": {},
   "outputs": [],
   "source": []
  },
  {
   "cell_type": "code",
   "execution_count": 42,
   "metadata": {},
   "outputs": [
    {
     "name": "stdout",
     "output_type": "stream",
     "text": [
      "- The number of businesses that have been reviewed 10 times or less as a percentage of total businesses: 62.3%\n",
      "- The number of reviews for businesses that have been reviewed 10 times or less as a % of total: 44.3%\n",
      "- Agg. percentage of reviews for businesses that have been reviewed 10 times or less that had a '1' star rating : 25.1%\n",
      "- Agg. percentage of reviews for businesses that have been reviewed 10 times or less that had either a '4' or '5': 59.9%\n"
     ]
    },
    {
     "data": {
      "image/png": "[encoded data removed]",
      "text/plain": [
       "<Figure size 432x288 with 1 Axes>"
      ]
     },
     "metadata": {
      "needs_background": "light"
     },
     "output_type": "display_data"
    }
   ],
   "source": [
    "# BUSINESSES THAT HAVE ONLY BEEN REVIEWED 10 TIMES OR LESS\n",
    "print('- The number of businesses that have been reviewed 10 times or less as a percentage of total businesses: ' + str(round(len(business[business.review_count <= 10]) / business.review_count.count()*100,1)) + '%')\n",
    "print('- The number of reviews for businesses that have been reviewed 10 times or less as a % of total: ' + str(round(len(reviews[reviews.review_count_for_business_id <= 10])*3 / reviews.review_count_for_business_id.count()*100,1)) + '%')\n",
    "businesses_3_reviews = reviews[reviews.review_count_for_business_id <=10]\n",
    "print(\"- Agg. percentage of reviews for businesses that have been reviewed 10 times or less that had a '1' star rating : \" + np.around((businesses_3_reviews['is_it_a_one'].sum() / businesses_3_reviews['is_it_a_one'].count())*100, decimals = 1).astype(str) + '%')\n",
    "print(\"- Agg. percentage of reviews for businesses that have been reviewed 10 times or less that had either a '4' or '5': \" + np.around((businesses_3_reviews['is_it_a_four_or_five'].sum() / businesses_3_reviews['is_it_a_four_or_five'].count())*100, decimals = 1).astype(str) + '%')\n",
    "businesses_3_reviews['stars'].plot(kind='hist', bins=20, title = \"Agg. frequency of star ratings for businesses that have been reviewed 10 times or less\");"
   ]
  },
  {
   "cell_type": "code",
   "execution_count": null,
   "metadata": {},
   "outputs": [],
   "source": []
  },
  {
   "cell_type": "code",
   "execution_count": null,
   "metadata": {},
   "outputs": [],
   "source": []
  },
  {
   "cell_type": "code",
   "execution_count": 32,
   "metadata": {},
   "outputs": [],
   "source": [
    "# BUSINESS SEGMENT 2: BUSINESSES THAT HAVE BEEN REVIEWED 50+ TIMES"
   ]
  },
  {
   "cell_type": "code",
   "execution_count": 33,
   "metadata": {},
   "outputs": [
    {
     "name": "stdout",
     "output_type": "stream",
     "text": [
      "- The number of businesses that have been reviewed 50 or more times as a percentage of total businesses: 9.9%\n",
      "- The number of reviews for businesses that have been reviewed 50 or more times as a % of total: 55.5%\n",
      "- Agg. percentage of reviews for businesses that have been reviewed 50 or more times that is a '1' star rating : 28.9%\n",
      "- Agg. percentage of reviews for businesses that have been reviewed 50 or more times  that is either a '4' or '5': 58.9%\n"
     ]
    },
    {
     "data": {
      "image/png": "[encoded data removed]",
      "text/plain": [
       "<Figure size 432x288 with 1 Axes>"
      ]
     },
     "metadata": {
      "needs_background": "light"
     },
     "output_type": "display_data"
    }
   ],
   "source": [
    "# BUSINESSES THAT HAVE BEEN REVIEWED 50+ TIMES\n",
    "print('- The number of businesses that have been reviewed 50 or more times as a percentage of total businesses: ' + str(round(len(business[business.review_count >= 50]) / business.review_count.count()*100,1)) + '%')\n",
    "print('- The number of reviews for businesses that have been reviewed 50 or more times as a % of total: ' + str(round(len(reviews[reviews.review_count_for_business_id >= 50]) / reviews.review_count_for_business_id.count()*100,1)) + '%')\n",
    "businesses_50_reviews = reviews[reviews.review_count_for_business_id >= 50]\n",
    "print(\"- Agg. percentage of reviews for businesses that have been reviewed 50 or more times that is a '1' star rating : \" + np.around((businesses_3_reviews['is_it_a_one'].sum() / businesses_3_reviews['is_it_a_one'].count())*100, decimals = 1).astype(str) + '%')\n",
    "print(\"- Agg. percentage of reviews for businesses that have been reviewed 50 or more times  that is either a '4' or '5': \" + np.around((businesses_3_reviews['is_it_a_four_or_five'].sum() / businesses_3_reviews['is_it_a_four_or_five'].count())*100, decimals = 1).astype(str) + '%')\n",
    "businesses_50_reviews['stars'].plot(kind='hist', bins=20, title = \"Agg. frequency of star ratings for businesses that have been reviewed 50 or more times\");"
   ]
  },
  {
   "cell_type": "code",
   "execution_count": null,
   "metadata": {},
   "outputs": [],
   "source": []
  },
  {
   "cell_type": "code",
   "execution_count": 34,
   "metadata": {},
   "outputs": [],
   "source": [
    "# USERS WHO HAVE WRITTEN ONE REVIEW EVER AND THAT REVIEW IS FOR A BUSINESSES THAT HAVE BEEN REVIEWED ONLY THERE TIMES "
   ]
  },
  {
   "cell_type": "code",
   "execution_count": 35,
   "metadata": {},
   "outputs": [
    {
     "name": "stdout",
     "output_type": "stream",
     "text": [
      "- The number of users who have made only one review for businesses that have been reviewed only 3 times as a percentage of total businesses: 0.5%\n",
      "- The number of reviews for businesses that have been reviewed 3 times as a % of total: 9.4%\n",
      "- Agg. percentage of reviews for users who have made only one review for businesses that have been reviewed only 3 times and given a '1' star rating : 48.2%\n",
      "- Agg. percentage of reviews for users who have made only one review for businesses that have been reviewed only 3 times and given a '4' or '5' star rating: 46.3%\n"
     ]
    },
    {
     "data": {
      "image/png": "[encoded data removed]",
      "text/plain": [
       "<Figure size 432x288 with 1 Axes>"
      ]
     },
     "metadata": {
      "needs_background": "light"
     },
     "output_type": "display_data"
    }
   ],
   "source": [
    "# USERS WHO HAVE WRITTEN ONE REVIEW EVER AND THAT REVIEW IS FOR A BUSINESSES THAT HAVE BEEN REVIEWED ONLY THERE TIMES \n",
    "print('- The number of users who have made only one review for businesses that have been reviewed only 3 times as a percentage of total businesses: ' + str(round(len(businesses_3_reviews[businesses_3_reviews.review_count_user_id == 1]) / reviews.review_id.count()*100,1)) + '%')\n",
    "print('- The number of reviews for businesses that have been reviewed 3 times as a % of total: ' + str(round(len(reviews[reviews.review_count_for_business_id == 3])*3 / reviews.review_count_for_business_id.count()*100,1)) + '%')\n",
    "business_3_user_1 = businesses_3_reviews[businesses_3_reviews.review_count_user_id == 1]\n",
    "print(\"- Agg. percentage of reviews for users who have made only one review for businesses that have been reviewed only 3 times and given a '1' star rating : \" + np.around((business_3_user_1['is_it_a_one'].sum() / business_3_user_1['is_it_a_one'].count())*100, decimals = 1).astype(str) + '%')\n",
    "print(\"- Agg. percentage of reviews for users who have made only one review for businesses that have been reviewed only 3 times and given a '4' or '5' star rating: \" + np.around((business_3_user_1['is_it_a_four_or_five'].sum() / business_3_user_1['is_it_a_four_or_five'].count())*100, decimals = 1).astype(str) + '%')\n",
    "business_3_user_1['stars'].plot(kind='hist', bins=20, title = \"Agg. frequency of star ratings for users who have made only one review ever for a business that have been reviewed only 3 times and given a '1' star rating\");"
   ]
  },
  {
   "cell_type": "code",
   "execution_count": null,
   "metadata": {},
   "outputs": [],
   "source": []
  },
  {
   "cell_type": "code",
   "execution_count": 36,
   "metadata": {},
   "outputs": [],
   "source": [
    "# FIND PERCENTAGE OF REVIEWERS FOR A BUSINESS WHO ARE ELITE REVIEWERS "
   ]
  },
  {
   "cell_type": "code",
   "execution_count": 37,
   "metadata": {},
   "outputs": [
    {
     "data": {
      "text/html": [
       "<div>\n",
       "<style scoped>\n",
       "    .dataframe tbody tr th:only-of-type {\n",
       "        vertical-align: middle;\n",
       "    }\n",
       "\n",
       "    .dataframe tbody tr th {\n",
       "        vertical-align: top;\n",
       "    }\n",
       "\n",
       "    .dataframe thead th {\n",
       "        text-align: right;\n",
       "    }\n",
       "</style>\n",
       "<table border=\"1\" class=\"dataframe\">\n",
       "  <thead>\n",
       "    <tr style=\"text-align: right;\">\n",
       "      <th></th>\n",
       "      <th>biz_review_count</th>\n",
       "      <th>elite_biz_review_count</th>\n",
       "      <th>elite_percent</th>\n",
       "    </tr>\n",
       "    <tr>\n",
       "      <th>business_id</th>\n",
       "      <th></th>\n",
       "      <th></th>\n",
       "      <th></th>\n",
       "    </tr>\n",
       "  </thead>\n",
       "  <tbody>\n",
       "    <tr>\n",
       "      <td>--EF5N7P70J_UYBTPypYlA</td>\n",
       "      <td>7</td>\n",
       "      <td>0</td>\n",
       "      <td>0.0</td>\n",
       "    </tr>\n",
       "    <tr>\n",
       "      <td>--I7YYLada0tSLkORTHb5Q</td>\n",
       "      <td>100</td>\n",
       "      <td>15</td>\n",
       "      <td>15.0</td>\n",
       "    </tr>\n",
       "    <tr>\n",
       "      <td>--Ni3oJ4VOqfOEu7Sj2Vzg</td>\n",
       "      <td>6</td>\n",
       "      <td>0</td>\n",
       "      <td>0.0</td>\n",
       "    </tr>\n",
       "    <tr>\n",
       "      <td>--S62v0QgkqQaVUhFnNHrw</td>\n",
       "      <td>43</td>\n",
       "      <td>7</td>\n",
       "      <td>16.3</td>\n",
       "    </tr>\n",
       "    <tr>\n",
       "      <td>--i1tTcggBi4cPkd-h5hDg</td>\n",
       "      <td>22</td>\n",
       "      <td>6</td>\n",
       "      <td>27.3</td>\n",
       "    </tr>\n",
       "    <tr>\n",
       "      <td>...</td>\n",
       "      <td>...</td>\n",
       "      <td>...</td>\n",
       "      <td>...</td>\n",
       "    </tr>\n",
       "    <tr>\n",
       "      <td>zydbdBR6-CM8UZ6WkW1DWA</td>\n",
       "      <td>65</td>\n",
       "      <td>3</td>\n",
       "      <td>4.6</td>\n",
       "    </tr>\n",
       "    <tr>\n",
       "      <td>zz6S_y6C39iRU3h81Z1e2A</td>\n",
       "      <td>14</td>\n",
       "      <td>1</td>\n",
       "      <td>7.1</td>\n",
       "    </tr>\n",
       "    <tr>\n",
       "      <td>zzSYBWuv_fXGtSgsO-6_1g</td>\n",
       "      <td>200</td>\n",
       "      <td>69</td>\n",
       "      <td>34.5</td>\n",
       "    </tr>\n",
       "    <tr>\n",
       "      <td>zzSbDY2Ztja3Htt8bsQ6Aw</td>\n",
       "      <td>12</td>\n",
       "      <td>5</td>\n",
       "      <td>41.7</td>\n",
       "    </tr>\n",
       "    <tr>\n",
       "      <td>zzbsLej_8KtTxGwJdOb09w</td>\n",
       "      <td>8</td>\n",
       "      <td>1</td>\n",
       "      <td>12.5</td>\n",
       "    </tr>\n",
       "  </tbody>\n",
       "</table>\n",
       "<p>14697 rows × 3 columns</p>\n",
       "</div>"
      ],
      "text/plain": [
       "                        biz_review_count  elite_biz_review_count  \\\n",
       "business_id                                                        \n",
       "--EF5N7P70J_UYBTPypYlA                 7                       0   \n",
       "--I7YYLada0tSLkORTHb5Q               100                      15   \n",
       "--Ni3oJ4VOqfOEu7Sj2Vzg                 6                       0   \n",
       "--S62v0QgkqQaVUhFnNHrw                43                       7   \n",
       "--i1tTcggBi4cPkd-h5hDg                22                       6   \n",
       "...                                  ...                     ...   \n",
       "zydbdBR6-CM8UZ6WkW1DWA                65                       3   \n",
       "zz6S_y6C39iRU3h81Z1e2A                14                       1   \n",
       "zzSYBWuv_fXGtSgsO-6_1g               200                      69   \n",
       "zzSbDY2Ztja3Htt8bsQ6Aw                12                       5   \n",
       "zzbsLej_8KtTxGwJdOb09w                 8                       1   \n",
       "\n",
       "                        elite_percent  \n",
       "business_id                            \n",
       "--EF5N7P70J_UYBTPypYlA            0.0  \n",
       "--I7YYLada0tSLkORTHb5Q           15.0  \n",
       "--Ni3oJ4VOqfOEu7Sj2Vzg            0.0  \n",
       "--S62v0QgkqQaVUhFnNHrw           16.3  \n",
       "--i1tTcggBi4cPkd-h5hDg           27.3  \n",
       "...                               ...  \n",
       "zydbdBR6-CM8UZ6WkW1DWA            4.6  \n",
       "zz6S_y6C39iRU3h81Z1e2A            7.1  \n",
       "zzSYBWuv_fXGtSgsO-6_1g           34.5  \n",
       "zzSbDY2Ztja3Htt8bsQ6Aw           41.7  \n",
       "zzbsLej_8KtTxGwJdOb09w           12.5  \n",
       "\n",
       "[14697 rows x 3 columns]"
      ]
     },
     "execution_count": 37,
     "metadata": {},
     "output_type": "execute_result"
    }
   ],
   "source": [
    "# Find count of reviews of elite reviewers by business_id\n",
    "elite_count = reviews.groupby('business_id').elite_yes_no.sum()\n",
    "# Find count of reviews of all reviewers by business_id\n",
    "all_business_count = reviews.groupby('business_id').business_id.count()\n",
    "# Combine series into a new dataframe \n",
    "elite_percent = pd.concat([all_business_count, elite_count], axis=1)\n",
    "elite_percent.columns = ['biz_review_count', 'elite_biz_review_count']\n",
    "elite_percent.reset_index()\n",
    "# Calculate Elite as % of total \n",
    "elite_percent['elite_percent'] = round((elite_percent['elite_biz_review_count'] / elite_percent['biz_review_count'])*100, 1)\n",
    "elite_percent"
   ]
  },
  {
   "cell_type": "code",
   "execution_count": 38,
   "metadata": {},
   "outputs": [
    {
     "data": {
      "text/html": [
       "<div>\n",
       "<style scoped>\n",
       "    .dataframe tbody tr th:only-of-type {\n",
       "        vertical-align: middle;\n",
       "    }\n",
       "\n",
       "    .dataframe tbody tr th {\n",
       "        vertical-align: top;\n",
       "    }\n",
       "\n",
       "    .dataframe thead th {\n",
       "        text-align: right;\n",
       "    }\n",
       "</style>\n",
       "<table border=\"1\" class=\"dataframe\">\n",
       "  <thead>\n",
       "    <tr style=\"text-align: right;\">\n",
       "      <th></th>\n",
       "      <th>biz_review_count</th>\n",
       "      <th>elite_biz_review_count</th>\n",
       "      <th>elite_percent</th>\n",
       "    </tr>\n",
       "  </thead>\n",
       "  <tbody>\n",
       "    <tr>\n",
       "      <td>count</td>\n",
       "      <td>14697.000000</td>\n",
       "      <td>14697.000000</td>\n",
       "      <td>14697.000000</td>\n",
       "    </tr>\n",
       "    <tr>\n",
       "      <td>mean</td>\n",
       "      <td>21.864666</td>\n",
       "      <td>5.933048</td>\n",
       "      <td>23.364449</td>\n",
       "    </tr>\n",
       "    <tr>\n",
       "      <td>std</td>\n",
       "      <td>48.753532</td>\n",
       "      <td>16.421520</td>\n",
       "      <td>20.987921</td>\n",
       "    </tr>\n",
       "    <tr>\n",
       "      <td>min</td>\n",
       "      <td>3.000000</td>\n",
       "      <td>0.000000</td>\n",
       "      <td>0.000000</td>\n",
       "    </tr>\n",
       "    <tr>\n",
       "      <td>25%</td>\n",
       "      <td>4.000000</td>\n",
       "      <td>0.000000</td>\n",
       "      <td>0.000000</td>\n",
       "    </tr>\n",
       "    <tr>\n",
       "      <td>50%</td>\n",
       "      <td>7.000000</td>\n",
       "      <td>2.000000</td>\n",
       "      <td>21.100000</td>\n",
       "    </tr>\n",
       "    <tr>\n",
       "      <td>75%</td>\n",
       "      <td>19.000000</td>\n",
       "      <td>5.000000</td>\n",
       "      <td>33.300000</td>\n",
       "    </tr>\n",
       "    <tr>\n",
       "      <td>max</td>\n",
       "      <td>1147.000000</td>\n",
       "      <td>424.000000</td>\n",
       "      <td>100.000000</td>\n",
       "    </tr>\n",
       "  </tbody>\n",
       "</table>\n",
       "</div>"
      ],
      "text/plain": [
       "       biz_review_count  elite_biz_review_count  elite_percent\n",
       "count      14697.000000            14697.000000   14697.000000\n",
       "mean          21.864666                5.933048      23.364449\n",
       "std           48.753532               16.421520      20.987921\n",
       "min            3.000000                0.000000       0.000000\n",
       "25%            4.000000                0.000000       0.000000\n",
       "50%            7.000000                2.000000      21.100000\n",
       "75%           19.000000                5.000000      33.300000\n",
       "max         1147.000000              424.000000     100.000000"
      ]
     },
     "execution_count": 38,
     "metadata": {},
     "output_type": "execute_result"
    }
   ],
   "source": [
    "elite_percent.describe()"
   ]
  },
  {
   "cell_type": "code",
   "execution_count": 39,
   "metadata": {},
   "outputs": [
    {
     "data": {
      "text/html": [
       "<div>\n",
       "<style scoped>\n",
       "    .dataframe tbody tr th:only-of-type {\n",
       "        vertical-align: middle;\n",
       "    }\n",
       "\n",
       "    .dataframe tbody tr th {\n",
       "        vertical-align: top;\n",
       "    }\n",
       "\n",
       "    .dataframe thead th {\n",
       "        text-align: right;\n",
       "    }\n",
       "</style>\n",
       "<table border=\"1\" class=\"dataframe\">\n",
       "  <thead>\n",
       "    <tr style=\"text-align: right;\">\n",
       "      <th></th>\n",
       "      <th>biz_review_count</th>\n",
       "      <th>elite_biz_review_count</th>\n",
       "      <th>elite_percent</th>\n",
       "    </tr>\n",
       "  </thead>\n",
       "  <tbody>\n",
       "    <tr>\n",
       "      <td>biz_review_count</td>\n",
       "      <td>1.000000</td>\n",
       "      <td>0.949368</td>\n",
       "      <td>0.080580</td>\n",
       "    </tr>\n",
       "    <tr>\n",
       "      <td>elite_biz_review_count</td>\n",
       "      <td>0.949368</td>\n",
       "      <td>1.000000</td>\n",
       "      <td>0.199713</td>\n",
       "    </tr>\n",
       "    <tr>\n",
       "      <td>elite_percent</td>\n",
       "      <td>0.080580</td>\n",
       "      <td>0.199713</td>\n",
       "      <td>1.000000</td>\n",
       "    </tr>\n",
       "  </tbody>\n",
       "</table>\n",
       "</div>"
      ],
      "text/plain": [
       "                        biz_review_count  elite_biz_review_count  \\\n",
       "biz_review_count                1.000000                0.949368   \n",
       "elite_biz_review_count          0.949368                1.000000   \n",
       "elite_percent                   0.080580                0.199713   \n",
       "\n",
       "                        elite_percent  \n",
       "biz_review_count             0.080580  \n",
       "elite_biz_review_count       0.199713  \n",
       "elite_percent                1.000000  "
      ]
     },
     "execution_count": 39,
     "metadata": {},
     "output_type": "execute_result"
    }
   ],
   "source": [
    "elite_percent.corr()"
   ]
  },
  {
   "cell_type": "code",
   "execution_count": 40,
   "metadata": {},
   "outputs": [
    {
     "data": {
      "text/plain": [
       "Text(0.5, 1, 'Correlation between review count and elite biz review count by business id')"
      ]
     },
     "execution_count": 40,
     "metadata": {},
     "output_type": "execute_result"
    },
    {
     "data": {
      "image/png": "[encoded data removed]",
      "text/plain": [
       "<Figure size 540x360 with 1 Axes>"
      ]
     },
     "metadata": {
      "needs_background": "light"
     },
     "output_type": "display_data"
    }
   ],
   "source": [
    "# Check visual correlation between total review count and elite review count by business\n",
    "sns.lmplot(x='biz_review_count', y='elite_biz_review_count', data=elite_percent, aspect=1.5, scatter_kws={'alpha':0.2});\n",
    "plt.title('Correlation between review count and elite biz review count by business id')"
   ]
  },
  {
   "cell_type": "code",
   "execution_count": 41,
   "metadata": {},
   "outputs": [
    {
     "data": {
      "text/plain": [
       "Text(0.5, 1, 'Correlation between review count and elite biz review count by business id')"
      ]
     },
     "execution_count": 41,
     "metadata": {},
     "output_type": "execute_result"
    },
    {
     "data": {
      "image/png": "[encoded data removed]",
      "text/plain": [
       "<Figure size 540x360 with 1 Axes>"
      ]
     },
     "metadata": {
      "needs_background": "light"
     },
     "output_type": "display_data"
    }
   ],
   "source": [
    "# Check visual correlation between total review count and elite review count by business\n",
    "sns.lmplot(x='biz_review_count', y='elite_percent', data=elite_percent, aspect=1.5, scatter_kws={'alpha':0.2});\n",
    "plt.title('Correlation between review count and elite biz review count by business id')"
   ]
  },
  {
   "cell_type": "code",
   "execution_count": null,
   "metadata": {},
   "outputs": [],
   "source": []
  },
  {
   "cell_type": "code",
   "execution_count": 42,
   "metadata": {},
   "outputs": [],
   "source": [
    "business_20_plus_reviews = reviews[reviews.review_count_for_business_id >= 20]"
   ]
  },
  {
   "cell_type": "code",
   "execution_count": 43,
   "metadata": {},
   "outputs": [
    {
     "name": "stderr",
     "output_type": "stream",
     "text": [
      "/Users/hanhuang/opt/anaconda3/lib/python3.7/site-packages/ipykernel_launcher.py:7: SettingWithCopyWarning: \n",
      "A value is trying to be set on a copy of a slice from a DataFrame.\n",
      "Try using .loc[row_indexer,col_indexer] = value instead\n",
      "\n",
      "See the caveats in the documentation: http://pandas.pydata.org/pandas-docs/stable/user_guide/indexing.html#returning-a-view-versus-a-copy\n",
      "  import sys\n"
     ]
    }
   ],
   "source": [
    "# Tag reviews with binary is user review count over 20\n",
    "def user_review_count (z):\n",
    "    if z >= 20:\n",
    "        return 1\n",
    "    else:\n",
    "        return 0\n",
    "business_20_plus_reviews['greater_than_user_review_count'] = business_20_plus_reviews['review_count_user_id'].apply(user_review_count)"
   ]
  },
  {
   "cell_type": "code",
   "execution_count": 44,
   "metadata": {},
   "outputs": [
    {
     "name": "stderr",
     "output_type": "stream",
     "text": [
      "/Users/hanhuang/opt/anaconda3/lib/python3.7/site-packages/ipykernel_launcher.py:1: UserWarning: Boolean Series key will be reindexed to match DataFrame index.\n",
      "  \"\"\"Entry point for launching an IPython kernel.\n"
     ]
    },
    {
     "data": {
      "text/html": [
       "<div>\n",
       "<style scoped>\n",
       "    .dataframe tbody tr th:only-of-type {\n",
       "        vertical-align: middle;\n",
       "    }\n",
       "\n",
       "    .dataframe tbody tr th {\n",
       "        vertical-align: top;\n",
       "    }\n",
       "\n",
       "    .dataframe thead th {\n",
       "        text-align: right;\n",
       "    }\n",
       "</style>\n",
       "<table border=\"1\" class=\"dataframe\">\n",
       "  <thead>\n",
       "    <tr style=\"text-align: right;\">\n",
       "      <th></th>\n",
       "      <th>review_id</th>\n",
       "      <th>user_id</th>\n",
       "      <th>business_id</th>\n",
       "      <th>stars</th>\n",
       "      <th>useful</th>\n",
       "      <th>funny</th>\n",
       "      <th>cool</th>\n",
       "      <th>text</th>\n",
       "      <th>date</th>\n",
       "      <th>datetime</th>\n",
       "      <th>...</th>\n",
       "      <th>earliest_to_latest_years</th>\n",
       "      <th>useful_business_id</th>\n",
       "      <th>review_count_user_id</th>\n",
       "      <th>elite_no_nan</th>\n",
       "      <th>friends</th>\n",
       "      <th>friend_count</th>\n",
       "      <th>count_of_friends_segments</th>\n",
       "      <th>totalwords</th>\n",
       "      <th>elite_yes_no</th>\n",
       "      <th>greater_than_user_review_count</th>\n",
       "    </tr>\n",
       "  </thead>\n",
       "  <tbody>\n",
       "    <tr>\n",
       "      <td>2</td>\n",
       "      <td>8swMTt9IXycp15r3WlCEmg</td>\n",
       "      <td>ITSnuLOu81doC5GGT5NMSQ</td>\n",
       "      <td>RbrZJEf8TlnP7RHaKnCtIQ</td>\n",
       "      <td>3</td>\n",
       "      <td>2</td>\n",
       "      <td>0</td>\n",
       "      <td>1</td>\n",
       "      <td>One day after I satisfy my frozen yogurt cravi...</td>\n",
       "      <td>2013-11-14 04:55:17</td>\n",
       "      <td>2013-11-14 04:55:17</td>\n",
       "      <td>...</td>\n",
       "      <td>5.28</td>\n",
       "      <td>102</td>\n",
       "      <td>444</td>\n",
       "      <td>2014,2015,2016,2017,2018</td>\n",
       "      <td>ddDS6tAePhaSO07cc6MhdA, jgMcHo1f8vUFWhK0EMnd-w...</td>\n",
       "      <td>298</td>\n",
       "      <td>201+</td>\n",
       "      <td>159</td>\n",
       "      <td>1</td>\n",
       "      <td>1</td>\n",
       "    </tr>\n",
       "  </tbody>\n",
       "</table>\n",
       "<p>1 rows × 44 columns</p>\n",
       "</div>"
      ],
      "text/plain": [
       "                review_id                 user_id             business_id  \\\n",
       "2  8swMTt9IXycp15r3WlCEmg  ITSnuLOu81doC5GGT5NMSQ  RbrZJEf8TlnP7RHaKnCtIQ   \n",
       "\n",
       "   stars  useful  funny  cool  \\\n",
       "2      3       2      0     1   \n",
       "\n",
       "                                                text                 date  \\\n",
       "2  One day after I satisfy my frozen yogurt cravi...  2013-11-14 04:55:17   \n",
       "\n",
       "              datetime  ...  earliest_to_latest_years  useful_business_id  \\\n",
       "2  2013-11-14 04:55:17  ...                      5.28                 102   \n",
       "\n",
       "   review_count_user_id              elite_no_nan  \\\n",
       "2                   444  2014,2015,2016,2017,2018   \n",
       "\n",
       "                                             friends  friend_count  \\\n",
       "2  ddDS6tAePhaSO07cc6MhdA, jgMcHo1f8vUFWhK0EMnd-w...           298   \n",
       "\n",
       "  count_of_friends_segments totalwords elite_yes_no  \\\n",
       "2                      201+        159            1   \n",
       "\n",
       "   greater_than_user_review_count  \n",
       "2                               1  \n",
       "\n",
       "[1 rows x 44 columns]"
      ]
     },
     "execution_count": 44,
     "metadata": {},
     "output_type": "execute_result"
    }
   ],
   "source": [
    "business_20_plus_reviews[reviews.review_count_user_id >= 50].head(1)"
   ]
  },
  {
   "cell_type": "code",
   "execution_count": 45,
   "metadata": {},
   "outputs": [
    {
     "data": {
      "text/plain": [
       "0.5485314317204169"
      ]
     },
     "execution_count": 45,
     "metadata": {},
     "output_type": "execute_result"
    }
   ],
   "source": [
    "business_20_plus_reviews['greater_than_user_review_count'].sum()/ len(business_20_plus_reviews)"
   ]
  },
  {
   "cell_type": "code",
   "execution_count": null,
   "metadata": {},
   "outputs": [],
   "source": []
  },
  {
   "cell_type": "code",
   "execution_count": 46,
   "metadata": {},
   "outputs": [],
   "source": [
    "# LABELING NEEDS TO BE UPDATED"
   ]
  },
  {
   "cell_type": "code",
   "execution_count": 47,
   "metadata": {},
   "outputs": [
    {
     "data": {
      "text/html": [
       "<div>\n",
       "<style scoped>\n",
       "    .dataframe tbody tr th:only-of-type {\n",
       "        vertical-align: middle;\n",
       "    }\n",
       "\n",
       "    .dataframe tbody tr th {\n",
       "        vertical-align: top;\n",
       "    }\n",
       "\n",
       "    .dataframe thead th {\n",
       "        text-align: right;\n",
       "    }\n",
       "</style>\n",
       "<table border=\"1\" class=\"dataframe\">\n",
       "  <thead>\n",
       "    <tr style=\"text-align: right;\">\n",
       "      <th></th>\n",
       "      <th>biz_review_count</th>\n",
       "      <th>elite_biz_review_count</th>\n",
       "      <th>elite_percent</th>\n",
       "    </tr>\n",
       "    <tr>\n",
       "      <th>business_id</th>\n",
       "      <th></th>\n",
       "      <th></th>\n",
       "      <th></th>\n",
       "    </tr>\n",
       "  </thead>\n",
       "  <tbody>\n",
       "    <tr>\n",
       "      <td>--EF5N7P70J_UYBTPypYlA</td>\n",
       "      <td>7</td>\n",
       "      <td>0</td>\n",
       "      <td>0.0</td>\n",
       "    </tr>\n",
       "    <tr>\n",
       "      <td>--I7YYLada0tSLkORTHb5Q</td>\n",
       "      <td>100</td>\n",
       "      <td>15</td>\n",
       "      <td>15.0</td>\n",
       "    </tr>\n",
       "    <tr>\n",
       "      <td>--Ni3oJ4VOqfOEu7Sj2Vzg</td>\n",
       "      <td>6</td>\n",
       "      <td>0</td>\n",
       "      <td>0.0</td>\n",
       "    </tr>\n",
       "    <tr>\n",
       "      <td>--S62v0QgkqQaVUhFnNHrw</td>\n",
       "      <td>43</td>\n",
       "      <td>7</td>\n",
       "      <td>16.3</td>\n",
       "    </tr>\n",
       "    <tr>\n",
       "      <td>--i1tTcggBi4cPkd-h5hDg</td>\n",
       "      <td>22</td>\n",
       "      <td>6</td>\n",
       "      <td>27.3</td>\n",
       "    </tr>\n",
       "    <tr>\n",
       "      <td>...</td>\n",
       "      <td>...</td>\n",
       "      <td>...</td>\n",
       "      <td>...</td>\n",
       "    </tr>\n",
       "    <tr>\n",
       "      <td>zydbdBR6-CM8UZ6WkW1DWA</td>\n",
       "      <td>65</td>\n",
       "      <td>3</td>\n",
       "      <td>4.6</td>\n",
       "    </tr>\n",
       "    <tr>\n",
       "      <td>zz6S_y6C39iRU3h81Z1e2A</td>\n",
       "      <td>14</td>\n",
       "      <td>1</td>\n",
       "      <td>7.1</td>\n",
       "    </tr>\n",
       "    <tr>\n",
       "      <td>zzSYBWuv_fXGtSgsO-6_1g</td>\n",
       "      <td>200</td>\n",
       "      <td>69</td>\n",
       "      <td>34.5</td>\n",
       "    </tr>\n",
       "    <tr>\n",
       "      <td>zzSbDY2Ztja3Htt8bsQ6Aw</td>\n",
       "      <td>12</td>\n",
       "      <td>5</td>\n",
       "      <td>41.7</td>\n",
       "    </tr>\n",
       "    <tr>\n",
       "      <td>zzbsLej_8KtTxGwJdOb09w</td>\n",
       "      <td>8</td>\n",
       "      <td>1</td>\n",
       "      <td>12.5</td>\n",
       "    </tr>\n",
       "  </tbody>\n",
       "</table>\n",
       "<p>14697 rows × 3 columns</p>\n",
       "</div>"
      ],
      "text/plain": [
       "                        biz_review_count  elite_biz_review_count  \\\n",
       "business_id                                                        \n",
       "--EF5N7P70J_UYBTPypYlA                 7                       0   \n",
       "--I7YYLada0tSLkORTHb5Q               100                      15   \n",
       "--Ni3oJ4VOqfOEu7Sj2Vzg                 6                       0   \n",
       "--S62v0QgkqQaVUhFnNHrw                43                       7   \n",
       "--i1tTcggBi4cPkd-h5hDg                22                       6   \n",
       "...                                  ...                     ...   \n",
       "zydbdBR6-CM8UZ6WkW1DWA                65                       3   \n",
       "zz6S_y6C39iRU3h81Z1e2A                14                       1   \n",
       "zzSYBWuv_fXGtSgsO-6_1g               200                      69   \n",
       "zzSbDY2Ztja3Htt8bsQ6Aw                12                       5   \n",
       "zzbsLej_8KtTxGwJdOb09w                 8                       1   \n",
       "\n",
       "                        elite_percent  \n",
       "business_id                            \n",
       "--EF5N7P70J_UYBTPypYlA            0.0  \n",
       "--I7YYLada0tSLkORTHb5Q           15.0  \n",
       "--Ni3oJ4VOqfOEu7Sj2Vzg            0.0  \n",
       "--S62v0QgkqQaVUhFnNHrw           16.3  \n",
       "--i1tTcggBi4cPkd-h5hDg           27.3  \n",
       "...                               ...  \n",
       "zydbdBR6-CM8UZ6WkW1DWA            4.6  \n",
       "zz6S_y6C39iRU3h81Z1e2A            7.1  \n",
       "zzSYBWuv_fXGtSgsO-6_1g           34.5  \n",
       "zzSbDY2Ztja3Htt8bsQ6Aw           41.7  \n",
       "zzbsLej_8KtTxGwJdOb09w           12.5  \n",
       "\n",
       "[14697 rows x 3 columns]"
      ]
     },
     "execution_count": 47,
     "metadata": {},
     "output_type": "execute_result"
    }
   ],
   "source": [
    "# Find count of reviews of elite reviewers by business_id\n",
    "twenty_plus_count = user_20_plus_reviews.groupby('business_id').elite_yes_no.sum()\n",
    "\n",
    "# Find count of reviews of all reviewers by business_id\n",
    "twenty_all_business_count = user_20_plus_reviews.groupby('business_id').business_id.count()\n",
    "# Combine series into a new dataframe \n",
    "elite_percent = pd.concat([all_business_count, elite_count], axis=1)\n",
    "elite_percent.columns = ['biz_review_count', 'elite_biz_review_count']\n",
    "elite_percent.reset_index()\n",
    "# Calculate Elite as % of total \n",
    "elite_percent['elite_percent'] = round((elite_percent['elite_biz_review_count'] / elite_percent['biz_review_count'])*100, 1)\n",
    "elite_percent"
   ]
  },
  {
   "cell_type": "code",
   "execution_count": 48,
   "metadata": {},
   "outputs": [
    {
     "data": {
      "text/html": [
       "<div>\n",
       "<style scoped>\n",
       "    .dataframe tbody tr th:only-of-type {\n",
       "        vertical-align: middle;\n",
       "    }\n",
       "\n",
       "    .dataframe tbody tr th {\n",
       "        vertical-align: top;\n",
       "    }\n",
       "\n",
       "    .dataframe thead th {\n",
       "        text-align: right;\n",
       "    }\n",
       "</style>\n",
       "<table border=\"1\" class=\"dataframe\">\n",
       "  <thead>\n",
       "    <tr style=\"text-align: right;\">\n",
       "      <th></th>\n",
       "      <th>biz_review_count</th>\n",
       "      <th>elite_biz_review_count</th>\n",
       "      <th>elite_percent</th>\n",
       "    </tr>\n",
       "  </thead>\n",
       "  <tbody>\n",
       "    <tr>\n",
       "      <td>biz_review_count</td>\n",
       "      <td>1.000000</td>\n",
       "      <td>0.949368</td>\n",
       "      <td>0.080580</td>\n",
       "    </tr>\n",
       "    <tr>\n",
       "      <td>elite_biz_review_count</td>\n",
       "      <td>0.949368</td>\n",
       "      <td>1.000000</td>\n",
       "      <td>0.199713</td>\n",
       "    </tr>\n",
       "    <tr>\n",
       "      <td>elite_percent</td>\n",
       "      <td>0.080580</td>\n",
       "      <td>0.199713</td>\n",
       "      <td>1.000000</td>\n",
       "    </tr>\n",
       "  </tbody>\n",
       "</table>\n",
       "</div>"
      ],
      "text/plain": [
       "                        biz_review_count  elite_biz_review_count  \\\n",
       "biz_review_count                1.000000                0.949368   \n",
       "elite_biz_review_count          0.949368                1.000000   \n",
       "elite_percent                   0.080580                0.199713   \n",
       "\n",
       "                        elite_percent  \n",
       "biz_review_count             0.080580  \n",
       "elite_biz_review_count       0.199713  \n",
       "elite_percent                1.000000  "
      ]
     },
     "execution_count": 48,
     "metadata": {},
     "output_type": "execute_result"
    }
   ],
   "source": [
    "elite_percent.corr()"
   ]
  },
  {
   "cell_type": "code",
   "execution_count": 49,
   "metadata": {},
   "outputs": [
    {
     "data": {
      "text/plain": [
       "Text(0.5, 1, 'Correlation between review count and elite biz review count by business id')"
      ]
     },
     "execution_count": 49,
     "metadata": {},
     "output_type": "execute_result"
    },
    {
     "data": {
      "image/png": "[encoded data removed]",
      "text/plain": [
       "<Figure size 540x360 with 1 Axes>"
      ]
     },
     "metadata": {
      "needs_background": "light"
     },
     "output_type": "display_data"
    }
   ],
   "source": [
    "# Check visual correlation between total review count and elite review count by business\n",
    "sns.lmplot(x='biz_review_count', y='elite_biz_review_count', data=elite_percent, aspect=1.5, scatter_kws={'alpha':0.2});\n",
    "plt.title('Correlation between review count and elite biz review count by business id')"
   ]
  },
  {
   "cell_type": "code",
   "execution_count": 50,
   "metadata": {},
   "outputs": [
    {
     "data": {
      "image/png": "[encoded data removed]",
      "text/plain": [
       "<Figure size 432x288 with 1 Axes>"
      ]
     },
     "metadata": {
      "needs_background": "light"
     },
     "output_type": "display_data"
    }
   ],
   "source": [
    "elite_percent.plot(kind='scatter', x='biz_review_count', y='elite_percent', title = 'Percentage of elite reviewers by review count by business ID');"
   ]
  },
  {
   "cell_type": "code",
   "execution_count": 51,
   "metadata": {},
   "outputs": [
    {
     "data": {
      "text/plain": [
       "Text(0.5, 1, 'Correlation between review count and elite biz review count by business id')"
      ]
     },
     "execution_count": 51,
     "metadata": {},
     "output_type": "execute_result"
    },
    {
     "data": {
      "image/png": "[encoded data removed]",
      "text/plain": [
       "<Figure size 540x360 with 1 Axes>"
      ]
     },
     "metadata": {
      "needs_background": "light"
     },
     "output_type": "display_data"
    }
   ],
   "source": [
    "# Check visual correlation between total review count and elite review count by business\n",
    "sns.lmplot(x='biz_review_count', y='elite_percent', data=elite_percent, aspect=1.5, scatter_kws={'alpha':0.2});\n",
    "plt.title('Correlation between review count and elite biz review count by business id')"
   ]
  },
  {
   "cell_type": "code",
   "execution_count": null,
   "metadata": {},
   "outputs": [],
   "source": []
  },
  {
   "cell_type": "code",
   "execution_count": 52,
   "metadata": {},
   "outputs": [],
   "source": [
    "# Prepare Export"
   ]
  },
  {
   "cell_type": "code",
   "execution_count": 53,
   "metadata": {},
   "outputs": [
    {
     "data": {
      "text/plain": [
       "(321345, 43)"
      ]
     },
     "execution_count": 53,
     "metadata": {},
     "output_type": "execute_result"
    }
   ],
   "source": [
    "reviews.shape"
   ]
  },
  {
   "cell_type": "code",
   "execution_count": 54,
   "metadata": {},
   "outputs": [
    {
     "data": {
      "text/plain": [
       "review_id                        object\n",
       "user_id                          object\n",
       "business_id                      object\n",
       "stars                             int64\n",
       "useful                            int64\n",
       "funny                             int64\n",
       "cool                              int64\n",
       "text                             object\n",
       "date                             object\n",
       "datetime                         object\n",
       "year                              int64\n",
       "is_it_a_one                       int64\n",
       "is_it_a_five                      int64\n",
       "is_it_a_one_or_two                int64\n",
       "is_it_a_four_or_five              int64\n",
       "is_it_a_one_or_five               int64\n",
       "name_business_id                 object\n",
       "city                             object\n",
       "state                            object\n",
       "latitude                        float64\n",
       "longitude                       float64\n",
       "stars_for_business_id           float64\n",
       "review_count_for_business_id      int64\n",
       "is_open                           int64\n",
       "lat_lon_cluster                   int64\n",
       "postal_code_str                  object\n",
       "biz_review_count                  int64\n",
       "biz_star_mean                   float64\n",
       "biz_star_min                      int64\n",
       "biz_star_max                      int64\n",
       "biz_star_std                    float64\n",
       "earliest_review                  object\n",
       "latest_review                    object\n",
       "earliest_to_latest               object\n",
       "earliest_to_latest_years        float64\n",
       "useful_business_id                int64\n",
       "review_count_user_id              int64\n",
       "elite_no_nan                     object\n",
       "friends                          object\n",
       "friend_count                      int64\n",
       "count_of_friends_segments        object\n",
       "totalwords                        int64\n",
       "elite_yes_no                      int64\n",
       "dtype: object"
      ]
     },
     "execution_count": 54,
     "metadata": {},
     "output_type": "execute_result"
    }
   ],
   "source": [
    "reviews.dtypes"
   ]
  },
  {
   "cell_type": "code",
   "execution_count": 55,
   "metadata": {},
   "outputs": [
    {
     "data": {
      "text/plain": [
       "review_id                         0\n",
       "user_id                           0\n",
       "business_id                       0\n",
       "stars                             0\n",
       "useful                            0\n",
       "funny                             0\n",
       "cool                              0\n",
       "text                              0\n",
       "date                              0\n",
       "datetime                          0\n",
       "year                              0\n",
       "is_it_a_one                       0\n",
       "is_it_a_five                      0\n",
       "is_it_a_one_or_two                0\n",
       "is_it_a_four_or_five              0\n",
       "is_it_a_one_or_five               0\n",
       "name_business_id                  0\n",
       "city                              0\n",
       "state                             0\n",
       "latitude                          0\n",
       "longitude                         0\n",
       "stars_for_business_id             0\n",
       "review_count_for_business_id      0\n",
       "is_open                           0\n",
       "lat_lon_cluster                   0\n",
       "postal_code_str                 154\n",
       "biz_review_count                  0\n",
       "biz_star_mean                     0\n",
       "biz_star_min                      0\n",
       "biz_star_max                      0\n",
       "biz_star_std                      0\n",
       "earliest_review                   0\n",
       "latest_review                     0\n",
       "earliest_to_latest                0\n",
       "earliest_to_latest_years          0\n",
       "useful_business_id                0\n",
       "review_count_user_id              0\n",
       "elite_no_nan                      0\n",
       "friends                           0\n",
       "friend_count                      0\n",
       "count_of_friends_segments         0\n",
       "totalwords                        0\n",
       "elite_yes_no                      0\n",
       "dtype: int64"
      ]
     },
     "execution_count": 55,
     "metadata": {},
     "output_type": "execute_result"
    }
   ],
   "source": [
    "reviews.isnull().sum()"
   ]
  },
  {
   "cell_type": "code",
   "execution_count": 56,
   "metadata": {},
   "outputs": [
    {
     "data": {
      "text/plain": [
       "['review_id',\n",
       " 'user_id',\n",
       " 'business_id',\n",
       " 'stars',\n",
       " 'useful',\n",
       " 'funny',\n",
       " 'cool',\n",
       " 'text',\n",
       " 'date',\n",
       " 'datetime',\n",
       " 'year',\n",
       " 'is_it_a_one',\n",
       " 'is_it_a_five',\n",
       " 'is_it_a_one_or_two',\n",
       " 'is_it_a_four_or_five',\n",
       " 'is_it_a_one_or_five',\n",
       " 'name_business_id',\n",
       " 'city',\n",
       " 'state',\n",
       " 'latitude',\n",
       " 'longitude',\n",
       " 'stars_for_business_id',\n",
       " 'review_count_for_business_id',\n",
       " 'is_open',\n",
       " 'lat_lon_cluster',\n",
       " 'postal_code_str',\n",
       " 'biz_review_count',\n",
       " 'biz_star_mean',\n",
       " 'biz_star_min',\n",
       " 'biz_star_max',\n",
       " 'biz_star_std',\n",
       " 'earliest_review',\n",
       " 'latest_review',\n",
       " 'earliest_to_latest',\n",
       " 'earliest_to_latest_years',\n",
       " 'useful_business_id',\n",
       " 'review_count_user_id',\n",
       " 'elite_no_nan',\n",
       " 'friends',\n",
       " 'friend_count',\n",
       " 'count_of_friends_segments',\n",
       " 'totalwords',\n",
       " 'elite_yes_no']"
      ]
     },
     "execution_count": 56,
     "metadata": {},
     "output_type": "execute_result"
    }
   ],
   "source": [
    "reviews.columns.tolist()"
   ]
  },
  {
   "cell_type": "code",
   "execution_count": 57,
   "metadata": {},
   "outputs": [],
   "source": [
    "# Target: is_it_a_one"
   ]
  },
  {
   "cell_type": "code",
   "execution_count": 58,
   "metadata": {},
   "outputs": [],
   "source": [
    "# Features:  'latitude', 'longitude', 'review_count_for_business_id',  'is_open', 'review_count_user_id', 'elite_yes_no', 'totalwords' "
   ]
  },
  {
   "cell_type": "code",
   "execution_count": 59,
   "metadata": {},
   "outputs": [
    {
     "data": {
      "text/html": [
       "<div>\n",
       "<style scoped>\n",
       "    .dataframe tbody tr th:only-of-type {\n",
       "        vertical-align: middle;\n",
       "    }\n",
       "\n",
       "    .dataframe tbody tr th {\n",
       "        vertical-align: top;\n",
       "    }\n",
       "\n",
       "    .dataframe thead th {\n",
       "        text-align: right;\n",
       "    }\n",
       "</style>\n",
       "<table border=\"1\" class=\"dataframe\">\n",
       "  <thead>\n",
       "    <tr style=\"text-align: right;\">\n",
       "      <th></th>\n",
       "      <th>review_id</th>\n",
       "      <th>user_id</th>\n",
       "      <th>business_id</th>\n",
       "      <th>stars</th>\n",
       "      <th>useful</th>\n",
       "      <th>funny</th>\n",
       "      <th>cool</th>\n",
       "      <th>text</th>\n",
       "      <th>date</th>\n",
       "      <th>datetime</th>\n",
       "      <th>...</th>\n",
       "      <th>latest_review</th>\n",
       "      <th>earliest_to_latest</th>\n",
       "      <th>earliest_to_latest_years</th>\n",
       "      <th>useful_business_id</th>\n",
       "      <th>review_count_user_id</th>\n",
       "      <th>elite_no_nan</th>\n",
       "      <th>friend_count</th>\n",
       "      <th>count_of_friends_segments</th>\n",
       "      <th>totalwords</th>\n",
       "      <th>elite_yes_no</th>\n",
       "    </tr>\n",
       "  </thead>\n",
       "  <tbody>\n",
       "    <tr>\n",
       "      <td>0</td>\n",
       "      <td>qrffudO73zsslZbe8B9D3Q</td>\n",
       "      <td>sG_h0dIzTKWa3Q6fmb4u-g</td>\n",
       "      <td>b2jN2mm9Wf3RcrZCgfo1cg</td>\n",
       "      <td>2</td>\n",
       "      <td>1</td>\n",
       "      <td>0</td>\n",
       "      <td>0</td>\n",
       "      <td>I was really looking forward to visiting after...</td>\n",
       "      <td>2015-01-18 14:04:18</td>\n",
       "      <td>2015-01-18 14:04:18</td>\n",
       "      <td>...</td>\n",
       "      <td>2018-05-28 22:26:53</td>\n",
       "      <td>1818 days 03:42:55.000000000</td>\n",
       "      <td>4.98</td>\n",
       "      <td>54</td>\n",
       "      <td>13</td>\n",
       "      <td>0</td>\n",
       "      <td>0</td>\n",
       "      <td>0</td>\n",
       "      <td>263</td>\n",
       "      <td>0</td>\n",
       "    </tr>\n",
       "    <tr>\n",
       "      <td>1</td>\n",
       "      <td>1wVA2-vQIuW_ClmXkDxqMQ</td>\n",
       "      <td>86J5DwcFk4f4In1Vxe2TvA</td>\n",
       "      <td>NyLYY8q1-H3hfsTwuwLPCg</td>\n",
       "      <td>4</td>\n",
       "      <td>0</td>\n",
       "      <td>0</td>\n",
       "      <td>0</td>\n",
       "      <td>Great lunch today. Staff was very helpful in a...</td>\n",
       "      <td>2015-01-03 22:47:34</td>\n",
       "      <td>2015-01-03 22:47:34</td>\n",
       "      <td>...</td>\n",
       "      <td>2018-11-11 19:30:36</td>\n",
       "      <td>1460 days 02:01:58.000000000</td>\n",
       "      <td>4.00</td>\n",
       "      <td>522</td>\n",
       "      <td>14</td>\n",
       "      <td>0</td>\n",
       "      <td>0</td>\n",
       "      <td>0</td>\n",
       "      <td>57</td>\n",
       "      <td>0</td>\n",
       "    </tr>\n",
       "    <tr>\n",
       "      <td>2</td>\n",
       "      <td>8swMTt9IXycp15r3WlCEmg</td>\n",
       "      <td>ITSnuLOu81doC5GGT5NMSQ</td>\n",
       "      <td>RbrZJEf8TlnP7RHaKnCtIQ</td>\n",
       "      <td>3</td>\n",
       "      <td>2</td>\n",
       "      <td>0</td>\n",
       "      <td>1</td>\n",
       "      <td>One day after I satisfy my frozen yogurt cravi...</td>\n",
       "      <td>2013-11-14 04:55:17</td>\n",
       "      <td>2013-11-14 04:55:17</td>\n",
       "      <td>...</td>\n",
       "      <td>2018-07-04 04:02:49</td>\n",
       "      <td>1927 days 02:58:05.000000000</td>\n",
       "      <td>5.28</td>\n",
       "      <td>102</td>\n",
       "      <td>444</td>\n",
       "      <td>2014,2015,2016,2017,2018</td>\n",
       "      <td>298</td>\n",
       "      <td>201+</td>\n",
       "      <td>159</td>\n",
       "      <td>1</td>\n",
       "    </tr>\n",
       "    <tr>\n",
       "      <td>3</td>\n",
       "      <td>17KSQjHdowZMngVptW_KdA</td>\n",
       "      <td>wvBp1Ar-izuKnI9uBHWufQ</td>\n",
       "      <td>FYkm4c2CujTSPpqSM4TbuQ</td>\n",
       "      <td>5</td>\n",
       "      <td>0</td>\n",
       "      <td>0</td>\n",
       "      <td>0</td>\n",
       "      <td>Great tanning salon near me, and clean, equipp...</td>\n",
       "      <td>2015-05-12 15:46:57</td>\n",
       "      <td>2015-05-12 15:46:57</td>\n",
       "      <td>...</td>\n",
       "      <td>2017-06-07 04:48:55</td>\n",
       "      <td>1064 days 00:20:10.000000000</td>\n",
       "      <td>2.92</td>\n",
       "      <td>8</td>\n",
       "      <td>12</td>\n",
       "      <td>0</td>\n",
       "      <td>9</td>\n",
       "      <td>1-10</td>\n",
       "      <td>48</td>\n",
       "      <td>0</td>\n",
       "    </tr>\n",
       "    <tr>\n",
       "      <td>4</td>\n",
       "      <td>36xxeOr4m4UlRf9FM1HzdA</td>\n",
       "      <td>liUNZm0tOJJ-d-pFCdqu9A</td>\n",
       "      <td>ZNB91myFoOYgyXoG5LQeGQ</td>\n",
       "      <td>1</td>\n",
       "      <td>1</td>\n",
       "      <td>0</td>\n",
       "      <td>0</td>\n",
       "      <td>I took my wife out for a Birthday dinner with ...</td>\n",
       "      <td>2014-12-17 19:34:47</td>\n",
       "      <td>2014-12-17 19:34:47</td>\n",
       "      <td>...</td>\n",
       "      <td>2015-08-22 16:02:49</td>\n",
       "      <td>1379 days 23:16:01.000000000</td>\n",
       "      <td>3.78</td>\n",
       "      <td>28</td>\n",
       "      <td>1</td>\n",
       "      <td>0</td>\n",
       "      <td>0</td>\n",
       "      <td>0</td>\n",
       "      <td>175</td>\n",
       "      <td>0</td>\n",
       "    </tr>\n",
       "    <tr>\n",
       "      <td>...</td>\n",
       "      <td>...</td>\n",
       "      <td>...</td>\n",
       "      <td>...</td>\n",
       "      <td>...</td>\n",
       "      <td>...</td>\n",
       "      <td>...</td>\n",
       "      <td>...</td>\n",
       "      <td>...</td>\n",
       "      <td>...</td>\n",
       "      <td>...</td>\n",
       "      <td>...</td>\n",
       "      <td>...</td>\n",
       "      <td>...</td>\n",
       "      <td>...</td>\n",
       "      <td>...</td>\n",
       "      <td>...</td>\n",
       "      <td>...</td>\n",
       "      <td>...</td>\n",
       "      <td>...</td>\n",
       "      <td>...</td>\n",
       "      <td>...</td>\n",
       "    </tr>\n",
       "    <tr>\n",
       "      <td>321340</td>\n",
       "      <td>hTD-7TLUkt00IQRFI31Wig</td>\n",
       "      <td>XpdfwH4PULIQXGlssV87Rw</td>\n",
       "      <td>Nc8VF2ZbwSUIQ8w2CUJvQw</td>\n",
       "      <td>1</td>\n",
       "      <td>9</td>\n",
       "      <td>1</td>\n",
       "      <td>0</td>\n",
       "      <td>This gym is dirty and cannot be safe. They are...</td>\n",
       "      <td>2016-01-26 01:32:58</td>\n",
       "      <td>2016-01-26 01:32:58</td>\n",
       "      <td>...</td>\n",
       "      <td>2018-11-02 22:04:26</td>\n",
       "      <td>1200 days 02:07:34.000000000</td>\n",
       "      <td>3.29</td>\n",
       "      <td>112</td>\n",
       "      <td>2</td>\n",
       "      <td>0</td>\n",
       "      <td>23</td>\n",
       "      <td>11-50</td>\n",
       "      <td>87</td>\n",
       "      <td>0</td>\n",
       "    </tr>\n",
       "    <tr>\n",
       "      <td>321341</td>\n",
       "      <td>lXyLsZCyCpvB1_kAM1qIgQ</td>\n",
       "      <td>BUHWEZrha8Vmb-N9GNV_IQ</td>\n",
       "      <td>31J4jWOrwcaXiYfkoDKNOA</td>\n",
       "      <td>1</td>\n",
       "      <td>2</td>\n",
       "      <td>1</td>\n",
       "      <td>1</td>\n",
       "      <td>We had a terrible experience at this bar last ...</td>\n",
       "      <td>2011-04-17 20:04:26</td>\n",
       "      <td>2011-04-17 20:04:26</td>\n",
       "      <td>...</td>\n",
       "      <td>2011-05-28 11:02:19</td>\n",
       "      <td>2007 days 18:18:57.000000000</td>\n",
       "      <td>5.50</td>\n",
       "      <td>10</td>\n",
       "      <td>6</td>\n",
       "      <td>0</td>\n",
       "      <td>0</td>\n",
       "      <td>0</td>\n",
       "      <td>104</td>\n",
       "      <td>0</td>\n",
       "    </tr>\n",
       "    <tr>\n",
       "      <td>321342</td>\n",
       "      <td>30vnT1Vu2vOP-jhtLNATng</td>\n",
       "      <td>ltvT8BcRxrBNDwnfgE8DEQ</td>\n",
       "      <td>Z1mLBp6BMlHSQUh364vk1g</td>\n",
       "      <td>1</td>\n",
       "      <td>1</td>\n",
       "      <td>0</td>\n",
       "      <td>0</td>\n",
       "      <td>Well I  have been to the blue point during hap...</td>\n",
       "      <td>2018-10-19 22:38:09</td>\n",
       "      <td>2018-10-19 22:38:09</td>\n",
       "      <td>...</td>\n",
       "      <td>2018-11-13 04:46:36</td>\n",
       "      <td>4731 days 10:24:23.000000000</td>\n",
       "      <td>12.96</td>\n",
       "      <td>244</td>\n",
       "      <td>55</td>\n",
       "      <td>0</td>\n",
       "      <td>0</td>\n",
       "      <td>0</td>\n",
       "      <td>154</td>\n",
       "      <td>0</td>\n",
       "    </tr>\n",
       "    <tr>\n",
       "      <td>321343</td>\n",
       "      <td>7bh0zTi1gEJwRCESsxH2Wg</td>\n",
       "      <td>TdbTpjfhOUeTCVBX9evLkw</td>\n",
       "      <td>FvXZcRB8bocNMDvFUnoWhg</td>\n",
       "      <td>5</td>\n",
       "      <td>2</td>\n",
       "      <td>1</td>\n",
       "      <td>1</td>\n",
       "      <td>I have been wanting to try this place and it d...</td>\n",
       "      <td>2018-10-06 02:31:06</td>\n",
       "      <td>2018-10-06 02:31:06</td>\n",
       "      <td>...</td>\n",
       "      <td>2018-11-01 00:27:57</td>\n",
       "      <td>2328 days 02:49:40.000000000</td>\n",
       "      <td>6.38</td>\n",
       "      <td>115</td>\n",
       "      <td>352</td>\n",
       "      <td>2016,2017,2018</td>\n",
       "      <td>40</td>\n",
       "      <td>11-50</td>\n",
       "      <td>56</td>\n",
       "      <td>1</td>\n",
       "    </tr>\n",
       "    <tr>\n",
       "      <td>321344</td>\n",
       "      <td>ioBbu9mWj6Ln6Ypbs8oRdg</td>\n",
       "      <td>DIqmYwkcPFcYnEpWvzXeOQ</td>\n",
       "      <td>sfa7IPru2FRBaf7LX-lWqA</td>\n",
       "      <td>4</td>\n",
       "      <td>3</td>\n",
       "      <td>2</td>\n",
       "      <td>2</td>\n",
       "      <td>As soon as we got there we got amazing service...</td>\n",
       "      <td>2016-11-16 21:52:35</td>\n",
       "      <td>2016-11-16 21:52:35</td>\n",
       "      <td>...</td>\n",
       "      <td>2018-11-12 00:05:35</td>\n",
       "      <td>760 days 23:42:41.000000000</td>\n",
       "      <td>2.08</td>\n",
       "      <td>198</td>\n",
       "      <td>261</td>\n",
       "      <td>2014,2015,2016,2017,2018</td>\n",
       "      <td>429</td>\n",
       "      <td>201+</td>\n",
       "      <td>178</td>\n",
       "      <td>1</td>\n",
       "    </tr>\n",
       "  </tbody>\n",
       "</table>\n",
       "<p>321345 rows × 42 columns</p>\n",
       "</div>"
      ],
      "text/plain": [
       "                     review_id                 user_id  \\\n",
       "0       qrffudO73zsslZbe8B9D3Q  sG_h0dIzTKWa3Q6fmb4u-g   \n",
       "1       1wVA2-vQIuW_ClmXkDxqMQ  86J5DwcFk4f4In1Vxe2TvA   \n",
       "2       8swMTt9IXycp15r3WlCEmg  ITSnuLOu81doC5GGT5NMSQ   \n",
       "3       17KSQjHdowZMngVptW_KdA  wvBp1Ar-izuKnI9uBHWufQ   \n",
       "4       36xxeOr4m4UlRf9FM1HzdA  liUNZm0tOJJ-d-pFCdqu9A   \n",
       "...                        ...                     ...   \n",
       "321340  hTD-7TLUkt00IQRFI31Wig  XpdfwH4PULIQXGlssV87Rw   \n",
       "321341  lXyLsZCyCpvB1_kAM1qIgQ  BUHWEZrha8Vmb-N9GNV_IQ   \n",
       "321342  30vnT1Vu2vOP-jhtLNATng  ltvT8BcRxrBNDwnfgE8DEQ   \n",
       "321343  7bh0zTi1gEJwRCESsxH2Wg  TdbTpjfhOUeTCVBX9evLkw   \n",
       "321344  ioBbu9mWj6Ln6Ypbs8oRdg  DIqmYwkcPFcYnEpWvzXeOQ   \n",
       "\n",
       "                   business_id  stars  useful  funny  cool  \\\n",
       "0       b2jN2mm9Wf3RcrZCgfo1cg      2       1      0     0   \n",
       "1       NyLYY8q1-H3hfsTwuwLPCg      4       0      0     0   \n",
       "2       RbrZJEf8TlnP7RHaKnCtIQ      3       2      0     1   \n",
       "3       FYkm4c2CujTSPpqSM4TbuQ      5       0      0     0   \n",
       "4       ZNB91myFoOYgyXoG5LQeGQ      1       1      0     0   \n",
       "...                        ...    ...     ...    ...   ...   \n",
       "321340  Nc8VF2ZbwSUIQ8w2CUJvQw      1       9      1     0   \n",
       "321341  31J4jWOrwcaXiYfkoDKNOA      1       2      1     1   \n",
       "321342  Z1mLBp6BMlHSQUh364vk1g      1       1      0     0   \n",
       "321343  FvXZcRB8bocNMDvFUnoWhg      5       2      1     1   \n",
       "321344  sfa7IPru2FRBaf7LX-lWqA      4       3      2     2   \n",
       "\n",
       "                                                     text  \\\n",
       "0       I was really looking forward to visiting after...   \n",
       "1       Great lunch today. Staff was very helpful in a...   \n",
       "2       One day after I satisfy my frozen yogurt cravi...   \n",
       "3       Great tanning salon near me, and clean, equipp...   \n",
       "4       I took my wife out for a Birthday dinner with ...   \n",
       "...                                                   ...   \n",
       "321340  This gym is dirty and cannot be safe. They are...   \n",
       "321341  We had a terrible experience at this bar last ...   \n",
       "321342  Well I  have been to the blue point during hap...   \n",
       "321343  I have been wanting to try this place and it d...   \n",
       "321344  As soon as we got there we got amazing service...   \n",
       "\n",
       "                       date             datetime  ...        latest_review  \\\n",
       "0       2015-01-18 14:04:18  2015-01-18 14:04:18  ...  2018-05-28 22:26:53   \n",
       "1       2015-01-03 22:47:34  2015-01-03 22:47:34  ...  2018-11-11 19:30:36   \n",
       "2       2013-11-14 04:55:17  2013-11-14 04:55:17  ...  2018-07-04 04:02:49   \n",
       "3       2015-05-12 15:46:57  2015-05-12 15:46:57  ...  2017-06-07 04:48:55   \n",
       "4       2014-12-17 19:34:47  2014-12-17 19:34:47  ...  2015-08-22 16:02:49   \n",
       "...                     ...                  ...  ...                  ...   \n",
       "321340  2016-01-26 01:32:58  2016-01-26 01:32:58  ...  2018-11-02 22:04:26   \n",
       "321341  2011-04-17 20:04:26  2011-04-17 20:04:26  ...  2011-05-28 11:02:19   \n",
       "321342  2018-10-19 22:38:09  2018-10-19 22:38:09  ...  2018-11-13 04:46:36   \n",
       "321343  2018-10-06 02:31:06  2018-10-06 02:31:06  ...  2018-11-01 00:27:57   \n",
       "321344  2016-11-16 21:52:35  2016-11-16 21:52:35  ...  2018-11-12 00:05:35   \n",
       "\n",
       "                  earliest_to_latest  earliest_to_latest_years  \\\n",
       "0       1818 days 03:42:55.000000000                      4.98   \n",
       "1       1460 days 02:01:58.000000000                      4.00   \n",
       "2       1927 days 02:58:05.000000000                      5.28   \n",
       "3       1064 days 00:20:10.000000000                      2.92   \n",
       "4       1379 days 23:16:01.000000000                      3.78   \n",
       "...                              ...                       ...   \n",
       "321340  1200 days 02:07:34.000000000                      3.29   \n",
       "321341  2007 days 18:18:57.000000000                      5.50   \n",
       "321342  4731 days 10:24:23.000000000                     12.96   \n",
       "321343  2328 days 02:49:40.000000000                      6.38   \n",
       "321344   760 days 23:42:41.000000000                      2.08   \n",
       "\n",
       "        useful_business_id  review_count_user_id              elite_no_nan  \\\n",
       "0                       54                    13                         0   \n",
       "1                      522                    14                         0   \n",
       "2                      102                   444  2014,2015,2016,2017,2018   \n",
       "3                        8                    12                         0   \n",
       "4                       28                     1                         0   \n",
       "...                    ...                   ...                       ...   \n",
       "321340                 112                     2                         0   \n",
       "321341                  10                     6                         0   \n",
       "321342                 244                    55                         0   \n",
       "321343                 115                   352            2016,2017,2018   \n",
       "321344                 198                   261  2014,2015,2016,2017,2018   \n",
       "\n",
       "       friend_count count_of_friends_segments totalwords  elite_yes_no  \n",
       "0                 0                         0        263             0  \n",
       "1                 0                         0         57             0  \n",
       "2               298                      201+        159             1  \n",
       "3                 9                      1-10         48             0  \n",
       "4                 0                         0        175             0  \n",
       "...             ...                       ...        ...           ...  \n",
       "321340           23                     11-50         87             0  \n",
       "321341            0                         0        104             0  \n",
       "321342            0                         0        154             0  \n",
       "321343           40                     11-50         56             1  \n",
       "321344          429                      201+        178             1  \n",
       "\n",
       "[321345 rows x 42 columns]"
      ]
     },
     "execution_count": 59,
     "metadata": {},
     "output_type": "execute_result"
    }
   ],
   "source": [
    "reviews[['review_id',\n",
    " 'user_id',\n",
    " 'business_id',\n",
    " 'stars',\n",
    " 'useful',\n",
    " 'funny',\n",
    " 'cool',\n",
    " 'text',\n",
    " 'date',\n",
    " 'datetime',\n",
    " 'year',\n",
    " 'is_it_a_one',\n",
    " 'is_it_a_five',\n",
    " 'is_it_a_one_or_two',\n",
    " 'is_it_a_four_or_five',\n",
    " 'is_it_a_one_or_five',\n",
    " 'name_business_id',\n",
    " 'city',\n",
    " 'state',\n",
    " 'latitude',\n",
    " 'longitude',\n",
    " 'stars_for_business_id',\n",
    " 'review_count_for_business_id',\n",
    " 'is_open',\n",
    " 'lat_lon_cluster',\n",
    " 'postal_code_str',\n",
    " 'biz_review_count',\n",
    " 'biz_star_mean',\n",
    " 'biz_star_min',\n",
    " 'biz_star_max',\n",
    " 'biz_star_std',\n",
    " 'earliest_review',\n",
    " 'latest_review',\n",
    " 'earliest_to_latest',\n",
    " 'earliest_to_latest_years',\n",
    " 'useful_business_id',\n",
    " 'review_count_user_id',\n",
    " 'elite_no_nan',\n",
    " 'friend_count',\n",
    " 'count_of_friends_segments',\n",
    " 'totalwords',\n",
    " 'elite_yes_no']]"
   ]
  },
  {
   "cell_type": "code",
   "execution_count": 60,
   "metadata": {},
   "outputs": [],
   "source": [
    "data_for_model = reviews"
   ]
  },
  {
   "cell_type": "code",
   "execution_count": 61,
   "metadata": {},
   "outputs": [],
   "source": [
    "# Export\n",
    "data_for_model.to_csv('./data_for_model.csv')"
   ]
  },
  {
   "cell_type": "code",
   "execution_count": null,
   "metadata": {},
   "outputs": [],
   "source": []
  }
 ],
 "metadata": {
  "kernelspec": {
   "display_name": "Python 3",
   "language": "python",
   "name": "python3"
  },
  "language_info": {
   "codemirror_mode": {
    "name": "ipython",
    "version": 3
   },
   "file_extension": ".py",
   "mimetype": "text/x-python",
   "name": "python",
   "nbconvert_exporter": "python",
   "pygments_lexer": "ipython3",
   "version": "3.7.4"
  }
 },
 "nbformat": 4,
 "nbformat_minor": 2
}
