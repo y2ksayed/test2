{
 "cells": [
  {
   "cell_type": "code",
   "execution_count": 1,
   "metadata": {},
   "outputs": [],
   "source": [
    "import pandas as pd\n",
    "import numpy as np\n",
    "import seaborn as sns\n",
    "\n",
    "import matplotlib.pyplot as plt\n",
    "%matplotlib inline\n",
    "# Increase default figure and font sizes for easier viewing.\n",
    "plt.rcParams['figure.figsize'] = (8, 6)\n",
    "plt.rcParams['font.size'] = 14"
   ]
  },
  {
   "cell_type": "code",
   "execution_count": null,
   "metadata": {},
   "outputs": [],
   "source": []
  },
  {
   "cell_type": "code",
   "execution_count": 2,
   "metadata": {},
   "outputs": [],
   "source": [
    "# IMPORT THE FILE"
   ]
  },
  {
   "cell_type": "code",
   "execution_count": 3,
   "metadata": {},
   "outputs": [
    {
     "name": "stderr",
     "output_type": "stream",
     "text": [
      "/Users/hanhuang/opt/anaconda3/lib/python3.7/site-packages/IPython/core/interactiveshell.py:3058: DtypeWarning: Columns (26) have mixed types. Specify dtype option on import or set low_memory=False.\n",
      "  interactivity=interactivity, compiler=compiler, result=result)\n"
     ]
    }
   ],
   "source": [
    "# Import the integrated review file for OH Yelp data\n",
    "reviews_combined = pd.read_csv('./data_for_model.csv') "
   ]
  },
  {
   "cell_type": "code",
   "execution_count": null,
   "metadata": {},
   "outputs": [],
   "source": []
  },
  {
   "cell_type": "code",
   "execution_count": 4,
   "metadata": {},
   "outputs": [],
   "source": [
    "# CLEAN THE REVIEW DATA FRAME "
   ]
  },
  {
   "cell_type": "code",
   "execution_count": 5,
   "metadata": {},
   "outputs": [
    {
     "data": {
      "text/plain": [
       "(321345, 44)"
      ]
     },
     "execution_count": 5,
     "metadata": {},
     "output_type": "execute_result"
    }
   ],
   "source": [
    "# check the shape\n",
    "reviews_combined.shape"
   ]
  },
  {
   "cell_type": "code",
   "execution_count": 6,
   "metadata": {},
   "outputs": [
    {
     "data": {
      "text/html": [
       "<div>\n",
       "<style scoped>\n",
       "    .dataframe tbody tr th:only-of-type {\n",
       "        vertical-align: middle;\n",
       "    }\n",
       "\n",
       "    .dataframe tbody tr th {\n",
       "        vertical-align: top;\n",
       "    }\n",
       "\n",
       "    .dataframe thead th {\n",
       "        text-align: right;\n",
       "    }\n",
       "</style>\n",
       "<table border=\"1\" class=\"dataframe\">\n",
       "  <thead>\n",
       "    <tr style=\"text-align: right;\">\n",
       "      <th></th>\n",
       "      <th>Unnamed: 0</th>\n",
       "      <th>review_id</th>\n",
       "      <th>user_id</th>\n",
       "      <th>business_id</th>\n",
       "      <th>stars</th>\n",
       "      <th>useful</th>\n",
       "      <th>funny</th>\n",
       "      <th>cool</th>\n",
       "      <th>text</th>\n",
       "      <th>date</th>\n",
       "      <th>...</th>\n",
       "      <th>earliest_to_latest</th>\n",
       "      <th>earliest_to_latest_years</th>\n",
       "      <th>useful_business_id</th>\n",
       "      <th>review_count_user_id</th>\n",
       "      <th>elite_no_nan</th>\n",
       "      <th>friends</th>\n",
       "      <th>friend_count</th>\n",
       "      <th>count_of_friends_segments</th>\n",
       "      <th>totalwords</th>\n",
       "      <th>elite_yes_no</th>\n",
       "    </tr>\n",
       "  </thead>\n",
       "  <tbody>\n",
       "    <tr>\n",
       "      <td>0</td>\n",
       "      <td>0</td>\n",
       "      <td>qrffudO73zsslZbe8B9D3Q</td>\n",
       "      <td>sG_h0dIzTKWa3Q6fmb4u-g</td>\n",
       "      <td>b2jN2mm9Wf3RcrZCgfo1cg</td>\n",
       "      <td>2</td>\n",
       "      <td>1</td>\n",
       "      <td>0</td>\n",
       "      <td>0</td>\n",
       "      <td>I was really looking forward to visiting after...</td>\n",
       "      <td>2015-01-18 14:04:18</td>\n",
       "      <td>...</td>\n",
       "      <td>1818 days 03:42:55.000000000</td>\n",
       "      <td>4.98</td>\n",
       "      <td>54</td>\n",
       "      <td>13</td>\n",
       "      <td>0</td>\n",
       "      <td>None</td>\n",
       "      <td>0</td>\n",
       "      <td>0</td>\n",
       "      <td>263</td>\n",
       "      <td>0</td>\n",
       "    </tr>\n",
       "  </tbody>\n",
       "</table>\n",
       "<p>1 rows × 44 columns</p>\n",
       "</div>"
      ],
      "text/plain": [
       "   Unnamed: 0               review_id                 user_id  \\\n",
       "0           0  qrffudO73zsslZbe8B9D3Q  sG_h0dIzTKWa3Q6fmb4u-g   \n",
       "\n",
       "              business_id  stars  useful  funny  cool  \\\n",
       "0  b2jN2mm9Wf3RcrZCgfo1cg      2       1      0     0   \n",
       "\n",
       "                                                text                 date  \\\n",
       "0  I was really looking forward to visiting after...  2015-01-18 14:04:18   \n",
       "\n",
       "   ...            earliest_to_latest  earliest_to_latest_years  \\\n",
       "0  ...  1818 days 03:42:55.000000000                      4.98   \n",
       "\n",
       "   useful_business_id  review_count_user_id  elite_no_nan  friends  \\\n",
       "0                  54                    13             0     None   \n",
       "\n",
       "   friend_count count_of_friends_segments totalwords elite_yes_no  \n",
       "0             0                         0        263            0  \n",
       "\n",
       "[1 rows x 44 columns]"
      ]
     },
     "execution_count": 6,
     "metadata": {},
     "output_type": "execute_result"
    }
   ],
   "source": [
    "reviews_combined.head(1)"
   ]
  },
  {
   "cell_type": "code",
   "execution_count": 7,
   "metadata": {},
   "outputs": [
    {
     "data": {
      "text/html": [
       "<div>\n",
       "<style scoped>\n",
       "    .dataframe tbody tr th:only-of-type {\n",
       "        vertical-align: middle;\n",
       "    }\n",
       "\n",
       "    .dataframe tbody tr th {\n",
       "        vertical-align: top;\n",
       "    }\n",
       "\n",
       "    .dataframe thead th {\n",
       "        text-align: right;\n",
       "    }\n",
       "</style>\n",
       "<table border=\"1\" class=\"dataframe\">\n",
       "  <thead>\n",
       "    <tr style=\"text-align: right;\">\n",
       "      <th></th>\n",
       "      <th>review_id</th>\n",
       "      <th>user_id</th>\n",
       "      <th>business_id</th>\n",
       "      <th>stars</th>\n",
       "      <th>useful</th>\n",
       "      <th>funny</th>\n",
       "      <th>cool</th>\n",
       "      <th>text</th>\n",
       "      <th>date</th>\n",
       "      <th>datetime</th>\n",
       "      <th>...</th>\n",
       "      <th>earliest_to_latest</th>\n",
       "      <th>earliest_to_latest_years</th>\n",
       "      <th>useful_business_id</th>\n",
       "      <th>review_count_user_id</th>\n",
       "      <th>elite_no_nan</th>\n",
       "      <th>friends</th>\n",
       "      <th>friend_count</th>\n",
       "      <th>count_of_friends_segments</th>\n",
       "      <th>totalwords</th>\n",
       "      <th>elite_yes_no</th>\n",
       "    </tr>\n",
       "  </thead>\n",
       "  <tbody>\n",
       "    <tr>\n",
       "      <td>0</td>\n",
       "      <td>qrffudO73zsslZbe8B9D3Q</td>\n",
       "      <td>sG_h0dIzTKWa3Q6fmb4u-g</td>\n",
       "      <td>b2jN2mm9Wf3RcrZCgfo1cg</td>\n",
       "      <td>2</td>\n",
       "      <td>1</td>\n",
       "      <td>0</td>\n",
       "      <td>0</td>\n",
       "      <td>I was really looking forward to visiting after...</td>\n",
       "      <td>2015-01-18 14:04:18</td>\n",
       "      <td>2015-01-18 14:04:18</td>\n",
       "      <td>...</td>\n",
       "      <td>1818 days 03:42:55.000000000</td>\n",
       "      <td>4.98</td>\n",
       "      <td>54</td>\n",
       "      <td>13</td>\n",
       "      <td>0</td>\n",
       "      <td>None</td>\n",
       "      <td>0</td>\n",
       "      <td>0</td>\n",
       "      <td>263</td>\n",
       "      <td>0</td>\n",
       "    </tr>\n",
       "  </tbody>\n",
       "</table>\n",
       "<p>1 rows × 43 columns</p>\n",
       "</div>"
      ],
      "text/plain": [
       "                review_id                 user_id             business_id  \\\n",
       "0  qrffudO73zsslZbe8B9D3Q  sG_h0dIzTKWa3Q6fmb4u-g  b2jN2mm9Wf3RcrZCgfo1cg   \n",
       "\n",
       "   stars  useful  funny  cool  \\\n",
       "0      2       1      0     0   \n",
       "\n",
       "                                                text                 date  \\\n",
       "0  I was really looking forward to visiting after...  2015-01-18 14:04:18   \n",
       "\n",
       "              datetime  ...            earliest_to_latest  \\\n",
       "0  2015-01-18 14:04:18  ...  1818 days 03:42:55.000000000   \n",
       "\n",
       "   earliest_to_latest_years  useful_business_id  review_count_user_id  \\\n",
       "0                      4.98                  54                    13   \n",
       "\n",
       "   elite_no_nan  friends friend_count count_of_friends_segments totalwords  \\\n",
       "0             0     None            0                         0        263   \n",
       "\n",
       "   elite_yes_no  \n",
       "0             0  \n",
       "\n",
       "[1 rows x 43 columns]"
      ]
     },
     "execution_count": 7,
     "metadata": {},
     "output_type": "execute_result"
    }
   ],
   "source": [
    "reviews = reviews_combined.drop(reviews_combined.columns[0], axis=1)\n",
    "reviews.head(1)                                           "
   ]
  },
  {
   "cell_type": "code",
   "execution_count": null,
   "metadata": {},
   "outputs": [],
   "source": []
  },
  {
   "cell_type": "code",
   "execution_count": 8,
   "metadata": {},
   "outputs": [],
   "source": [
    "# CHANGE THE TARGET LABELS"
   ]
  },
  {
   "cell_type": "code",
   "execution_count": 9,
   "metadata": {},
   "outputs": [],
   "source": [
    "# 1. Create a new column indicating star classification\n",
    "def star_classification (i):\n",
    "    if i == 1:\n",
    "        return  1\n",
    "    elif i== 5:\n",
    "        return 2\n",
    "    else:\n",
    "        return 3\n",
    "reviews['star_grouping'] = reviews['stars'].apply(star_classification)"
   ]
  },
  {
   "cell_type": "code",
   "execution_count": null,
   "metadata": {},
   "outputs": [],
   "source": []
  },
  {
   "cell_type": "code",
   "execution_count": 10,
   "metadata": {},
   "outputs": [],
   "source": [
    "# ADD REVIEW COUNT BY BUSINESS"
   ]
  },
  {
   "cell_type": "code",
   "execution_count": 11,
   "metadata": {},
   "outputs": [
    {
     "data": {
      "text/html": [
       "<div>\n",
       "<style scoped>\n",
       "    .dataframe tbody tr th:only-of-type {\n",
       "        vertical-align: middle;\n",
       "    }\n",
       "\n",
       "    .dataframe tbody tr th {\n",
       "        vertical-align: top;\n",
       "    }\n",
       "\n",
       "    .dataframe thead th {\n",
       "        text-align: right;\n",
       "    }\n",
       "</style>\n",
       "<table border=\"1\" class=\"dataframe\">\n",
       "  <thead>\n",
       "    <tr style=\"text-align: right;\">\n",
       "      <th></th>\n",
       "      <th>review_id</th>\n",
       "      <th>user_id</th>\n",
       "      <th>business_id</th>\n",
       "      <th>stars</th>\n",
       "      <th>useful</th>\n",
       "      <th>funny</th>\n",
       "      <th>cool</th>\n",
       "      <th>text</th>\n",
       "      <th>date</th>\n",
       "      <th>datetime</th>\n",
       "      <th>...</th>\n",
       "      <th>useful_business_id</th>\n",
       "      <th>review_count_user_id</th>\n",
       "      <th>elite_no_nan</th>\n",
       "      <th>friends</th>\n",
       "      <th>friend_count</th>\n",
       "      <th>count_of_friends_segments</th>\n",
       "      <th>totalwords</th>\n",
       "      <th>elite_yes_no</th>\n",
       "      <th>star_grouping</th>\n",
       "      <th>business_review_count</th>\n",
       "    </tr>\n",
       "  </thead>\n",
       "  <tbody>\n",
       "    <tr>\n",
       "      <td>0</td>\n",
       "      <td>qrffudO73zsslZbe8B9D3Q</td>\n",
       "      <td>sG_h0dIzTKWa3Q6fmb4u-g</td>\n",
       "      <td>b2jN2mm9Wf3RcrZCgfo1cg</td>\n",
       "      <td>2</td>\n",
       "      <td>1</td>\n",
       "      <td>0</td>\n",
       "      <td>0</td>\n",
       "      <td>I was really looking forward to visiting after...</td>\n",
       "      <td>2015-01-18 14:04:18</td>\n",
       "      <td>2015-01-18 14:04:18</td>\n",
       "      <td>...</td>\n",
       "      <td>54</td>\n",
       "      <td>13</td>\n",
       "      <td>0</td>\n",
       "      <td>None</td>\n",
       "      <td>0</td>\n",
       "      <td>0</td>\n",
       "      <td>263</td>\n",
       "      <td>0</td>\n",
       "      <td>3</td>\n",
       "      <td>60</td>\n",
       "    </tr>\n",
       "  </tbody>\n",
       "</table>\n",
       "<p>1 rows × 45 columns</p>\n",
       "</div>"
      ],
      "text/plain": [
       "                review_id                 user_id             business_id  \\\n",
       "0  qrffudO73zsslZbe8B9D3Q  sG_h0dIzTKWa3Q6fmb4u-g  b2jN2mm9Wf3RcrZCgfo1cg   \n",
       "\n",
       "   stars  useful  funny  cool  \\\n",
       "0      2       1      0     0   \n",
       "\n",
       "                                                text                 date  \\\n",
       "0  I was really looking forward to visiting after...  2015-01-18 14:04:18   \n",
       "\n",
       "              datetime  ...  useful_business_id  review_count_user_id  \\\n",
       "0  2015-01-18 14:04:18  ...                  54                    13   \n",
       "\n",
       "   elite_no_nan  friends  friend_count  count_of_friends_segments totalwords  \\\n",
       "0             0     None             0                          0        263   \n",
       "\n",
       "  elite_yes_no star_grouping  business_review_count  \n",
       "0            0             3                     60  \n",
       "\n",
       "[1 rows x 45 columns]"
      ]
     },
     "execution_count": 11,
     "metadata": {},
     "output_type": "execute_result"
    }
   ],
   "source": [
    "# Add business review count as a metric in an updated version of the review dataframe\n",
    "business_count = pd.DataFrame(reviews.groupby('business_id').business_id.count())\n",
    "business_count.columns = ['business_review_count']\n",
    "business_count.reset_index()\n",
    "# merge this into the business_all_df dataframe\n",
    "reviews = reviews.merge(business_count, on='business_id', how='left')\n",
    "reviews.head(1)"
   ]
  },
  {
   "cell_type": "code",
   "execution_count": null,
   "metadata": {},
   "outputs": [],
   "source": []
  },
  {
   "cell_type": "code",
   "execution_count": 12,
   "metadata": {},
   "outputs": [],
   "source": [
    "# ESTABLISH BASELINE "
   ]
  },
  {
   "cell_type": "code",
   "execution_count": 13,
   "metadata": {},
   "outputs": [
    {
     "data": {
      "text/plain": [
       "3    141803\n",
       "2    131987\n",
       "1     47555\n",
       "Name: star_grouping, dtype: int64"
      ]
     },
     "execution_count": 13,
     "metadata": {},
     "output_type": "execute_result"
    }
   ],
   "source": [
    "# Counts\n",
    "reviews['star_grouping'].value_counts()"
   ]
  },
  {
   "cell_type": "code",
   "execution_count": 14,
   "metadata": {},
   "outputs": [
    {
     "data": {
      "text/plain": [
       "0.44127962159050244"
      ]
     },
     "execution_count": 14,
     "metadata": {},
     "output_type": "execute_result"
    }
   ],
   "source": [
    "# New Baseline accuracy rate\n",
    "141803/ len(reviews)\n",
    "# This is the percent of reviews that are not either a '1' or '5'"
   ]
  },
  {
   "cell_type": "code",
   "execution_count": null,
   "metadata": {},
   "outputs": [],
   "source": []
  },
  {
   "cell_type": "code",
   "execution_count": 16,
   "metadata": {},
   "outputs": [
    {
     "data": {
      "text/plain": [
       "review_id                        object\n",
       "user_id                          object\n",
       "business_id                      object\n",
       "stars                             int64\n",
       "useful                            int64\n",
       "funny                             int64\n",
       "cool                              int64\n",
       "text                             object\n",
       "date                             object\n",
       "datetime                         object\n",
       "year                              int64\n",
       "is_it_a_one                       int64\n",
       "is_it_a_five                      int64\n",
       "is_it_a_one_or_two                int64\n",
       "is_it_a_four_or_five              int64\n",
       "is_it_a_one_or_five               int64\n",
       "name_business_id                 object\n",
       "city                             object\n",
       "state                            object\n",
       "latitude                        float64\n",
       "longitude                       float64\n",
       "stars_for_business_id           float64\n",
       "review_count_for_business_id      int64\n",
       "is_open                           int64\n",
       "lat_lon_cluster                   int64\n",
       "postal_code_str                  object\n",
       "biz_review_count                  int64\n",
       "biz_star_mean                   float64\n",
       "biz_star_min                      int64\n",
       "biz_star_max                      int64\n",
       "biz_star_std                    float64\n",
       "earliest_review                  object\n",
       "latest_review                    object\n",
       "earliest_to_latest               object\n",
       "earliest_to_latest_years        float64\n",
       "useful_business_id                int64\n",
       "review_count_user_id              int64\n",
       "elite_no_nan                     object\n",
       "friends                          object\n",
       "friend_count                      int64\n",
       "count_of_friends_segments        object\n",
       "totalwords                        int64\n",
       "elite_yes_no                      int64\n",
       "star_grouping                     int64\n",
       "business_review_count             int64\n",
       "dtype: object"
      ]
     },
     "execution_count": 16,
     "metadata": {},
     "output_type": "execute_result"
    }
   ],
   "source": [
    "# CHECK DTYPES\n",
    "reviews.dtypes"
   ]
  },
  {
   "cell_type": "code",
   "execution_count": null,
   "metadata": {},
   "outputs": [],
   "source": []
  },
  {
   "cell_type": "code",
   "execution_count": 17,
   "metadata": {},
   "outputs": [],
   "source": [
    "# 1. LOGISTICAL REGRESSION  - USERS & BUSINESS COUNT AS FEATURES"
   ]
  },
  {
   "cell_type": "code",
   "execution_count": 18,
   "metadata": {},
   "outputs": [],
   "source": [
    "# Create list of featues\n",
    "feature_cols = ['review_count_user_id', 'business_review_count']\n",
    "X = reviews[feature_cols]\n",
    "\n",
    "# Set the target\n",
    "y = reviews.star_grouping\n",
    "\n",
    "# Import the class\n",
    "from sklearn.linear_model import LogisticRegression\n",
    "\n",
    "# Import train test learn\n",
    "from sklearn.model_selection import train_test_split\n",
    "\n",
    "# Split the data. Note random state is set to none so the test data will keep changing each time the model is run \n",
    "x_train, x_test, y_train, y_test = train_test_split(X,y,test_size= 0.2, random_state=99)\n"
   ]
  },
  {
   "cell_type": "code",
   "execution_count": 19,
   "metadata": {},
   "outputs": [],
   "source": [
    "# Scale the data\n",
    "from sklearn.preprocessing import StandardScaler\n",
    "scaler = StandardScaler()\n",
    "x_train = scaler.fit_transform(x_train)\n",
    "x_test = scaler.transform(x_test)"
   ]
  },
  {
   "cell_type": "code",
   "execution_count": 20,
   "metadata": {},
   "outputs": [
    {
     "name": "stderr",
     "output_type": "stream",
     "text": [
      "/Users/hanhuang/opt/anaconda3/lib/python3.7/site-packages/sklearn/linear_model/logistic.py:432: FutureWarning: Default solver will be changed to 'lbfgs' in 0.22. Specify a solver to silence this warning.\n",
      "  FutureWarning)\n",
      "/Users/hanhuang/opt/anaconda3/lib/python3.7/site-packages/sklearn/linear_model/logistic.py:469: FutureWarning: Default multi_class will be changed to 'auto' in 0.22. Specify the multi_class option to silence this warning.\n",
      "  \"this warning.\", FutureWarning)\n"
     ]
    }
   ],
   "source": [
    "# Instantiate the estimator\n",
    "lr = LogisticRegression()\n",
    "\n",
    "# Fit the train data to the model\n",
    "lr.fit(x_train,y_train)\n",
    "\n",
    "# generate predicted values for test data\n",
    "y_pred = lr.predict(x_test)\n"
   ]
  },
  {
   "cell_type": "code",
   "execution_count": 21,
   "metadata": {},
   "outputs": [
    {
     "name": "stdout",
     "output_type": "stream",
     "text": [
      "0.5008791174594284\n"
     ]
    }
   ],
   "source": [
    "# Accuracy Score\n",
    "from sklearn import metrics\n",
    "y_pred_class = lr.predict(x_test)\n",
    "print((metrics.accuracy_score(y_test, y_pred_class)))"
   ]
  },
  {
   "cell_type": "code",
   "execution_count": 22,
   "metadata": {},
   "outputs": [
    {
     "name": "stdout",
     "output_type": "stream",
     "text": [
      "3    113477\n",
      "2    105648\n",
      "1     37951\n",
      "Name: star_grouping, dtype: int64\n",
      "3\n"
     ]
    },
    {
     "data": {
      "text/plain": [
       "0.44074125939410913"
      ]
     },
     "execution_count": 22,
     "metadata": {},
     "output_type": "execute_result"
    }
   ],
   "source": [
    "# Baseline Accuracy for Test group\n",
    "most_freq_class = y_train.value_counts().index[0]\n",
    "print(y_train.value_counts())\n",
    "print(most_freq_class)\n",
    "y_test.value_counts()[most_freq_class] / len(y_test)"
   ]
  },
  {
   "cell_type": "code",
   "execution_count": 23,
   "metadata": {},
   "outputs": [
    {
     "data": {
      "text/plain": [
       "array([[    0,  7968,  1636],\n",
       "       [    0, 17005,  9334],\n",
       "       [    0, 13140, 15186]])"
      ]
     },
     "execution_count": 23,
     "metadata": {},
     "output_type": "execute_result"
    }
   ],
   "source": [
    "# Import the confusion matrix class \n",
    "from sklearn.metrics import confusion_matrix\n",
    "\n",
    "# Fit the y_pred values to the confusion matrix to measure accuracy \n",
    "confusion_matrix(y_test, y_pred)"
   ]
  },
  {
   "cell_type": "code",
   "execution_count": null,
   "metadata": {},
   "outputs": [],
   "source": []
  },
  {
   "cell_type": "code",
   "execution_count": 24,
   "metadata": {},
   "outputs": [],
   "source": [
    "# 2. LOGISTICAL REGRESSION  - ONLY USER REVIEW COUNT AS FEATURE "
   ]
  },
  {
   "cell_type": "code",
   "execution_count": 25,
   "metadata": {},
   "outputs": [],
   "source": [
    "# Create list of featues\n",
    "feature_cols = ['review_count_user_id']\n",
    "X = reviews[feature_cols]\n",
    "\n",
    "# Set the target\n",
    "y = reviews.star_grouping\n",
    "\n",
    "# Import the class\n",
    "from sklearn.linear_model import LogisticRegression\n",
    "\n",
    "# Import train test learn\n",
    "from sklearn.model_selection import train_test_split\n",
    "\n",
    "# Split the data. Note random state is set to none so the test data will keep changing each time the model is run \n",
    "x_train, x_test, y_train, y_test = train_test_split(X,y,test_size= 0.2, random_state=99)\n"
   ]
  },
  {
   "cell_type": "code",
   "execution_count": 26,
   "metadata": {},
   "outputs": [],
   "source": [
    "# Scale the data\n",
    "from sklearn.preprocessing import StandardScaler\n",
    "scaler = StandardScaler()\n",
    "x_train = scaler.fit_transform(x_train)\n",
    "x_test = scaler.transform(x_test)"
   ]
  },
  {
   "cell_type": "code",
   "execution_count": 27,
   "metadata": {},
   "outputs": [
    {
     "name": "stderr",
     "output_type": "stream",
     "text": [
      "/Users/hanhuang/opt/anaconda3/lib/python3.7/site-packages/sklearn/linear_model/logistic.py:432: FutureWarning: Default solver will be changed to 'lbfgs' in 0.22. Specify a solver to silence this warning.\n",
      "  FutureWarning)\n",
      "/Users/hanhuang/opt/anaconda3/lib/python3.7/site-packages/sklearn/linear_model/logistic.py:469: FutureWarning: Default multi_class will be changed to 'auto' in 0.22. Specify the multi_class option to silence this warning.\n",
      "  \"this warning.\", FutureWarning)\n"
     ]
    }
   ],
   "source": [
    "# Instantiate the estimator\n",
    "lr = LogisticRegression()\n",
    "\n",
    "# Fit the train data to the model\n",
    "lr.fit(x_train,y_train)\n",
    "\n",
    "# generate predicted values for test data\n",
    "y_pred = lr.predict(x_test)"
   ]
  },
  {
   "cell_type": "code",
   "execution_count": 28,
   "metadata": {},
   "outputs": [
    {
     "name": "stdout",
     "output_type": "stream",
     "text": [
      "0.5046756601160747\n"
     ]
    }
   ],
   "source": [
    "# Accuracy Score\n",
    "from sklearn import metrics\n",
    "y_pred_class = lr.predict(x_test)\n",
    "print((metrics.accuracy_score(y_test, y_pred_class)))"
   ]
  },
  {
   "cell_type": "code",
   "execution_count": null,
   "metadata": {},
   "outputs": [],
   "source": []
  },
  {
   "cell_type": "code",
   "execution_count": 29,
   "metadata": {},
   "outputs": [],
   "source": [
    "# KNN"
   ]
  },
  {
   "cell_type": "code",
   "execution_count": 30,
   "metadata": {},
   "outputs": [],
   "source": [
    "# Create list of featues\n",
    "feature_cols = ['review_count_user_id', 'business_review_count']\n",
    "X = reviews[feature_cols]\n",
    "\n",
    "# Set the target\n",
    "y = reviews.star_grouping\n",
    "\n",
    "\n",
    "from sklearn.neighbors import KNeighborsClassifier\n",
    "from sklearn.model_selection import train_test_split\n",
    "from sklearn import metrics\n",
    "\n",
    "from sklearn.preprocessing import StandardScaler\n",
    "\n",
    "X_train, X_test, y_train, y_test = train_test_split(X, y, test_size= 0.2, random_state=99)\n",
    "\n",
    "scaler = StandardScaler()\n",
    "X_train = scaler.fit_transform(X_train)\n",
    "X_test = scaler.transform(X_test)\n"
   ]
  },
  {
   "cell_type": "code",
   "execution_count": null,
   "metadata": {},
   "outputs": [],
   "source": [
    "# Calculate TRAINING ERROR and TESTING ERROR for K=1 through 30.\n",
    "\n",
    "k_range = list(range(1, 30))\n",
    "training_error = []\n",
    "testing_error = []\n",
    "\n",
    "# Find test accuracy for all values of K between 1 and 100 (inclusive).\n",
    "for k in k_range:\n",
    "\n",
    "    # Instantiate the model with the current K value.\n",
    "    knn = KNeighborsClassifier(n_neighbors=k)\n",
    "    knn.fit(X_train, y_train)\n",
    "    \n",
    "    # Calculate training error (error = 1 - accuracy).\n",
    "    y_pred_class = knn.predict(X)\n",
    "    training_accuracy = metrics.accuracy_score(y, y_pred_class)\n",
    "    training_error.append(1 - training_accuracy)\n",
    "    \n",
    "    # Calculate testing error.\n",
    "    y_pred_class = knn.predict(X_test)\n",
    "    testing_accuracy = metrics.accuracy_score(y_test, y_pred_class)\n",
    "    testing_error.append(1 - testing_accuracy)"
   ]
  },
  {
   "cell_type": "code",
   "execution_count": 34,
   "metadata": {},
   "outputs": [
    {
     "name": "stdout",
     "output_type": "stream",
     "text": [
      "    training error  testing error\n",
      "K                                \n",
      "29        0.554781       0.493099\n",
      "28        0.555624       0.494437\n",
      "27        0.556069       0.494671\n",
      "26        0.557759       0.496569\n",
      "25        0.558415       0.494624\n",
      "24        0.559305       0.495900\n",
      "23        0.559775       0.496056\n",
      "22        0.560569       0.497394\n",
      "21        0.561033       0.497954\n",
      "20        0.560068       0.498919\n",
      "19        0.560161       0.499261\n",
      "18        0.560958       0.500288\n",
      "17        0.560917       0.499199\n",
      "16        0.561534       0.500272\n",
      "15        0.560488       0.503353\n",
      "14        0.561403       0.504613\n",
      "13        0.558761       0.504567\n",
      "12        0.566317       0.510448\n",
      "11        0.559766       0.510853\n",
      "10        0.645123       0.515132\n",
      "9         0.641090       0.515567\n",
      "8         0.634713       0.522227\n",
      "7         0.635619       0.520795\n",
      "6         0.635432       0.534254\n",
      "5         0.632557       0.534472\n",
      "4         0.636397       0.545706\n",
      "3         0.549497       0.554326\n",
      "2         0.631437       0.590269\n",
      "1         0.633876       0.561888\n",
      "    training error  testing error\n",
      "K                                \n",
      "29        0.554781       0.493099\n",
      "28        0.555624       0.494437\n",
      "27        0.556069       0.494671\n",
      "26        0.557759       0.496569\n",
      "25        0.558415       0.494624\n",
      "24        0.559305       0.495900\n",
      "23        0.559775       0.496056\n",
      "22        0.560569       0.497394\n",
      "21        0.561033       0.497954\n",
      "20        0.560068       0.498919\n",
      "19        0.560161       0.499261\n",
      "18        0.560958       0.500288\n",
      "17        0.560917       0.499199\n",
      "16        0.561534       0.500272\n",
      "15        0.560488       0.503353\n",
      "14        0.561403       0.504613\n",
      "13        0.558761       0.504567\n",
      "12        0.566317       0.510448\n",
      "11        0.559766       0.510853\n",
      "10        0.645123       0.515132\n",
      "9         0.641090       0.515567\n",
      "8         0.634713       0.522227\n",
      "7         0.635619       0.520795\n",
      "6         0.635432       0.534254\n",
      "5         0.632557       0.534472\n",
      "4         0.636397       0.545706\n",
      "3         0.549497       0.554326\n",
      "2         0.631437       0.590269\n",
      "1         0.633876       0.561888\n"
     ]
    },
    {
     "data": {
      "image/png": "[encoded data removed]",
      "text/plain": [
       "<Figure size 432x288 with 1 Axes>"
      ]
     },
     "metadata": {
      "needs_background": "light"
     },
     "output_type": "display_data"
    }
   ],
   "source": [
    "# Create a DataFrame of K, training error, and testing error.\n",
    "column_dict = {'K': k_range, 'training error':training_error, 'testing error':testing_error}\n",
    "df = pd.DataFrame(column_dict).set_index('K').sort_index(ascending=False)\n",
    "#df\n",
    "print(df.to_string())\n",
    "\n",
    "# Create a DataFrame of K, training error, and testing error.\n",
    "column_dict = {'K': k_range, 'training error':training_error, 'testing error':testing_error}\n",
    "df = pd.DataFrame(column_dict).set_index('K').sort_index(ascending=False)\n",
    "#df\n",
    "print(df.to_string())\n",
    "\n",
    "# Plot the relationship between K (HIGH TO LOW) and TESTING ERROR.\n",
    "df.plot(y='testing error');\n",
    "plt.xlabel('Value of K for KNN');\n",
    "plt.ylabel('Error (lower is better)');"
   ]
  },
  {
   "cell_type": "code",
   "execution_count": 35,
   "metadata": {},
   "outputs": [
    {
     "name": "stdout",
     "output_type": "stream",
     "text": [
      "    training error  testing error\n",
      "K                                \n",
      "29        0.554781       0.493099\n",
      "28        0.555624       0.494437\n",
      "25        0.558415       0.494624\n",
      "27        0.556069       0.494671\n",
      "24        0.559305       0.495900\n",
      "23        0.559775       0.496056\n",
      "26        0.557759       0.496569\n",
      "22        0.560569       0.497394\n",
      "21        0.561033       0.497954\n",
      "20        0.560068       0.498919\n",
      "17        0.560917       0.499199\n",
      "19        0.560161       0.499261\n",
      "16        0.561534       0.500272\n",
      "18        0.560958       0.500288\n",
      "15        0.560488       0.503353\n",
      "13        0.558761       0.504567\n",
      "14        0.561403       0.504613\n",
      "12        0.566317       0.510448\n",
      "11        0.559766       0.510853\n",
      "10        0.645123       0.515132\n",
      "9         0.641090       0.515567\n",
      "7         0.635619       0.520795\n",
      "8         0.634713       0.522227\n",
      "6         0.635432       0.534254\n",
      "5         0.632557       0.534472\n",
      "4         0.636397       0.545706\n",
      "3         0.549497       0.554326\n",
      "1         0.633876       0.561888\n",
      "2         0.631437       0.590269\n"
     ]
    }
   ],
   "source": [
    "# Find the minimum testing error and the associated K value.\n",
    "df_test_error = df.sort_values('testing error')\n",
    "print(df_test_error.to_string())"
   ]
  },
  {
   "cell_type": "code",
   "execution_count": 38,
   "metadata": {},
   "outputs": [
    {
     "data": {
      "image/png": "[encoded data removed]",
      "text/plain": [
       "<Figure size 432x288 with 1 Axes>"
      ]
     },
     "metadata": {
      "needs_background": "light"
     },
     "output_type": "display_data"
    }
   ],
   "source": [
    "# Plot the relationship between K (HIGH TO LOW) and both TRAINING ERROR and TESTING ERROR.\n",
    "df.plot();\n",
    "plt.xlabel('Value of K for KNN');\n",
    "plt.ylabel('Error (lower is better)');"
   ]
  },
  {
   "cell_type": "code",
   "execution_count": 109,
   "metadata": {},
   "outputs": [
    {
     "name": "stdout",
     "output_type": "stream",
     "text": [
      "0.4449976660961568\n"
     ]
    }
   ],
   "source": [
    "# Accuracy score n_neighbors = 2\n",
    "knn = KNeighborsClassifier(n_neighbors=3)\n",
    "knn.fit(X_train, y_train)\n",
    "\n",
    "# accuracy = the correct number of predictions divided by the total predictions made\n",
    "y_pred_class = knn.predict(X_test)\n",
    "print((metrics.accuracy_score(y_test, y_pred_class)))"
   ]
  },
  {
   "cell_type": "code",
   "execution_count": null,
   "metadata": {},
   "outputs": [],
   "source": []
  },
  {
   "cell_type": "code",
   "execution_count": 66,
   "metadata": {},
   "outputs": [],
   "source": [
    "# KNN - WITH RANDOM SELECTED WHITTLED DOWN DATA SET TO IMPROVE SPEED OF PROCESSING"
   ]
  },
  {
   "cell_type": "code",
   "execution_count": 99,
   "metadata": {},
   "outputs": [],
   "source": [
    "reviews_random = reviews.sample(frac=.1, replace=True, random_state=99)\n",
    "\n",
    "# Create list of featues\n",
    "feature_cols = ['review_count_user_id', 'business_review_count']\n",
    "X = reviews_random[feature_cols]\n",
    "\n",
    "# Set the target\n",
    "y = reviews_random.star_grouping"
   ]
  },
  {
   "cell_type": "code",
   "execution_count": 100,
   "metadata": {},
   "outputs": [
    {
     "data": {
      "text/plain": [
       "32134"
      ]
     },
     "execution_count": 100,
     "metadata": {},
     "output_type": "execute_result"
    }
   ],
   "source": [
    "len(X)"
   ]
  },
  {
   "cell_type": "code",
   "execution_count": 101,
   "metadata": {},
   "outputs": [],
   "source": [
    "X_train, X_test, y_train, y_test = train_test_split(X, y, test_size= 0.2, random_state=99)\n",
    "\n",
    "scaler = StandardScaler()\n",
    "X_train = scaler.fit_transform(X_train)\n",
    "X_test = scaler.transform(X_test)\n"
   ]
  },
  {
   "cell_type": "code",
   "execution_count": 102,
   "metadata": {},
   "outputs": [
    {
     "name": "stdout",
     "output_type": "stream",
     "text": [
      "0.49992220320522796\n"
     ]
    }
   ],
   "source": [
    "# Get a benchmark for n_neighbors =1\n",
    "knn = KNeighborsClassifier(n_neighbors=60)\n",
    "knn.fit(X_train, y_train)\n",
    "\n",
    "# accuracy = the correct number of predictions divided by the total predictions made\n",
    "y_pred_class = knn.predict(X_test)\n",
    "print((metrics.accuracy_score(y_test, y_pred_class)))"
   ]
  },
  {
   "cell_type": "code",
   "execution_count": 103,
   "metadata": {},
   "outputs": [],
   "source": [
    "# Calculate TRAINING ERROR and TESTING ERROR for K=1 through 30.\n",
    "\n",
    "k_range = list(range(1, 30))\n",
    "training_error = []\n",
    "testing_error = []\n",
    "\n",
    "# Find test accuracy for all values of K between 1 and 100 (inclusive).\n",
    "for k in k_range:\n",
    "\n",
    "    # Instantiate the model with the current K value.\n",
    "    knn = KNeighborsClassifier(n_neighbors=k)\n",
    "    knn.fit(X_train, y_train)\n",
    "    \n",
    "    # Calculate training error (error = 1 - accuracy).\n",
    "    y_pred_class = knn.predict(X)\n",
    "    training_accuracy = metrics.accuracy_score(y, y_pred_class)\n",
    "    training_error.append(1 - training_accuracy)\n",
    "    \n",
    "    # Calculate testing error.\n",
    "    y_pred_class = knn.predict(X_test)\n",
    "    testing_accuracy = metrics.accuracy_score(y_test, y_pred_class)\n",
    "    testing_error.append(1 - testing_accuracy)"
   ]
  },
  {
   "cell_type": "code",
   "execution_count": 104,
   "metadata": {},
   "outputs": [
    {
     "name": "stdout",
     "output_type": "stream",
     "text": [
      "    training error  testing error\n",
      "K                                \n",
      "29        0.556949       0.503812\n",
      "28        0.557571       0.504123\n",
      "27        0.556358       0.503190\n",
      "26        0.541669       0.500545\n",
      "25        0.556109       0.505524\n",
      "24        0.547520       0.508169\n",
      "23        0.557354       0.507546\n",
      "22        0.547333       0.510036\n",
      "21        0.557478       0.516260\n",
      "20        0.559034       0.514548\n",
      "19        0.558629       0.516104\n",
      "18        0.558567       0.518438\n",
      "17        0.558723       0.521239\n",
      "16        0.555331       0.517193\n",
      "15        0.556078       0.521705\n",
      "14        0.553059       0.524662\n",
      "13        0.555735       0.527929\n",
      "12        0.539989       0.527462\n",
      "11        0.550445       0.528240\n",
      "10        0.522966       0.526684\n",
      "9         0.550352       0.529018\n",
      "8         0.522468       0.528707\n",
      "7         0.538993       0.527618\n",
      "6         0.505104       0.544733\n",
      "5         0.520850       0.544266\n",
      "4         0.519076       0.546445\n",
      "3         0.539771       0.555002\n",
      "2         0.509398       0.582076\n",
      "1         0.525829       0.540999\n",
      "    training error  testing error\n",
      "K                                \n",
      "29        0.556949       0.503812\n",
      "28        0.557571       0.504123\n",
      "27        0.556358       0.503190\n",
      "26        0.541669       0.500545\n",
      "25        0.556109       0.505524\n",
      "24        0.547520       0.508169\n",
      "23        0.557354       0.507546\n",
      "22        0.547333       0.510036\n",
      "21        0.557478       0.516260\n",
      "20        0.559034       0.514548\n",
      "19        0.558629       0.516104\n",
      "18        0.558567       0.518438\n",
      "17        0.558723       0.521239\n",
      "16        0.555331       0.517193\n",
      "15        0.556078       0.521705\n",
      "14        0.553059       0.524662\n",
      "13        0.555735       0.527929\n",
      "12        0.539989       0.527462\n",
      "11        0.550445       0.528240\n",
      "10        0.522966       0.526684\n",
      "9         0.550352       0.529018\n",
      "8         0.522468       0.528707\n",
      "7         0.538993       0.527618\n",
      "6         0.505104       0.544733\n",
      "5         0.520850       0.544266\n",
      "4         0.519076       0.546445\n",
      "3         0.539771       0.555002\n",
      "2         0.509398       0.582076\n",
      "1         0.525829       0.540999\n"
     ]
    },
    {
     "data": {
      "image/png": "[encoded data removed]",
      "text/plain": [
       "<Figure size 576x432 with 1 Axes>"
      ]
     },
     "metadata": {
      "needs_background": "light"
     },
     "output_type": "display_data"
    }
   ],
   "source": [
    "# Create a DataFrame of K, training error, and testing error.\n",
    "column_dict = {'K': k_range, 'training error':training_error, 'testing error':testing_error}\n",
    "df = pd.DataFrame(column_dict).set_index('K').sort_index(ascending=False)\n",
    "#df\n",
    "print(df.to_string())\n",
    "\n",
    "# Create a DataFrame of K, training error, and testing error.\n",
    "column_dict = {'K': k_range, 'training error':training_error, 'testing error':testing_error}\n",
    "df = pd.DataFrame(column_dict).set_index('K').sort_index(ascending=False)\n",
    "#df\n",
    "print(df.to_string())\n",
    "\n",
    "# Plot the relationship between K (HIGH TO LOW) and TESTING ERROR.\n",
    "df.plot(y='testing error');\n",
    "plt.xlabel('Value of K for KNN');\n",
    "plt.ylabel('Error (lower is better)');"
   ]
  },
  {
   "cell_type": "code",
   "execution_count": 105,
   "metadata": {},
   "outputs": [
    {
     "name": "stdout",
     "output_type": "stream",
     "text": [
      "    training error  testing error\n",
      "K                                \n",
      "26        0.541669       0.500545\n",
      "27        0.556358       0.503190\n",
      "29        0.556949       0.503812\n",
      "28        0.557571       0.504123\n",
      "25        0.556109       0.505524\n",
      "23        0.557354       0.507546\n",
      "24        0.547520       0.508169\n",
      "22        0.547333       0.510036\n",
      "20        0.559034       0.514548\n",
      "19        0.558629       0.516104\n",
      "21        0.557478       0.516260\n",
      "16        0.555331       0.517193\n",
      "18        0.558567       0.518438\n",
      "17        0.558723       0.521239\n",
      "15        0.556078       0.521705\n",
      "14        0.553059       0.524662\n",
      "10        0.522966       0.526684\n",
      "12        0.539989       0.527462\n",
      "7         0.538993       0.527618\n",
      "13        0.555735       0.527929\n",
      "11        0.550445       0.528240\n",
      "8         0.522468       0.528707\n",
      "9         0.550352       0.529018\n",
      "1         0.525829       0.540999\n",
      "5         0.520850       0.544266\n",
      "6         0.505104       0.544733\n",
      "4         0.519076       0.546445\n",
      "3         0.539771       0.555002\n",
      "2         0.509398       0.582076\n"
     ]
    }
   ],
   "source": [
    "# Find the minimum testing error and the associated K value.\n",
    "df_test_error = df.sort_values('testing error')\n",
    "print(df_test_error.to_string())"
   ]
  },
  {
   "cell_type": "code",
   "execution_count": 106,
   "metadata": {},
   "outputs": [
    {
     "data": {
      "text/plain": [
       "(0.5005445775634043, 26)"
      ]
     },
     "execution_count": 106,
     "metadata": {},
     "output_type": "execute_result"
    }
   ],
   "source": [
    "# Alternative method:\n",
    "min(list(zip(testing_error, k_range)))"
   ]
  },
  {
   "cell_type": "code",
   "execution_count": 107,
   "metadata": {},
   "outputs": [
    {
     "data": {
      "image/png": "[encoded data removed]",
      "text/plain": [
       "<Figure size 576x432 with 1 Axes>"
      ]
     },
     "metadata": {
      "needs_background": "light"
     },
     "output_type": "display_data"
    }
   ],
   "source": [
    "# Plot the relationship between K (HIGH TO LOW) and both TRAINING ERROR and TESTING ERROR.\n",
    "df.plot();\n",
    "plt.xlabel('Value of K for KNN');\n",
    "plt.ylabel('Error (lower is better)');"
   ]
  },
  {
   "cell_type": "code",
   "execution_count": 113,
   "metadata": {},
   "outputs": [
    {
     "name": "stdout",
     "output_type": "stream",
     "text": [
      "0.4712929827291116\n"
     ]
    }
   ],
   "source": [
    "# Get a benchmark for n_neighbors11\n",
    "knn = KNeighborsClassifier(n_neighbors = 8)\n",
    "knn.fit(X_train, y_train)\n",
    "\n",
    "# accuracy = the correct number of predictions divided by the total predictions made\n",
    "y_pred_class = knn.predict(X_test)\n",
    "print((metrics.accuracy_score(y_test, y_pred_class)))"
   ]
  },
  {
   "cell_type": "code",
   "execution_count": null,
   "metadata": {},
   "outputs": [],
   "source": []
  },
  {
   "cell_type": "code",
   "execution_count": 17,
   "metadata": {},
   "outputs": [],
   "source": [
    "# NEURAL NETWORKS "
   ]
  },
  {
   "cell_type": "code",
   "execution_count": 18,
   "metadata": {},
   "outputs": [],
   "source": [
    "# Whittle down the feature set\n",
    "data_all = reviews[['star_grouping', 'review_count_user_id', 'business_review_count', 'friend_count', 'useful', 'is_open', 'lat_lon_cluster', 'elite_yes_no', 'totalwords' ]]"
   ]
  },
  {
   "cell_type": "code",
   "execution_count": 19,
   "metadata": {},
   "outputs": [
    {
     "data": {
      "text/plain": [
       "32134"
      ]
     },
     "execution_count": 19,
     "metadata": {},
     "output_type": "execute_result"
    }
   ],
   "source": [
    "# TAKE 10% OF THE ROWS\n",
    "data = data_all.sample(frac=.1, replace=True, random_state=99)\n",
    "len(data)"
   ]
  },
  {
   "cell_type": "code",
   "execution_count": 20,
   "metadata": {},
   "outputs": [
    {
     "data": {
      "text/plain": [
       "(32134, 9)"
      ]
     },
     "execution_count": 20,
     "metadata": {},
     "output_type": "execute_result"
    }
   ],
   "source": [
    "# CHECK THE SHAPE\n",
    "data.shape"
   ]
  },
  {
   "cell_type": "code",
   "execution_count": 21,
   "metadata": {},
   "outputs": [
    {
     "name": "stderr",
     "output_type": "stream",
     "text": [
      "Using TensorFlow backend.\n",
      "/Users/hanhuang/opt/anaconda3/lib/python3.7/site-packages/tensorflow/python/framework/dtypes.py:526: FutureWarning: Passing (type, 1) or '1type' as a synonym of type is deprecated; in a future version of numpy, it will be understood as (type, (1,)) / '(1,)type'.\n",
      "  _np_qint8 = np.dtype([(\"qint8\", np.int8, 1)])\n",
      "/Users/hanhuang/opt/anaconda3/lib/python3.7/site-packages/tensorflow/python/framework/dtypes.py:527: FutureWarning: Passing (type, 1) or '1type' as a synonym of type is deprecated; in a future version of numpy, it will be understood as (type, (1,)) / '(1,)type'.\n",
      "  _np_quint8 = np.dtype([(\"quint8\", np.uint8, 1)])\n",
      "/Users/hanhuang/opt/anaconda3/lib/python3.7/site-packages/tensorflow/python/framework/dtypes.py:528: FutureWarning: Passing (type, 1) or '1type' as a synonym of type is deprecated; in a future version of numpy, it will be understood as (type, (1,)) / '(1,)type'.\n",
      "  _np_qint16 = np.dtype([(\"qint16\", np.int16, 1)])\n",
      "/Users/hanhuang/opt/anaconda3/lib/python3.7/site-packages/tensorflow/python/framework/dtypes.py:529: FutureWarning: Passing (type, 1) or '1type' as a synonym of type is deprecated; in a future version of numpy, it will be understood as (type, (1,)) / '(1,)type'.\n",
      "  _np_quint16 = np.dtype([(\"quint16\", np.uint16, 1)])\n",
      "/Users/hanhuang/opt/anaconda3/lib/python3.7/site-packages/tensorflow/python/framework/dtypes.py:530: FutureWarning: Passing (type, 1) or '1type' as a synonym of type is deprecated; in a future version of numpy, it will be understood as (type, (1,)) / '(1,)type'.\n",
      "  _np_qint32 = np.dtype([(\"qint32\", np.int32, 1)])\n",
      "/Users/hanhuang/opt/anaconda3/lib/python3.7/site-packages/tensorflow/python/framework/dtypes.py:535: FutureWarning: Passing (type, 1) or '1type' as a synonym of type is deprecated; in a future version of numpy, it will be understood as (type, (1,)) / '(1,)type'.\n",
      "  np_resource = np.dtype([(\"resource\", np.ubyte, 1)])\n"
     ]
    }
   ],
   "source": [
    "# Import Keras\n",
    "import matplotlib.pyplot as plt\n",
    "from sklearn.model_selection import train_test_split\n",
    "from sklearn.preprocessing import StandardScaler\n",
    "from sklearn.preprocessing import OneHotEncoder\n",
    "\n",
    "from keras.models import Sequential\n",
    "from keras.layers import Dense, Activation\n",
    "from keras.utils import to_categorical\n",
    "from keras import losses\n",
    "\n",
    "import pandas as pd\n",
    "\n",
    "%matplotlib inline"
   ]
  },
  {
   "cell_type": "code",
   "execution_count": 55,
   "metadata": {},
   "outputs": [],
   "source": [
    "# Select the features\n",
    "X = data.drop('star_grouping', axis=1)\n",
    "# Select the target\n",
    "y = data['star_grouping']\n",
    "\n",
    "# Instantiate test, train, split\n",
    "X_train, X_test, y_train, y_test = train_test_split(X, y, test_size = 0.2, random_state = 99)\n",
    "\n",
    "# Scale the data\n",
    "ss = StandardScaler()\n",
    "X_train = ss.fit_transform(X_train)\n",
    "X_test = ss.transform(X_test)\n",
    "\n",
    "# Encode categorical labels\n",
    "y_train_one_hot = to_categorical(y_train)\n",
    "y_test_one_hot = to_categorical(y_test)"
   ]
  },
  {
   "cell_type": "code",
   "execution_count": 56,
   "metadata": {},
   "outputs": [
    {
     "data": {
      "text/plain": [
       "(25707,)"
      ]
     },
     "execution_count": 56,
     "metadata": {},
     "output_type": "execute_result"
    }
   ],
   "source": [
    "y_train.shape"
   ]
  },
  {
   "cell_type": "code",
   "execution_count": 57,
   "metadata": {},
   "outputs": [
    {
     "data": {
      "text/plain": [
       "160356    1\n",
       "225326    2\n",
       "214910    2\n",
       "78526     3\n",
       "238556    3\n",
       "         ..\n",
       "149520    1\n",
       "251506    2\n",
       "135892    1\n",
       "14807     3\n",
       "309458    1\n",
       "Name: star_grouping, Length: 25707, dtype: int64"
      ]
     },
     "execution_count": 57,
     "metadata": {},
     "output_type": "execute_result"
    }
   ],
   "source": [
    "y_train"
   ]
  },
  {
   "cell_type": "code",
   "execution_count": 58,
   "metadata": {},
   "outputs": [
    {
     "data": {
      "text/plain": [
       "3    11351\n",
       "2    10691\n",
       "1     3665\n",
       "Name: star_grouping, dtype: int64"
      ]
     },
     "execution_count": 58,
     "metadata": {},
     "output_type": "execute_result"
    }
   ],
   "source": [
    "y_train.value_counts()"
   ]
  },
  {
   "cell_type": "code",
   "execution_count": 59,
   "metadata": {},
   "outputs": [
    {
     "data": {
      "text/plain": [
       "array([[0., 1., 0., 0.],\n",
       "       [0., 0., 1., 0.],\n",
       "       [0., 0., 1., 0.],\n",
       "       ...,\n",
       "       [0., 1., 0., 0.],\n",
       "       [0., 0., 0., 1.],\n",
       "       [0., 1., 0., 0.]], dtype=float32)"
      ]
     },
     "execution_count": 59,
     "metadata": {},
     "output_type": "execute_result"
    }
   ],
   "source": [
    "y_train_one_hot"
   ]
  },
  {
   "cell_type": "code",
   "execution_count": 60,
   "metadata": {},
   "outputs": [
    {
     "data": {
      "text/plain": [
       "(25707, 4)"
      ]
     },
     "execution_count": 60,
     "metadata": {},
     "output_type": "execute_result"
    }
   ],
   "source": [
    "y_train_one_hot.shape"
   ]
  },
  {
   "cell_type": "code",
   "execution_count": 61,
   "metadata": {},
   "outputs": [
    {
     "data": {
      "text/plain": [
       "array([[0., 0., 0., 1.],\n",
       "       [0., 1., 0., 0.],\n",
       "       [0., 0., 1., 0.],\n",
       "       ...,\n",
       "       [0., 1., 0., 0.],\n",
       "       [0., 1., 0., 0.],\n",
       "       [0., 0., 1., 0.]], dtype=float32)"
      ]
     },
     "execution_count": 61,
     "metadata": {},
     "output_type": "execute_result"
    }
   ],
   "source": [
    "y_test_one_hot"
   ]
  },
  {
   "cell_type": "code",
   "execution_count": 54,
   "metadata": {},
   "outputs": [
    {
     "data": {
      "text/plain": [
       "array([[1., 0., 0.],\n",
       "       [0., 1., 0.],\n",
       "       [0., 1., 0.],\n",
       "       ...,\n",
       "       [1., 0., 0.],\n",
       "       [0., 0., 1.],\n",
       "       [1., 0., 0.]], dtype=float32)"
      ]
     },
     "execution_count": 54,
     "metadata": {},
     "output_type": "execute_result"
    }
   ],
   "source": [
    "y_train_one_hot = np.delete(y_train_one_hot, [0], axis=1)\n",
    "y_train_one_hot"
   ]
  },
  {
   "cell_type": "code",
   "execution_count": 62,
   "metadata": {},
   "outputs": [
    {
     "data": {
      "text/plain": [
       "array([[0., 0., 1.],\n",
       "       [1., 0., 0.],\n",
       "       [0., 1., 0.],\n",
       "       ...,\n",
       "       [1., 0., 0.],\n",
       "       [1., 0., 0.],\n",
       "       [0., 1., 0.]], dtype=float32)"
      ]
     },
     "execution_count": 62,
     "metadata": {},
     "output_type": "execute_result"
    }
   ],
   "source": [
    "y_test_one_hot = np.delete(y_test_one_hot, [0], axis=1)\n",
    "y_test_one_hot"
   ]
  },
  {
   "cell_type": "code",
   "execution_count": null,
   "metadata": {},
   "outputs": [],
   "source": []
  },
  {
   "cell_type": "code",
   "execution_count": 63,
   "metadata": {},
   "outputs": [
    {
     "data": {
      "text/plain": [
       "8"
      ]
     },
     "execution_count": 63,
     "metadata": {},
     "output_type": "execute_result"
    }
   ],
   "source": [
    "# Insert the model \n",
    "n_input = X_train.shape[1]\n",
    "n_input"
   ]
  },
  {
   "cell_type": "code",
   "execution_count": 64,
   "metadata": {},
   "outputs": [],
   "source": [
    "# Instantiate the class\n",
    "model = Sequential([Dense(8, input_shape = (n_input,)), Activation('relu'), Dense(1), Activation('softmax')])\n",
    "#model = Sequential()\n",
    "#model.add(Dense(8, input_dim = n_input, activation='relu'))\n",
    "#model.add(Dense(1, activation='sigmoid'))\n",
    "#model.add(Dense(1, activation= 'softmax'))"
   ]
  },
  {
   "cell_type": "code",
   "execution_count": 65,
   "metadata": {},
   "outputs": [],
   "source": [
    "# Compile\n",
    "#model.compile(loss='binary_crossentropy', optimizer='adam', metrics=['acc'])\n",
    "model.compile(loss='categorical_crossentropy', optimizer='adam', metrics= ['acc'])"
   ]
  },
  {
   "cell_type": "code",
   "execution_count": 68,
   "metadata": {},
   "outputs": [
    {
     "ename": "ValueError",
     "evalue": "Error when checking target: expected activation_4 to have shape (1,) but got array with shape (4,)",
     "output_type": "error",
     "traceback": [
      "\u001b[0;31m---------------------------------------------------------------------------\u001b[0m",
      "\u001b[0;31mValueError\u001b[0m                                Traceback (most recent call last)",
      "\u001b[0;32m<ipython-input-68-0b71cf772c81>\u001b[0m in \u001b[0;36m<module>\u001b[0;34m\u001b[0m\n\u001b[1;32m      6\u001b[0m     \u001b[0mepochs\u001b[0m\u001b[0;34m=\u001b[0m\u001b[0;36m100\u001b[0m\u001b[0;34m,\u001b[0m\u001b[0;34m\u001b[0m\u001b[0;34m\u001b[0m\u001b[0m\n\u001b[1;32m      7\u001b[0m     \u001b[0mbatch_size\u001b[0m\u001b[0;34m=\u001b[0m\u001b[0;32mNone\u001b[0m\u001b[0;34m,\u001b[0m\u001b[0;34m\u001b[0m\u001b[0;34m\u001b[0m\u001b[0m\n\u001b[0;32m----> 8\u001b[0;31m     \u001b[0mverbose\u001b[0m\u001b[0;34m=\u001b[0m\u001b[0;36m2\u001b[0m\u001b[0;34m\u001b[0m\u001b[0;34m\u001b[0m\u001b[0m\n\u001b[0m\u001b[1;32m      9\u001b[0m )\n",
      "\u001b[0;32m~/opt/anaconda3/lib/python3.7/site-packages/keras/engine/training.py\u001b[0m in \u001b[0;36mfit\u001b[0;34m(self, x, y, batch_size, epochs, verbose, callbacks, validation_split, validation_data, shuffle, class_weight, sample_weight, initial_epoch, steps_per_epoch, validation_steps, validation_freq, max_queue_size, workers, use_multiprocessing, **kwargs)\u001b[0m\n\u001b[1;32m   1152\u001b[0m             \u001b[0msample_weight\u001b[0m\u001b[0;34m=\u001b[0m\u001b[0msample_weight\u001b[0m\u001b[0;34m,\u001b[0m\u001b[0;34m\u001b[0m\u001b[0;34m\u001b[0m\u001b[0m\n\u001b[1;32m   1153\u001b[0m             \u001b[0mclass_weight\u001b[0m\u001b[0;34m=\u001b[0m\u001b[0mclass_weight\u001b[0m\u001b[0;34m,\u001b[0m\u001b[0;34m\u001b[0m\u001b[0;34m\u001b[0m\u001b[0m\n\u001b[0;32m-> 1154\u001b[0;31m             batch_size=batch_size)\n\u001b[0m\u001b[1;32m   1155\u001b[0m \u001b[0;34m\u001b[0m\u001b[0m\n\u001b[1;32m   1156\u001b[0m         \u001b[0;31m# Prepare validation data.\u001b[0m\u001b[0;34m\u001b[0m\u001b[0;34m\u001b[0m\u001b[0;34m\u001b[0m\u001b[0m\n",
      "\u001b[0;32m~/opt/anaconda3/lib/python3.7/site-packages/keras/engine/training.py\u001b[0m in \u001b[0;36m_standardize_user_data\u001b[0;34m(self, x, y, sample_weight, class_weight, check_array_lengths, batch_size)\u001b[0m\n\u001b[1;32m    619\u001b[0m                 \u001b[0mfeed_output_shapes\u001b[0m\u001b[0;34m,\u001b[0m\u001b[0;34m\u001b[0m\u001b[0;34m\u001b[0m\u001b[0m\n\u001b[1;32m    620\u001b[0m                 \u001b[0mcheck_batch_axis\u001b[0m\u001b[0;34m=\u001b[0m\u001b[0;32mFalse\u001b[0m\u001b[0;34m,\u001b[0m  \u001b[0;31m# Don't enforce the batch size.\u001b[0m\u001b[0;34m\u001b[0m\u001b[0;34m\u001b[0m\u001b[0m\n\u001b[0;32m--> 621\u001b[0;31m                 exception_prefix='target')\n\u001b[0m\u001b[1;32m    622\u001b[0m \u001b[0;34m\u001b[0m\u001b[0m\n\u001b[1;32m    623\u001b[0m             \u001b[0;31m# Generate sample-wise weight values given the `sample_weight` and\u001b[0m\u001b[0;34m\u001b[0m\u001b[0;34m\u001b[0m\u001b[0;34m\u001b[0m\u001b[0m\n",
      "\u001b[0;32m~/opt/anaconda3/lib/python3.7/site-packages/keras/engine/training_utils.py\u001b[0m in \u001b[0;36mstandardize_input_data\u001b[0;34m(data, names, shapes, check_batch_axis, exception_prefix)\u001b[0m\n\u001b[1;32m    143\u001b[0m                             \u001b[0;34m': expected '\u001b[0m \u001b[0;34m+\u001b[0m \u001b[0mnames\u001b[0m\u001b[0;34m[\u001b[0m\u001b[0mi\u001b[0m\u001b[0;34m]\u001b[0m \u001b[0;34m+\u001b[0m \u001b[0;34m' to have shape '\u001b[0m \u001b[0;34m+\u001b[0m\u001b[0;34m\u001b[0m\u001b[0;34m\u001b[0m\u001b[0m\n\u001b[1;32m    144\u001b[0m                             \u001b[0mstr\u001b[0m\u001b[0;34m(\u001b[0m\u001b[0mshape\u001b[0m\u001b[0;34m)\u001b[0m \u001b[0;34m+\u001b[0m \u001b[0;34m' but got array with shape '\u001b[0m \u001b[0;34m+\u001b[0m\u001b[0;34m\u001b[0m\u001b[0;34m\u001b[0m\u001b[0m\n\u001b[0;32m--> 145\u001b[0;31m                             str(data_shape))\n\u001b[0m\u001b[1;32m    146\u001b[0m     \u001b[0;32mreturn\u001b[0m \u001b[0mdata\u001b[0m\u001b[0;34m\u001b[0m\u001b[0;34m\u001b[0m\u001b[0m\n\u001b[1;32m    147\u001b[0m \u001b[0;34m\u001b[0m\u001b[0m\n",
      "\u001b[0;31mValueError\u001b[0m: Error when checking target: expected activation_4 to have shape (1,) but got array with shape (4,)"
     ]
    }
   ],
   "source": [
    "# Fit it\n",
    "history = model.fit(\n",
    "    X_train,\n",
    "    y_train_one_hot,\n",
    "    validation_data=(X_test, y_test_one_hot),\n",
    "    epochs=100,\n",
    "    batch_size=None,\n",
    "    verbose=2\n",
    ")"
   ]
  },
  {
   "cell_type": "code",
   "execution_count": 22,
   "metadata": {},
   "outputs": [
    {
     "name": "stdout",
     "output_type": "stream",
     "text": [
      "6427/6427 [==============================] - 0s 9us/step\n"
     ]
    }
   ],
   "source": [
    "df_predictions = model.predict(X_test, verbose=1)"
   ]
  },
  {
   "cell_type": "code",
   "execution_count": 126,
   "metadata": {},
   "outputs": [],
   "source": [
    "data_w_pred = zip(data, df_predictions)"
   ]
  },
  {
   "cell_type": "code",
   "execution_count": 127,
   "metadata": {},
   "outputs": [
    {
     "data": {
      "text/plain": [
       "<zip at 0x1a20ad03c0>"
      ]
     },
     "execution_count": 127,
     "metadata": {},
     "output_type": "execute_result"
    }
   ],
   "source": [
    "#data_w_pred.head()\n",
    "data_w_pred"
   ]
  },
  {
   "cell_type": "code",
   "execution_count": 128,
   "metadata": {},
   "outputs": [
    {
     "data": {
      "image/png": "[encoded data removed]",
      "text/plain": [
       "<Figure size 864x576 with 1 Axes>"
      ]
     },
     "metadata": {
      "needs_background": "light"
     },
     "output_type": "display_data"
    }
   ],
   "source": [
    "train_loss = history.history['loss']\n",
    "test_loss = history.history['val_loss']\n",
    "plt.figure(figsize=(12, 8))\n",
    "plt.plot(train_loss, label='Training loss', color='navy')\n",
    "plt.plot(test_loss, label='Testing loss', color='skyblue')\n",
    "plt.legend();"
   ]
  },
  {
   "cell_type": "code",
   "execution_count": 129,
   "metadata": {},
   "outputs": [
    {
     "data": {
      "text/plain": [
       "(0.14256817, 0.1510813683271408)"
      ]
     },
     "execution_count": 129,
     "metadata": {},
     "output_type": "execute_result"
    }
   ],
   "source": [
    "history.history['acc'][-1], history.history['val_acc'][-1]"
   ]
  },
  {
   "cell_type": "code",
   "execution_count": 130,
   "metadata": {},
   "outputs": [
    {
     "name": "stdout",
     "output_type": "stream",
     "text": [
      "Train on 25707 samples, validate on 6427 samples\n",
      "Epoch 1/100\n",
      "25707/25707 [==============================] - 1s 34us/step - loss: -9.8180 - acc: 0.1395 - val_loss: -19.4706 - val_acc: 0.1511\n",
      "Epoch 2/100\n",
      "25707/25707 [==============================] - 1s 27us/step - loss: -20.5187 - acc: 0.1426 - val_loss: -20.5600 - val_acc: 0.1511\n",
      "Epoch 3/100\n",
      "25707/25707 [==============================] - 1s 27us/step - loss: -20.6304 - acc: 0.1426 - val_loss: -20.5693 - val_acc: 0.1511\n",
      "Epoch 4/100\n",
      "25707/25707 [==============================] - 1s 27us/step - loss: -20.6363 - acc: 0.1426 - val_loss: -20.5747 - val_acc: 0.1511\n",
      "Epoch 5/100\n",
      "25707/25707 [==============================] - 1s 28us/step - loss: -20.6414 - acc: 0.1426 - val_loss: -20.5805 - val_acc: 0.1511\n",
      "Epoch 6/100\n",
      "25707/25707 [==============================] - 1s 27us/step - loss: -20.6473 - acc: 0.1426 - val_loss: -20.5873 - val_acc: 0.1511\n",
      "Epoch 7/100\n",
      "25707/25707 [==============================] - 1s 27us/step - loss: -20.6543 - acc: 0.1426 - val_loss: -20.5946 - val_acc: 0.1511\n",
      "Epoch 8/100\n",
      "25707/25707 [==============================] - 1s 27us/step - loss: -20.6619 - acc: 0.1426 - val_loss: -20.6023 - val_acc: 0.1511\n",
      "Epoch 9/100\n",
      "25707/25707 [==============================] - 1s 28us/step - loss: -20.6695 - acc: 0.1426 - val_loss: -20.6098 - val_acc: 0.1511\n",
      "Epoch 10/100\n",
      "25707/25707 [==============================] - 1s 27us/step - loss: -20.6766 - acc: 0.1426 - val_loss: -20.6162 - val_acc: 0.1511\n",
      "Epoch 11/100\n",
      "25707/25707 [==============================] - 1s 27us/step - loss: -20.6826 - acc: 0.1426 - val_loss: -20.6218 - val_acc: 0.1511\n",
      "Epoch 12/100\n",
      "25707/25707 [==============================] - 1s 27us/step - loss: -20.6877 - acc: 0.1426 - val_loss: -20.6264 - val_acc: 0.1511\n",
      "Epoch 13/100\n",
      "25707/25707 [==============================] - 1s 27us/step - loss: -20.6916 - acc: 0.1426 - val_loss: -20.6299 - val_acc: 0.1511\n",
      "Epoch 14/100\n",
      "25707/25707 [==============================] - 1s 28us/step - loss: -20.6947 - acc: 0.1426 - val_loss: -20.6326 - val_acc: 0.1511\n",
      "Epoch 15/100\n",
      "25707/25707 [==============================] - 1s 27us/step - loss: -20.6971 - acc: 0.1426 - val_loss: -20.6346 - val_acc: 0.1511\n",
      "Epoch 16/100\n",
      "25707/25707 [==============================] - 1s 28us/step - loss: -20.6989 - acc: 0.1426 - val_loss: -20.6362 - val_acc: 0.1511\n",
      "Epoch 17/100\n",
      "25707/25707 [==============================] - 1s 28us/step - loss: -20.7002 - acc: 0.1426 - val_loss: -20.6373 - val_acc: 0.1511\n",
      "Epoch 18/100\n",
      "25707/25707 [==============================] - 1s 29us/step - loss: -20.7013 - acc: 0.1426 - val_loss: -20.6382 - val_acc: 0.1511\n",
      "Epoch 19/100\n",
      "25707/25707 [==============================] - 1s 31us/step - loss: -20.7021 - acc: 0.1426 - val_loss: -20.6390 - val_acc: 0.1511\n",
      "Epoch 20/100\n",
      "25707/25707 [==============================] - 1s 31us/step - loss: -20.7027 - acc: 0.1426 - val_loss: -20.6396 - val_acc: 0.1511\n",
      "Epoch 21/100\n",
      "25707/25707 [==============================] - 1s 30us/step - loss: -20.7032 - acc: 0.1426 - val_loss: -20.6401 - val_acc: 0.1511\n",
      "Epoch 22/100\n",
      "25707/25707 [==============================] - 1s 30us/step - loss: -20.7037 - acc: 0.1426 - val_loss: -20.6406 - val_acc: 0.1511\n",
      "Epoch 23/100\n",
      "25707/25707 [==============================] - 1s 30us/step - loss: -20.7041 - acc: 0.1426 - val_loss: -20.6409 - val_acc: 0.1511\n",
      "Epoch 24/100\n",
      "25707/25707 [==============================] - 1s 29us/step - loss: -20.7044 - acc: 0.1426 - val_loss: -20.6411 - val_acc: 0.1511\n",
      "Epoch 25/100\n",
      "25707/25707 [==============================] - 1s 29us/step - loss: -20.7047 - acc: 0.1426 - val_loss: -20.6414 - val_acc: 0.1511\n",
      "Epoch 26/100\n",
      "25707/25707 [==============================] - 1s 29us/step - loss: -20.7050 - acc: 0.1426 - val_loss: -20.6416 - val_acc: 0.1511\n",
      "Epoch 27/100\n",
      "25707/25707 [==============================] - 1s 30us/step - loss: -20.7052 - acc: 0.1426 - val_loss: -20.6419 - val_acc: 0.1511\n",
      "Epoch 28/100\n",
      "25707/25707 [==============================] - 1s 30us/step - loss: -20.7054 - acc: 0.1426 - val_loss: -20.6421 - val_acc: 0.1511\n",
      "Epoch 29/100\n",
      "25707/25707 [==============================] - 1s 29us/step - loss: -20.7056 - acc: 0.1426 - val_loss: -20.6422 - val_acc: 0.1511\n",
      "Epoch 30/100\n",
      "25707/25707 [==============================] - 1s 29us/step - loss: -20.7058 - acc: 0.1426 - val_loss: -20.6424 - val_acc: 0.1511\n",
      "Epoch 31/100\n",
      "25707/25707 [==============================] - 1s 29us/step - loss: -20.7059 - acc: 0.1426 - val_loss: -20.6426 - val_acc: 0.1511\n",
      "Epoch 32/100\n",
      "25707/25707 [==============================] - 1s 29us/step - loss: -20.7060 - acc: 0.1426 - val_loss: -20.6426 - val_acc: 0.1511\n",
      "Epoch 33/100\n",
      "25707/25707 [==============================] - 1s 29us/step - loss: -20.7062 - acc: 0.1426 - val_loss: -20.6427 - val_acc: 0.1511\n",
      "Epoch 34/100\n",
      "25707/25707 [==============================] - 1s 30us/step - loss: -20.7063 - acc: 0.1426 - val_loss: -20.6428 - val_acc: 0.1511\n",
      "Epoch 35/100\n",
      "25707/25707 [==============================] - 1s 29us/step - loss: -20.7064 - acc: 0.1426 - val_loss: -20.6430 - val_acc: 0.1511\n",
      "Epoch 36/100\n",
      "25707/25707 [==============================] - 1s 29us/step - loss: -20.7065 - acc: 0.1426 - val_loss: -20.6431 - val_acc: 0.1511\n",
      "Epoch 37/100\n",
      "25707/25707 [==============================] - 1s 29us/step - loss: -20.7066 - acc: 0.1426 - val_loss: -20.6432 - val_acc: 0.1511\n",
      "Epoch 38/100\n",
      "25707/25707 [==============================] - 1s 29us/step - loss: -20.7067 - acc: 0.1426 - val_loss: -20.6432 - val_acc: 0.1511\n",
      "Epoch 39/100\n",
      "25707/25707 [==============================] - 1s 29us/step - loss: -20.7067 - acc: 0.1426 - val_loss: -20.6434 - val_acc: 0.1511\n",
      "Epoch 40/100\n",
      "25707/25707 [==============================] - 1s 29us/step - loss: -20.7068 - acc: 0.1426 - val_loss: -20.6434 - val_acc: 0.1511\n",
      "Epoch 41/100\n",
      "25707/25707 [==============================] - 1s 29us/step - loss: -20.7069 - acc: 0.1426 - val_loss: -20.6436 - val_acc: 0.1511\n",
      "Epoch 42/100\n",
      "25707/25707 [==============================] - 1s 30us/step - loss: -20.7070 - acc: 0.1426 - val_loss: -20.6436 - val_acc: 0.1511\n",
      "Epoch 43/100\n",
      "25707/25707 [==============================] - 1s 29us/step - loss: -20.7071 - acc: 0.1426 - val_loss: -20.6436 - val_acc: 0.1511\n",
      "Epoch 44/100\n",
      "25707/25707 [==============================] - 1s 30us/step - loss: -20.7071 - acc: 0.1426 - val_loss: -20.6437 - val_acc: 0.1511\n",
      "Epoch 45/100\n",
      "25707/25707 [==============================] - 1s 31us/step - loss: -20.7071 - acc: 0.1426 - val_loss: -20.6438 - val_acc: 0.1511\n",
      "Epoch 46/100\n",
      "25707/25707 [==============================] - 1s 28us/step - loss: -20.7072 - acc: 0.1426 - val_loss: -20.6439 - val_acc: 0.1511\n",
      "Epoch 47/100\n",
      "25707/25707 [==============================] - 1s 29us/step - loss: -20.7073 - acc: 0.1426 - val_loss: -20.6439 - val_acc: 0.1511\n",
      "Epoch 48/100\n",
      "25707/25707 [==============================] - 1s 29us/step - loss: -20.7073 - acc: 0.1426 - val_loss: -20.6440 - val_acc: 0.1511\n",
      "Epoch 49/100\n",
      "25707/25707 [==============================] - 1s 29us/step - loss: -20.7073 - acc: 0.1426 - val_loss: -20.6439 - val_acc: 0.1511\n",
      "Epoch 50/100\n",
      "25707/25707 [==============================] - 1s 29us/step - loss: -20.7074 - acc: 0.1426 - val_loss: -20.6441 - val_acc: 0.1511\n",
      "Epoch 51/100\n",
      "25707/25707 [==============================] - 1s 30us/step - loss: -20.7075 - acc: 0.1426 - val_loss: -20.6441 - val_acc: 0.1511\n",
      "Epoch 52/100\n",
      "25707/25707 [==============================] - 1s 31us/step - loss: -20.7075 - acc: 0.1426 - val_loss: -20.6440 - val_acc: 0.1511\n",
      "Epoch 53/100\n",
      "25707/25707 [==============================] - 1s 29us/step - loss: -20.7075 - acc: 0.1426 - val_loss: -20.6441 - val_acc: 0.1511\n",
      "Epoch 54/100\n",
      "25707/25707 [==============================] - 1s 28us/step - loss: -20.7076 - acc: 0.1426 - val_loss: -20.6441 - val_acc: 0.1511\n",
      "Epoch 55/100\n",
      "25707/25707 [==============================] - 1s 28us/step - loss: -20.7076 - acc: 0.1426 - val_loss: -20.6441 - val_acc: 0.1511\n",
      "Epoch 56/100\n",
      "25707/25707 [==============================] - 1s 28us/step - loss: -20.7077 - acc: 0.1426 - val_loss: -20.6442 - val_acc: 0.1511\n",
      "Epoch 57/100\n",
      "25707/25707 [==============================] - 1s 28us/step - loss: -20.7077 - acc: 0.1426 - val_loss: -20.6442 - val_acc: 0.1511\n",
      "Epoch 58/100\n"
     ]
    },
    {
     "name": "stdout",
     "output_type": "stream",
     "text": [
      "25707/25707 [==============================] - 1s 29us/step - loss: -20.7077 - acc: 0.1426 - val_loss: -20.6442 - val_acc: 0.1511\n",
      "Epoch 59/100\n",
      "25707/25707 [==============================] - 1s 29us/step - loss: -20.7077 - acc: 0.1426 - val_loss: -20.6443 - val_acc: 0.1511\n",
      "Epoch 60/100\n",
      "25707/25707 [==============================] - 1s 29us/step - loss: -20.7078 - acc: 0.1426 - val_loss: -20.6443 - val_acc: 0.1511\n",
      "Epoch 61/100\n",
      "25707/25707 [==============================] - 1s 29us/step - loss: -20.7078 - acc: 0.1426 - val_loss: -20.6444 - val_acc: 0.1511\n",
      "Epoch 62/100\n",
      "25707/25707 [==============================] - 1s 31us/step - loss: -20.7078 - acc: 0.1426 - val_loss: -20.6444 - val_acc: 0.1511\n",
      "Epoch 63/100\n",
      "25707/25707 [==============================] - 1s 30us/step - loss: -20.7078 - acc: 0.1426 - val_loss: -20.6444 - val_acc: 0.1511\n",
      "Epoch 64/100\n",
      "25707/25707 [==============================] - 1s 29us/step - loss: -20.7078 - acc: 0.1426 - val_loss: -20.6444 - val_acc: 0.1511\n",
      "Epoch 65/100\n",
      "25707/25707 [==============================] - 1s 29us/step - loss: -20.7079 - acc: 0.1426 - val_loss: -20.6445 - val_acc: 0.1511\n",
      "Epoch 66/100\n",
      "25707/25707 [==============================] - 1s 28us/step - loss: -20.7079 - acc: 0.1426 - val_loss: -20.6445 - val_acc: 0.1511\n",
      "Epoch 67/100\n",
      "25707/25707 [==============================] - 1s 29us/step - loss: -20.7079 - acc: 0.1426 - val_loss: -20.6445 - val_acc: 0.1511\n",
      "Epoch 68/100\n",
      "25707/25707 [==============================] - 1s 28us/step - loss: -20.7080 - acc: 0.1426 - val_loss: -20.6445 - val_acc: 0.1511\n",
      "Epoch 69/100\n",
      "25707/25707 [==============================] - 1s 28us/step - loss: -20.7080 - acc: 0.1426 - val_loss: -20.6444 - val_acc: 0.1511\n",
      "Epoch 70/100\n",
      "25707/25707 [==============================] - 1s 28us/step - loss: -20.7080 - acc: 0.1426 - val_loss: -20.6446 - val_acc: 0.1511\n",
      "Epoch 71/100\n",
      "25707/25707 [==============================] - 1s 28us/step - loss: -20.7080 - acc: 0.1426 - val_loss: -20.6445 - val_acc: 0.1511\n",
      "Epoch 72/100\n",
      "25707/25707 [==============================] - 1s 28us/step - loss: -20.7080 - acc: 0.1426 - val_loss: -20.6446 - val_acc: 0.1511\n",
      "Epoch 73/100\n",
      "25707/25707 [==============================] - 1s 28us/step - loss: -20.7081 - acc: 0.1426 - val_loss: -20.6446 - val_acc: 0.1511\n",
      "Epoch 74/100\n",
      "25707/25707 [==============================] - 1s 28us/step - loss: -20.7081 - acc: 0.1426 - val_loss: -20.6446 - val_acc: 0.1511\n",
      "Epoch 75/100\n",
      "25707/25707 [==============================] - 1s 28us/step - loss: -20.7081 - acc: 0.1426 - val_loss: -20.6447 - val_acc: 0.1511\n",
      "Epoch 76/100\n",
      "25707/25707 [==============================] - 1s 29us/step - loss: -20.7081 - acc: 0.1426 - val_loss: -20.6447 - val_acc: 0.1511\n",
      "Epoch 77/100\n",
      "25707/25707 [==============================] - 1s 27us/step - loss: -20.7081 - acc: 0.1426 - val_loss: -20.6447 - val_acc: 0.1511\n",
      "Epoch 78/100\n",
      "25707/25707 [==============================] - 1s 29us/step - loss: -20.7081 - acc: 0.1426 - val_loss: -20.6447 - val_acc: 0.1511\n",
      "Epoch 79/100\n",
      "25707/25707 [==============================] - 1s 27us/step - loss: -20.7081 - acc: 0.1426 - val_loss: -20.6446 - val_acc: 0.1511\n",
      "Epoch 80/100\n",
      "25707/25707 [==============================] - 1s 28us/step - loss: -20.7081 - acc: 0.1426 - val_loss: -20.6447 - val_acc: 0.1511\n",
      "Epoch 81/100\n",
      "25707/25707 [==============================] - 1s 28us/step - loss: -20.7082 - acc: 0.1426 - val_loss: -20.6447 - val_acc: 0.1511\n",
      "Epoch 82/100\n",
      "25707/25707 [==============================] - 1s 28us/step - loss: -20.7082 - acc: 0.1426 - val_loss: -20.6447 - val_acc: 0.1511\n",
      "Epoch 83/100\n",
      "25707/25707 [==============================] - 1s 28us/step - loss: -20.7082 - acc: 0.1426 - val_loss: -20.6448 - val_acc: 0.1511\n",
      "Epoch 84/100\n",
      "25707/25707 [==============================] - 1s 28us/step - loss: -20.7082 - acc: 0.1426 - val_loss: -20.6448 - val_acc: 0.1511\n",
      "Epoch 85/100\n",
      "25707/25707 [==============================] - 1s 29us/step - loss: -20.7082 - acc: 0.1426 - val_loss: -20.6448 - val_acc: 0.1511\n",
      "Epoch 86/100\n",
      "25707/25707 [==============================] - 1s 28us/step - loss: -20.7082 - acc: 0.1426 - val_loss: -20.6448 - val_acc: 0.1511\n",
      "Epoch 87/100\n",
      "25707/25707 [==============================] - 1s 28us/step - loss: -20.7082 - acc: 0.1426 - val_loss: -20.6448 - val_acc: 0.1511\n",
      "Epoch 88/100\n",
      "25707/25707 [==============================] - 1s 28us/step - loss: -20.7082 - acc: 0.1426 - val_loss: -20.6448 - val_acc: 0.1511\n",
      "Epoch 89/100\n",
      "25707/25707 [==============================] - 1s 28us/step - loss: -20.7083 - acc: 0.1426 - val_loss: -20.6448 - val_acc: 0.1511\n",
      "Epoch 90/100\n",
      "25707/25707 [==============================] - 1s 29us/step - loss: -20.7083 - acc: 0.1426 - val_loss: -20.6448 - val_acc: 0.1511\n",
      "Epoch 91/100\n",
      "25707/25707 [==============================] - 1s 29us/step - loss: -20.7082 - acc: 0.1426 - val_loss: -20.6448 - val_acc: 0.1511\n",
      "Epoch 92/100\n",
      "25707/25707 [==============================] - 1s 30us/step - loss: -20.7083 - acc: 0.1426 - val_loss: -20.6449 - val_acc: 0.1511\n",
      "Epoch 93/100\n",
      "25707/25707 [==============================] - 1s 30us/step - loss: -20.7083 - acc: 0.1426 - val_loss: -20.6449 - val_acc: 0.1511\n",
      "Epoch 94/100\n",
      "25707/25707 [==============================] - 1s 30us/step - loss: -20.7083 - acc: 0.1426 - val_loss: -20.6449 - val_acc: 0.1511\n",
      "Epoch 95/100\n",
      "25707/25707 [==============================] - 1s 28us/step - loss: -20.7083 - acc: 0.1426 - val_loss: -20.6449 - val_acc: 0.1511\n",
      "Epoch 96/100\n",
      "25707/25707 [==============================] - 1s 28us/step - loss: -20.7083 - acc: 0.1426 - val_loss: -20.6449 - val_acc: 0.1511\n",
      "Epoch 97/100\n",
      "25707/25707 [==============================] - 1s 28us/step - loss: -20.7083 - acc: 0.1426 - val_loss: -20.6449 - val_acc: 0.1511\n",
      "Epoch 98/100\n",
      "25707/25707 [==============================] - 1s 29us/step - loss: -20.7084 - acc: 0.1426 - val_loss: -20.6449 - val_acc: 0.1511\n",
      "Epoch 99/100\n",
      "25707/25707 [==============================] - 1s 28us/step - loss: -20.7083 - acc: 0.1426 - val_loss: -20.6448 - val_acc: 0.1511\n",
      "Epoch 100/100\n",
      "25707/25707 [==============================] - 1s 29us/step - loss: -20.7083 - acc: 0.1426 - val_loss: -20.6450 - val_acc: 0.1511\n"
     ]
    }
   ],
   "source": [
    "# Regularize \n",
    "from keras import regularizers\n",
    "\n",
    "model_l2 = Sequential()\n",
    "\n",
    "n_input = X_train.shape[1]\n",
    "\n",
    "model_l2.add(Dense(\n",
    "    18,\n",
    "    input_dim=n_input,\n",
    "    activation='relu',\n",
    "    kernel_regularizer=regularizers.l2(0.001)\n",
    "))\n",
    "model_l2.add(Dense(\n",
    "    1,\n",
    "    activation='sigmoid',\n",
    "    kernel_regularizer=regularizers.l2(0.001)\n",
    "))\n",
    "\n",
    "model_l2.compile(\n",
    "    loss='binary_crossentropy',\n",
    "    optimizer='adam',\n",
    "    metrics=['acc']\n",
    ")\n",
    "\n",
    "history_l2 = model_l2.fit(\n",
    "    X_train,\n",
    "    y_train,\n",
    "    validation_data=(X_test, y_test),\n",
    "    epochs=100,\n",
    "    batch_size=None\n",
    ")"
   ]
  },
  {
   "cell_type": "code",
   "execution_count": 131,
   "metadata": {},
   "outputs": [
    {
     "data": {
      "image/png": "[encoded data removed]",
      "text/plain": [
       "<Figure size 864x576 with 1 Axes>"
      ]
     },
     "metadata": {
      "needs_background": "light"
     },
     "output_type": "display_data"
    }
   ],
   "source": [
    "train_loss_l2 = history_l2.history['loss']\n",
    "test_loss_l2 = history_l2.history['val_loss']\n",
    "plt.figure(figsize=(12, 8))\n",
    "plt.plot(train_loss, label='Training loss', color='navy')\n",
    "plt.plot(test_loss, label='Testing loss', color='skyblue')\n",
    "plt.plot(train_loss_l2, label='L2 Training loss', color='darkred')\n",
    "plt.plot(test_loss_l2, label='L2 Testing loss', color='pink')\n",
    "plt.legend();"
   ]
  },
  {
   "cell_type": "code",
   "execution_count": 132,
   "metadata": {},
   "outputs": [
    {
     "data": {
      "text/plain": [
       "(0.14256817, 0.1510813683271408)"
      ]
     },
     "execution_count": 132,
     "metadata": {},
     "output_type": "execute_result"
    }
   ],
   "source": [
    "history_l2.history['acc'][-1], history_l2.history['val_acc'][-1]"
   ]
  },
  {
   "cell_type": "code",
   "execution_count": null,
   "metadata": {},
   "outputs": [],
   "source": []
  }
 ],
 "metadata": {
  "kernelspec": {
   "display_name": "Python 3",
   "language": "python",
   "name": "python3"
  },
  "language_info": {
   "codemirror_mode": {
    "name": "ipython",
    "version": 3
   },
   "file_extension": ".py",
   "mimetype": "text/x-python",
   "name": "python",
   "nbconvert_exporter": "python",
   "pygments_lexer": "ipython3",
   "version": "3.7.4"
  }
 },
 "nbformat": 4,
 "nbformat_minor": 2
}
