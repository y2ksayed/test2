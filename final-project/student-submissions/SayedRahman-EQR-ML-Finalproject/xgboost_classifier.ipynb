{
 "cells": [
  {
   "cell_type": "code",
   "execution_count": 25,
   "metadata": {
    "collapsed": true
   },
   "outputs": [],
   "source": [
    "%matplotlib inline\n",
    "import numpy as np\n",
    "from sklearn.preprocessing import StandardScaler\n",
    "import matplotlib.pyplot as plt\n",
    "import pandas as pd\n",
    "import visuals as vs\n",
    "# import xgboost as xgb\n",
    "from xgboost import XGBClassifier\n",
    "random_state = 6\n",
    "np.random.seed(random_state)"
   ]
  },
  {
   "cell_type": "code",
   "execution_count": 26,
   "metadata": {
    "collapsed": true
   },
   "outputs": [],
   "source": [
    "## look data with pandas\n",
    "train_file = \"data/rupturemodel_train.txt\"\n",
    "val_file = \"data/rupturemodel_xvalidate.txt\"\n",
    "test_file = \"data/rupturemodel_test.txt\"\n",
    "\n",
    "df_train= pd.read_csv(train_file, sep=\" \", header = None)\n",
    "df_val= pd.read_csv(val_file, sep=\" \", header = None)\n",
    "df_test= pd.read_csv(test_file, sep=\" \", header = None)\n",
    "\n",
    "coloumns =  ['height', 'width', 'sxx', 'sxy', 'syy', 'sdrop', 'mud', 'dc', 'value']\n",
    "df_train.columns = coloumns\n",
    "df_val.columns = coloumns\n",
    "df_test.columns = coloumns\n",
    "\n",
    "frames = [df_train, df_val]\n",
    "df_train = pd.concat(frames)"
   ]
  },
  {
   "cell_type": "code",
   "execution_count": 27,
   "metadata": {
    "collapsed": true
   },
   "outputs": [],
   "source": [
    "mms = StandardScaler()\n",
    "X_train = mms.fit_transform(df_train.drop('value', axis=1))\n",
    "Y_train = (df_train['value'].values).astype(int)\n",
    "X_test = mms.fit_transform(df_test.drop('value', axis=1))\n",
    "Y_test = (df_test['value'].values).astype(int)"
   ]
  },
  {
   "cell_type": "code",
   "execution_count": 4,
   "metadata": {},
   "outputs": [
    {
     "data": {
      "text/plain": [
       "GridSearchCV(cv=StratifiedKFold(n_splits=10, random_state=6, shuffle=True),\n",
       "       error_score='raise',\n",
       "       estimator=XGBClassifier(base_score=0.5, booster='gbtree', colsample_bylevel=1,\n",
       "       colsample_bytree=1, gamma=0, learning_rate=0.1, max_delta_step=0,\n",
       "       max_depth=3, min_child_weight=1, missing=None, n_estimators=100,\n",
       "       n_jobs=1, nthread=None, objective='binary:logistic', random_state=6,\n",
       "       reg_alpha=0, reg_lambda=1, scale_pos_weight=1, seed=None,\n",
       "       silent=True, subsample=1),\n",
       "       fit_params={}, iid=True, n_jobs=1,\n",
       "       param_grid={'max_depth': [2, 3, 4, 5], 'learning_rate': [0.001, 0.01, 0.1, 1], 'n_estimators': [50, 100, 150, 200]},\n",
       "       pre_dispatch='2*n_jobs', refit=True, return_train_score=True,\n",
       "       scoring='accuracy', verbose=0)"
      ]
     },
     "execution_count": 4,
     "metadata": {},
     "output_type": "execute_result"
    }
   ],
   "source": [
    "from sklearn.model_selection import StratifiedKFold, GridSearchCV\n",
    "\n",
    "cv = StratifiedKFold(n_splits=10, shuffle=True, random_state=random_state)\n",
    "XGBModel = XGBClassifier(random_state = random_state)\n",
    "\n",
    "param_grid ={\n",
    "    'max_depth' : [2, 3, 4, 5],\n",
    "    'learning_rate' : [0.001, 0.01, 0.1, 1], \n",
    "    'n_estimators' : [50, 100, 150, 200] \n",
    "}\n",
    "\n",
    "grid_clf = GridSearchCV(estimator = XGBModel, param_grid = param_grid, scoring = 'accuracy', cv = cv)\n",
    "\n",
    "# we have to find out best optimized parameters\n",
    "grid_clf.fit(X_train, Y_train.astype(int))"
   ]
  },
  {
   "cell_type": "code",
   "execution_count": 5,
   "metadata": {},
   "outputs": [
    {
     "name": "stdout",
     "output_type": "stream",
     "text": [
      "\n",
      " # Best estimator ---------\n",
      "XGBClassifier(base_score=0.5, booster='gbtree', colsample_bylevel=1,\n",
      "       colsample_bytree=1, gamma=0, learning_rate=0.1, max_delta_step=0,\n",
      "       max_depth=2, min_child_weight=1, missing=None, n_estimators=100,\n",
      "       n_jobs=1, nthread=None, objective='binary:logistic', random_state=6,\n",
      "       reg_alpha=0, reg_lambda=1, scale_pos_weight=1, seed=None,\n",
      "       silent=True, subsample=1)\n",
      "\n",
      " # Best parameters ---------\n",
      "{'learning_rate': 0.1, 'max_depth': 2, 'n_estimators': 100}\n",
      "\n",
      " # Best score ---------\n",
      "0.75\n"
     ]
    }
   ],
   "source": [
    "# get the best model\n",
    "print('\\n # Best estimator ---------\\n{}'.format(grid_clf.best_estimator_))\n",
    "\n",
    "# Get the best parameters\n",
    "print('\\n # Best parameters ---------\\n{}'.format(grid_clf.best_params_))\n",
    "\n",
    "# best score\n",
    "print('\\n # Best score ---------\\n{}'.format(grid_clf.best_score_))"
   ]
  },
  {
   "cell_type": "code",
   "execution_count": 6,
   "metadata": {
    "collapsed": true
   },
   "outputs": [],
   "source": [
    "best_preds = grid_clf.predict(X_test)"
   ]
  },
  {
   "cell_type": "code",
   "execution_count": 7,
   "metadata": {},
   "outputs": [
    {
     "name": "stdout",
     "output_type": "stream",
     "text": [
      "Predicted    0    1  All\n",
      "Actual                  \n",
      "0          244   28  272\n",
      "1           47   81  128\n",
      "All        291  109  400\n"
     ]
    }
   ],
   "source": [
    "print(pd.crosstab(\n",
    "    pd.Series(Y_test, name='Actual'),\n",
    "    pd.Series(best_preds, name='Predicted'),\n",
    "    margins=True\n",
    "))"
   ]
  },
  {
   "cell_type": "code",
   "execution_count": 8,
   "metadata": {},
   "outputs": [
    {
     "name": "stdout",
     "output_type": "stream",
     "text": [
      "The accuracy of the model is 0.8125\n",
      "# Classification report \n",
      "              precision    recall  f1-score   support\n",
      "\n",
      "          0       0.84      0.90      0.87       272\n",
      "          1       0.74      0.63      0.68       128\n",
      "\n",
      "avg / total       0.81      0.81      0.81       400\n",
      "\n"
     ]
    }
   ],
   "source": [
    "from sklearn.metrics import accuracy_score, confusion_matrix, classification_report\n",
    "print('The accuracy of the model is {}'.format(accuracy_score(Y_test, best_preds)))\n",
    "print('# Classification report \\n {}'.format(classification_report(Y_test, best_preds)))"
   ]
  },
  {
   "cell_type": "markdown",
   "metadata": {},
   "source": [
    "## Use pos_sclae_weight_parameter"
   ]
  },
  {
   "cell_type": "code",
   "execution_count": 16,
   "metadata": {},
   "outputs": [
    {
     "name": "stdout",
     "output_type": "stream",
     "text": [
      "Predicted    0    1  All\n",
      "Actual                  \n",
      "0          213   59  272\n",
      "1           21  107  128\n",
      "All        234  166  400\n",
      "The accuracy of the model is 0.8\n",
      "# Classification report \n",
      "              precision    recall  f1-score   support\n",
      "\n",
      "          0       0.91      0.78      0.84       272\n",
      "          1       0.64      0.84      0.73       128\n",
      "\n",
      "avg / total       0.83      0.80      0.81       400\n",
      "\n"
     ]
    }
   ],
   "source": [
    "ratio = float(np.sum(Y_train.astype(int) == 0)/ np.sum(Y_train.astype(int)==1))\n",
    "\n",
    "XGBModel = XGBClassifier(base_score=0.5, booster='gbtree', colsample_bylevel=1,\n",
    "       colsample_bytree=1, gamma=0, learning_rate=0.1, max_delta_step=0,\n",
    "       max_depth=2, min_child_weight=1, missing=None, n_estimators=100,\n",
    "       n_jobs=1, nthread=None, objective='binary:logistic', random_state=random_state,\n",
    "       reg_alpha=0, reg_lambda=1, scale_pos_weight = ratio, seed=None,\n",
    "       silent=True, subsample=1)\n",
    "\n",
    "XGBModel.fit(X_train, Y_train.astype(int))\n",
    "best_preds = XGBModel.predict(X_test)\n",
    "\n",
    "print(pd.crosstab(\n",
    "    pd.Series(Y_test, name='Actual'),\n",
    "    pd.Series(best_preds, name='Predicted'),\n",
    "    margins=True\n",
    "))\n",
    "\n",
    "print('The accuracy of the model is {}'.format(accuracy_score(Y_test, best_preds)))\n",
    "print('# Classification report \\n {}'.format(classification_report(Y_test, best_preds)))"
   ]
  },
  {
   "cell_type": "markdown",
   "metadata": {},
   "source": [
    "### Custom weights"
   ]
  },
  {
   "cell_type": "code",
   "execution_count": 21,
   "metadata": {},
   "outputs": [
    {
     "name": "stdout",
     "output_type": "stream",
     "text": [
      "(400,)\n",
      "(400, 8)\n"
     ]
    }
   ],
   "source": [
    "new_y_train = np.zeros(len(Y_train))\n",
    "new_y_train[Y_train==0] = 1\n",
    "new_y_train[Y_train==1] = 3\n",
    "\n",
    "new_y_test = np.zeros(len(Y_test))\n",
    "new_y_test[Y_test==0] = 1\n",
    "new_y_test[Y_test==1] = 3\n",
    "\n",
    "print(np.shape(new_y_test))\n",
    "print(np.shape(X_test))"
   ]
  },
  {
   "cell_type": "code",
   "execution_count": 30,
   "metadata": {},
   "outputs": [
    {
     "name": "stdout",
     "output_type": "stream",
     "text": [
      "Predicted    0    1  All\n",
      "Actual                  \n",
      "0          190   82  272\n",
      "1            6  122  128\n",
      "All        196  204  400\n",
      "The accuracy of the model is 0.78\n",
      "# Classification report \n",
      "              precision    recall  f1-score   support\n",
      "\n",
      "          0       0.97      0.70      0.81       272\n",
      "          1       0.60      0.95      0.73       128\n",
      "\n",
      "avg / total       0.85      0.78      0.79       400\n",
      "\n"
     ]
    }
   ],
   "source": [
    "XGBModel = XGBClassifier(base_score=0.5, booster='gbtree', colsample_bylevel=1,\n",
    "       colsample_bytree=1, gamma=0, learning_rate=0.1, max_delta_step=0,\n",
    "       max_depth=2, min_child_weight=1, missing=None, n_estimators=100,\n",
    "       n_jobs=1, nthread=None, objective='binary:logistic', random_state=random_state,\n",
    "       reg_alpha=0, reg_lambda=1, scale_pos_weight = 3, seed=None,\n",
    "       silent=True, subsample=1)\n",
    "\n",
    "XGBModel.fit(X_train, Y_train.astype(int))\n",
    "best_preds = XGBModel.predict(X_test)\n",
    "\n",
    "print(pd.crosstab(\n",
    "    pd.Series(Y_test, name='Actual'),\n",
    "    pd.Series(best_preds, name='Predicted'),\n",
    "    margins=True\n",
    "))\n",
    "\n",
    "print('The accuracy of the model is {}'.format(accuracy_score(Y_test, best_preds)))\n",
    "print('# Classification report \\n {}'.format(classification_report(Y_test, best_preds)))"
   ]
  },
  {
   "cell_type": "markdown",
   "metadata": {},
   "source": [
    "## Important features :"
   ]
  },
  {
   "cell_type": "code",
   "execution_count": 36,
   "metadata": {},
   "outputs": [
    {
     "data": {
      "image/png": "[encoded data removed]",
      "text/plain": [
       "<matplotlib.figure.Figure at 0x10f66edd8>"
      ]
     },
     "metadata": {},
     "output_type": "display_data"
    }
   ],
   "source": [
    "from xgboost import plot_importance, plot_tree\n",
    "from matplotlib import pyplot\n",
    "\n",
    "# plot feature importance\n",
    "plot_importance(XGBModel)\n",
    "pyplot.show()"
   ]
  },
  {
   "cell_type": "code",
   "execution_count": 38,
   "metadata": {},
   "outputs": [
    {
     "data": {
      "text/plain": [
       "<matplotlib.axes._subplots.AxesSubplot at 0x1098d20b8>"
      ]
     },
     "execution_count": 38,
     "metadata": {},
     "output_type": "execute_result"
    },
    {
     "data": {
      "image/png": "[encoded data removed]",
      "text/plain": [
       "<matplotlib.figure.Figure at 0x10f687748>"
      ]
     },
     "metadata": {},
     "output_type": "display_data"
    }
   ],
   "source": [
    "plot_tree(XGBModel)"
   ]
  },
  {
   "cell_type": "code",
   "execution_count": null,
   "metadata": {
    "collapsed": true
   },
   "outputs": [],
   "source": []
  }
 ],
 "metadata": {
  "kernelspec": {
   "display_name": "Python 3",
   "language": "python",
   "name": "python3"
  },
  "language_info": {
   "codemirror_mode": {
    "name": "ipython",
    "version": 3
   },
   "file_extension": ".py",
   "mimetype": "text/x-python",
   "name": "python",
   "nbconvert_exporter": "python",
   "pygments_lexer": "ipython3",
   "version": "3.6.1"
  }
 },
 "nbformat": 4,
 "nbformat_minor": 2
}
