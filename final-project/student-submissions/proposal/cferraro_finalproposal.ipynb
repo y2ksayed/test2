{
 "cells": [
  {
   "cell_type": "code",
   "execution_count": 3,
   "metadata": {},
   "outputs": [],
   "source": [
    "#Final Project Proposal - CFerraro\n",
    "\n",
    "#Hypothesis/Assumptions\n",
    "\n",
    "    #Examining Indonesian import and export data from China and seeing if\n",
    "    #there is any predictive quality on the subsequent returns on the currency,\n",
    "    #especially during China growth shocks \n",
    "\n",
    "#Goals and Success Metrics\n",
    "\n",
    "    #Either find a suitable lag or leading time that does in fact give a reasonable\n",
    "    #prediction of currency moves, so a strategy that is right at least 60%\n",
    "    #of the time and has a win/loss ratio above 1 or a sharpe above 1\n",
    "\n",
    "#Risks or Limitations\n",
    "\n",
    "    #chance that there are many other variables affecting the currency moves\n",
    "    #such that the signal from the export/import data from china is lost\n",
    "    #there are some missing values in certain goods each month, so will need some\n",
    "    #sort of data imputation\n",
    "    #also, data might not go that far back in time, so limited sample size of\n",
    "    #said china growth shocks\n",
    "\n",
    "\n",
    "#Data Set\n",
    "\n",
    "    #I am still getting approval from my compliance to post the data set\n",
    "    #but i will post it as soon as i have it\n",
    "    \n",
    "    \n"
   ]
  },
  {
   "cell_type": "code",
   "execution_count": null,
   "metadata": {},
   "outputs": [],
   "source": []
  }
 ],
 "metadata": {
  "kernelspec": {
   "display_name": "Python 3",
   "language": "python",
   "name": "python3"
  },
  "language_info": {
   "codemirror_mode": {
    "name": "ipython",
    "version": 3
   },
   "file_extension": ".py",
   "mimetype": "text/x-python",
   "name": "python",
   "nbconvert_exporter": "python",
   "pygments_lexer": "ipython3",
   "version": "3.7.4"
  }
 },
 "nbformat": 4,
 "nbformat_minor": 2
}
